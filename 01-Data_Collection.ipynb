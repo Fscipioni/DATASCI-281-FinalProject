{
 "cells": [
  {
   "cell_type": "markdown",
   "id": "22e235b1-5018-48f8-a97e-96948817fcad",
   "metadata": {},
   "source": [
    "# **Exploratory Data Analysis**\n",
    "\n",
    "## **Project Rationale**\n",
    "\n",
    "**Introduction**\n",
    "In today’s multimedia-driven world, film posters serve not only as advertisements but also as visual representations of a movie’s theme and genre. Identifying a film’s genre based solely on its poster imagery has practical applications, such as automated indexing on streaming platforms and improving user recommendations.\n",
    "\n",
    "Our team is undertaking this project to deepen our understanding of practical image classification in real-world scenarios. By applying techniques —ranging from traditional feature extraction methods to modern deep learning approaches—we aim to build a robust classification pipeline capable of handling a challenging multi-genre task.\n",
    "\n",
    "## **This Notebook**\n",
    "\n",
    "In this notebook, we collect movie data through the following steps:\n",
    "- We use the [IMDb Non-commercial dataset](https://developer.imdb.com/non-commercial-datasets/) to select movies released between 2000 and 2024.\n",
    "- We make API calls to the [OMDB API](https://www.omdbapi.com) to retrieve metadata for the selected movies. Each record includes details such as title, release date, genre, and a URL to the movie poster image.\n",
    "- We download the movie posters as .jpg files using the provided URLs."
   ]
  },
  {
   "cell_type": "markdown",
   "id": "1b394808-750c-447c-b20f-5cfb2898244d",
   "metadata": {},
   "source": [
    "### **1.1 Import necessary libaries**"
   ]
  },
  {
   "cell_type": "code",
   "execution_count": 33,
   "id": "2fcd9425-9022-4009-adff-eccfb050c808",
   "metadata": {},
   "outputs": [],
   "source": [
    "import os\n",
    "import pandas as pd\n",
    "import requests\n",
    "from PIL import Image \n",
    "import pickle\n",
    "from tqdm import tqdm\n",
    "\n",
    "from config_loader import load_config_value\n",
    "openai_api_key = load_config_value(\"OPENAI_API_KEY\")\n",
    "omdb_key = load_config_value(\"OMDB_API_KEY\")"
   ]
  },
  {
   "cell_type": "markdown",
   "id": "c8cdf4ec-ee3c-4b5a-94af-5eace91d74d6",
   "metadata": {},
   "source": [
    "### **1.2 Import already existing dataset**\n",
    "This dataset includes movies from 2014 to 2024"
   ]
  },
  {
   "cell_type": "code",
   "execution_count": 5,
   "id": "a7a552aa-6352-4ff8-8f3f-1e706b0aa68c",
   "metadata": {},
   "outputs": [],
   "source": [
    "df = pd.read_csv('movies_dataset_final.csv')\n",
    "df.dropna(inplace=True, axis=0)\n",
    "df = df.reset_index(drop=True)\n",
    "df.drop('Unnamed: 0', inplace=True, axis=1)"
   ]
  },
  {
   "cell_type": "markdown",
   "id": "eb365431-6255-418c-8669-ee0f3fcc4540",
   "metadata": {},
   "source": [
    "### **1.3 Download additional data**\n",
    "We need to download additional data, from 2000 to 2013, to have a good representation of all movie genres."
   ]
  },
  {
   "cell_type": "code",
   "execution_count": 21,
   "id": "c5e1b6f3-d1d4-408f-bcd9-17fec771420d",
   "metadata": {},
   "outputs": [],
   "source": [
    "def collect_data_ids(basics_path, ratings_path):\n",
    "    \"\"\"\n",
    "    Filter IMDb datasets to collect movie IDs of interest.\n",
    "\n",
    "    Args:\n",
    "        basics_path (str): Path to the `title.basics.tsv` file.\n",
    "        ratings_path (str): Path to the `title.ratings.tsv` file.\n",
    "        \n",
    "    Returns:\n",
    "        List: A list containing the movie IDs.\n",
    "    \"\"\"\n",
    "    \n",
    "    \n",
    "    ### 1. Load and Filter `title.basics.tsv`\n",
    "    basics = pd.read_csv(basics_path, sep='\\t', low_memory=False)\n",
    "    basics_filtered = basics[\n",
    "        (basics['titleType'] == 'movie') & \n",
    "        (basics['isAdult'] == '0') & \n",
    "        (basics['startYear'].apply(lambda x: x.isdigit() and int(x) >= 2000 and int(x) < 2014))\n",
    "    ]\n",
    "\n",
    "    ### 2. Load and Filter `title.ratings.tsv`\n",
    "    ratings = pd.read_csv(ratings_path, sep='\\t', low_memory=False)\n",
    "    ratings_filtered = ratings[ratings['averageRating'] >= 7]\n",
    "\n",
    "    ### 3. Join Basics and Ratings on `tconst`\n",
    "    filtered_movies = basics_filtered.merge(ratings_filtered, on='tconst', how='inner')\n",
    "\n",
    "    ### 4. Get IMDb Movie IDs\n",
    "    filtered_ids = filtered_movies['tconst'].tolist()\n",
    "    movie_ids = list(set(filtered_ids))  # Ensure unique IDs\n",
    "\n",
    "    return movie_ids\n"
   ]
  },
  {
   "cell_type": "code",
   "execution_count": 23,
   "id": "129b091b-4b2d-4020-a356-5291945458ab",
   "metadata": {},
   "outputs": [],
   "source": [
    "basics_path = 'Data/IMDB_Dataset/title.basics.tsv'\n",
    "ratings_path = 'Data/IMDB_Dataset/title.ratings.tsv'\n",
    "\n",
    "movie_ids = collect_data_ids(basics_path, ratings_path)\n",
    "\n",
    "# Save the result to a .txt file\n",
    "with open('movie_ids_list.txt', 'w+') as f:\n",
    "    for id in movie_ids:\n",
    "         f.write('%s\\n' %str(id))\n",
    "\n",
    "f.close()"
   ]
  },
  {
   "cell_type": "code",
   "execution_count": 25,
   "id": "4aed622e-cbac-4263-a8b5-a7b77d70caa4",
   "metadata": {},
   "outputs": [],
   "source": [
    "def fetch_movie_data_from_omdb(movie_ids, api_key, save_path):\n",
    "    \"\"\"\n",
    "    Fetch movie information from the OMDB API based on IMDb movie IDs.\n",
    "    \n",
    "    If a pickle file exists, it resumes from where it left off.\n",
    "\n",
    "    Args:\n",
    "        movie_ids (list): List of filtered movie IDs.\n",
    "        api_key (str): Your OMDB API key.\n",
    "        save_path (str): Path to save progress as a pickle file.\n",
    "\n",
    "    Returns:\n",
    "        pd.DataFrame: A DataFrame containing the fetched movie information.\n",
    "    \"\"\"\n",
    "    \n",
    "    # Try loading previously saved progress\n",
    "    try:\n",
    "        with open(save_path, \"rb\") as f:\n",
    "            movie_data_list = pickle.load(f)\n",
    "            fetched_ids = {movie[\"imdb_id\"] for movie in movie_data_list}  # Track already fetched IDs\n",
    "            print(f\"Resuming from {len(movie_data_list)} movies...\")\n",
    "    except (FileNotFoundError, EOFError):\n",
    "        movie_data_list = []\n",
    "        fetched_ids = set()\n",
    "\n",
    "    # Fetch only missing movie IDs\n",
    "    remaining_ids = [m_id for m_id in movie_ids if m_id not in fetched_ids]\n",
    "\n",
    "    for movie_id in tqdm(remaining_ids, desc=\"Fetching movie data\"):\n",
    "        print(f\"Fetching data for movie ID {movie_id} from OMDb...\")\n",
    "        \n",
    "        url = f\"http://www.omdbapi.com/?apikey={api_key}&i={movie_id}&plot=full\"\n",
    "        response = requests.get(url)\n",
    "        \n",
    "        if response.status_code == 200:\n",
    "            movie_data = response.json()\n",
    "            \n",
    "            if movie_data.get(\"Response\", \"False\") == \"True\":\n",
    "                # Store relevant fields\n",
    "                movie_data_list.append({\n",
    "                    \"imdb_id\": movie_id,\n",
    "                    \"title\": movie_data.get(\"Title\", None),\n",
    "                    \"year\": movie_data.get(\"Year\", None),\n",
    "                    \"genre\": movie_data.get(\"Genre\", None),\n",
    "                    \"director\": movie_data.get(\"Director\", None),\n",
    "                    \"actors\": movie_data.get(\"Actors\", None),\n",
    "                    \"plot\": movie_data.get(\"Plot\", None),\n",
    "                    \"country\": movie_data.get(\"Country\", None),\n",
    "                    \"awards\": movie_data.get(\"Awards\", None),\n",
    "                    \"poster\": movie_data.get(\"Poster\", None),\n",
    "                    \"rating\": movie_data.get(\"imdbRating\", None),\n",
    "                    'metascore':movie_data.get(\"imdbRating\", None),\n",
    "                    \"votes\": movie_data.get(\"Metascore\", None),\n",
    "                    \"type\": movie_data.get(\"Type\", None)\n",
    "                })\n",
    "\n",
    "                # Save progress every 10 movies\n",
    "                if len(movie_data_list) % 100 == 0:\n",
    "                    with open(save_path, \"wb\") as f:\n",
    "                        pickle.dump(movie_data_list, f)\n",
    "                    print(f\"Progress saved after {len(movie_data_list)} movies.\")\n",
    "        else:\n",
    "            print(f\"Failed to fetch data for ID: {movie_id}, Status Code: {response.status_code}\")\n",
    "\n",
    "    # Final save after completion\n",
    "    with open(save_path, \"wb\") as f:\n",
    "        pickle.dump(movie_data_list, f)\n",
    "    print(\"Final dataset saved!\")\n",
    "\n",
    "    # Convert to DataFrame and return\n",
    "    movie_df = pd.DataFrame(movie_data_list)\n",
    "    return movie_df"
   ]
  },
  {
   "cell_type": "code",
   "execution_count": 39,
   "id": "447faf37-772b-49bb-9e95-67849a253bd4",
   "metadata": {},
   "outputs": [
    {
     "name": "stdout",
     "output_type": "stream",
     "text": [
      "Resuming from 22600 movies...\n"
     ]
    },
    {
     "name": "stderr",
     "output_type": "stream",
     "text": [
      "Fetching movie data:   0%|                     | 1/3591 [00:00<07:11,  8.31it/s]"
     ]
    },
    {
     "name": "stdout",
     "output_type": "stream",
     "text": [
      "Fetching data for movie ID tt29456494 from OMDb...\n",
      "Fetching data for movie ID tt2783878 from OMDb...\n"
     ]
    },
    {
     "name": "stderr",
     "output_type": "stream",
     "text": [
      "Fetching movie data:   0%|                     | 2/3591 [00:00<06:45,  8.85it/s]"
     ]
    },
    {
     "name": "stdout",
     "output_type": "stream",
     "text": [
      "Fetching data for movie ID tt4164468 from OMDb...\n",
      "Fetching data for movie ID tt0183659 from OMDb...\n"
     ]
    },
    {
     "name": "stderr",
     "output_type": "stream",
     "text": [
      "Fetching movie data:   0%|                     | 5/3591 [00:00<08:05,  7.39it/s]"
     ]
    },
    {
     "name": "stdout",
     "output_type": "stream",
     "text": [
      "Fetching data for movie ID tt1337117 from OMDb...\n",
      "Fetching data for movie ID tt2211290 from OMDb...\n"
     ]
    },
    {
     "name": "stderr",
     "output_type": "stream",
     "text": [
      "Fetching movie data:   0%|                     | 7/3591 [00:00<08:08,  7.34it/s]"
     ]
    },
    {
     "name": "stdout",
     "output_type": "stream",
     "text": [
      "Fetching data for movie ID tt0482379 from OMDb...\n",
      "Fetching data for movie ID tt0306203 from OMDb...\n"
     ]
    },
    {
     "name": "stderr",
     "output_type": "stream",
     "text": [
      "Fetching movie data:   0%|                     | 9/3591 [00:01<06:52,  8.69it/s]"
     ]
    },
    {
     "name": "stdout",
     "output_type": "stream",
     "text": [
      "Fetching data for movie ID tt0373848 from OMDb...\n",
      "Fetching data for movie ID tt0468094 from OMDb...\n",
      "Fetching data for movie ID tt0278792 from OMDb...\n"
     ]
    },
    {
     "name": "stderr",
     "output_type": "stream",
     "text": [
      "Fetching movie data:   0%|                    | 11/3591 [00:01<06:00,  9.94it/s]"
     ]
    },
    {
     "name": "stdout",
     "output_type": "stream",
     "text": [
      "Fetching data for movie ID tt0425160 from OMDb...\n",
      "Fetching data for movie ID tt2822626 from OMDb...\n"
     ]
    },
    {
     "name": "stderr",
     "output_type": "stream",
     "text": [
      "Fetching movie data:   0%|                    | 15/3591 [00:01<05:40, 10.50it/s]"
     ]
    },
    {
     "name": "stdout",
     "output_type": "stream",
     "text": [
      "Fetching data for movie ID tt0462499 from OMDb...\n",
      "Fetching data for movie ID tt1202516 from OMDb...\n",
      "Fetching data for movie ID tt2245756 from OMDb...\n"
     ]
    },
    {
     "name": "stderr",
     "output_type": "stream",
     "text": [
      "Fetching movie data:   0%|                    | 17/3591 [00:01<05:30, 10.82it/s]"
     ]
    },
    {
     "name": "stdout",
     "output_type": "stream",
     "text": [
      "Fetching data for movie ID tt1423935 from OMDb...\n",
      "Fetching data for movie ID tt0335345 from OMDb...\n",
      "Fetching data for movie ID tt1392088 from OMDb...\n"
     ]
    },
    {
     "name": "stderr",
     "output_type": "stream",
     "text": [
      "Fetching movie data:   1%|                    | 21/3591 [00:02<05:40, 10.47it/s]"
     ]
    },
    {
     "name": "stdout",
     "output_type": "stream",
     "text": [
      "Fetching data for movie ID tt0407263 from OMDb...\n",
      "Fetching data for movie ID tt0421662 from OMDb...\n",
      "Fetching data for movie ID tt1334541 from OMDb...\n"
     ]
    },
    {
     "name": "stderr",
     "output_type": "stream",
     "text": [
      "Fetching movie data:   1%|▏                   | 23/3591 [00:02<05:27, 10.89it/s]"
     ]
    },
    {
     "name": "stdout",
     "output_type": "stream",
     "text": [
      "Fetching data for movie ID tt1465483 from OMDb...\n",
      "Fetching data for movie ID tt1773790 from OMDb...\n"
     ]
    },
    {
     "name": "stderr",
     "output_type": "stream",
     "text": [
      "Fetching movie data:   1%|▏                   | 25/3591 [00:02<05:45, 10.33it/s]"
     ]
    },
    {
     "name": "stdout",
     "output_type": "stream",
     "text": [
      "Fetching data for movie ID tt1560617 from OMDb...\n",
      "Fetching data for movie ID tt2434618 from OMDb...\n",
      "Fetching data for movie ID tt2917962 from OMDb...\n"
     ]
    },
    {
     "name": "stderr",
     "output_type": "stream",
     "text": [
      "Fetching movie data:   1%|▏                   | 27/3591 [00:02<05:34, 10.66it/s]"
     ]
    },
    {
     "name": "stdout",
     "output_type": "stream",
     "text": [
      "Fetching data for movie ID tt1890349 from OMDb...\n",
      "Fetching data for movie ID tt2274358 from OMDb...\n"
     ]
    },
    {
     "name": "stderr",
     "output_type": "stream",
     "text": [
      "Fetching movie data:   1%|▏                   | 30/3591 [00:03<08:25,  7.05it/s]"
     ]
    },
    {
     "name": "stdout",
     "output_type": "stream",
     "text": [
      "Fetching data for movie ID tt2504404 from OMDb...\n",
      "Fetching data for movie ID tt1754509 from OMDb...\n"
     ]
    },
    {
     "name": "stderr",
     "output_type": "stream",
     "text": [
      "Fetching movie data:   1%|▏                   | 32/3591 [00:03<09:04,  6.53it/s]"
     ]
    },
    {
     "name": "stdout",
     "output_type": "stream",
     "text": [
      "Fetching data for movie ID tt1663692 from OMDb...\n",
      "Fetching data for movie ID tt3119050 from OMDb...\n"
     ]
    },
    {
     "name": "stderr",
     "output_type": "stream",
     "text": [
      "Fetching movie data:   1%|▏                   | 34/3591 [00:04<09:42,  6.11it/s]"
     ]
    },
    {
     "name": "stdout",
     "output_type": "stream",
     "text": [
      "Fetching data for movie ID tt1577072 from OMDb...\n",
      "Fetching data for movie ID tt1380807 from OMDb...\n"
     ]
    },
    {
     "name": "stderr",
     "output_type": "stream",
     "text": [
      "Fetching movie data:   1%|▏                   | 36/3591 [00:04<09:48,  6.04it/s]"
     ]
    },
    {
     "name": "stdout",
     "output_type": "stream",
     "text": [
      "Fetching data for movie ID tt1876248 from OMDb...\n",
      "Fetching data for movie ID tt1337720 from OMDb...\n"
     ]
    },
    {
     "name": "stderr",
     "output_type": "stream",
     "text": [
      "Fetching movie data:   1%|▏                   | 38/3591 [00:04<10:11,  5.81it/s]"
     ]
    },
    {
     "name": "stdout",
     "output_type": "stream",
     "text": [
      "Fetching data for movie ID tt2048718 from OMDb...\n",
      "Fetching data for movie ID tt2006722 from OMDb...\n"
     ]
    },
    {
     "name": "stderr",
     "output_type": "stream",
     "text": [
      "Fetching movie data:   1%|▏                   | 40/3591 [00:05<10:23,  5.70it/s]"
     ]
    },
    {
     "name": "stdout",
     "output_type": "stream",
     "text": [
      "Fetching data for movie ID tt3118664 from OMDb...\n",
      "Fetching data for movie ID tt1356779 from OMDb...\n"
     ]
    },
    {
     "name": "stderr",
     "output_type": "stream",
     "text": [
      "Fetching movie data:   1%|▏                   | 42/3591 [00:05<10:50,  5.46it/s]"
     ]
    },
    {
     "name": "stdout",
     "output_type": "stream",
     "text": [
      "Fetching data for movie ID tt1172222 from OMDb...\n",
      "Fetching data for movie ID tt3092552 from OMDb...\n"
     ]
    },
    {
     "name": "stderr",
     "output_type": "stream",
     "text": [
      "Fetching movie data:   1%|▏                   | 44/3591 [00:05<10:32,  5.61it/s]"
     ]
    },
    {
     "name": "stdout",
     "output_type": "stream",
     "text": [
      "Fetching data for movie ID tt0371022 from OMDb...\n",
      "Fetching data for movie ID tt1337436 from OMDb...\n"
     ]
    },
    {
     "name": "stderr",
     "output_type": "stream",
     "text": [
      "Fetching movie data:   1%|▎                   | 46/3591 [00:06<10:05,  5.86it/s]"
     ]
    },
    {
     "name": "stdout",
     "output_type": "stream",
     "text": [
      "Fetching data for movie ID tt2070738 from OMDb...\n",
      "Fetching data for movie ID tt0436746 from OMDb...\n"
     ]
    },
    {
     "name": "stderr",
     "output_type": "stream",
     "text": [
      "Fetching movie data:   1%|▎                   | 48/3591 [00:06<09:55,  5.95it/s]"
     ]
    },
    {
     "name": "stdout",
     "output_type": "stream",
     "text": [
      "Fetching data for movie ID tt0482221 from OMDb...\n",
      "Fetching data for movie ID tt2928172 from OMDb...\n"
     ]
    },
    {
     "name": "stderr",
     "output_type": "stream",
     "text": [
      "Fetching movie data:   1%|▎                   | 50/3591 [00:06<10:28,  5.63it/s]"
     ]
    },
    {
     "name": "stdout",
     "output_type": "stream",
     "text": [
      "Fetching data for movie ID tt0374038 from OMDb...\n",
      "Fetching data for movie ID tt2551492 from OMDb...\n"
     ]
    },
    {
     "name": "stderr",
     "output_type": "stream",
     "text": [
      "Fetching movie data:   1%|▎                   | 52/3591 [00:07<10:16,  5.74it/s]"
     ]
    },
    {
     "name": "stdout",
     "output_type": "stream",
     "text": [
      "Fetching data for movie ID tt6447878 from OMDb...\n",
      "Fetching data for movie ID tt1667853 from OMDb...\n"
     ]
    },
    {
     "name": "stderr",
     "output_type": "stream",
     "text": [
      "Fetching movie data:   2%|▎                   | 54/3591 [00:07<09:39,  6.10it/s]"
     ]
    },
    {
     "name": "stdout",
     "output_type": "stream",
     "text": [
      "Fetching data for movie ID tt2866388 from OMDb...\n",
      "Fetching data for movie ID tt1803190 from OMDb...\n"
     ]
    },
    {
     "name": "stderr",
     "output_type": "stream",
     "text": [
      "Fetching movie data:   2%|▎                   | 56/3591 [00:07<10:38,  5.54it/s]"
     ]
    },
    {
     "name": "stdout",
     "output_type": "stream",
     "text": [
      "Fetching data for movie ID tt11554412 from OMDb...\n",
      "Fetching data for movie ID tt0448113 from OMDb...\n"
     ]
    },
    {
     "name": "stderr",
     "output_type": "stream",
     "text": [
      "Fetching movie data:   2%|▎                   | 58/3591 [00:08<10:05,  5.84it/s]"
     ]
    },
    {
     "name": "stdout",
     "output_type": "stream",
     "text": [
      "Fetching data for movie ID tt0476735 from OMDb...\n",
      "Fetching data for movie ID tt2704972 from OMDb...\n"
     ]
    },
    {
     "name": "stderr",
     "output_type": "stream",
     "text": [
      "Fetching movie data:   2%|▎                   | 60/3591 [00:08<09:33,  6.15it/s]"
     ]
    },
    {
     "name": "stdout",
     "output_type": "stream",
     "text": [
      "Fetching data for movie ID tt1197505 from OMDb...\n",
      "Fetching data for movie ID tt1566185 from OMDb...\n"
     ]
    },
    {
     "name": "stderr",
     "output_type": "stream",
     "text": [
      "Fetching movie data:   2%|▎                   | 62/3591 [00:08<10:25,  5.65it/s]"
     ]
    },
    {
     "name": "stdout",
     "output_type": "stream",
     "text": [
      "Fetching data for movie ID tt1665722 from OMDb...\n",
      "Fetching data for movie ID tt0410516 from OMDb...\n"
     ]
    },
    {
     "name": "stderr",
     "output_type": "stream",
     "text": [
      "Fetching movie data:   2%|▎                   | 64/3591 [00:09<10:46,  5.46it/s]"
     ]
    },
    {
     "name": "stdout",
     "output_type": "stream",
     "text": [
      "Fetching data for movie ID tt1045880 from OMDb...\n",
      "Fetching data for movie ID tt0225518 from OMDb...\n"
     ]
    },
    {
     "name": "stderr",
     "output_type": "stream",
     "text": [
      "Fetching movie data:   2%|▎                   | 66/3591 [00:09<10:51,  5.41it/s]"
     ]
    },
    {
     "name": "stdout",
     "output_type": "stream",
     "text": [
      "Fetching data for movie ID tt1372682 from OMDb...\n",
      "Fetching data for movie ID tt0338151 from OMDb...\n"
     ]
    },
    {
     "name": "stderr",
     "output_type": "stream",
     "text": [
      "Fetching movie data:   2%|▍                   | 68/3591 [00:10<10:27,  5.62it/s]"
     ]
    },
    {
     "name": "stdout",
     "output_type": "stream",
     "text": [
      "Fetching data for movie ID tt0384004 from OMDb...\n",
      "Fetching data for movie ID tt1342911 from OMDb...\n"
     ]
    },
    {
     "name": "stderr",
     "output_type": "stream",
     "text": [
      "Fetching movie data:   2%|▍                   | 69/3591 [00:10<10:41,  5.49it/s]"
     ]
    },
    {
     "name": "stdout",
     "output_type": "stream",
     "text": [
      "Fetching data for movie ID tt1051231 from OMDb...\n"
     ]
    },
    {
     "name": "stderr",
     "output_type": "stream",
     "text": [
      "Fetching movie data:   2%|▍                   | 71/3591 [00:10<11:15,  5.21it/s]"
     ]
    },
    {
     "name": "stdout",
     "output_type": "stream",
     "text": [
      "Fetching data for movie ID tt2304426 from OMDb...\n",
      "Fetching data for movie ID tt0790784 from OMDb...\n"
     ]
    },
    {
     "name": "stderr",
     "output_type": "stream",
     "text": [
      "Fetching movie data:   2%|▍                   | 73/3591 [00:11<11:44,  4.99it/s]"
     ]
    },
    {
     "name": "stdout",
     "output_type": "stream",
     "text": [
      "Fetching data for movie ID tt2689428 from OMDb...\n",
      "Fetching data for movie ID tt2514542 from OMDb...\n"
     ]
    },
    {
     "name": "stderr",
     "output_type": "stream",
     "text": [
      "Fetching movie data:   2%|▍                   | 75/3591 [00:11<10:49,  5.41it/s]"
     ]
    },
    {
     "name": "stdout",
     "output_type": "stream",
     "text": [
      "Fetching data for movie ID tt0293007 from OMDb...\n",
      "Fetching data for movie ID tt1003113 from OMDb...\n"
     ]
    },
    {
     "name": "stderr",
     "output_type": "stream",
     "text": [
      "Fetching movie data:   2%|▍                   | 77/3591 [00:11<10:13,  5.73it/s]"
     ]
    },
    {
     "name": "stdout",
     "output_type": "stream",
     "text": [
      "Fetching data for movie ID tt1954768 from OMDb...\n",
      "Fetching data for movie ID tt0247745 from OMDb...\n"
     ]
    },
    {
     "name": "stderr",
     "output_type": "stream",
     "text": [
      "Fetching movie data:   2%|▍                   | 79/3591 [00:12<09:44,  6.01it/s]"
     ]
    },
    {
     "name": "stdout",
     "output_type": "stream",
     "text": [
      "Fetching data for movie ID tt1003074 from OMDb...\n",
      "Fetching data for movie ID tt1599369 from OMDb...\n"
     ]
    },
    {
     "name": "stderr",
     "output_type": "stream",
     "text": [
      "Fetching movie data:   2%|▍                   | 81/3591 [00:12<10:23,  5.63it/s]"
     ]
    },
    {
     "name": "stdout",
     "output_type": "stream",
     "text": [
      "Fetching data for movie ID tt0849454 from OMDb...\n",
      "Fetching data for movie ID tt0274497 from OMDb...\n"
     ]
    },
    {
     "name": "stderr",
     "output_type": "stream",
     "text": [
      "Fetching movie data:   2%|▍                   | 82/3591 [00:12<10:15,  5.70it/s]"
     ]
    },
    {
     "name": "stdout",
     "output_type": "stream",
     "text": [
      "Fetching data for movie ID tt0485947 from OMDb...\n"
     ]
    },
    {
     "name": "stderr",
     "output_type": "stream",
     "text": [
      "Fetching movie data:   2%|▍                   | 84/3591 [00:13<11:08,  5.25it/s]"
     ]
    },
    {
     "name": "stdout",
     "output_type": "stream",
     "text": [
      "Fetching data for movie ID tt1566201 from OMDb...\n",
      "Fetching data for movie ID tt1472541 from OMDb...\n"
     ]
    },
    {
     "name": "stderr",
     "output_type": "stream",
     "text": [
      "Fetching movie data:   2%|▍                   | 86/3591 [00:13<10:43,  5.45it/s]"
     ]
    },
    {
     "name": "stdout",
     "output_type": "stream",
     "text": [
      "Fetching data for movie ID tt0425274 from OMDb...\n",
      "Fetching data for movie ID tt1144544 from OMDb...\n"
     ]
    },
    {
     "name": "stderr",
     "output_type": "stream",
     "text": [
      "Fetching movie data:   2%|▍                   | 88/3591 [00:13<10:04,  5.79it/s]"
     ]
    },
    {
     "name": "stdout",
     "output_type": "stream",
     "text": [
      "Fetching data for movie ID tt3315204 from OMDb...\n",
      "Fetching data for movie ID tt1352406 from OMDb...\n"
     ]
    },
    {
     "name": "stderr",
     "output_type": "stream",
     "text": [
      "Fetching movie data:   2%|▍                   | 89/3591 [00:13<10:12,  5.72it/s]"
     ]
    },
    {
     "name": "stdout",
     "output_type": "stream",
     "text": [
      "Fetching data for movie ID tt1748178 from OMDb...\n"
     ]
    },
    {
     "name": "stderr",
     "output_type": "stream",
     "text": [
      "Fetching movie data:   3%|▌                   | 91/3591 [00:14<11:40,  5.00it/s]"
     ]
    },
    {
     "name": "stdout",
     "output_type": "stream",
     "text": [
      "Fetching data for movie ID tt14067688 from OMDb...\n",
      "Fetching data for movie ID tt1838507 from OMDb...\n"
     ]
    },
    {
     "name": "stderr",
     "output_type": "stream",
     "text": [
      "Fetching movie data:   3%|▌                   | 93/3591 [00:14<11:05,  5.26it/s]"
     ]
    },
    {
     "name": "stdout",
     "output_type": "stream",
     "text": [
      "Fetching data for movie ID tt0427582 from OMDb...\n",
      "Fetching data for movie ID tt2245025 from OMDb...\n"
     ]
    },
    {
     "name": "stderr",
     "output_type": "stream",
     "text": [
      "Fetching movie data:   3%|▌                   | 95/3591 [00:15<10:11,  5.71it/s]"
     ]
    },
    {
     "name": "stdout",
     "output_type": "stream",
     "text": [
      "Fetching data for movie ID tt0831348 from OMDb...\n",
      "Fetching data for movie ID tt1815767 from OMDb...\n"
     ]
    },
    {
     "name": "stderr",
     "output_type": "stream",
     "text": [
      "Fetching movie data:   3%|▌                   | 97/3591 [00:15<09:22,  6.21it/s]"
     ]
    },
    {
     "name": "stdout",
     "output_type": "stream",
     "text": [
      "Fetching data for movie ID tt1865291 from OMDb...\n",
      "Fetching data for movie ID tt6481234 from OMDb...\n"
     ]
    },
    {
     "name": "stderr",
     "output_type": "stream",
     "text": [
      "Fetching movie data:   3%|▌                   | 98/3591 [00:15<08:44,  6.67it/s]"
     ]
    },
    {
     "name": "stdout",
     "output_type": "stream",
     "text": [
      "Fetching data for movie ID tt1213838 from OMDb...\n"
     ]
    },
    {
     "name": "stderr",
     "output_type": "stream",
     "text": [
      "Fetching movie data:   3%|▌                  | 100/3591 [00:15<10:23,  5.60it/s]"
     ]
    },
    {
     "name": "stdout",
     "output_type": "stream",
     "text": [
      "Fetching data for movie ID tt1073241 from OMDb...\n",
      "Fetching data for movie ID tt0248912 from OMDb...\n"
     ]
    },
    {
     "name": "stderr",
     "output_type": "stream",
     "text": [
      "Fetching movie data:   3%|▌                  | 102/3591 [00:16<11:21,  5.12it/s]"
     ]
    },
    {
     "name": "stdout",
     "output_type": "stream",
     "text": [
      "Progress saved after 22700 movies.\n",
      "Fetching data for movie ID tt0374132 from OMDb...\n",
      "Fetching data for movie ID tt1065109 from OMDb...\n"
     ]
    },
    {
     "name": "stderr",
     "output_type": "stream",
     "text": [
      "Fetching movie data:   3%|▌                  | 103/3591 [00:16<11:01,  5.28it/s]"
     ]
    },
    {
     "name": "stdout",
     "output_type": "stream",
     "text": [
      "Fetching data for movie ID tt2117857 from OMDb...\n"
     ]
    },
    {
     "name": "stderr",
     "output_type": "stream",
     "text": [
      "Fetching movie data:   3%|▌                  | 105/3591 [00:17<11:55,  4.87it/s]"
     ]
    },
    {
     "name": "stdout",
     "output_type": "stream",
     "text": [
      "Fetching data for movie ID tt2513396 from OMDb...\n",
      "Fetching data for movie ID tt0467138 from OMDb...\n"
     ]
    },
    {
     "name": "stderr",
     "output_type": "stream",
     "text": [
      "Fetching movie data:   3%|▌                  | 107/3591 [00:17<11:06,  5.23it/s]"
     ]
    },
    {
     "name": "stdout",
     "output_type": "stream",
     "text": [
      "Fetching data for movie ID tt2450480 from OMDb...\n",
      "Fetching data for movie ID tt0384875 from OMDb...\n"
     ]
    },
    {
     "name": "stderr",
     "output_type": "stream",
     "text": [
      "Fetching movie data:   3%|▌                  | 109/3591 [00:17<11:00,  5.27it/s]"
     ]
    },
    {
     "name": "stdout",
     "output_type": "stream",
     "text": [
      "Fetching data for movie ID tt2608700 from OMDb...\n",
      "Fetching data for movie ID tt0419806 from OMDb...\n"
     ]
    },
    {
     "name": "stderr",
     "output_type": "stream",
     "text": [
      "Fetching movie data:   3%|▌                  | 111/3591 [00:18<10:47,  5.37it/s]"
     ]
    },
    {
     "name": "stdout",
     "output_type": "stream",
     "text": [
      "Fetching data for movie ID tt14332752 from OMDb...\n",
      "Fetching data for movie ID tt0803004 from OMDb...\n"
     ]
    },
    {
     "name": "stderr",
     "output_type": "stream",
     "text": [
      "Fetching movie data:   3%|▌                  | 113/3591 [00:18<09:59,  5.80it/s]"
     ]
    },
    {
     "name": "stdout",
     "output_type": "stream",
     "text": [
      "Fetching data for movie ID tt2139915 from OMDb...\n",
      "Fetching data for movie ID tt8045334 from OMDb...\n"
     ]
    },
    {
     "name": "stderr",
     "output_type": "stream",
     "text": [
      "Fetching movie data:   3%|▌                  | 115/3591 [00:18<10:11,  5.68it/s]"
     ]
    },
    {
     "name": "stdout",
     "output_type": "stream",
     "text": [
      "Fetching data for movie ID tt2070837 from OMDb...\n",
      "Fetching data for movie ID tt0295550 from OMDb...\n"
     ]
    },
    {
     "name": "stderr",
     "output_type": "stream",
     "text": [
      "Fetching movie data:   3%|▌                  | 117/3591 [00:19<10:07,  5.71it/s]"
     ]
    },
    {
     "name": "stdout",
     "output_type": "stream",
     "text": [
      "Fetching data for movie ID tt2721758 from OMDb...\n",
      "Fetching data for movie ID tt0284492 from OMDb...\n"
     ]
    },
    {
     "name": "stderr",
     "output_type": "stream",
     "text": [
      "Fetching movie data:   3%|▋                  | 119/3591 [00:19<09:52,  5.86it/s]"
     ]
    },
    {
     "name": "stdout",
     "output_type": "stream",
     "text": [
      "Fetching data for movie ID tt2332754 from OMDb...\n",
      "Fetching data for movie ID tt1570982 from OMDb...\n"
     ]
    },
    {
     "name": "stderr",
     "output_type": "stream",
     "text": [
      "Fetching movie data:   3%|▋                  | 120/3591 [00:19<09:53,  5.85it/s]"
     ]
    },
    {
     "name": "stdout",
     "output_type": "stream",
     "text": [
      "Fetching data for movie ID tt1608182 from OMDb...\n"
     ]
    },
    {
     "name": "stderr",
     "output_type": "stream",
     "text": [
      "Fetching movie data:   3%|▋                  | 121/3591 [00:19<10:27,  5.53it/s]"
     ]
    },
    {
     "name": "stdout",
     "output_type": "stream",
     "text": [
      "Fetching data for movie ID tt4367172 from OMDb...\n"
     ]
    },
    {
     "name": "stderr",
     "output_type": "stream",
     "text": [
      "Fetching movie data:   3%|▋                  | 123/3591 [00:20<09:36,  6.02it/s]"
     ]
    },
    {
     "name": "stdout",
     "output_type": "stream",
     "text": [
      "Fetching data for movie ID tt14338478 from OMDb...\n",
      "Fetching data for movie ID tt1043491 from OMDb...\n"
     ]
    },
    {
     "name": "stderr",
     "output_type": "stream",
     "text": [
      "Fetching movie data:   3%|▋                  | 125/3591 [00:20<09:23,  6.15it/s]"
     ]
    },
    {
     "name": "stdout",
     "output_type": "stream",
     "text": [
      "Fetching data for movie ID tt0388318 from OMDb...\n",
      "Fetching data for movie ID tt2971372 from OMDb...\n"
     ]
    },
    {
     "name": "stderr",
     "output_type": "stream",
     "text": [
      "Fetching movie data:   4%|▋                  | 126/3591 [00:20<09:24,  6.14it/s]"
     ]
    },
    {
     "name": "stdout",
     "output_type": "stream",
     "text": [
      "Fetching data for movie ID tt0818667 from OMDb...\n"
     ]
    },
    {
     "name": "stderr",
     "output_type": "stream",
     "text": [
      "Fetching movie data:   4%|▋                  | 128/3591 [00:21<10:00,  5.76it/s]"
     ]
    },
    {
     "name": "stdout",
     "output_type": "stream",
     "text": [
      "Fetching data for movie ID tt2123927 from OMDb...\n",
      "Fetching data for movie ID tt0445771 from OMDb...\n"
     ]
    },
    {
     "name": "stderr",
     "output_type": "stream",
     "text": [
      "Fetching movie data:   4%|▋                  | 130/3591 [00:21<10:29,  5.50it/s]"
     ]
    },
    {
     "name": "stdout",
     "output_type": "stream",
     "text": [
      "Fetching data for movie ID tt0892082 from OMDb...\n",
      "Fetching data for movie ID tt3056704 from OMDb...\n"
     ]
    },
    {
     "name": "stderr",
     "output_type": "stream",
     "text": [
      "Fetching movie data:   4%|▋                  | 132/3591 [00:21<10:44,  5.37it/s]"
     ]
    },
    {
     "name": "stdout",
     "output_type": "stream",
     "text": [
      "Fetching data for movie ID tt2360270 from OMDb...\n",
      "Fetching data for movie ID tt1310664 from OMDb...\n"
     ]
    },
    {
     "name": "stderr",
     "output_type": "stream",
     "text": [
      "Fetching movie data:   4%|▋                  | 134/3591 [00:22<10:48,  5.33it/s]"
     ]
    },
    {
     "name": "stdout",
     "output_type": "stream",
     "text": [
      "Fetching data for movie ID tt1659342 from OMDb...\n",
      "Fetching data for movie ID tt0342275 from OMDb...\n"
     ]
    },
    {
     "name": "stderr",
     "output_type": "stream",
     "text": [
      "Fetching movie data:   4%|▋                  | 135/3591 [00:22<10:08,  5.68it/s]"
     ]
    },
    {
     "name": "stdout",
     "output_type": "stream",
     "text": [
      "Fetching data for movie ID tt1405445 from OMDb...\n"
     ]
    },
    {
     "name": "stderr",
     "output_type": "stream",
     "text": [
      "Fetching movie data:   4%|▋                  | 137/3591 [00:22<10:28,  5.49it/s]"
     ]
    },
    {
     "name": "stdout",
     "output_type": "stream",
     "text": [
      "Fetching data for movie ID tt1245741 from OMDb...\n",
      "Fetching data for movie ID tt1669566 from OMDb...\n"
     ]
    },
    {
     "name": "stderr",
     "output_type": "stream",
     "text": [
      "Fetching movie data:   4%|▋                  | 138/3591 [00:22<09:33,  6.02it/s]"
     ]
    },
    {
     "name": "stdout",
     "output_type": "stream",
     "text": [
      "Fetching data for movie ID tt0989765 from OMDb...\n"
     ]
    },
    {
     "name": "stderr",
     "output_type": "stream",
     "text": [
      "Fetching movie data:   4%|▋                  | 140/3591 [00:23<10:50,  5.30it/s]"
     ]
    },
    {
     "name": "stdout",
     "output_type": "stream",
     "text": [
      "Fetching data for movie ID tt2104852 from OMDb...\n",
      "Fetching data for movie ID tt1371619 from OMDb...\n"
     ]
    },
    {
     "name": "stderr",
     "output_type": "stream",
     "text": [
      "Fetching movie data:   4%|▊                  | 142/3591 [00:23<10:16,  5.59it/s]"
     ]
    },
    {
     "name": "stdout",
     "output_type": "stream",
     "text": [
      "Fetching data for movie ID tt1616504 from OMDb...\n",
      "Fetching data for movie ID tt0310281 from OMDb...\n"
     ]
    },
    {
     "name": "stderr",
     "output_type": "stream",
     "text": [
      "Fetching movie data:   4%|▊                  | 144/3591 [00:23<10:29,  5.48it/s]"
     ]
    },
    {
     "name": "stdout",
     "output_type": "stream",
     "text": [
      "Fetching data for movie ID tt1338567 from OMDb...\n",
      "Fetching data for movie ID tt0267439 from OMDb...\n"
     ]
    },
    {
     "name": "stderr",
     "output_type": "stream",
     "text": [
      "Fetching movie data:   4%|▊                  | 146/3591 [00:24<10:09,  5.65it/s]"
     ]
    },
    {
     "name": "stdout",
     "output_type": "stream",
     "text": [
      "Fetching data for movie ID tt2273227 from OMDb...\n",
      "Fetching data for movie ID tt0790748 from OMDb...\n"
     ]
    },
    {
     "name": "stderr",
     "output_type": "stream",
     "text": [
      "Fetching movie data:   4%|▊                  | 148/3591 [00:24<09:21,  6.13it/s]"
     ]
    },
    {
     "name": "stdout",
     "output_type": "stream",
     "text": [
      "Fetching data for movie ID tt1226774 from OMDb...\n",
      "Fetching data for movie ID tt0875702 from OMDb...\n"
     ]
    },
    {
     "name": "stderr",
     "output_type": "stream",
     "text": [
      "Fetching movie data:   4%|▊                  | 149/3591 [00:24<09:51,  5.82it/s]"
     ]
    },
    {
     "name": "stdout",
     "output_type": "stream",
     "text": [
      "Fetching data for movie ID tt1152830 from OMDb...\n"
     ]
    },
    {
     "name": "stderr",
     "output_type": "stream",
     "text": [
      "Fetching movie data:   4%|▊                  | 151/3591 [00:25<10:17,  5.57it/s]"
     ]
    },
    {
     "name": "stdout",
     "output_type": "stream",
     "text": [
      "Fetching data for movie ID tt2118609 from OMDb...\n",
      "Fetching data for movie ID tt2488490 from OMDb...\n"
     ]
    },
    {
     "name": "stderr",
     "output_type": "stream",
     "text": [
      "Fetching movie data:   4%|▊                  | 152/3591 [00:25<10:23,  5.52it/s]"
     ]
    },
    {
     "name": "stdout",
     "output_type": "stream",
     "text": [
      "Fetching data for movie ID tt0994731 from OMDb...\n"
     ]
    },
    {
     "name": "stderr",
     "output_type": "stream",
     "text": [
      "Fetching movie data:   4%|▊                  | 154/3591 [00:25<10:16,  5.58it/s]"
     ]
    },
    {
     "name": "stdout",
     "output_type": "stream",
     "text": [
      "Fetching data for movie ID tt1491047 from OMDb...\n",
      "Fetching data for movie ID tt1123411 from OMDb...\n"
     ]
    },
    {
     "name": "stderr",
     "output_type": "stream",
     "text": [
      "Fetching movie data:   4%|▊                  | 156/3591 [00:26<09:54,  5.77it/s]"
     ]
    },
    {
     "name": "stdout",
     "output_type": "stream",
     "text": [
      "Fetching data for movie ID tt1697922 from OMDb...\n",
      "Fetching data for movie ID tt0390336 from OMDb...\n"
     ]
    },
    {
     "name": "stderr",
     "output_type": "stream",
     "text": [
      "Fetching movie data:   4%|▊                  | 158/3591 [00:26<10:07,  5.65it/s]"
     ]
    },
    {
     "name": "stdout",
     "output_type": "stream",
     "text": [
      "Fetching data for movie ID tt1427689 from OMDb...\n",
      "Fetching data for movie ID tt1664634 from OMDb...\n"
     ]
    },
    {
     "name": "stderr",
     "output_type": "stream",
     "text": [
      "Fetching movie data:   4%|▊                  | 160/3591 [00:26<09:33,  5.98it/s]"
     ]
    },
    {
     "name": "stdout",
     "output_type": "stream",
     "text": [
      "Fetching data for movie ID tt3434326 from OMDb...\n",
      "Fetching data for movie ID tt1350513 from OMDb...\n"
     ]
    },
    {
     "name": "stderr",
     "output_type": "stream",
     "text": [
      "Fetching movie data:   4%|▊                  | 161/3591 [00:26<09:33,  5.99it/s]"
     ]
    },
    {
     "name": "stdout",
     "output_type": "stream",
     "text": [
      "Fetching data for movie ID tt0453979 from OMDb...\n"
     ]
    },
    {
     "name": "stderr",
     "output_type": "stream",
     "text": [
      "Fetching movie data:   5%|▊                  | 163/3591 [00:27<10:21,  5.52it/s]"
     ]
    },
    {
     "name": "stdout",
     "output_type": "stream",
     "text": [
      "Fetching data for movie ID tt1808359 from OMDb...\n",
      "Fetching data for movie ID tt1553080 from OMDb...\n"
     ]
    },
    {
     "name": "stderr",
     "output_type": "stream",
     "text": [
      "Fetching movie data:   5%|▊                  | 165/3591 [00:27<10:55,  5.23it/s]"
     ]
    },
    {
     "name": "stdout",
     "output_type": "stream",
     "text": [
      "Fetching data for movie ID tt2865074 from OMDb...\n",
      "Fetching data for movie ID tt0948462 from OMDb...\n"
     ]
    },
    {
     "name": "stderr",
     "output_type": "stream",
     "text": [
      "Fetching movie data:   5%|▉                  | 167/3591 [00:28<09:59,  5.71it/s]"
     ]
    },
    {
     "name": "stdout",
     "output_type": "stream",
     "text": [
      "Fetching data for movie ID tt1327933 from OMDb...\n",
      "Fetching data for movie ID tt0494201 from OMDb...\n"
     ]
    },
    {
     "name": "stderr",
     "output_type": "stream",
     "text": [
      "Fetching movie data:   5%|▉                  | 169/3591 [00:28<09:24,  6.06it/s]"
     ]
    },
    {
     "name": "stdout",
     "output_type": "stream",
     "text": [
      "Fetching data for movie ID tt1745790 from OMDb...\n",
      "Fetching data for movie ID tt2910458 from OMDb...\n"
     ]
    },
    {
     "name": "stderr",
     "output_type": "stream",
     "text": [
      "Fetching movie data:   5%|▉                  | 171/3591 [00:28<09:50,  5.79it/s]"
     ]
    },
    {
     "name": "stdout",
     "output_type": "stream",
     "text": [
      "Fetching data for movie ID tt1293813 from OMDb...\n",
      "Fetching data for movie ID tt0435757 from OMDb...\n"
     ]
    },
    {
     "name": "stderr",
     "output_type": "stream",
     "text": [
      "Fetching movie data:   5%|▉                  | 173/3591 [00:29<09:43,  5.86it/s]"
     ]
    },
    {
     "name": "stdout",
     "output_type": "stream",
     "text": [
      "Fetching data for movie ID tt1563777 from OMDb...\n",
      "Fetching data for movie ID tt2260058 from OMDb...\n"
     ]
    },
    {
     "name": "stderr",
     "output_type": "stream",
     "text": [
      "Fetching movie data:   5%|▉                  | 175/3591 [00:29<09:30,  5.99it/s]"
     ]
    },
    {
     "name": "stdout",
     "output_type": "stream",
     "text": [
      "Fetching data for movie ID tt1606180 from OMDb...\n",
      "Fetching data for movie ID tt0313920 from OMDb...\n"
     ]
    },
    {
     "name": "stderr",
     "output_type": "stream",
     "text": [
      "Fetching movie data:   5%|▉                  | 177/3591 [00:29<09:57,  5.71it/s]"
     ]
    },
    {
     "name": "stdout",
     "output_type": "stream",
     "text": [
      "Fetching data for movie ID tt0238639 from OMDb...\n",
      "Fetching data for movie ID tt2006897 from OMDb...\n"
     ]
    },
    {
     "name": "stderr",
     "output_type": "stream",
     "text": [
      "Fetching movie data:   5%|▉                  | 179/3591 [00:30<09:07,  6.23it/s]"
     ]
    },
    {
     "name": "stdout",
     "output_type": "stream",
     "text": [
      "Fetching data for movie ID tt1098226 from OMDb...\n",
      "Fetching data for movie ID tt0422263 from OMDb...\n"
     ]
    },
    {
     "name": "stderr",
     "output_type": "stream",
     "text": [
      "Fetching movie data:   5%|▉                  | 181/3591 [00:30<09:57,  5.71it/s]"
     ]
    },
    {
     "name": "stdout",
     "output_type": "stream",
     "text": [
      "Fetching data for movie ID tt3057718 from OMDb...\n",
      "Fetching data for movie ID tt2104908 from OMDb...\n"
     ]
    },
    {
     "name": "stderr",
     "output_type": "stream",
     "text": [
      "Fetching movie data:   5%|▉                  | 183/3591 [00:30<10:09,  5.60it/s]"
     ]
    },
    {
     "name": "stdout",
     "output_type": "stream",
     "text": [
      "Fetching data for movie ID tt0436441 from OMDb...\n",
      "Fetching data for movie ID tt0426508 from OMDb...\n"
     ]
    },
    {
     "name": "stderr",
     "output_type": "stream",
     "text": [
      "Fetching movie data:   5%|▉                  | 185/3591 [00:31<09:58,  5.69it/s]"
     ]
    },
    {
     "name": "stdout",
     "output_type": "stream",
     "text": [
      "Fetching data for movie ID tt2248816 from OMDb...\n",
      "Fetching data for movie ID tt1774499 from OMDb...\n"
     ]
    },
    {
     "name": "stderr",
     "output_type": "stream",
     "text": [
      "Fetching movie data:   5%|▉                  | 187/3591 [00:31<09:44,  5.82it/s]"
     ]
    },
    {
     "name": "stdout",
     "output_type": "stream",
     "text": [
      "Fetching data for movie ID tt0204382 from OMDb...\n",
      "Fetching data for movie ID tt1478848 from OMDb...\n"
     ]
    },
    {
     "name": "stderr",
     "output_type": "stream",
     "text": [
      "Fetching movie data:   5%|█                  | 189/3591 [00:31<09:58,  5.69it/s]"
     ]
    },
    {
     "name": "stdout",
     "output_type": "stream",
     "text": [
      "Fetching data for movie ID tt2762768 from OMDb...\n",
      "Fetching data for movie ID tt3122654 from OMDb...\n"
     ]
    },
    {
     "name": "stderr",
     "output_type": "stream",
     "text": [
      "Fetching movie data:   5%|█                  | 191/3591 [00:32<09:30,  5.96it/s]"
     ]
    },
    {
     "name": "stdout",
     "output_type": "stream",
     "text": [
      "Fetching data for movie ID tt2046099 from OMDb...\n",
      "Fetching data for movie ID tt1194661 from OMDb...\n"
     ]
    },
    {
     "name": "stderr",
     "output_type": "stream",
     "text": [
      "Fetching movie data:   5%|█                  | 193/3591 [00:32<10:00,  5.65it/s]"
     ]
    },
    {
     "name": "stdout",
     "output_type": "stream",
     "text": [
      "Fetching data for movie ID tt2709336 from OMDb...\n",
      "Fetching data for movie ID tt0455562 from OMDb...\n"
     ]
    },
    {
     "name": "stderr",
     "output_type": "stream",
     "text": [
      "Fetching movie data:   5%|█                  | 195/3591 [00:32<10:07,  5.59it/s]"
     ]
    },
    {
     "name": "stdout",
     "output_type": "stream",
     "text": [
      "Fetching data for movie ID tt0988065 from OMDb...\n",
      "Fetching data for movie ID tt0440725 from OMDb...\n"
     ]
    },
    {
     "name": "stderr",
     "output_type": "stream",
     "text": [
      "Fetching movie data:   5%|█                  | 196/3591 [00:33<10:03,  5.63it/s]"
     ]
    },
    {
     "name": "stdout",
     "output_type": "stream",
     "text": [
      "Fetching data for movie ID tt4598004 from OMDb...\n"
     ]
    },
    {
     "name": "stderr",
     "output_type": "stream",
     "text": [
      "Fetching movie data:   6%|█                  | 198/3591 [00:33<10:20,  5.47it/s]"
     ]
    },
    {
     "name": "stdout",
     "output_type": "stream",
     "text": [
      "Fetching data for movie ID tt0382519 from OMDb...\n",
      "Fetching data for movie ID tt1997594 from OMDb...\n"
     ]
    },
    {
     "name": "stderr",
     "output_type": "stream",
     "text": [
      "Fetching movie data:   6%|█                  | 199/3591 [00:33<10:15,  5.51it/s]"
     ]
    },
    {
     "name": "stdout",
     "output_type": "stream",
     "text": [
      "Fetching data for movie ID tt0476462 from OMDb...\n"
     ]
    },
    {
     "name": "stderr",
     "output_type": "stream",
     "text": [
      "Fetching movie data:   6%|█                  | 200/3591 [00:33<12:32,  4.51it/s]"
     ]
    },
    {
     "name": "stdout",
     "output_type": "stream",
     "text": [
      "Fetching data for movie ID tt1613735 from OMDb...\n"
     ]
    },
    {
     "name": "stderr",
     "output_type": "stream",
     "text": [
      "Fetching movie data:   6%|█                  | 202/3591 [00:34<11:24,  4.95it/s]"
     ]
    },
    {
     "name": "stdout",
     "output_type": "stream",
     "text": [
      "Progress saved after 22800 movies.\n",
      "Fetching data for movie ID tt2556710 from OMDb...\n",
      "Fetching data for movie ID tt1661420 from OMDb...\n"
     ]
    },
    {
     "name": "stderr",
     "output_type": "stream",
     "text": [
      "Fetching movie data:   6%|█                  | 204/3591 [00:34<10:36,  5.32it/s]"
     ]
    },
    {
     "name": "stdout",
     "output_type": "stream",
     "text": [
      "Fetching data for movie ID tt0294802 from OMDb...\n",
      "Fetching data for movie ID tt2393825 from OMDb...\n"
     ]
    },
    {
     "name": "stderr",
     "output_type": "stream",
     "text": [
      "Fetching movie data:   6%|█                  | 206/3591 [00:35<09:55,  5.68it/s]"
     ]
    },
    {
     "name": "stdout",
     "output_type": "stream",
     "text": [
      "Fetching data for movie ID tt1372711 from OMDb...\n",
      "Fetching data for movie ID tt3539342 from OMDb...\n"
     ]
    },
    {
     "name": "stderr",
     "output_type": "stream",
     "text": [
      "Fetching movie data:   6%|█                  | 208/3591 [00:35<09:25,  5.99it/s]"
     ]
    },
    {
     "name": "stdout",
     "output_type": "stream",
     "text": [
      "Fetching data for movie ID tt0493224 from OMDb...\n",
      "Fetching data for movie ID tt1590073 from OMDb...\n"
     ]
    },
    {
     "name": "stderr",
     "output_type": "stream",
     "text": [
      "Fetching movie data:   6%|█                  | 210/3591 [00:35<09:26,  5.97it/s]"
     ]
    },
    {
     "name": "stdout",
     "output_type": "stream",
     "text": [
      "Fetching data for movie ID tt2375767 from OMDb...\n",
      "Fetching data for movie ID tt1715831 from OMDb...\n"
     ]
    },
    {
     "name": "stderr",
     "output_type": "stream",
     "text": [
      "Fetching movie data:   6%|█                  | 212/3591 [00:35<08:16,  6.81it/s]"
     ]
    },
    {
     "name": "stdout",
     "output_type": "stream",
     "text": [
      "Fetching data for movie ID tt2071479 from OMDb...\n",
      "Fetching data for movie ID tt2878060 from OMDb...\n"
     ]
    },
    {
     "name": "stderr",
     "output_type": "stream",
     "text": [
      "Fetching movie data:   6%|█▏                 | 214/3591 [00:36<10:19,  5.45it/s]"
     ]
    },
    {
     "name": "stdout",
     "output_type": "stream",
     "text": [
      "Fetching data for movie ID tt0982917 from OMDb...\n",
      "Fetching data for movie ID tt1312081 from OMDb...\n"
     ]
    },
    {
     "name": "stderr",
     "output_type": "stream",
     "text": [
      "Fetching movie data:   6%|█▏                 | 216/3591 [00:36<10:12,  5.51it/s]"
     ]
    },
    {
     "name": "stdout",
     "output_type": "stream",
     "text": [
      "Fetching data for movie ID tt2194633 from OMDb...\n",
      "Fetching data for movie ID tt1677548 from OMDb...\n"
     ]
    },
    {
     "name": "stderr",
     "output_type": "stream",
     "text": [
      "Fetching movie data:   6%|█▏                 | 218/3591 [00:37<10:18,  5.45it/s]"
     ]
    },
    {
     "name": "stdout",
     "output_type": "stream",
     "text": [
      "Fetching data for movie ID tt1286526 from OMDb...\n",
      "Fetching data for movie ID tt2444632 from OMDb...\n"
     ]
    },
    {
     "name": "stderr",
     "output_type": "stream",
     "text": [
      "Fetching movie data:   6%|█▏                 | 220/3591 [00:37<09:54,  5.67it/s]"
     ]
    },
    {
     "name": "stdout",
     "output_type": "stream",
     "text": [
      "Fetching data for movie ID tt0321376 from OMDb...\n",
      "Fetching data for movie ID tt2130009 from OMDb...\n"
     ]
    },
    {
     "name": "stderr",
     "output_type": "stream",
     "text": [
      "Fetching movie data:   6%|█▏                 | 222/3591 [00:37<09:31,  5.90it/s]"
     ]
    },
    {
     "name": "stdout",
     "output_type": "stream",
     "text": [
      "Fetching data for movie ID tt1316089 from OMDb...\n",
      "Fetching data for movie ID tt0339278 from OMDb...\n"
     ]
    },
    {
     "name": "stderr",
     "output_type": "stream",
     "text": [
      "Fetching movie data:   6%|█▏                 | 223/3591 [00:37<09:04,  6.19it/s]"
     ]
    },
    {
     "name": "stdout",
     "output_type": "stream",
     "text": [
      "Fetching data for movie ID tt0469223 from OMDb...\n"
     ]
    },
    {
     "name": "stderr",
     "output_type": "stream",
     "text": [
      "Fetching movie data:   6%|█▏                 | 225/3591 [00:38<09:01,  6.22it/s]"
     ]
    },
    {
     "name": "stdout",
     "output_type": "stream",
     "text": [
      "Fetching data for movie ID tt12759416 from OMDb...\n",
      "Fetching data for movie ID tt0485127 from OMDb...\n"
     ]
    },
    {
     "name": "stderr",
     "output_type": "stream",
     "text": [
      "Fetching movie data:   6%|█▏                 | 226/3591 [00:38<09:12,  6.09it/s]"
     ]
    },
    {
     "name": "stdout",
     "output_type": "stream",
     "text": [
      "Fetching data for movie ID tt1311713 from OMDb...\n"
     ]
    },
    {
     "name": "stderr",
     "output_type": "stream",
     "text": [
      "Fetching movie data:   6%|█▏                 | 228/3591 [00:38<09:35,  5.85it/s]"
     ]
    },
    {
     "name": "stdout",
     "output_type": "stream",
     "text": [
      "Fetching data for movie ID tt6456004 from OMDb...\n",
      "Fetching data for movie ID tt2078660 from OMDb...\n"
     ]
    },
    {
     "name": "stderr",
     "output_type": "stream",
     "text": [
      "Fetching movie data:   6%|█▏                 | 229/3591 [00:38<09:22,  5.98it/s]"
     ]
    },
    {
     "name": "stdout",
     "output_type": "stream",
     "text": [
      "Fetching data for movie ID tt1534452 from OMDb...\n"
     ]
    },
    {
     "name": "stderr",
     "output_type": "stream",
     "text": [
      "Fetching movie data:   6%|█▏                 | 231/3591 [00:39<10:06,  5.54it/s]"
     ]
    },
    {
     "name": "stdout",
     "output_type": "stream",
     "text": [
      "Fetching data for movie ID tt2330691 from OMDb...\n",
      "Fetching data for movie ID tt2969656 from OMDb...\n"
     ]
    },
    {
     "name": "stderr",
     "output_type": "stream",
     "text": [
      "Fetching movie data:   6%|█▏                 | 232/3591 [00:39<09:11,  6.09it/s]"
     ]
    },
    {
     "name": "stdout",
     "output_type": "stream",
     "text": [
      "Fetching data for movie ID tt2250650 from OMDb...\n"
     ]
    },
    {
     "name": "stderr",
     "output_type": "stream",
     "text": [
      "Fetching movie data:   7%|█▏                 | 234/3591 [00:39<09:58,  5.61it/s]"
     ]
    },
    {
     "name": "stdout",
     "output_type": "stream",
     "text": [
      "Fetching data for movie ID tt8938678 from OMDb...\n",
      "Fetching data for movie ID tt0824289 from OMDb...\n"
     ]
    },
    {
     "name": "stderr",
     "output_type": "stream",
     "text": [
      "Fetching movie data:   7%|█▏                 | 235/3591 [00:40<09:00,  6.21it/s]"
     ]
    },
    {
     "name": "stdout",
     "output_type": "stream",
     "text": [
      "Fetching data for movie ID tt0482512 from OMDb...\n"
     ]
    },
    {
     "name": "stderr",
     "output_type": "stream",
     "text": [
      "Fetching movie data:   7%|█▎                 | 237/3591 [00:40<09:55,  5.63it/s]"
     ]
    },
    {
     "name": "stdout",
     "output_type": "stream",
     "text": [
      "Fetching data for movie ID tt1509282 from OMDb...\n",
      "Fetching data for movie ID tt1233609 from OMDb...\n"
     ]
    },
    {
     "name": "stderr",
     "output_type": "stream",
     "text": [
      "Fetching movie data:   7%|█▎                 | 238/3591 [00:40<09:33,  5.85it/s]"
     ]
    },
    {
     "name": "stdout",
     "output_type": "stream",
     "text": [
      "Fetching data for movie ID tt1213855 from OMDb...\n"
     ]
    },
    {
     "name": "stderr",
     "output_type": "stream",
     "text": [
      "Fetching movie data:   7%|█▎                 | 240/3591 [00:40<09:55,  5.63it/s]"
     ]
    },
    {
     "name": "stdout",
     "output_type": "stream",
     "text": [
      "Fetching data for movie ID tt6710486 from OMDb...\n",
      "Fetching data for movie ID tt2803920 from OMDb...\n"
     ]
    },
    {
     "name": "stderr",
     "output_type": "stream",
     "text": [
      "Fetching movie data:   7%|█▎                 | 241/3591 [00:41<09:28,  5.89it/s]"
     ]
    },
    {
     "name": "stdout",
     "output_type": "stream",
     "text": [
      "Fetching data for movie ID tt1742106 from OMDb...\n"
     ]
    },
    {
     "name": "stderr",
     "output_type": "stream",
     "text": [
      "Fetching movie data:   7%|█▎                 | 243/3591 [00:41<09:10,  6.08it/s]"
     ]
    },
    {
     "name": "stdout",
     "output_type": "stream",
     "text": [
      "Fetching data for movie ID tt0270035 from OMDb...\n",
      "Fetching data for movie ID tt0267062 from OMDb...\n"
     ]
    },
    {
     "name": "stderr",
     "output_type": "stream",
     "text": [
      "Fetching movie data:   7%|█▎                 | 245/3591 [00:41<08:45,  6.36it/s]"
     ]
    },
    {
     "name": "stdout",
     "output_type": "stream",
     "text": [
      "Fetching data for movie ID tt1964965 from OMDb...\n",
      "Fetching data for movie ID tt1052041 from OMDb...\n"
     ]
    },
    {
     "name": "stderr",
     "output_type": "stream",
     "text": [
      "Fetching movie data:   7%|█▎                 | 247/3591 [00:42<10:01,  5.56it/s]"
     ]
    },
    {
     "name": "stdout",
     "output_type": "stream",
     "text": [
      "Fetching data for movie ID tt1015246 from OMDb...\n",
      "Fetching data for movie ID tt1175285 from OMDb...\n"
     ]
    },
    {
     "name": "stderr",
     "output_type": "stream",
     "text": [
      "Fetching movie data:   7%|█▎                 | 249/3591 [00:42<10:07,  5.51it/s]"
     ]
    },
    {
     "name": "stdout",
     "output_type": "stream",
     "text": [
      "Fetching data for movie ID tt0421044 from OMDb...\n",
      "Fetching data for movie ID tt1497880 from OMDb...\n"
     ]
    },
    {
     "name": "stderr",
     "output_type": "stream",
     "text": [
      "Fetching movie data:   7%|█▎                 | 250/3591 [00:42<09:23,  5.93it/s]"
     ]
    },
    {
     "name": "stdout",
     "output_type": "stream",
     "text": [
      "Fetching data for movie ID tt0483591 from OMDb...\n"
     ]
    },
    {
     "name": "stderr",
     "output_type": "stream",
     "text": [
      "Fetching movie data:   7%|█▎                 | 252/3591 [00:43<10:32,  5.28it/s]"
     ]
    },
    {
     "name": "stdout",
     "output_type": "stream",
     "text": [
      "Fetching data for movie ID tt1172948 from OMDb...\n",
      "Fetching data for movie ID tt0211279 from OMDb...\n"
     ]
    },
    {
     "name": "stderr",
     "output_type": "stream",
     "text": [
      "Fetching movie data:   7%|█▎                 | 253/3591 [00:43<10:11,  5.45it/s]"
     ]
    },
    {
     "name": "stdout",
     "output_type": "stream",
     "text": [
      "Fetching data for movie ID tt7984848 from OMDb...\n"
     ]
    },
    {
     "name": "stderr",
     "output_type": "stream",
     "text": [
      "Fetching movie data:   7%|█▎                 | 255/3591 [00:43<10:19,  5.39it/s]"
     ]
    },
    {
     "name": "stdout",
     "output_type": "stream",
     "text": [
      "Fetching data for movie ID tt0456027 from OMDb...\n",
      "Fetching data for movie ID tt2207655 from OMDb...\n"
     ]
    },
    {
     "name": "stderr",
     "output_type": "stream",
     "text": [
      "Fetching movie data:   7%|█▎                 | 257/3591 [00:44<10:53,  5.10it/s]"
     ]
    },
    {
     "name": "stdout",
     "output_type": "stream",
     "text": [
      "Fetching data for movie ID tt0491082 from OMDb...\n",
      "Fetching data for movie ID tt0816258 from OMDb...\n"
     ]
    },
    {
     "name": "stderr",
     "output_type": "stream",
     "text": [
      "Fetching movie data:   7%|█▎                 | 259/3591 [00:44<10:21,  5.36it/s]"
     ]
    },
    {
     "name": "stdout",
     "output_type": "stream",
     "text": [
      "Fetching data for movie ID tt2156759 from OMDb...\n",
      "Fetching data for movie ID tt2385904 from OMDb...\n"
     ]
    },
    {
     "name": "stderr",
     "output_type": "stream",
     "text": [
      "Fetching movie data:   7%|█▍                 | 261/3591 [00:44<09:48,  5.66it/s]"
     ]
    },
    {
     "name": "stdout",
     "output_type": "stream",
     "text": [
      "Fetching data for movie ID tt0472115 from OMDb...\n",
      "Fetching data for movie ID tt2317696 from OMDb...\n"
     ]
    },
    {
     "name": "stderr",
     "output_type": "stream",
     "text": [
      "Fetching movie data:   7%|█▍                 | 263/3591 [00:45<09:07,  6.08it/s]"
     ]
    },
    {
     "name": "stdout",
     "output_type": "stream",
     "text": [
      "Fetching data for movie ID tt2155337 from OMDb...\n",
      "Fetching data for movie ID tt1865477 from OMDb...\n"
     ]
    },
    {
     "name": "stderr",
     "output_type": "stream",
     "text": [
      "Fetching movie data:   7%|█▍                 | 264/3591 [00:45<09:09,  6.06it/s]"
     ]
    },
    {
     "name": "stdout",
     "output_type": "stream",
     "text": [
      "Fetching data for movie ID tt2022410 from OMDb...\n"
     ]
    },
    {
     "name": "stderr",
     "output_type": "stream",
     "text": [
      "Fetching movie data:   7%|█▍                 | 265/3591 [00:45<10:08,  5.47it/s]"
     ]
    },
    {
     "name": "stdout",
     "output_type": "stream",
     "text": [
      "Fetching data for movie ID tt1215472 from OMDb...\n"
     ]
    },
    {
     "name": "stderr",
     "output_type": "stream",
     "text": [
      "Fetching movie data:   7%|█▍                 | 266/3591 [00:45<10:42,  5.17it/s]"
     ]
    },
    {
     "name": "stdout",
     "output_type": "stream",
     "text": [
      "Fetching data for movie ID tt2056567 from OMDb...\n"
     ]
    },
    {
     "name": "stderr",
     "output_type": "stream",
     "text": [
      "Fetching movie data:   7%|█▍                 | 268/3591 [00:46<11:45,  4.71it/s]"
     ]
    },
    {
     "name": "stdout",
     "output_type": "stream",
     "text": [
      "Fetching data for movie ID tt2191675 from OMDb...\n",
      "Fetching data for movie ID tt2103163 from OMDb...\n"
     ]
    },
    {
     "name": "stderr",
     "output_type": "stream",
     "text": [
      "Fetching movie data:   8%|█▍                 | 270/3591 [00:46<10:34,  5.24it/s]"
     ]
    },
    {
     "name": "stdout",
     "output_type": "stream",
     "text": [
      "Fetching data for movie ID tt0328308 from OMDb...\n",
      "Fetching data for movie ID tt1191128 from OMDb...\n"
     ]
    },
    {
     "name": "stderr",
     "output_type": "stream",
     "text": [
      "Fetching movie data:   8%|█▍                 | 272/3591 [00:46<09:28,  5.84it/s]"
     ]
    },
    {
     "name": "stdout",
     "output_type": "stream",
     "text": [
      "Fetching data for movie ID tt1949526 from OMDb...\n",
      "Fetching data for movie ID tt1543733 from OMDb...\n"
     ]
    },
    {
     "name": "stderr",
     "output_type": "stream",
     "text": [
      "Fetching movie data:   8%|█▍                 | 274/3591 [00:47<10:00,  5.52it/s]"
     ]
    },
    {
     "name": "stdout",
     "output_type": "stream",
     "text": [
      "Fetching data for movie ID tt0901487 from OMDb...\n",
      "Fetching data for movie ID tt1064746 from OMDb...\n"
     ]
    },
    {
     "name": "stderr",
     "output_type": "stream",
     "text": [
      "Fetching movie data:   8%|█▍                 | 276/3591 [00:47<09:34,  5.77it/s]"
     ]
    },
    {
     "name": "stdout",
     "output_type": "stream",
     "text": [
      "Fetching data for movie ID tt0425470 from OMDb...\n",
      "Fetching data for movie ID tt2413106 from OMDb...\n"
     ]
    },
    {
     "name": "stderr",
     "output_type": "stream",
     "text": [
      "Fetching movie data:   8%|█▍                 | 278/3591 [00:47<09:07,  6.05it/s]"
     ]
    },
    {
     "name": "stdout",
     "output_type": "stream",
     "text": [
      "Fetching data for movie ID tt0400585 from OMDb...\n",
      "Fetching data for movie ID tt2476214 from OMDb...\n"
     ]
    },
    {
     "name": "stderr",
     "output_type": "stream",
     "text": [
      "Fetching movie data:   8%|█▍                 | 280/3591 [00:48<09:42,  5.68it/s]"
     ]
    },
    {
     "name": "stdout",
     "output_type": "stream",
     "text": [
      "Fetching data for movie ID tt0808543 from OMDb...\n",
      "Fetching data for movie ID tt0824767 from OMDb...\n"
     ]
    },
    {
     "name": "stderr",
     "output_type": "stream",
     "text": [
      "Fetching movie data:   8%|█▍                 | 281/3591 [00:48<09:25,  5.85it/s]"
     ]
    },
    {
     "name": "stdout",
     "output_type": "stream",
     "text": [
      "Fetching data for movie ID tt3415656 from OMDb...\n"
     ]
    },
    {
     "name": "stderr",
     "output_type": "stream",
     "text": [
      "Fetching movie data:   8%|█▍                 | 283/3591 [00:48<09:17,  5.94it/s]"
     ]
    },
    {
     "name": "stdout",
     "output_type": "stream",
     "text": [
      "Fetching data for movie ID tt3503004 from OMDb...\n",
      "Fetching data for movie ID tt0382330 from OMDb...\n"
     ]
    },
    {
     "name": "stderr",
     "output_type": "stream",
     "text": [
      "Fetching movie data:   8%|█▌                 | 285/3591 [00:49<09:54,  5.56it/s]"
     ]
    },
    {
     "name": "stdout",
     "output_type": "stream",
     "text": [
      "Fetching data for movie ID tt2860720 from OMDb...\n",
      "Fetching data for movie ID tt7365012 from OMDb...\n"
     ]
    },
    {
     "name": "stderr",
     "output_type": "stream",
     "text": [
      "Fetching movie data:   8%|█▌                 | 287/3591 [00:49<09:43,  5.66it/s]"
     ]
    },
    {
     "name": "stdout",
     "output_type": "stream",
     "text": [
      "Fetching data for movie ID tt3456350 from OMDb...\n",
      "Fetching data for movie ID tt13702074 from OMDb...\n"
     ]
    },
    {
     "name": "stderr",
     "output_type": "stream",
     "text": [
      "Fetching movie data:   8%|█▌                 | 289/3591 [00:49<09:22,  5.87it/s]"
     ]
    },
    {
     "name": "stdout",
     "output_type": "stream",
     "text": [
      "Fetching data for movie ID tt1464592 from OMDb...\n",
      "Fetching data for movie ID tt2120779 from OMDb...\n"
     ]
    },
    {
     "name": "stderr",
     "output_type": "stream",
     "text": [
      "Fetching movie data:   8%|█▌                 | 290/3591 [00:50<09:55,  5.54it/s]"
     ]
    },
    {
     "name": "stdout",
     "output_type": "stream",
     "text": [
      "Fetching data for movie ID tt1403243 from OMDb...\n"
     ]
    },
    {
     "name": "stderr",
     "output_type": "stream",
     "text": [
      "Fetching movie data:   8%|█▌                 | 292/3591 [00:50<10:19,  5.32it/s]"
     ]
    },
    {
     "name": "stdout",
     "output_type": "stream",
     "text": [
      "Fetching data for movie ID tt0398067 from OMDb...\n",
      "Fetching data for movie ID tt2040562 from OMDb...\n"
     ]
    },
    {
     "name": "stderr",
     "output_type": "stream",
     "text": [
      "Fetching movie data:   8%|█▌                 | 293/3591 [00:50<10:07,  5.43it/s]"
     ]
    },
    {
     "name": "stdout",
     "output_type": "stream",
     "text": [
      "Fetching data for movie ID tt1791576 from OMDb...\n"
     ]
    },
    {
     "name": "stderr",
     "output_type": "stream",
     "text": [
      "Fetching movie data:   8%|█▌                 | 295/3591 [00:51<10:35,  5.18it/s]"
     ]
    },
    {
     "name": "stdout",
     "output_type": "stream",
     "text": [
      "Fetching data for movie ID tt4158590 from OMDb...\n",
      "Fetching data for movie ID tt1723645 from OMDb...\n"
     ]
    },
    {
     "name": "stderr",
     "output_type": "stream",
     "text": [
      "Fetching movie data:   8%|█▌                 | 297/3591 [00:51<09:31,  5.77it/s]"
     ]
    },
    {
     "name": "stdout",
     "output_type": "stream",
     "text": [
      "Fetching data for movie ID tt0247196 from OMDb...\n",
      "Fetching data for movie ID tt1326825 from OMDb...\n"
     ]
    },
    {
     "name": "stderr",
     "output_type": "stream",
     "text": [
      "Fetching movie data:   8%|█▌                 | 298/3591 [00:51<09:24,  5.83it/s]"
     ]
    },
    {
     "name": "stdout",
     "output_type": "stream",
     "text": [
      "Fetching data for movie ID tt2016194 from OMDb...\n"
     ]
    },
    {
     "name": "stderr",
     "output_type": "stream",
     "text": [
      "Fetching movie data:   8%|█▌                 | 300/3591 [00:51<09:58,  5.49it/s]"
     ]
    },
    {
     "name": "stdout",
     "output_type": "stream",
     "text": [
      "Fetching data for movie ID tt0274708 from OMDb...\n",
      "Fetching data for movie ID tt2342065 from OMDb...\n"
     ]
    },
    {
     "name": "stderr",
     "output_type": "stream",
     "text": [
      "Fetching movie data:   8%|█▌                 | 302/3591 [00:52<09:40,  5.67it/s]"
     ]
    },
    {
     "name": "stdout",
     "output_type": "stream",
     "text": [
      "Progress saved after 22900 movies.\n",
      "Fetching data for movie ID tt5378288 from OMDb...\n",
      "Fetching data for movie ID tt3231100 from OMDb...\n"
     ]
    },
    {
     "name": "stderr",
     "output_type": "stream",
     "text": [
      "Fetching movie data:   8%|█▌                 | 304/3591 [00:52<08:57,  6.12it/s]"
     ]
    },
    {
     "name": "stdout",
     "output_type": "stream",
     "text": [
      "Fetching data for movie ID tt0471291 from OMDb...\n",
      "Fetching data for movie ID tt6500014 from OMDb...\n"
     ]
    },
    {
     "name": "stderr",
     "output_type": "stream",
     "text": [
      "Fetching movie data:   9%|█▌                 | 306/3591 [00:52<09:34,  5.72it/s]"
     ]
    },
    {
     "name": "stdout",
     "output_type": "stream",
     "text": [
      "Fetching data for movie ID tt1358885 from OMDb...\n",
      "Fetching data for movie ID tt2384958 from OMDb...\n"
     ]
    },
    {
     "name": "stderr",
     "output_type": "stream",
     "text": [
      "Fetching movie data:   9%|█▋                 | 308/3591 [00:53<08:17,  6.61it/s]"
     ]
    },
    {
     "name": "stdout",
     "output_type": "stream",
     "text": [
      "Fetching data for movie ID tt2166039 from OMDb...\n",
      "Fetching data for movie ID tt0457365 from OMDb...\n"
     ]
    },
    {
     "name": "stderr",
     "output_type": "stream",
     "text": [
      "Fetching movie data:   9%|█▋                 | 310/3591 [00:53<10:00,  5.46it/s]"
     ]
    },
    {
     "name": "stdout",
     "output_type": "stream",
     "text": [
      "Fetching data for movie ID tt2418248 from OMDb...\n",
      "Fetching data for movie ID tt1326750 from OMDb...\n"
     ]
    },
    {
     "name": "stderr",
     "output_type": "stream",
     "text": [
      "Fetching movie data:   9%|█▋                 | 312/3591 [00:54<10:11,  5.36it/s]"
     ]
    },
    {
     "name": "stdout",
     "output_type": "stream",
     "text": [
      "Fetching data for movie ID tt2394368 from OMDb...\n",
      "Fetching data for movie ID tt2093206 from OMDb...\n"
     ]
    },
    {
     "name": "stderr",
     "output_type": "stream",
     "text": [
      "Fetching movie data:   9%|█▋                 | 314/3591 [00:54<09:17,  5.88it/s]"
     ]
    },
    {
     "name": "stdout",
     "output_type": "stream",
     "text": [
      "Fetching data for movie ID tt1558181 from OMDb...\n",
      "Fetching data for movie ID tt0280491 from OMDb...\n"
     ]
    },
    {
     "name": "stderr",
     "output_type": "stream",
     "text": [
      "Fetching movie data:   9%|█▋                 | 316/3591 [00:54<09:51,  5.54it/s]"
     ]
    },
    {
     "name": "stdout",
     "output_type": "stream",
     "text": [
      "Fetching data for movie ID tt1756506 from OMDb...\n",
      "Fetching data for movie ID tt2845432 from OMDb...\n"
     ]
    },
    {
     "name": "stderr",
     "output_type": "stream",
     "text": [
      "Fetching movie data:   9%|█▋                 | 318/3591 [00:55<09:48,  5.56it/s]"
     ]
    },
    {
     "name": "stdout",
     "output_type": "stream",
     "text": [
      "Fetching data for movie ID tt0433398 from OMDb...\n",
      "Fetching data for movie ID tt1606351 from OMDb...\n"
     ]
    },
    {
     "name": "stderr",
     "output_type": "stream",
     "text": [
      "Fetching movie data:   9%|█▋                 | 320/3591 [00:55<09:11,  5.93it/s]"
     ]
    },
    {
     "name": "stdout",
     "output_type": "stream",
     "text": [
      "Fetching data for movie ID tt1985974 from OMDb...\n",
      "Fetching data for movie ID tt18247294 from OMDb...\n"
     ]
    },
    {
     "name": "stderr",
     "output_type": "stream",
     "text": [
      "Fetching movie data:   9%|█▋                 | 321/3591 [00:55<09:06,  5.98it/s]"
     ]
    },
    {
     "name": "stdout",
     "output_type": "stream",
     "text": [
      "Fetching data for movie ID tt0239879 from OMDb...\n"
     ]
    },
    {
     "name": "stderr",
     "output_type": "stream",
     "text": [
      "Fetching movie data:   9%|█▋                 | 322/3591 [00:55<10:25,  5.22it/s]"
     ]
    },
    {
     "name": "stdout",
     "output_type": "stream",
     "text": [
      "Fetching data for movie ID tt1235841 from OMDb...\n"
     ]
    },
    {
     "name": "stderr",
     "output_type": "stream",
     "text": [
      "Fetching movie data:   9%|█▋                 | 324/3591 [00:56<10:43,  5.08it/s]"
     ]
    },
    {
     "name": "stdout",
     "output_type": "stream",
     "text": [
      "Fetching data for movie ID tt1320087 from OMDb...\n",
      "Fetching data for movie ID tt1852840 from OMDb...\n"
     ]
    },
    {
     "name": "stderr",
     "output_type": "stream",
     "text": [
      "Fetching movie data:   9%|█▋                 | 326/3591 [00:56<10:05,  5.39it/s]"
     ]
    },
    {
     "name": "stdout",
     "output_type": "stream",
     "text": [
      "Fetching data for movie ID tt5354848 from OMDb...\n",
      "Fetching data for movie ID tt0459186 from OMDb...\n"
     ]
    },
    {
     "name": "stderr",
     "output_type": "stream",
     "text": [
      "Fetching movie data:   9%|█▋                 | 328/3591 [00:57<10:13,  5.32it/s]"
     ]
    },
    {
     "name": "stdout",
     "output_type": "stream",
     "text": [
      "Fetching data for movie ID tt1958024 from OMDb...\n",
      "Fetching data for movie ID tt3004716 from OMDb...\n"
     ]
    },
    {
     "name": "stderr",
     "output_type": "stream",
     "text": [
      "Fetching movie data:   9%|█▋                 | 330/3591 [00:57<09:07,  5.96it/s]"
     ]
    },
    {
     "name": "stdout",
     "output_type": "stream",
     "text": [
      "Fetching data for movie ID tt0224451 from OMDb...\n",
      "Fetching data for movie ID tt1537280 from OMDb...\n"
     ]
    },
    {
     "name": "stderr",
     "output_type": "stream",
     "text": [
      "Fetching movie data:   9%|█▊                 | 331/3591 [00:57<08:36,  6.31it/s]"
     ]
    },
    {
     "name": "stdout",
     "output_type": "stream",
     "text": [
      "Fetching data for movie ID tt1774395 from OMDb...\n"
     ]
    },
    {
     "name": "stderr",
     "output_type": "stream",
     "text": [
      "Fetching movie data:   9%|█▊                 | 333/3591 [00:57<10:28,  5.19it/s]"
     ]
    },
    {
     "name": "stdout",
     "output_type": "stream",
     "text": [
      "Fetching data for movie ID tt0372588 from OMDb...\n",
      "Fetching data for movie ID tt0286137 from OMDb...\n"
     ]
    },
    {
     "name": "stderr",
     "output_type": "stream",
     "text": [
      "Fetching movie data:   9%|█▊                 | 335/3591 [00:58<09:06,  5.96it/s]"
     ]
    },
    {
     "name": "stdout",
     "output_type": "stream",
     "text": [
      "Fetching data for movie ID tt0329429 from OMDb...\n",
      "Fetching data for movie ID tt0839906 from OMDb...\n"
     ]
    },
    {
     "name": "stderr",
     "output_type": "stream",
     "text": [
      "Fetching movie data:   9%|█▊                 | 337/3591 [00:58<09:49,  5.52it/s]"
     ]
    },
    {
     "name": "stdout",
     "output_type": "stream",
     "text": [
      "Fetching data for movie ID tt0287471 from OMDb...\n",
      "Fetching data for movie ID tt1920945 from OMDb...\n"
     ]
    },
    {
     "name": "stderr",
     "output_type": "stream",
     "text": [
      "Fetching movie data:   9%|█▊                 | 339/3591 [00:58<09:29,  5.71it/s]"
     ]
    },
    {
     "name": "stdout",
     "output_type": "stream",
     "text": [
      "Fetching data for movie ID tt1244717 from OMDb...\n",
      "Fetching data for movie ID tt2407730 from OMDb...\n"
     ]
    },
    {
     "name": "stderr",
     "output_type": "stream",
     "text": [
      "Fetching movie data:   9%|█▊                 | 341/3591 [00:59<09:48,  5.53it/s]"
     ]
    },
    {
     "name": "stdout",
     "output_type": "stream",
     "text": [
      "Fetching data for movie ID tt1843287 from OMDb...\n",
      "Fetching data for movie ID tt1825978 from OMDb...\n"
     ]
    },
    {
     "name": "stderr",
     "output_type": "stream",
     "text": [
      "Fetching movie data:  10%|█▊                 | 343/3591 [00:59<09:19,  5.81it/s]"
     ]
    },
    {
     "name": "stdout",
     "output_type": "stream",
     "text": [
      "Fetching data for movie ID tt2673882 from OMDb...\n",
      "Fetching data for movie ID tt14669816 from OMDb...\n"
     ]
    },
    {
     "name": "stderr",
     "output_type": "stream",
     "text": [
      "Fetching movie data:  10%|█▊                 | 345/3591 [00:59<09:14,  5.86it/s]"
     ]
    },
    {
     "name": "stdout",
     "output_type": "stream",
     "text": [
      "Fetching data for movie ID tt1651902 from OMDb...\n",
      "Fetching data for movie ID tt1773607 from OMDb...\n"
     ]
    },
    {
     "name": "stderr",
     "output_type": "stream",
     "text": [
      "Fetching movie data:  10%|█▊                 | 347/3591 [01:00<09:22,  5.76it/s]"
     ]
    },
    {
     "name": "stdout",
     "output_type": "stream",
     "text": [
      "Fetching data for movie ID tt26744640 from OMDb...\n",
      "Fetching data for movie ID tt2473486 from OMDb...\n"
     ]
    },
    {
     "name": "stderr",
     "output_type": "stream",
     "text": [
      "Fetching movie data:  10%|█▊                 | 348/3591 [01:00<08:47,  6.15it/s]"
     ]
    },
    {
     "name": "stdout",
     "output_type": "stream",
     "text": [
      "Fetching data for movie ID tt0860834 from OMDb...\n"
     ]
    },
    {
     "name": "stderr",
     "output_type": "stream",
     "text": [
      "Fetching movie data:  10%|█▊                 | 350/3591 [01:00<09:11,  5.88it/s]"
     ]
    },
    {
     "name": "stdout",
     "output_type": "stream",
     "text": [
      "Fetching data for movie ID tt2637404 from OMDb...\n",
      "Fetching data for movie ID tt1432161 from OMDb...\n"
     ]
    },
    {
     "name": "stderr",
     "output_type": "stream",
     "text": [
      "Fetching movie data:  10%|█▊                 | 351/3591 [01:00<08:30,  6.35it/s]"
     ]
    },
    {
     "name": "stdout",
     "output_type": "stream",
     "text": [
      "Fetching data for movie ID tt1320264 from OMDb...\n"
     ]
    },
    {
     "name": "stderr",
     "output_type": "stream",
     "text": [
      "Fetching movie data:  10%|█▊                 | 352/3591 [01:01<10:00,  5.39it/s]"
     ]
    },
    {
     "name": "stdout",
     "output_type": "stream",
     "text": [
      "Fetching data for movie ID tt0410226 from OMDb...\n"
     ]
    },
    {
     "name": "stderr",
     "output_type": "stream",
     "text": [
      "Fetching movie data:  10%|█▊                 | 354/3591 [01:01<10:23,  5.19it/s]"
     ]
    },
    {
     "name": "stdout",
     "output_type": "stream",
     "text": [
      "Fetching data for movie ID tt1986750 from OMDb...\n",
      "Fetching data for movie ID tt0450259 from OMDb...\n"
     ]
    },
    {
     "name": "stderr",
     "output_type": "stream",
     "text": [
      "Fetching movie data:  10%|█▉                 | 355/3591 [01:01<10:28,  5.15it/s]"
     ]
    },
    {
     "name": "stdout",
     "output_type": "stream",
     "text": [
      "Fetching data for movie ID tt1433811 from OMDb...\n"
     ]
    },
    {
     "name": "stderr",
     "output_type": "stream",
     "text": [
      "Fetching movie data:  10%|█▉                 | 356/3591 [01:02<10:58,  4.92it/s]"
     ]
    },
    {
     "name": "stdout",
     "output_type": "stream",
     "text": [
      "Fetching data for movie ID tt1501641 from OMDb...\n"
     ]
    },
    {
     "name": "stderr",
     "output_type": "stream",
     "text": [
      "Fetching movie data:  10%|█▉                 | 358/3591 [01:02<10:22,  5.19it/s]"
     ]
    },
    {
     "name": "stdout",
     "output_type": "stream",
     "text": [
      "Fetching data for movie ID tt2237318 from OMDb...\n",
      "Fetching data for movie ID tt1757707 from OMDb...\n"
     ]
    },
    {
     "name": "stderr",
     "output_type": "stream",
     "text": [
      "Fetching movie data:  10%|█▉                 | 360/3591 [01:02<10:05,  5.34it/s]"
     ]
    },
    {
     "name": "stdout",
     "output_type": "stream",
     "text": [
      "Fetching data for movie ID tt0185014 from OMDb...\n",
      "Fetching data for movie ID tt0349049 from OMDb...\n"
     ]
    },
    {
     "name": "stderr",
     "output_type": "stream",
     "text": [
      "Fetching movie data:  10%|█▉                 | 362/3591 [01:03<08:53,  6.05it/s]"
     ]
    },
    {
     "name": "stdout",
     "output_type": "stream",
     "text": [
      "Fetching data for movie ID tt1328911 from OMDb...\n",
      "Fetching data for movie ID tt7787384 from OMDb...\n"
     ]
    },
    {
     "name": "stderr",
     "output_type": "stream",
     "text": [
      "Fetching movie data:  10%|█▉                 | 364/3591 [01:03<09:12,  5.84it/s]"
     ]
    },
    {
     "name": "stdout",
     "output_type": "stream",
     "text": [
      "Fetching data for movie ID tt1226263 from OMDb...\n",
      "Fetching data for movie ID tt0277341 from OMDb...\n"
     ]
    },
    {
     "name": "stderr",
     "output_type": "stream",
     "text": [
      "Fetching movie data:  10%|█▉                 | 366/3591 [01:03<09:48,  5.48it/s]"
     ]
    },
    {
     "name": "stdout",
     "output_type": "stream",
     "text": [
      "Fetching data for movie ID tt1764634 from OMDb...\n",
      "Fetching data for movie ID tt1670389 from OMDb...\n"
     ]
    },
    {
     "name": "stderr",
     "output_type": "stream",
     "text": [
      "Fetching movie data:  10%|█▉                 | 368/3591 [01:04<09:02,  5.94it/s]"
     ]
    },
    {
     "name": "stdout",
     "output_type": "stream",
     "text": [
      "Fetching data for movie ID tt1236387 from OMDb...\n",
      "Fetching data for movie ID tt1451635 from OMDb...\n"
     ]
    },
    {
     "name": "stderr",
     "output_type": "stream",
     "text": [
      "Fetching movie data:  10%|█▉                 | 370/3591 [01:04<09:20,  5.75it/s]"
     ]
    },
    {
     "name": "stdout",
     "output_type": "stream",
     "text": [
      "Fetching data for movie ID tt1325019 from OMDb...\n",
      "Fetching data for movie ID tt1097606 from OMDb...\n"
     ]
    },
    {
     "name": "stderr",
     "output_type": "stream",
     "text": [
      "Fetching movie data:  10%|█▉                 | 372/3591 [01:04<09:30,  5.64it/s]"
     ]
    },
    {
     "name": "stdout",
     "output_type": "stream",
     "text": [
      "Fetching data for movie ID tt2367314 from OMDb...\n",
      "Fetching data for movie ID tt2334868 from OMDb...\n"
     ]
    },
    {
     "name": "stderr",
     "output_type": "stream",
     "text": [
      "Fetching movie data:  10%|█▉                 | 374/3591 [01:05<09:00,  5.95it/s]"
     ]
    },
    {
     "name": "stdout",
     "output_type": "stream",
     "text": [
      "Fetching data for movie ID tt1764260 from OMDb...\n",
      "Fetching data for movie ID tt2061601 from OMDb...\n"
     ]
    },
    {
     "name": "stderr",
     "output_type": "stream",
     "text": [
      "Fetching movie data:  10%|█▉                 | 376/3591 [01:05<08:56,  5.99it/s]"
     ]
    },
    {
     "name": "stdout",
     "output_type": "stream",
     "text": [
      "Fetching data for movie ID tt1577069 from OMDb...\n",
      "Fetching data for movie ID tt2442302 from OMDb...\n"
     ]
    },
    {
     "name": "stderr",
     "output_type": "stream",
     "text": [
      "Fetching movie data:  10%|█▉                 | 377/3591 [01:05<09:08,  5.86it/s]"
     ]
    },
    {
     "name": "stdout",
     "output_type": "stream",
     "text": [
      "Fetching data for movie ID tt2355689 from OMDb...\n"
     ]
    },
    {
     "name": "stderr",
     "output_type": "stream",
     "text": [
      "Fetching movie data:  11%|██                 | 379/3591 [01:06<09:35,  5.58it/s]"
     ]
    },
    {
     "name": "stdout",
     "output_type": "stream",
     "text": [
      "Fetching data for movie ID tt0423866 from OMDb...\n",
      "Fetching data for movie ID tt3221046 from OMDb...\n"
     ]
    },
    {
     "name": "stderr",
     "output_type": "stream",
     "text": [
      "Fetching movie data:  11%|██                 | 381/3591 [01:06<09:18,  5.75it/s]"
     ]
    },
    {
     "name": "stdout",
     "output_type": "stream",
     "text": [
      "Fetching data for movie ID tt0255665 from OMDb...\n",
      "Fetching data for movie ID tt1107924 from OMDb...\n"
     ]
    },
    {
     "name": "stderr",
     "output_type": "stream",
     "text": [
      "Fetching movie data:  11%|██                 | 382/3591 [01:06<09:16,  5.77it/s]"
     ]
    },
    {
     "name": "stdout",
     "output_type": "stream",
     "text": [
      "Fetching data for movie ID tt1836994 from OMDb...\n"
     ]
    },
    {
     "name": "stderr",
     "output_type": "stream",
     "text": [
      "Fetching movie data:  11%|██                 | 384/3591 [01:06<09:08,  5.84it/s]"
     ]
    },
    {
     "name": "stdout",
     "output_type": "stream",
     "text": [
      "Fetching data for movie ID tt0964005 from OMDb...\n",
      "Fetching data for movie ID tt0384458 from OMDb...\n"
     ]
    },
    {
     "name": "stderr",
     "output_type": "stream",
     "text": [
      "Fetching movie data:  11%|██                 | 386/3591 [01:07<09:09,  5.84it/s]"
     ]
    },
    {
     "name": "stdout",
     "output_type": "stream",
     "text": [
      "Fetching data for movie ID tt1289406 from OMDb...\n",
      "Fetching data for movie ID tt1948011 from OMDb...\n"
     ]
    },
    {
     "name": "stderr",
     "output_type": "stream",
     "text": [
      "Fetching movie data:  11%|██                 | 388/3591 [01:07<09:48,  5.44it/s]"
     ]
    },
    {
     "name": "stdout",
     "output_type": "stream",
     "text": [
      "Fetching data for movie ID tt1303900 from OMDb...\n",
      "Fetching data for movie ID tt0756315 from OMDb...\n"
     ]
    },
    {
     "name": "stderr",
     "output_type": "stream",
     "text": [
      "Fetching movie data:  11%|██                 | 390/3591 [01:08<09:08,  5.83it/s]"
     ]
    },
    {
     "name": "stdout",
     "output_type": "stream",
     "text": [
      "Fetching data for movie ID tt0863135 from OMDb...\n",
      "Fetching data for movie ID tt1133984 from OMDb...\n"
     ]
    },
    {
     "name": "stderr",
     "output_type": "stream",
     "text": [
      "Fetching movie data:  11%|██                 | 392/3591 [01:08<08:58,  5.94it/s]"
     ]
    },
    {
     "name": "stdout",
     "output_type": "stream",
     "text": [
      "Fetching data for movie ID tt2076287 from OMDb...\n",
      "Fetching data for movie ID tt0824425 from OMDb...\n"
     ]
    },
    {
     "name": "stderr",
     "output_type": "stream",
     "text": [
      "Fetching movie data:  11%|██                 | 394/3591 [01:08<09:41,  5.50it/s]"
     ]
    },
    {
     "name": "stdout",
     "output_type": "stream",
     "text": [
      "Fetching data for movie ID tt0417219 from OMDb...\n",
      "Fetching data for movie ID tt0386438 from OMDb...\n"
     ]
    },
    {
     "name": "stderr",
     "output_type": "stream",
     "text": [
      "Fetching movie data:  11%|██                 | 396/3591 [01:09<09:23,  5.67it/s]"
     ]
    },
    {
     "name": "stdout",
     "output_type": "stream",
     "text": [
      "Fetching data for movie ID tt0783566 from OMDb...\n",
      "Fetching data for movie ID tt0454784 from OMDb...\n"
     ]
    },
    {
     "name": "stderr",
     "output_type": "stream",
     "text": [
      "Fetching movie data:  11%|██                 | 398/3591 [01:09<08:09,  6.53it/s]"
     ]
    },
    {
     "name": "stdout",
     "output_type": "stream",
     "text": [
      "Fetching data for movie ID tt0431607 from OMDb...\n",
      "Fetching data for movie ID tt1230430 from OMDb...\n"
     ]
    },
    {
     "name": "stderr",
     "output_type": "stream",
     "text": [
      "Fetching movie data:  11%|██                 | 399/3591 [01:09<07:53,  6.74it/s]"
     ]
    },
    {
     "name": "stdout",
     "output_type": "stream",
     "text": [
      "Fetching data for movie ID tt0460905 from OMDb...\n"
     ]
    },
    {
     "name": "stderr",
     "output_type": "stream",
     "text": [
      "Fetching movie data:  11%|██                 | 400/3591 [01:09<09:43,  5.47it/s]"
     ]
    },
    {
     "name": "stdout",
     "output_type": "stream",
     "text": [
      "Fetching data for movie ID tt0413323 from OMDb...\n"
     ]
    },
    {
     "name": "stderr",
     "output_type": "stream",
     "text": [
      "Fetching movie data:  11%|██                 | 401/3591 [01:10<11:08,  4.77it/s]"
     ]
    },
    {
     "name": "stdout",
     "output_type": "stream",
     "text": [
      "Progress saved after 23000 movies.\n",
      "Fetching data for movie ID tt1561408 from OMDb...\n"
     ]
    },
    {
     "name": "stderr",
     "output_type": "stream",
     "text": [
      "Fetching movie data:  11%|██▏                | 403/3591 [01:10<10:42,  4.96it/s]"
     ]
    },
    {
     "name": "stdout",
     "output_type": "stream",
     "text": [
      "Fetching data for movie ID tt14755060 from OMDb...\n",
      "Fetching data for movie ID tt3500600 from OMDb...\n"
     ]
    },
    {
     "name": "stderr",
     "output_type": "stream",
     "text": [
      "Fetching movie data:  11%|██▏                | 405/3591 [01:10<10:24,  5.10it/s]"
     ]
    },
    {
     "name": "stdout",
     "output_type": "stream",
     "text": [
      "Fetching data for movie ID tt0236008 from OMDb...\n",
      "Fetching data for movie ID tt1032149 from OMDb...\n"
     ]
    },
    {
     "name": "stderr",
     "output_type": "stream",
     "text": [
      "Fetching movie data:  11%|██▏                | 407/3591 [01:11<10:06,  5.25it/s]"
     ]
    },
    {
     "name": "stdout",
     "output_type": "stream",
     "text": [
      "Fetching data for movie ID tt0401819 from OMDb...\n",
      "Fetching data for movie ID tt1571730 from OMDb...\n"
     ]
    },
    {
     "name": "stderr",
     "output_type": "stream",
     "text": [
      "Fetching movie data:  11%|██▏                | 409/3591 [01:11<09:22,  5.66it/s]"
     ]
    },
    {
     "name": "stdout",
     "output_type": "stream",
     "text": [
      "Fetching data for movie ID tt2438106 from OMDb...\n",
      "Fetching data for movie ID tt9042556 from OMDb...\n"
     ]
    },
    {
     "name": "stderr",
     "output_type": "stream",
     "text": [
      "Fetching movie data:  11%|██▏                | 411/3591 [01:11<09:25,  5.62it/s]"
     ]
    },
    {
     "name": "stdout",
     "output_type": "stream",
     "text": [
      "Fetching data for movie ID tt1685674 from OMDb...\n",
      "Fetching data for movie ID tt2265495 from OMDb...\n"
     ]
    },
    {
     "name": "stderr",
     "output_type": "stream",
     "text": [
      "Fetching movie data:  11%|██▏                | 412/3591 [01:12<08:39,  6.11it/s]"
     ]
    },
    {
     "name": "stdout",
     "output_type": "stream",
     "text": [
      "Fetching data for movie ID tt2313237 from OMDb...\n"
     ]
    },
    {
     "name": "stderr",
     "output_type": "stream",
     "text": [
      "Fetching movie data:  12%|██▏                | 414/3591 [01:12<08:42,  6.08it/s]"
     ]
    },
    {
     "name": "stdout",
     "output_type": "stream",
     "text": [
      "Fetching data for movie ID tt2523100 from OMDb...\n",
      "Fetching data for movie ID tt0921811 from OMDb...\n"
     ]
    },
    {
     "name": "stderr",
     "output_type": "stream",
     "text": [
      "Fetching movie data:  12%|██▏                | 415/3591 [01:12<08:51,  5.97it/s]"
     ]
    },
    {
     "name": "stdout",
     "output_type": "stream",
     "text": [
      "Fetching data for movie ID tt2914444 from OMDb...\n"
     ]
    },
    {
     "name": "stderr",
     "output_type": "stream",
     "text": [
      "Fetching movie data:  12%|██▏                | 417/3591 [01:12<09:32,  5.54it/s]"
     ]
    },
    {
     "name": "stdout",
     "output_type": "stream",
     "text": [
      "Fetching data for movie ID tt0446269 from OMDb...\n",
      "Fetching data for movie ID tt0416292 from OMDb...\n"
     ]
    },
    {
     "name": "stderr",
     "output_type": "stream",
     "text": [
      "Fetching movie data:  12%|██▏                | 419/3591 [01:13<09:22,  5.63it/s]"
     ]
    },
    {
     "name": "stdout",
     "output_type": "stream",
     "text": [
      "Fetching data for movie ID tt3164130 from OMDb...\n",
      "Fetching data for movie ID tt2430922 from OMDb...\n"
     ]
    },
    {
     "name": "stderr",
     "output_type": "stream",
     "text": [
      "Fetching movie data:  12%|██▏                | 420/3591 [01:13<08:31,  6.20it/s]"
     ]
    },
    {
     "name": "stdout",
     "output_type": "stream",
     "text": [
      "Fetching data for movie ID tt0470073 from OMDb...\n"
     ]
    },
    {
     "name": "stderr",
     "output_type": "stream",
     "text": [
      "Fetching movie data:  12%|██▏                | 422/3591 [01:13<09:31,  5.55it/s]"
     ]
    },
    {
     "name": "stdout",
     "output_type": "stream",
     "text": [
      "Fetching data for movie ID tt1337445 from OMDb...\n",
      "Fetching data for movie ID tt0422836 from OMDb...\n"
     ]
    },
    {
     "name": "stderr",
     "output_type": "stream",
     "text": [
      "Fetching movie data:  12%|██▏                | 424/3591 [01:14<09:07,  5.79it/s]"
     ]
    },
    {
     "name": "stdout",
     "output_type": "stream",
     "text": [
      "Fetching data for movie ID tt3121404 from OMDb...\n",
      "Fetching data for movie ID tt0397381 from OMDb...\n"
     ]
    },
    {
     "name": "stderr",
     "output_type": "stream",
     "text": [
      "Fetching movie data:  12%|██▎                | 426/3591 [01:14<09:27,  5.58it/s]"
     ]
    },
    {
     "name": "stdout",
     "output_type": "stream",
     "text": [
      "Fetching data for movie ID tt1355640 from OMDb...\n",
      "Fetching data for movie ID tt2463010 from OMDb...\n"
     ]
    },
    {
     "name": "stderr",
     "output_type": "stream",
     "text": [
      "Fetching movie data:  12%|██▎                | 427/3591 [01:14<08:39,  6.09it/s]"
     ]
    },
    {
     "name": "stdout",
     "output_type": "stream",
     "text": [
      "Fetching data for movie ID tt2018129 from OMDb...\n"
     ]
    },
    {
     "name": "stderr",
     "output_type": "stream",
     "text": [
      "Fetching movie data:  12%|██▎                | 429/3591 [01:15<09:18,  5.66it/s]"
     ]
    },
    {
     "name": "stdout",
     "output_type": "stream",
     "text": [
      "Fetching data for movie ID tt0262432 from OMDb...\n",
      "Fetching data for movie ID tt0756727 from OMDb...\n"
     ]
    },
    {
     "name": "stderr",
     "output_type": "stream",
     "text": [
      "Fetching movie data:  12%|██▎                | 431/3591 [01:15<09:15,  5.69it/s]"
     ]
    },
    {
     "name": "stdout",
     "output_type": "stream",
     "text": [
      "Fetching data for movie ID tt0383862 from OMDb...\n",
      "Fetching data for movie ID tt0279683 from OMDb...\n"
     ]
    },
    {
     "name": "stderr",
     "output_type": "stream",
     "text": [
      "Fetching movie data:  12%|██▎                | 433/3591 [01:15<08:45,  6.01it/s]"
     ]
    },
    {
     "name": "stdout",
     "output_type": "stream",
     "text": [
      "Fetching data for movie ID tt1326150 from OMDb...\n",
      "Fetching data for movie ID tt1654741 from OMDb...\n"
     ]
    },
    {
     "name": "stderr",
     "output_type": "stream",
     "text": [
      "Fetching movie data:  12%|██▎                | 435/3591 [01:16<09:14,  5.69it/s]"
     ]
    },
    {
     "name": "stdout",
     "output_type": "stream",
     "text": [
      "Fetching data for movie ID tt0477664 from OMDb...\n",
      "Fetching data for movie ID tt2262034 from OMDb...\n"
     ]
    },
    {
     "name": "stderr",
     "output_type": "stream",
     "text": [
      "Fetching movie data:  12%|██▎                | 437/3591 [01:16<09:23,  5.59it/s]"
     ]
    },
    {
     "name": "stdout",
     "output_type": "stream",
     "text": [
      "Fetching data for movie ID tt2281571 from OMDb...\n",
      "Fetching data for movie ID tt1278060 from OMDb...\n"
     ]
    },
    {
     "name": "stderr",
     "output_type": "stream",
     "text": [
      "Fetching movie data:  12%|██▎                | 439/3591 [01:16<09:08,  5.74it/s]"
     ]
    },
    {
     "name": "stdout",
     "output_type": "stream",
     "text": [
      "Fetching data for movie ID tt0361899 from OMDb...\n",
      "Fetching data for movie ID tt3336718 from OMDb...\n"
     ]
    },
    {
     "name": "stderr",
     "output_type": "stream",
     "text": [
      "Fetching movie data:  12%|██▎                | 441/3591 [01:17<09:33,  5.49it/s]"
     ]
    },
    {
     "name": "stdout",
     "output_type": "stream",
     "text": [
      "Fetching data for movie ID tt0400579 from OMDb...\n",
      "Fetching data for movie ID tt2730168 from OMDb...\n"
     ]
    },
    {
     "name": "stderr",
     "output_type": "stream",
     "text": [
      "Fetching movie data:  12%|██▎                | 443/3591 [01:17<09:03,  5.79it/s]"
     ]
    },
    {
     "name": "stdout",
     "output_type": "stream",
     "text": [
      "Fetching data for movie ID tt2285429 from OMDb...\n",
      "Fetching data for movie ID tt1742184 from OMDb...\n"
     ]
    },
    {
     "name": "stderr",
     "output_type": "stream",
     "text": [
      "Fetching movie data:  12%|██▎                | 445/3591 [01:17<09:17,  5.65it/s]"
     ]
    },
    {
     "name": "stdout",
     "output_type": "stream",
     "text": [
      "Fetching data for movie ID tt2431410 from OMDb...\n",
      "Fetching data for movie ID tt1535109 from OMDb...\n"
     ]
    },
    {
     "name": "stderr",
     "output_type": "stream",
     "text": [
      "Fetching movie data:  12%|██▎                | 447/3591 [01:18<08:51,  5.91it/s]"
     ]
    },
    {
     "name": "stdout",
     "output_type": "stream",
     "text": [
      "Fetching data for movie ID tt2852400 from OMDb...\n",
      "Fetching data for movie ID tt1391809 from OMDb...\n"
     ]
    },
    {
     "name": "stderr",
     "output_type": "stream",
     "text": [
      "Fetching movie data:  13%|██▍                | 449/3591 [01:18<07:58,  6.57it/s]"
     ]
    },
    {
     "name": "stdout",
     "output_type": "stream",
     "text": [
      "Fetching data for movie ID tt1931589 from OMDb...\n",
      "Fetching data for movie ID tt2040526 from OMDb...\n"
     ]
    },
    {
     "name": "stderr",
     "output_type": "stream",
     "text": [
      "Fetching movie data:  13%|██▍                | 451/3591 [01:18<09:35,  5.46it/s]"
     ]
    },
    {
     "name": "stdout",
     "output_type": "stream",
     "text": [
      "Fetching data for movie ID tt3205064 from OMDb...\n",
      "Fetching data for movie ID tt30145767 from OMDb...\n"
     ]
    },
    {
     "name": "stderr",
     "output_type": "stream",
     "text": [
      "Fetching movie data:  13%|██▍                | 453/3591 [01:19<09:13,  5.67it/s]"
     ]
    },
    {
     "name": "stdout",
     "output_type": "stream",
     "text": [
      "Fetching data for movie ID tt0251141 from OMDb...\n",
      "Fetching data for movie ID tt1570104 from OMDb...\n"
     ]
    },
    {
     "name": "stderr",
     "output_type": "stream",
     "text": [
      "Fetching movie data:  13%|██▍                | 454/3591 [01:19<08:37,  6.06it/s]"
     ]
    },
    {
     "name": "stdout",
     "output_type": "stream",
     "text": [
      "Fetching data for movie ID tt1495859 from OMDb...\n"
     ]
    },
    {
     "name": "stderr",
     "output_type": "stream",
     "text": [
      "Fetching movie data:  13%|██▍                | 456/3591 [01:19<09:22,  5.57it/s]"
     ]
    },
    {
     "name": "stdout",
     "output_type": "stream",
     "text": [
      "Fetching data for movie ID tt1534836 from OMDb...\n",
      "Fetching data for movie ID tt2137351 from OMDb...\n"
     ]
    },
    {
     "name": "stderr",
     "output_type": "stream",
     "text": [
      "Fetching movie data:  13%|██▍                | 457/3591 [01:19<08:36,  6.06it/s]"
     ]
    },
    {
     "name": "stdout",
     "output_type": "stream",
     "text": [
      "Fetching data for movie ID tt0279136 from OMDb...\n"
     ]
    },
    {
     "name": "stderr",
     "output_type": "stream",
     "text": [
      "Fetching movie data:  13%|██▍                | 459/3591 [01:20<09:17,  5.62it/s]"
     ]
    },
    {
     "name": "stdout",
     "output_type": "stream",
     "text": [
      "Fetching data for movie ID tt1754791 from OMDb...\n",
      "Fetching data for movie ID tt2424678 from OMDb...\n"
     ]
    },
    {
     "name": "stderr",
     "output_type": "stream",
     "text": [
      "Fetching movie data:  13%|██▍                | 461/3591 [01:20<09:05,  5.74it/s]"
     ]
    },
    {
     "name": "stdout",
     "output_type": "stream",
     "text": [
      "Fetching data for movie ID tt0379889 from OMDb...\n",
      "Fetching data for movie ID tt1821621 from OMDb...\n"
     ]
    },
    {
     "name": "stderr",
     "output_type": "stream",
     "text": [
      "Fetching movie data:  13%|██▍                | 463/3591 [01:20<08:34,  6.08it/s]"
     ]
    },
    {
     "name": "stdout",
     "output_type": "stream",
     "text": [
      "Fetching data for movie ID tt0363589 from OMDb...\n",
      "Fetching data for movie ID tt1110284 from OMDb...\n"
     ]
    },
    {
     "name": "stderr",
     "output_type": "stream",
     "text": [
      "Fetching movie data:  13%|██▍                | 465/3591 [01:21<09:26,  5.52it/s]"
     ]
    },
    {
     "name": "stdout",
     "output_type": "stream",
     "text": [
      "Fetching data for movie ID tt0430377 from OMDb...\n",
      "Fetching data for movie ID tt1531667 from OMDb...\n"
     ]
    },
    {
     "name": "stderr",
     "output_type": "stream",
     "text": [
      "Fetching movie data:  13%|██▍                | 466/3591 [01:21<08:44,  5.95it/s]"
     ]
    },
    {
     "name": "stdout",
     "output_type": "stream",
     "text": [
      "Fetching data for movie ID tt1280501 from OMDb...\n"
     ]
    },
    {
     "name": "stderr",
     "output_type": "stream",
     "text": [
      "Fetching movie data:  13%|██▍                | 468/3591 [01:21<09:12,  5.66it/s]"
     ]
    },
    {
     "name": "stdout",
     "output_type": "stream",
     "text": [
      "Fetching data for movie ID tt1844060 from OMDb...\n",
      "Fetching data for movie ID tt1125808 from OMDb...\n"
     ]
    },
    {
     "name": "stderr",
     "output_type": "stream",
     "text": [
      "Fetching movie data:  13%|██▍                | 470/3591 [01:22<09:07,  5.70it/s]"
     ]
    },
    {
     "name": "stdout",
     "output_type": "stream",
     "text": [
      "Fetching data for movie ID tt0273870 from OMDb...\n",
      "Fetching data for movie ID tt0499157 from OMDb...\n"
     ]
    },
    {
     "name": "stderr",
     "output_type": "stream",
     "text": [
      "Fetching movie data:  13%|██▍                | 472/3591 [01:22<08:24,  6.18it/s]"
     ]
    },
    {
     "name": "stdout",
     "output_type": "stream",
     "text": [
      "Fetching data for movie ID tt26763517 from OMDb...\n",
      "Fetching data for movie ID tt2025702 from OMDb...\n"
     ]
    },
    {
     "name": "stderr",
     "output_type": "stream",
     "text": [
      "Fetching movie data:  13%|██▌                | 474/3591 [01:22<08:51,  5.87it/s]"
     ]
    },
    {
     "name": "stdout",
     "output_type": "stream",
     "text": [
      "Fetching data for movie ID tt0326357 from OMDb...\n",
      "Fetching data for movie ID tt3579678 from OMDb...\n"
     ]
    },
    {
     "name": "stderr",
     "output_type": "stream",
     "text": [
      "Fetching movie data:  13%|██▌                | 475/3591 [01:23<08:49,  5.89it/s]"
     ]
    },
    {
     "name": "stdout",
     "output_type": "stream",
     "text": [
      "Fetching data for movie ID tt1040036 from OMDb...\n"
     ]
    },
    {
     "name": "stderr",
     "output_type": "stream",
     "text": [
      "Fetching movie data:  13%|██▌                | 477/3591 [01:23<09:42,  5.35it/s]"
     ]
    },
    {
     "name": "stdout",
     "output_type": "stream",
     "text": [
      "Fetching data for movie ID tt0295752 from OMDb...\n",
      "Fetching data for movie ID tt0419477 from OMDb...\n"
     ]
    },
    {
     "name": "stderr",
     "output_type": "stream",
     "text": [
      "Fetching movie data:  13%|██▌                | 479/3591 [01:23<08:45,  5.93it/s]"
     ]
    },
    {
     "name": "stdout",
     "output_type": "stream",
     "text": [
      "Fetching data for movie ID tt3421422 from OMDb...\n",
      "Fetching data for movie ID tt1412671 from OMDb...\n"
     ]
    },
    {
     "name": "stderr",
     "output_type": "stream",
     "text": [
      "Fetching movie data:  13%|██▌                | 481/3591 [01:24<08:37,  6.01it/s]"
     ]
    },
    {
     "name": "stdout",
     "output_type": "stream",
     "text": [
      "Fetching data for movie ID tt1568911 from OMDb...\n",
      "Fetching data for movie ID tt1409077 from OMDb...\n"
     ]
    },
    {
     "name": "stderr",
     "output_type": "stream",
     "text": [
      "Fetching movie data:  13%|██▌                | 483/3591 [01:24<08:43,  5.94it/s]"
     ]
    },
    {
     "name": "stdout",
     "output_type": "stream",
     "text": [
      "Fetching data for movie ID tt3230012 from OMDb...\n",
      "Fetching data for movie ID tt2072971 from OMDb...\n"
     ]
    },
    {
     "name": "stderr",
     "output_type": "stream",
     "text": [
      "Fetching movie data:  13%|██▌                | 484/3591 [01:24<08:40,  5.97it/s]"
     ]
    },
    {
     "name": "stdout",
     "output_type": "stream",
     "text": [
      "Fetching data for movie ID tt0826608 from OMDb...\n"
     ]
    },
    {
     "name": "stderr",
     "output_type": "stream",
     "text": [
      "Fetching movie data:  14%|██▌                | 486/3591 [01:25<09:24,  5.50it/s]"
     ]
    },
    {
     "name": "stdout",
     "output_type": "stream",
     "text": [
      "Fetching data for movie ID tt1991025 from OMDb...\n",
      "Fetching data for movie ID tt1191112 from OMDb...\n"
     ]
    },
    {
     "name": "stderr",
     "output_type": "stream",
     "text": [
      "Fetching movie data:  14%|██▌                | 488/3591 [01:25<09:24,  5.50it/s]"
     ]
    },
    {
     "name": "stdout",
     "output_type": "stream",
     "text": [
      "Fetching data for movie ID tt1847618 from OMDb...\n",
      "Fetching data for movie ID tt3099354 from OMDb...\n"
     ]
    },
    {
     "name": "stderr",
     "output_type": "stream",
     "text": [
      "Fetching movie data:  14%|██▌                | 490/3591 [01:25<07:56,  6.50it/s]"
     ]
    },
    {
     "name": "stdout",
     "output_type": "stream",
     "text": [
      "Fetching data for movie ID tt4245838 from OMDb...\n",
      "Fetching data for movie ID tt0434318 from OMDb...\n"
     ]
    },
    {
     "name": "stderr",
     "output_type": "stream",
     "text": [
      "Fetching movie data:  14%|██▌                | 492/3591 [01:26<09:15,  5.58it/s]"
     ]
    },
    {
     "name": "stdout",
     "output_type": "stream",
     "text": [
      "Fetching data for movie ID tt1828355 from OMDb...\n",
      "Fetching data for movie ID tt1785612 from OMDb...\n"
     ]
    },
    {
     "name": "stderr",
     "output_type": "stream",
     "text": [
      "Fetching movie data:  14%|██▌                | 494/3591 [01:26<09:12,  5.61it/s]"
     ]
    },
    {
     "name": "stdout",
     "output_type": "stream",
     "text": [
      "Fetching data for movie ID tt1307063 from OMDb...\n",
      "Fetching data for movie ID tt0457591 from OMDb...\n"
     ]
    },
    {
     "name": "stderr",
     "output_type": "stream",
     "text": [
      "Fetching movie data:  14%|██▌                | 496/3591 [01:26<08:40,  5.94it/s]"
     ]
    },
    {
     "name": "stdout",
     "output_type": "stream",
     "text": [
      "Fetching data for movie ID tt5475368 from OMDb...\n",
      "Fetching data for movie ID tt4057438 from OMDb...\n"
     ]
    },
    {
     "name": "stderr",
     "output_type": "stream",
     "text": [
      "Fetching movie data:  14%|██▋                | 498/3591 [01:27<09:26,  5.46it/s]"
     ]
    },
    {
     "name": "stdout",
     "output_type": "stream",
     "text": [
      "Fetching data for movie ID tt0156035 from OMDb...\n",
      "Fetching data for movie ID tt2380860 from OMDb...\n"
     ]
    },
    {
     "name": "stderr",
     "output_type": "stream",
     "text": [
      "Fetching movie data:  14%|██▋                | 500/3591 [01:27<09:05,  5.67it/s]"
     ]
    },
    {
     "name": "stdout",
     "output_type": "stream",
     "text": [
      "Fetching data for movie ID tt1613084 from OMDb...\n",
      "Fetching data for movie ID tt0267539 from OMDb...\n"
     ]
    },
    {
     "name": "stderr",
     "output_type": "stream",
     "text": [
      "Fetching movie data:  14%|██▋                | 501/3591 [01:27<09:45,  5.28it/s]"
     ]
    },
    {
     "name": "stdout",
     "output_type": "stream",
     "text": [
      "Progress saved after 23100 movies.\n",
      "Fetching data for movie ID tt0970179 from OMDb...\n"
     ]
    },
    {
     "name": "stderr",
     "output_type": "stream",
     "text": [
      "Fetching movie data:  14%|██▋                | 502/3591 [01:27<10:05,  5.10it/s]"
     ]
    },
    {
     "name": "stdout",
     "output_type": "stream",
     "text": [
      "Fetching data for movie ID tt0262875 from OMDb...\n"
     ]
    },
    {
     "name": "stderr",
     "output_type": "stream",
     "text": [
      "Fetching movie data:  14%|██▋                | 504/3591 [01:28<09:09,  5.61it/s]"
     ]
    },
    {
     "name": "stdout",
     "output_type": "stream",
     "text": [
      "Fetching data for movie ID tt1557596 from OMDb...\n",
      "Fetching data for movie ID tt2746496 from OMDb...\n"
     ]
    },
    {
     "name": "stderr",
     "output_type": "stream",
     "text": [
      "Fetching movie data:  14%|██▋                | 506/3591 [01:28<08:35,  5.99it/s]"
     ]
    },
    {
     "name": "stdout",
     "output_type": "stream",
     "text": [
      "Fetching data for movie ID tt0317226 from OMDb...\n",
      "Fetching data for movie ID tt0379802 from OMDb...\n"
     ]
    },
    {
     "name": "stderr",
     "output_type": "stream",
     "text": [
      "Fetching movie data:  14%|██▋                | 508/3591 [01:28<08:11,  6.27it/s]"
     ]
    },
    {
     "name": "stdout",
     "output_type": "stream",
     "text": [
      "Fetching data for movie ID tt1285152 from OMDb...\n",
      "Fetching data for movie ID tt3052110 from OMDb...\n"
     ]
    },
    {
     "name": "stderr",
     "output_type": "stream",
     "text": [
      "Fetching movie data:  14%|██▋                | 510/3591 [01:29<08:45,  5.86it/s]"
     ]
    },
    {
     "name": "stdout",
     "output_type": "stream",
     "text": [
      "Fetching data for movie ID tt1155592 from OMDb...\n",
      "Fetching data for movie ID tt2728056 from OMDb...\n"
     ]
    },
    {
     "name": "stderr",
     "output_type": "stream",
     "text": [
      "Fetching movie data:  14%|██▋                | 512/3591 [01:29<08:58,  5.71it/s]"
     ]
    },
    {
     "name": "stdout",
     "output_type": "stream",
     "text": [
      "Fetching data for movie ID tt2838024 from OMDb...\n",
      "Fetching data for movie ID tt1737667 from OMDb...\n"
     ]
    },
    {
     "name": "stderr",
     "output_type": "stream",
     "text": [
      "Fetching movie data:  14%|██▋                | 514/3591 [01:29<08:17,  6.18it/s]"
     ]
    },
    {
     "name": "stdout",
     "output_type": "stream",
     "text": [
      "Fetching data for movie ID tt2224481 from OMDb...\n",
      "Fetching data for movie ID tt1265968 from OMDb...\n"
     ]
    },
    {
     "name": "stderr",
     "output_type": "stream",
     "text": [
      "Fetching movie data:  14%|██▋                | 516/3591 [01:30<08:26,  6.07it/s]"
     ]
    },
    {
     "name": "stdout",
     "output_type": "stream",
     "text": [
      "Fetching data for movie ID tt2071620 from OMDb...\n",
      "Fetching data for movie ID tt3091176 from OMDb...\n"
     ]
    },
    {
     "name": "stderr",
     "output_type": "stream",
     "text": [
      "Fetching movie data:  14%|██▋                | 518/3591 [01:30<09:09,  5.60it/s]"
     ]
    },
    {
     "name": "stdout",
     "output_type": "stream",
     "text": [
      "Fetching data for movie ID tt1351734 from OMDb...\n",
      "Fetching data for movie ID tt0373733 from OMDb...\n"
     ]
    },
    {
     "name": "stderr",
     "output_type": "stream",
     "text": [
      "Fetching movie data:  14%|██▊                | 520/3591 [01:30<09:02,  5.66it/s]"
     ]
    },
    {
     "name": "stdout",
     "output_type": "stream",
     "text": [
      "Fetching data for movie ID tt1987621 from OMDb...\n",
      "Fetching data for movie ID tt0390123 from OMDb...\n"
     ]
    },
    {
     "name": "stderr",
     "output_type": "stream",
     "text": [
      "Fetching movie data:  15%|██▊                | 522/3591 [01:31<09:05,  5.62it/s]"
     ]
    },
    {
     "name": "stdout",
     "output_type": "stream",
     "text": [
      "Fetching data for movie ID tt1098369 from OMDb...\n",
      "Fetching data for movie ID tt1794960 from OMDb...\n"
     ]
    },
    {
     "name": "stderr",
     "output_type": "stream",
     "text": [
      "Fetching movie data:  15%|██▊                | 524/3591 [01:31<09:03,  5.65it/s]"
     ]
    },
    {
     "name": "stdout",
     "output_type": "stream",
     "text": [
      "Fetching data for movie ID tt1663920 from OMDb...\n",
      "Fetching data for movie ID tt3219462 from OMDb...\n"
     ]
    },
    {
     "name": "stderr",
     "output_type": "stream",
     "text": [
      "Fetching movie data:  15%|██▊                | 526/3591 [01:31<09:15,  5.52it/s]"
     ]
    },
    {
     "name": "stdout",
     "output_type": "stream",
     "text": [
      "Fetching data for movie ID tt5118674 from OMDb...\n",
      "Fetching data for movie ID tt0362225 from OMDb...\n"
     ]
    },
    {
     "name": "stderr",
     "output_type": "stream",
     "text": [
      "Fetching movie data:  15%|██▊                | 528/3591 [01:32<09:17,  5.49it/s]"
     ]
    },
    {
     "name": "stdout",
     "output_type": "stream",
     "text": [
      "Fetching data for movie ID tt0462311 from OMDb...\n"
     ]
    },
    {
     "name": "stderr",
     "output_type": "stream",
     "text": [
      "Fetching movie data:  15%|██▊                | 529/3591 [01:32<09:14,  5.52it/s]"
     ]
    },
    {
     "name": "stdout",
     "output_type": "stream",
     "text": [
      "Fetching data for movie ID tt0154605 from OMDb...\n",
      "Fetching data for movie ID tt0490965 from OMDb...\n"
     ]
    },
    {
     "name": "stderr",
     "output_type": "stream",
     "text": [
      "Fetching movie data:  15%|██▊                | 531/3591 [01:32<08:32,  5.97it/s]"
     ]
    },
    {
     "name": "stdout",
     "output_type": "stream",
     "text": [
      "Fetching data for movie ID tt0229432 from OMDb...\n",
      "Fetching data for movie ID tt0366606 from OMDb...\n"
     ]
    },
    {
     "name": "stderr",
     "output_type": "stream",
     "text": [
      "Fetching movie data:  15%|██▊                | 533/3591 [01:33<08:58,  5.68it/s]"
     ]
    },
    {
     "name": "stdout",
     "output_type": "stream",
     "text": [
      "Fetching data for movie ID tt0334231 from OMDb...\n",
      "Fetching data for movie ID tt1344811 from OMDb...\n"
     ]
    },
    {
     "name": "stderr",
     "output_type": "stream",
     "text": [
      "Fetching movie data:  15%|██▊                | 535/3591 [01:33<08:45,  5.81it/s]"
     ]
    },
    {
     "name": "stdout",
     "output_type": "stream",
     "text": [
      "Fetching data for movie ID tt1435488 from OMDb...\n",
      "Fetching data for movie ID tt3461856 from OMDb...\n"
     ]
    },
    {
     "name": "stderr",
     "output_type": "stream",
     "text": [
      "Fetching movie data:  15%|██▊                | 537/3591 [01:33<08:38,  5.89it/s]"
     ]
    },
    {
     "name": "stdout",
     "output_type": "stream",
     "text": [
      "Fetching data for movie ID tt2380732 from OMDb...\n",
      "Fetching data for movie ID tt4079630 from OMDb...\n"
     ]
    },
    {
     "name": "stderr",
     "output_type": "stream",
     "text": [
      "Fetching movie data:  15%|██▊                | 539/3591 [01:34<07:47,  6.53it/s]"
     ]
    },
    {
     "name": "stdout",
     "output_type": "stream",
     "text": [
      "Fetching data for movie ID tt1515210 from OMDb...\n",
      "Fetching data for movie ID tt4293984 from OMDb...\n"
     ]
    },
    {
     "name": "stderr",
     "output_type": "stream",
     "text": [
      "Fetching movie data:  15%|██▊                | 541/3591 [01:34<09:08,  5.56it/s]"
     ]
    },
    {
     "name": "stdout",
     "output_type": "stream",
     "text": [
      "Fetching data for movie ID tt0382515 from OMDb...\n",
      "Fetching data for movie ID tt0910559 from OMDb...\n"
     ]
    },
    {
     "name": "stderr",
     "output_type": "stream",
     "text": [
      "Fetching movie data:  15%|██▊                | 543/3591 [01:34<08:23,  6.06it/s]"
     ]
    },
    {
     "name": "stdout",
     "output_type": "stream",
     "text": [
      "Fetching data for movie ID tt0791220 from OMDb...\n",
      "Fetching data for movie ID tt7640884 from OMDb...\n"
     ]
    },
    {
     "name": "stderr",
     "output_type": "stream",
     "text": [
      "Fetching movie data:  15%|██▉                | 544/3591 [01:35<08:02,  6.32it/s]"
     ]
    },
    {
     "name": "stdout",
     "output_type": "stream",
     "text": [
      "Fetching data for movie ID tt0483551 from OMDb...\n"
     ]
    },
    {
     "name": "stderr",
     "output_type": "stream",
     "text": [
      "Fetching movie data:  15%|██▉                | 546/3591 [01:35<08:45,  5.79it/s]"
     ]
    },
    {
     "name": "stdout",
     "output_type": "stream",
     "text": [
      "Fetching data for movie ID tt1277736 from OMDb...\n",
      "Fetching data for movie ID tt1202573 from OMDb...\n"
     ]
    },
    {
     "name": "stderr",
     "output_type": "stream",
     "text": [
      "Fetching movie data:  15%|██▉                | 548/3591 [01:35<07:40,  6.61it/s]"
     ]
    },
    {
     "name": "stdout",
     "output_type": "stream",
     "text": [
      "Fetching data for movie ID tt3525174 from OMDb...\n",
      "Fetching data for movie ID tt1483744 from OMDb...\n"
     ]
    },
    {
     "name": "stderr",
     "output_type": "stream",
     "text": [
      "Fetching movie data:  15%|██▉                | 550/3591 [01:36<08:15,  6.14it/s]"
     ]
    },
    {
     "name": "stdout",
     "output_type": "stream",
     "text": [
      "Fetching data for movie ID tt0450516 from OMDb...\n",
      "Fetching data for movie ID tt2254085 from OMDb...\n"
     ]
    },
    {
     "name": "stderr",
     "output_type": "stream",
     "text": [
      "Fetching movie data:  15%|██▉                | 552/3591 [01:36<10:00,  5.06it/s]"
     ]
    },
    {
     "name": "stdout",
     "output_type": "stream",
     "text": [
      "Fetching data for movie ID tt0949502 from OMDb...\n",
      "Fetching data for movie ID tt1592527 from OMDb...\n"
     ]
    },
    {
     "name": "stderr",
     "output_type": "stream",
     "text": [
      "Fetching movie data:  15%|██▉                | 554/3591 [01:36<09:17,  5.45it/s]"
     ]
    },
    {
     "name": "stdout",
     "output_type": "stream",
     "text": [
      "Fetching data for movie ID tt1745923 from OMDb...\n",
      "Fetching data for movie ID tt4500166 from OMDb...\n"
     ]
    },
    {
     "name": "stderr",
     "output_type": "stream",
     "text": [
      "Fetching movie data:  15%|██▉                | 556/3591 [01:37<08:44,  5.78it/s]"
     ]
    },
    {
     "name": "stdout",
     "output_type": "stream",
     "text": [
      "Fetching data for movie ID tt2033290 from OMDb...\n",
      "Fetching data for movie ID tt2145539 from OMDb...\n"
     ]
    },
    {
     "name": "stderr",
     "output_type": "stream",
     "text": [
      "Fetching movie data:  16%|██▉                | 558/3591 [01:37<08:58,  5.63it/s]"
     ]
    },
    {
     "name": "stdout",
     "output_type": "stream",
     "text": [
      "Fetching data for movie ID tt7024800 from OMDb...\n",
      "Fetching data for movie ID tt2154194 from OMDb...\n"
     ]
    },
    {
     "name": "stderr",
     "output_type": "stream",
     "text": [
      "Fetching movie data:  16%|██▉                | 560/3591 [01:37<08:59,  5.62it/s]"
     ]
    },
    {
     "name": "stdout",
     "output_type": "stream",
     "text": [
      "Fetching data for movie ID tt1949207 from OMDb...\n",
      "Fetching data for movie ID tt0475276 from OMDb...\n"
     ]
    },
    {
     "name": "stderr",
     "output_type": "stream",
     "text": [
      "Fetching movie data:  16%|██▉                | 562/3591 [01:38<07:49,  6.46it/s]"
     ]
    },
    {
     "name": "stdout",
     "output_type": "stream",
     "text": [
      "Fetching data for movie ID tt0417734 from OMDb...\n",
      "Fetching data for movie ID tt2566038 from OMDb...\n"
     ]
    },
    {
     "name": "stderr",
     "output_type": "stream",
     "text": [
      "Fetching movie data:  16%|██▉                | 563/3591 [01:38<07:34,  6.67it/s]"
     ]
    },
    {
     "name": "stdout",
     "output_type": "stream",
     "text": [
      "Fetching data for movie ID tt2375097 from OMDb...\n"
     ]
    },
    {
     "name": "stderr",
     "output_type": "stream",
     "text": [
      "Fetching movie data:  16%|██▉                | 565/3591 [01:38<07:50,  6.44it/s]"
     ]
    },
    {
     "name": "stdout",
     "output_type": "stream",
     "text": [
      "Fetching data for movie ID tt1356396 from OMDb...\n",
      "Fetching data for movie ID tt2404461 from OMDb...\n"
     ]
    },
    {
     "name": "stderr",
     "output_type": "stream",
     "text": [
      "Fetching movie data:  16%|███                | 567/3591 [01:38<07:50,  6.42it/s]"
     ]
    },
    {
     "name": "stdout",
     "output_type": "stream",
     "text": [
      "Fetching data for movie ID tt4576496 from OMDb...\n",
      "Fetching data for movie ID tt0480751 from OMDb...\n"
     ]
    },
    {
     "name": "stderr",
     "output_type": "stream",
     "text": [
      "Fetching movie data:  16%|███                | 569/3591 [01:39<07:16,  6.92it/s]"
     ]
    },
    {
     "name": "stdout",
     "output_type": "stream",
     "text": [
      "Fetching data for movie ID tt1997363 from OMDb...\n",
      "Fetching data for movie ID tt0245084 from OMDb...\n"
     ]
    },
    {
     "name": "stderr",
     "output_type": "stream",
     "text": [
      "Fetching movie data:  16%|███                | 571/3591 [01:39<09:09,  5.50it/s]"
     ]
    },
    {
     "name": "stdout",
     "output_type": "stream",
     "text": [
      "Fetching data for movie ID tt1719030 from OMDb...\n",
      "Fetching data for movie ID tt7731068 from OMDb...\n"
     ]
    },
    {
     "name": "stderr",
     "output_type": "stream",
     "text": [
      "Fetching movie data:  16%|███                | 572/3591 [01:39<08:39,  5.81it/s]"
     ]
    },
    {
     "name": "stdout",
     "output_type": "stream",
     "text": [
      "Fetching data for movie ID tt0291032 from OMDb...\n"
     ]
    },
    {
     "name": "stderr",
     "output_type": "stream",
     "text": [
      "Fetching movie data:  16%|███                | 574/3591 [01:40<09:41,  5.19it/s]"
     ]
    },
    {
     "name": "stdout",
     "output_type": "stream",
     "text": [
      "Fetching data for movie ID tt2529256 from OMDb...\n",
      "Fetching data for movie ID tt2181831 from OMDb...\n"
     ]
    },
    {
     "name": "stderr",
     "output_type": "stream",
     "text": [
      "Fetching movie data:  16%|███                | 575/3591 [01:40<09:20,  5.38it/s]"
     ]
    },
    {
     "name": "stdout",
     "output_type": "stream",
     "text": [
      "Fetching data for movie ID tt2355791 from OMDb...\n"
     ]
    },
    {
     "name": "stderr",
     "output_type": "stream",
     "text": [
      "Fetching movie data:  16%|███                | 577/3591 [01:40<08:38,  5.81it/s]"
     ]
    },
    {
     "name": "stdout",
     "output_type": "stream",
     "text": [
      "Fetching data for movie ID tt3072888 from OMDb...\n",
      "Fetching data for movie ID tt0369927 from OMDb...\n"
     ]
    },
    {
     "name": "stderr",
     "output_type": "stream",
     "text": [
      "Fetching movie data:  16%|███                | 579/3591 [01:41<07:57,  6.30it/s]"
     ]
    },
    {
     "name": "stdout",
     "output_type": "stream",
     "text": [
      "Fetching data for movie ID tt1424327 from OMDb...\n",
      "Fetching data for movie ID tt0452626 from OMDb...\n"
     ]
    },
    {
     "name": "stderr",
     "output_type": "stream",
     "text": [
      "Fetching movie data:  16%|███                | 581/3591 [01:41<08:07,  6.17it/s]"
     ]
    },
    {
     "name": "stdout",
     "output_type": "stream",
     "text": [
      "Fetching data for movie ID tt1305756 from OMDb...\n",
      "Fetching data for movie ID tt0829248 from OMDb...\n"
     ]
    },
    {
     "name": "stderr",
     "output_type": "stream",
     "text": [
      "Fetching movie data:  16%|███                | 583/3591 [01:41<08:55,  5.62it/s]"
     ]
    },
    {
     "name": "stdout",
     "output_type": "stream",
     "text": [
      "Fetching data for movie ID tt1431325 from OMDb...\n",
      "Fetching data for movie ID tt0274491 from OMDb...\n"
     ]
    },
    {
     "name": "stderr",
     "output_type": "stream",
     "text": [
      "Fetching movie data:  16%|███                | 585/3591 [01:42<08:56,  5.60it/s]"
     ]
    },
    {
     "name": "stdout",
     "output_type": "stream",
     "text": [
      "Fetching data for movie ID tt1112866 from OMDb...\n",
      "Fetching data for movie ID tt1828965 from OMDb...\n"
     ]
    },
    {
     "name": "stderr",
     "output_type": "stream",
     "text": [
      "Fetching movie data:  16%|███                | 587/3591 [01:42<08:04,  6.20it/s]"
     ]
    },
    {
     "name": "stdout",
     "output_type": "stream",
     "text": [
      "Fetching data for movie ID tt1494821 from OMDb...\n",
      "Fetching data for movie ID tt0419420 from OMDb...\n"
     ]
    },
    {
     "name": "stderr",
     "output_type": "stream",
     "text": [
      "Fetching movie data:  16%|███                | 589/3591 [01:42<08:45,  5.71it/s]"
     ]
    },
    {
     "name": "stdout",
     "output_type": "stream",
     "text": [
      "Fetching data for movie ID tt1880111 from OMDb...\n",
      "Fetching data for movie ID tt0847505 from OMDb...\n"
     ]
    },
    {
     "name": "stderr",
     "output_type": "stream",
     "text": [
      "Fetching movie data:  16%|███                | 590/3591 [01:43<10:05,  4.96it/s]"
     ]
    },
    {
     "name": "stdout",
     "output_type": "stream",
     "text": [
      "Fetching data for movie ID tt0396847 from OMDb...\n"
     ]
    },
    {
     "name": "stderr",
     "output_type": "stream",
     "text": [
      "Fetching movie data:  16%|███▏               | 592/3591 [01:43<09:13,  5.41it/s]"
     ]
    },
    {
     "name": "stdout",
     "output_type": "stream",
     "text": [
      "Fetching data for movie ID tt3806894 from OMDb...\n",
      "Fetching data for movie ID tt0420023 from OMDb...\n"
     ]
    },
    {
     "name": "stderr",
     "output_type": "stream",
     "text": [
      "Fetching movie data:  17%|███▏               | 594/3591 [01:43<08:23,  5.96it/s]"
     ]
    },
    {
     "name": "stdout",
     "output_type": "stream",
     "text": [
      "Fetching data for movie ID tt1845838 from OMDb...\n",
      "Fetching data for movie ID tt0437890 from OMDb...\n"
     ]
    },
    {
     "name": "stderr",
     "output_type": "stream",
     "text": [
      "Fetching movie data:  17%|███▏               | 596/3591 [01:44<08:41,  5.74it/s]"
     ]
    },
    {
     "name": "stdout",
     "output_type": "stream",
     "text": [
      "Fetching data for movie ID tt3041260 from OMDb...\n",
      "Fetching data for movie ID tt1405418 from OMDb...\n"
     ]
    },
    {
     "name": "stderr",
     "output_type": "stream",
     "text": [
      "Fetching movie data:  17%|███▏               | 598/3591 [01:44<08:20,  5.98it/s]"
     ]
    },
    {
     "name": "stdout",
     "output_type": "stream",
     "text": [
      "Fetching data for movie ID tt2155310 from OMDb...\n",
      "Fetching data for movie ID tt2774248 from OMDb...\n"
     ]
    },
    {
     "name": "stderr",
     "output_type": "stream",
     "text": [
      "Fetching movie data:  17%|███▏               | 600/3591 [01:44<08:32,  5.83it/s]"
     ]
    },
    {
     "name": "stdout",
     "output_type": "stream",
     "text": [
      "Fetching data for movie ID tt0212338 from OMDb...\n",
      "Fetching data for movie ID tt2391835 from OMDb...\n"
     ]
    },
    {
     "name": "stderr",
     "output_type": "stream",
     "text": [
      "Fetching movie data:  17%|███▏               | 602/3591 [01:45<08:24,  5.92it/s]"
     ]
    },
    {
     "name": "stdout",
     "output_type": "stream",
     "text": [
      "Progress saved after 23200 movies.\n",
      "Fetching data for movie ID tt0854160 from OMDb...\n",
      "Fetching data for movie ID tt0367878 from OMDb...\n"
     ]
    },
    {
     "name": "stderr",
     "output_type": "stream",
     "text": [
      "Fetching movie data:  17%|███▏               | 604/3591 [01:45<07:40,  6.49it/s]"
     ]
    },
    {
     "name": "stdout",
     "output_type": "stream",
     "text": [
      "Fetching data for movie ID tt1356732 from OMDb...\n",
      "Fetching data for movie ID tt2675338 from OMDb...\n"
     ]
    },
    {
     "name": "stderr",
     "output_type": "stream",
     "text": [
      "Fetching movie data:  17%|███▏               | 606/3591 [01:45<07:08,  6.97it/s]"
     ]
    },
    {
     "name": "stdout",
     "output_type": "stream",
     "text": [
      "Fetching data for movie ID tt0277155 from OMDb...\n",
      "Fetching data for movie ID tt12827664 from OMDb...\n"
     ]
    },
    {
     "name": "stderr",
     "output_type": "stream",
     "text": [
      "Fetching movie data:  17%|███▏               | 608/3591 [01:46<08:15,  6.02it/s]"
     ]
    },
    {
     "name": "stdout",
     "output_type": "stream",
     "text": [
      "Fetching data for movie ID tt2466684 from OMDb...\n",
      "Fetching data for movie ID tt1730227 from OMDb...\n"
     ]
    },
    {
     "name": "stderr",
     "output_type": "stream",
     "text": [
      "Fetching movie data:  17%|███▏               | 610/3591 [01:46<09:50,  5.05it/s]"
     ]
    },
    {
     "name": "stdout",
     "output_type": "stream",
     "text": [
      "Fetching data for movie ID tt1982102 from OMDb...\n",
      "Fetching data for movie ID tt0240939 from OMDb...\n"
     ]
    },
    {
     "name": "stderr",
     "output_type": "stream",
     "text": [
      "Fetching movie data:  17%|███▏               | 612/3591 [01:46<08:41,  5.71it/s]"
     ]
    },
    {
     "name": "stdout",
     "output_type": "stream",
     "text": [
      "Fetching data for movie ID tt0436836 from OMDb...\n",
      "Fetching data for movie ID tt2873536 from OMDb...\n"
     ]
    },
    {
     "name": "stderr",
     "output_type": "stream",
     "text": [
      "Fetching movie data:  17%|███▏               | 614/3591 [01:47<08:30,  5.83it/s]"
     ]
    },
    {
     "name": "stdout",
     "output_type": "stream",
     "text": [
      "Fetching data for movie ID tt1608265 from OMDb...\n",
      "Fetching data for movie ID tt0892255 from OMDb...\n"
     ]
    },
    {
     "name": "stderr",
     "output_type": "stream",
     "text": [
      "Fetching movie data:  17%|███▎               | 616/3591 [01:47<08:46,  5.65it/s]"
     ]
    },
    {
     "name": "stdout",
     "output_type": "stream",
     "text": [
      "Fetching data for movie ID tt12566804 from OMDb...\n",
      "Fetching data for movie ID tt3006022 from OMDb...\n"
     ]
    },
    {
     "name": "stderr",
     "output_type": "stream",
     "text": [
      "Fetching movie data:  17%|███▎               | 618/3591 [01:47<08:41,  5.70it/s]"
     ]
    },
    {
     "name": "stdout",
     "output_type": "stream",
     "text": [
      "Fetching data for movie ID tt0932675 from OMDb...\n",
      "Fetching data for movie ID tt2146882 from OMDb...\n"
     ]
    },
    {
     "name": "stderr",
     "output_type": "stream",
     "text": [
      "Fetching movie data:  17%|███▎               | 620/3591 [01:48<08:48,  5.62it/s]"
     ]
    },
    {
     "name": "stdout",
     "output_type": "stream",
     "text": [
      "Fetching data for movie ID tt1284975 from OMDb...\n",
      "Fetching data for movie ID tt0437506 from OMDb...\n"
     ]
    },
    {
     "name": "stderr",
     "output_type": "stream",
     "text": [
      "Fetching movie data:  17%|███▎               | 622/3591 [01:48<08:50,  5.60it/s]"
     ]
    },
    {
     "name": "stdout",
     "output_type": "stream",
     "text": [
      "Fetching data for movie ID tt21650886 from OMDb...\n",
      "Fetching data for movie ID tt0238435 from OMDb...\n"
     ]
    },
    {
     "name": "stderr",
     "output_type": "stream",
     "text": [
      "Fetching movie data:  17%|███▎               | 624/3591 [01:48<08:42,  5.68it/s]"
     ]
    },
    {
     "name": "stdout",
     "output_type": "stream",
     "text": [
      "Fetching data for movie ID tt0297833 from OMDb...\n",
      "Fetching data for movie ID tt0427598 from OMDb...\n"
     ]
    },
    {
     "name": "stderr",
     "output_type": "stream",
     "text": [
      "Fetching movie data:  17%|███▎               | 626/3591 [01:49<08:56,  5.53it/s]"
     ]
    },
    {
     "name": "stdout",
     "output_type": "stream",
     "text": [
      "Fetching data for movie ID tt3307438 from OMDb...\n",
      "Fetching data for movie ID tt1422651 from OMDb...\n"
     ]
    },
    {
     "name": "stderr",
     "output_type": "stream",
     "text": [
      "Fetching movie data:  17%|███▎               | 628/3591 [01:49<09:22,  5.27it/s]"
     ]
    },
    {
     "name": "stdout",
     "output_type": "stream",
     "text": [
      "Fetching data for movie ID tt0212720 from OMDb...\n",
      "Fetching data for movie ID tt1341706 from OMDb...\n"
     ]
    },
    {
     "name": "stderr",
     "output_type": "stream",
     "text": [
      "Fetching movie data:  18%|███▎               | 630/3591 [01:50<09:23,  5.25it/s]"
     ]
    },
    {
     "name": "stdout",
     "output_type": "stream",
     "text": [
      "Fetching data for movie ID tt0490434 from OMDb...\n",
      "Fetching data for movie ID tt0409188 from OMDb...\n"
     ]
    },
    {
     "name": "stderr",
     "output_type": "stream",
     "text": [
      "Fetching movie data:  18%|███▎               | 631/3591 [01:50<08:32,  5.78it/s]"
     ]
    },
    {
     "name": "stdout",
     "output_type": "stream",
     "text": [
      "Fetching data for movie ID tt0315354 from OMDb...\n"
     ]
    },
    {
     "name": "stderr",
     "output_type": "stream",
     "text": [
      "Fetching movie data:  18%|███▎               | 633/3591 [01:50<08:53,  5.55it/s]"
     ]
    },
    {
     "name": "stdout",
     "output_type": "stream",
     "text": [
      "Fetching data for movie ID tt0906048 from OMDb...\n",
      "Fetching data for movie ID tt0320390 from OMDb...\n"
     ]
    },
    {
     "name": "stderr",
     "output_type": "stream",
     "text": [
      "Fetching movie data:  18%|███▎               | 634/3591 [01:50<08:03,  6.12it/s]"
     ]
    },
    {
     "name": "stdout",
     "output_type": "stream",
     "text": [
      "Fetching data for movie ID tt1416801 from OMDb...\n"
     ]
    },
    {
     "name": "stderr",
     "output_type": "stream",
     "text": [
      "Fetching movie data:  18%|███▎               | 636/3591 [01:51<08:40,  5.68it/s]"
     ]
    },
    {
     "name": "stdout",
     "output_type": "stream",
     "text": [
      "Fetching data for movie ID tt2402186 from OMDb...\n",
      "Fetching data for movie ID tt3031022 from OMDb...\n"
     ]
    },
    {
     "name": "stderr",
     "output_type": "stream",
     "text": [
      "Fetching movie data:  18%|███▎               | 637/3591 [01:51<08:25,  5.84it/s]"
     ]
    },
    {
     "name": "stdout",
     "output_type": "stream",
     "text": [
      "Fetching data for movie ID tt1002741 from OMDb...\n"
     ]
    },
    {
     "name": "stderr",
     "output_type": "stream",
     "text": [
      "Fetching movie data:  18%|███▍               | 639/3591 [01:51<08:47,  5.59it/s]"
     ]
    },
    {
     "name": "stdout",
     "output_type": "stream",
     "text": [
      "Fetching data for movie ID tt1194127 from OMDb...\n",
      "Fetching data for movie ID tt0159371 from OMDb...\n"
     ]
    },
    {
     "name": "stderr",
     "output_type": "stream",
     "text": [
      "Fetching movie data:  18%|███▍               | 640/3591 [01:51<08:01,  6.12it/s]"
     ]
    },
    {
     "name": "stdout",
     "output_type": "stream",
     "text": [
      "Fetching data for movie ID tt0253474 from OMDb...\n"
     ]
    },
    {
     "name": "stderr",
     "output_type": "stream",
     "text": [
      "Fetching movie data:  18%|███▍               | 641/3591 [01:52<08:54,  5.52it/s]"
     ]
    },
    {
     "name": "stdout",
     "output_type": "stream",
     "text": [
      "Fetching data for movie ID tt3180128 from OMDb...\n"
     ]
    },
    {
     "name": "stderr",
     "output_type": "stream",
     "text": [
      "Fetching movie data:  18%|███▍               | 643/3591 [01:52<08:18,  5.91it/s]"
     ]
    },
    {
     "name": "stdout",
     "output_type": "stream",
     "text": [
      "Fetching data for movie ID tt0289181 from OMDb...\n",
      "Fetching data for movie ID tt1241326 from OMDb...\n"
     ]
    },
    {
     "name": "stderr",
     "output_type": "stream",
     "text": [
      "Fetching movie data:  18%|███▍               | 645/3591 [01:52<08:08,  6.03it/s]"
     ]
    },
    {
     "name": "stdout",
     "output_type": "stream",
     "text": [
      "Fetching data for movie ID tt4643086 from OMDb...\n",
      "Fetching data for movie ID tt0144940 from OMDb...\n"
     ]
    },
    {
     "name": "stderr",
     "output_type": "stream",
     "text": [
      "Fetching movie data:  18%|███▍               | 646/3591 [01:52<08:17,  5.92it/s]"
     ]
    },
    {
     "name": "stdout",
     "output_type": "stream",
     "text": [
      "Fetching data for movie ID tt0258224 from OMDb...\n"
     ]
    },
    {
     "name": "stderr",
     "output_type": "stream",
     "text": [
      "Fetching movie data:  18%|███▍               | 648/3591 [01:53<08:35,  5.70it/s]"
     ]
    },
    {
     "name": "stdout",
     "output_type": "stream",
     "text": [
      "Fetching data for movie ID tt1724975 from OMDb...\n",
      "Fetching data for movie ID tt1864559 from OMDb...\n"
     ]
    },
    {
     "name": "stderr",
     "output_type": "stream",
     "text": [
      "Fetching movie data:  18%|███▍               | 650/3591 [01:53<08:38,  5.67it/s]"
     ]
    },
    {
     "name": "stdout",
     "output_type": "stream",
     "text": [
      "Fetching data for movie ID tt0399520 from OMDb...\n",
      "Fetching data for movie ID tt11020606 from OMDb...\n"
     ]
    },
    {
     "name": "stderr",
     "output_type": "stream",
     "text": [
      "Fetching movie data:  18%|███▍               | 652/3591 [01:53<07:41,  6.36it/s]"
     ]
    },
    {
     "name": "stdout",
     "output_type": "stream",
     "text": [
      "Fetching data for movie ID tt2753874 from OMDb...\n",
      "Fetching data for movie ID tt4671838 from OMDb...\n"
     ]
    },
    {
     "name": "stderr",
     "output_type": "stream",
     "text": [
      "Fetching movie data:  18%|███▍               | 654/3591 [01:54<08:50,  5.54it/s]"
     ]
    },
    {
     "name": "stdout",
     "output_type": "stream",
     "text": [
      "Fetching data for movie ID tt2949536 from OMDb...\n",
      "Fetching data for movie ID tt2005225 from OMDb...\n"
     ]
    },
    {
     "name": "stderr",
     "output_type": "stream",
     "text": [
      "Fetching movie data:  18%|███▍               | 656/3591 [01:54<08:44,  5.60it/s]"
     ]
    },
    {
     "name": "stdout",
     "output_type": "stream",
     "text": [
      "Fetching data for movie ID tt2691690 from OMDb...\n",
      "Fetching data for movie ID tt1586000 from OMDb...\n"
     ]
    },
    {
     "name": "stderr",
     "output_type": "stream",
     "text": [
      "Fetching movie data:  18%|███▍               | 658/3591 [01:55<08:35,  5.69it/s]"
     ]
    },
    {
     "name": "stdout",
     "output_type": "stream",
     "text": [
      "Fetching data for movie ID tt2365923 from OMDb...\n",
      "Fetching data for movie ID tt1301270 from OMDb...\n"
     ]
    },
    {
     "name": "stderr",
     "output_type": "stream",
     "text": [
      "Fetching movie data:  18%|███▍               | 660/3591 [01:55<08:36,  5.67it/s]"
     ]
    },
    {
     "name": "stdout",
     "output_type": "stream",
     "text": [
      "Fetching data for movie ID tt0336249 from OMDb...\n",
      "Fetching data for movie ID tt0425350 from OMDb...\n"
     ]
    },
    {
     "name": "stderr",
     "output_type": "stream",
     "text": [
      "Fetching movie data:  18%|███▌               | 662/3591 [01:55<08:46,  5.56it/s]"
     ]
    },
    {
     "name": "stdout",
     "output_type": "stream",
     "text": [
      "Fetching data for movie ID tt1337437 from OMDb...\n",
      "Fetching data for movie ID tt1286650 from OMDb...\n"
     ]
    },
    {
     "name": "stderr",
     "output_type": "stream",
     "text": [
      "Fetching movie data:  18%|███▌               | 664/3591 [01:56<08:16,  5.90it/s]"
     ]
    },
    {
     "name": "stdout",
     "output_type": "stream",
     "text": [
      "Fetching data for movie ID tt0430597 from OMDb...\n",
      "Fetching data for movie ID tt0346596 from OMDb...\n"
     ]
    },
    {
     "name": "stderr",
     "output_type": "stream",
     "text": [
      "Fetching movie data:  19%|███▌               | 666/3591 [01:56<08:05,  6.03it/s]"
     ]
    },
    {
     "name": "stdout",
     "output_type": "stream",
     "text": [
      "Fetching data for movie ID tt1800265 from OMDb...\n",
      "Fetching data for movie ID tt0425333 from OMDb...\n"
     ]
    },
    {
     "name": "stderr",
     "output_type": "stream",
     "text": [
      "Fetching movie data:  19%|███▌               | 667/3591 [01:56<08:13,  5.93it/s]"
     ]
    },
    {
     "name": "stdout",
     "output_type": "stream",
     "text": [
      "Fetching data for movie ID tt0367089 from OMDb...\n"
     ]
    },
    {
     "name": "stderr",
     "output_type": "stream",
     "text": [
      "Fetching movie data:  19%|███▌               | 669/3591 [01:56<08:30,  5.73it/s]"
     ]
    },
    {
     "name": "stdout",
     "output_type": "stream",
     "text": [
      "Fetching data for movie ID tt4967652 from OMDb...\n",
      "Fetching data for movie ID tt1786676 from OMDb...\n"
     ]
    },
    {
     "name": "stderr",
     "output_type": "stream",
     "text": [
      "Fetching movie data:  19%|███▌               | 670/3591 [01:57<08:15,  5.90it/s]"
     ]
    },
    {
     "name": "stdout",
     "output_type": "stream",
     "text": [
      "Fetching data for movie ID tt1049413 from OMDb...\n"
     ]
    },
    {
     "name": "stderr",
     "output_type": "stream",
     "text": [
      "Fetching movie data:  19%|███▌               | 672/3591 [01:57<08:07,  5.99it/s]"
     ]
    },
    {
     "name": "stdout",
     "output_type": "stream",
     "text": [
      "Fetching data for movie ID tt0468559 from OMDb...\n",
      "Fetching data for movie ID tt0478813 from OMDb...\n"
     ]
    },
    {
     "name": "stderr",
     "output_type": "stream",
     "text": [
      "Fetching movie data:  19%|███▌               | 673/3591 [01:57<08:06,  6.00it/s]"
     ]
    },
    {
     "name": "stdout",
     "output_type": "stream",
     "text": [
      "Fetching data for movie ID tt1967477 from OMDb...\n"
     ]
    },
    {
     "name": "stderr",
     "output_type": "stream",
     "text": [
      "Fetching movie data:  19%|███▌               | 675/3591 [01:57<08:12,  5.92it/s]"
     ]
    },
    {
     "name": "stdout",
     "output_type": "stream",
     "text": [
      "Fetching data for movie ID tt0481106 from OMDb...\n",
      "Fetching data for movie ID tt2739960 from OMDb...\n"
     ]
    },
    {
     "name": "stderr",
     "output_type": "stream",
     "text": [
      "Fetching movie data:  19%|███▌               | 677/3591 [01:58<08:36,  5.64it/s]"
     ]
    },
    {
     "name": "stdout",
     "output_type": "stream",
     "text": [
      "Fetching data for movie ID tt1611122 from OMDb...\n",
      "Fetching data for movie ID tt3525384 from OMDb...\n"
     ]
    },
    {
     "name": "stderr",
     "output_type": "stream",
     "text": [
      "Fetching movie data:  19%|███▌               | 678/3591 [01:58<08:36,  5.64it/s]"
     ]
    },
    {
     "name": "stdout",
     "output_type": "stream",
     "text": [
      "Fetching data for movie ID tt0334548 from OMDb...\n"
     ]
    },
    {
     "name": "stderr",
     "output_type": "stream",
     "text": [
      "Fetching movie data:  19%|███▌               | 680/3591 [01:58<08:54,  5.44it/s]"
     ]
    },
    {
     "name": "stdout",
     "output_type": "stream",
     "text": [
      "Fetching data for movie ID tt2706362 from OMDb...\n",
      "Fetching data for movie ID tt1766080 from OMDb...\n"
     ]
    },
    {
     "name": "stderr",
     "output_type": "stream",
     "text": [
      "Fetching movie data:  19%|███▌               | 682/3591 [01:59<08:54,  5.44it/s]"
     ]
    },
    {
     "name": "stdout",
     "output_type": "stream",
     "text": [
      "Fetching data for movie ID tt8761830 from OMDb...\n",
      "Fetching data for movie ID tt0330229 from OMDb...\n"
     ]
    },
    {
     "name": "stderr",
     "output_type": "stream",
     "text": [
      "Fetching movie data:  19%|███▌               | 684/3591 [01:59<08:17,  5.84it/s]"
     ]
    },
    {
     "name": "stdout",
     "output_type": "stream",
     "text": [
      "Fetching data for movie ID tt4238860 from OMDb...\n",
      "Fetching data for movie ID tt1527628 from OMDb...\n"
     ]
    },
    {
     "name": "stderr",
     "output_type": "stream",
     "text": [
      "Fetching movie data:  19%|███▋               | 686/3591 [01:59<07:58,  6.07it/s]"
     ]
    },
    {
     "name": "stdout",
     "output_type": "stream",
     "text": [
      "Fetching data for movie ID tt2530112 from OMDb...\n",
      "Fetching data for movie ID tt3426284 from OMDb...\n"
     ]
    },
    {
     "name": "stderr",
     "output_type": "stream",
     "text": [
      "Fetching movie data:  19%|███▋               | 688/3591 [02:00<07:17,  6.63it/s]"
     ]
    },
    {
     "name": "stdout",
     "output_type": "stream",
     "text": [
      "Fetching data for movie ID tt2181993 from OMDb...\n",
      "Fetching data for movie ID tt3961690 from OMDb...\n"
     ]
    },
    {
     "name": "stderr",
     "output_type": "stream",
     "text": [
      "Fetching movie data:  19%|███▋               | 690/3591 [02:00<06:46,  7.14it/s]"
     ]
    },
    {
     "name": "stdout",
     "output_type": "stream",
     "text": [
      "Fetching data for movie ID tt2221952 from OMDb...\n",
      "Fetching data for movie ID tt0942385 from OMDb...\n"
     ]
    },
    {
     "name": "stderr",
     "output_type": "stream",
     "text": [
      "Fetching movie data:  19%|███▋               | 692/3591 [02:00<06:18,  7.66it/s]"
     ]
    },
    {
     "name": "stdout",
     "output_type": "stream",
     "text": [
      "Fetching data for movie ID tt1986861 from OMDb...\n",
      "Fetching data for movie ID tt1214974 from OMDb...\n"
     ]
    },
    {
     "name": "stderr",
     "output_type": "stream",
     "text": [
      "Fetching movie data:  19%|███▋               | 693/3591 [02:00<06:44,  7.16it/s]"
     ]
    },
    {
     "name": "stdout",
     "output_type": "stream",
     "text": [
      "Fetching data for movie ID tt0387112 from OMDb...\n"
     ]
    },
    {
     "name": "stderr",
     "output_type": "stream",
     "text": [
      "Fetching movie data:  19%|███▋               | 695/3591 [02:01<09:03,  5.32it/s]"
     ]
    },
    {
     "name": "stdout",
     "output_type": "stream",
     "text": [
      "Fetching data for movie ID tt0316188 from OMDb...\n",
      "Fetching data for movie ID tt0264509 from OMDb...\n"
     ]
    },
    {
     "name": "stderr",
     "output_type": "stream",
     "text": [
      "Fetching movie data:  19%|███▋               | 697/3591 [02:01<08:03,  5.98it/s]"
     ]
    },
    {
     "name": "stdout",
     "output_type": "stream",
     "text": [
      "Fetching data for movie ID tt1999828 from OMDb...\n",
      "Fetching data for movie ID tt0347293 from OMDb...\n"
     ]
    },
    {
     "name": "stderr",
     "output_type": "stream",
     "text": [
      "Fetching movie data:  19%|███▋               | 699/3591 [02:01<07:09,  6.73it/s]"
     ]
    },
    {
     "name": "stdout",
     "output_type": "stream",
     "text": [
      "Fetching data for movie ID tt2555044 from OMDb...\n",
      "Fetching data for movie ID tt2076360 from OMDb...\n"
     ]
    },
    {
     "name": "stderr",
     "output_type": "stream",
     "text": [
      "Fetching movie data:  20%|███▋               | 701/3591 [02:02<08:16,  5.82it/s]"
     ]
    },
    {
     "name": "stdout",
     "output_type": "stream",
     "text": [
      "Fetching data for movie ID tt0416463 from OMDb...\n",
      "Progress saved after 23300 movies.\n",
      "Fetching data for movie ID tt1485763 from OMDb...\n"
     ]
    },
    {
     "name": "stderr",
     "output_type": "stream",
     "text": [
      "Fetching movie data:  20%|███▋               | 702/3591 [02:02<07:33,  6.36it/s]"
     ]
    },
    {
     "name": "stdout",
     "output_type": "stream",
     "text": [
      "Fetching data for movie ID tt0423984 from OMDb...\n"
     ]
    },
    {
     "name": "stderr",
     "output_type": "stream",
     "text": [
      "Fetching movie data:  20%|███▋               | 704/3591 [02:02<07:38,  6.30it/s]"
     ]
    },
    {
     "name": "stdout",
     "output_type": "stream",
     "text": [
      "Fetching data for movie ID tt0293086 from OMDb...\n",
      "Fetching data for movie ID tt1950205 from OMDb...\n"
     ]
    },
    {
     "name": "stderr",
     "output_type": "stream",
     "text": [
      "Fetching movie data:  20%|███▋               | 706/3591 [02:03<07:28,  6.44it/s]"
     ]
    },
    {
     "name": "stdout",
     "output_type": "stream",
     "text": [
      "Fetching data for movie ID tt1217269 from OMDb...\n",
      "Fetching data for movie ID tt3281622 from OMDb...\n"
     ]
    },
    {
     "name": "stderr",
     "output_type": "stream",
     "text": [
      "Fetching movie data:  20%|███▋               | 708/3591 [02:03<07:16,  6.60it/s]"
     ]
    },
    {
     "name": "stdout",
     "output_type": "stream",
     "text": [
      "Fetching data for movie ID tt3523572 from OMDb...\n",
      "Fetching data for movie ID tt0465467 from OMDb...\n"
     ]
    },
    {
     "name": "stderr",
     "output_type": "stream",
     "text": [
      "Fetching movie data:  20%|███▊               | 710/3591 [02:03<08:07,  5.91it/s]"
     ]
    },
    {
     "name": "stdout",
     "output_type": "stream",
     "text": [
      "Fetching data for movie ID tt1134661 from OMDb...\n",
      "Fetching data for movie ID tt2318579 from OMDb...\n"
     ]
    },
    {
     "name": "stderr",
     "output_type": "stream",
     "text": [
      "Fetching movie data:  20%|███▊               | 712/3591 [02:04<08:28,  5.66it/s]"
     ]
    },
    {
     "name": "stdout",
     "output_type": "stream",
     "text": [
      "Fetching data for movie ID tt0133240 from OMDb...\n",
      "Fetching data for movie ID tt0906666 from OMDb...\n"
     ]
    },
    {
     "name": "stderr",
     "output_type": "stream",
     "text": [
      "Fetching movie data:  20%|███▊               | 714/3591 [02:04<07:50,  6.12it/s]"
     ]
    },
    {
     "name": "stdout",
     "output_type": "stream",
     "text": [
      "Fetching data for movie ID tt1408313 from OMDb...\n",
      "Fetching data for movie ID tt2879058 from OMDb...\n"
     ]
    },
    {
     "name": "stderr",
     "output_type": "stream",
     "text": [
      "Fetching movie data:  20%|███▊               | 716/3591 [02:04<08:33,  5.60it/s]"
     ]
    },
    {
     "name": "stdout",
     "output_type": "stream",
     "text": [
      "Fetching data for movie ID tt1403201 from OMDb...\n",
      "Fetching data for movie ID tt1120985 from OMDb...\n"
     ]
    },
    {
     "name": "stderr",
     "output_type": "stream",
     "text": [
      "Fetching movie data:  20%|███▊               | 717/3591 [02:04<07:57,  6.02it/s]"
     ]
    },
    {
     "name": "stdout",
     "output_type": "stream",
     "text": [
      "Fetching data for movie ID tt0829269 from OMDb...\n"
     ]
    },
    {
     "name": "stderr",
     "output_type": "stream",
     "text": [
      "Fetching movie data:  20%|███▊               | 719/3591 [02:05<08:44,  5.47it/s]"
     ]
    },
    {
     "name": "stdout",
     "output_type": "stream",
     "text": [
      "Fetching data for movie ID tt0496660 from OMDb...\n",
      "Fetching data for movie ID tt12303494 from OMDb...\n"
     ]
    },
    {
     "name": "stderr",
     "output_type": "stream",
     "text": [
      "Fetching movie data:  20%|███▊               | 720/3591 [02:05<07:48,  6.13it/s]"
     ]
    },
    {
     "name": "stdout",
     "output_type": "stream",
     "text": [
      "Fetching data for movie ID tt0808277 from OMDb...\n"
     ]
    },
    {
     "name": "stderr",
     "output_type": "stream",
     "text": [
      "Fetching movie data:  20%|███▊               | 721/3591 [02:05<08:28,  5.65it/s]"
     ]
    },
    {
     "name": "stdout",
     "output_type": "stream",
     "text": [
      "Fetching data for movie ID tt0984188 from OMDb...\n"
     ]
    },
    {
     "name": "stderr",
     "output_type": "stream",
     "text": [
      "Fetching movie data:  20%|███▊               | 723/3591 [02:06<08:02,  5.94it/s]"
     ]
    },
    {
     "name": "stdout",
     "output_type": "stream",
     "text": [
      "Fetching data for movie ID tt2333270 from OMDb...\n",
      "Fetching data for movie ID tt0491778 from OMDb...\n"
     ]
    },
    {
     "name": "stderr",
     "output_type": "stream",
     "text": [
      "Fetching movie data:  20%|███▊               | 725/3591 [02:06<07:55,  6.02it/s]"
     ]
    },
    {
     "name": "stdout",
     "output_type": "stream",
     "text": [
      "Fetching data for movie ID tt1296893 from OMDb...\n",
      "Fetching data for movie ID tt2445888 from OMDb...\n"
     ]
    },
    {
     "name": "stderr",
     "output_type": "stream",
     "text": [
      "Fetching movie data:  20%|███▊               | 727/3591 [02:06<08:31,  5.59it/s]"
     ]
    },
    {
     "name": "stdout",
     "output_type": "stream",
     "text": [
      "Fetching data for movie ID tt2368989 from OMDb...\n",
      "Fetching data for movie ID tt2316465 from OMDb...\n"
     ]
    },
    {
     "name": "stderr",
     "output_type": "stream",
     "text": [
      "Fetching movie data:  20%|███▊               | 729/3591 [02:07<08:12,  5.81it/s]"
     ]
    },
    {
     "name": "stdout",
     "output_type": "stream",
     "text": [
      "Fetching data for movie ID tt1523377 from OMDb...\n",
      "Fetching data for movie ID tt0912596 from OMDb...\n"
     ]
    },
    {
     "name": "stderr",
     "output_type": "stream",
     "text": [
      "Fetching movie data:  20%|███▊               | 731/3591 [02:07<08:37,  5.53it/s]"
     ]
    },
    {
     "name": "stdout",
     "output_type": "stream",
     "text": [
      "Fetching data for movie ID tt2277946 from OMDb...\n",
      "Fetching data for movie ID tt2411750 from OMDb...\n"
     ]
    },
    {
     "name": "stderr",
     "output_type": "stream",
     "text": [
      "Fetching movie data:  20%|███▊               | 732/3591 [02:07<07:54,  6.03it/s]"
     ]
    },
    {
     "name": "stdout",
     "output_type": "stream",
     "text": [
      "Fetching data for movie ID tt2763640 from OMDb...\n"
     ]
    },
    {
     "name": "stderr",
     "output_type": "stream",
     "text": [
      "Fetching movie data:  20%|███▉               | 734/3591 [02:07<07:48,  6.10it/s]"
     ]
    },
    {
     "name": "stdout",
     "output_type": "stream",
     "text": [
      "Fetching data for movie ID tt2933338 from OMDb...\n",
      "Fetching data for movie ID tt3240322 from OMDb...\n"
     ]
    },
    {
     "name": "stderr",
     "output_type": "stream",
     "text": [
      "Fetching movie data:  20%|███▉               | 735/3591 [02:08<07:14,  6.58it/s]"
     ]
    },
    {
     "name": "stdout",
     "output_type": "stream",
     "text": [
      "Fetching data for movie ID tt1196707 from OMDb...\n"
     ]
    },
    {
     "name": "stderr",
     "output_type": "stream",
     "text": [
      "Fetching movie data:  21%|███▉               | 737/3591 [02:08<08:13,  5.78it/s]"
     ]
    },
    {
     "name": "stdout",
     "output_type": "stream",
     "text": [
      "Fetching data for movie ID tt1344403 from OMDb...\n",
      "Fetching data for movie ID tt1455180 from OMDb...\n"
     ]
    },
    {
     "name": "stderr",
     "output_type": "stream",
     "text": [
      "Fetching movie data:  21%|███▉               | 738/3591 [02:08<08:10,  5.81it/s]"
     ]
    },
    {
     "name": "stdout",
     "output_type": "stream",
     "text": [
      "Fetching data for movie ID tt2387722 from OMDb...\n"
     ]
    },
    {
     "name": "stderr",
     "output_type": "stream",
     "text": [
      "Fetching movie data:  21%|███▉               | 740/3591 [02:09<08:45,  5.43it/s]"
     ]
    },
    {
     "name": "stdout",
     "output_type": "stream",
     "text": [
      "Fetching data for movie ID tt5489552 from OMDb...\n",
      "Fetching data for movie ID tt1773008 from OMDb...\n"
     ]
    },
    {
     "name": "stderr",
     "output_type": "stream",
     "text": [
      "Fetching movie data:  21%|███▉               | 742/3591 [02:09<08:27,  5.61it/s]"
     ]
    },
    {
     "name": "stdout",
     "output_type": "stream",
     "text": [
      "Fetching data for movie ID tt1273660 from OMDb...\n",
      "Fetching data for movie ID tt1701997 from OMDb...\n"
     ]
    },
    {
     "name": "stderr",
     "output_type": "stream",
     "text": [
      "Fetching movie data:  21%|███▉               | 743/3591 [02:09<11:46,  4.03it/s]"
     ]
    },
    {
     "name": "stdout",
     "output_type": "stream",
     "text": [
      "Fetching data for movie ID tt1542885 from OMDb...\n"
     ]
    },
    {
     "name": "stderr",
     "output_type": "stream",
     "text": [
      "Fetching movie data:  21%|███▉               | 745/3591 [02:10<10:39,  4.45it/s]"
     ]
    },
    {
     "name": "stdout",
     "output_type": "stream",
     "text": [
      "Fetching data for movie ID tt1791606 from OMDb...\n",
      "Fetching data for movie ID tt1864437 from OMDb...\n"
     ]
    },
    {
     "name": "stderr",
     "output_type": "stream",
     "text": [
      "Fetching movie data:  21%|███▉               | 746/3591 [02:10<09:16,  5.11it/s]"
     ]
    },
    {
     "name": "stdout",
     "output_type": "stream",
     "text": [
      "Fetching data for movie ID tt2899602 from OMDb...\n"
     ]
    },
    {
     "name": "stderr",
     "output_type": "stream",
     "text": [
      "Fetching movie data:  21%|███▉               | 748/3591 [02:10<09:15,  5.12it/s]"
     ]
    },
    {
     "name": "stdout",
     "output_type": "stream",
     "text": [
      "Fetching data for movie ID tt0419142 from OMDb...\n",
      "Fetching data for movie ID tt1560701 from OMDb...\n"
     ]
    },
    {
     "name": "stderr",
     "output_type": "stream",
     "text": [
      "Fetching movie data:  21%|███▉               | 750/3591 [02:11<08:30,  5.56it/s]"
     ]
    },
    {
     "name": "stdout",
     "output_type": "stream",
     "text": [
      "Fetching data for movie ID tt0417202 from OMDb...\n",
      "Fetching data for movie ID tt1338630 from OMDb...\n"
     ]
    },
    {
     "name": "stderr",
     "output_type": "stream",
     "text": [
      "Fetching movie data:  21%|███▉               | 751/3591 [02:11<08:32,  5.54it/s]"
     ]
    },
    {
     "name": "stdout",
     "output_type": "stream",
     "text": [
      "Fetching data for movie ID tt2145644 from OMDb...\n"
     ]
    },
    {
     "name": "stderr",
     "output_type": "stream",
     "text": [
      "Fetching movie data:  21%|███▉               | 753/3591 [02:11<08:49,  5.36it/s]"
     ]
    },
    {
     "name": "stdout",
     "output_type": "stream",
     "text": [
      "Fetching data for movie ID tt1351237 from OMDb...\n",
      "Fetching data for movie ID tt1361857 from OMDb...\n"
     ]
    },
    {
     "name": "stderr",
     "output_type": "stream",
     "text": [
      "Fetching movie data:  21%|███▉               | 755/3591 [02:11<08:31,  5.54it/s]"
     ]
    },
    {
     "name": "stdout",
     "output_type": "stream",
     "text": [
      "Fetching data for movie ID tt1146349 from OMDb...\n",
      "Fetching data for movie ID tt1238117 from OMDb...\n"
     ]
    },
    {
     "name": "stderr",
     "output_type": "stream",
     "text": [
      "Fetching movie data:  21%|████               | 757/3591 [02:12<07:44,  6.11it/s]"
     ]
    },
    {
     "name": "stdout",
     "output_type": "stream",
     "text": [
      "Fetching data for movie ID tt0338020 from OMDb...\n",
      "Fetching data for movie ID tt1210111 from OMDb...\n"
     ]
    },
    {
     "name": "stderr",
     "output_type": "stream",
     "text": [
      "Fetching movie data:  21%|████               | 758/3591 [02:12<07:20,  6.43it/s]"
     ]
    },
    {
     "name": "stdout",
     "output_type": "stream",
     "text": [
      "Fetching data for movie ID tt0442268 from OMDb...\n"
     ]
    },
    {
     "name": "stderr",
     "output_type": "stream",
     "text": [
      "Fetching movie data:  21%|████               | 760/3591 [02:12<07:39,  6.16it/s]"
     ]
    },
    {
     "name": "stdout",
     "output_type": "stream",
     "text": [
      "Fetching data for movie ID tt0345021 from OMDb...\n",
      "Fetching data for movie ID tt1564353 from OMDb...\n"
     ]
    },
    {
     "name": "stderr",
     "output_type": "stream",
     "text": [
      "Fetching movie data:  21%|████               | 762/3591 [02:13<07:24,  6.37it/s]"
     ]
    },
    {
     "name": "stdout",
     "output_type": "stream",
     "text": [
      "Fetching data for movie ID tt1805164 from OMDb...\n",
      "Fetching data for movie ID tt2625598 from OMDb...\n"
     ]
    },
    {
     "name": "stderr",
     "output_type": "stream",
     "text": [
      "Fetching movie data:  21%|████               | 764/3591 [02:13<06:41,  7.04it/s]"
     ]
    },
    {
     "name": "stdout",
     "output_type": "stream",
     "text": [
      "Fetching data for movie ID tt3502210 from OMDb...\n",
      "Fetching data for movie ID tt0460989 from OMDb...\n"
     ]
    },
    {
     "name": "stderr",
     "output_type": "stream",
     "text": [
      "Fetching movie data:  21%|████               | 766/3591 [02:13<07:28,  6.30it/s]"
     ]
    },
    {
     "name": "stdout",
     "output_type": "stream",
     "text": [
      "Fetching data for movie ID tt0929806 from OMDb...\n",
      "Fetching data for movie ID tt1584706 from OMDb...\n"
     ]
    },
    {
     "name": "stderr",
     "output_type": "stream",
     "text": [
      "Fetching movie data:  21%|████               | 768/3591 [02:13<06:47,  6.93it/s]"
     ]
    },
    {
     "name": "stdout",
     "output_type": "stream",
     "text": [
      "Fetching data for movie ID tt3121430 from OMDb...\n",
      "Fetching data for movie ID tt1337606 from OMDb...\n"
     ]
    },
    {
     "name": "stderr",
     "output_type": "stream",
     "text": [
      "Fetching movie data:  21%|████               | 770/3591 [02:14<06:31,  7.21it/s]"
     ]
    },
    {
     "name": "stdout",
     "output_type": "stream",
     "text": [
      "Fetching data for movie ID tt2551618 from OMDb...\n",
      "Fetching data for movie ID tt1531010 from OMDb...\n"
     ]
    },
    {
     "name": "stderr",
     "output_type": "stream",
     "text": [
      "Fetching movie data:  21%|████               | 771/3591 [02:14<07:00,  6.71it/s]"
     ]
    },
    {
     "name": "stdout",
     "output_type": "stream",
     "text": [
      "Fetching data for movie ID tt1144025 from OMDb...\n"
     ]
    },
    {
     "name": "stderr",
     "output_type": "stream",
     "text": [
      "Fetching movie data:  22%|████               | 773/3591 [02:14<07:58,  5.89it/s]"
     ]
    },
    {
     "name": "stdout",
     "output_type": "stream",
     "text": [
      "Fetching data for movie ID tt0391483 from OMDb...\n",
      "Fetching data for movie ID tt1641638 from OMDb...\n"
     ]
    },
    {
     "name": "stderr",
     "output_type": "stream",
     "text": [
      "Fetching movie data:  22%|████               | 774/3591 [02:14<07:25,  6.32it/s]"
     ]
    },
    {
     "name": "stdout",
     "output_type": "stream",
     "text": [
      "Fetching data for movie ID tt1935084 from OMDb...\n"
     ]
    },
    {
     "name": "stderr",
     "output_type": "stream",
     "text": [
      "Fetching movie data:  22%|████               | 776/3591 [02:15<07:50,  5.99it/s]"
     ]
    },
    {
     "name": "stdout",
     "output_type": "stream",
     "text": [
      "Fetching data for movie ID tt1899342 from OMDb...\n",
      "Fetching data for movie ID tt3119074 from OMDb...\n"
     ]
    },
    {
     "name": "stderr",
     "output_type": "stream",
     "text": [
      "Fetching movie data:  22%|████               | 778/3591 [02:15<06:58,  6.72it/s]"
     ]
    },
    {
     "name": "stdout",
     "output_type": "stream",
     "text": [
      "Fetching data for movie ID tt3322584 from OMDb...\n",
      "Fetching data for movie ID tt2385398 from OMDb...\n"
     ]
    },
    {
     "name": "stderr",
     "output_type": "stream",
     "text": [
      "Fetching movie data:  22%|████▏              | 780/3591 [02:15<07:23,  6.33it/s]"
     ]
    },
    {
     "name": "stdout",
     "output_type": "stream",
     "text": [
      "Fetching data for movie ID tt3129706 from OMDb...\n",
      "Fetching data for movie ID tt2094912 from OMDb...\n"
     ]
    },
    {
     "name": "stderr",
     "output_type": "stream",
     "text": [
      "Fetching movie data:  22%|████▏              | 782/3591 [02:16<07:15,  6.45it/s]"
     ]
    },
    {
     "name": "stdout",
     "output_type": "stream",
     "text": [
      "Fetching data for movie ID tt1473063 from OMDb...\n",
      "Fetching data for movie ID tt4038630 from OMDb...\n"
     ]
    },
    {
     "name": "stderr",
     "output_type": "stream",
     "text": [
      "Fetching movie data:  22%|████▏              | 784/3591 [02:16<07:59,  5.85it/s]"
     ]
    },
    {
     "name": "stdout",
     "output_type": "stream",
     "text": [
      "Fetching data for movie ID tt2462202 from OMDb...\n",
      "Fetching data for movie ID tt3080704 from OMDb...\n"
     ]
    },
    {
     "name": "stderr",
     "output_type": "stream",
     "text": [
      "Fetching movie data:  22%|████▏              | 786/3591 [02:16<07:52,  5.93it/s]"
     ]
    },
    {
     "name": "stdout",
     "output_type": "stream",
     "text": [
      "Fetching data for movie ID tt1147513 from OMDb...\n",
      "Fetching data for movie ID tt10663998 from OMDb...\n"
     ]
    },
    {
     "name": "stderr",
     "output_type": "stream",
     "text": [
      "Fetching movie data:  22%|████▏              | 787/3591 [02:17<07:57,  5.87it/s]"
     ]
    },
    {
     "name": "stdout",
     "output_type": "stream",
     "text": [
      "Fetching data for movie ID tt3235012 from OMDb...\n"
     ]
    },
    {
     "name": "stderr",
     "output_type": "stream",
     "text": [
      "Fetching movie data:  22%|████▏              | 789/3591 [02:17<08:40,  5.38it/s]"
     ]
    },
    {
     "name": "stdout",
     "output_type": "stream",
     "text": [
      "Fetching data for movie ID tt1600801 from OMDb...\n",
      "Fetching data for movie ID tt1822266 from OMDb...\n"
     ]
    },
    {
     "name": "stderr",
     "output_type": "stream",
     "text": [
      "Fetching movie data:  22%|████▏              | 791/3591 [02:17<07:51,  5.93it/s]"
     ]
    },
    {
     "name": "stdout",
     "output_type": "stream",
     "text": [
      "Fetching data for movie ID tt2392432 from OMDb...\n",
      "Fetching data for movie ID tt0308006 from OMDb...\n"
     ]
    },
    {
     "name": "stderr",
     "output_type": "stream",
     "text": [
      "Fetching movie data:  22%|████▏              | 793/3591 [02:18<07:32,  6.18it/s]"
     ]
    },
    {
     "name": "stdout",
     "output_type": "stream",
     "text": [
      "Fetching data for movie ID tt1918769 from OMDb...\n",
      "Fetching data for movie ID tt0377967 from OMDb...\n"
     ]
    },
    {
     "name": "stderr",
     "output_type": "stream",
     "text": [
      "Fetching movie data:  22%|████▏              | 795/3591 [02:18<07:27,  6.25it/s]"
     ]
    },
    {
     "name": "stdout",
     "output_type": "stream",
     "text": [
      "Fetching data for movie ID tt1422122 from OMDb...\n",
      "Fetching data for movie ID tt0455121 from OMDb...\n"
     ]
    },
    {
     "name": "stderr",
     "output_type": "stream",
     "text": [
      "Fetching movie data:  22%|████▏              | 796/3591 [02:18<07:56,  5.87it/s]"
     ]
    },
    {
     "name": "stdout",
     "output_type": "stream",
     "text": [
      "Fetching data for movie ID tt1424058 from OMDb...\n"
     ]
    },
    {
     "name": "stderr",
     "output_type": "stream",
     "text": [
      "Fetching movie data:  22%|████▏              | 798/3591 [02:18<08:20,  5.58it/s]"
     ]
    },
    {
     "name": "stdout",
     "output_type": "stream",
     "text": [
      "Fetching data for movie ID tt0318087 from OMDb...\n",
      "Fetching data for movie ID tt3447878 from OMDb...\n"
     ]
    },
    {
     "name": "stderr",
     "output_type": "stream",
     "text": [
      "Fetching movie data:  22%|████▏              | 800/3591 [02:19<08:14,  5.64it/s]"
     ]
    },
    {
     "name": "stdout",
     "output_type": "stream",
     "text": [
      "Fetching data for movie ID tt1562463 from OMDb...\n",
      "Fetching data for movie ID tt2106620 from OMDb...\n"
     ]
    },
    {
     "name": "stderr",
     "output_type": "stream",
     "text": [
      "Fetching movie data:  22%|████▏              | 802/3591 [02:19<08:14,  5.64it/s]"
     ]
    },
    {
     "name": "stdout",
     "output_type": "stream",
     "text": [
      "Progress saved after 23400 movies.\n",
      "Fetching data for movie ID tt1023114 from OMDb...\n",
      "Fetching data for movie ID tt0384504 from OMDb...\n"
     ]
    },
    {
     "name": "stderr",
     "output_type": "stream",
     "text": [
      "Fetching movie data:  22%|████▎              | 804/3591 [02:20<08:08,  5.71it/s]"
     ]
    },
    {
     "name": "stdout",
     "output_type": "stream",
     "text": [
      "Fetching data for movie ID tt4529552 from OMDb...\n",
      "Fetching data for movie ID tt0408740 from OMDb...\n"
     ]
    },
    {
     "name": "stderr",
     "output_type": "stream",
     "text": [
      "Fetching movie data:  22%|████▎              | 805/3591 [02:20<07:24,  6.27it/s]"
     ]
    },
    {
     "name": "stdout",
     "output_type": "stream",
     "text": [
      "Fetching data for movie ID tt1305107 from OMDb...\n"
     ]
    },
    {
     "name": "stderr",
     "output_type": "stream",
     "text": [
      "Fetching movie data:  22%|████▎              | 807/3591 [02:20<08:06,  5.72it/s]"
     ]
    },
    {
     "name": "stdout",
     "output_type": "stream",
     "text": [
      "Fetching data for movie ID tt1729652 from OMDb...\n",
      "Fetching data for movie ID tt0427710 from OMDb...\n"
     ]
    },
    {
     "name": "stderr",
     "output_type": "stream",
     "text": [
      "Fetching movie data:  23%|████▎              | 808/3591 [02:20<07:42,  6.01it/s]"
     ]
    },
    {
     "name": "stdout",
     "output_type": "stream",
     "text": [
      "Fetching data for movie ID tt1039652 from OMDb...\n"
     ]
    },
    {
     "name": "stderr",
     "output_type": "stream",
     "text": [
      "Fetching movie data:  23%|████▎              | 810/3591 [02:21<07:38,  6.07it/s]"
     ]
    },
    {
     "name": "stdout",
     "output_type": "stream",
     "text": [
      "Fetching data for movie ID tt0454391 from OMDb...\n",
      "Fetching data for movie ID tt2894206 from OMDb...\n"
     ]
    },
    {
     "name": "stderr",
     "output_type": "stream",
     "text": [
      "Fetching movie data:  23%|████▎              | 812/3591 [02:21<06:41,  6.93it/s]"
     ]
    },
    {
     "name": "stdout",
     "output_type": "stream",
     "text": [
      "Fetching data for movie ID tt1753837 from OMDb...\n",
      "Fetching data for movie ID tt1814746 from OMDb...\n"
     ]
    },
    {
     "name": "stderr",
     "output_type": "stream",
     "text": [
      "Fetching movie data:  23%|████▎              | 814/3591 [02:21<06:54,  6.70it/s]"
     ]
    },
    {
     "name": "stdout",
     "output_type": "stream",
     "text": [
      "Fetching data for movie ID tt1329372 from OMDb...\n",
      "Fetching data for movie ID tt1566528 from OMDb...\n"
     ]
    },
    {
     "name": "stderr",
     "output_type": "stream",
     "text": [
      "Fetching movie data:  23%|████▎              | 815/3591 [02:21<06:43,  6.88it/s]"
     ]
    },
    {
     "name": "stdout",
     "output_type": "stream",
     "text": [
      "Fetching data for movie ID tt1356409 from OMDb...\n"
     ]
    },
    {
     "name": "stderr",
     "output_type": "stream",
     "text": [
      "Fetching movie data:  23%|████▎              | 817/3591 [02:22<07:39,  6.04it/s]"
     ]
    },
    {
     "name": "stdout",
     "output_type": "stream",
     "text": [
      "Fetching data for movie ID tt1753779 from OMDb...\n",
      "Fetching data for movie ID tt1830792 from OMDb...\n"
     ]
    },
    {
     "name": "stderr",
     "output_type": "stream",
     "text": [
      "Fetching movie data:  23%|████▎              | 819/3591 [02:22<08:03,  5.74it/s]"
     ]
    },
    {
     "name": "stdout",
     "output_type": "stream",
     "text": [
      "Fetching data for movie ID tt1463166 from OMDb...\n",
      "Fetching data for movie ID tt3099378 from OMDb...\n"
     ]
    },
    {
     "name": "stderr",
     "output_type": "stream",
     "text": [
      "Fetching movie data:  23%|████▎              | 821/3591 [02:22<07:07,  6.48it/s]"
     ]
    },
    {
     "name": "stdout",
     "output_type": "stream",
     "text": [
      "Fetching data for movie ID tt1778213 from OMDb...\n",
      "Fetching data for movie ID tt0367535 from OMDb...\n"
     ]
    },
    {
     "name": "stderr",
     "output_type": "stream",
     "text": [
      "Fetching movie data:  23%|████▎              | 823/3591 [02:23<08:16,  5.58it/s]"
     ]
    },
    {
     "name": "stdout",
     "output_type": "stream",
     "text": [
      "Fetching data for movie ID tt1052036 from OMDb...\n",
      "Fetching data for movie ID tt1692987 from OMDb...\n"
     ]
    },
    {
     "name": "stderr",
     "output_type": "stream",
     "text": [
      "Fetching movie data:  23%|████▎              | 824/3591 [02:23<07:29,  6.15it/s]"
     ]
    },
    {
     "name": "stdout",
     "output_type": "stream",
     "text": [
      "Fetching data for movie ID tt2205002 from OMDb...\n"
     ]
    },
    {
     "name": "stderr",
     "output_type": "stream",
     "text": [
      "Fetching movie data:  23%|████▎              | 826/3591 [02:23<08:21,  5.51it/s]"
     ]
    },
    {
     "name": "stdout",
     "output_type": "stream",
     "text": [
      "Fetching data for movie ID tt1546766 from OMDb...\n",
      "Fetching data for movie ID tt0816146 from OMDb...\n"
     ]
    },
    {
     "name": "stderr",
     "output_type": "stream",
     "text": [
      "Fetching movie data:  23%|████▍              | 827/3591 [02:23<07:37,  6.04it/s]"
     ]
    },
    {
     "name": "stdout",
     "output_type": "stream",
     "text": [
      "Fetching data for movie ID tt2078696 from OMDb...\n"
     ]
    },
    {
     "name": "stderr",
     "output_type": "stream",
     "text": [
      "Fetching movie data:  23%|████▍              | 829/3591 [02:24<07:59,  5.76it/s]"
     ]
    },
    {
     "name": "stdout",
     "output_type": "stream",
     "text": [
      "Fetching data for movie ID tt14338038 from OMDb...\n",
      "Fetching data for movie ID tt2771058 from OMDb...\n"
     ]
    },
    {
     "name": "stderr",
     "output_type": "stream",
     "text": [
      "Fetching movie data:  23%|████▍              | 831/3591 [02:24<07:03,  6.52it/s]"
     ]
    },
    {
     "name": "stdout",
     "output_type": "stream",
     "text": [
      "Fetching data for movie ID tt0212298 from OMDb...\n",
      "Fetching data for movie ID tt0226190 from OMDb...\n"
     ]
    },
    {
     "name": "stderr",
     "output_type": "stream",
     "text": [
      "Fetching movie data:  23%|████▍              | 833/3591 [02:24<07:35,  6.05it/s]"
     ]
    },
    {
     "name": "stdout",
     "output_type": "stream",
     "text": [
      "Fetching data for movie ID tt0451231 from OMDb...\n",
      "Fetching data for movie ID tt2362156 from OMDb...\n"
     ]
    },
    {
     "name": "stderr",
     "output_type": "stream",
     "text": [
      "Fetching movie data:  23%|████▍              | 835/3591 [02:25<08:28,  5.42it/s]"
     ]
    },
    {
     "name": "stdout",
     "output_type": "stream",
     "text": [
      "Fetching data for movie ID tt1773629 from OMDb...\n",
      "Fetching data for movie ID tt1996413 from OMDb...\n"
     ]
    },
    {
     "name": "stderr",
     "output_type": "stream",
     "text": [
      "Fetching movie data:  23%|████▍              | 836/3591 [02:25<07:40,  5.98it/s]"
     ]
    },
    {
     "name": "stdout",
     "output_type": "stream",
     "text": [
      "Fetching data for movie ID tt2087847 from OMDb...\n"
     ]
    },
    {
     "name": "stderr",
     "output_type": "stream",
     "text": [
      "Fetching movie data:  23%|████▍              | 838/3591 [02:25<07:33,  6.07it/s]"
     ]
    },
    {
     "name": "stdout",
     "output_type": "stream",
     "text": [
      "Fetching data for movie ID tt0446765 from OMDb...\n",
      "Fetching data for movie ID tt0496218 from OMDb...\n"
     ]
    },
    {
     "name": "stderr",
     "output_type": "stream",
     "text": [
      "Fetching movie data:  23%|████▍              | 840/3591 [02:26<06:56,  6.60it/s]"
     ]
    },
    {
     "name": "stdout",
     "output_type": "stream",
     "text": [
      "Fetching data for movie ID tt2007499 from OMDb...\n",
      "Fetching data for movie ID tt2241311 from OMDb...\n"
     ]
    },
    {
     "name": "stderr",
     "output_type": "stream",
     "text": [
      "Fetching movie data:  23%|████▍              | 842/3591 [02:26<06:39,  6.89it/s]"
     ]
    },
    {
     "name": "stdout",
     "output_type": "stream",
     "text": [
      "Fetching data for movie ID tt2138042 from OMDb...\n",
      "Fetching data for movie ID tt1241250 from OMDb...\n"
     ]
    },
    {
     "name": "stderr",
     "output_type": "stream",
     "text": [
      "Fetching movie data:  23%|████▍              | 843/3591 [02:26<06:56,  6.60it/s]"
     ]
    },
    {
     "name": "stdout",
     "output_type": "stream",
     "text": [
      "Fetching data for movie ID tt0756237 from OMDb...\n"
     ]
    },
    {
     "name": "stderr",
     "output_type": "stream",
     "text": [
      "Fetching movie data:  24%|████▍              | 845/3591 [02:26<07:55,  5.78it/s]"
     ]
    },
    {
     "name": "stdout",
     "output_type": "stream",
     "text": [
      "Fetching data for movie ID tt1564930 from OMDb...\n",
      "Fetching data for movie ID tt3811466 from OMDb...\n"
     ]
    },
    {
     "name": "stderr",
     "output_type": "stream",
     "text": [
      "Fetching movie data:  24%|████▍              | 846/3591 [02:26<07:10,  6.37it/s]"
     ]
    },
    {
     "name": "stdout",
     "output_type": "stream",
     "text": [
      "Fetching data for movie ID tt0480732 from OMDb...\n"
     ]
    },
    {
     "name": "stderr",
     "output_type": "stream",
     "text": [
      "Fetching movie data:  24%|████▍              | 848/3591 [02:27<07:23,  6.19it/s]"
     ]
    },
    {
     "name": "stdout",
     "output_type": "stream",
     "text": [
      "Fetching data for movie ID tt0331811 from OMDb...\n",
      "Fetching data for movie ID tt2378396 from OMDb...\n"
     ]
    },
    {
     "name": "stderr",
     "output_type": "stream",
     "text": [
      "Fetching movie data:  24%|████▍              | 849/3591 [02:27<07:34,  6.04it/s]"
     ]
    },
    {
     "name": "stdout",
     "output_type": "stream",
     "text": [
      "Fetching data for movie ID tt1739249 from OMDb...\n"
     ]
    },
    {
     "name": "stderr",
     "output_type": "stream",
     "text": [
      "Fetching movie data:  24%|████▌              | 851/3591 [02:27<08:11,  5.57it/s]"
     ]
    },
    {
     "name": "stdout",
     "output_type": "stream",
     "text": [
      "Fetching data for movie ID tt2127353 from OMDb...\n",
      "Fetching data for movie ID tt2778886 from OMDb...\n"
     ]
    },
    {
     "name": "stderr",
     "output_type": "stream",
     "text": [
      "Fetching movie data:  24%|████▌              | 853/3591 [02:28<06:48,  6.71it/s]"
     ]
    },
    {
     "name": "stdout",
     "output_type": "stream",
     "text": [
      "Fetching data for movie ID tt0462360 from OMDb...\n",
      "Fetching data for movie ID tt1352700 from OMDb...\n"
     ]
    },
    {
     "name": "stderr",
     "output_type": "stream",
     "text": [
      "Fetching movie data:  24%|████▌              | 855/3591 [02:28<07:06,  6.41it/s]"
     ]
    },
    {
     "name": "stdout",
     "output_type": "stream",
     "text": [
      "Fetching data for movie ID tt1742178 from OMDb...\n",
      "Fetching data for movie ID tt2319829 from OMDb...\n"
     ]
    },
    {
     "name": "stderr",
     "output_type": "stream",
     "text": [
      "Fetching movie data:  24%|████▌              | 857/3591 [02:28<07:05,  6.43it/s]"
     ]
    },
    {
     "name": "stdout",
     "output_type": "stream",
     "text": [
      "Fetching data for movie ID tt1084676 from OMDb...\n",
      "Fetching data for movie ID tt0363511 from OMDb...\n"
     ]
    },
    {
     "name": "stderr",
     "output_type": "stream",
     "text": [
      "Fetching movie data:  24%|████▌              | 859/3591 [02:29<06:49,  6.68it/s]"
     ]
    },
    {
     "name": "stdout",
     "output_type": "stream",
     "text": [
      "Fetching data for movie ID tt1714148 from OMDb...\n",
      "Fetching data for movie ID tt1740670 from OMDb...\n"
     ]
    },
    {
     "name": "stderr",
     "output_type": "stream",
     "text": [
      "Fetching movie data:  24%|████▌              | 861/3591 [02:29<07:34,  6.00it/s]"
     ]
    },
    {
     "name": "stdout",
     "output_type": "stream",
     "text": [
      "Fetching data for movie ID tt0811077 from OMDb...\n",
      "Fetching data for movie ID tt1350508 from OMDb...\n"
     ]
    },
    {
     "name": "stderr",
     "output_type": "stream",
     "text": [
      "Fetching movie data:  24%|████▌              | 862/3591 [02:29<07:35,  5.99it/s]"
     ]
    },
    {
     "name": "stdout",
     "output_type": "stream",
     "text": [
      "Fetching data for movie ID tt3340618 from OMDb...\n"
     ]
    },
    {
     "name": "stderr",
     "output_type": "stream",
     "text": [
      "Fetching movie data:  24%|████▌              | 864/3591 [02:29<07:54,  5.75it/s]"
     ]
    },
    {
     "name": "stdout",
     "output_type": "stream",
     "text": [
      "Fetching data for movie ID tt2124908 from OMDb...\n",
      "Fetching data for movie ID tt1579445 from OMDb...\n"
     ]
    },
    {
     "name": "stderr",
     "output_type": "stream",
     "text": [
      "Fetching movie data:  24%|████▌              | 866/3591 [02:30<08:02,  5.65it/s]"
     ]
    },
    {
     "name": "stdout",
     "output_type": "stream",
     "text": [
      "Fetching data for movie ID tt0870210 from OMDb...\n",
      "Fetching data for movie ID tt1339119 from OMDb...\n"
     ]
    },
    {
     "name": "stderr",
     "output_type": "stream",
     "text": [
      "Fetching movie data:  24%|████▌              | 868/3591 [02:30<07:22,  6.16it/s]"
     ]
    },
    {
     "name": "stdout",
     "output_type": "stream",
     "text": [
      "Fetching data for movie ID tt1391129 from OMDb...\n",
      "Fetching data for movie ID tt1326764 from OMDb...\n"
     ]
    },
    {
     "name": "stderr",
     "output_type": "stream",
     "text": [
      "Fetching movie data:  24%|████▌              | 869/3591 [02:30<06:56,  6.53it/s]"
     ]
    },
    {
     "name": "stdout",
     "output_type": "stream",
     "text": [
      "Fetching data for movie ID tt2229522 from OMDb...\n"
     ]
    },
    {
     "name": "stderr",
     "output_type": "stream",
     "text": [
      "Fetching movie data:  24%|████▌              | 871/3591 [02:31<08:08,  5.57it/s]"
     ]
    },
    {
     "name": "stdout",
     "output_type": "stream",
     "text": [
      "Fetching data for movie ID tt1677556 from OMDb...\n",
      "Fetching data for movie ID tt0873625 from OMDb...\n"
     ]
    },
    {
     "name": "stderr",
     "output_type": "stream",
     "text": [
      "Fetching movie data:  24%|████▌              | 873/3591 [02:31<07:37,  5.94it/s]"
     ]
    },
    {
     "name": "stdout",
     "output_type": "stream",
     "text": [
      "Fetching data for movie ID tt2261871 from OMDb...\n",
      "Fetching data for movie ID tt2569736 from OMDb...\n"
     ]
    },
    {
     "name": "stderr",
     "output_type": "stream",
     "text": [
      "Fetching movie data:  24%|████▋              | 875/3591 [02:31<06:55,  6.54it/s]"
     ]
    },
    {
     "name": "stdout",
     "output_type": "stream",
     "text": [
      "Fetching data for movie ID tt0247425 from OMDb...\n",
      "Fetching data for movie ID tt0409852 from OMDb...\n"
     ]
    },
    {
     "name": "stderr",
     "output_type": "stream",
     "text": [
      "Fetching movie data:  24%|████▋              | 877/3591 [02:32<07:07,  6.35it/s]"
     ]
    },
    {
     "name": "stdout",
     "output_type": "stream",
     "text": [
      "Fetching data for movie ID tt1158864 from OMDb...\n",
      "Fetching data for movie ID tt0388407 from OMDb...\n"
     ]
    },
    {
     "name": "stderr",
     "output_type": "stream",
     "text": [
      "Fetching movie data:  24%|████▋              | 878/3591 [02:32<07:19,  6.17it/s]"
     ]
    },
    {
     "name": "stdout",
     "output_type": "stream",
     "text": [
      "Fetching data for movie ID tt2299565 from OMDb...\n"
     ]
    },
    {
     "name": "stderr",
     "output_type": "stream",
     "text": [
      "Fetching movie data:  25%|████▋              | 880/3591 [02:32<07:25,  6.08it/s]"
     ]
    },
    {
     "name": "stdout",
     "output_type": "stream",
     "text": [
      "Fetching data for movie ID tt0413893 from OMDb...\n",
      "Fetching data for movie ID tt1186261 from OMDb...\n"
     ]
    },
    {
     "name": "stderr",
     "output_type": "stream",
     "text": [
      "Fetching movie data:  25%|████▋              | 882/3591 [02:32<07:08,  6.32it/s]"
     ]
    },
    {
     "name": "stdout",
     "output_type": "stream",
     "text": [
      "Fetching data for movie ID tt12579958 from OMDb...\n",
      "Fetching data for movie ID tt2063642 from OMDb...\n"
     ]
    },
    {
     "name": "stderr",
     "output_type": "stream",
     "text": [
      "Fetching movie data:  25%|████▋              | 883/3591 [02:33<06:59,  6.46it/s]"
     ]
    },
    {
     "name": "stdout",
     "output_type": "stream",
     "text": [
      "Fetching data for movie ID tt0275596 from OMDb...\n"
     ]
    },
    {
     "name": "stderr",
     "output_type": "stream",
     "text": [
      "Fetching movie data:  25%|████▋              | 885/3591 [02:33<07:34,  5.96it/s]"
     ]
    },
    {
     "name": "stdout",
     "output_type": "stream",
     "text": [
      "Fetching data for movie ID tt1340739 from OMDb...\n",
      "Fetching data for movie ID tt0795448 from OMDb...\n"
     ]
    },
    {
     "name": "stderr",
     "output_type": "stream",
     "text": [
      "Fetching movie data:  25%|████▋              | 887/3591 [02:33<07:38,  5.89it/s]"
     ]
    },
    {
     "name": "stdout",
     "output_type": "stream",
     "text": [
      "Fetching data for movie ID tt2076992 from OMDb...\n",
      "Fetching data for movie ID tt0997032 from OMDb...\n"
     ]
    },
    {
     "name": "stderr",
     "output_type": "stream",
     "text": [
      "Fetching movie data:  25%|████▋              | 889/3591 [02:34<07:12,  6.25it/s]"
     ]
    },
    {
     "name": "stdout",
     "output_type": "stream",
     "text": [
      "Fetching data for movie ID tt0480256 from OMDb...\n",
      "Fetching data for movie ID tt1590124 from OMDb...\n"
     ]
    },
    {
     "name": "stderr",
     "output_type": "stream",
     "text": [
      "Fetching movie data:  25%|████▋              | 891/3591 [02:34<06:26,  6.99it/s]"
     ]
    },
    {
     "name": "stdout",
     "output_type": "stream",
     "text": [
      "Fetching data for movie ID tt1695333 from OMDb...\n",
      "Fetching data for movie ID tt4094882 from OMDb...\n"
     ]
    },
    {
     "name": "stderr",
     "output_type": "stream",
     "text": [
      "Fetching movie data:  25%|████▋              | 893/3591 [02:34<06:37,  6.79it/s]"
     ]
    },
    {
     "name": "stdout",
     "output_type": "stream",
     "text": [
      "Fetching data for movie ID tt0270971 from OMDb...\n",
      "Fetching data for movie ID tt2088926 from OMDb...\n"
     ]
    },
    {
     "name": "stderr",
     "output_type": "stream",
     "text": [
      "Fetching movie data:  25%|████▋              | 895/3591 [02:35<07:20,  6.12it/s]"
     ]
    },
    {
     "name": "stdout",
     "output_type": "stream",
     "text": [
      "Fetching data for movie ID tt0390976 from OMDb...\n",
      "Fetching data for movie ID tt14288534 from OMDb...\n"
     ]
    },
    {
     "name": "stderr",
     "output_type": "stream",
     "text": [
      "Fetching movie data:  25%|████▋              | 897/3591 [02:35<06:22,  7.04it/s]"
     ]
    },
    {
     "name": "stdout",
     "output_type": "stream",
     "text": [
      "Fetching data for movie ID tt1238843 from OMDb...\n",
      "Fetching data for movie ID tt0477731 from OMDb...\n"
     ]
    },
    {
     "name": "stderr",
     "output_type": "stream",
     "text": [
      "Fetching movie data:  25%|████▊              | 898/3591 [02:35<06:50,  6.55it/s]"
     ]
    },
    {
     "name": "stdout",
     "output_type": "stream",
     "text": [
      "Fetching data for movie ID tt1239321 from OMDb...\n"
     ]
    },
    {
     "name": "stderr",
     "output_type": "stream",
     "text": [
      "Fetching movie data:  25%|████▊              | 900/3591 [02:35<07:47,  5.75it/s]"
     ]
    },
    {
     "name": "stdout",
     "output_type": "stream",
     "text": [
      "Fetching data for movie ID tt1014673 from OMDb...\n",
      "Fetching data for movie ID tt2125659 from OMDb...\n"
     ]
    },
    {
     "name": "stderr",
     "output_type": "stream",
     "text": [
      "Fetching movie data:  25%|████▊              | 902/3591 [02:36<08:31,  5.26it/s]"
     ]
    },
    {
     "name": "stdout",
     "output_type": "stream",
     "text": [
      "Progress saved after 23500 movies.\n",
      "Fetching data for movie ID tt3265574 from OMDb...\n",
      "Fetching data for movie ID tt2160448 from OMDb...\n"
     ]
    },
    {
     "name": "stderr",
     "output_type": "stream",
     "text": [
      "Fetching movie data:  25%|████▊              | 904/3591 [02:36<07:43,  5.80it/s]"
     ]
    },
    {
     "name": "stdout",
     "output_type": "stream",
     "text": [
      "Fetching data for movie ID tt0212132 from OMDb...\n",
      "Fetching data for movie ID tt0839838 from OMDb...\n"
     ]
    },
    {
     "name": "stderr",
     "output_type": "stream",
     "text": [
      "Fetching movie data:  25%|████▊              | 906/3591 [02:36<07:25,  6.03it/s]"
     ]
    },
    {
     "name": "stdout",
     "output_type": "stream",
     "text": [
      "Fetching data for movie ID tt4368752 from OMDb...\n",
      "Fetching data for movie ID tt1764268 from OMDb...\n"
     ]
    },
    {
     "name": "stderr",
     "output_type": "stream",
     "text": [
      "Fetching movie data:  25%|████▊              | 908/3591 [02:37<07:54,  5.65it/s]"
     ]
    },
    {
     "name": "stdout",
     "output_type": "stream",
     "text": [
      "Fetching data for movie ID tt0446029 from OMDb...\n",
      "Fetching data for movie ID tt1041659 from OMDb...\n"
     ]
    },
    {
     "name": "stderr",
     "output_type": "stream",
     "text": [
      "Fetching movie data:  25%|████▊              | 910/3591 [02:37<07:57,  5.62it/s]"
     ]
    },
    {
     "name": "stdout",
     "output_type": "stream",
     "text": [
      "Fetching data for movie ID tt0347757 from OMDb...\n",
      "Fetching data for movie ID tt0339622 from OMDb...\n"
     ]
    },
    {
     "name": "stderr",
     "output_type": "stream",
     "text": [
      "Fetching movie data:  25%|████▊              | 912/3591 [02:37<07:24,  6.03it/s]"
     ]
    },
    {
     "name": "stdout",
     "output_type": "stream",
     "text": [
      "Fetching data for movie ID tt2043893 from OMDb...\n",
      "Fetching data for movie ID tt3106046 from OMDb...\n"
     ]
    },
    {
     "name": "stderr",
     "output_type": "stream",
     "text": [
      "Fetching movie data:  25%|████▊              | 914/3591 [02:38<07:34,  5.90it/s]"
     ]
    },
    {
     "name": "stdout",
     "output_type": "stream",
     "text": [
      "Fetching data for movie ID tt1954641 from OMDb...\n",
      "Fetching data for movie ID tt1440282 from OMDb...\n"
     ]
    },
    {
     "name": "stderr",
     "output_type": "stream",
     "text": [
      "Fetching movie data:  26%|████▊              | 916/3591 [02:38<07:55,  5.62it/s]"
     ]
    },
    {
     "name": "stdout",
     "output_type": "stream",
     "text": [
      "Fetching data for movie ID tt3916860 from OMDb...\n",
      "Fetching data for movie ID tt0264578 from OMDb...\n"
     ]
    },
    {
     "name": "stderr",
     "output_type": "stream",
     "text": [
      "Fetching movie data:  26%|████▊              | 918/3591 [02:39<06:57,  6.40it/s]"
     ]
    },
    {
     "name": "stdout",
     "output_type": "stream",
     "text": [
      "Fetching data for movie ID tt1954276 from OMDb...\n",
      "Fetching data for movie ID tt0244634 from OMDb...\n"
     ]
    },
    {
     "name": "stderr",
     "output_type": "stream",
     "text": [
      "Fetching movie data:  26%|████▊              | 919/3591 [02:39<06:58,  6.39it/s]"
     ]
    },
    {
     "name": "stdout",
     "output_type": "stream",
     "text": [
      "Fetching data for movie ID tt2118013 from OMDb...\n"
     ]
    },
    {
     "name": "stderr",
     "output_type": "stream",
     "text": [
      "Fetching movie data:  26%|████▊              | 921/3591 [02:39<07:31,  5.91it/s]"
     ]
    },
    {
     "name": "stdout",
     "output_type": "stream",
     "text": [
      "Fetching data for movie ID tt0473234 from OMDb...\n",
      "Fetching data for movie ID tt1462854 from OMDb...\n"
     ]
    },
    {
     "name": "stderr",
     "output_type": "stream",
     "text": [
      "Fetching movie data:  26%|████▉              | 923/3591 [02:39<08:26,  5.27it/s]"
     ]
    },
    {
     "name": "stdout",
     "output_type": "stream",
     "text": [
      "Fetching data for movie ID tt2066126 from OMDb...\n",
      "Fetching data for movie ID tt10809930 from OMDb...\n"
     ]
    },
    {
     "name": "stderr",
     "output_type": "stream",
     "text": [
      "Fetching movie data:  26%|████▉              | 924/3591 [02:40<07:34,  5.86it/s]"
     ]
    },
    {
     "name": "stdout",
     "output_type": "stream",
     "text": [
      "Fetching data for movie ID tt1600916 from OMDb...\n"
     ]
    },
    {
     "name": "stderr",
     "output_type": "stream",
     "text": [
      "Fetching movie data:  26%|████▉              | 926/3591 [02:40<07:18,  6.07it/s]"
     ]
    },
    {
     "name": "stdout",
     "output_type": "stream",
     "text": [
      "Fetching data for movie ID tt1638310 from OMDb...\n",
      "Fetching data for movie ID tt2500792 from OMDb...\n"
     ]
    },
    {
     "name": "stderr",
     "output_type": "stream",
     "text": [
      "Fetching movie data:  26%|████▉              | 928/3591 [02:40<06:43,  6.60it/s]"
     ]
    },
    {
     "name": "stdout",
     "output_type": "stream",
     "text": [
      "Fetching data for movie ID tt0417883 from OMDb...\n",
      "Fetching data for movie ID tt1713561 from OMDb...\n"
     ]
    },
    {
     "name": "stderr",
     "output_type": "stream",
     "text": [
      "Fetching movie data:  26%|████▉              | 930/3591 [02:41<07:59,  5.55it/s]"
     ]
    },
    {
     "name": "stdout",
     "output_type": "stream",
     "text": [
      "Fetching data for movie ID tt1181343 from OMDb...\n",
      "Fetching data for movie ID tt0405280 from OMDb...\n"
     ]
    },
    {
     "name": "stderr",
     "output_type": "stream",
     "text": [
      "Fetching movie data:  26%|████▉              | 932/3591 [02:41<07:29,  5.91it/s]"
     ]
    },
    {
     "name": "stdout",
     "output_type": "stream",
     "text": [
      "Fetching data for movie ID tt2234802 from OMDb...\n",
      "Fetching data for movie ID tt2941526 from OMDb...\n"
     ]
    },
    {
     "name": "stderr",
     "output_type": "stream",
     "text": [
      "Fetching movie data:  26%|████▉              | 933/3591 [02:41<07:27,  5.94it/s]"
     ]
    },
    {
     "name": "stdout",
     "output_type": "stream",
     "text": [
      "Fetching data for movie ID tt0382967 from OMDb...\n"
     ]
    },
    {
     "name": "stderr",
     "output_type": "stream",
     "text": [
      "Fetching movie data:  26%|████▉              | 935/3591 [02:42<07:57,  5.56it/s]"
     ]
    },
    {
     "name": "stdout",
     "output_type": "stream",
     "text": [
      "Fetching data for movie ID tt0818629 from OMDb...\n",
      "Fetching data for movie ID tt0458425 from OMDb...\n"
     ]
    },
    {
     "name": "stderr",
     "output_type": "stream",
     "text": [
      "Fetching movie data:  26%|████▉              | 937/3591 [02:42<08:08,  5.43it/s]"
     ]
    },
    {
     "name": "stdout",
     "output_type": "stream",
     "text": [
      "Fetching data for movie ID tt2366610 from OMDb...\n",
      "Fetching data for movie ID tt4968780 from OMDb...\n"
     ]
    },
    {
     "name": "stderr",
     "output_type": "stream",
     "text": [
      "Fetching movie data:  26%|████▉              | 939/3591 [02:42<07:25,  5.95it/s]"
     ]
    },
    {
     "name": "stdout",
     "output_type": "stream",
     "text": [
      "Fetching data for movie ID tt2537350 from OMDb...\n",
      "Fetching data for movie ID tt1949585 from OMDb...\n"
     ]
    },
    {
     "name": "stderr",
     "output_type": "stream",
     "text": [
      "Fetching movie data:  26%|████▉              | 940/3591 [02:42<06:48,  6.49it/s]"
     ]
    },
    {
     "name": "stdout",
     "output_type": "stream",
     "text": [
      "Fetching data for movie ID tt0444417 from OMDb...\n"
     ]
    },
    {
     "name": "stderr",
     "output_type": "stream",
     "text": [
      "Fetching movie data:  26%|████▉              | 941/3591 [02:43<07:31,  5.88it/s]"
     ]
    },
    {
     "name": "stdout",
     "output_type": "stream",
     "text": [
      "Fetching data for movie ID tt7971508 from OMDb...\n"
     ]
    },
    {
     "name": "stderr",
     "output_type": "stream",
     "text": [
      "Fetching movie data:  26%|████▉              | 942/3591 [02:43<07:58,  5.54it/s]"
     ]
    },
    {
     "name": "stdout",
     "output_type": "stream",
     "text": [
      "Fetching data for movie ID tt5328004 from OMDb...\n"
     ]
    },
    {
     "name": "stderr",
     "output_type": "stream",
     "text": [
      "Fetching movie data:  26%|████▉              | 944/3591 [02:43<08:18,  5.30it/s]"
     ]
    },
    {
     "name": "stdout",
     "output_type": "stream",
     "text": [
      "Fetching data for movie ID tt1781797 from OMDb...\n",
      "Fetching data for movie ID tt1777580 from OMDb...\n"
     ]
    },
    {
     "name": "stderr",
     "output_type": "stream",
     "text": [
      "Fetching movie data:  26%|█████              | 945/3591 [02:43<07:32,  5.85it/s]"
     ]
    },
    {
     "name": "stdout",
     "output_type": "stream",
     "text": [
      "Fetching data for movie ID tt0454619 from OMDb...\n"
     ]
    },
    {
     "name": "stderr",
     "output_type": "stream",
     "text": [
      "Fetching movie data:  26%|█████              | 947/3591 [02:44<07:22,  5.98it/s]"
     ]
    },
    {
     "name": "stdout",
     "output_type": "stream",
     "text": [
      "Fetching data for movie ID tt2089733 from OMDb...\n",
      "Fetching data for movie ID tt1475198 from OMDb...\n"
     ]
    },
    {
     "name": "stderr",
     "output_type": "stream",
     "text": [
      "Fetching movie data:  26%|█████              | 949/3591 [02:44<08:00,  5.50it/s]"
     ]
    },
    {
     "name": "stdout",
     "output_type": "stream",
     "text": [
      "Fetching data for movie ID tt1784717 from OMDb...\n",
      "Fetching data for movie ID tt0289229 from OMDb...\n"
     ]
    },
    {
     "name": "stderr",
     "output_type": "stream",
     "text": [
      "Fetching movie data:  26%|█████              | 951/3591 [02:44<06:59,  6.30it/s]"
     ]
    },
    {
     "name": "stdout",
     "output_type": "stream",
     "text": [
      "Fetching data for movie ID tt1006908 from OMDb...\n",
      "Fetching data for movie ID tt10747510 from OMDb...\n"
     ]
    },
    {
     "name": "stderr",
     "output_type": "stream",
     "text": [
      "Fetching movie data:  27%|█████              | 953/3591 [02:45<07:27,  5.89it/s]"
     ]
    },
    {
     "name": "stdout",
     "output_type": "stream",
     "text": [
      "Fetching data for movie ID tt3182312 from OMDb...\n",
      "Fetching data for movie ID tt1934205 from OMDb...\n"
     ]
    },
    {
     "name": "stderr",
     "output_type": "stream",
     "text": [
      "Fetching movie data:  27%|█████              | 955/3591 [02:45<06:51,  6.41it/s]"
     ]
    },
    {
     "name": "stdout",
     "output_type": "stream",
     "text": [
      "Fetching data for movie ID tt2234505 from OMDb...\n",
      "Fetching data for movie ID tt0172495 from OMDb...\n"
     ]
    },
    {
     "name": "stderr",
     "output_type": "stream",
     "text": [
      "Fetching movie data:  27%|█████              | 957/3591 [02:45<06:45,  6.49it/s]"
     ]
    },
    {
     "name": "stdout",
     "output_type": "stream",
     "text": [
      "Fetching data for movie ID tt2089833 from OMDb...\n",
      "Fetching data for movie ID tt0449843 from OMDb...\n"
     ]
    },
    {
     "name": "stderr",
     "output_type": "stream",
     "text": [
      "Fetching movie data:  27%|█████              | 959/3591 [02:46<07:11,  6.09it/s]"
     ]
    },
    {
     "name": "stdout",
     "output_type": "stream",
     "text": [
      "Fetching data for movie ID tt1104806 from OMDb...\n",
      "Fetching data for movie ID tt2647706 from OMDb...\n"
     ]
    },
    {
     "name": "stderr",
     "output_type": "stream",
     "text": [
      "Fetching movie data:  27%|█████              | 961/3591 [02:46<06:17,  6.97it/s]"
     ]
    },
    {
     "name": "stdout",
     "output_type": "stream",
     "text": [
      "Fetching data for movie ID tt0495836 from OMDb...\n",
      "Fetching data for movie ID tt1483008 from OMDb...\n"
     ]
    },
    {
     "name": "stderr",
     "output_type": "stream",
     "text": [
      "Fetching movie data:  27%|█████              | 962/3591 [02:46<06:11,  7.07it/s]"
     ]
    },
    {
     "name": "stdout",
     "output_type": "stream",
     "text": [
      "Fetching data for movie ID tt1718720 from OMDb...\n"
     ]
    },
    {
     "name": "stderr",
     "output_type": "stream",
     "text": [
      "Fetching movie data:  27%|█████              | 964/3591 [02:46<07:01,  6.23it/s]"
     ]
    },
    {
     "name": "stdout",
     "output_type": "stream",
     "text": [
      "Fetching data for movie ID tt0247586 from OMDb...\n",
      "Fetching data for movie ID tt0438084 from OMDb...\n"
     ]
    },
    {
     "name": "stderr",
     "output_type": "stream",
     "text": [
      "Fetching movie data:  27%|█████              | 965/3591 [02:47<07:08,  6.13it/s]"
     ]
    },
    {
     "name": "stdout",
     "output_type": "stream",
     "text": [
      "Fetching data for movie ID tt0486411 from OMDb...\n"
     ]
    },
    {
     "name": "stderr",
     "output_type": "stream",
     "text": [
      "Fetching movie data:  27%|█████              | 967/3591 [02:47<07:25,  5.88it/s]"
     ]
    },
    {
     "name": "stdout",
     "output_type": "stream",
     "text": [
      "Fetching data for movie ID tt1830900 from OMDb...\n",
      "Fetching data for movie ID tt4050470 from OMDb...\n"
     ]
    },
    {
     "name": "stderr",
     "output_type": "stream",
     "text": [
      "Fetching movie data:  27%|█████▏             | 969/3591 [02:47<07:47,  5.61it/s]"
     ]
    },
    {
     "name": "stdout",
     "output_type": "stream",
     "text": [
      "Fetching data for movie ID tt1242592 from OMDb...\n",
      "Fetching data for movie ID tt1236241 from OMDb...\n"
     ]
    },
    {
     "name": "stderr",
     "output_type": "stream",
     "text": [
      "Fetching movie data:  27%|█████▏             | 970/3591 [02:47<07:15,  6.01it/s]"
     ]
    },
    {
     "name": "stdout",
     "output_type": "stream",
     "text": [
      "Fetching data for movie ID tt1289802 from OMDb...\n"
     ]
    },
    {
     "name": "stderr",
     "output_type": "stream",
     "text": [
      "Fetching movie data:  27%|█████▏             | 972/3591 [02:48<07:49,  5.58it/s]"
     ]
    },
    {
     "name": "stdout",
     "output_type": "stream",
     "text": [
      "Fetching data for movie ID tt1758849 from OMDb...\n",
      "Fetching data for movie ID tt2048708 from OMDb...\n"
     ]
    },
    {
     "name": "stderr",
     "output_type": "stream",
     "text": [
      "Fetching movie data:  27%|█████▏             | 973/3591 [02:48<07:19,  5.96it/s]"
     ]
    },
    {
     "name": "stdout",
     "output_type": "stream",
     "text": [
      "Fetching data for movie ID tt2364366 from OMDb...\n"
     ]
    },
    {
     "name": "stderr",
     "output_type": "stream",
     "text": [
      "Fetching movie data:  27%|█████▏             | 975/3591 [02:48<07:18,  5.97it/s]"
     ]
    },
    {
     "name": "stdout",
     "output_type": "stream",
     "text": [
      "Fetching data for movie ID tt1323004 from OMDb...\n",
      "Fetching data for movie ID tt1474817 from OMDb...\n"
     ]
    },
    {
     "name": "stderr",
     "output_type": "stream",
     "text": [
      "Fetching movie data:  27%|█████▏             | 976/3591 [02:49<07:23,  5.89it/s]"
     ]
    },
    {
     "name": "stdout",
     "output_type": "stream",
     "text": [
      "Fetching data for movie ID tt1432243 from OMDb...\n"
     ]
    },
    {
     "name": "stderr",
     "output_type": "stream",
     "text": [
      "Fetching movie data:  27%|█████▏             | 978/3591 [02:49<07:44,  5.63it/s]"
     ]
    },
    {
     "name": "stdout",
     "output_type": "stream",
     "text": [
      "Fetching data for movie ID tt1254346 from OMDb...\n",
      "Fetching data for movie ID tt0398103 from OMDb...\n"
     ]
    },
    {
     "name": "stderr",
     "output_type": "stream",
     "text": [
      "Fetching movie data:  27%|█████▏             | 979/3591 [02:49<07:04,  6.15it/s]"
     ]
    },
    {
     "name": "stdout",
     "output_type": "stream",
     "text": [
      "Fetching data for movie ID tt0300456 from OMDb...\n"
     ]
    },
    {
     "name": "stderr",
     "output_type": "stream",
     "text": [
      "Fetching movie data:  27%|█████▏             | 981/3591 [02:49<07:44,  5.62it/s]"
     ]
    },
    {
     "name": "stdout",
     "output_type": "stream",
     "text": [
      "Fetching data for movie ID tt6794750 from OMDb...\n",
      "Fetching data for movie ID tt0493824 from OMDb...\n"
     ]
    },
    {
     "name": "stderr",
     "output_type": "stream",
     "text": [
      "Fetching movie data:  27%|█████▏             | 983/3591 [02:50<07:49,  5.55it/s]"
     ]
    },
    {
     "name": "stdout",
     "output_type": "stream",
     "text": [
      "Fetching data for movie ID tt1524559 from OMDb...\n",
      "Fetching data for movie ID tt11219336 from OMDb...\n"
     ]
    },
    {
     "name": "stderr",
     "output_type": "stream",
     "text": [
      "Fetching movie data:  27%|█████▏             | 985/3591 [02:50<07:13,  6.01it/s]"
     ]
    },
    {
     "name": "stdout",
     "output_type": "stream",
     "text": [
      "Fetching data for movie ID tt0377575 from OMDb...\n",
      "Fetching data for movie ID tt0369993 from OMDb...\n"
     ]
    },
    {
     "name": "stderr",
     "output_type": "stream",
     "text": [
      "Fetching movie data:  27%|█████▏             | 987/3591 [02:50<07:11,  6.04it/s]"
     ]
    },
    {
     "name": "stdout",
     "output_type": "stream",
     "text": [
      "Fetching data for movie ID tt1787660 from OMDb...\n",
      "Fetching data for movie ID tt2097844 from OMDb...\n"
     ]
    },
    {
     "name": "stderr",
     "output_type": "stream",
     "text": [
      "Fetching movie data:  28%|█████▏             | 989/3591 [02:51<07:52,  5.50it/s]"
     ]
    },
    {
     "name": "stdout",
     "output_type": "stream",
     "text": [
      "Fetching data for movie ID tt2602694 from OMDb...\n",
      "Fetching data for movie ID tt1188751 from OMDb...\n"
     ]
    },
    {
     "name": "stderr",
     "output_type": "stream",
     "text": [
      "Fetching movie data:  28%|█████▏             | 991/3591 [02:51<06:52,  6.30it/s]"
     ]
    },
    {
     "name": "stdout",
     "output_type": "stream",
     "text": [
      "Fetching data for movie ID tt21042560 from OMDb...\n",
      "Fetching data for movie ID tt0473705 from OMDb...\n"
     ]
    },
    {
     "name": "stderr",
     "output_type": "stream",
     "text": [
      "Fetching movie data:  28%|█████▎             | 993/3591 [02:51<07:09,  6.04it/s]"
     ]
    },
    {
     "name": "stdout",
     "output_type": "stream",
     "text": [
      "Fetching data for movie ID tt2023583 from OMDb...\n",
      "Fetching data for movie ID tt6793694 from OMDb...\n"
     ]
    },
    {
     "name": "stderr",
     "output_type": "stream",
     "text": [
      "Fetching movie data:  28%|█████▎             | 994/3591 [02:52<07:23,  5.86it/s]"
     ]
    },
    {
     "name": "stdout",
     "output_type": "stream",
     "text": [
      "Fetching data for movie ID tt2292576 from OMDb...\n"
     ]
    },
    {
     "name": "stderr",
     "output_type": "stream",
     "text": [
      "Fetching movie data:  28%|█████▎             | 996/3591 [02:52<07:19,  5.90it/s]"
     ]
    },
    {
     "name": "stdout",
     "output_type": "stream",
     "text": [
      "Fetching data for movie ID tt0446918 from OMDb...\n",
      "Fetching data for movie ID tt0180658 from OMDb...\n"
     ]
    },
    {
     "name": "stderr",
     "output_type": "stream",
     "text": [
      "Fetching movie data:  28%|█████▎             | 998/3591 [02:52<06:47,  6.37it/s]"
     ]
    },
    {
     "name": "stdout",
     "output_type": "stream",
     "text": [
      "Fetching data for movie ID tt0175114 from OMDb...\n",
      "Fetching data for movie ID tt0948544 from OMDb...\n"
     ]
    },
    {
     "name": "stderr",
     "output_type": "stream",
     "text": [
      "Fetching movie data:  28%|█████             | 1000/3591 [02:53<07:50,  5.51it/s]"
     ]
    },
    {
     "name": "stdout",
     "output_type": "stream",
     "text": [
      "Fetching data for movie ID tt2112225 from OMDb...\n",
      "Fetching data for movie ID tt2385104 from OMDb...\n"
     ]
    },
    {
     "name": "stderr",
     "output_type": "stream",
     "text": [
      "Fetching movie data:  28%|█████             | 1002/3591 [02:53<08:18,  5.19it/s]"
     ]
    },
    {
     "name": "stdout",
     "output_type": "stream",
     "text": [
      "Progress saved after 23600 movies.\n",
      "Fetching data for movie ID tt0238936 from OMDb...\n",
      "Fetching data for movie ID tt0366551 from OMDb...\n"
     ]
    },
    {
     "name": "stderr",
     "output_type": "stream",
     "text": [
      "Fetching movie data:  28%|█████             | 1003/3591 [02:53<08:17,  5.20it/s]"
     ]
    },
    {
     "name": "stdout",
     "output_type": "stream",
     "text": [
      "Fetching data for movie ID tt2235823 from OMDb...\n"
     ]
    },
    {
     "name": "stderr",
     "output_type": "stream",
     "text": [
      "Fetching movie data:  28%|█████             | 1005/3591 [02:54<08:03,  5.35it/s]"
     ]
    },
    {
     "name": "stdout",
     "output_type": "stream",
     "text": [
      "Fetching data for movie ID tt1904875 from OMDb...\n",
      "Fetching data for movie ID tt0446768 from OMDb...\n"
     ]
    },
    {
     "name": "stderr",
     "output_type": "stream",
     "text": [
      "Fetching movie data:  28%|█████             | 1007/3591 [02:54<08:25,  5.11it/s]"
     ]
    },
    {
     "name": "stdout",
     "output_type": "stream",
     "text": [
      "Fetching data for movie ID tt2169326 from OMDb...\n",
      "Fetching data for movie ID tt0406711 from OMDb...\n"
     ]
    },
    {
     "name": "stderr",
     "output_type": "stream",
     "text": [
      "Fetching movie data:  28%|█████             | 1009/3591 [02:54<08:02,  5.35it/s]"
     ]
    },
    {
     "name": "stdout",
     "output_type": "stream",
     "text": [
      "Fetching data for movie ID tt0322395 from OMDb...\n",
      "Fetching data for movie ID tt3267600 from OMDb...\n"
     ]
    },
    {
     "name": "stderr",
     "output_type": "stream",
     "text": [
      "Fetching movie data:  28%|█████             | 1011/3591 [02:55<07:01,  6.12it/s]"
     ]
    },
    {
     "name": "stdout",
     "output_type": "stream",
     "text": [
      "Fetching data for movie ID tt2083995 from OMDb...\n",
      "Fetching data for movie ID tt0238380 from OMDb...\n"
     ]
    },
    {
     "name": "stderr",
     "output_type": "stream",
     "text": [
      "Fetching movie data:  28%|█████             | 1013/3591 [02:55<07:23,  5.81it/s]"
     ]
    },
    {
     "name": "stdout",
     "output_type": "stream",
     "text": [
      "Fetching data for movie ID tt0480261 from OMDb...\n",
      "Fetching data for movie ID tt14143620 from OMDb...\n"
     ]
    },
    {
     "name": "stderr",
     "output_type": "stream",
     "text": [
      "Fetching movie data:  28%|█████             | 1015/3591 [02:55<06:34,  6.52it/s]"
     ]
    },
    {
     "name": "stdout",
     "output_type": "stream",
     "text": [
      "Fetching data for movie ID tt3253452 from OMDb...\n",
      "Fetching data for movie ID tt2175672 from OMDb...\n"
     ]
    },
    {
     "name": "stderr",
     "output_type": "stream",
     "text": [
      "Fetching movie data:  28%|█████             | 1017/3591 [02:56<07:44,  5.55it/s]"
     ]
    },
    {
     "name": "stdout",
     "output_type": "stream",
     "text": [
      "Fetching data for movie ID tt1480692 from OMDb...\n",
      "Fetching data for movie ID tt0990452 from OMDb...\n"
     ]
    },
    {
     "name": "stderr",
     "output_type": "stream",
     "text": [
      "Fetching movie data:  28%|█████             | 1019/3591 [02:56<07:23,  5.80it/s]"
     ]
    },
    {
     "name": "stdout",
     "output_type": "stream",
     "text": [
      "Fetching data for movie ID tt0436728 from OMDb...\n",
      "Fetching data for movie ID tt0496301 from OMDb...\n"
     ]
    },
    {
     "name": "stderr",
     "output_type": "stream",
     "text": [
      "Fetching movie data:  28%|█████             | 1020/3591 [02:56<07:34,  5.66it/s]"
     ]
    },
    {
     "name": "stdout",
     "output_type": "stream",
     "text": [
      "Fetching data for movie ID tt0843839 from OMDb...\n"
     ]
    },
    {
     "name": "stderr",
     "output_type": "stream",
     "text": [
      "Fetching movie data:  28%|█████             | 1022/3591 [02:57<07:13,  5.92it/s]"
     ]
    },
    {
     "name": "stdout",
     "output_type": "stream",
     "text": [
      "Fetching data for movie ID tt2497612 from OMDb...\n",
      "Fetching data for movie ID tt1692988 from OMDb...\n"
     ]
    },
    {
     "name": "stderr",
     "output_type": "stream",
     "text": [
      "Fetching movie data:  28%|█████▏            | 1023/3591 [02:57<07:16,  5.88it/s]"
     ]
    },
    {
     "name": "stdout",
     "output_type": "stream",
     "text": [
      "Fetching data for movie ID tt2246901 from OMDb...\n"
     ]
    },
    {
     "name": "stderr",
     "output_type": "stream",
     "text": [
      "Fetching movie data:  29%|█████▏            | 1025/3591 [02:57<07:18,  5.86it/s]"
     ]
    },
    {
     "name": "stdout",
     "output_type": "stream",
     "text": [
      "Fetching data for movie ID tt7116458 from OMDb...\n",
      "Fetching data for movie ID tt2986490 from OMDb...\n"
     ]
    },
    {
     "name": "stderr",
     "output_type": "stream",
     "text": [
      "Fetching movie data:  29%|█████▏            | 1026/3591 [02:57<07:14,  5.90it/s]"
     ]
    },
    {
     "name": "stdout",
     "output_type": "stream",
     "text": [
      "Fetching data for movie ID tt0179653 from OMDb...\n"
     ]
    },
    {
     "name": "stderr",
     "output_type": "stream",
     "text": [
      "Fetching movie data:  29%|█████▏            | 1028/3591 [02:58<07:51,  5.44it/s]"
     ]
    },
    {
     "name": "stdout",
     "output_type": "stream",
     "text": [
      "Fetching data for movie ID tt0283392 from OMDb...\n",
      "Fetching data for movie ID tt1381518 from OMDb...\n"
     ]
    },
    {
     "name": "stderr",
     "output_type": "stream",
     "text": [
      "Fetching movie data:  29%|█████▏            | 1030/3591 [02:58<08:00,  5.33it/s]"
     ]
    },
    {
     "name": "stdout",
     "output_type": "stream",
     "text": [
      "Fetching data for movie ID tt2379727 from OMDb...\n",
      "Fetching data for movie ID tt0413615 from OMDb...\n"
     ]
    },
    {
     "name": "stderr",
     "output_type": "stream",
     "text": [
      "Fetching movie data:  29%|█████▏            | 1032/3591 [02:59<07:13,  5.90it/s]"
     ]
    },
    {
     "name": "stdout",
     "output_type": "stream",
     "text": [
      "Fetching data for movie ID tt1340431 from OMDb...\n",
      "Fetching data for movie ID tt3625930 from OMDb...\n"
     ]
    },
    {
     "name": "stderr",
     "output_type": "stream",
     "text": [
      "Fetching movie data:  29%|█████▏            | 1034/3591 [02:59<07:01,  6.07it/s]"
     ]
    },
    {
     "name": "stdout",
     "output_type": "stream",
     "text": [
      "Fetching data for movie ID tt2310138 from OMDb...\n",
      "Fetching data for movie ID tt1133936 from OMDb...\n"
     ]
    },
    {
     "name": "stderr",
     "output_type": "stream",
     "text": [
      "Fetching movie data:  29%|█████▏            | 1035/3591 [02:59<06:53,  6.19it/s]"
     ]
    },
    {
     "name": "stdout",
     "output_type": "stream",
     "text": [
      "Fetching data for movie ID tt2637720 from OMDb...\n"
     ]
    },
    {
     "name": "stderr",
     "output_type": "stream",
     "text": [
      "Fetching movie data:  29%|█████▏            | 1037/3591 [02:59<07:11,  5.92it/s]"
     ]
    },
    {
     "name": "stdout",
     "output_type": "stream",
     "text": [
      "Fetching data for movie ID tt1387280 from OMDb...\n",
      "Fetching data for movie ID tt1504978 from OMDb...\n"
     ]
    },
    {
     "name": "stderr",
     "output_type": "stream",
     "text": [
      "Fetching movie data:  29%|█████▏            | 1039/3591 [03:00<06:33,  6.48it/s]"
     ]
    },
    {
     "name": "stdout",
     "output_type": "stream",
     "text": [
      "Fetching data for movie ID tt6130224 from OMDb...\n",
      "Fetching data for movie ID tt0262037 from OMDb...\n"
     ]
    },
    {
     "name": "stderr",
     "output_type": "stream",
     "text": [
      "Fetching movie data:  29%|█████▏            | 1041/3591 [03:00<07:38,  5.56it/s]"
     ]
    },
    {
     "name": "stdout",
     "output_type": "stream",
     "text": [
      "Fetching data for movie ID tt1795650 from OMDb...\n",
      "Fetching data for movie ID tt1382697 from OMDb...\n"
     ]
    },
    {
     "name": "stderr",
     "output_type": "stream",
     "text": [
      "Fetching movie data:  29%|█████▏            | 1043/3591 [03:00<07:19,  5.80it/s]"
     ]
    },
    {
     "name": "stdout",
     "output_type": "stream",
     "text": [
      "Fetching data for movie ID tt1604077 from OMDb...\n",
      "Fetching data for movie ID tt3404140 from OMDb...\n"
     ]
    },
    {
     "name": "stderr",
     "output_type": "stream",
     "text": [
      "Fetching movie data:  29%|█████▏            | 1045/3591 [03:01<06:26,  6.59it/s]"
     ]
    },
    {
     "name": "stdout",
     "output_type": "stream",
     "text": [
      "Fetching data for movie ID tt0884177 from OMDb...\n",
      "Fetching data for movie ID tt0865925 from OMDb...\n"
     ]
    },
    {
     "name": "stderr",
     "output_type": "stream",
     "text": [
      "Fetching movie data:  29%|█████▏            | 1047/3591 [03:01<06:42,  6.31it/s]"
     ]
    },
    {
     "name": "stdout",
     "output_type": "stream",
     "text": [
      "Fetching data for movie ID tt1675179 from OMDb...\n",
      "Fetching data for movie ID tt3552396 from OMDb...\n"
     ]
    },
    {
     "name": "stderr",
     "output_type": "stream",
     "text": [
      "Fetching movie data:  29%|█████▎            | 1049/3591 [03:01<06:52,  6.17it/s]"
     ]
    },
    {
     "name": "stdout",
     "output_type": "stream",
     "text": [
      "Fetching data for movie ID tt1637612 from OMDb...\n",
      "Fetching data for movie ID tt1131729 from OMDb...\n"
     ]
    },
    {
     "name": "stderr",
     "output_type": "stream",
     "text": [
      "Fetching movie data:  29%|█████▎            | 1051/3591 [03:02<06:33,  6.46it/s]"
     ]
    },
    {
     "name": "stdout",
     "output_type": "stream",
     "text": [
      "Fetching data for movie ID tt0784965 from OMDb...\n",
      "Fetching data for movie ID tt1646939 from OMDb...\n"
     ]
    },
    {
     "name": "stderr",
     "output_type": "stream",
     "text": [
      "Fetching movie data:  29%|█████▎            | 1053/3591 [03:02<07:07,  5.94it/s]"
     ]
    },
    {
     "name": "stdout",
     "output_type": "stream",
     "text": [
      "Fetching data for movie ID tt1706678 from OMDb...\n",
      "Fetching data for movie ID tt2962806 from OMDb...\n"
     ]
    },
    {
     "name": "stderr",
     "output_type": "stream",
     "text": [
      "Fetching movie data:  29%|█████▎            | 1054/3591 [03:02<07:14,  5.83it/s]"
     ]
    },
    {
     "name": "stdout",
     "output_type": "stream",
     "text": [
      "Fetching data for movie ID tt2420102 from OMDb...\n"
     ]
    },
    {
     "name": "stderr",
     "output_type": "stream",
     "text": [
      "Fetching movie data:  29%|█████▎            | 1056/3591 [03:03<07:58,  5.30it/s]"
     ]
    },
    {
     "name": "stdout",
     "output_type": "stream",
     "text": [
      "Fetching data for movie ID tt6653550 from OMDb...\n",
      "Fetching data for movie ID tt0414260 from OMDb...\n"
     ]
    },
    {
     "name": "stderr",
     "output_type": "stream",
     "text": [
      "Fetching movie data:  29%|█████▎            | 1057/3591 [03:03<07:44,  5.45it/s]"
     ]
    },
    {
     "name": "stdout",
     "output_type": "stream",
     "text": [
      "Fetching data for movie ID tt1789810 from OMDb...\n"
     ]
    },
    {
     "name": "stderr",
     "output_type": "stream",
     "text": [
      "Fetching movie data:  29%|█████▎            | 1058/3591 [03:03<09:22,  4.50it/s]"
     ]
    },
    {
     "name": "stdout",
     "output_type": "stream",
     "text": [
      "Fetching data for movie ID tt2098688 from OMDb...\n"
     ]
    },
    {
     "name": "stderr",
     "output_type": "stream",
     "text": [
      "Fetching movie data:  30%|█████▎            | 1060/3591 [03:04<09:44,  4.33it/s]"
     ]
    },
    {
     "name": "stdout",
     "output_type": "stream",
     "text": [
      "Fetching data for movie ID tt1183930 from OMDb...\n",
      "Fetching data for movie ID tt4135650 from OMDb...\n"
     ]
    },
    {
     "name": "stderr",
     "output_type": "stream",
     "text": [
      "Fetching movie data:  30%|█████▎            | 1061/3591 [03:04<08:34,  4.92it/s]"
     ]
    },
    {
     "name": "stdout",
     "output_type": "stream",
     "text": [
      "Fetching data for movie ID tt1147683 from OMDb...\n"
     ]
    },
    {
     "name": "stderr",
     "output_type": "stream",
     "text": [
      "Fetching movie data:  30%|█████▎            | 1063/3591 [03:04<08:54,  4.73it/s]"
     ]
    },
    {
     "name": "stdout",
     "output_type": "stream",
     "text": [
      "Fetching data for movie ID tt0378902 from OMDb...\n",
      "Fetching data for movie ID tt3261564 from OMDb...\n"
     ]
    },
    {
     "name": "stderr",
     "output_type": "stream",
     "text": [
      "Fetching movie data:  30%|█████▎            | 1065/3591 [03:05<10:10,  4.14it/s]"
     ]
    },
    {
     "name": "stdout",
     "output_type": "stream",
     "text": [
      "Fetching data for movie ID tt2911500 from OMDb...\n",
      "Fetching data for movie ID tt0244944 from OMDb...\n"
     ]
    },
    {
     "name": "stderr",
     "output_type": "stream",
     "text": [
      "Fetching movie data:  30%|█████▎            | 1066/3591 [03:05<11:01,  3.82it/s]"
     ]
    },
    {
     "name": "stdout",
     "output_type": "stream",
     "text": [
      "Fetching data for movie ID tt0871510 from OMDb...\n"
     ]
    },
    {
     "name": "stderr",
     "output_type": "stream",
     "text": [
      "Fetching movie data:  30%|█████▎            | 1068/3591 [03:06<11:13,  3.75it/s]"
     ]
    },
    {
     "name": "stdout",
     "output_type": "stream",
     "text": [
      "Fetching data for movie ID tt1286800 from OMDb...\n",
      "Fetching data for movie ID tt1833779 from OMDb...\n"
     ]
    },
    {
     "name": "stderr",
     "output_type": "stream",
     "text": [
      "Fetching movie data:  30%|█████▎            | 1070/3591 [03:06<08:30,  4.94it/s]"
     ]
    },
    {
     "name": "stdout",
     "output_type": "stream",
     "text": [
      "Fetching data for movie ID tt2146080 from OMDb...\n",
      "Fetching data for movie ID tt3387088 from OMDb...\n"
     ]
    },
    {
     "name": "stderr",
     "output_type": "stream",
     "text": [
      "Fetching movie data:  30%|█████▎            | 1072/3591 [03:06<08:04,  5.20it/s]"
     ]
    },
    {
     "name": "stdout",
     "output_type": "stream",
     "text": [
      "Fetching data for movie ID tt1796453 from OMDb...\n",
      "Fetching data for movie ID tt1855233 from OMDb...\n"
     ]
    },
    {
     "name": "stderr",
     "output_type": "stream",
     "text": [
      "Fetching movie data:  30%|█████▍            | 1074/3591 [03:07<07:31,  5.57it/s]"
     ]
    },
    {
     "name": "stdout",
     "output_type": "stream",
     "text": [
      "Fetching data for movie ID tt0972556 from OMDb...\n",
      "Fetching data for movie ID tt3484860 from OMDb...\n"
     ]
    },
    {
     "name": "stderr",
     "output_type": "stream",
     "text": [
      "Fetching movie data:  30%|█████▍            | 1076/3591 [03:07<07:02,  5.95it/s]"
     ]
    },
    {
     "name": "stdout",
     "output_type": "stream",
     "text": [
      "Fetching data for movie ID tt0385277 from OMDb...\n",
      "Fetching data for movie ID tt0867289 from OMDb...\n"
     ]
    },
    {
     "name": "stderr",
     "output_type": "stream",
     "text": [
      "Fetching movie data:  30%|█████▍            | 1078/3591 [03:07<06:21,  6.59it/s]"
     ]
    },
    {
     "name": "stdout",
     "output_type": "stream",
     "text": [
      "Fetching data for movie ID tt0426582 from OMDb...\n",
      "Fetching data for movie ID tt1426921 from OMDb...\n"
     ]
    },
    {
     "name": "stderr",
     "output_type": "stream",
     "text": [
      "Fetching movie data:  30%|█████▍            | 1080/3591 [03:08<06:03,  6.91it/s]"
     ]
    },
    {
     "name": "stdout",
     "output_type": "stream",
     "text": [
      "Fetching data for movie ID tt1756381 from OMDb...\n",
      "Fetching data for movie ID tt0399582 from OMDb...\n"
     ]
    },
    {
     "name": "stderr",
     "output_type": "stream",
     "text": [
      "Fetching movie data:  30%|█████▍            | 1082/3591 [03:08<05:56,  7.04it/s]"
     ]
    },
    {
     "name": "stdout",
     "output_type": "stream",
     "text": [
      "Fetching data for movie ID tt1754695 from OMDb...\n",
      "Fetching data for movie ID tt0193365 from OMDb...\n"
     ]
    },
    {
     "name": "stderr",
     "output_type": "stream",
     "text": [
      "Fetching movie data:  30%|█████▍            | 1084/3591 [03:08<06:13,  6.70it/s]"
     ]
    },
    {
     "name": "stdout",
     "output_type": "stream",
     "text": [
      "Fetching data for movie ID tt3254548 from OMDb...\n",
      "Fetching data for movie ID tt0362537 from OMDb...\n"
     ]
    },
    {
     "name": "stderr",
     "output_type": "stream",
     "text": [
      "Fetching movie data:  30%|█████▍            | 1086/3591 [03:08<05:53,  7.08it/s]"
     ]
    },
    {
     "name": "stdout",
     "output_type": "stream",
     "text": [
      "Fetching data for movie ID tt3720060 from OMDb...\n",
      "Fetching data for movie ID tt1549781 from OMDb...\n"
     ]
    },
    {
     "name": "stderr",
     "output_type": "stream",
     "text": [
      "Fetching movie data:  30%|█████▍            | 1088/3591 [03:09<06:09,  6.77it/s]"
     ]
    },
    {
     "name": "stdout",
     "output_type": "stream",
     "text": [
      "Fetching data for movie ID tt3479126 from OMDb...\n",
      "Fetching data for movie ID tt1018887 from OMDb...\n"
     ]
    },
    {
     "name": "stderr",
     "output_type": "stream",
     "text": [
      "Fetching movie data:  30%|█████▍            | 1090/3591 [03:09<05:42,  7.29it/s]"
     ]
    },
    {
     "name": "stdout",
     "output_type": "stream",
     "text": [
      "Fetching data for movie ID tt8924916 from OMDb...\n",
      "Fetching data for movie ID tt2307020 from OMDb...\n"
     ]
    },
    {
     "name": "stderr",
     "output_type": "stream",
     "text": [
      "Fetching movie data:  30%|█████▍            | 1092/3591 [03:09<06:08,  6.79it/s]"
     ]
    },
    {
     "name": "stdout",
     "output_type": "stream",
     "text": [
      "Fetching data for movie ID tt0284430 from OMDb...\n",
      "Fetching data for movie ID tt0289992 from OMDb...\n"
     ]
    },
    {
     "name": "stderr",
     "output_type": "stream",
     "text": [
      "Fetching movie data:  30%|█████▍            | 1094/3591 [03:10<06:03,  6.86it/s]"
     ]
    },
    {
     "name": "stdout",
     "output_type": "stream",
     "text": [
      "Fetching data for movie ID tt0390621 from OMDb...\n",
      "Fetching data for movie ID tt0478187 from OMDb...\n"
     ]
    },
    {
     "name": "stderr",
     "output_type": "stream",
     "text": [
      "Fetching movie data:  31%|█████▍            | 1096/3591 [03:10<06:45,  6.15it/s]"
     ]
    },
    {
     "name": "stdout",
     "output_type": "stream",
     "text": [
      "Fetching data for movie ID tt2310814 from OMDb...\n",
      "Fetching data for movie ID tt1094629 from OMDb...\n"
     ]
    },
    {
     "name": "stderr",
     "output_type": "stream",
     "text": [
      "Fetching movie data:  31%|█████▌            | 1098/3591 [03:10<06:53,  6.03it/s]"
     ]
    },
    {
     "name": "stdout",
     "output_type": "stream",
     "text": [
      "Fetching data for movie ID tt1105260 from OMDb...\n",
      "Fetching data for movie ID tt1452520 from OMDb...\n"
     ]
    },
    {
     "name": "stderr",
     "output_type": "stream",
     "text": [
      "Fetching movie data:  31%|█████▌            | 1100/3591 [03:11<06:04,  6.84it/s]"
     ]
    },
    {
     "name": "stdout",
     "output_type": "stream",
     "text": [
      "Fetching data for movie ID tt0348875 from OMDb...\n",
      "Fetching data for movie ID tt0874915 from OMDb...\n"
     ]
    },
    {
     "name": "stderr",
     "output_type": "stream",
     "text": [
      "Fetching movie data:  31%|█████▌            | 1102/3591 [03:11<06:55,  5.99it/s]"
     ]
    },
    {
     "name": "stdout",
     "output_type": "stream",
     "text": [
      "Progress saved after 23700 movies.\n",
      "Fetching data for movie ID tt0287074 from OMDb...\n",
      "Fetching data for movie ID tt2660068 from OMDb...\n"
     ]
    },
    {
     "name": "stderr",
     "output_type": "stream",
     "text": [
      "Fetching movie data:  31%|█████▌            | 1104/3591 [03:11<07:00,  5.91it/s]"
     ]
    },
    {
     "name": "stdout",
     "output_type": "stream",
     "text": [
      "Fetching data for movie ID tt0893322 from OMDb...\n",
      "Fetching data for movie ID tt1773734 from OMDb...\n"
     ]
    },
    {
     "name": "stderr",
     "output_type": "stream",
     "text": [
      "Fetching movie data:  31%|█████▌            | 1106/3591 [03:12<07:06,  5.83it/s]"
     ]
    },
    {
     "name": "stdout",
     "output_type": "stream",
     "text": [
      "Fetching data for movie ID tt1537029 from OMDb...\n",
      "Fetching data for movie ID tt0334029 from OMDb...\n"
     ]
    },
    {
     "name": "stderr",
     "output_type": "stream",
     "text": [
      "Fetching movie data:  31%|█████▌            | 1107/3591 [03:12<06:37,  6.25it/s]"
     ]
    },
    {
     "name": "stdout",
     "output_type": "stream",
     "text": [
      "Fetching data for movie ID tt0475860 from OMDb...\n"
     ]
    },
    {
     "name": "stderr",
     "output_type": "stream",
     "text": [
      "Fetching movie data:  31%|█████▌            | 1109/3591 [03:12<06:49,  6.06it/s]"
     ]
    },
    {
     "name": "stdout",
     "output_type": "stream",
     "text": [
      "Fetching data for movie ID tt1334288 from OMDb...\n",
      "Fetching data for movie ID tt0457931 from OMDb...\n"
     ]
    },
    {
     "name": "stderr",
     "output_type": "stream",
     "text": [
      "Fetching movie data:  31%|█████▌            | 1111/3591 [03:12<06:01,  6.87it/s]"
     ]
    },
    {
     "name": "stdout",
     "output_type": "stream",
     "text": [
      "Fetching data for movie ID tt0829429 from OMDb...\n",
      "Fetching data for movie ID tt2551654 from OMDb...\n"
     ]
    },
    {
     "name": "stderr",
     "output_type": "stream",
     "text": [
      "Fetching movie data:  31%|█████▌            | 1113/3591 [03:13<05:52,  7.02it/s]"
     ]
    },
    {
     "name": "stdout",
     "output_type": "stream",
     "text": [
      "Fetching data for movie ID tt1045898 from OMDb...\n",
      "Fetching data for movie ID tt2204371 from OMDb...\n"
     ]
    },
    {
     "name": "stderr",
     "output_type": "stream",
     "text": [
      "Fetching movie data:  31%|█████▌            | 1114/3591 [03:13<06:23,  6.46it/s]"
     ]
    },
    {
     "name": "stdout",
     "output_type": "stream",
     "text": [
      "Fetching data for movie ID tt1783234 from OMDb...\n"
     ]
    },
    {
     "name": "stderr",
     "output_type": "stream",
     "text": [
      "Fetching movie data:  31%|█████▌            | 1116/3591 [03:13<07:53,  5.23it/s]"
     ]
    },
    {
     "name": "stdout",
     "output_type": "stream",
     "text": [
      "Fetching data for movie ID tt3188816 from OMDb...\n",
      "Fetching data for movie ID tt3293888 from OMDb...\n"
     ]
    },
    {
     "name": "stderr",
     "output_type": "stream",
     "text": [
      "Fetching movie data:  31%|█████▌            | 1118/3591 [03:14<07:47,  5.29it/s]"
     ]
    },
    {
     "name": "stdout",
     "output_type": "stream",
     "text": [
      "Fetching data for movie ID tt1451668 from OMDb...\n",
      "Fetching data for movie ID tt0388795 from OMDb...\n"
     ]
    },
    {
     "name": "stderr",
     "output_type": "stream",
     "text": [
      "Fetching movie data:  31%|█████▌            | 1120/3591 [03:14<07:22,  5.58it/s]"
     ]
    },
    {
     "name": "stdout",
     "output_type": "stream",
     "text": [
      "Fetching data for movie ID tt1288386 from OMDb...\n",
      "Fetching data for movie ID tt1954275 from OMDb...\n"
     ]
    },
    {
     "name": "stderr",
     "output_type": "stream",
     "text": [
      "Fetching movie data:  31%|█████▌            | 1122/3591 [03:14<06:38,  6.20it/s]"
     ]
    },
    {
     "name": "stdout",
     "output_type": "stream",
     "text": [
      "Fetching data for movie ID tt0426468 from OMDb...\n",
      "Fetching data for movie ID tt3222946 from OMDb...\n"
     ]
    },
    {
     "name": "stderr",
     "output_type": "stream",
     "text": [
      "Fetching movie data:  31%|█████▋            | 1124/3591 [03:15<06:46,  6.07it/s]"
     ]
    },
    {
     "name": "stdout",
     "output_type": "stream",
     "text": [
      "Fetching data for movie ID tt1628016 from OMDb...\n",
      "Fetching data for movie ID tt1561406 from OMDb...\n"
     ]
    },
    {
     "name": "stderr",
     "output_type": "stream",
     "text": [
      "Fetching movie data:  31%|█████▋            | 1126/3591 [03:15<07:04,  5.80it/s]"
     ]
    },
    {
     "name": "stdout",
     "output_type": "stream",
     "text": [
      "Fetching data for movie ID tt1401156 from OMDb...\n",
      "Fetching data for movie ID tt1844673 from OMDb...\n"
     ]
    },
    {
     "name": "stderr",
     "output_type": "stream",
     "text": [
      "Fetching movie data:  31%|█████▋            | 1128/3591 [03:15<06:26,  6.36it/s]"
     ]
    },
    {
     "name": "stdout",
     "output_type": "stream",
     "text": [
      "Fetching data for movie ID tt3426354 from OMDb...\n",
      "Fetching data for movie ID tt0352940 from OMDb...\n"
     ]
    },
    {
     "name": "stderr",
     "output_type": "stream",
     "text": [
      "Fetching movie data:  31%|█████▋            | 1130/3591 [03:16<06:27,  6.35it/s]"
     ]
    },
    {
     "name": "stdout",
     "output_type": "stream",
     "text": [
      "Fetching data for movie ID tt2004391 from OMDb...\n",
      "Fetching data for movie ID tt5351492 from OMDb...\n"
     ]
    },
    {
     "name": "stderr",
     "output_type": "stream",
     "text": [
      "Fetching movie data:  32%|█████▋            | 1132/3591 [03:16<06:29,  6.31it/s]"
     ]
    },
    {
     "name": "stdout",
     "output_type": "stream",
     "text": [
      "Fetching data for movie ID tt2365817 from OMDb...\n",
      "Fetching data for movie ID tt1326204 from OMDb...\n"
     ]
    },
    {
     "name": "stderr",
     "output_type": "stream",
     "text": [
      "Fetching movie data:  32%|█████▋            | 1134/3591 [03:16<07:08,  5.73it/s]"
     ]
    },
    {
     "name": "stdout",
     "output_type": "stream",
     "text": [
      "Fetching data for movie ID tt1278333 from OMDb...\n",
      "Fetching data for movie ID tt1374838 from OMDb...\n"
     ]
    },
    {
     "name": "stderr",
     "output_type": "stream",
     "text": [
      "Fetching movie data:  32%|█████▋            | 1136/3591 [03:17<06:19,  6.46it/s]"
     ]
    },
    {
     "name": "stdout",
     "output_type": "stream",
     "text": [
      "Fetching data for movie ID tt0405422 from OMDb...\n",
      "Fetching data for movie ID tt0367736 from OMDb...\n"
     ]
    },
    {
     "name": "stderr",
     "output_type": "stream",
     "text": [
      "Fetching movie data:  32%|█████▋            | 1138/3591 [03:17<06:20,  6.44it/s]"
     ]
    },
    {
     "name": "stdout",
     "output_type": "stream",
     "text": [
      "Fetching data for movie ID tt1528759 from OMDb...\n",
      "Fetching data for movie ID tt1943715 from OMDb...\n"
     ]
    },
    {
     "name": "stderr",
     "output_type": "stream",
     "text": [
      "Fetching movie data:  32%|█████▋            | 1140/3591 [03:17<06:32,  6.24it/s]"
     ]
    },
    {
     "name": "stdout",
     "output_type": "stream",
     "text": [
      "Fetching data for movie ID tt0797037 from OMDb...\n",
      "Fetching data for movie ID tt0874426 from OMDb...\n"
     ]
    },
    {
     "name": "stderr",
     "output_type": "stream",
     "text": [
      "Fetching movie data:  32%|█████▋            | 1142/3591 [03:17<06:02,  6.75it/s]"
     ]
    },
    {
     "name": "stdout",
     "output_type": "stream",
     "text": [
      "Fetching data for movie ID tt0439820 from OMDb...\n",
      "Fetching data for movie ID tt9056948 from OMDb...\n"
     ]
    },
    {
     "name": "stderr",
     "output_type": "stream",
     "text": [
      "Fetching movie data:  32%|█████▋            | 1144/3591 [03:18<05:43,  7.12it/s]"
     ]
    },
    {
     "name": "stdout",
     "output_type": "stream",
     "text": [
      "Fetching data for movie ID tt3734096 from OMDb...\n",
      "Fetching data for movie ID tt2428402 from OMDb...\n"
     ]
    },
    {
     "name": "stderr",
     "output_type": "stream",
     "text": [
      "Fetching movie data:  32%|█████▋            | 1146/3591 [03:18<06:38,  6.13it/s]"
     ]
    },
    {
     "name": "stdout",
     "output_type": "stream",
     "text": [
      "Fetching data for movie ID tt1608245 from OMDb...\n",
      "Fetching data for movie ID tt0339535 from OMDb...\n"
     ]
    },
    {
     "name": "stderr",
     "output_type": "stream",
     "text": [
      "Fetching movie data:  32%|█████▊            | 1148/3591 [03:18<06:01,  6.77it/s]"
     ]
    },
    {
     "name": "stdout",
     "output_type": "stream",
     "text": [
      "Fetching data for movie ID tt0315510 from OMDb...\n",
      "Fetching data for movie ID tt0471851 from OMDb...\n"
     ]
    },
    {
     "name": "stderr",
     "output_type": "stream",
     "text": [
      "Fetching movie data:  32%|█████▊            | 1150/3591 [03:19<06:02,  6.74it/s]"
     ]
    },
    {
     "name": "stdout",
     "output_type": "stream",
     "text": [
      "Fetching data for movie ID tt2378585 from OMDb...\n",
      "Fetching data for movie ID tt1592292 from OMDb...\n"
     ]
    },
    {
     "name": "stderr",
     "output_type": "stream",
     "text": [
      "Fetching movie data:  32%|█████▊            | 1152/3591 [03:19<05:31,  7.37it/s]"
     ]
    },
    {
     "name": "stdout",
     "output_type": "stream",
     "text": [
      "Fetching data for movie ID tt2326666 from OMDb...\n",
      "Fetching data for movie ID tt4003456 from OMDb...\n"
     ]
    },
    {
     "name": "stderr",
     "output_type": "stream",
     "text": [
      "Fetching movie data:  32%|█████▊            | 1154/3591 [03:19<05:38,  7.20it/s]"
     ]
    },
    {
     "name": "stdout",
     "output_type": "stream",
     "text": [
      "Fetching data for movie ID tt5747168 from OMDb...\n",
      "Fetching data for movie ID tt2180459 from OMDb...\n"
     ]
    },
    {
     "name": "stderr",
     "output_type": "stream",
     "text": [
      "Fetching movie data:  32%|█████▊            | 1156/3591 [03:19<05:59,  6.77it/s]"
     ]
    },
    {
     "name": "stdout",
     "output_type": "stream",
     "text": [
      "Fetching data for movie ID tt2068997 from OMDb...\n",
      "Fetching data for movie ID tt1663145 from OMDb...\n"
     ]
    },
    {
     "name": "stderr",
     "output_type": "stream",
     "text": [
      "Fetching movie data:  32%|█████▊            | 1158/3591 [03:20<05:53,  6.89it/s]"
     ]
    },
    {
     "name": "stdout",
     "output_type": "stream",
     "text": [
      "Fetching data for movie ID tt1598435 from OMDb...\n",
      "Fetching data for movie ID tt2297031 from OMDb...\n"
     ]
    },
    {
     "name": "stderr",
     "output_type": "stream",
     "text": [
      "Fetching movie data:  32%|█████▊            | 1160/3591 [03:20<06:02,  6.70it/s]"
     ]
    },
    {
     "name": "stdout",
     "output_type": "stream",
     "text": [
      "Fetching data for movie ID tt1608635 from OMDb...\n",
      "Fetching data for movie ID tt1084045 from OMDb...\n"
     ]
    },
    {
     "name": "stderr",
     "output_type": "stream",
     "text": [
      "Fetching movie data:  32%|█████▊            | 1162/3591 [03:20<05:46,  7.00it/s]"
     ]
    },
    {
     "name": "stdout",
     "output_type": "stream",
     "text": [
      "Fetching data for movie ID tt2112092 from OMDb...\n",
      "Fetching data for movie ID tt0308644 from OMDb...\n"
     ]
    },
    {
     "name": "stderr",
     "output_type": "stream",
     "text": [
      "Fetching movie data:  32%|█████▊            | 1164/3591 [03:21<05:17,  7.64it/s]"
     ]
    },
    {
     "name": "stdout",
     "output_type": "stream",
     "text": [
      "Fetching data for movie ID tt0860511 from OMDb...\n",
      "Fetching data for movie ID tt0881317 from OMDb...\n"
     ]
    },
    {
     "name": "stderr",
     "output_type": "stream",
     "text": [
      "Fetching movie data:  32%|█████▊            | 1166/3591 [03:21<05:27,  7.39it/s]"
     ]
    },
    {
     "name": "stdout",
     "output_type": "stream",
     "text": [
      "Fetching data for movie ID tt0775434 from OMDb...\n",
      "Fetching data for movie ID tt1507992 from OMDb...\n"
     ]
    },
    {
     "name": "stderr",
     "output_type": "stream",
     "text": [
      "Fetching movie data:  33%|█████▊            | 1168/3591 [03:21<05:16,  7.66it/s]"
     ]
    },
    {
     "name": "stdout",
     "output_type": "stream",
     "text": [
      "Fetching data for movie ID tt1941731 from OMDb...\n",
      "Fetching data for movie ID tt3574434 from OMDb...\n"
     ]
    },
    {
     "name": "stderr",
     "output_type": "stream",
     "text": [
      "Fetching movie data:  33%|█████▊            | 1170/3591 [03:21<05:30,  7.33it/s]"
     ]
    },
    {
     "name": "stdout",
     "output_type": "stream",
     "text": [
      "Fetching data for movie ID tt2298501 from OMDb...\n",
      "Fetching data for movie ID tt3154406 from OMDb...\n"
     ]
    },
    {
     "name": "stderr",
     "output_type": "stream",
     "text": [
      "Fetching movie data:  33%|█████▊            | 1172/3591 [03:22<06:40,  6.04it/s]"
     ]
    },
    {
     "name": "stdout",
     "output_type": "stream",
     "text": [
      "Fetching data for movie ID tt1773538 from OMDb...\n",
      "Fetching data for movie ID tt2378291 from OMDb...\n"
     ]
    },
    {
     "name": "stderr",
     "output_type": "stream",
     "text": [
      "Fetching movie data:  33%|█████▉            | 1174/3591 [03:22<06:00,  6.70it/s]"
     ]
    },
    {
     "name": "stdout",
     "output_type": "stream",
     "text": [
      "Fetching data for movie ID tt0796368 from OMDb...\n",
      "Fetching data for movie ID tt0924213 from OMDb...\n"
     ]
    },
    {
     "name": "stderr",
     "output_type": "stream",
     "text": [
      "Fetching movie data:  33%|█████▉            | 1175/3591 [03:22<05:58,  6.73it/s]"
     ]
    },
    {
     "name": "stdout",
     "output_type": "stream",
     "text": [
      "Fetching data for movie ID tt2202391 from OMDb...\n"
     ]
    },
    {
     "name": "stderr",
     "output_type": "stream",
     "text": [
      "Fetching movie data:  33%|█████▉            | 1177/3591 [03:23<06:43,  5.99it/s]"
     ]
    },
    {
     "name": "stdout",
     "output_type": "stream",
     "text": [
      "Fetching data for movie ID tt0415127 from OMDb...\n",
      "Fetching data for movie ID tt0874938 from OMDb...\n"
     ]
    },
    {
     "name": "stderr",
     "output_type": "stream",
     "text": [
      "Fetching movie data:  33%|█████▉            | 1179/3591 [03:23<06:03,  6.63it/s]"
     ]
    },
    {
     "name": "stdout",
     "output_type": "stream",
     "text": [
      "Fetching data for movie ID tt18382382 from OMDb...\n",
      "Fetching data for movie ID tt0208866 from OMDb...\n"
     ]
    },
    {
     "name": "stderr",
     "output_type": "stream",
     "text": [
      "Fetching movie data:  33%|█████▉            | 1181/3591 [03:23<06:41,  6.01it/s]"
     ]
    },
    {
     "name": "stdout",
     "output_type": "stream",
     "text": [
      "Fetching data for movie ID tt0291988 from OMDb...\n",
      "Fetching data for movie ID tt0233315 from OMDb...\n"
     ]
    },
    {
     "name": "stderr",
     "output_type": "stream",
     "text": [
      "Fetching movie data:  33%|█████▉            | 1183/3591 [03:24<06:21,  6.31it/s]"
     ]
    },
    {
     "name": "stdout",
     "output_type": "stream",
     "text": [
      "Fetching data for movie ID tt1538824 from OMDb...\n",
      "Fetching data for movie ID tt1312209 from OMDb...\n"
     ]
    },
    {
     "name": "stderr",
     "output_type": "stream",
     "text": [
      "Fetching movie data:  33%|█████▉            | 1185/3591 [03:24<05:47,  6.92it/s]"
     ]
    },
    {
     "name": "stdout",
     "output_type": "stream",
     "text": [
      "Fetching data for movie ID tt0775482 from OMDb...\n",
      "Fetching data for movie ID tt1754651 from OMDb...\n"
     ]
    },
    {
     "name": "stderr",
     "output_type": "stream",
     "text": [
      "Fetching movie data:  33%|█████▉            | 1187/3591 [03:24<06:09,  6.50it/s]"
     ]
    },
    {
     "name": "stdout",
     "output_type": "stream",
     "text": [
      "Fetching data for movie ID tt1764626 from OMDb...\n",
      "Fetching data for movie ID tt0414873 from OMDb...\n"
     ]
    },
    {
     "name": "stderr",
     "output_type": "stream",
     "text": [
      "Fetching movie data:  33%|█████▉            | 1189/3591 [03:24<05:40,  7.06it/s]"
     ]
    },
    {
     "name": "stdout",
     "output_type": "stream",
     "text": [
      "Fetching data for movie ID tt2058712 from OMDb...\n",
      "Fetching data for movie ID tt6374976 from OMDb...\n"
     ]
    },
    {
     "name": "stderr",
     "output_type": "stream",
     "text": [
      "Fetching movie data:  33%|█████▉            | 1191/3591 [03:25<05:48,  6.89it/s]"
     ]
    },
    {
     "name": "stdout",
     "output_type": "stream",
     "text": [
      "Fetching data for movie ID tt1754383 from OMDb...\n",
      "Fetching data for movie ID tt1730183 from OMDb...\n"
     ]
    },
    {
     "name": "stderr",
     "output_type": "stream",
     "text": [
      "Fetching movie data:  33%|█████▉            | 1193/3591 [03:25<05:43,  6.98it/s]"
     ]
    },
    {
     "name": "stdout",
     "output_type": "stream",
     "text": [
      "Fetching data for movie ID tt3591982 from OMDb...\n",
      "Fetching data for movie ID tt1332036 from OMDb...\n"
     ]
    },
    {
     "name": "stderr",
     "output_type": "stream",
     "text": [
      "Fetching movie data:  33%|█████▉            | 1195/3591 [03:25<05:53,  6.79it/s]"
     ]
    },
    {
     "name": "stdout",
     "output_type": "stream",
     "text": [
      "Fetching data for movie ID tt2204800 from OMDb...\n",
      "Fetching data for movie ID tt1578818 from OMDb...\n"
     ]
    },
    {
     "name": "stderr",
     "output_type": "stream",
     "text": [
      "Fetching movie data:  33%|██████            | 1197/3591 [03:26<05:48,  6.87it/s]"
     ]
    },
    {
     "name": "stdout",
     "output_type": "stream",
     "text": [
      "Fetching data for movie ID tt1505411 from OMDb...\n",
      "Fetching data for movie ID tt0374921 from OMDb...\n"
     ]
    },
    {
     "name": "stderr",
     "output_type": "stream",
     "text": [
      "Fetching movie data:  33%|██████            | 1199/3591 [03:26<05:34,  7.14it/s]"
     ]
    },
    {
     "name": "stdout",
     "output_type": "stream",
     "text": [
      "Fetching data for movie ID tt1594278 from OMDb...\n",
      "Fetching data for movie ID tt1342226 from OMDb...\n"
     ]
    },
    {
     "name": "stderr",
     "output_type": "stream",
     "text": [
      "Fetching movie data:  33%|██████            | 1201/3591 [03:26<06:42,  5.93it/s]"
     ]
    },
    {
     "name": "stdout",
     "output_type": "stream",
     "text": [
      "Fetching data for movie ID tt3359518 from OMDb...\n",
      "Progress saved after 23800 movies.\n",
      "Fetching data for movie ID tt0333679 from OMDb...\n"
     ]
    },
    {
     "name": "stderr",
     "output_type": "stream",
     "text": [
      "Fetching movie data:  34%|██████            | 1203/3591 [03:27<06:00,  6.63it/s]"
     ]
    },
    {
     "name": "stdout",
     "output_type": "stream",
     "text": [
      "Fetching data for movie ID tt1949595 from OMDb...\n",
      "Fetching data for movie ID tt0912599 from OMDb...\n"
     ]
    },
    {
     "name": "stderr",
     "output_type": "stream",
     "text": [
      "Fetching movie data:  34%|██████            | 1205/3591 [03:27<06:17,  6.32it/s]"
     ]
    },
    {
     "name": "stdout",
     "output_type": "stream",
     "text": [
      "Fetching data for movie ID tt2217230 from OMDb...\n",
      "Fetching data for movie ID tt1527664 from OMDb...\n"
     ]
    },
    {
     "name": "stderr",
     "output_type": "stream",
     "text": [
      "Fetching movie data:  34%|██████            | 1207/3591 [03:27<06:40,  5.95it/s]"
     ]
    },
    {
     "name": "stdout",
     "output_type": "stream",
     "text": [
      "Fetching data for movie ID tt1671681 from OMDb...\n",
      "Fetching data for movie ID tt0780600 from OMDb...\n"
     ]
    },
    {
     "name": "stderr",
     "output_type": "stream",
     "text": [
      "Fetching movie data:  34%|██████            | 1209/3591 [03:28<06:38,  5.98it/s]"
     ]
    },
    {
     "name": "stdout",
     "output_type": "stream",
     "text": [
      "Fetching data for movie ID tt3613744 from OMDb...\n",
      "Fetching data for movie ID tt2234522 from OMDb...\n"
     ]
    },
    {
     "name": "stderr",
     "output_type": "stream",
     "text": [
      "Fetching movie data:  34%|██████            | 1211/3591 [03:28<06:56,  5.72it/s]"
     ]
    },
    {
     "name": "stdout",
     "output_type": "stream",
     "text": [
      "Fetching data for movie ID tt1547237 from OMDb...\n",
      "Fetching data for movie ID tt3283714 from OMDb...\n"
     ]
    },
    {
     "name": "stderr",
     "output_type": "stream",
     "text": [
      "Fetching movie data:  34%|██████            | 1213/3591 [03:28<06:13,  6.36it/s]"
     ]
    },
    {
     "name": "stdout",
     "output_type": "stream",
     "text": [
      "Fetching data for movie ID tt1601973 from OMDb...\n",
      "Fetching data for movie ID tt0393532 from OMDb...\n"
     ]
    },
    {
     "name": "stderr",
     "output_type": "stream",
     "text": [
      "Fetching movie data:  34%|██████            | 1215/3591 [03:28<06:04,  6.52it/s]"
     ]
    },
    {
     "name": "stdout",
     "output_type": "stream",
     "text": [
      "Fetching data for movie ID tt1704144 from OMDb...\n",
      "Fetching data for movie ID tt3241890 from OMDb...\n"
     ]
    },
    {
     "name": "stderr",
     "output_type": "stream",
     "text": [
      "Fetching movie data:  34%|██████            | 1217/3591 [03:29<06:22,  6.21it/s]"
     ]
    },
    {
     "name": "stdout",
     "output_type": "stream",
     "text": [
      "Fetching data for movie ID tt0997462 from OMDb...\n",
      "Fetching data for movie ID tt3295352 from OMDb...\n"
     ]
    },
    {
     "name": "stderr",
     "output_type": "stream",
     "text": [
      "Fetching movie data:  34%|██████            | 1219/3591 [03:29<06:46,  5.83it/s]"
     ]
    },
    {
     "name": "stdout",
     "output_type": "stream",
     "text": [
      "Fetching data for movie ID tt2191807 from OMDb...\n",
      "Fetching data for movie ID tt2136916 from OMDb...\n"
     ]
    },
    {
     "name": "stderr",
     "output_type": "stream",
     "text": [
      "Fetching movie data:  34%|██████            | 1221/3591 [03:29<06:24,  6.16it/s]"
     ]
    },
    {
     "name": "stdout",
     "output_type": "stream",
     "text": [
      "Fetching data for movie ID tt1281396 from OMDb...\n",
      "Fetching data for movie ID tt1736016 from OMDb...\n"
     ]
    },
    {
     "name": "stderr",
     "output_type": "stream",
     "text": [
      "Fetching movie data:  34%|██████▏           | 1223/3591 [03:30<06:30,  6.06it/s]"
     ]
    },
    {
     "name": "stdout",
     "output_type": "stream",
     "text": [
      "Fetching data for movie ID tt0470817 from OMDb...\n",
      "Fetching data for movie ID tt1189267 from OMDb...\n"
     ]
    },
    {
     "name": "stderr",
     "output_type": "stream",
     "text": [
      "Fetching movie data:  34%|██████▏           | 1225/3591 [03:30<06:08,  6.41it/s]"
     ]
    },
    {
     "name": "stdout",
     "output_type": "stream",
     "text": [
      "Fetching data for movie ID tt1087578 from OMDb...\n",
      "Fetching data for movie ID tt1742108 from OMDb...\n"
     ]
    },
    {
     "name": "stderr",
     "output_type": "stream",
     "text": [
      "Fetching movie data:  34%|██████▏           | 1227/3591 [03:30<06:41,  5.88it/s]"
     ]
    },
    {
     "name": "stdout",
     "output_type": "stream",
     "text": [
      "Fetching data for movie ID tt0395667 from OMDb...\n",
      "Fetching data for movie ID tt1135011 from OMDb...\n"
     ]
    },
    {
     "name": "stderr",
     "output_type": "stream",
     "text": [
      "Fetching movie data:  34%|██████▏           | 1229/3591 [03:31<05:56,  6.63it/s]"
     ]
    },
    {
     "name": "stdout",
     "output_type": "stream",
     "text": [
      "Fetching data for movie ID tt1440736 from OMDb...\n",
      "Fetching data for movie ID tt3355944 from OMDb...\n"
     ]
    },
    {
     "name": "stderr",
     "output_type": "stream",
     "text": [
      "Fetching movie data:  34%|██████▏           | 1231/3591 [03:31<05:42,  6.89it/s]"
     ]
    },
    {
     "name": "stdout",
     "output_type": "stream",
     "text": [
      "Fetching data for movie ID tt2953736 from OMDb...\n",
      "Fetching data for movie ID tt3842606 from OMDb...\n"
     ]
    },
    {
     "name": "stderr",
     "output_type": "stream",
     "text": [
      "Fetching movie data:  34%|██████▏           | 1233/3591 [03:31<06:58,  5.63it/s]"
     ]
    },
    {
     "name": "stdout",
     "output_type": "stream",
     "text": [
      "Fetching data for movie ID tt1344728 from OMDb...\n",
      "Fetching data for movie ID tt1842506 from OMDb...\n"
     ]
    },
    {
     "name": "stderr",
     "output_type": "stream",
     "text": [
      "Fetching movie data:  34%|██████▏           | 1235/3591 [03:32<06:23,  6.14it/s]"
     ]
    },
    {
     "name": "stdout",
     "output_type": "stream",
     "text": [
      "Fetching data for movie ID tt1326816 from OMDb...\n",
      "Fetching data for movie ID tt0460394 from OMDb...\n"
     ]
    },
    {
     "name": "stderr",
     "output_type": "stream",
     "text": [
      "Fetching movie data:  34%|██████▏           | 1237/3591 [03:32<06:16,  6.25it/s]"
     ]
    },
    {
     "name": "stdout",
     "output_type": "stream",
     "text": [
      "Fetching data for movie ID tt0764269 from OMDb...\n",
      "Fetching data for movie ID tt0327102 from OMDb...\n"
     ]
    },
    {
     "name": "stderr",
     "output_type": "stream",
     "text": [
      "Fetching movie data:  35%|██████▏           | 1239/3591 [03:32<06:07,  6.40it/s]"
     ]
    },
    {
     "name": "stdout",
     "output_type": "stream",
     "text": [
      "Fetching data for movie ID tt1092086 from OMDb...\n",
      "Fetching data for movie ID tt1126490 from OMDb...\n"
     ]
    },
    {
     "name": "stderr",
     "output_type": "stream",
     "text": [
      "Fetching movie data:  35%|██████▏           | 1241/3591 [03:33<06:22,  6.14it/s]"
     ]
    },
    {
     "name": "stdout",
     "output_type": "stream",
     "text": [
      "Fetching data for movie ID tt1408355 from OMDb...\n",
      "Fetching data for movie ID tt0331458 from OMDb...\n"
     ]
    },
    {
     "name": "stderr",
     "output_type": "stream",
     "text": [
      "Fetching movie data:  35%|██████▏           | 1243/3591 [03:33<05:59,  6.54it/s]"
     ]
    },
    {
     "name": "stdout",
     "output_type": "stream",
     "text": [
      "Fetching data for movie ID tt0419926 from OMDb...\n",
      "Fetching data for movie ID tt1182937 from OMDb...\n"
     ]
    },
    {
     "name": "stderr",
     "output_type": "stream",
     "text": [
      "Fetching movie data:  35%|██████▏           | 1245/3591 [03:33<06:22,  6.13it/s]"
     ]
    },
    {
     "name": "stdout",
     "output_type": "stream",
     "text": [
      "Fetching data for movie ID tt1512779 from OMDb...\n",
      "Fetching data for movie ID tt0284007 from OMDb...\n"
     ]
    },
    {
     "name": "stderr",
     "output_type": "stream",
     "text": [
      "Fetching movie data:  35%|██████▎           | 1247/3591 [03:34<06:16,  6.23it/s]"
     ]
    },
    {
     "name": "stdout",
     "output_type": "stream",
     "text": [
      "Fetching data for movie ID tt0433448 from OMDb...\n",
      "Fetching data for movie ID tt2216240 from OMDb...\n"
     ]
    },
    {
     "name": "stderr",
     "output_type": "stream",
     "text": [
      "Fetching movie data:  35%|██████▎           | 1249/3591 [03:34<05:50,  6.67it/s]"
     ]
    },
    {
     "name": "stdout",
     "output_type": "stream",
     "text": [
      "Fetching data for movie ID tt0337578 from OMDb...\n",
      "Fetching data for movie ID tt6442782 from OMDb...\n"
     ]
    },
    {
     "name": "stderr",
     "output_type": "stream",
     "text": [
      "Fetching movie data:  35%|██████▎           | 1251/3591 [03:34<06:01,  6.48it/s]"
     ]
    },
    {
     "name": "stdout",
     "output_type": "stream",
     "text": [
      "Fetching data for movie ID tt1022528 from OMDb...\n",
      "Fetching data for movie ID tt2413524 from OMDb...\n"
     ]
    },
    {
     "name": "stderr",
     "output_type": "stream",
     "text": [
      "Fetching movie data:  35%|██████▎           | 1253/3591 [03:35<06:07,  6.37it/s]"
     ]
    },
    {
     "name": "stdout",
     "output_type": "stream",
     "text": [
      "Fetching data for movie ID tt1490031 from OMDb...\n",
      "Fetching data for movie ID tt2290778 from OMDb...\n"
     ]
    },
    {
     "name": "stderr",
     "output_type": "stream",
     "text": [
      "Fetching movie data:  35%|██████▎           | 1255/3591 [03:35<06:12,  6.27it/s]"
     ]
    },
    {
     "name": "stdout",
     "output_type": "stream",
     "text": [
      "Fetching data for movie ID tt2400461 from OMDb...\n",
      "Fetching data for movie ID tt2243299 from OMDb...\n"
     ]
    },
    {
     "name": "stderr",
     "output_type": "stream",
     "text": [
      "Fetching movie data:  35%|██████▎           | 1257/3591 [03:35<06:01,  6.45it/s]"
     ]
    },
    {
     "name": "stdout",
     "output_type": "stream",
     "text": [
      "Fetching data for movie ID tt2415890 from OMDb...\n",
      "Fetching data for movie ID tt4315528 from OMDb...\n"
     ]
    },
    {
     "name": "stderr",
     "output_type": "stream",
     "text": [
      "Fetching movie data:  35%|██████▎           | 1259/3591 [03:36<06:17,  6.17it/s]"
     ]
    },
    {
     "name": "stdout",
     "output_type": "stream",
     "text": [
      "Fetching data for movie ID tt1718856 from OMDb...\n",
      "Fetching data for movie ID tt2042633 from OMDb...\n"
     ]
    },
    {
     "name": "stderr",
     "output_type": "stream",
     "text": [
      "Fetching movie data:  35%|██████▎           | 1261/3591 [03:36<06:05,  6.38it/s]"
     ]
    },
    {
     "name": "stdout",
     "output_type": "stream",
     "text": [
      "Fetching data for movie ID tt2338874 from OMDb...\n",
      "Fetching data for movie ID tt0419786 from OMDb...\n"
     ]
    },
    {
     "name": "stderr",
     "output_type": "stream",
     "text": [
      "Fetching movie data:  35%|██████▎           | 1263/3591 [03:36<06:21,  6.11it/s]"
     ]
    },
    {
     "name": "stdout",
     "output_type": "stream",
     "text": [
      "Fetching data for movie ID tt1774508 from OMDb...\n",
      "Fetching data for movie ID tt2632430 from OMDb...\n"
     ]
    },
    {
     "name": "stderr",
     "output_type": "stream",
     "text": [
      "Fetching movie data:  35%|██████▎           | 1265/3591 [03:36<05:53,  6.58it/s]"
     ]
    },
    {
     "name": "stdout",
     "output_type": "stream",
     "text": [
      "Fetching data for movie ID tt1028532 from OMDb...\n",
      "Fetching data for movie ID tt1047450 from OMDb...\n"
     ]
    },
    {
     "name": "stderr",
     "output_type": "stream",
     "text": [
      "Fetching movie data:  35%|██████▎           | 1267/3591 [03:37<06:07,  6.33it/s]"
     ]
    },
    {
     "name": "stdout",
     "output_type": "stream",
     "text": [
      "Fetching data for movie ID tt0452632 from OMDb...\n",
      "Fetching data for movie ID tt1570435 from OMDb...\n"
     ]
    },
    {
     "name": "stderr",
     "output_type": "stream",
     "text": [
      "Fetching movie data:  35%|██████▎           | 1269/3591 [03:37<06:06,  6.34it/s]"
     ]
    },
    {
     "name": "stdout",
     "output_type": "stream",
     "text": [
      "Fetching data for movie ID tt2390190 from OMDb...\n",
      "Fetching data for movie ID tt1974212 from OMDb...\n"
     ]
    },
    {
     "name": "stderr",
     "output_type": "stream",
     "text": [
      "Fetching movie data:  35%|██████▎           | 1271/3591 [03:37<05:37,  6.87it/s]"
     ]
    },
    {
     "name": "stdout",
     "output_type": "stream",
     "text": [
      "Fetching data for movie ID tt1509276 from OMDb...\n",
      "Fetching data for movie ID tt2247129 from OMDb...\n"
     ]
    },
    {
     "name": "stderr",
     "output_type": "stream",
     "text": [
      "Fetching movie data:  35%|██████▍           | 1273/3591 [03:38<06:13,  6.21it/s]"
     ]
    },
    {
     "name": "stdout",
     "output_type": "stream",
     "text": [
      "Fetching data for movie ID tt0371281 from OMDb...\n",
      "Fetching data for movie ID tt1456075 from OMDb...\n"
     ]
    },
    {
     "name": "stderr",
     "output_type": "stream",
     "text": [
      "Fetching movie data:  36%|██████▍           | 1275/3591 [03:38<05:44,  6.71it/s]"
     ]
    },
    {
     "name": "stdout",
     "output_type": "stream",
     "text": [
      "Fetching data for movie ID tt7722178 from OMDb...\n",
      "Fetching data for movie ID tt0376544 from OMDb...\n"
     ]
    },
    {
     "name": "stderr",
     "output_type": "stream",
     "text": [
      "Fetching movie data:  36%|██████▍           | 1277/3591 [03:38<05:57,  6.48it/s]"
     ]
    },
    {
     "name": "stdout",
     "output_type": "stream",
     "text": [
      "Fetching data for movie ID tt0877645 from OMDb...\n",
      "Fetching data for movie ID tt1773104 from OMDb...\n"
     ]
    },
    {
     "name": "stderr",
     "output_type": "stream",
     "text": [
      "Fetching movie data:  36%|██████▍           | 1279/3591 [03:39<05:59,  6.43it/s]"
     ]
    },
    {
     "name": "stdout",
     "output_type": "stream",
     "text": [
      "Fetching data for movie ID tt1921012 from OMDb...\n",
      "Fetching data for movie ID tt1756807 from OMDb...\n"
     ]
    },
    {
     "name": "stderr",
     "output_type": "stream",
     "text": [
      "Fetching movie data:  36%|██████▍           | 1281/3591 [03:39<06:22,  6.04it/s]"
     ]
    },
    {
     "name": "stdout",
     "output_type": "stream",
     "text": [
      "Fetching data for movie ID tt2545128 from OMDb...\n",
      "Fetching data for movie ID tt1918900 from OMDb...\n"
     ]
    },
    {
     "name": "stderr",
     "output_type": "stream",
     "text": [
      "Fetching movie data:  36%|██████▍           | 1283/3591 [03:39<06:02,  6.37it/s]"
     ]
    },
    {
     "name": "stdout",
     "output_type": "stream",
     "text": [
      "Fetching data for movie ID tt1248290 from OMDb...\n",
      "Fetching data for movie ID tt2140039 from OMDb...\n"
     ]
    },
    {
     "name": "stderr",
     "output_type": "stream",
     "text": [
      "Fetching movie data:  36%|██████▍           | 1285/3591 [03:40<06:08,  6.25it/s]"
     ]
    },
    {
     "name": "stdout",
     "output_type": "stream",
     "text": [
      "Fetching data for movie ID tt1528284 from OMDb...\n",
      "Fetching data for movie ID tt2010971 from OMDb...\n"
     ]
    },
    {
     "name": "stderr",
     "output_type": "stream",
     "text": [
      "Fetching movie data:  36%|██████▍           | 1287/3591 [03:40<06:08,  6.25it/s]"
     ]
    },
    {
     "name": "stdout",
     "output_type": "stream",
     "text": [
      "Fetching data for movie ID tt0351461 from OMDb...\n",
      "Fetching data for movie ID tt1417034 from OMDb...\n"
     ]
    },
    {
     "name": "stderr",
     "output_type": "stream",
     "text": [
      "Fetching movie data:  36%|██████▍           | 1289/3591 [03:40<05:47,  6.63it/s]"
     ]
    },
    {
     "name": "stdout",
     "output_type": "stream",
     "text": [
      "Fetching data for movie ID tt0333437 from OMDb...\n",
      "Fetching data for movie ID tt2059255 from OMDb...\n"
     ]
    },
    {
     "name": "stderr",
     "output_type": "stream",
     "text": [
      "Fetching movie data:  36%|██████▍           | 1291/3591 [03:40<05:41,  6.74it/s]"
     ]
    },
    {
     "name": "stdout",
     "output_type": "stream",
     "text": [
      "Fetching data for movie ID tt3122722 from OMDb...\n",
      "Fetching data for movie ID tt1018826 from OMDb...\n"
     ]
    },
    {
     "name": "stderr",
     "output_type": "stream",
     "text": [
      "Fetching movie data:  36%|██████▍           | 1293/3591 [03:41<05:19,  7.20it/s]"
     ]
    },
    {
     "name": "stdout",
     "output_type": "stream",
     "text": [
      "Fetching data for movie ID tt1231285 from OMDb...\n",
      "Fetching data for movie ID tt2427476 from OMDb...\n"
     ]
    },
    {
     "name": "stderr",
     "output_type": "stream",
     "text": [
      "Fetching movie data:  36%|██████▍           | 1295/3591 [03:41<04:52,  7.84it/s]"
     ]
    },
    {
     "name": "stdout",
     "output_type": "stream",
     "text": [
      "Fetching data for movie ID tt0850264 from OMDb...\n",
      "Fetching data for movie ID tt0402362 from OMDb...\n"
     ]
    },
    {
     "name": "stderr",
     "output_type": "stream",
     "text": [
      "Fetching movie data:  36%|██████▌           | 1297/3591 [03:41<04:51,  7.87it/s]"
     ]
    },
    {
     "name": "stdout",
     "output_type": "stream",
     "text": [
      "Fetching data for movie ID tt1244662 from OMDb...\n",
      "Fetching data for movie ID tt2156785 from OMDb...\n"
     ]
    },
    {
     "name": "stderr",
     "output_type": "stream",
     "text": [
      "Fetching movie data:  36%|██████▌           | 1299/3591 [03:42<05:03,  7.54it/s]"
     ]
    },
    {
     "name": "stdout",
     "output_type": "stream",
     "text": [
      "Fetching data for movie ID tt0257002 from OMDb...\n",
      "Fetching data for movie ID tt2187254 from OMDb...\n"
     ]
    },
    {
     "name": "stderr",
     "output_type": "stream",
     "text": [
      "Fetching movie data:  36%|██████▌           | 1300/3591 [03:42<05:09,  7.41it/s]"
     ]
    },
    {
     "name": "stdout",
     "output_type": "stream",
     "text": [
      "Fetching data for movie ID tt1524138 from OMDb...\n"
     ]
    },
    {
     "name": "stderr",
     "output_type": "stream",
     "text": [
      "Fetching movie data:  36%|██████▌           | 1302/3591 [03:42<06:12,  6.15it/s]"
     ]
    },
    {
     "name": "stdout",
     "output_type": "stream",
     "text": [
      "Progress saved after 23900 movies.\n",
      "Fetching data for movie ID tt2647346 from OMDb...\n",
      "Fetching data for movie ID tt0278102 from OMDb...\n"
     ]
    },
    {
     "name": "stderr",
     "output_type": "stream",
     "text": [
      "Fetching movie data:  36%|██████▌           | 1304/3591 [03:42<05:48,  6.57it/s]"
     ]
    },
    {
     "name": "stdout",
     "output_type": "stream",
     "text": [
      "Fetching data for movie ID tt9564448 from OMDb...\n",
      "Fetching data for movie ID tt0760246 from OMDb...\n"
     ]
    },
    {
     "name": "stderr",
     "output_type": "stream",
     "text": [
      "Fetching movie data:  36%|██████▌           | 1306/3591 [03:43<05:20,  7.13it/s]"
     ]
    },
    {
     "name": "stdout",
     "output_type": "stream",
     "text": [
      "Fetching data for movie ID tt1147543 from OMDb...\n",
      "Fetching data for movie ID tt1976549 from OMDb...\n"
     ]
    },
    {
     "name": "stderr",
     "output_type": "stream",
     "text": [
      "Fetching movie data:  36%|██████▌           | 1308/3591 [03:43<05:50,  6.51it/s]"
     ]
    },
    {
     "name": "stdout",
     "output_type": "stream",
     "text": [
      "Fetching data for movie ID tt2607640 from OMDb...\n",
      "Fetching data for movie ID tt1068642 from OMDb...\n"
     ]
    },
    {
     "name": "stderr",
     "output_type": "stream",
     "text": [
      "Fetching movie data:  36%|██████▌           | 1310/3591 [03:43<05:42,  6.65it/s]"
     ]
    },
    {
     "name": "stdout",
     "output_type": "stream",
     "text": [
      "Fetching data for movie ID tt2714900 from OMDb...\n",
      "Fetching data for movie ID tt0313627 from OMDb...\n"
     ]
    },
    {
     "name": "stderr",
     "output_type": "stream",
     "text": [
      "Fetching movie data:  37%|██████▌           | 1312/3591 [03:44<05:48,  6.53it/s]"
     ]
    },
    {
     "name": "stdout",
     "output_type": "stream",
     "text": [
      "Fetching data for movie ID tt1674783 from OMDb...\n",
      "Fetching data for movie ID tt2882328 from OMDb...\n"
     ]
    },
    {
     "name": "stderr",
     "output_type": "stream",
     "text": [
      "Fetching movie data:  37%|██████▌           | 1314/3591 [03:44<05:42,  6.65it/s]"
     ]
    },
    {
     "name": "stdout",
     "output_type": "stream",
     "text": [
      "Fetching data for movie ID tt0353825 from OMDb...\n",
      "Fetching data for movie ID tt1735478 from OMDb...\n"
     ]
    },
    {
     "name": "stderr",
     "output_type": "stream",
     "text": [
      "Fetching movie data:  37%|██████▌           | 1316/3591 [03:44<06:07,  6.19it/s]"
     ]
    },
    {
     "name": "stdout",
     "output_type": "stream",
     "text": [
      "Fetching data for movie ID tt3180454 from OMDb...\n",
      "Fetching data for movie ID tt1869778 from OMDb...\n"
     ]
    },
    {
     "name": "stderr",
     "output_type": "stream",
     "text": [
      "Fetching movie data:  37%|██████▌           | 1318/3591 [03:44<06:15,  6.06it/s]"
     ]
    },
    {
     "name": "stdout",
     "output_type": "stream",
     "text": [
      "Fetching data for movie ID tt1398914 from OMDb...\n",
      "Fetching data for movie ID tt1347260 from OMDb...\n"
     ]
    },
    {
     "name": "stderr",
     "output_type": "stream",
     "text": [
      "Fetching movie data:  37%|██████▌           | 1320/3591 [03:45<06:02,  6.26it/s]"
     ]
    },
    {
     "name": "stdout",
     "output_type": "stream",
     "text": [
      "Fetching data for movie ID tt1719546 from OMDb...\n",
      "Fetching data for movie ID tt0396666 from OMDb...\n"
     ]
    },
    {
     "name": "stderr",
     "output_type": "stream",
     "text": [
      "Fetching movie data:  37%|██████▋           | 1322/3591 [03:45<05:55,  6.38it/s]"
     ]
    },
    {
     "name": "stdout",
     "output_type": "stream",
     "text": [
      "Fetching data for movie ID tt1640460 from OMDb...\n",
      "Fetching data for movie ID tt0323829 from OMDb...\n"
     ]
    },
    {
     "name": "stderr",
     "output_type": "stream",
     "text": [
      "Fetching movie data:  37%|██████▋           | 1324/3591 [03:45<05:54,  6.40it/s]"
     ]
    },
    {
     "name": "stdout",
     "output_type": "stream",
     "text": [
      "Fetching data for movie ID tt1521655 from OMDb...\n",
      "Fetching data for movie ID tt1807064 from OMDb...\n"
     ]
    },
    {
     "name": "stderr",
     "output_type": "stream",
     "text": [
      "Fetching movie data:  37%|██████▋           | 1326/3591 [03:46<05:53,  6.40it/s]"
     ]
    },
    {
     "name": "stdout",
     "output_type": "stream",
     "text": [
      "Fetching data for movie ID tt0276617 from OMDb...\n",
      "Fetching data for movie ID tt1531004 from OMDb...\n"
     ]
    },
    {
     "name": "stderr",
     "output_type": "stream",
     "text": [
      "Fetching movie data:  37%|██████▋           | 1328/3591 [03:46<06:18,  5.98it/s]"
     ]
    },
    {
     "name": "stdout",
     "output_type": "stream",
     "text": [
      "Fetching data for movie ID tt2124733 from OMDb...\n",
      "Fetching data for movie ID tt1340799 from OMDb...\n"
     ]
    },
    {
     "name": "stderr",
     "output_type": "stream",
     "text": [
      "Fetching movie data:  37%|██████▋           | 1330/3591 [03:46<06:19,  5.96it/s]"
     ]
    },
    {
     "name": "stdout",
     "output_type": "stream",
     "text": [
      "Fetching data for movie ID tt1337679 from OMDb...\n",
      "Fetching data for movie ID tt0465678 from OMDb...\n"
     ]
    },
    {
     "name": "stderr",
     "output_type": "stream",
     "text": [
      "Fetching movie data:  37%|██████▋           | 1332/3591 [03:47<06:02,  6.22it/s]"
     ]
    },
    {
     "name": "stdout",
     "output_type": "stream",
     "text": [
      "Fetching data for movie ID tt1377796 from OMDb...\n",
      "Fetching data for movie ID tt0254832 from OMDb...\n"
     ]
    },
    {
     "name": "stderr",
     "output_type": "stream",
     "text": [
      "Fetching movie data:  37%|██████▋           | 1334/3591 [03:47<06:09,  6.11it/s]"
     ]
    },
    {
     "name": "stdout",
     "output_type": "stream",
     "text": [
      "Fetching data for movie ID tt0308810 from OMDb...\n",
      "Fetching data for movie ID tt2631390 from OMDb...\n"
     ]
    },
    {
     "name": "stderr",
     "output_type": "stream",
     "text": [
      "Fetching movie data:  37%|██████▋           | 1336/3591 [03:47<05:38,  6.66it/s]"
     ]
    },
    {
     "name": "stdout",
     "output_type": "stream",
     "text": [
      "Fetching data for movie ID tt1301310 from OMDb...\n",
      "Fetching data for movie ID tt3602460 from OMDb...\n"
     ]
    },
    {
     "name": "stderr",
     "output_type": "stream",
     "text": [
      "Fetching movie data:  37%|██████▋           | 1338/3591 [03:48<05:20,  7.02it/s]"
     ]
    },
    {
     "name": "stdout",
     "output_type": "stream",
     "text": [
      "Fetching data for movie ID tt0213569 from OMDb...\n",
      "Fetching data for movie ID tt6450112 from OMDb...\n"
     ]
    },
    {
     "name": "stderr",
     "output_type": "stream",
     "text": [
      "Fetching movie data:  37%|██████▋           | 1340/3591 [03:48<05:32,  6.77it/s]"
     ]
    },
    {
     "name": "stdout",
     "output_type": "stream",
     "text": [
      "Fetching data for movie ID tt2237888 from OMDb...\n",
      "Fetching data for movie ID tt1296337 from OMDb...\n"
     ]
    },
    {
     "name": "stderr",
     "output_type": "stream",
     "text": [
      "Fetching movie data:  37%|██████▋           | 1342/3591 [03:48<05:38,  6.64it/s]"
     ]
    },
    {
     "name": "stdout",
     "output_type": "stream",
     "text": [
      "Fetching data for movie ID tt0309491 from OMDb...\n",
      "Fetching data for movie ID tt0402489 from OMDb...\n"
     ]
    },
    {
     "name": "stderr",
     "output_type": "stream",
     "text": [
      "Fetching movie data:  37%|██████▋           | 1344/3591 [03:49<05:40,  6.60it/s]"
     ]
    },
    {
     "name": "stdout",
     "output_type": "stream",
     "text": [
      "Fetching data for movie ID tt1869453 from OMDb...\n",
      "Fetching data for movie ID tt0363652 from OMDb...\n"
     ]
    },
    {
     "name": "stderr",
     "output_type": "stream",
     "text": [
      "Fetching movie data:  37%|██████▋           | 1346/3591 [03:49<05:50,  6.40it/s]"
     ]
    },
    {
     "name": "stdout",
     "output_type": "stream",
     "text": [
      "Fetching data for movie ID tt1594450 from OMDb...\n",
      "Fetching data for movie ID tt2264860 from OMDb...\n"
     ]
    },
    {
     "name": "stderr",
     "output_type": "stream",
     "text": [
      "Fetching movie data:  38%|██████▊           | 1348/3591 [03:49<05:37,  6.64it/s]"
     ]
    },
    {
     "name": "stdout",
     "output_type": "stream",
     "text": [
      "Fetching data for movie ID tt1057535 from OMDb...\n",
      "Fetching data for movie ID tt3229518 from OMDb...\n"
     ]
    },
    {
     "name": "stderr",
     "output_type": "stream",
     "text": [
      "Fetching movie data:  38%|██████▊           | 1350/3591 [03:49<06:00,  6.22it/s]"
     ]
    },
    {
     "name": "stdout",
     "output_type": "stream",
     "text": [
      "Fetching data for movie ID tt0347719 from OMDb...\n",
      "Fetching data for movie ID tt1000059 from OMDb...\n"
     ]
    },
    {
     "name": "stderr",
     "output_type": "stream",
     "text": [
      "Fetching movie data:  38%|██████▊           | 1352/3591 [03:50<06:30,  5.74it/s]"
     ]
    },
    {
     "name": "stdout",
     "output_type": "stream",
     "text": [
      "Fetching data for movie ID tt1748056 from OMDb...\n",
      "Fetching data for movie ID tt3328372 from OMDb...\n"
     ]
    },
    {
     "name": "stderr",
     "output_type": "stream",
     "text": [
      "Fetching movie data:  38%|██████▊           | 1354/3591 [03:50<06:28,  5.75it/s]"
     ]
    },
    {
     "name": "stdout",
     "output_type": "stream",
     "text": [
      "Fetching data for movie ID tt1866255 from OMDb...\n",
      "Fetching data for movie ID tt0461859 from OMDb...\n"
     ]
    },
    {
     "name": "stderr",
     "output_type": "stream",
     "text": [
      "Fetching movie data:  38%|██████▊           | 1356/3591 [03:51<06:36,  5.63it/s]"
     ]
    },
    {
     "name": "stdout",
     "output_type": "stream",
     "text": [
      "Fetching data for movie ID tt0226591 from OMDb...\n",
      "Fetching data for movie ID tt2533534 from OMDb...\n"
     ]
    },
    {
     "name": "stderr",
     "output_type": "stream",
     "text": [
      "Fetching movie data:  38%|██████▊           | 1358/3591 [03:51<06:09,  6.05it/s]"
     ]
    },
    {
     "name": "stdout",
     "output_type": "stream",
     "text": [
      "Fetching data for movie ID tt1954689 from OMDb...\n",
      "Fetching data for movie ID tt0466460 from OMDb...\n"
     ]
    },
    {
     "name": "stderr",
     "output_type": "stream",
     "text": [
      "Fetching movie data:  38%|██████▊           | 1359/3591 [03:51<06:31,  5.70it/s]"
     ]
    },
    {
     "name": "stdout",
     "output_type": "stream",
     "text": [
      "Fetching data for movie ID tt1097243 from OMDb...\n"
     ]
    },
    {
     "name": "stderr",
     "output_type": "stream",
     "text": [
      "Fetching movie data:  38%|██████▊           | 1361/3591 [03:52<07:05,  5.24it/s]"
     ]
    },
    {
     "name": "stdout",
     "output_type": "stream",
     "text": [
      "Fetching data for movie ID tt3059940 from OMDb...\n",
      "Fetching data for movie ID tt1144050 from OMDb...\n"
     ]
    },
    {
     "name": "stderr",
     "output_type": "stream",
     "text": [
      "Fetching movie data:  38%|██████▊           | 1363/3591 [03:52<06:21,  5.84it/s]"
     ]
    },
    {
     "name": "stdout",
     "output_type": "stream",
     "text": [
      "Fetching data for movie ID tt0361670 from OMDb...\n",
      "Fetching data for movie ID tt2185022 from OMDb...\n"
     ]
    },
    {
     "name": "stderr",
     "output_type": "stream",
     "text": [
      "Fetching movie data:  38%|██████▊           | 1365/3591 [03:52<06:40,  5.56it/s]"
     ]
    },
    {
     "name": "stdout",
     "output_type": "stream",
     "text": [
      "Fetching data for movie ID tt1920932 from OMDb...\n",
      "Fetching data for movie ID tt3177124 from OMDb...\n"
     ]
    },
    {
     "name": "stderr",
     "output_type": "stream",
     "text": [
      "Fetching movie data:  38%|██████▊           | 1367/3591 [03:52<05:52,  6.30it/s]"
     ]
    },
    {
     "name": "stdout",
     "output_type": "stream",
     "text": [
      "Fetching data for movie ID tt0428860 from OMDb...\n",
      "Fetching data for movie ID tt1800390 from OMDb...\n"
     ]
    },
    {
     "name": "stderr",
     "output_type": "stream",
     "text": [
      "Fetching movie data:  38%|██████▊           | 1369/3591 [03:53<05:19,  6.96it/s]"
     ]
    },
    {
     "name": "stdout",
     "output_type": "stream",
     "text": [
      "Fetching data for movie ID tt0401285 from OMDb...\n",
      "Fetching data for movie ID tt1442029 from OMDb...\n"
     ]
    },
    {
     "name": "stderr",
     "output_type": "stream",
     "text": [
      "Fetching movie data:  38%|██████▊           | 1371/3591 [03:53<05:06,  7.25it/s]"
     ]
    },
    {
     "name": "stdout",
     "output_type": "stream",
     "text": [
      "Fetching data for movie ID tt2258685 from OMDb...\n",
      "Fetching data for movie ID tt0310154 from OMDb...\n"
     ]
    },
    {
     "name": "stderr",
     "output_type": "stream",
     "text": [
      "Fetching movie data:  38%|██████▉           | 1373/3591 [03:53<05:48,  6.36it/s]"
     ]
    },
    {
     "name": "stdout",
     "output_type": "stream",
     "text": [
      "Fetching data for movie ID tt1318930 from OMDb...\n",
      "Fetching data for movie ID tt5523594 from OMDb...\n"
     ]
    },
    {
     "name": "stderr",
     "output_type": "stream",
     "text": [
      "Fetching movie data:  38%|██████▉           | 1375/3591 [03:54<05:32,  6.67it/s]"
     ]
    },
    {
     "name": "stdout",
     "output_type": "stream",
     "text": [
      "Fetching data for movie ID tt2208136 from OMDb...\n",
      "Fetching data for movie ID tt1869395 from OMDb...\n"
     ]
    },
    {
     "name": "stderr",
     "output_type": "stream",
     "text": [
      "Fetching movie data:  38%|██████▉           | 1377/3591 [03:54<05:05,  7.24it/s]"
     ]
    },
    {
     "name": "stdout",
     "output_type": "stream",
     "text": [
      "Fetching data for movie ID tt1395170 from OMDb...\n",
      "Fetching data for movie ID tt1803147 from OMDb...\n"
     ]
    },
    {
     "name": "stderr",
     "output_type": "stream",
     "text": [
      "Fetching movie data:  38%|██████▉           | 1379/3591 [03:54<04:53,  7.54it/s]"
     ]
    },
    {
     "name": "stdout",
     "output_type": "stream",
     "text": [
      "Fetching data for movie ID tt1671680 from OMDb...\n",
      "Fetching data for movie ID tt2070773 from OMDb...\n"
     ]
    },
    {
     "name": "stderr",
     "output_type": "stream",
     "text": [
      "Fetching movie data:  38%|██████▉           | 1381/3591 [03:54<04:46,  7.71it/s]"
     ]
    },
    {
     "name": "stdout",
     "output_type": "stream",
     "text": [
      "Fetching data for movie ID tt0893521 from OMDb...\n",
      "Fetching data for movie ID tt1499488 from OMDb...\n"
     ]
    },
    {
     "name": "stderr",
     "output_type": "stream",
     "text": [
      "Fetching movie data:  39%|██████▉           | 1383/3591 [03:55<04:43,  7.79it/s]"
     ]
    },
    {
     "name": "stdout",
     "output_type": "stream",
     "text": [
      "Fetching data for movie ID tt3386210 from OMDb...\n",
      "Fetching data for movie ID tt2741956 from OMDb...\n"
     ]
    },
    {
     "name": "stderr",
     "output_type": "stream",
     "text": [
      "Fetching movie data:  39%|██████▉           | 1385/3591 [03:55<05:17,  6.95it/s]"
     ]
    },
    {
     "name": "stdout",
     "output_type": "stream",
     "text": [
      "Fetching data for movie ID tt0283283 from OMDb...\n",
      "Fetching data for movie ID tt1880259 from OMDb...\n"
     ]
    },
    {
     "name": "stderr",
     "output_type": "stream",
     "text": [
      "Fetching movie data:  39%|██████▉           | 1387/3591 [03:55<05:06,  7.20it/s]"
     ]
    },
    {
     "name": "stdout",
     "output_type": "stream",
     "text": [
      "Fetching data for movie ID tt0486622 from OMDb...\n",
      "Fetching data for movie ID tt1439243 from OMDb...\n"
     ]
    },
    {
     "name": "stderr",
     "output_type": "stream",
     "text": [
      "Fetching movie data:  39%|██████▉           | 1389/3591 [03:56<05:55,  6.19it/s]"
     ]
    },
    {
     "name": "stdout",
     "output_type": "stream",
     "text": [
      "Fetching data for movie ID tt2210270 from OMDb...\n",
      "Fetching data for movie ID tt0830882 from OMDb...\n"
     ]
    },
    {
     "name": "stderr",
     "output_type": "stream",
     "text": [
      "Fetching movie data:  39%|██████▉           | 1391/3591 [03:56<06:09,  5.95it/s]"
     ]
    },
    {
     "name": "stdout",
     "output_type": "stream",
     "text": [
      "Fetching data for movie ID tt0397491 from OMDb...\n",
      "Fetching data for movie ID tt0211318 from OMDb...\n"
     ]
    },
    {
     "name": "stderr",
     "output_type": "stream",
     "text": [
      "Fetching movie data:  39%|██████▉           | 1393/3591 [03:56<05:41,  6.44it/s]"
     ]
    },
    {
     "name": "stdout",
     "output_type": "stream",
     "text": [
      "Fetching data for movie ID tt0889187 from OMDb...\n",
      "Fetching data for movie ID tt0397387 from OMDb...\n"
     ]
    },
    {
     "name": "stderr",
     "output_type": "stream",
     "text": [
      "Fetching movie data:  39%|██████▉           | 1395/3591 [03:57<05:23,  6.78it/s]"
     ]
    },
    {
     "name": "stdout",
     "output_type": "stream",
     "text": [
      "Fetching data for movie ID tt3175326 from OMDb...\n",
      "Fetching data for movie ID tt3499982 from OMDb...\n"
     ]
    },
    {
     "name": "stderr",
     "output_type": "stream",
     "text": [
      "Fetching movie data:  39%|███████           | 1397/3591 [03:57<05:31,  6.62it/s]"
     ]
    },
    {
     "name": "stdout",
     "output_type": "stream",
     "text": [
      "Fetching data for movie ID tt1562884 from OMDb...\n",
      "Fetching data for movie ID tt0357283 from OMDb...\n"
     ]
    },
    {
     "name": "stderr",
     "output_type": "stream",
     "text": [
      "Fetching movie data:  39%|███████           | 1399/3591 [03:57<05:42,  6.39it/s]"
     ]
    },
    {
     "name": "stdout",
     "output_type": "stream",
     "text": [
      "Fetching data for movie ID tt0330342 from OMDb...\n",
      "Fetching data for movie ID tt1787749 from OMDb...\n"
     ]
    },
    {
     "name": "stderr",
     "output_type": "stream",
     "text": [
      "Fetching movie data:  39%|███████           | 1400/3591 [03:57<05:20,  6.83it/s]"
     ]
    },
    {
     "name": "stdout",
     "output_type": "stream",
     "text": [
      "Fetching data for movie ID tt0867145 from OMDb...\n"
     ]
    },
    {
     "name": "stderr",
     "output_type": "stream",
     "text": [
      "Fetching movie data:  39%|███████           | 1402/3591 [03:58<06:01,  6.05it/s]"
     ]
    },
    {
     "name": "stdout",
     "output_type": "stream",
     "text": [
      "Progress saved after 24000 movies.\n",
      "Fetching data for movie ID tt1788422 from OMDb...\n",
      "Fetching data for movie ID tt2521776 from OMDb...\n"
     ]
    },
    {
     "name": "stderr",
     "output_type": "stream",
     "text": [
      "Fetching movie data:  39%|███████           | 1404/3591 [03:58<06:00,  6.07it/s]"
     ]
    },
    {
     "name": "stdout",
     "output_type": "stream",
     "text": [
      "Fetching data for movie ID tt0819634 from OMDb...\n",
      "Fetching data for movie ID tt1515091 from OMDb...\n"
     ]
    },
    {
     "name": "stderr",
     "output_type": "stream",
     "text": [
      "Fetching movie data:  39%|███████           | 1406/3591 [03:58<06:10,  5.90it/s]"
     ]
    },
    {
     "name": "stdout",
     "output_type": "stream",
     "text": [
      "Fetching data for movie ID tt0408133 from OMDb...\n",
      "Fetching data for movie ID tt1489229 from OMDb...\n"
     ]
    },
    {
     "name": "stderr",
     "output_type": "stream",
     "text": [
      "Fetching movie data:  39%|███████           | 1408/3591 [03:59<05:34,  6.52it/s]"
     ]
    },
    {
     "name": "stdout",
     "output_type": "stream",
     "text": [
      "Fetching data for movie ID tt2273237 from OMDb...\n",
      "Fetching data for movie ID tt9013770 from OMDb...\n"
     ]
    },
    {
     "name": "stderr",
     "output_type": "stream",
     "text": [
      "Fetching movie data:  39%|███████           | 1410/3591 [03:59<05:16,  6.89it/s]"
     ]
    },
    {
     "name": "stdout",
     "output_type": "stream",
     "text": [
      "Fetching data for movie ID tt0804224 from OMDb...\n",
      "Fetching data for movie ID tt1822163 from OMDb...\n"
     ]
    },
    {
     "name": "stderr",
     "output_type": "stream",
     "text": [
      "Fetching movie data:  39%|███████           | 1412/3591 [03:59<05:49,  6.24it/s]"
     ]
    },
    {
     "name": "stdout",
     "output_type": "stream",
     "text": [
      "Fetching data for movie ID tt1538012 from OMDb...\n",
      "Fetching data for movie ID tt0367810 from OMDb...\n"
     ]
    },
    {
     "name": "stderr",
     "output_type": "stream",
     "text": [
      "Fetching movie data:  39%|███████           | 1414/3591 [04:00<05:42,  6.35it/s]"
     ]
    },
    {
     "name": "stdout",
     "output_type": "stream",
     "text": [
      "Fetching data for movie ID tt1058748 from OMDb...\n",
      "Fetching data for movie ID tt1773000 from OMDb...\n"
     ]
    },
    {
     "name": "stderr",
     "output_type": "stream",
     "text": [
      "Fetching movie data:  39%|███████           | 1416/3591 [04:00<05:15,  6.90it/s]"
     ]
    },
    {
     "name": "stdout",
     "output_type": "stream",
     "text": [
      "Fetching data for movie ID tt1201649 from OMDb...\n",
      "Fetching data for movie ID tt1338594 from OMDb...\n"
     ]
    },
    {
     "name": "stderr",
     "output_type": "stream",
     "text": [
      "Fetching movie data:  39%|███████           | 1417/3591 [04:00<06:09,  5.89it/s]"
     ]
    },
    {
     "name": "stdout",
     "output_type": "stream",
     "text": [
      "Fetching data for movie ID tt1507265 from OMDb...\n"
     ]
    },
    {
     "name": "stderr",
     "output_type": "stream",
     "text": [
      "Fetching movie data:  40%|███████           | 1419/3591 [04:00<06:48,  5.32it/s]"
     ]
    },
    {
     "name": "stdout",
     "output_type": "stream",
     "text": [
      "Fetching data for movie ID tt0289320 from OMDb...\n",
      "Fetching data for movie ID tt0233828 from OMDb...\n"
     ]
    },
    {
     "name": "stderr",
     "output_type": "stream",
     "text": [
      "Fetching movie data:  40%|███████           | 1421/3591 [04:01<06:09,  5.88it/s]"
     ]
    },
    {
     "name": "stdout",
     "output_type": "stream",
     "text": [
      "Fetching data for movie ID tt6581490 from OMDb...\n",
      "Fetching data for movie ID tt0360387 from OMDb...\n"
     ]
    },
    {
     "name": "stderr",
     "output_type": "stream",
     "text": [
      "Fetching movie data:  40%|███████▏          | 1423/3591 [04:01<06:42,  5.39it/s]"
     ]
    },
    {
     "name": "stdout",
     "output_type": "stream",
     "text": [
      "Fetching data for movie ID tt1028528 from OMDb...\n",
      "Fetching data for movie ID tt2235809 from OMDb...\n"
     ]
    },
    {
     "name": "stderr",
     "output_type": "stream",
     "text": [
      "Fetching movie data:  40%|███████▏          | 1425/3591 [04:01<05:52,  6.14it/s]"
     ]
    },
    {
     "name": "stdout",
     "output_type": "stream",
     "text": [
      "Fetching data for movie ID tt1078292 from OMDb...\n",
      "Fetching data for movie ID tt2176972 from OMDb...\n"
     ]
    },
    {
     "name": "stderr",
     "output_type": "stream",
     "text": [
      "Fetching movie data:  40%|███████▏          | 1427/3591 [04:02<06:01,  5.99it/s]"
     ]
    },
    {
     "name": "stdout",
     "output_type": "stream",
     "text": [
      "Fetching data for movie ID tt2078749 from OMDb...\n",
      "Fetching data for movie ID tt0483206 from OMDb...\n"
     ]
    },
    {
     "name": "stderr",
     "output_type": "stream",
     "text": [
      "Fetching movie data:  40%|███████▏          | 1429/3591 [04:02<05:36,  6.42it/s]"
     ]
    },
    {
     "name": "stdout",
     "output_type": "stream",
     "text": [
      "Fetching data for movie ID tt2087700 from OMDb...\n",
      "Fetching data for movie ID tt1363471 from OMDb...\n"
     ]
    },
    {
     "name": "stderr",
     "output_type": "stream",
     "text": [
      "Fetching movie data:  40%|███████▏          | 1431/3591 [04:02<05:23,  6.68it/s]"
     ]
    },
    {
     "name": "stdout",
     "output_type": "stream",
     "text": [
      "Fetching data for movie ID tt1674740 from OMDb...\n",
      "Fetching data for movie ID tt6959218 from OMDb...\n"
     ]
    },
    {
     "name": "stderr",
     "output_type": "stream",
     "text": [
      "Fetching movie data:  40%|███████▏          | 1433/3591 [04:03<05:33,  6.47it/s]"
     ]
    },
    {
     "name": "stdout",
     "output_type": "stream",
     "text": [
      "Fetching data for movie ID tt0209144 from OMDb...\n",
      "Fetching data for movie ID tt0325375 from OMDb...\n"
     ]
    },
    {
     "name": "stderr",
     "output_type": "stream",
     "text": [
      "Fetching movie data:  40%|███████▏          | 1435/3591 [04:03<05:34,  6.45it/s]"
     ]
    },
    {
     "name": "stdout",
     "output_type": "stream",
     "text": [
      "Fetching data for movie ID tt1625155 from OMDb...\n",
      "Fetching data for movie ID tt0429664 from OMDb...\n"
     ]
    },
    {
     "name": "stderr",
     "output_type": "stream",
     "text": [
      "Fetching movie data:  40%|███████▏          | 1437/3591 [04:03<05:00,  7.16it/s]"
     ]
    },
    {
     "name": "stdout",
     "output_type": "stream",
     "text": [
      "Fetching data for movie ID tt1556029 from OMDb...\n",
      "Fetching data for movie ID tt2653964 from OMDb...\n"
     ]
    },
    {
     "name": "stderr",
     "output_type": "stream",
     "text": [
      "Fetching movie data:  40%|███████▏          | 1439/3591 [04:04<05:04,  7.07it/s]"
     ]
    },
    {
     "name": "stdout",
     "output_type": "stream",
     "text": [
      "Fetching data for movie ID tt0314331 from OMDb...\n",
      "Fetching data for movie ID tt0372796 from OMDb...\n"
     ]
    },
    {
     "name": "stderr",
     "output_type": "stream",
     "text": [
      "Fetching movie data:  40%|███████▏          | 1441/3591 [04:04<05:03,  7.08it/s]"
     ]
    },
    {
     "name": "stdout",
     "output_type": "stream",
     "text": [
      "Fetching data for movie ID tt2332208 from OMDb...\n",
      "Fetching data for movie ID tt14618000 from OMDb...\n"
     ]
    },
    {
     "name": "stderr",
     "output_type": "stream",
     "text": [
      "Fetching movie data:  40%|███████▏          | 1443/3591 [04:04<04:54,  7.28it/s]"
     ]
    },
    {
     "name": "stdout",
     "output_type": "stream",
     "text": [
      "Fetching data for movie ID tt1989542 from OMDb...\n",
      "Fetching data for movie ID tt0368914 from OMDb...\n"
     ]
    },
    {
     "name": "stderr",
     "output_type": "stream",
     "text": [
      "Fetching movie data:  40%|███████▏          | 1445/3591 [04:04<05:12,  6.86it/s]"
     ]
    },
    {
     "name": "stdout",
     "output_type": "stream",
     "text": [
      "Fetching data for movie ID tt2590020 from OMDb...\n",
      "Fetching data for movie ID tt2085956 from OMDb...\n"
     ]
    },
    {
     "name": "stderr",
     "output_type": "stream",
     "text": [
      "Fetching movie data:  40%|███████▎          | 1447/3591 [04:05<05:20,  6.69it/s]"
     ]
    },
    {
     "name": "stdout",
     "output_type": "stream",
     "text": [
      "Fetching data for movie ID tt1526616 from OMDb...\n",
      "Fetching data for movie ID tt0297307 from OMDb...\n"
     ]
    },
    {
     "name": "stderr",
     "output_type": "stream",
     "text": [
      "Fetching movie data:  40%|███████▎          | 1449/3591 [04:05<05:10,  6.90it/s]"
     ]
    },
    {
     "name": "stdout",
     "output_type": "stream",
     "text": [
      "Fetching data for movie ID tt1854312 from OMDb...\n",
      "Fetching data for movie ID tt1753550 from OMDb...\n"
     ]
    },
    {
     "name": "stderr",
     "output_type": "stream",
     "text": [
      "Fetching movie data:  40%|███████▎          | 1451/3591 [04:05<05:41,  6.26it/s]"
     ]
    },
    {
     "name": "stdout",
     "output_type": "stream",
     "text": [
      "Fetching data for movie ID tt1262963 from OMDb...\n",
      "Fetching data for movie ID tt1440158 from OMDb...\n"
     ]
    },
    {
     "name": "stderr",
     "output_type": "stream",
     "text": [
      "Fetching movie data:  40%|███████▎          | 1453/3591 [04:06<05:22,  6.63it/s]"
     ]
    },
    {
     "name": "stdout",
     "output_type": "stream",
     "text": [
      "Fetching data for movie ID tt1672214 from OMDb...\n",
      "Fetching data for movie ID tt2277156 from OMDb...\n"
     ]
    },
    {
     "name": "stderr",
     "output_type": "stream",
     "text": [
      "Fetching movie data:  40%|███████▎          | 1454/3591 [04:06<05:35,  6.36it/s]"
     ]
    },
    {
     "name": "stdout",
     "output_type": "stream",
     "text": [
      "Fetching data for movie ID tt1168633 from OMDb...\n"
     ]
    },
    {
     "name": "stderr",
     "output_type": "stream",
     "text": [
      "Fetching movie data:  41%|███████▎          | 1456/3591 [04:06<05:46,  6.16it/s]"
     ]
    },
    {
     "name": "stdout",
     "output_type": "stream",
     "text": [
      "Fetching data for movie ID tt0450188 from OMDb...\n",
      "Fetching data for movie ID tt2400068 from OMDb...\n"
     ]
    },
    {
     "name": "stderr",
     "output_type": "stream",
     "text": [
      "Fetching movie data:  41%|███████▎          | 1458/3591 [04:06<05:05,  6.98it/s]"
     ]
    },
    {
     "name": "stdout",
     "output_type": "stream",
     "text": [
      "Fetching data for movie ID tt1050272 from OMDb...\n",
      "Fetching data for movie ID tt1439509 from OMDb...\n"
     ]
    },
    {
     "name": "stderr",
     "output_type": "stream",
     "text": [
      "Fetching movie data:  41%|███████▎          | 1460/3591 [04:07<05:30,  6.45it/s]"
     ]
    },
    {
     "name": "stdout",
     "output_type": "stream",
     "text": [
      "Fetching data for movie ID tt0404238 from OMDb...\n",
      "Fetching data for movie ID tt1230385 from OMDb...\n"
     ]
    },
    {
     "name": "stderr",
     "output_type": "stream",
     "text": [
      "Fetching movie data:  41%|███████▎          | 1462/3591 [04:07<05:38,  6.29it/s]"
     ]
    },
    {
     "name": "stdout",
     "output_type": "stream",
     "text": [
      "Fetching data for movie ID tt0259744 from OMDb...\n",
      "Fetching data for movie ID tt0321438 from OMDb...\n"
     ]
    },
    {
     "name": "stderr",
     "output_type": "stream",
     "text": [
      "Fetching movie data:  41%|███████▎          | 1464/3591 [04:07<05:03,  7.01it/s]"
     ]
    },
    {
     "name": "stdout",
     "output_type": "stream",
     "text": [
      "Fetching data for movie ID tt0361920 from OMDb...\n",
      "Fetching data for movie ID tt0950738 from OMDb...\n"
     ]
    },
    {
     "name": "stderr",
     "output_type": "stream",
     "text": [
      "Fetching movie data:  41%|███████▎          | 1466/3591 [04:08<05:05,  6.96it/s]"
     ]
    },
    {
     "name": "stdout",
     "output_type": "stream",
     "text": [
      "Fetching data for movie ID tt2432258 from OMDb...\n",
      "Fetching data for movie ID tt4082954 from OMDb...\n"
     ]
    },
    {
     "name": "stderr",
     "output_type": "stream",
     "text": [
      "Fetching movie data:  41%|███████▎          | 1468/3591 [04:08<05:20,  6.62it/s]"
     ]
    },
    {
     "name": "stdout",
     "output_type": "stream",
     "text": [
      "Fetching data for movie ID tt2609372 from OMDb...\n",
      "Fetching data for movie ID tt2113091 from OMDb...\n"
     ]
    },
    {
     "name": "stderr",
     "output_type": "stream",
     "text": [
      "Fetching movie data:  41%|███████▎          | 1470/3591 [04:08<05:16,  6.71it/s]"
     ]
    },
    {
     "name": "stdout",
     "output_type": "stream",
     "text": [
      "Fetching data for movie ID tt1612140 from OMDb...\n",
      "Fetching data for movie ID tt1230449 from OMDb...\n"
     ]
    },
    {
     "name": "stderr",
     "output_type": "stream",
     "text": [
      "Fetching movie data:  41%|███████▍          | 1472/3591 [04:09<05:43,  6.17it/s]"
     ]
    },
    {
     "name": "stdout",
     "output_type": "stream",
     "text": [
      "Fetching data for movie ID tt1094194 from OMDb...\n",
      "Fetching data for movie ID tt1578859 from OMDb...\n"
     ]
    },
    {
     "name": "stderr",
     "output_type": "stream",
     "text": [
      "Fetching movie data:  41%|███████▍          | 1474/3591 [04:09<05:49,  6.06it/s]"
     ]
    },
    {
     "name": "stdout",
     "output_type": "stream",
     "text": [
      "Fetching data for movie ID tt0331192 from OMDb...\n",
      "Fetching data for movie ID tt0887163 from OMDb...\n"
     ]
    },
    {
     "name": "stderr",
     "output_type": "stream",
     "text": [
      "Fetching movie data:  41%|███████▍          | 1476/3591 [04:09<05:38,  6.25it/s]"
     ]
    },
    {
     "name": "stdout",
     "output_type": "stream",
     "text": [
      "Fetching data for movie ID tt2603282 from OMDb...\n",
      "Fetching data for movie ID tt2215351 from OMDb...\n"
     ]
    },
    {
     "name": "stderr",
     "output_type": "stream",
     "text": [
      "Fetching movie data:  41%|███████▍          | 1478/3591 [04:10<05:44,  6.13it/s]"
     ]
    },
    {
     "name": "stdout",
     "output_type": "stream",
     "text": [
      "Fetching data for movie ID tt9805754 from OMDb...\n",
      "Fetching data for movie ID tt4415478 from OMDb...\n"
     ]
    },
    {
     "name": "stderr",
     "output_type": "stream",
     "text": [
      "Fetching movie data:  41%|███████▍          | 1480/3591 [04:10<05:34,  6.31it/s]"
     ]
    },
    {
     "name": "stdout",
     "output_type": "stream",
     "text": [
      "Fetching data for movie ID tt3256814 from OMDb...\n",
      "Fetching data for movie ID tt1351187 from OMDb...\n"
     ]
    },
    {
     "name": "stderr",
     "output_type": "stream",
     "text": [
      "Fetching movie data:  41%|███████▍          | 1482/3591 [04:10<06:03,  5.80it/s]"
     ]
    },
    {
     "name": "stdout",
     "output_type": "stream",
     "text": [
      "Fetching data for movie ID tt0952653 from OMDb...\n",
      "Fetching data for movie ID tt2283748 from OMDb...\n"
     ]
    },
    {
     "name": "stderr",
     "output_type": "stream",
     "text": [
      "Fetching movie data:  41%|███████▍          | 1484/3591 [04:11<06:18,  5.57it/s]"
     ]
    },
    {
     "name": "stdout",
     "output_type": "stream",
     "text": [
      "Fetching data for movie ID tt10503496 from OMDb...\n",
      "Fetching data for movie ID tt0926352 from OMDb...\n"
     ]
    },
    {
     "name": "stderr",
     "output_type": "stream",
     "text": [
      "Fetching movie data:  41%|███████▍          | 1486/3591 [04:11<05:34,  6.30it/s]"
     ]
    },
    {
     "name": "stdout",
     "output_type": "stream",
     "text": [
      "Fetching data for movie ID tt0972402 from OMDb...\n",
      "Fetching data for movie ID tt2343601 from OMDb...\n"
     ]
    },
    {
     "name": "stderr",
     "output_type": "stream",
     "text": [
      "Fetching movie data:  41%|███████▍          | 1488/3591 [04:11<05:20,  6.56it/s]"
     ]
    },
    {
     "name": "stdout",
     "output_type": "stream",
     "text": [
      "Fetching data for movie ID tt1179782 from OMDb...\n",
      "Fetching data for movie ID tt1233381 from OMDb...\n"
     ]
    },
    {
     "name": "stderr",
     "output_type": "stream",
     "text": [
      "Fetching movie data:  41%|███████▍          | 1490/3591 [04:11<04:52,  7.18it/s]"
     ]
    },
    {
     "name": "stdout",
     "output_type": "stream",
     "text": [
      "Fetching data for movie ID tt0280661 from OMDb...\n",
      "Fetching data for movie ID tt1773462 from OMDb...\n"
     ]
    },
    {
     "name": "stderr",
     "output_type": "stream",
     "text": [
      "Fetching movie data:  42%|███████▍          | 1492/3591 [04:12<04:43,  7.41it/s]"
     ]
    },
    {
     "name": "stdout",
     "output_type": "stream",
     "text": [
      "Fetching data for movie ID tt1679270 from OMDb...\n",
      "Fetching data for movie ID tt2034030 from OMDb...\n"
     ]
    },
    {
     "name": "stderr",
     "output_type": "stream",
     "text": [
      "Fetching movie data:  42%|███████▍          | 1494/3591 [04:12<05:04,  6.88it/s]"
     ]
    },
    {
     "name": "stdout",
     "output_type": "stream",
     "text": [
      "Fetching data for movie ID tt1758820 from OMDb...\n",
      "Fetching data for movie ID tt0348138 from OMDb...\n"
     ]
    },
    {
     "name": "stderr",
     "output_type": "stream",
     "text": [
      "Fetching movie data:  42%|███████▍          | 1496/3591 [04:12<05:03,  6.90it/s]"
     ]
    },
    {
     "name": "stdout",
     "output_type": "stream",
     "text": [
      "Fetching data for movie ID tt1756476 from OMDb...\n",
      "Fetching data for movie ID tt2154784 from OMDb...\n"
     ]
    },
    {
     "name": "stderr",
     "output_type": "stream",
     "text": [
      "Fetching movie data:  42%|███████▌          | 1498/3591 [04:13<04:43,  7.39it/s]"
     ]
    },
    {
     "name": "stdout",
     "output_type": "stream",
     "text": [
      "Fetching data for movie ID tt1157607 from OMDb...\n",
      "Fetching data for movie ID tt2296869 from OMDb...\n"
     ]
    },
    {
     "name": "stderr",
     "output_type": "stream",
     "text": [
      "Fetching movie data:  42%|███████▌          | 1500/3591 [04:13<04:38,  7.52it/s]"
     ]
    },
    {
     "name": "stdout",
     "output_type": "stream",
     "text": [
      "Fetching data for movie ID tt0992917 from OMDb...\n",
      "Fetching data for movie ID tt1010005 from OMDb...\n"
     ]
    },
    {
     "name": "stderr",
     "output_type": "stream",
     "text": [
      "Fetching movie data:  42%|███████▌          | 1502/3591 [04:13<05:23,  6.45it/s]"
     ]
    },
    {
     "name": "stdout",
     "output_type": "stream",
     "text": [
      "Progress saved after 24100 movies.\n",
      "Fetching data for movie ID tt1692928 from OMDb...\n",
      "Fetching data for movie ID tt1852886 from OMDb...\n"
     ]
    },
    {
     "name": "stderr",
     "output_type": "stream",
     "text": [
      "Fetching movie data:  42%|███████▌          | 1504/3591 [04:13<04:53,  7.12it/s]"
     ]
    },
    {
     "name": "stdout",
     "output_type": "stream",
     "text": [
      "Fetching data for movie ID tt2146130 from OMDb...\n",
      "Fetching data for movie ID tt1226306 from OMDb...\n"
     ]
    },
    {
     "name": "stderr",
     "output_type": "stream",
     "text": [
      "Fetching movie data:  42%|███████▌          | 1506/3591 [04:14<05:17,  6.56it/s]"
     ]
    },
    {
     "name": "stdout",
     "output_type": "stream",
     "text": [
      "Fetching data for movie ID tt2022460 from OMDb...\n",
      "Fetching data for movie ID tt0471454 from OMDb...\n"
     ]
    },
    {
     "name": "stderr",
     "output_type": "stream",
     "text": [
      "Fetching movie data:  42%|███████▌          | 1508/3591 [04:14<04:49,  7.19it/s]"
     ]
    },
    {
     "name": "stdout",
     "output_type": "stream",
     "text": [
      "Fetching data for movie ID tt1092266 from OMDb...\n",
      "Fetching data for movie ID tt2678350 from OMDb...\n"
     ]
    },
    {
     "name": "stderr",
     "output_type": "stream",
     "text": [
      "Fetching movie data:  42%|███████▌          | 1510/3591 [04:14<04:37,  7.49it/s]"
     ]
    },
    {
     "name": "stdout",
     "output_type": "stream",
     "text": [
      "Fetching data for movie ID tt0874879 from OMDb...\n",
      "Fetching data for movie ID tt1368068 from OMDb...\n"
     ]
    },
    {
     "name": "stderr",
     "output_type": "stream",
     "text": [
      "Fetching movie data:  42%|███████▌          | 1512/3591 [04:15<05:04,  6.82it/s]"
     ]
    },
    {
     "name": "stdout",
     "output_type": "stream",
     "text": [
      "Fetching data for movie ID tt2385546 from OMDb...\n",
      "Fetching data for movie ID tt0423363 from OMDb...\n"
     ]
    },
    {
     "name": "stderr",
     "output_type": "stream",
     "text": [
      "Fetching movie data:  42%|███████▌          | 1514/3591 [04:15<05:15,  6.59it/s]"
     ]
    },
    {
     "name": "stdout",
     "output_type": "stream",
     "text": [
      "Fetching data for movie ID tt1653848 from OMDb...\n",
      "Fetching data for movie ID tt2765596 from OMDb...\n"
     ]
    },
    {
     "name": "stderr",
     "output_type": "stream",
     "text": [
      "Fetching movie data:  42%|███████▌          | 1516/3591 [04:15<05:28,  6.31it/s]"
     ]
    },
    {
     "name": "stdout",
     "output_type": "stream",
     "text": [
      "Fetching data for movie ID tt0326408 from OMDb...\n",
      "Fetching data for movie ID tt3224254 from OMDb...\n"
     ]
    },
    {
     "name": "stderr",
     "output_type": "stream",
     "text": [
      "Fetching movie data:  42%|███████▌          | 1518/3591 [04:16<06:04,  5.69it/s]"
     ]
    },
    {
     "name": "stdout",
     "output_type": "stream",
     "text": [
      "Fetching data for movie ID tt0448106 from OMDb...\n",
      "Fetching data for movie ID tt0844761 from OMDb...\n"
     ]
    },
    {
     "name": "stderr",
     "output_type": "stream",
     "text": [
      "Fetching movie data:  42%|███████▌          | 1520/3591 [04:16<05:48,  5.95it/s]"
     ]
    },
    {
     "name": "stdout",
     "output_type": "stream",
     "text": [
      "Fetching data for movie ID tt1033631 from OMDb...\n",
      "Fetching data for movie ID tt1611223 from OMDb...\n"
     ]
    },
    {
     "name": "stderr",
     "output_type": "stream",
     "text": [
      "Fetching movie data:  42%|███████▋          | 1522/3591 [04:16<06:33,  5.26it/s]"
     ]
    },
    {
     "name": "stdout",
     "output_type": "stream",
     "text": [
      "Fetching data for movie ID tt3151716 from OMDb...\n",
      "Fetching data for movie ID tt0426596 from OMDb...\n"
     ]
    },
    {
     "name": "stderr",
     "output_type": "stream",
     "text": [
      "Fetching movie data:  42%|███████▋          | 1524/3591 [04:17<06:05,  5.66it/s]"
     ]
    },
    {
     "name": "stdout",
     "output_type": "stream",
     "text": [
      "Fetching data for movie ID tt1545510 from OMDb...\n",
      "Fetching data for movie ID tt1212439 from OMDb...\n"
     ]
    },
    {
     "name": "stderr",
     "output_type": "stream",
     "text": [
      "Fetching movie data:  42%|███████▋          | 1526/3591 [04:17<05:56,  5.80it/s]"
     ]
    },
    {
     "name": "stdout",
     "output_type": "stream",
     "text": [
      "Fetching data for movie ID tt2099698 from OMDb...\n",
      "Fetching data for movie ID tt1099932 from OMDb...\n"
     ]
    },
    {
     "name": "stderr",
     "output_type": "stream",
     "text": [
      "Fetching movie data:  43%|███████▋          | 1528/3591 [04:17<05:41,  6.04it/s]"
     ]
    },
    {
     "name": "stdout",
     "output_type": "stream",
     "text": [
      "Fetching data for movie ID tt0278736 from OMDb...\n",
      "Fetching data for movie ID tt0409958 from OMDb...\n"
     ]
    },
    {
     "name": "stderr",
     "output_type": "stream",
     "text": [
      "Fetching movie data:  43%|███████▋          | 1530/3591 [04:18<05:59,  5.73it/s]"
     ]
    },
    {
     "name": "stdout",
     "output_type": "stream",
     "text": [
      "Fetching data for movie ID tt1456876 from OMDb...\n",
      "Fetching data for movie ID tt1488026 from OMDb...\n"
     ]
    },
    {
     "name": "stderr",
     "output_type": "stream",
     "text": [
      "Fetching movie data:  43%|███████▋          | 1532/3591 [04:18<05:21,  6.40it/s]"
     ]
    },
    {
     "name": "stdout",
     "output_type": "stream",
     "text": [
      "Fetching data for movie ID tt0409404 from OMDb...\n",
      "Fetching data for movie ID tt2346870 from OMDb...\n"
     ]
    },
    {
     "name": "stderr",
     "output_type": "stream",
     "text": [
      "Fetching movie data:  43%|███████▋          | 1534/3591 [04:18<05:00,  6.84it/s]"
     ]
    },
    {
     "name": "stdout",
     "output_type": "stream",
     "text": [
      "Fetching data for movie ID tt0317910 from OMDb...\n",
      "Fetching data for movie ID tt1992257 from OMDb...\n"
     ]
    },
    {
     "name": "stderr",
     "output_type": "stream",
     "text": [
      "Fetching movie data:  43%|███████▋          | 1536/3591 [04:19<05:23,  6.36it/s]"
     ]
    },
    {
     "name": "stdout",
     "output_type": "stream",
     "text": [
      "Fetching data for movie ID tt1657429 from OMDb...\n",
      "Fetching data for movie ID tt2507888 from OMDb...\n"
     ]
    },
    {
     "name": "stderr",
     "output_type": "stream",
     "text": [
      "Fetching movie data:  43%|███████▋          | 1537/3591 [04:19<05:06,  6.71it/s]"
     ]
    },
    {
     "name": "stdout",
     "output_type": "stream",
     "text": [
      "Fetching data for movie ID tt2622602 from OMDb...\n"
     ]
    },
    {
     "name": "stderr",
     "output_type": "stream",
     "text": [
      "Fetching movie data:  43%|███████▋          | 1539/3591 [04:19<05:41,  6.01it/s]"
     ]
    },
    {
     "name": "stdout",
     "output_type": "stream",
     "text": [
      "Fetching data for movie ID tt2830416 from OMDb...\n",
      "Fetching data for movie ID tt2210576 from OMDb...\n"
     ]
    },
    {
     "name": "stderr",
     "output_type": "stream",
     "text": [
      "Fetching movie data:  43%|███████▋          | 1541/3591 [04:19<05:14,  6.51it/s]"
     ]
    },
    {
     "name": "stdout",
     "output_type": "stream",
     "text": [
      "Fetching data for movie ID tt2318625 from OMDb...\n",
      "Fetching data for movie ID tt1588170 from OMDb...\n"
     ]
    },
    {
     "name": "stderr",
     "output_type": "stream",
     "text": [
      "Fetching movie data:  43%|███████▋          | 1543/3591 [04:20<05:34,  6.13it/s]"
     ]
    },
    {
     "name": "stdout",
     "output_type": "stream",
     "text": [
      "Fetching data for movie ID tt0309912 from OMDb...\n",
      "Fetching data for movie ID tt2732932 from OMDb...\n"
     ]
    },
    {
     "name": "stderr",
     "output_type": "stream",
     "text": [
      "Fetching movie data:  43%|███████▋          | 1545/3591 [04:20<05:00,  6.80it/s]"
     ]
    },
    {
     "name": "stdout",
     "output_type": "stream",
     "text": [
      "Fetching data for movie ID tt4576040 from OMDb...\n",
      "Fetching data for movie ID tt2420082 from OMDb...\n"
     ]
    },
    {
     "name": "stderr",
     "output_type": "stream",
     "text": [
      "Fetching movie data:  43%|███████▊          | 1547/3591 [04:20<04:57,  6.88it/s]"
     ]
    },
    {
     "name": "stdout",
     "output_type": "stream",
     "text": [
      "Fetching data for movie ID tt1007969 from OMDb...\n",
      "Fetching data for movie ID tt1718802 from OMDb...\n"
     ]
    },
    {
     "name": "stderr",
     "output_type": "stream",
     "text": [
      "Fetching movie data:  43%|███████▊          | 1549/3591 [04:21<05:16,  6.46it/s]"
     ]
    },
    {
     "name": "stdout",
     "output_type": "stream",
     "text": [
      "Fetching data for movie ID tt0782694 from OMDb...\n",
      "Fetching data for movie ID tt0783475 from OMDb...\n"
     ]
    },
    {
     "name": "stderr",
     "output_type": "stream",
     "text": [
      "Fetching movie data:  43%|███████▊          | 1551/3591 [04:21<05:13,  6.50it/s]"
     ]
    },
    {
     "name": "stdout",
     "output_type": "stream",
     "text": [
      "Fetching data for movie ID tt0381968 from OMDb...\n",
      "Fetching data for movie ID tt2346378 from OMDb...\n"
     ]
    },
    {
     "name": "stderr",
     "output_type": "stream",
     "text": [
      "Fetching movie data:  43%|███████▊          | 1553/3591 [04:21<04:56,  6.86it/s]"
     ]
    },
    {
     "name": "stdout",
     "output_type": "stream",
     "text": [
      "Fetching data for movie ID tt2406252 from OMDb...\n",
      "Fetching data for movie ID tt0405043 from OMDb...\n"
     ]
    },
    {
     "name": "stderr",
     "output_type": "stream",
     "text": [
      "Fetching movie data:  43%|███████▊          | 1555/3591 [04:22<05:23,  6.29it/s]"
     ]
    },
    {
     "name": "stdout",
     "output_type": "stream",
     "text": [
      "Fetching data for movie ID tt1528282 from OMDb...\n",
      "Fetching data for movie ID tt1563689 from OMDb...\n"
     ]
    },
    {
     "name": "stderr",
     "output_type": "stream",
     "text": [
      "Fetching movie data:  43%|███████▊          | 1557/3591 [04:22<05:13,  6.48it/s]"
     ]
    },
    {
     "name": "stdout",
     "output_type": "stream",
     "text": [
      "Fetching data for movie ID tt0427954 from OMDb...\n",
      "Fetching data for movie ID tt2338642 from OMDb...\n"
     ]
    },
    {
     "name": "stderr",
     "output_type": "stream",
     "text": [
      "Fetching movie data:  43%|███████▊          | 1559/3591 [04:22<05:25,  6.24it/s]"
     ]
    },
    {
     "name": "stdout",
     "output_type": "stream",
     "text": [
      "Fetching data for movie ID tt1019966 from OMDb...\n",
      "Fetching data for movie ID tt1773283 from OMDb...\n"
     ]
    },
    {
     "name": "stderr",
     "output_type": "stream",
     "text": [
      "Fetching movie data:  43%|███████▊          | 1561/3591 [04:22<05:21,  6.32it/s]"
     ]
    },
    {
     "name": "stdout",
     "output_type": "stream",
     "text": [
      "Fetching data for movie ID tt14449202 from OMDb...\n",
      "Fetching data for movie ID tt2258659 from OMDb...\n"
     ]
    },
    {
     "name": "stderr",
     "output_type": "stream",
     "text": [
      "Fetching movie data:  44%|███████▊          | 1563/3591 [04:23<06:16,  5.39it/s]"
     ]
    },
    {
     "name": "stdout",
     "output_type": "stream",
     "text": [
      "Fetching data for movie ID tt0401719 from OMDb...\n",
      "Fetching data for movie ID tt2385138 from OMDb...\n"
     ]
    },
    {
     "name": "stderr",
     "output_type": "stream",
     "text": [
      "Fetching movie data:  44%|███████▊          | 1565/3591 [04:23<05:12,  6.49it/s]"
     ]
    },
    {
     "name": "stdout",
     "output_type": "stream",
     "text": [
      "Fetching data for movie ID tt1830630 from OMDb...\n",
      "Fetching data for movie ID tt3297272 from OMDb...\n"
     ]
    },
    {
     "name": "stderr",
     "output_type": "stream",
     "text": [
      "Fetching movie data:  44%|███████▊          | 1567/3591 [04:23<04:53,  6.89it/s]"
     ]
    },
    {
     "name": "stdout",
     "output_type": "stream",
     "text": [
      "Fetching data for movie ID tt3139374 from OMDb...\n",
      "Fetching data for movie ID tt0985687 from OMDb...\n"
     ]
    },
    {
     "name": "stderr",
     "output_type": "stream",
     "text": [
      "Fetching movie data:  44%|███████▊          | 1569/3591 [04:24<04:49,  6.98it/s]"
     ]
    },
    {
     "name": "stdout",
     "output_type": "stream",
     "text": [
      "Fetching data for movie ID tt2536816 from OMDb...\n",
      "Fetching data for movie ID tt1068649 from OMDb...\n"
     ]
    },
    {
     "name": "stderr",
     "output_type": "stream",
     "text": [
      "Fetching movie data:  44%|███████▊          | 1571/3591 [04:24<04:34,  7.35it/s]"
     ]
    },
    {
     "name": "stdout",
     "output_type": "stream",
     "text": [
      "Fetching data for movie ID tt1007937 from OMDb...\n",
      "Fetching data for movie ID tt2072065 from OMDb...\n"
     ]
    },
    {
     "name": "stderr",
     "output_type": "stream",
     "text": [
      "Fetching movie data:  44%|███████▉          | 1573/3591 [04:24<04:52,  6.90it/s]"
     ]
    },
    {
     "name": "stdout",
     "output_type": "stream",
     "text": [
      "Fetching data for movie ID tt2735412 from OMDb...\n",
      "Fetching data for movie ID tt1093902 from OMDb...\n"
     ]
    },
    {
     "name": "stderr",
     "output_type": "stream",
     "text": [
      "Fetching movie data:  44%|███████▉          | 1575/3591 [04:25<04:52,  6.88it/s]"
     ]
    },
    {
     "name": "stdout",
     "output_type": "stream",
     "text": [
      "Fetching data for movie ID tt1817715 from OMDb...\n",
      "Fetching data for movie ID tt3215346 from OMDb...\n"
     ]
    },
    {
     "name": "stderr",
     "output_type": "stream",
     "text": [
      "Fetching movie data:  44%|███████▉          | 1577/3591 [04:25<05:11,  6.47it/s]"
     ]
    },
    {
     "name": "stdout",
     "output_type": "stream",
     "text": [
      "Fetching data for movie ID tt2112180 from OMDb...\n",
      "Fetching data for movie ID tt0319514 from OMDb...\n"
     ]
    },
    {
     "name": "stderr",
     "output_type": "stream",
     "text": [
      "Fetching movie data:  44%|███████▉          | 1579/3591 [04:25<04:54,  6.83it/s]"
     ]
    },
    {
     "name": "stdout",
     "output_type": "stream",
     "text": [
      "Fetching data for movie ID tt1562328 from OMDb...\n",
      "Fetching data for movie ID tt1364311 from OMDb...\n"
     ]
    },
    {
     "name": "stderr",
     "output_type": "stream",
     "text": [
      "Fetching movie data:  44%|███████▉          | 1581/3591 [04:25<05:14,  6.40it/s]"
     ]
    },
    {
     "name": "stdout",
     "output_type": "stream",
     "text": [
      "Fetching data for movie ID tt1515816 from OMDb...\n",
      "Fetching data for movie ID tt3473064 from OMDb...\n"
     ]
    },
    {
     "name": "stderr",
     "output_type": "stream",
     "text": [
      "Fetching movie data:  44%|███████▉          | 1583/3591 [04:26<04:57,  6.76it/s]"
     ]
    },
    {
     "name": "stdout",
     "output_type": "stream",
     "text": [
      "Fetching data for movie ID tt1340092 from OMDb...\n",
      "Fetching data for movie ID tt0907901 from OMDb...\n"
     ]
    },
    {
     "name": "stderr",
     "output_type": "stream",
     "text": [
      "Fetching movie data:  44%|███████▉          | 1585/3591 [04:26<04:54,  6.80it/s]"
     ]
    },
    {
     "name": "stdout",
     "output_type": "stream",
     "text": [
      "Fetching data for movie ID tt0790683 from OMDb...\n",
      "Fetching data for movie ID tt0802948 from OMDb...\n"
     ]
    },
    {
     "name": "stderr",
     "output_type": "stream",
     "text": [
      "Fetching movie data:  44%|███████▉          | 1587/3591 [04:26<05:04,  6.58it/s]"
     ]
    },
    {
     "name": "stdout",
     "output_type": "stream",
     "text": [
      "Fetching data for movie ID tt6000692 from OMDb...\n",
      "Fetching data for movie ID tt1645940 from OMDb...\n"
     ]
    },
    {
     "name": "stderr",
     "output_type": "stream",
     "text": [
      "Fetching movie data:  44%|███████▉          | 1589/3591 [04:27<05:46,  5.78it/s]"
     ]
    },
    {
     "name": "stdout",
     "output_type": "stream",
     "text": [
      "Fetching data for movie ID tt0805598 from OMDb...\n",
      "Fetching data for movie ID tt2740630 from OMDb...\n"
     ]
    },
    {
     "name": "stderr",
     "output_type": "stream",
     "text": [
      "Fetching movie data:  44%|███████▉          | 1591/3591 [04:27<04:56,  6.74it/s]"
     ]
    },
    {
     "name": "stdout",
     "output_type": "stream",
     "text": [
      "Fetching data for movie ID tt3274676 from OMDb...\n",
      "Fetching data for movie ID tt4324876 from OMDb...\n"
     ]
    },
    {
     "name": "stderr",
     "output_type": "stream",
     "text": [
      "Fetching movie data:  44%|███████▉          | 1593/3591 [04:27<04:53,  6.80it/s]"
     ]
    },
    {
     "name": "stdout",
     "output_type": "stream",
     "text": [
      "Fetching data for movie ID tt3019312 from OMDb...\n",
      "Fetching data for movie ID tt2906986 from OMDb...\n"
     ]
    },
    {
     "name": "stderr",
     "output_type": "stream",
     "text": [
      "Fetching movie data:  44%|███████▉          | 1595/3591 [04:28<04:43,  7.04it/s]"
     ]
    },
    {
     "name": "stdout",
     "output_type": "stream",
     "text": [
      "Fetching data for movie ID tt0400966 from OMDb...\n",
      "Fetching data for movie ID tt1274277 from OMDb...\n"
     ]
    },
    {
     "name": "stderr",
     "output_type": "stream",
     "text": [
      "Fetching movie data:  44%|████████          | 1596/3591 [04:28<04:30,  7.38it/s]"
     ]
    },
    {
     "name": "stdout",
     "output_type": "stream",
     "text": [
      "Fetching data for movie ID tt1368439 from OMDb...\n"
     ]
    },
    {
     "name": "stderr",
     "output_type": "stream",
     "text": [
      "Fetching movie data:  45%|████████          | 1598/3591 [04:28<05:04,  6.55it/s]"
     ]
    },
    {
     "name": "stdout",
     "output_type": "stream",
     "text": [
      "Fetching data for movie ID tt3249714 from OMDb...\n",
      "Fetching data for movie ID tt1943012 from OMDb...\n"
     ]
    },
    {
     "name": "stderr",
     "output_type": "stream",
     "text": [
      "Fetching movie data:  45%|████████          | 1600/3591 [04:28<05:08,  6.45it/s]"
     ]
    },
    {
     "name": "stdout",
     "output_type": "stream",
     "text": [
      "Fetching data for movie ID tt1505119 from OMDb...\n",
      "Fetching data for movie ID tt0820078 from OMDb...\n"
     ]
    },
    {
     "name": "stderr",
     "output_type": "stream",
     "text": [
      "Fetching movie data:  45%|████████          | 1602/3591 [04:29<05:11,  6.38it/s]"
     ]
    },
    {
     "name": "stdout",
     "output_type": "stream",
     "text": [
      "Progress saved after 24200 movies.\n",
      "Fetching data for movie ID tt1794941 from OMDb...\n",
      "Fetching data for movie ID tt0338817 from OMDb...\n"
     ]
    },
    {
     "name": "stderr",
     "output_type": "stream",
     "text": [
      "Fetching movie data:  45%|████████          | 1604/3591 [04:29<05:11,  6.38it/s]"
     ]
    },
    {
     "name": "stdout",
     "output_type": "stream",
     "text": [
      "Fetching data for movie ID tt1358596 from OMDb...\n",
      "Fetching data for movie ID tt0460697 from OMDb...\n"
     ]
    },
    {
     "name": "stderr",
     "output_type": "stream",
     "text": [
      "Fetching movie data:  45%|████████          | 1605/3591 [04:29<05:19,  6.21it/s]"
     ]
    },
    {
     "name": "stdout",
     "output_type": "stream",
     "text": [
      "Fetching data for movie ID tt2388781 from OMDb...\n"
     ]
    },
    {
     "name": "stderr",
     "output_type": "stream",
     "text": [
      "Fetching movie data:  45%|████████          | 1607/3591 [04:30<05:26,  6.07it/s]"
     ]
    },
    {
     "name": "stdout",
     "output_type": "stream",
     "text": [
      "Fetching data for movie ID tt2190568 from OMDb...\n",
      "Fetching data for movie ID tt1653015 from OMDb...\n"
     ]
    },
    {
     "name": "stderr",
     "output_type": "stream",
     "text": [
      "Fetching movie data:  45%|████████          | 1609/3591 [04:30<05:27,  6.05it/s]"
     ]
    },
    {
     "name": "stdout",
     "output_type": "stream",
     "text": [
      "Fetching data for movie ID tt0307681 from OMDb...\n",
      "Fetching data for movie ID tt1385471 from OMDb...\n"
     ]
    },
    {
     "name": "stderr",
     "output_type": "stream",
     "text": [
      "Fetching movie data:  45%|████████          | 1611/3591 [04:30<04:57,  6.65it/s]"
     ]
    },
    {
     "name": "stdout",
     "output_type": "stream",
     "text": [
      "Fetching data for movie ID tt0915461 from OMDb...\n",
      "Fetching data for movie ID tt1531631 from OMDb...\n"
     ]
    },
    {
     "name": "stderr",
     "output_type": "stream",
     "text": [
      "Fetching movie data:  45%|████████          | 1613/3591 [04:30<04:43,  6.97it/s]"
     ]
    },
    {
     "name": "stdout",
     "output_type": "stream",
     "text": [
      "Fetching data for movie ID tt1260589 from OMDb...\n",
      "Fetching data for movie ID tt2660270 from OMDb...\n"
     ]
    },
    {
     "name": "stderr",
     "output_type": "stream",
     "text": [
      "Fetching movie data:  45%|████████          | 1615/3591 [04:31<04:26,  7.42it/s]"
     ]
    },
    {
     "name": "stdout",
     "output_type": "stream",
     "text": [
      "Fetching data for movie ID tt4975466 from OMDb...\n",
      "Fetching data for movie ID tt1289449 from OMDb...\n"
     ]
    },
    {
     "name": "stderr",
     "output_type": "stream",
     "text": [
      "Fetching movie data:  45%|████████          | 1617/3591 [04:31<04:53,  6.72it/s]"
     ]
    },
    {
     "name": "stdout",
     "output_type": "stream",
     "text": [
      "Fetching data for movie ID tt3180600 from OMDb...\n",
      "Fetching data for movie ID tt8759752 from OMDb...\n"
     ]
    },
    {
     "name": "stderr",
     "output_type": "stream",
     "text": [
      "Fetching movie data:  45%|████████          | 1619/3591 [04:31<04:52,  6.73it/s]"
     ]
    },
    {
     "name": "stdout",
     "output_type": "stream",
     "text": [
      "Fetching data for movie ID tt0862940 from OMDb...\n",
      "Fetching data for movie ID tt1273240 from OMDb...\n"
     ]
    },
    {
     "name": "stderr",
     "output_type": "stream",
     "text": [
      "Fetching movie data:  45%|████████▏         | 1621/3591 [04:32<05:16,  6.23it/s]"
     ]
    },
    {
     "name": "stdout",
     "output_type": "stream",
     "text": [
      "Fetching data for movie ID tt1655429 from OMDb...\n",
      "Fetching data for movie ID tt2049386 from OMDb...\n"
     ]
    },
    {
     "name": "stderr",
     "output_type": "stream",
     "text": [
      "Fetching movie data:  45%|████████▏         | 1623/3591 [04:32<04:56,  6.64it/s]"
     ]
    },
    {
     "name": "stdout",
     "output_type": "stream",
     "text": [
      "Fetching data for movie ID tt0422898 from OMDb...\n",
      "Fetching data for movie ID tt0377407 from OMDb...\n"
     ]
    },
    {
     "name": "stderr",
     "output_type": "stream",
     "text": [
      "Fetching movie data:  45%|████████▏         | 1625/3591 [04:32<05:00,  6.55it/s]"
     ]
    },
    {
     "name": "stdout",
     "output_type": "stream",
     "text": [
      "Fetching data for movie ID tt2467020 from OMDb...\n",
      "Fetching data for movie ID tt1655396 from OMDb...\n"
     ]
    },
    {
     "name": "stderr",
     "output_type": "stream",
     "text": [
      "Fetching movie data:  45%|████████▏         | 1627/3591 [04:33<05:32,  5.90it/s]"
     ]
    },
    {
     "name": "stdout",
     "output_type": "stream",
     "text": [
      "Fetching data for movie ID tt0260668 from OMDb...\n",
      "Fetching data for movie ID tt1039647 from OMDb...\n"
     ]
    },
    {
     "name": "stderr",
     "output_type": "stream",
     "text": [
      "Fetching movie data:  45%|████████▏         | 1629/3591 [04:33<04:47,  6.82it/s]"
     ]
    },
    {
     "name": "stdout",
     "output_type": "stream",
     "text": [
      "Fetching data for movie ID tt1338649 from OMDb...\n",
      "Fetching data for movie ID tt1937453 from OMDb...\n"
     ]
    },
    {
     "name": "stderr",
     "output_type": "stream",
     "text": [
      "Fetching movie data:  45%|████████▏         | 1631/3591 [04:33<04:27,  7.32it/s]"
     ]
    },
    {
     "name": "stdout",
     "output_type": "stream",
     "text": [
      "Fetching data for movie ID tt0356434 from OMDb...\n",
      "Fetching data for movie ID tt0486146 from OMDb...\n"
     ]
    },
    {
     "name": "stderr",
     "output_type": "stream",
     "text": [
      "Fetching movie data:  45%|████████▏         | 1633/3591 [04:33<04:27,  7.32it/s]"
     ]
    },
    {
     "name": "stdout",
     "output_type": "stream",
     "text": [
      "Fetching data for movie ID tt2186805 from OMDb...\n",
      "Fetching data for movie ID tt0853202 from OMDb...\n"
     ]
    },
    {
     "name": "stderr",
     "output_type": "stream",
     "text": [
      "Fetching movie data:  46%|████████▏         | 1635/3591 [04:34<04:45,  6.85it/s]"
     ]
    },
    {
     "name": "stdout",
     "output_type": "stream",
     "text": [
      "Fetching data for movie ID tt0416991 from OMDb...\n",
      "Fetching data for movie ID tt0460740 from OMDb...\n"
     ]
    },
    {
     "name": "stderr",
     "output_type": "stream",
     "text": [
      "Fetching movie data:  46%|████████▏         | 1637/3591 [04:34<04:25,  7.37it/s]"
     ]
    },
    {
     "name": "stdout",
     "output_type": "stream",
     "text": [
      "Fetching data for movie ID tt2716576 from OMDb...\n",
      "Fetching data for movie ID tt0308320 from OMDb...\n"
     ]
    },
    {
     "name": "stderr",
     "output_type": "stream",
     "text": [
      "Fetching movie data:  46%|████████▏         | 1639/3591 [04:34<04:48,  6.77it/s]"
     ]
    },
    {
     "name": "stdout",
     "output_type": "stream",
     "text": [
      "Fetching data for movie ID tt1846552 from OMDb...\n",
      "Fetching data for movie ID tt1820442 from OMDb...\n"
     ]
    },
    {
     "name": "stderr",
     "output_type": "stream",
     "text": [
      "Fetching movie data:  46%|████████▏         | 1641/3591 [04:35<05:25,  5.98it/s]"
     ]
    },
    {
     "name": "stdout",
     "output_type": "stream",
     "text": [
      "Fetching data for movie ID tt1247641 from OMDb...\n",
      "Fetching data for movie ID tt3214124 from OMDb...\n"
     ]
    },
    {
     "name": "stderr",
     "output_type": "stream",
     "text": [
      "Fetching movie data:  46%|████████▏         | 1643/3591 [04:35<05:08,  6.31it/s]"
     ]
    },
    {
     "name": "stdout",
     "output_type": "stream",
     "text": [
      "Fetching data for movie ID tt2661620 from OMDb...\n",
      "Fetching data for movie ID tt1419769 from OMDb...\n"
     ]
    },
    {
     "name": "stderr",
     "output_type": "stream",
     "text": [
      "Fetching movie data:  46%|████████▏         | 1645/3591 [04:35<05:00,  6.48it/s]"
     ]
    },
    {
     "name": "stdout",
     "output_type": "stream",
     "text": [
      "Fetching data for movie ID tt0322242 from OMDb...\n",
      "Fetching data for movie ID tt1504320 from OMDb...\n"
     ]
    },
    {
     "name": "stderr",
     "output_type": "stream",
     "text": [
      "Fetching movie data:  46%|████████▎         | 1647/3591 [04:36<05:04,  6.38it/s]"
     ]
    },
    {
     "name": "stdout",
     "output_type": "stream",
     "text": [
      "Fetching data for movie ID tt2162579 from OMDb...\n",
      "Fetching data for movie ID tt2182187 from OMDb...\n"
     ]
    },
    {
     "name": "stderr",
     "output_type": "stream",
     "text": [
      "Fetching movie data:  46%|████████▎         | 1649/3591 [04:36<05:11,  6.23it/s]"
     ]
    },
    {
     "name": "stdout",
     "output_type": "stream",
     "text": [
      "Fetching data for movie ID tt1392214 from OMDb...\n",
      "Fetching data for movie ID tt1359434 from OMDb...\n"
     ]
    },
    {
     "name": "stderr",
     "output_type": "stream",
     "text": [
      "Fetching movie data:  46%|████████▎         | 1651/3591 [04:36<04:46,  6.76it/s]"
     ]
    },
    {
     "name": "stdout",
     "output_type": "stream",
     "text": [
      "Fetching data for movie ID tt2179203 from OMDb...\n",
      "Fetching data for movie ID tt0487011 from OMDb...\n"
     ]
    },
    {
     "name": "stderr",
     "output_type": "stream",
     "text": [
      "Fetching movie data:  46%|████████▎         | 1653/3591 [04:36<04:42,  6.86it/s]"
     ]
    },
    {
     "name": "stdout",
     "output_type": "stream",
     "text": [
      "Fetching data for movie ID tt4995346 from OMDb...\n",
      "Fetching data for movie ID tt2652874 from OMDb...\n"
     ]
    },
    {
     "name": "stderr",
     "output_type": "stream",
     "text": [
      "Fetching movie data:  46%|████████▎         | 1655/3591 [04:37<05:05,  6.33it/s]"
     ]
    },
    {
     "name": "stdout",
     "output_type": "stream",
     "text": [
      "Fetching data for movie ID tt2112170 from OMDb...\n",
      "Fetching data for movie ID tt0472208 from OMDb...\n"
     ]
    },
    {
     "name": "stderr",
     "output_type": "stream",
     "text": [
      "Fetching movie data:  46%|████████▎         | 1657/3591 [04:37<04:56,  6.53it/s]"
     ]
    },
    {
     "name": "stdout",
     "output_type": "stream",
     "text": [
      "Fetching data for movie ID tt2164682 from OMDb...\n",
      "Fetching data for movie ID tt2273089 from OMDb...\n"
     ]
    },
    {
     "name": "stderr",
     "output_type": "stream",
     "text": [
      "Fetching movie data:  46%|████████▎         | 1659/3591 [04:37<05:10,  6.23it/s]"
     ]
    },
    {
     "name": "stdout",
     "output_type": "stream",
     "text": [
      "Fetching data for movie ID tt0841175 from OMDb...\n",
      "Fetching data for movie ID tt0808536 from OMDb...\n"
     ]
    },
    {
     "name": "stderr",
     "output_type": "stream",
     "text": [
      "Fetching movie data:  46%|████████▎         | 1661/3591 [04:38<04:31,  7.11it/s]"
     ]
    },
    {
     "name": "stdout",
     "output_type": "stream",
     "text": [
      "Fetching data for movie ID tt1244513 from OMDb...\n",
      "Fetching data for movie ID tt1691864 from OMDb...\n"
     ]
    },
    {
     "name": "stderr",
     "output_type": "stream",
     "text": [
      "Fetching movie data:  46%|████████▎         | 1663/3591 [04:38<04:27,  7.21it/s]"
     ]
    },
    {
     "name": "stdout",
     "output_type": "stream",
     "text": [
      "Fetching data for movie ID tt2401005 from OMDb...\n",
      "Fetching data for movie ID tt1806905 from OMDb...\n"
     ]
    },
    {
     "name": "stderr",
     "output_type": "stream",
     "text": [
      "Fetching movie data:  46%|████████▎         | 1665/3591 [04:38<04:58,  6.46it/s]"
     ]
    },
    {
     "name": "stdout",
     "output_type": "stream",
     "text": [
      "Fetching data for movie ID tt1619024 from OMDb...\n",
      "Fetching data for movie ID tt2411314 from OMDb...\n"
     ]
    },
    {
     "name": "stderr",
     "output_type": "stream",
     "text": [
      "Fetching movie data:  46%|████████▎         | 1667/3591 [04:39<05:23,  5.94it/s]"
     ]
    },
    {
     "name": "stdout",
     "output_type": "stream",
     "text": [
      "Fetching data for movie ID tt0828444 from OMDb...\n",
      "Fetching data for movie ID tt0997063 from OMDb...\n"
     ]
    },
    {
     "name": "stderr",
     "output_type": "stream",
     "text": [
      "Fetching movie data:  46%|████████▎         | 1669/3591 [04:39<05:08,  6.24it/s]"
     ]
    },
    {
     "name": "stdout",
     "output_type": "stream",
     "text": [
      "Fetching data for movie ID tt1602035 from OMDb...\n",
      "Fetching data for movie ID tt2214985 from OMDb...\n"
     ]
    },
    {
     "name": "stderr",
     "output_type": "stream",
     "text": [
      "Fetching movie data:  47%|████████▍         | 1671/3591 [04:39<05:14,  6.10it/s]"
     ]
    },
    {
     "name": "stdout",
     "output_type": "stream",
     "text": [
      "Fetching data for movie ID tt0432776 from OMDb...\n",
      "Fetching data for movie ID tt0268126 from OMDb...\n"
     ]
    },
    {
     "name": "stderr",
     "output_type": "stream",
     "text": [
      "Fetching movie data:  47%|████████▍         | 1673/3591 [04:40<04:42,  6.80it/s]"
     ]
    },
    {
     "name": "stdout",
     "output_type": "stream",
     "text": [
      "Fetching data for movie ID tt2628144 from OMDb...\n",
      "Fetching data for movie ID tt0996930 from OMDb...\n"
     ]
    },
    {
     "name": "stderr",
     "output_type": "stream",
     "text": [
      "Fetching movie data:  47%|████████▍         | 1675/3591 [04:40<04:22,  7.29it/s]"
     ]
    },
    {
     "name": "stdout",
     "output_type": "stream",
     "text": [
      "Fetching data for movie ID tt0206878 from OMDb...\n",
      "Fetching data for movie ID tt1545099 from OMDb...\n"
     ]
    },
    {
     "name": "stderr",
     "output_type": "stream",
     "text": [
      "Fetching movie data:  47%|████████▍         | 1677/3591 [04:40<04:50,  6.59it/s]"
     ]
    },
    {
     "name": "stdout",
     "output_type": "stream",
     "text": [
      "Fetching data for movie ID tt6434272 from OMDb...\n",
      "Fetching data for movie ID tt12385916 from OMDb...\n"
     ]
    },
    {
     "name": "stderr",
     "output_type": "stream",
     "text": [
      "Fetching movie data:  47%|████████▍         | 1679/3591 [04:40<04:49,  6.60it/s]"
     ]
    },
    {
     "name": "stdout",
     "output_type": "stream",
     "text": [
      "Fetching data for movie ID tt2113653 from OMDb...\n",
      "Fetching data for movie ID tt0297101 from OMDb...\n"
     ]
    },
    {
     "name": "stderr",
     "output_type": "stream",
     "text": [
      "Fetching movie data:  47%|████████▍         | 1681/3591 [04:41<04:44,  6.71it/s]"
     ]
    },
    {
     "name": "stdout",
     "output_type": "stream",
     "text": [
      "Fetching data for movie ID tt1105285 from OMDb...\n",
      "Fetching data for movie ID tt0363223 from OMDb...\n"
     ]
    },
    {
     "name": "stderr",
     "output_type": "stream",
     "text": [
      "Fetching movie data:  47%|████████▍         | 1683/3591 [04:41<04:18,  7.38it/s]"
     ]
    },
    {
     "name": "stdout",
     "output_type": "stream",
     "text": [
      "Fetching data for movie ID tt0479128 from OMDb...\n",
      "Fetching data for movie ID tt1457738 from OMDb...\n"
     ]
    },
    {
     "name": "stderr",
     "output_type": "stream",
     "text": [
      "Fetching movie data:  47%|████████▍         | 1685/3591 [04:41<04:09,  7.65it/s]"
     ]
    },
    {
     "name": "stdout",
     "output_type": "stream",
     "text": [
      "Fetching data for movie ID tt8067028 from OMDb...\n",
      "Fetching data for movie ID tt0457441 from OMDb...\n"
     ]
    },
    {
     "name": "stderr",
     "output_type": "stream",
     "text": [
      "Fetching movie data:  47%|████████▍         | 1687/3591 [04:42<04:34,  6.93it/s]"
     ]
    },
    {
     "name": "stdout",
     "output_type": "stream",
     "text": [
      "Fetching data for movie ID tt0805482 from OMDb...\n",
      "Fetching data for movie ID tt0284935 from OMDb...\n"
     ]
    },
    {
     "name": "stderr",
     "output_type": "stream",
     "text": [
      "Fetching movie data:  47%|████████▍         | 1689/3591 [04:42<04:28,  7.08it/s]"
     ]
    },
    {
     "name": "stdout",
     "output_type": "stream",
     "text": [
      "Fetching data for movie ID tt1173594 from OMDb...\n",
      "Fetching data for movie ID tt1446696 from OMDb...\n"
     ]
    },
    {
     "name": "stderr",
     "output_type": "stream",
     "text": [
      "Fetching movie data:  47%|████████▍         | 1691/3591 [04:42<04:29,  7.05it/s]"
     ]
    },
    {
     "name": "stdout",
     "output_type": "stream",
     "text": [
      "Fetching data for movie ID tt2119535 from OMDb...\n",
      "Fetching data for movie ID tt3031996 from OMDb...\n"
     ]
    },
    {
     "name": "stderr",
     "output_type": "stream",
     "text": [
      "Fetching movie data:  47%|████████▍         | 1693/3591 [04:42<04:22,  7.23it/s]"
     ]
    },
    {
     "name": "stdout",
     "output_type": "stream",
     "text": [
      "Fetching data for movie ID tt1299651 from OMDb...\n",
      "Fetching data for movie ID tt1266029 from OMDb...\n"
     ]
    },
    {
     "name": "stderr",
     "output_type": "stream",
     "text": [
      "Fetching movie data:  47%|████████▍         | 1695/3591 [04:43<04:39,  6.78it/s]"
     ]
    },
    {
     "name": "stdout",
     "output_type": "stream",
     "text": [
      "Fetching data for movie ID tt1113789 from OMDb...\n",
      "Fetching data for movie ID tt2558556 from OMDb...\n"
     ]
    },
    {
     "name": "stderr",
     "output_type": "stream",
     "text": [
      "Fetching movie data:  47%|████████▌         | 1697/3591 [04:43<04:52,  6.48it/s]"
     ]
    },
    {
     "name": "stdout",
     "output_type": "stream",
     "text": [
      "Fetching data for movie ID tt0479990 from OMDb...\n",
      "Fetching data for movie ID tt1433101 from OMDb...\n"
     ]
    },
    {
     "name": "stderr",
     "output_type": "stream",
     "text": [
      "Fetching movie data:  47%|████████▌         | 1699/3591 [04:43<05:48,  5.43it/s]"
     ]
    },
    {
     "name": "stdout",
     "output_type": "stream",
     "text": [
      "Fetching data for movie ID tt1543701 from OMDb...\n",
      "Fetching data for movie ID tt1043871 from OMDb...\n"
     ]
    },
    {
     "name": "stderr",
     "output_type": "stream",
     "text": [
      "Fetching movie data:  47%|████████▌         | 1700/3591 [04:44<05:53,  5.35it/s]"
     ]
    },
    {
     "name": "stdout",
     "output_type": "stream",
     "text": [
      "Fetching data for movie ID tt2055694 from OMDb...\n"
     ]
    },
    {
     "name": "stderr",
     "output_type": "stream",
     "text": [
      "Fetching movie data:  47%|████████▌         | 1702/3591 [04:44<05:40,  5.54it/s]"
     ]
    },
    {
     "name": "stdout",
     "output_type": "stream",
     "text": [
      "Progress saved after 24300 movies.\n",
      "Fetching data for movie ID tt0489161 from OMDb...\n",
      "Fetching data for movie ID tt3118566 from OMDb...\n"
     ]
    },
    {
     "name": "stderr",
     "output_type": "stream",
     "text": [
      "Fetching movie data:  47%|████████▌         | 1704/3591 [04:44<05:06,  6.16it/s]"
     ]
    },
    {
     "name": "stdout",
     "output_type": "stream",
     "text": [
      "Fetching data for movie ID tt2051824 from OMDb...\n",
      "Fetching data for movie ID tt0386422 from OMDb...\n"
     ]
    },
    {
     "name": "stderr",
     "output_type": "stream",
     "text": [
      "Fetching movie data:  48%|████████▌         | 1706/3591 [04:45<04:50,  6.48it/s]"
     ]
    },
    {
     "name": "stdout",
     "output_type": "stream",
     "text": [
      "Fetching data for movie ID tt0421960 from OMDb...\n",
      "Fetching data for movie ID tt7247688 from OMDb...\n"
     ]
    },
    {
     "name": "stderr",
     "output_type": "stream",
     "text": [
      "Fetching movie data:  48%|████████▌         | 1708/3591 [04:45<04:57,  6.34it/s]"
     ]
    },
    {
     "name": "stdout",
     "output_type": "stream",
     "text": [
      "Fetching data for movie ID tt2308971 from OMDb...\n",
      "Fetching data for movie ID tt1639083 from OMDb...\n"
     ]
    },
    {
     "name": "stderr",
     "output_type": "stream",
     "text": [
      "Fetching movie data:  48%|████████▌         | 1710/3591 [04:45<04:38,  6.75it/s]"
     ]
    },
    {
     "name": "stdout",
     "output_type": "stream",
     "text": [
      "Fetching data for movie ID tt0347573 from OMDb...\n",
      "Fetching data for movie ID tt2488090 from OMDb...\n"
     ]
    },
    {
     "name": "stderr",
     "output_type": "stream",
     "text": [
      "Fetching movie data:  48%|████████▌         | 1712/3591 [04:46<04:55,  6.36it/s]"
     ]
    },
    {
     "name": "stdout",
     "output_type": "stream",
     "text": [
      "Fetching data for movie ID tt1717736 from OMDb...\n",
      "Fetching data for movie ID tt1822332 from OMDb...\n"
     ]
    },
    {
     "name": "stderr",
     "output_type": "stream",
     "text": [
      "Fetching movie data:  48%|████████▌         | 1714/3591 [04:46<04:38,  6.73it/s]"
     ]
    },
    {
     "name": "stdout",
     "output_type": "stream",
     "text": [
      "Fetching data for movie ID tt2981768 from OMDb...\n",
      "Fetching data for movie ID tt0418763 from OMDb...\n"
     ]
    },
    {
     "name": "stderr",
     "output_type": "stream",
     "text": [
      "Fetching movie data:  48%|████████▌         | 1716/3591 [04:46<04:33,  6.87it/s]"
     ]
    },
    {
     "name": "stdout",
     "output_type": "stream",
     "text": [
      "Fetching data for movie ID tt2172132 from OMDb...\n",
      "Fetching data for movie ID tt0308332 from OMDb...\n"
     ]
    },
    {
     "name": "stderr",
     "output_type": "stream",
     "text": [
      "Fetching movie data:  48%|████████▌         | 1718/3591 [04:46<04:44,  6.59it/s]"
     ]
    },
    {
     "name": "stdout",
     "output_type": "stream",
     "text": [
      "Fetching data for movie ID tt1626811 from OMDb...\n",
      "Fetching data for movie ID tt1740522 from OMDb...\n"
     ]
    },
    {
     "name": "stderr",
     "output_type": "stream",
     "text": [
      "Fetching movie data:  48%|████████▌         | 1720/3591 [04:47<04:41,  6.64it/s]"
     ]
    },
    {
     "name": "stdout",
     "output_type": "stream",
     "text": [
      "Fetching data for movie ID tt1553060 from OMDb...\n",
      "Fetching data for movie ID tt0840033 from OMDb...\n"
     ]
    },
    {
     "name": "stderr",
     "output_type": "stream",
     "text": [
      "Fetching movie data:  48%|████████▋         | 1722/3591 [04:47<04:57,  6.29it/s]"
     ]
    },
    {
     "name": "stdout",
     "output_type": "stream",
     "text": [
      "Fetching data for movie ID tt0465967 from OMDb...\n",
      "Fetching data for movie ID tt0912587 from OMDb...\n"
     ]
    },
    {
     "name": "stderr",
     "output_type": "stream",
     "text": [
      "Fetching movie data:  48%|████████▋         | 1724/3591 [04:47<05:04,  6.14it/s]"
     ]
    },
    {
     "name": "stdout",
     "output_type": "stream",
     "text": [
      "Fetching data for movie ID tt0486543 from OMDb...\n",
      "Fetching data for movie ID tt1371712 from OMDb...\n"
     ]
    },
    {
     "name": "stderr",
     "output_type": "stream",
     "text": [
      "Fetching movie data:  48%|████████▋         | 1726/3591 [04:48<05:17,  5.87it/s]"
     ]
    },
    {
     "name": "stdout",
     "output_type": "stream",
     "text": [
      "Fetching data for movie ID tt1327776 from OMDb...\n",
      "Fetching data for movie ID tt1686780 from OMDb...\n"
     ]
    },
    {
     "name": "stderr",
     "output_type": "stream",
     "text": [
      "Fetching movie data:  48%|████████▋         | 1728/3591 [04:48<04:59,  6.23it/s]"
     ]
    },
    {
     "name": "stdout",
     "output_type": "stream",
     "text": [
      "Fetching data for movie ID tt2592512 from OMDb...\n",
      "Fetching data for movie ID tt2759362 from OMDb...\n"
     ]
    },
    {
     "name": "stderr",
     "output_type": "stream",
     "text": [
      "Fetching movie data:  48%|████████▋         | 1730/3591 [04:48<04:21,  7.12it/s]"
     ]
    },
    {
     "name": "stdout",
     "output_type": "stream",
     "text": [
      "Fetching data for movie ID tt1375544 from OMDb...\n",
      "Fetching data for movie ID tt7062624 from OMDb...\n"
     ]
    },
    {
     "name": "stderr",
     "output_type": "stream",
     "text": [
      "Fetching movie data:  48%|████████▋         | 1732/3591 [04:49<04:14,  7.29it/s]"
     ]
    },
    {
     "name": "stdout",
     "output_type": "stream",
     "text": [
      "Fetching data for movie ID tt2388817 from OMDb...\n",
      "Fetching data for movie ID tt1806810 from OMDb...\n"
     ]
    },
    {
     "name": "stderr",
     "output_type": "stream",
     "text": [
      "Fetching movie data:  48%|████████▋         | 1734/3591 [04:49<04:45,  6.51it/s]"
     ]
    },
    {
     "name": "stdout",
     "output_type": "stream",
     "text": [
      "Fetching data for movie ID tt0390526 from OMDb...\n",
      "Fetching data for movie ID tt1735895 from OMDb...\n"
     ]
    },
    {
     "name": "stderr",
     "output_type": "stream",
     "text": [
      "Fetching movie data:  48%|████████▋         | 1736/3591 [04:49<04:44,  6.53it/s]"
     ]
    },
    {
     "name": "stdout",
     "output_type": "stream",
     "text": [
      "Fetching data for movie ID tt1183687 from OMDb...\n",
      "Fetching data for movie ID tt2981350 from OMDb...\n"
     ]
    },
    {
     "name": "stderr",
     "output_type": "stream",
     "text": [
      "Fetching movie data:  48%|████████▋         | 1738/3591 [04:49<04:43,  6.55it/s]"
     ]
    },
    {
     "name": "stdout",
     "output_type": "stream",
     "text": [
      "Fetching data for movie ID tt2187075 from OMDb...\n",
      "Fetching data for movie ID tt2381347 from OMDb...\n"
     ]
    },
    {
     "name": "stderr",
     "output_type": "stream",
     "text": [
      "Fetching movie data:  48%|████████▋         | 1740/3591 [04:50<04:21,  7.08it/s]"
     ]
    },
    {
     "name": "stdout",
     "output_type": "stream",
     "text": [
      "Fetching data for movie ID tt1536063 from OMDb...\n",
      "Fetching data for movie ID tt1411663 from OMDb...\n"
     ]
    },
    {
     "name": "stderr",
     "output_type": "stream",
     "text": [
      "Fetching movie data:  49%|████████▋         | 1742/3591 [04:50<04:28,  6.89it/s]"
     ]
    },
    {
     "name": "stdout",
     "output_type": "stream",
     "text": [
      "Fetching data for movie ID tt0985019 from OMDb...\n",
      "Fetching data for movie ID tt1024944 from OMDb...\n"
     ]
    },
    {
     "name": "stderr",
     "output_type": "stream",
     "text": [
      "Fetching movie data:  49%|████████▋         | 1744/3591 [04:50<04:11,  7.33it/s]"
     ]
    },
    {
     "name": "stdout",
     "output_type": "stream",
     "text": [
      "Fetching data for movie ID tt4075214 from OMDb...\n",
      "Fetching data for movie ID tt0320099 from OMDb...\n"
     ]
    },
    {
     "name": "stderr",
     "output_type": "stream",
     "text": [
      "Fetching movie data:  49%|████████▊         | 1746/3591 [04:51<04:28,  6.87it/s]"
     ]
    },
    {
     "name": "stdout",
     "output_type": "stream",
     "text": [
      "Fetching data for movie ID tt0165186 from OMDb...\n",
      "Fetching data for movie ID tt1611019 from OMDb...\n"
     ]
    },
    {
     "name": "stderr",
     "output_type": "stream",
     "text": [
      "Fetching movie data:  49%|████████▊         | 1748/3591 [04:51<05:15,  5.85it/s]"
     ]
    },
    {
     "name": "stdout",
     "output_type": "stream",
     "text": [
      "Fetching data for movie ID tt0479082 from OMDb...\n",
      "Fetching data for movie ID tt2226694 from OMDb...\n"
     ]
    },
    {
     "name": "stderr",
     "output_type": "stream",
     "text": [
      "Fetching movie data:  49%|████████▊         | 1750/3591 [04:51<04:52,  6.30it/s]"
     ]
    },
    {
     "name": "stdout",
     "output_type": "stream",
     "text": [
      "Fetching data for movie ID tt2880558 from OMDb...\n",
      "Fetching data for movie ID tt9903802 from OMDb...\n"
     ]
    },
    {
     "name": "stderr",
     "output_type": "stream",
     "text": [
      "Fetching movie data:  49%|████████▊         | 1752/3591 [04:52<04:25,  6.94it/s]"
     ]
    },
    {
     "name": "stdout",
     "output_type": "stream",
     "text": [
      "Fetching data for movie ID tt1494688 from OMDb...\n",
      "Fetching data for movie ID tt3158882 from OMDb...\n"
     ]
    },
    {
     "name": "stderr",
     "output_type": "stream",
     "text": [
      "Fetching movie data:  49%|████████▊         | 1754/3591 [04:52<04:59,  6.13it/s]"
     ]
    },
    {
     "name": "stdout",
     "output_type": "stream",
     "text": [
      "Fetching data for movie ID tt7641390 from OMDb...\n",
      "Fetching data for movie ID tt2507936 from OMDb...\n"
     ]
    },
    {
     "name": "stderr",
     "output_type": "stream",
     "text": [
      "Fetching movie data:  49%|████████▊         | 1756/3591 [04:52<05:01,  6.08it/s]"
     ]
    },
    {
     "name": "stdout",
     "output_type": "stream",
     "text": [
      "Fetching data for movie ID tt1206332 from OMDb...\n",
      "Fetching data for movie ID tt0368678 from OMDb...\n"
     ]
    },
    {
     "name": "stderr",
     "output_type": "stream",
     "text": [
      "Fetching movie data:  49%|████████▊         | 1758/3591 [04:53<04:39,  6.56it/s]"
     ]
    },
    {
     "name": "stdout",
     "output_type": "stream",
     "text": [
      "Fetching data for movie ID tt0415948 from OMDb...\n",
      "Fetching data for movie ID tt2709312 from OMDb...\n"
     ]
    },
    {
     "name": "stderr",
     "output_type": "stream",
     "text": [
      "Fetching movie data:  49%|████████▊         | 1760/3591 [04:53<04:27,  6.85it/s]"
     ]
    },
    {
     "name": "stdout",
     "output_type": "stream",
     "text": [
      "Fetching data for movie ID tt0367508 from OMDb...\n",
      "Fetching data for movie ID tt0411096 from OMDb...\n"
     ]
    },
    {
     "name": "stderr",
     "output_type": "stream",
     "text": [
      "Fetching movie data:  49%|████████▊         | 1762/3591 [04:53<04:36,  6.62it/s]"
     ]
    },
    {
     "name": "stdout",
     "output_type": "stream",
     "text": [
      "Fetching data for movie ID tt0439869 from OMDb...\n",
      "Fetching data for movie ID tt1252299 from OMDb...\n"
     ]
    },
    {
     "name": "stderr",
     "output_type": "stream",
     "text": [
      "Fetching movie data:  49%|████████▊         | 1764/3591 [04:53<04:21,  6.98it/s]"
     ]
    },
    {
     "name": "stdout",
     "output_type": "stream",
     "text": [
      "Fetching data for movie ID tt0339079 from OMDb...\n",
      "Fetching data for movie ID tt0319371 from OMDb...\n"
     ]
    },
    {
     "name": "stderr",
     "output_type": "stream",
     "text": [
      "Fetching movie data:  49%|████████▊         | 1766/3591 [04:54<04:38,  6.55it/s]"
     ]
    },
    {
     "name": "stdout",
     "output_type": "stream",
     "text": [
      "Fetching data for movie ID tt1105259 from OMDb...\n",
      "Fetching data for movie ID tt0222142 from OMDb...\n"
     ]
    },
    {
     "name": "stderr",
     "output_type": "stream",
     "text": [
      "Fetching movie data:  49%|████████▊         | 1768/3591 [04:54<04:20,  6.99it/s]"
     ]
    },
    {
     "name": "stdout",
     "output_type": "stream",
     "text": [
      "Fetching data for movie ID tt0799915 from OMDb...\n",
      "Fetching data for movie ID tt1541748 from OMDb...\n"
     ]
    },
    {
     "name": "stderr",
     "output_type": "stream",
     "text": [
      "Fetching movie data:  49%|████████▊         | 1770/3591 [04:54<04:11,  7.25it/s]"
     ]
    },
    {
     "name": "stdout",
     "output_type": "stream",
     "text": [
      "Fetching data for movie ID tt3813052 from OMDb...\n",
      "Fetching data for movie ID tt1246600 from OMDb...\n"
     ]
    },
    {
     "name": "stderr",
     "output_type": "stream",
     "text": [
      "Fetching movie data:  49%|████████▉         | 1772/3591 [04:55<04:31,  6.70it/s]"
     ]
    },
    {
     "name": "stdout",
     "output_type": "stream",
     "text": [
      "Fetching data for movie ID tt1512759 from OMDb...\n",
      "Fetching data for movie ID tt2140645 from OMDb...\n"
     ]
    },
    {
     "name": "stderr",
     "output_type": "stream",
     "text": [
      "Fetching movie data:  49%|████████▉         | 1774/3591 [04:55<04:38,  6.53it/s]"
     ]
    },
    {
     "name": "stdout",
     "output_type": "stream",
     "text": [
      "Fetching data for movie ID tt1104008 from OMDb...\n",
      "Fetching data for movie ID tt0355715 from OMDb...\n"
     ]
    },
    {
     "name": "stderr",
     "output_type": "stream",
     "text": [
      "Fetching movie data:  49%|████████▉         | 1775/3591 [04:55<04:21,  6.93it/s]"
     ]
    },
    {
     "name": "stdout",
     "output_type": "stream",
     "text": [
      "Fetching data for movie ID tt1582516 from OMDb...\n"
     ]
    },
    {
     "name": "stderr",
     "output_type": "stream",
     "text": [
      "Fetching movie data:  49%|████████▉         | 1777/3591 [04:55<04:47,  6.31it/s]"
     ]
    },
    {
     "name": "stdout",
     "output_type": "stream",
     "text": [
      "Fetching data for movie ID tt0395291 from OMDb...\n",
      "Fetching data for movie ID tt2404803 from OMDb...\n"
     ]
    },
    {
     "name": "stderr",
     "output_type": "stream",
     "text": [
      "Fetching movie data:  50%|████████▉         | 1779/3591 [04:56<04:39,  6.49it/s]"
     ]
    },
    {
     "name": "stdout",
     "output_type": "stream",
     "text": [
      "Fetching data for movie ID tt0399608 from OMDb...\n",
      "Fetching data for movie ID tt1954925 from OMDb...\n"
     ]
    },
    {
     "name": "stderr",
     "output_type": "stream",
     "text": [
      "Fetching movie data:  50%|████████▉         | 1781/3591 [04:56<04:44,  6.36it/s]"
     ]
    },
    {
     "name": "stdout",
     "output_type": "stream",
     "text": [
      "Fetching data for movie ID tt1262989 from OMDb...\n",
      "Fetching data for movie ID tt2740874 from OMDb...\n"
     ]
    },
    {
     "name": "stderr",
     "output_type": "stream",
     "text": [
      "Fetching movie data:  50%|████████▉         | 1783/3591 [04:56<04:57,  6.07it/s]"
     ]
    },
    {
     "name": "stdout",
     "output_type": "stream",
     "text": [
      "Fetching data for movie ID tt0800312 from OMDb...\n",
      "Fetching data for movie ID tt3947354 from OMDb...\n"
     ]
    },
    {
     "name": "stderr",
     "output_type": "stream",
     "text": [
      "Fetching movie data:  50%|████████▉         | 1785/3591 [04:57<04:32,  6.62it/s]"
     ]
    },
    {
     "name": "stdout",
     "output_type": "stream",
     "text": [
      "Fetching data for movie ID tt1883330 from OMDb...\n",
      "Fetching data for movie ID tt1152399 from OMDb...\n"
     ]
    },
    {
     "name": "stderr",
     "output_type": "stream",
     "text": [
      "Fetching movie data:  50%|████████▉         | 1787/3591 [04:57<04:39,  6.46it/s]"
     ]
    },
    {
     "name": "stdout",
     "output_type": "stream",
     "text": [
      "Fetching data for movie ID tt1789929 from OMDb...\n",
      "Fetching data for movie ID tt3374966 from OMDb...\n"
     ]
    },
    {
     "name": "stderr",
     "output_type": "stream",
     "text": [
      "Fetching movie data:  50%|████████▉         | 1789/3591 [04:57<04:18,  6.97it/s]"
     ]
    },
    {
     "name": "stdout",
     "output_type": "stream",
     "text": [
      "Fetching data for movie ID tt0409184 from OMDb...\n",
      "Fetching data for movie ID tt2507594 from OMDb...\n"
     ]
    },
    {
     "name": "stderr",
     "output_type": "stream",
     "text": [
      "Fetching movie data:  50%|████████▉         | 1791/3591 [04:57<04:04,  7.37it/s]"
     ]
    },
    {
     "name": "stdout",
     "output_type": "stream",
     "text": [
      "Fetching data for movie ID tt0891577 from OMDb...\n",
      "Fetching data for movie ID tt1833841 from OMDb...\n"
     ]
    },
    {
     "name": "stderr",
     "output_type": "stream",
     "text": [
      "Fetching movie data:  50%|████████▉         | 1793/3591 [04:58<04:06,  7.29it/s]"
     ]
    },
    {
     "name": "stdout",
     "output_type": "stream",
     "text": [
      "Fetching data for movie ID tt0279288 from OMDb...\n",
      "Fetching data for movie ID tt0325771 from OMDb...\n"
     ]
    },
    {
     "name": "stderr",
     "output_type": "stream",
     "text": [
      "Fetching movie data:  50%|████████▉         | 1795/3591 [04:58<04:16,  6.99it/s]"
     ]
    },
    {
     "name": "stdout",
     "output_type": "stream",
     "text": [
      "Fetching data for movie ID tt2880532 from OMDb...\n",
      "Fetching data for movie ID tt1617154 from OMDb...\n"
     ]
    },
    {
     "name": "stderr",
     "output_type": "stream",
     "text": [
      "Fetching movie data:  50%|█████████         | 1797/3591 [04:58<04:25,  6.76it/s]"
     ]
    },
    {
     "name": "stdout",
     "output_type": "stream",
     "text": [
      "Fetching data for movie ID tt1312180 from OMDb...\n",
      "Fetching data for movie ID tt2134100 from OMDb...\n"
     ]
    },
    {
     "name": "stderr",
     "output_type": "stream",
     "text": [
      "Fetching movie data:  50%|█████████         | 1799/3591 [04:59<04:23,  6.81it/s]"
     ]
    },
    {
     "name": "stdout",
     "output_type": "stream",
     "text": [
      "Fetching data for movie ID tt0284855 from OMDb...\n",
      "Fetching data for movie ID tt0347724 from OMDb...\n"
     ]
    },
    {
     "name": "stderr",
     "output_type": "stream",
     "text": [
      "Fetching movie data:  50%|█████████         | 1801/3591 [04:59<04:42,  6.33it/s]"
     ]
    },
    {
     "name": "stdout",
     "output_type": "stream",
     "text": [
      "Fetching data for movie ID tt0224832 from OMDb...\n",
      "Progress saved after 24400 movies.\n",
      "Fetching data for movie ID tt1621018 from OMDb...\n"
     ]
    },
    {
     "name": "stderr",
     "output_type": "stream",
     "text": [
      "Fetching movie data:  50%|█████████         | 1803/3591 [04:59<04:09,  7.17it/s]"
     ]
    },
    {
     "name": "stdout",
     "output_type": "stream",
     "text": [
      "Fetching data for movie ID tt1561472 from OMDb...\n",
      "Fetching data for movie ID tt2011063 from OMDb...\n"
     ]
    },
    {
     "name": "stderr",
     "output_type": "stream",
     "text": [
      "Fetching movie data:  50%|█████████         | 1805/3591 [05:00<04:22,  6.79it/s]"
     ]
    },
    {
     "name": "stdout",
     "output_type": "stream",
     "text": [
      "Fetching data for movie ID tt2659574 from OMDb...\n",
      "Fetching data for movie ID tt0376541 from OMDb...\n"
     ]
    },
    {
     "name": "stderr",
     "output_type": "stream",
     "text": [
      "Fetching movie data:  50%|█████████         | 1807/3591 [05:00<04:11,  7.10it/s]"
     ]
    },
    {
     "name": "stdout",
     "output_type": "stream",
     "text": [
      "Fetching data for movie ID tt1820508 from OMDb...\n",
      "Fetching data for movie ID tt3005616 from OMDb...\n"
     ]
    },
    {
     "name": "stderr",
     "output_type": "stream",
     "text": [
      "Fetching movie data:  50%|█████████         | 1809/3591 [05:00<04:07,  7.20it/s]"
     ]
    },
    {
     "name": "stdout",
     "output_type": "stream",
     "text": [
      "Fetching data for movie ID tt2569624 from OMDb...\n",
      "Fetching data for movie ID tt0396609 from OMDb...\n"
     ]
    },
    {
     "name": "stderr",
     "output_type": "stream",
     "text": [
      "Fetching movie data:  50%|█████████         | 1811/3591 [05:00<04:26,  6.68it/s]"
     ]
    },
    {
     "name": "stdout",
     "output_type": "stream",
     "text": [
      "Fetching data for movie ID tt0315355 from OMDb...\n",
      "Fetching data for movie ID tt1573843 from OMDb...\n"
     ]
    },
    {
     "name": "stderr",
     "output_type": "stream",
     "text": [
      "Fetching movie data:  50%|█████████         | 1813/3591 [05:01<04:08,  7.15it/s]"
     ]
    },
    {
     "name": "stdout",
     "output_type": "stream",
     "text": [
      "Fetching data for movie ID tt1284536 from OMDb...\n",
      "Fetching data for movie ID tt9060372 from OMDb...\n"
     ]
    },
    {
     "name": "stderr",
     "output_type": "stream",
     "text": [
      "Fetching movie data:  51%|█████████         | 1815/3591 [05:01<04:37,  6.40it/s]"
     ]
    },
    {
     "name": "stdout",
     "output_type": "stream",
     "text": [
      "Fetching data for movie ID tt2290823 from OMDb...\n",
      "Fetching data for movie ID tt1541886 from OMDb...\n"
     ]
    },
    {
     "name": "stderr",
     "output_type": "stream",
     "text": [
      "Fetching movie data:  51%|█████████         | 1817/3591 [05:01<04:53,  6.04it/s]"
     ]
    },
    {
     "name": "stdout",
     "output_type": "stream",
     "text": [
      "Fetching data for movie ID tt0309987 from OMDb...\n",
      "Fetching data for movie ID tt3741958 from OMDb...\n"
     ]
    },
    {
     "name": "stderr",
     "output_type": "stream",
     "text": [
      "Fetching movie data:  51%|█████████         | 1819/3591 [05:02<04:43,  6.25it/s]"
     ]
    },
    {
     "name": "stdout",
     "output_type": "stream",
     "text": [
      "Fetching data for movie ID tt9428246 from OMDb...\n",
      "Fetching data for movie ID tt1027836 from OMDb...\n"
     ]
    },
    {
     "name": "stderr",
     "output_type": "stream",
     "text": [
      "Fetching movie data:  51%|█████████▏        | 1821/3591 [05:02<04:34,  6.44it/s]"
     ]
    },
    {
     "name": "stdout",
     "output_type": "stream",
     "text": [
      "Fetching data for movie ID tt0342804 from OMDb...\n",
      "Fetching data for movie ID tt0410097 from OMDb...\n"
     ]
    },
    {
     "name": "stderr",
     "output_type": "stream",
     "text": [
      "Fetching movie data:  51%|█████████▏        | 1823/3591 [05:02<04:23,  6.70it/s]"
     ]
    },
    {
     "name": "stdout",
     "output_type": "stream",
     "text": [
      "Fetching data for movie ID tt1199563 from OMDb...\n",
      "Fetching data for movie ID tt1707249 from OMDb...\n"
     ]
    },
    {
     "name": "stderr",
     "output_type": "stream",
     "text": [
      "Fetching movie data:  51%|█████████▏        | 1825/3591 [05:03<04:34,  6.43it/s]"
     ]
    },
    {
     "name": "stdout",
     "output_type": "stream",
     "text": [
      "Fetching data for movie ID tt1684549 from OMDb...\n",
      "Fetching data for movie ID tt1948575 from OMDb...\n"
     ]
    },
    {
     "name": "stderr",
     "output_type": "stream",
     "text": [
      "Fetching movie data:  51%|█████████▏        | 1827/3591 [05:03<04:15,  6.90it/s]"
     ]
    },
    {
     "name": "stdout",
     "output_type": "stream",
     "text": [
      "Fetching data for movie ID tt0276269 from OMDb...\n",
      "Fetching data for movie ID tt2168820 from OMDb...\n"
     ]
    },
    {
     "name": "stderr",
     "output_type": "stream",
     "text": [
      "Fetching movie data:  51%|█████████▏        | 1829/3591 [05:03<04:04,  7.21it/s]"
     ]
    },
    {
     "name": "stdout",
     "output_type": "stream",
     "text": [
      "Fetching data for movie ID tt0494291 from OMDb...\n",
      "Fetching data for movie ID tt1647482 from OMDb...\n"
     ]
    },
    {
     "name": "stderr",
     "output_type": "stream",
     "text": [
      "Fetching movie data:  51%|█████████▏        | 1831/3591 [05:03<04:24,  6.65it/s]"
     ]
    },
    {
     "name": "stdout",
     "output_type": "stream",
     "text": [
      "Fetching data for movie ID tt1551617 from OMDb...\n",
      "Fetching data for movie ID tt1747909 from OMDb...\n"
     ]
    },
    {
     "name": "stderr",
     "output_type": "stream",
     "text": [
      "Fetching movie data:  51%|█████████▏        | 1833/3591 [05:04<04:15,  6.88it/s]"
     ]
    },
    {
     "name": "stdout",
     "output_type": "stream",
     "text": [
      "Fetching data for movie ID tt1619030 from OMDb...\n",
      "Fetching data for movie ID tt1479856 from OMDb...\n"
     ]
    },
    {
     "name": "stderr",
     "output_type": "stream",
     "text": [
      "Fetching movie data:  51%|█████████▏        | 1835/3591 [05:04<04:10,  7.02it/s]"
     ]
    },
    {
     "name": "stdout",
     "output_type": "stream",
     "text": [
      "Fetching data for movie ID tt0816466 from OMDb...\n",
      "Fetching data for movie ID tt0294475 from OMDb...\n"
     ]
    },
    {
     "name": "stderr",
     "output_type": "stream",
     "text": [
      "Fetching movie data:  51%|█████████▏        | 1837/3591 [05:04<04:02,  7.24it/s]"
     ]
    },
    {
     "name": "stdout",
     "output_type": "stream",
     "text": [
      "Fetching data for movie ID tt1856694 from OMDb...\n",
      "Fetching data for movie ID tt6420500 from OMDb...\n"
     ]
    },
    {
     "name": "stderr",
     "output_type": "stream",
     "text": [
      "Fetching movie data:  51%|█████████▏        | 1839/3591 [05:05<03:53,  7.52it/s]"
     ]
    },
    {
     "name": "stdout",
     "output_type": "stream",
     "text": [
      "Fetching data for movie ID tt1110233 from OMDb...\n",
      "Fetching data for movie ID tt1847552 from OMDb...\n"
     ]
    },
    {
     "name": "stderr",
     "output_type": "stream",
     "text": [
      "Fetching movie data:  51%|█████████▏        | 1841/3591 [05:05<03:56,  7.40it/s]"
     ]
    },
    {
     "name": "stdout",
     "output_type": "stream",
     "text": [
      "Fetching data for movie ID tt0350319 from OMDb...\n",
      "Fetching data for movie ID tt1774429 from OMDb...\n"
     ]
    },
    {
     "name": "stderr",
     "output_type": "stream",
     "text": [
      "Fetching movie data:  51%|█████████▏        | 1843/3591 [05:05<03:51,  7.55it/s]"
     ]
    },
    {
     "name": "stdout",
     "output_type": "stream",
     "text": [
      "Fetching data for movie ID tt6298116 from OMDb...\n",
      "Fetching data for movie ID tt27169839 from OMDb...\n"
     ]
    },
    {
     "name": "stderr",
     "output_type": "stream",
     "text": [
      "Fetching movie data:  51%|█████████▏        | 1845/3591 [05:05<05:10,  5.61it/s]"
     ]
    },
    {
     "name": "stdout",
     "output_type": "stream",
     "text": [
      "Fetching data for movie ID tt1270680 from OMDb...\n",
      "Fetching data for movie ID tt2137584 from OMDb...\n"
     ]
    },
    {
     "name": "stderr",
     "output_type": "stream",
     "text": [
      "Fetching movie data:  51%|█████████▎        | 1847/3591 [05:06<04:53,  5.94it/s]"
     ]
    },
    {
     "name": "stdout",
     "output_type": "stream",
     "text": [
      "Fetching data for movie ID tt1445786 from OMDb...\n",
      "Fetching data for movie ID tt1367351 from OMDb...\n"
     ]
    },
    {
     "name": "stderr",
     "output_type": "stream",
     "text": [
      "Fetching movie data:  51%|█████████▎        | 1849/3591 [05:06<04:53,  5.93it/s]"
     ]
    },
    {
     "name": "stdout",
     "output_type": "stream",
     "text": [
      "Fetching data for movie ID tt2262171 from OMDb...\n",
      "Fetching data for movie ID tt1413773 from OMDb...\n"
     ]
    },
    {
     "name": "stderr",
     "output_type": "stream",
     "text": [
      "Fetching movie data:  52%|█████████▎        | 1851/3591 [05:06<04:28,  6.48it/s]"
     ]
    },
    {
     "name": "stdout",
     "output_type": "stream",
     "text": [
      "Fetching data for movie ID tt0446345 from OMDb...\n",
      "Fetching data for movie ID tt1591607 from OMDb...\n"
     ]
    },
    {
     "name": "stderr",
     "output_type": "stream",
     "text": [
      "Fetching movie data:  52%|█████████▎        | 1853/3591 [05:07<04:36,  6.29it/s]"
     ]
    },
    {
     "name": "stdout",
     "output_type": "stream",
     "text": [
      "Fetching data for movie ID tt0483717 from OMDb...\n",
      "Fetching data for movie ID tt1337512 from OMDb...\n"
     ]
    },
    {
     "name": "stderr",
     "output_type": "stream",
     "text": [
      "Fetching movie data:  52%|█████████▎        | 1855/3591 [05:07<04:44,  6.10it/s]"
     ]
    },
    {
     "name": "stdout",
     "output_type": "stream",
     "text": [
      "Fetching data for movie ID tt1912421 from OMDb...\n",
      "Fetching data for movie ID tt2233268 from OMDb...\n"
     ]
    },
    {
     "name": "stderr",
     "output_type": "stream",
     "text": [
      "Fetching movie data:  52%|█████████▎        | 1857/3591 [05:07<04:54,  5.89it/s]"
     ]
    },
    {
     "name": "stdout",
     "output_type": "stream",
     "text": [
      "Fetching data for movie ID tt1756727 from OMDb...\n",
      "Fetching data for movie ID tt2381373 from OMDb...\n"
     ]
    },
    {
     "name": "stderr",
     "output_type": "stream",
     "text": [
      "Fetching movie data:  52%|█████████▎        | 1859/3591 [05:08<04:55,  5.85it/s]"
     ]
    },
    {
     "name": "stdout",
     "output_type": "stream",
     "text": [
      "Fetching data for movie ID tt0814221 from OMDb...\n",
      "Fetching data for movie ID tt1168773 from OMDb...\n"
     ]
    },
    {
     "name": "stderr",
     "output_type": "stream",
     "text": [
      "Fetching movie data:  52%|█████████▎        | 1861/3591 [05:08<04:16,  6.73it/s]"
     ]
    },
    {
     "name": "stdout",
     "output_type": "stream",
     "text": [
      "Fetching data for movie ID tt1906428 from OMDb...\n",
      "Fetching data for movie ID tt1520902 from OMDb...\n"
     ]
    },
    {
     "name": "stderr",
     "output_type": "stream",
     "text": [
      "Fetching movie data:  52%|█████████▎        | 1863/3591 [05:08<04:23,  6.57it/s]"
     ]
    },
    {
     "name": "stdout",
     "output_type": "stream",
     "text": [
      "Fetching data for movie ID tt2057956 from OMDb...\n",
      "Fetching data for movie ID tt0260688 from OMDb...\n"
     ]
    },
    {
     "name": "stderr",
     "output_type": "stream",
     "text": [
      "Fetching movie data:  52%|█████████▎        | 1865/3591 [05:09<04:18,  6.67it/s]"
     ]
    },
    {
     "name": "stdout",
     "output_type": "stream",
     "text": [
      "Fetching data for movie ID tt1244754 from OMDb...\n",
      "Fetching data for movie ID tt0436399 from OMDb...\n"
     ]
    },
    {
     "name": "stderr",
     "output_type": "stream",
     "text": [
      "Fetching movie data:  52%|█████████▎        | 1867/3591 [05:09<04:14,  6.78it/s]"
     ]
    },
    {
     "name": "stdout",
     "output_type": "stream",
     "text": [
      "Fetching data for movie ID tt6984304 from OMDb...\n",
      "Fetching data for movie ID tt4792712 from OMDb...\n"
     ]
    },
    {
     "name": "stderr",
     "output_type": "stream",
     "text": [
      "Fetching movie data:  52%|█████████▎        | 1869/3591 [05:09<04:07,  6.96it/s]"
     ]
    },
    {
     "name": "stdout",
     "output_type": "stream",
     "text": [
      "Fetching data for movie ID tt1230582 from OMDb...\n",
      "Fetching data for movie ID tt1210812 from OMDb...\n"
     ]
    },
    {
     "name": "stderr",
     "output_type": "stream",
     "text": [
      "Fetching movie data:  52%|█████████▍        | 1871/3591 [05:10<04:10,  6.86it/s]"
     ]
    },
    {
     "name": "stdout",
     "output_type": "stream",
     "text": [
      "Fetching data for movie ID tt0464141 from OMDb...\n",
      "Fetching data for movie ID tt3208592 from OMDb...\n"
     ]
    },
    {
     "name": "stderr",
     "output_type": "stream",
     "text": [
      "Fetching movie data:  52%|█████████▍        | 1873/3591 [05:10<03:44,  7.64it/s]"
     ]
    },
    {
     "name": "stdout",
     "output_type": "stream",
     "text": [
      "Fetching data for movie ID tt1340625 from OMDb...\n",
      "Fetching data for movie ID tt1907699 from OMDb...\n"
     ]
    },
    {
     "name": "stderr",
     "output_type": "stream",
     "text": [
      "Fetching movie data:  52%|█████████▍        | 1875/3591 [05:10<03:53,  7.33it/s]"
     ]
    },
    {
     "name": "stdout",
     "output_type": "stream",
     "text": [
      "Fetching data for movie ID tt6443702 from OMDb...\n",
      "Fetching data for movie ID tt2195968 from OMDb...\n"
     ]
    },
    {
     "name": "stderr",
     "output_type": "stream",
     "text": [
      "Fetching movie data:  52%|█████████▍        | 1877/3591 [05:10<04:11,  6.80it/s]"
     ]
    },
    {
     "name": "stdout",
     "output_type": "stream",
     "text": [
      "Fetching data for movie ID tt0309047 from OMDb...\n",
      "Fetching data for movie ID tt0458033 from OMDb...\n"
     ]
    },
    {
     "name": "stderr",
     "output_type": "stream",
     "text": [
      "Fetching movie data:  52%|█████████▍        | 1879/3591 [05:11<04:02,  7.07it/s]"
     ]
    },
    {
     "name": "stdout",
     "output_type": "stream",
     "text": [
      "Fetching data for movie ID tt1703839 from OMDb...\n",
      "Fetching data for movie ID tt3109612 from OMDb...\n"
     ]
    },
    {
     "name": "stderr",
     "output_type": "stream",
     "text": [
      "Fetching movie data:  52%|█████████▍        | 1881/3591 [05:11<04:07,  6.90it/s]"
     ]
    },
    {
     "name": "stdout",
     "output_type": "stream",
     "text": [
      "Fetching data for movie ID tt2213938 from OMDb...\n",
      "Fetching data for movie ID tt24330716 from OMDb...\n"
     ]
    },
    {
     "name": "stderr",
     "output_type": "stream",
     "text": [
      "Fetching movie data:  52%|█████████▍        | 1883/3591 [05:11<03:45,  7.58it/s]"
     ]
    },
    {
     "name": "stdout",
     "output_type": "stream",
     "text": [
      "Fetching data for movie ID tt2972098 from OMDb...\n",
      "Fetching data for movie ID tt1210076 from OMDb...\n"
     ]
    },
    {
     "name": "stderr",
     "output_type": "stream",
     "text": [
      "Fetching movie data:  52%|█████████▍        | 1885/3591 [05:11<03:48,  7.45it/s]"
     ]
    },
    {
     "name": "stdout",
     "output_type": "stream",
     "text": [
      "Fetching data for movie ID tt1748174 from OMDb...\n",
      "Fetching data for movie ID tt2066896 from OMDb...\n"
     ]
    },
    {
     "name": "stderr",
     "output_type": "stream",
     "text": [
      "Fetching movie data:  53%|█████████▍        | 1887/3591 [05:12<04:10,  6.79it/s]"
     ]
    },
    {
     "name": "stdout",
     "output_type": "stream",
     "text": [
      "Fetching data for movie ID tt2654360 from OMDb...\n",
      "Fetching data for movie ID tt1641242 from OMDb...\n"
     ]
    },
    {
     "name": "stderr",
     "output_type": "stream",
     "text": [
      "Fetching movie data:  53%|█████████▍        | 1889/3591 [05:12<03:55,  7.21it/s]"
     ]
    },
    {
     "name": "stdout",
     "output_type": "stream",
     "text": [
      "Fetching data for movie ID tt0293559 from OMDb...\n",
      "Fetching data for movie ID tt1556041 from OMDb...\n"
     ]
    },
    {
     "name": "stderr",
     "output_type": "stream",
     "text": [
      "Fetching movie data:  53%|█████████▍        | 1891/3591 [05:12<03:57,  7.16it/s]"
     ]
    },
    {
     "name": "stdout",
     "output_type": "stream",
     "text": [
      "Fetching data for movie ID tt1482159 from OMDb...\n",
      "Fetching data for movie ID tt3310974 from OMDb...\n"
     ]
    },
    {
     "name": "stderr",
     "output_type": "stream",
     "text": [
      "Fetching movie data:  53%|█████████▍        | 1893/3591 [05:13<04:07,  6.87it/s]"
     ]
    },
    {
     "name": "stdout",
     "output_type": "stream",
     "text": [
      "Fetching data for movie ID tt1620620 from OMDb...\n",
      "Fetching data for movie ID tt2423054 from OMDb...\n"
     ]
    },
    {
     "name": "stderr",
     "output_type": "stream",
     "text": [
      "Fetching movie data:  53%|█████████▍        | 1895/3591 [05:13<03:53,  7.25it/s]"
     ]
    },
    {
     "name": "stdout",
     "output_type": "stream",
     "text": [
      "Fetching data for movie ID tt0482444 from OMDb...\n",
      "Fetching data for movie ID tt3347444 from OMDb...\n"
     ]
    },
    {
     "name": "stderr",
     "output_type": "stream",
     "text": [
      "Fetching movie data:  53%|█████████▌        | 1897/3591 [05:13<03:48,  7.40it/s]"
     ]
    },
    {
     "name": "stdout",
     "output_type": "stream",
     "text": [
      "Fetching data for movie ID tt1075110 from OMDb...\n",
      "Fetching data for movie ID tt1255858 from OMDb...\n"
     ]
    },
    {
     "name": "stderr",
     "output_type": "stream",
     "text": [
      "Fetching movie data:  53%|█████████▌        | 1899/3591 [05:13<03:48,  7.39it/s]"
     ]
    },
    {
     "name": "stdout",
     "output_type": "stream",
     "text": [
      "Fetching data for movie ID tt1907632 from OMDb...\n",
      "Fetching data for movie ID tt0162222 from OMDb...\n"
     ]
    },
    {
     "name": "stderr",
     "output_type": "stream",
     "text": [
      "Fetching movie data:  53%|█████████▌        | 1900/3591 [05:14<04:10,  6.75it/s]"
     ]
    },
    {
     "name": "stdout",
     "output_type": "stream",
     "text": [
      "Fetching data for movie ID tt1392170 from OMDb...\n"
     ]
    },
    {
     "name": "stderr",
     "output_type": "stream",
     "text": [
      "Fetching movie data:  53%|█████████▌        | 1902/3591 [05:14<04:25,  6.37it/s]"
     ]
    },
    {
     "name": "stdout",
     "output_type": "stream",
     "text": [
      "Progress saved after 24500 movies.\n",
      "Fetching data for movie ID tt2374969 from OMDb...\n",
      "Fetching data for movie ID tt2734602 from OMDb...\n"
     ]
    },
    {
     "name": "stderr",
     "output_type": "stream",
     "text": [
      "Fetching movie data:  53%|█████████▌        | 1904/3591 [05:14<03:54,  7.20it/s]"
     ]
    },
    {
     "name": "stdout",
     "output_type": "stream",
     "text": [
      "Fetching data for movie ID tt2079591 from OMDb...\n",
      "Fetching data for movie ID tt0278976 from OMDb...\n"
     ]
    },
    {
     "name": "stderr",
     "output_type": "stream",
     "text": [
      "Fetching movie data:  53%|█████████▌        | 1906/3591 [05:15<04:25,  6.36it/s]"
     ]
    },
    {
     "name": "stdout",
     "output_type": "stream",
     "text": [
      "Fetching data for movie ID tt2084960 from OMDb...\n",
      "Fetching data for movie ID tt1397086 from OMDb...\n"
     ]
    },
    {
     "name": "stderr",
     "output_type": "stream",
     "text": [
      "Fetching movie data:  53%|█████████▌        | 1908/3591 [05:15<04:02,  6.93it/s]"
     ]
    },
    {
     "name": "stdout",
     "output_type": "stream",
     "text": [
      "Fetching data for movie ID tt1954473 from OMDb...\n",
      "Fetching data for movie ID tt1670686 from OMDb...\n"
     ]
    },
    {
     "name": "stderr",
     "output_type": "stream",
     "text": [
      "Fetching movie data:  53%|█████████▌        | 1910/3591 [05:15<03:32,  7.90it/s]"
     ]
    },
    {
     "name": "stdout",
     "output_type": "stream",
     "text": [
      "Fetching data for movie ID tt8237880 from OMDb...\n",
      "Fetching data for movie ID tt1526742 from OMDb...\n"
     ]
    },
    {
     "name": "stderr",
     "output_type": "stream",
     "text": [
      "Fetching movie data:  53%|█████████▌        | 1912/3591 [05:15<03:38,  7.69it/s]"
     ]
    },
    {
     "name": "stdout",
     "output_type": "stream",
     "text": [
      "Fetching data for movie ID tt0284187 from OMDb...\n",
      "Fetching data for movie ID tt1801537 from OMDb...\n"
     ]
    },
    {
     "name": "stderr",
     "output_type": "stream",
     "text": [
      "Fetching movie data:  53%|█████████▌        | 1914/3591 [05:16<03:33,  7.85it/s]"
     ]
    },
    {
     "name": "stdout",
     "output_type": "stream",
     "text": [
      "Fetching data for movie ID tt0465635 from OMDb...\n",
      "Fetching data for movie ID tt2516336 from OMDb...\n"
     ]
    },
    {
     "name": "stderr",
     "output_type": "stream",
     "text": [
      "Fetching movie data:  53%|█████████▌        | 1916/3591 [05:16<04:32,  6.14it/s]"
     ]
    },
    {
     "name": "stdout",
     "output_type": "stream",
     "text": [
      "Fetching data for movie ID tt0282220 from OMDb...\n",
      "Fetching data for movie ID tt3020814 from OMDb...\n"
     ]
    },
    {
     "name": "stderr",
     "output_type": "stream",
     "text": [
      "Fetching movie data:  53%|█████████▌        | 1918/3591 [05:16<04:27,  6.26it/s]"
     ]
    },
    {
     "name": "stdout",
     "output_type": "stream",
     "text": [
      "Fetching data for movie ID tt2093091 from OMDb...\n",
      "Fetching data for movie ID tt0398273 from OMDb...\n"
     ]
    },
    {
     "name": "stderr",
     "output_type": "stream",
     "text": [
      "Fetching movie data:  53%|█████████▌        | 1920/3591 [05:17<04:00,  6.96it/s]"
     ]
    },
    {
     "name": "stdout",
     "output_type": "stream",
     "text": [
      "Fetching data for movie ID tt2386536 from OMDb...\n",
      "Fetching data for movie ID tt1075006 from OMDb...\n"
     ]
    },
    {
     "name": "stderr",
     "output_type": "stream",
     "text": [
      "Fetching movie data:  54%|█████████▋        | 1922/3591 [05:17<03:57,  7.02it/s]"
     ]
    },
    {
     "name": "stdout",
     "output_type": "stream",
     "text": [
      "Fetching data for movie ID tt0310793 from OMDb...\n",
      "Fetching data for movie ID tt0845448 from OMDb...\n"
     ]
    },
    {
     "name": "stderr",
     "output_type": "stream",
     "text": [
      "Fetching movie data:  54%|█████████▋        | 1924/3591 [05:17<04:19,  6.41it/s]"
     ]
    },
    {
     "name": "stdout",
     "output_type": "stream",
     "text": [
      "Fetching data for movie ID tt0892375 from OMDb...\n",
      "Fetching data for movie ID tt2310039 from OMDb...\n"
     ]
    },
    {
     "name": "stderr",
     "output_type": "stream",
     "text": [
      "Fetching movie data:  54%|█████████▋        | 1926/3591 [05:17<04:03,  6.83it/s]"
     ]
    },
    {
     "name": "stdout",
     "output_type": "stream",
     "text": [
      "Fetching data for movie ID tt0451090 from OMDb...\n",
      "Fetching data for movie ID tt0396550 from OMDb...\n"
     ]
    },
    {
     "name": "stderr",
     "output_type": "stream",
     "text": [
      "Fetching movie data:  54%|█████████▋        | 1928/3591 [05:18<04:13,  6.55it/s]"
     ]
    },
    {
     "name": "stdout",
     "output_type": "stream",
     "text": [
      "Fetching data for movie ID tt3096088 from OMDb...\n",
      "Fetching data for movie ID tt3478444 from OMDb...\n"
     ]
    },
    {
     "name": "stderr",
     "output_type": "stream",
     "text": [
      "Fetching movie data:  54%|█████████▋        | 1930/3591 [05:18<03:48,  7.26it/s]"
     ]
    },
    {
     "name": "stdout",
     "output_type": "stream",
     "text": [
      "Fetching data for movie ID tt1773522 from OMDb...\n",
      "Fetching data for movie ID tt6474086 from OMDb...\n"
     ]
    },
    {
     "name": "stderr",
     "output_type": "stream",
     "text": [
      "Fetching movie data:  54%|█████████▋        | 1932/3591 [05:18<03:54,  7.06it/s]"
     ]
    },
    {
     "name": "stdout",
     "output_type": "stream",
     "text": [
      "Fetching data for movie ID tt1704181 from OMDb...\n",
      "Fetching data for movie ID tt0830838 from OMDb...\n"
     ]
    },
    {
     "name": "stderr",
     "output_type": "stream",
     "text": [
      "Fetching movie data:  54%|█████████▋        | 1934/3591 [05:19<03:52,  7.12it/s]"
     ]
    },
    {
     "name": "stdout",
     "output_type": "stream",
     "text": [
      "Fetching data for movie ID tt0478969 from OMDb...\n",
      "Fetching data for movie ID tt2506390 from OMDb...\n"
     ]
    },
    {
     "name": "stderr",
     "output_type": "stream",
     "text": [
      "Fetching movie data:  54%|█████████▋        | 1936/3591 [05:19<03:58,  6.95it/s]"
     ]
    },
    {
     "name": "stdout",
     "output_type": "stream",
     "text": [
      "Fetching data for movie ID tt2350514 from OMDb...\n",
      "Fetching data for movie ID tt1128082 from OMDb...\n"
     ]
    },
    {
     "name": "stderr",
     "output_type": "stream",
     "text": [
      "Fetching movie data:  54%|█████████▋        | 1938/3591 [05:19<04:13,  6.52it/s]"
     ]
    },
    {
     "name": "stdout",
     "output_type": "stream",
     "text": [
      "Fetching data for movie ID tt0404045 from OMDb...\n",
      "Fetching data for movie ID tt1773443 from OMDb...\n"
     ]
    },
    {
     "name": "stderr",
     "output_type": "stream",
     "text": [
      "Fetching movie data:  54%|█████████▋        | 1940/3591 [05:19<04:04,  6.75it/s]"
     ]
    },
    {
     "name": "stdout",
     "output_type": "stream",
     "text": [
      "Fetching data for movie ID tt1469290 from OMDb...\n",
      "Fetching data for movie ID tt0855705 from OMDb...\n"
     ]
    },
    {
     "name": "stderr",
     "output_type": "stream",
     "text": [
      "Fetching movie data:  54%|█████████▋        | 1942/3591 [05:20<03:56,  6.97it/s]"
     ]
    },
    {
     "name": "stdout",
     "output_type": "stream",
     "text": [
      "Fetching data for movie ID tt1161037 from OMDb...\n",
      "Fetching data for movie ID tt0764234 from OMDb...\n"
     ]
    },
    {
     "name": "stderr",
     "output_type": "stream",
     "text": [
      "Fetching movie data:  54%|█████████▋        | 1944/3591 [05:20<03:46,  7.28it/s]"
     ]
    },
    {
     "name": "stdout",
     "output_type": "stream",
     "text": [
      "Fetching data for movie ID tt1113727 from OMDb...\n",
      "Fetching data for movie ID tt2124953 from OMDb...\n"
     ]
    },
    {
     "name": "stderr",
     "output_type": "stream",
     "text": [
      "Fetching movie data:  54%|█████████▊        | 1946/3591 [05:20<03:37,  7.58it/s]"
     ]
    },
    {
     "name": "stdout",
     "output_type": "stream",
     "text": [
      "Fetching data for movie ID tt1870507 from OMDb...\n",
      "Fetching data for movie ID tt2571226 from OMDb...\n"
     ]
    },
    {
     "name": "stderr",
     "output_type": "stream",
     "text": [
      "Fetching movie data:  54%|█████████▊        | 1948/3591 [05:21<03:35,  7.62it/s]"
     ]
    },
    {
     "name": "stdout",
     "output_type": "stream",
     "text": [
      "Fetching data for movie ID tt1324018 from OMDb...\n",
      "Fetching data for movie ID tt1522229 from OMDb...\n"
     ]
    },
    {
     "name": "stderr",
     "output_type": "stream",
     "text": [
      "Fetching movie data:  54%|█████████▊        | 1950/3591 [05:21<04:17,  6.37it/s]"
     ]
    },
    {
     "name": "stdout",
     "output_type": "stream",
     "text": [
      "Fetching data for movie ID tt1756779 from OMDb...\n",
      "Fetching data for movie ID tt1542406 from OMDb...\n"
     ]
    },
    {
     "name": "stderr",
     "output_type": "stream",
     "text": [
      "Fetching movie data:  54%|█████████▊        | 1952/3591 [05:21<04:09,  6.56it/s]"
     ]
    },
    {
     "name": "stdout",
     "output_type": "stream",
     "text": [
      "Fetching data for movie ID tt3157780 from OMDb...\n",
      "Fetching data for movie ID tt3151724 from OMDb...\n"
     ]
    },
    {
     "name": "stderr",
     "output_type": "stream",
     "text": [
      "Fetching movie data:  54%|█████████▊        | 1954/3591 [05:21<04:00,  6.81it/s]"
     ]
    },
    {
     "name": "stdout",
     "output_type": "stream",
     "text": [
      "Fetching data for movie ID tt0299027 from OMDb...\n",
      "Fetching data for movie ID tt1502860 from OMDb...\n"
     ]
    },
    {
     "name": "stderr",
     "output_type": "stream",
     "text": [
      "Fetching movie data:  54%|█████████▊        | 1956/3591 [05:22<04:08,  6.58it/s]"
     ]
    },
    {
     "name": "stdout",
     "output_type": "stream",
     "text": [
      "Fetching data for movie ID tt6094354 from OMDb...\n",
      "Fetching data for movie ID tt0794333 from OMDb...\n"
     ]
    },
    {
     "name": "stderr",
     "output_type": "stream",
     "text": [
      "Fetching movie data:  55%|█████████▊        | 1958/3591 [05:22<03:55,  6.95it/s]"
     ]
    },
    {
     "name": "stdout",
     "output_type": "stream",
     "text": [
      "Fetching data for movie ID tt1272037 from OMDb...\n",
      "Fetching data for movie ID tt0330373 from OMDb...\n"
     ]
    },
    {
     "name": "stderr",
     "output_type": "stream",
     "text": [
      "Fetching movie data:  55%|█████████▊        | 1960/3591 [05:22<03:57,  6.87it/s]"
     ]
    },
    {
     "name": "stdout",
     "output_type": "stream",
     "text": [
      "Fetching data for movie ID tt1658811 from OMDb...\n",
      "Fetching data for movie ID tt1700437 from OMDb...\n"
     ]
    },
    {
     "name": "stderr",
     "output_type": "stream",
     "text": [
      "Fetching movie data:  55%|█████████▊        | 1962/3591 [05:23<04:01,  6.75it/s]"
     ]
    },
    {
     "name": "stdout",
     "output_type": "stream",
     "text": [
      "Fetching data for movie ID tt0460734 from OMDb...\n",
      "Fetching data for movie ID tt1756757 from OMDb...\n"
     ]
    },
    {
     "name": "stderr",
     "output_type": "stream",
     "text": [
      "Fetching movie data:  55%|█████████▊        | 1964/3591 [05:23<04:24,  6.15it/s]"
     ]
    },
    {
     "name": "stdout",
     "output_type": "stream",
     "text": [
      "Fetching data for movie ID tt2987966 from OMDb...\n",
      "Fetching data for movie ID tt1534470 from OMDb...\n"
     ]
    },
    {
     "name": "stderr",
     "output_type": "stream",
     "text": [
      "Fetching movie data:  55%|█████████▊        | 1966/3591 [05:23<04:07,  6.57it/s]"
     ]
    },
    {
     "name": "stdout",
     "output_type": "stream",
     "text": [
      "Fetching data for movie ID tt1390842 from OMDb...\n",
      "Fetching data for movie ID tt1757656 from OMDb...\n"
     ]
    },
    {
     "name": "stderr",
     "output_type": "stream",
     "text": [
      "Fetching movie data:  55%|█████████▊        | 1967/3591 [05:23<04:00,  6.75it/s]"
     ]
    },
    {
     "name": "stdout",
     "output_type": "stream",
     "text": [
      "Fetching data for movie ID tt2350608 from OMDb...\n"
     ]
    },
    {
     "name": "stderr",
     "output_type": "stream",
     "text": [
      "Fetching movie data:  55%|█████████▊        | 1969/3591 [05:24<04:09,  6.50it/s]"
     ]
    },
    {
     "name": "stdout",
     "output_type": "stream",
     "text": [
      "Fetching data for movie ID tt0239102 from OMDb...\n",
      "Fetching data for movie ID tt1076250 from OMDb...\n"
     ]
    },
    {
     "name": "stderr",
     "output_type": "stream",
     "text": [
      "Fetching movie data:  55%|█████████▉        | 1971/3591 [05:24<04:29,  6.02it/s]"
     ]
    },
    {
     "name": "stdout",
     "output_type": "stream",
     "text": [
      "Fetching data for movie ID tt1338592 from OMDb...\n",
      "Fetching data for movie ID tt2231083 from OMDb...\n"
     ]
    },
    {
     "name": "stderr",
     "output_type": "stream",
     "text": [
      "Fetching movie data:  55%|█████████▉        | 1973/3591 [05:24<04:04,  6.61it/s]"
     ]
    },
    {
     "name": "stdout",
     "output_type": "stream",
     "text": [
      "Fetching data for movie ID tt0915474 from OMDb...\n",
      "Fetching data for movie ID tt0405096 from OMDb...\n"
     ]
    },
    {
     "name": "stderr",
     "output_type": "stream",
     "text": [
      "Fetching movie data:  55%|█████████▉        | 1975/3591 [05:25<03:52,  6.96it/s]"
     ]
    },
    {
     "name": "stdout",
     "output_type": "stream",
     "text": [
      "Fetching data for movie ID tt1152256 from OMDb...\n",
      "Fetching data for movie ID tt1352753 from OMDb...\n"
     ]
    },
    {
     "name": "stderr",
     "output_type": "stream",
     "text": [
      "Fetching movie data:  55%|█████████▉        | 1977/3591 [05:25<04:05,  6.57it/s]"
     ]
    },
    {
     "name": "stdout",
     "output_type": "stream",
     "text": [
      "Fetching data for movie ID tt2020057 from OMDb...\n",
      "Fetching data for movie ID tt3922188 from OMDb...\n"
     ]
    },
    {
     "name": "stderr",
     "output_type": "stream",
     "text": [
      "Fetching movie data:  55%|█████████▉        | 1979/3591 [05:25<03:58,  6.76it/s]"
     ]
    },
    {
     "name": "stdout",
     "output_type": "stream",
     "text": [
      "Fetching data for movie ID tt0808506 from OMDb...\n",
      "Fetching data for movie ID tt1176096 from OMDb...\n"
     ]
    },
    {
     "name": "stderr",
     "output_type": "stream",
     "text": [
      "Fetching movie data:  55%|█████████▉        | 1981/3591 [05:26<04:07,  6.52it/s]"
     ]
    },
    {
     "name": "stdout",
     "output_type": "stream",
     "text": [
      "Fetching data for movie ID tt1735286 from OMDb...\n",
      "Fetching data for movie ID tt3045760 from OMDb...\n"
     ]
    },
    {
     "name": "stderr",
     "output_type": "stream",
     "text": [
      "Fetching movie data:  55%|█████████▉        | 1983/3591 [05:26<03:38,  7.35it/s]"
     ]
    },
    {
     "name": "stdout",
     "output_type": "stream",
     "text": [
      "Fetching data for movie ID tt2194724 from OMDb...\n",
      "Fetching data for movie ID tt0270320 from OMDb...\n"
     ]
    },
    {
     "name": "stderr",
     "output_type": "stream",
     "text": [
      "Fetching movie data:  55%|█████████▉        | 1985/3591 [05:26<03:32,  7.57it/s]"
     ]
    },
    {
     "name": "stdout",
     "output_type": "stream",
     "text": [
      "Fetching data for movie ID tt2919776 from OMDb...\n",
      "Fetching data for movie ID tt1320085 from OMDb...\n"
     ]
    },
    {
     "name": "stderr",
     "output_type": "stream",
     "text": [
      "Fetching movie data:  55%|█████████▉        | 1987/3591 [05:26<03:56,  6.79it/s]"
     ]
    },
    {
     "name": "stdout",
     "output_type": "stream",
     "text": [
      "Fetching data for movie ID tt2419934 from OMDb...\n",
      "Fetching data for movie ID tt1270847 from OMDb...\n"
     ]
    },
    {
     "name": "stderr",
     "output_type": "stream",
     "text": [
      "Fetching movie data:  55%|█████████▉        | 1989/3591 [05:27<04:05,  6.52it/s]"
     ]
    },
    {
     "name": "stdout",
     "output_type": "stream",
     "text": [
      "Fetching data for movie ID tt2316827 from OMDb...\n",
      "Fetching data for movie ID tt1910508 from OMDb...\n"
     ]
    },
    {
     "name": "stderr",
     "output_type": "stream",
     "text": [
      "Fetching movie data:  55%|█████████▉        | 1991/3591 [05:27<03:43,  7.17it/s]"
     ]
    },
    {
     "name": "stdout",
     "output_type": "stream",
     "text": [
      "Fetching data for movie ID tt1325758 from OMDb...\n",
      "Fetching data for movie ID tt0452188 from OMDb...\n"
     ]
    },
    {
     "name": "stderr",
     "output_type": "stream",
     "text": [
      "Fetching movie data:  55%|█████████▉        | 1993/3591 [05:27<04:20,  6.13it/s]"
     ]
    },
    {
     "name": "stdout",
     "output_type": "stream",
     "text": [
      "Fetching data for movie ID tt1854518 from OMDb...\n",
      "Fetching data for movie ID tt1895476 from OMDb...\n"
     ]
    },
    {
     "name": "stderr",
     "output_type": "stream",
     "text": [
      "Fetching movie data:  56%|██████████        | 1995/3591 [05:28<04:07,  6.44it/s]"
     ]
    },
    {
     "name": "stdout",
     "output_type": "stream",
     "text": [
      "Fetching data for movie ID tt0491687 from OMDb...\n",
      "Fetching data for movie ID tt0181594 from OMDb...\n"
     ]
    },
    {
     "name": "stderr",
     "output_type": "stream",
     "text": [
      "Fetching movie data:  56%|██████████        | 1997/3591 [05:28<04:14,  6.26it/s]"
     ]
    },
    {
     "name": "stdout",
     "output_type": "stream",
     "text": [
      "Fetching data for movie ID tt1763245 from OMDb...\n",
      "Fetching data for movie ID tt0819620 from OMDb...\n"
     ]
    },
    {
     "name": "stderr",
     "output_type": "stream",
     "text": [
      "Fetching movie data:  56%|██████████        | 1999/3591 [05:28<03:56,  6.73it/s]"
     ]
    },
    {
     "name": "stdout",
     "output_type": "stream",
     "text": [
      "Fetching data for movie ID tt1647455 from OMDb...\n",
      "Fetching data for movie ID tt2071483 from OMDb...\n"
     ]
    },
    {
     "name": "stderr",
     "output_type": "stream",
     "text": [
      "Fetching movie data:  56%|██████████        | 2001/3591 [05:29<04:22,  6.05it/s]"
     ]
    },
    {
     "name": "stdout",
     "output_type": "stream",
     "text": [
      "Fetching data for movie ID tt1836001 from OMDb...\n",
      "Progress saved after 24600 movies.\n",
      "Fetching data for movie ID tt0418612 from OMDb...\n"
     ]
    },
    {
     "name": "stderr",
     "output_type": "stream",
     "text": [
      "Fetching movie data:  56%|██████████        | 2003/3591 [05:29<03:39,  7.23it/s]"
     ]
    },
    {
     "name": "stdout",
     "output_type": "stream",
     "text": [
      "Fetching data for movie ID tt0434124 from OMDb...\n",
      "Fetching data for movie ID tt0497420 from OMDb...\n"
     ]
    },
    {
     "name": "stderr",
     "output_type": "stream",
     "text": [
      "Fetching movie data:  56%|██████████        | 2005/3591 [05:29<03:54,  6.76it/s]"
     ]
    },
    {
     "name": "stdout",
     "output_type": "stream",
     "text": [
      "Fetching data for movie ID tt0395173 from OMDb...\n",
      "Fetching data for movie ID tt0886517 from OMDb...\n"
     ]
    },
    {
     "name": "stderr",
     "output_type": "stream",
     "text": [
      "Fetching movie data:  56%|██████████        | 2007/3591 [05:29<03:45,  7.03it/s]"
     ]
    },
    {
     "name": "stdout",
     "output_type": "stream",
     "text": [
      "Fetching data for movie ID tt10721196 from OMDb...\n",
      "Fetching data for movie ID tt2100579 from OMDb...\n"
     ]
    },
    {
     "name": "stderr",
     "output_type": "stream",
     "text": [
      "Fetching movie data:  56%|██████████        | 2009/3591 [05:30<04:01,  6.56it/s]"
     ]
    },
    {
     "name": "stdout",
     "output_type": "stream",
     "text": [
      "Fetching data for movie ID tt2165723 from OMDb...\n",
      "Fetching data for movie ID tt0427282 from OMDb...\n"
     ]
    },
    {
     "name": "stderr",
     "output_type": "stream",
     "text": [
      "Fetching movie data:  56%|██████████        | 2011/3591 [05:30<04:06,  6.40it/s]"
     ]
    },
    {
     "name": "stdout",
     "output_type": "stream",
     "text": [
      "Fetching data for movie ID tt1201026 from OMDb...\n",
      "Fetching data for movie ID tt3849124 from OMDb...\n"
     ]
    },
    {
     "name": "stderr",
     "output_type": "stream",
     "text": [
      "Fetching movie data:  56%|██████████        | 2013/3591 [05:30<04:02,  6.51it/s]"
     ]
    },
    {
     "name": "stdout",
     "output_type": "stream",
     "text": [
      "Fetching data for movie ID tt2626480 from OMDb...\n",
      "Fetching data for movie ID tt1511471 from OMDb...\n"
     ]
    },
    {
     "name": "stderr",
     "output_type": "stream",
     "text": [
      "Fetching movie data:  56%|██████████        | 2015/3591 [05:31<04:03,  6.47it/s]"
     ]
    },
    {
     "name": "stdout",
     "output_type": "stream",
     "text": [
      "Fetching data for movie ID tt1358586 from OMDb...\n",
      "Fetching data for movie ID tt1961438 from OMDb...\n"
     ]
    },
    {
     "name": "stderr",
     "output_type": "stream",
     "text": [
      "Fetching movie data:  56%|██████████        | 2017/3591 [05:31<04:08,  6.34it/s]"
     ]
    },
    {
     "name": "stdout",
     "output_type": "stream",
     "text": [
      "Fetching data for movie ID tt0969269 from OMDb...\n",
      "Fetching data for movie ID tt1433555 from OMDb...\n"
     ]
    },
    {
     "name": "stderr",
     "output_type": "stream",
     "text": [
      "Fetching movie data:  56%|██████████        | 2019/3591 [05:31<03:52,  6.78it/s]"
     ]
    },
    {
     "name": "stdout",
     "output_type": "stream",
     "text": [
      "Fetching data for movie ID tt2161355 from OMDb...\n",
      "Fetching data for movie ID tt2462954 from OMDb...\n"
     ]
    },
    {
     "name": "stderr",
     "output_type": "stream",
     "text": [
      "Fetching movie data:  56%|██████████▏       | 2021/3591 [05:32<03:55,  6.67it/s]"
     ]
    },
    {
     "name": "stdout",
     "output_type": "stream",
     "text": [
      "Fetching data for movie ID tt1510831 from OMDb...\n",
      "Fetching data for movie ID tt0424303 from OMDb...\n"
     ]
    },
    {
     "name": "stderr",
     "output_type": "stream",
     "text": [
      "Fetching movie data:  56%|██████████▏       | 2023/3591 [05:32<03:37,  7.20it/s]"
     ]
    },
    {
     "name": "stdout",
     "output_type": "stream",
     "text": [
      "Fetching data for movie ID tt2339613 from OMDb...\n",
      "Fetching data for movie ID tt1435967 from OMDb...\n"
     ]
    },
    {
     "name": "stderr",
     "output_type": "stream",
     "text": [
      "Fetching movie data:  56%|██████████▏       | 2025/3591 [05:32<04:02,  6.47it/s]"
     ]
    },
    {
     "name": "stdout",
     "output_type": "stream",
     "text": [
      "Fetching data for movie ID tt0896952 from OMDb...\n",
      "Fetching data for movie ID tt0434105 from OMDb...\n"
     ]
    },
    {
     "name": "stderr",
     "output_type": "stream",
     "text": [
      "Fetching movie data:  56%|██████████▏       | 2027/3591 [05:33<04:13,  6.17it/s]"
     ]
    },
    {
     "name": "stdout",
     "output_type": "stream",
     "text": [
      "Fetching data for movie ID tt0327418 from OMDb...\n",
      "Fetching data for movie ID tt2316851 from OMDb...\n"
     ]
    },
    {
     "name": "stderr",
     "output_type": "stream",
     "text": [
      "Fetching movie data:  57%|██████████▏       | 2029/3591 [05:33<04:10,  6.24it/s]"
     ]
    },
    {
     "name": "stdout",
     "output_type": "stream",
     "text": [
      "Fetching data for movie ID tt1286141 from OMDb...\n",
      "Fetching data for movie ID tt0405232 from OMDb...\n"
     ]
    },
    {
     "name": "stderr",
     "output_type": "stream",
     "text": [
      "Fetching movie data:  57%|██████████▏       | 2031/3591 [05:33<03:57,  6.58it/s]"
     ]
    },
    {
     "name": "stdout",
     "output_type": "stream",
     "text": [
      "Fetching data for movie ID tt5334028 from OMDb...\n",
      "Fetching data for movie ID tt0404291 from OMDb...\n"
     ]
    },
    {
     "name": "stderr",
     "output_type": "stream",
     "text": [
      "Fetching movie data:  57%|██████████▏       | 2033/3591 [05:33<03:31,  7.35it/s]"
     ]
    },
    {
     "name": "stdout",
     "output_type": "stream",
     "text": [
      "Fetching data for movie ID tt1632702 from OMDb...\n",
      "Fetching data for movie ID tt2007405 from OMDb...\n"
     ]
    },
    {
     "name": "stderr",
     "output_type": "stream",
     "text": [
      "Fetching movie data:  57%|██████████▏       | 2035/3591 [05:34<03:36,  7.18it/s]"
     ]
    },
    {
     "name": "stdout",
     "output_type": "stream",
     "text": [
      "Fetching data for movie ID tt0455581 from OMDb...\n",
      "Fetching data for movie ID tt1999228 from OMDb...\n"
     ]
    },
    {
     "name": "stderr",
     "output_type": "stream",
     "text": [
      "Fetching movie data:  57%|██████████▏       | 2037/3591 [05:34<04:01,  6.43it/s]"
     ]
    },
    {
     "name": "stdout",
     "output_type": "stream",
     "text": [
      "Fetching data for movie ID tt1121961 from OMDb...\n",
      "Fetching data for movie ID tt5500424 from OMDb...\n"
     ]
    },
    {
     "name": "stderr",
     "output_type": "stream",
     "text": [
      "Fetching movie data:  57%|██████████▏       | 2039/3591 [05:34<04:06,  6.30it/s]"
     ]
    },
    {
     "name": "stdout",
     "output_type": "stream",
     "text": [
      "Fetching data for movie ID tt2040523 from OMDb...\n",
      "Fetching data for movie ID tt2511886 from OMDb...\n"
     ]
    },
    {
     "name": "stderr",
     "output_type": "stream",
     "text": [
      "Fetching movie data:  57%|██████████▏       | 2041/3591 [05:35<03:35,  7.18it/s]"
     ]
    },
    {
     "name": "stdout",
     "output_type": "stream",
     "text": [
      "Fetching data for movie ID tt2816046 from OMDb...\n",
      "Fetching data for movie ID tt0497506 from OMDb...\n"
     ]
    },
    {
     "name": "stderr",
     "output_type": "stream",
     "text": [
      "Fetching movie data:  57%|██████████▏       | 2043/3591 [05:35<04:01,  6.42it/s]"
     ]
    },
    {
     "name": "stdout",
     "output_type": "stream",
     "text": [
      "Fetching data for movie ID tt1956519 from OMDb...\n",
      "Fetching data for movie ID tt0399040 from OMDb...\n"
     ]
    },
    {
     "name": "stderr",
     "output_type": "stream",
     "text": [
      "Fetching movie data:  57%|██████████▎       | 2045/3591 [05:35<04:07,  6.24it/s]"
     ]
    },
    {
     "name": "stdout",
     "output_type": "stream",
     "text": [
      "Fetching data for movie ID tt1412575 from OMDb...\n",
      "Fetching data for movie ID tt0397580 from OMDb...\n"
     ]
    },
    {
     "name": "stderr",
     "output_type": "stream",
     "text": [
      "Fetching movie data:  57%|██████████▎       | 2047/3591 [05:36<03:55,  6.54it/s]"
     ]
    },
    {
     "name": "stdout",
     "output_type": "stream",
     "text": [
      "Fetching data for movie ID tt1160369 from OMDb...\n",
      "Fetching data for movie ID tt0275746 from OMDb...\n"
     ]
    },
    {
     "name": "stderr",
     "output_type": "stream",
     "text": [
      "Fetching movie data:  57%|██████████▎       | 2049/3591 [05:36<04:02,  6.35it/s]"
     ]
    },
    {
     "name": "stdout",
     "output_type": "stream",
     "text": [
      "Fetching data for movie ID tt1719654 from OMDb...\n",
      "Fetching data for movie ID tt0260796 from OMDb...\n"
     ]
    },
    {
     "name": "stderr",
     "output_type": "stream",
     "text": [
      "Fetching movie data:  57%|██████████▎       | 2051/3591 [05:36<04:19,  5.94it/s]"
     ]
    },
    {
     "name": "stdout",
     "output_type": "stream",
     "text": [
      "Fetching data for movie ID tt1869790 from OMDb...\n",
      "Fetching data for movie ID tt1016204 from OMDb...\n"
     ]
    },
    {
     "name": "stderr",
     "output_type": "stream",
     "text": [
      "Fetching movie data:  57%|██████████▎       | 2053/3591 [05:37<05:25,  4.73it/s]"
     ]
    },
    {
     "name": "stdout",
     "output_type": "stream",
     "text": [
      "Fetching data for movie ID tt2448958 from OMDb...\n",
      "Fetching data for movie ID tt1343113 from OMDb...\n"
     ]
    },
    {
     "name": "stderr",
     "output_type": "stream",
     "text": [
      "Fetching movie data:  57%|██████████▎       | 2055/3591 [05:37<04:35,  5.58it/s]"
     ]
    },
    {
     "name": "stdout",
     "output_type": "stream",
     "text": [
      "Fetching data for movie ID tt2645036 from OMDb...\n",
      "Fetching data for movie ID tt2815498 from OMDb...\n"
     ]
    },
    {
     "name": "stderr",
     "output_type": "stream",
     "text": [
      "Fetching movie data:  57%|██████████▎       | 2057/3591 [05:37<04:12,  6.07it/s]"
     ]
    },
    {
     "name": "stdout",
     "output_type": "stream",
     "text": [
      "Fetching data for movie ID tt1329327 from OMDb...\n",
      "Fetching data for movie ID tt0983990 from OMDb...\n"
     ]
    },
    {
     "name": "stderr",
     "output_type": "stream",
     "text": [
      "Fetching movie data:  57%|██████████▎       | 2059/3591 [05:38<03:55,  6.51it/s]"
     ]
    },
    {
     "name": "stdout",
     "output_type": "stream",
     "text": [
      "Fetching data for movie ID tt0457462 from OMDb...\n",
      "Fetching data for movie ID tt1366981 from OMDb...\n"
     ]
    },
    {
     "name": "stderr",
     "output_type": "stream",
     "text": [
      "Fetching movie data:  57%|██████████▎       | 2061/3591 [05:38<03:49,  6.66it/s]"
     ]
    },
    {
     "name": "stdout",
     "output_type": "stream",
     "text": [
      "Fetching data for movie ID tt3568998 from OMDb...\n",
      "Fetching data for movie ID tt0291559 from OMDb...\n"
     ]
    },
    {
     "name": "stderr",
     "output_type": "stream",
     "text": [
      "Fetching movie data:  57%|██████████▎       | 2063/3591 [05:38<04:10,  6.10it/s]"
     ]
    },
    {
     "name": "stdout",
     "output_type": "stream",
     "text": [
      "Fetching data for movie ID tt1023490 from OMDb...\n",
      "Fetching data for movie ID tt2219894 from OMDb...\n"
     ]
    },
    {
     "name": "stderr",
     "output_type": "stream",
     "text": [
      "Fetching movie data:  58%|██████████▎       | 2065/3591 [05:39<04:07,  6.16it/s]"
     ]
    },
    {
     "name": "stdout",
     "output_type": "stream",
     "text": [
      "Fetching data for movie ID tt0907620 from OMDb...\n",
      "Fetching data for movie ID tt1341791 from OMDb...\n"
     ]
    },
    {
     "name": "stderr",
     "output_type": "stream",
     "text": [
      "Fetching movie data:  58%|██████████▎       | 2067/3591 [05:39<03:46,  6.73it/s]"
     ]
    },
    {
     "name": "stdout",
     "output_type": "stream",
     "text": [
      "Fetching data for movie ID tt1885426 from OMDb...\n",
      "Fetching data for movie ID tt1846622 from OMDb...\n"
     ]
    },
    {
     "name": "stderr",
     "output_type": "stream",
     "text": [
      "Fetching movie data:  58%|██████████▎       | 2069/3591 [05:39<04:08,  6.13it/s]"
     ]
    },
    {
     "name": "stdout",
     "output_type": "stream",
     "text": [
      "Fetching data for movie ID tt0782034 from OMDb...\n",
      "Fetching data for movie ID tt0445620 from OMDb...\n"
     ]
    },
    {
     "name": "stderr",
     "output_type": "stream",
     "text": [
      "Fetching movie data:  58%|██████████▍       | 2071/3591 [05:40<04:20,  5.83it/s]"
     ]
    },
    {
     "name": "stdout",
     "output_type": "stream",
     "text": [
      "Fetching data for movie ID tt1442035 from OMDb...\n",
      "Fetching data for movie ID tt0290423 from OMDb...\n"
     ]
    },
    {
     "name": "stderr",
     "output_type": "stream",
     "text": [
      "Fetching movie data:  58%|██████████▍       | 2073/3591 [05:40<04:05,  6.20it/s]"
     ]
    },
    {
     "name": "stdout",
     "output_type": "stream",
     "text": [
      "Fetching data for movie ID tt2714780 from OMDb...\n",
      "Fetching data for movie ID tt1745957 from OMDb...\n"
     ]
    },
    {
     "name": "stderr",
     "output_type": "stream",
     "text": [
      "Fetching movie data:  58%|██████████▍       | 2075/3591 [05:40<04:01,  6.27it/s]"
     ]
    },
    {
     "name": "stdout",
     "output_type": "stream",
     "text": [
      "Fetching data for movie ID tt2714592 from OMDb...\n",
      "Fetching data for movie ID tt0810803 from OMDb...\n"
     ]
    },
    {
     "name": "stderr",
     "output_type": "stream",
     "text": [
      "Fetching movie data:  58%|██████████▍       | 2077/3591 [05:40<03:34,  7.05it/s]"
     ]
    },
    {
     "name": "stdout",
     "output_type": "stream",
     "text": [
      "Fetching data for movie ID tt2313299 from OMDb...\n",
      "Fetching data for movie ID tt2532528 from OMDb...\n"
     ]
    },
    {
     "name": "stderr",
     "output_type": "stream",
     "text": [
      "Fetching movie data:  58%|██████████▍       | 2079/3591 [05:41<03:53,  6.46it/s]"
     ]
    },
    {
     "name": "stdout",
     "output_type": "stream",
     "text": [
      "Fetching data for movie ID tt2334649 from OMDb...\n",
      "Fetching data for movie ID tt1363486 from OMDb...\n"
     ]
    },
    {
     "name": "stderr",
     "output_type": "stream",
     "text": [
      "Fetching movie data:  58%|██████████▍       | 2081/3591 [05:41<03:55,  6.40it/s]"
     ]
    },
    {
     "name": "stdout",
     "output_type": "stream",
     "text": [
      "Fetching data for movie ID tt1937324 from OMDb...\n",
      "Fetching data for movie ID tt1505055 from OMDb...\n"
     ]
    },
    {
     "name": "stderr",
     "output_type": "stream",
     "text": [
      "Fetching movie data:  58%|██████████▍       | 2083/3591 [05:41<03:36,  6.98it/s]"
     ]
    },
    {
     "name": "stdout",
     "output_type": "stream",
     "text": [
      "Fetching data for movie ID tt0899279 from OMDb...\n",
      "Fetching data for movie ID tt0355342 from OMDb...\n"
     ]
    },
    {
     "name": "stderr",
     "output_type": "stream",
     "text": [
      "Fetching movie data:  58%|██████████▍       | 2085/3591 [05:42<03:25,  7.34it/s]"
     ]
    },
    {
     "name": "stdout",
     "output_type": "stream",
     "text": [
      "Fetching data for movie ID tt1965181 from OMDb...\n",
      "Fetching data for movie ID tt2966696 from OMDb...\n"
     ]
    },
    {
     "name": "stderr",
     "output_type": "stream",
     "text": [
      "Fetching movie data:  58%|██████████▍       | 2087/3591 [05:42<03:24,  7.36it/s]"
     ]
    },
    {
     "name": "stdout",
     "output_type": "stream",
     "text": [
      "Fetching data for movie ID tt1707302 from OMDb...\n",
      "Fetching data for movie ID tt2784320 from OMDb...\n"
     ]
    },
    {
     "name": "stderr",
     "output_type": "stream",
     "text": [
      "Fetching movie data:  58%|██████████▍       | 2089/3591 [05:42<03:37,  6.92it/s]"
     ]
    },
    {
     "name": "stdout",
     "output_type": "stream",
     "text": [
      "Fetching data for movie ID tt2008602 from OMDb...\n",
      "Fetching data for movie ID tt3020504 from OMDb...\n"
     ]
    },
    {
     "name": "stderr",
     "output_type": "stream",
     "text": [
      "Fetching movie data:  58%|██████████▍       | 2091/3591 [05:43<04:06,  6.09it/s]"
     ]
    },
    {
     "name": "stdout",
     "output_type": "stream",
     "text": [
      "Fetching data for movie ID tt0374872 from OMDb...\n",
      "Fetching data for movie ID tt1690472 from OMDb...\n"
     ]
    },
    {
     "name": "stderr",
     "output_type": "stream",
     "text": [
      "Fetching movie data:  58%|██████████▍       | 2093/3591 [05:43<03:50,  6.51it/s]"
     ]
    },
    {
     "name": "stdout",
     "output_type": "stream",
     "text": [
      "Fetching data for movie ID tt4338904 from OMDb...\n",
      "Fetching data for movie ID tt0352143 from OMDb...\n"
     ]
    },
    {
     "name": "stderr",
     "output_type": "stream",
     "text": [
      "Fetching movie data:  58%|██████████▌       | 2095/3591 [05:43<03:51,  6.47it/s]"
     ]
    },
    {
     "name": "stdout",
     "output_type": "stream",
     "text": [
      "Fetching data for movie ID tt2849694 from OMDb...\n",
      "Fetching data for movie ID tt2301592 from OMDb...\n"
     ]
    },
    {
     "name": "stderr",
     "output_type": "stream",
     "text": [
      "Fetching movie data:  58%|██████████▌       | 2097/3591 [05:44<04:07,  6.03it/s]"
     ]
    },
    {
     "name": "stdout",
     "output_type": "stream",
     "text": [
      "Fetching data for movie ID tt0936473 from OMDb...\n",
      "Fetching data for movie ID tt0498362 from OMDb...\n"
     ]
    },
    {
     "name": "stderr",
     "output_type": "stream",
     "text": [
      "Fetching movie data:  58%|██████████▌       | 2099/3591 [05:44<04:02,  6.16it/s]"
     ]
    },
    {
     "name": "stdout",
     "output_type": "stream",
     "text": [
      "Fetching data for movie ID tt1549102 from OMDb...\n",
      "Fetching data for movie ID tt1670703 from OMDb...\n"
     ]
    },
    {
     "name": "stderr",
     "output_type": "stream",
     "text": [
      "Fetching movie data:  59%|██████████▌       | 2101/3591 [05:44<04:20,  5.72it/s]"
     ]
    },
    {
     "name": "stdout",
     "output_type": "stream",
     "text": [
      "Fetching data for movie ID tt0245929 from OMDb...\n",
      "Progress saved after 24700 movies.\n",
      "Fetching data for movie ID tt0968710 from OMDb...\n"
     ]
    },
    {
     "name": "stderr",
     "output_type": "stream",
     "text": [
      "Fetching movie data:  59%|██████████▌       | 2103/3591 [05:45<04:14,  5.85it/s]"
     ]
    },
    {
     "name": "stdout",
     "output_type": "stream",
     "text": [
      "Fetching data for movie ID tt0454426 from OMDb...\n",
      "Fetching data for movie ID tt1735347 from OMDb...\n"
     ]
    },
    {
     "name": "stderr",
     "output_type": "stream",
     "text": [
      "Fetching movie data:  59%|██████████▌       | 2105/3591 [05:45<03:55,  6.32it/s]"
     ]
    },
    {
     "name": "stdout",
     "output_type": "stream",
     "text": [
      "Fetching data for movie ID tt1723048 from OMDb...\n",
      "Fetching data for movie ID tt5213252 from OMDb...\n"
     ]
    },
    {
     "name": "stderr",
     "output_type": "stream",
     "text": [
      "Fetching movie data:  59%|██████████▌       | 2107/3591 [05:45<03:35,  6.90it/s]"
     ]
    },
    {
     "name": "stdout",
     "output_type": "stream",
     "text": [
      "Fetching data for movie ID tt14338676 from OMDb...\n",
      "Fetching data for movie ID tt0257823 from OMDb...\n"
     ]
    },
    {
     "name": "stderr",
     "output_type": "stream",
     "text": [
      "Fetching movie data:  59%|██████████▌       | 2109/3591 [05:45<03:36,  6.83it/s]"
     ]
    },
    {
     "name": "stdout",
     "output_type": "stream",
     "text": [
      "Fetching data for movie ID tt1084743 from OMDb...\n",
      "Fetching data for movie ID tt2472956 from OMDb...\n"
     ]
    },
    {
     "name": "stderr",
     "output_type": "stream",
     "text": [
      "Fetching movie data:  59%|██████████▌       | 2111/3591 [05:46<03:18,  7.44it/s]"
     ]
    },
    {
     "name": "stdout",
     "output_type": "stream",
     "text": [
      "Fetching data for movie ID tt0436720 from OMDb...\n",
      "Fetching data for movie ID tt0492499 from OMDb...\n"
     ]
    },
    {
     "name": "stderr",
     "output_type": "stream",
     "text": [
      "Fetching movie data:  59%|██████████▌       | 2113/3591 [05:46<03:30,  7.01it/s]"
     ]
    },
    {
     "name": "stdout",
     "output_type": "stream",
     "text": [
      "Fetching data for movie ID tt2221743 from OMDb...\n",
      "Fetching data for movie ID tt0360890 from OMDb...\n"
     ]
    },
    {
     "name": "stderr",
     "output_type": "stream",
     "text": [
      "Fetching movie data:  59%|██████████▌       | 2115/3591 [05:46<03:55,  6.27it/s]"
     ]
    },
    {
     "name": "stdout",
     "output_type": "stream",
     "text": [
      "Fetching data for movie ID tt0477019 from OMDb...\n",
      "Fetching data for movie ID tt2292971 from OMDb...\n"
     ]
    },
    {
     "name": "stderr",
     "output_type": "stream",
     "text": [
      "Fetching movie data:  59%|██████████▌       | 2117/3591 [05:47<03:47,  6.49it/s]"
     ]
    },
    {
     "name": "stdout",
     "output_type": "stream",
     "text": [
      "Fetching data for movie ID tt2624852 from OMDb...\n",
      "Fetching data for movie ID tt0478000 from OMDb...\n"
     ]
    },
    {
     "name": "stderr",
     "output_type": "stream",
     "text": [
      "Fetching movie data:  59%|██████████▌       | 2119/3591 [05:47<03:49,  6.40it/s]"
     ]
    },
    {
     "name": "stdout",
     "output_type": "stream",
     "text": [
      "Fetching data for movie ID tt3004588 from OMDb...\n",
      "Fetching data for movie ID tt0925212 from OMDb...\n"
     ]
    },
    {
     "name": "stderr",
     "output_type": "stream",
     "text": [
      "Fetching movie data:  59%|██████████▋       | 2121/3591 [05:47<03:34,  6.86it/s]"
     ]
    },
    {
     "name": "stdout",
     "output_type": "stream",
     "text": [
      "Fetching data for movie ID tt1337048 from OMDb...\n",
      "Fetching data for movie ID tt0380268 from OMDb...\n"
     ]
    },
    {
     "name": "stderr",
     "output_type": "stream",
     "text": [
      "Fetching movie data:  59%|██████████▋       | 2122/3591 [05:47<03:53,  6.30it/s]"
     ]
    },
    {
     "name": "stdout",
     "output_type": "stream",
     "text": [
      "Fetching data for movie ID tt1701980 from OMDb...\n"
     ]
    },
    {
     "name": "stderr",
     "output_type": "stream",
     "text": [
      "Fetching movie data:  59%|██████████▋       | 2124/3591 [05:48<03:52,  6.32it/s]"
     ]
    },
    {
     "name": "stdout",
     "output_type": "stream",
     "text": [
      "Fetching data for movie ID tt0353186 from OMDb...\n",
      "Fetching data for movie ID tt2215799 from OMDb...\n"
     ]
    },
    {
     "name": "stderr",
     "output_type": "stream",
     "text": [
      "Fetching movie data:  59%|██████████▋       | 2126/3591 [05:48<03:21,  7.27it/s]"
     ]
    },
    {
     "name": "stdout",
     "output_type": "stream",
     "text": [
      "Fetching data for movie ID tt0488798 from OMDb...\n",
      "Fetching data for movie ID tt1525575 from OMDb...\n"
     ]
    },
    {
     "name": "stderr",
     "output_type": "stream",
     "text": [
      "Fetching movie data:  59%|██████████▋       | 2128/3591 [05:48<03:22,  7.23it/s]"
     ]
    },
    {
     "name": "stdout",
     "output_type": "stream",
     "text": [
      "Fetching data for movie ID tt1461256 from OMDb...\n",
      "Fetching data for movie ID tt2069796 from OMDb...\n"
     ]
    },
    {
     "name": "stderr",
     "output_type": "stream",
     "text": [
      "Fetching movie data:  59%|██████████▋       | 2130/3591 [05:49<03:15,  7.46it/s]"
     ]
    },
    {
     "name": "stdout",
     "output_type": "stream",
     "text": [
      "Fetching data for movie ID tt0973810 from OMDb...\n",
      "Fetching data for movie ID tt0450065 from OMDb...\n"
     ]
    },
    {
     "name": "stderr",
     "output_type": "stream",
     "text": [
      "Fetching movie data:  59%|██████████▋       | 2132/3591 [05:49<03:45,  6.46it/s]"
     ]
    },
    {
     "name": "stdout",
     "output_type": "stream",
     "text": [
      "Fetching data for movie ID tt0867606 from OMDb...\n",
      "Fetching data for movie ID tt2112097 from OMDb...\n"
     ]
    },
    {
     "name": "stderr",
     "output_type": "stream",
     "text": [
      "Fetching movie data:  59%|██████████▋       | 2134/3591 [05:49<03:37,  6.70it/s]"
     ]
    },
    {
     "name": "stdout",
     "output_type": "stream",
     "text": [
      "Fetching data for movie ID tt1841549 from OMDb...\n",
      "Fetching data for movie ID tt0284262 from OMDb...\n"
     ]
    },
    {
     "name": "stderr",
     "output_type": "stream",
     "text": [
      "Fetching movie data:  59%|██████████▋       | 2136/3591 [05:49<03:32,  6.84it/s]"
     ]
    },
    {
     "name": "stdout",
     "output_type": "stream",
     "text": [
      "Fetching data for movie ID tt3091380 from OMDb...\n",
      "Fetching data for movie ID tt1385473 from OMDb...\n"
     ]
    },
    {
     "name": "stderr",
     "output_type": "stream",
     "text": [
      "Fetching movie data:  60%|██████████▋       | 2138/3591 [05:50<03:23,  7.13it/s]"
     ]
    },
    {
     "name": "stdout",
     "output_type": "stream",
     "text": [
      "Fetching data for movie ID tt2339567 from OMDb...\n",
      "Fetching data for movie ID tt0356014 from OMDb...\n"
     ]
    },
    {
     "name": "stderr",
     "output_type": "stream",
     "text": [
      "Fetching movie data:  60%|██████████▋       | 2140/3591 [05:50<03:24,  7.09it/s]"
     ]
    },
    {
     "name": "stdout",
     "output_type": "stream",
     "text": [
      "Fetching data for movie ID tt0306874 from OMDb...\n",
      "Fetching data for movie ID tt0422015 from OMDb...\n"
     ]
    },
    {
     "name": "stderr",
     "output_type": "stream",
     "text": [
      "Fetching movie data:  60%|██████████▋       | 2142/3591 [05:50<03:27,  6.98it/s]"
     ]
    },
    {
     "name": "stdout",
     "output_type": "stream",
     "text": [
      "Fetching data for movie ID tt0466589 from OMDb...\n",
      "Fetching data for movie ID tt1934269 from OMDb...\n"
     ]
    },
    {
     "name": "stderr",
     "output_type": "stream",
     "text": [
      "Fetching movie data:  60%|██████████▋       | 2144/3591 [05:51<03:45,  6.43it/s]"
     ]
    },
    {
     "name": "stdout",
     "output_type": "stream",
     "text": [
      "Fetching data for movie ID tt1057496 from OMDb...\n",
      "Fetching data for movie ID tt1262986 from OMDb...\n"
     ]
    },
    {
     "name": "stderr",
     "output_type": "stream",
     "text": [
      "Fetching movie data:  60%|██████████▊       | 2146/3591 [05:51<03:35,  6.72it/s]"
     ]
    },
    {
     "name": "stdout",
     "output_type": "stream",
     "text": [
      "Fetching data for movie ID tt1967526 from OMDb...\n",
      "Fetching data for movie ID tt2265389 from OMDb...\n"
     ]
    },
    {
     "name": "stderr",
     "output_type": "stream",
     "text": [
      "Fetching movie data:  60%|██████████▊       | 2148/3591 [05:51<03:23,  7.10it/s]"
     ]
    },
    {
     "name": "stdout",
     "output_type": "stream",
     "text": [
      "Fetching data for movie ID tt2474164 from OMDb...\n",
      "Fetching data for movie ID tt2537428 from OMDb...\n"
     ]
    },
    {
     "name": "stderr",
     "output_type": "stream",
     "text": [
      "Fetching movie data:  60%|██████████▊       | 2150/3591 [05:52<03:47,  6.33it/s]"
     ]
    },
    {
     "name": "stdout",
     "output_type": "stream",
     "text": [
      "Fetching data for movie ID tt1748280 from OMDb...\n",
      "Fetching data for movie ID tt3213890 from OMDb...\n"
     ]
    },
    {
     "name": "stderr",
     "output_type": "stream",
     "text": [
      "Fetching movie data:  60%|██████████▊       | 2152/3591 [05:52<03:23,  7.05it/s]"
     ]
    },
    {
     "name": "stdout",
     "output_type": "stream",
     "text": [
      "Fetching data for movie ID tt1904841 from OMDb...\n",
      "Fetching data for movie ID tt1773772 from OMDb...\n"
     ]
    },
    {
     "name": "stderr",
     "output_type": "stream",
     "text": [
      "Fetching movie data:  60%|██████████▊       | 2154/3591 [05:52<03:54,  6.14it/s]"
     ]
    },
    {
     "name": "stdout",
     "output_type": "stream",
     "text": [
      "Fetching data for movie ID tt1679655 from OMDb...\n",
      "Fetching data for movie ID tt2396591 from OMDb...\n"
     ]
    },
    {
     "name": "stderr",
     "output_type": "stream",
     "text": [
      "Fetching movie data:  60%|██████████▊       | 2156/3591 [05:52<03:46,  6.34it/s]"
     ]
    },
    {
     "name": "stdout",
     "output_type": "stream",
     "text": [
      "Fetching data for movie ID tt1328908 from OMDb...\n",
      "Fetching data for movie ID tt0498305 from OMDb...\n"
     ]
    },
    {
     "name": "stderr",
     "output_type": "stream",
     "text": [
      "Fetching movie data:  60%|██████████▊       | 2158/3591 [05:53<04:02,  5.90it/s]"
     ]
    },
    {
     "name": "stdout",
     "output_type": "stream",
     "text": [
      "Fetching data for movie ID tt1239276 from OMDb...\n",
      "Fetching data for movie ID tt2376442 from OMDb...\n"
     ]
    },
    {
     "name": "stderr",
     "output_type": "stream",
     "text": [
      "Fetching movie data:  60%|██████████▊       | 2160/3591 [05:53<04:09,  5.73it/s]"
     ]
    },
    {
     "name": "stdout",
     "output_type": "stream",
     "text": [
      "Fetching data for movie ID tt3149484 from OMDb...\n",
      "Fetching data for movie ID tt0256115 from OMDb...\n"
     ]
    },
    {
     "name": "stderr",
     "output_type": "stream",
     "text": [
      "Fetching movie data:  60%|██████████▊       | 2162/3591 [05:54<03:56,  6.05it/s]"
     ]
    },
    {
     "name": "stdout",
     "output_type": "stream",
     "text": [
      "Fetching data for movie ID tt2256813 from OMDb...\n",
      "Fetching data for movie ID tt0475711 from OMDb...\n"
     ]
    },
    {
     "name": "stderr",
     "output_type": "stream",
     "text": [
      "Fetching movie data:  60%|██████████▊       | 2164/3591 [05:54<03:36,  6.59it/s]"
     ]
    },
    {
     "name": "stdout",
     "output_type": "stream",
     "text": [
      "Fetching data for movie ID tt0329421 from OMDb...\n",
      "Fetching data for movie ID tt3340184 from OMDb...\n"
     ]
    },
    {
     "name": "stderr",
     "output_type": "stream",
     "text": [
      "Fetching movie data:  60%|██████████▊       | 2166/3591 [05:54<03:50,  6.19it/s]"
     ]
    },
    {
     "name": "stdout",
     "output_type": "stream",
     "text": [
      "Fetching data for movie ID tt0404379 from OMDb...\n",
      "Fetching data for movie ID tt2034072 from OMDb...\n"
     ]
    },
    {
     "name": "stderr",
     "output_type": "stream",
     "text": [
      "Fetching movie data:  60%|██████████▊       | 2168/3591 [05:54<03:27,  6.84it/s]"
     ]
    },
    {
     "name": "stdout",
     "output_type": "stream",
     "text": [
      "Fetching data for movie ID tt0372491 from OMDb...\n",
      "Fetching data for movie ID tt2719370 from OMDb...\n"
     ]
    },
    {
     "name": "stderr",
     "output_type": "stream",
     "text": [
      "Fetching movie data:  60%|██████████▉       | 2170/3591 [05:55<03:06,  7.61it/s]"
     ]
    },
    {
     "name": "stdout",
     "output_type": "stream",
     "text": [
      "Fetching data for movie ID tt1494611 from OMDb...\n",
      "Fetching data for movie ID tt1340123 from OMDb...\n"
     ]
    },
    {
     "name": "stderr",
     "output_type": "stream",
     "text": [
      "Fetching movie data:  60%|██████████▉       | 2172/3591 [05:55<03:15,  7.25it/s]"
     ]
    },
    {
     "name": "stdout",
     "output_type": "stream",
     "text": [
      "Fetching data for movie ID tt1440318 from OMDb...\n",
      "Fetching data for movie ID tt0902342 from OMDb...\n"
     ]
    },
    {
     "name": "stderr",
     "output_type": "stream",
     "text": [
      "Fetching movie data:  61%|██████████▉       | 2174/3591 [05:55<03:35,  6.58it/s]"
     ]
    },
    {
     "name": "stdout",
     "output_type": "stream",
     "text": [
      "Fetching data for movie ID tt7047900 from OMDb...\n",
      "Fetching data for movie ID tt0448093 from OMDb...\n"
     ]
    },
    {
     "name": "stderr",
     "output_type": "stream",
     "text": [
      "Fetching movie data:  61%|██████████▉       | 2176/3591 [05:56<03:29,  6.74it/s]"
     ]
    },
    {
     "name": "stdout",
     "output_type": "stream",
     "text": [
      "Fetching data for movie ID tt2755244 from OMDb...\n",
      "Fetching data for movie ID tt1986926 from OMDb...\n"
     ]
    },
    {
     "name": "stderr",
     "output_type": "stream",
     "text": [
      "Fetching movie data:  61%|██████████▉       | 2178/3591 [05:56<03:23,  6.94it/s]"
     ]
    },
    {
     "name": "stdout",
     "output_type": "stream",
     "text": [
      "Fetching data for movie ID tt1586552 from OMDb...\n",
      "Fetching data for movie ID tt1304621 from OMDb...\n"
     ]
    },
    {
     "name": "stderr",
     "output_type": "stream",
     "text": [
      "Fetching movie data:  61%|██████████▉       | 2180/3591 [05:56<03:14,  7.26it/s]"
     ]
    },
    {
     "name": "stdout",
     "output_type": "stream",
     "text": [
      "Fetching data for movie ID tt0316654 from OMDb...\n",
      "Fetching data for movie ID tt0326208 from OMDb...\n"
     ]
    },
    {
     "name": "stderr",
     "output_type": "stream",
     "text": [
      "Fetching movie data:  61%|██████████▉       | 2182/3591 [05:56<03:11,  7.36it/s]"
     ]
    },
    {
     "name": "stdout",
     "output_type": "stream",
     "text": [
      "Fetching data for movie ID tt2456636 from OMDb...\n",
      "Fetching data for movie ID tt2402197 from OMDb...\n"
     ]
    },
    {
     "name": "stderr",
     "output_type": "stream",
     "text": [
      "Fetching movie data:  61%|██████████▉       | 2184/3591 [05:57<03:25,  6.86it/s]"
     ]
    },
    {
     "name": "stdout",
     "output_type": "stream",
     "text": [
      "Fetching data for movie ID tt2633242 from OMDb...\n",
      "Fetching data for movie ID tt0317252 from OMDb...\n"
     ]
    },
    {
     "name": "stderr",
     "output_type": "stream",
     "text": [
      "Fetching movie data:  61%|██████████▉       | 2186/3591 [05:57<03:31,  6.63it/s]"
     ]
    },
    {
     "name": "stdout",
     "output_type": "stream",
     "text": [
      "Fetching data for movie ID tt1337554 from OMDb...\n",
      "Fetching data for movie ID tt14760504 from OMDb...\n"
     ]
    },
    {
     "name": "stderr",
     "output_type": "stream",
     "text": [
      "Fetching movie data:  61%|██████████▉       | 2188/3591 [05:57<03:28,  6.73it/s]"
     ]
    },
    {
     "name": "stdout",
     "output_type": "stream",
     "text": [
      "Fetching data for movie ID tt1538864 from OMDb...\n",
      "Fetching data for movie ID tt0254844 from OMDb...\n"
     ]
    },
    {
     "name": "stderr",
     "output_type": "stream",
     "text": [
      "Fetching movie data:  61%|██████████▉       | 2190/3591 [05:58<03:23,  6.87it/s]"
     ]
    },
    {
     "name": "stdout",
     "output_type": "stream",
     "text": [
      "Fetching data for movie ID tt1436000 from OMDb...\n",
      "Fetching data for movie ID tt1069271 from OMDb...\n"
     ]
    },
    {
     "name": "stderr",
     "output_type": "stream",
     "text": [
      "Fetching movie data:  61%|██████████▉       | 2192/3591 [05:58<03:23,  6.87it/s]"
     ]
    },
    {
     "name": "stdout",
     "output_type": "stream",
     "text": [
      "Fetching data for movie ID tt0847817 from OMDb...\n",
      "Fetching data for movie ID tt3331150 from OMDb...\n"
     ]
    },
    {
     "name": "stderr",
     "output_type": "stream",
     "text": [
      "Fetching movie data:  61%|██████████▉       | 2194/3591 [05:58<03:31,  6.61it/s]"
     ]
    },
    {
     "name": "stdout",
     "output_type": "stream",
     "text": [
      "Fetching data for movie ID tt1804623 from OMDb...\n",
      "Fetching data for movie ID tt2636100 from OMDb...\n"
     ]
    },
    {
     "name": "stderr",
     "output_type": "stream",
     "text": [
      "Fetching movie data:  61%|███████████       | 2196/3591 [05:59<03:39,  6.36it/s]"
     ]
    },
    {
     "name": "stdout",
     "output_type": "stream",
     "text": [
      "Fetching data for movie ID tt1144429 from OMDb...\n",
      "Fetching data for movie ID tt2157079 from OMDb...\n"
     ]
    },
    {
     "name": "stderr",
     "output_type": "stream",
     "text": [
      "Fetching movie data:  61%|███████████       | 2198/3591 [05:59<03:35,  6.47it/s]"
     ]
    },
    {
     "name": "stdout",
     "output_type": "stream",
     "text": [
      "Fetching data for movie ID tt1414855 from OMDb...\n",
      "Fetching data for movie ID tt2451588 from OMDb...\n"
     ]
    },
    {
     "name": "stderr",
     "output_type": "stream",
     "text": [
      "Fetching movie data:  61%|███████████       | 2200/3591 [05:59<03:26,  6.73it/s]"
     ]
    },
    {
     "name": "stdout",
     "output_type": "stream",
     "text": [
      "Fetching data for movie ID tt1094576 from OMDb...\n",
      "Fetching data for movie ID tt2990322 from OMDb...\n"
     ]
    },
    {
     "name": "stderr",
     "output_type": "stream",
     "text": [
      "Fetching movie data:  61%|███████████       | 2202/3591 [06:00<04:10,  5.56it/s]"
     ]
    },
    {
     "name": "stdout",
     "output_type": "stream",
     "text": [
      "Progress saved after 24800 movies.\n",
      "Fetching data for movie ID tt1157605 from OMDb...\n",
      "Fetching data for movie ID tt0154187 from OMDb...\n"
     ]
    },
    {
     "name": "stderr",
     "output_type": "stream",
     "text": [
      "Fetching movie data:  61%|███████████       | 2204/3591 [06:00<04:13,  5.47it/s]"
     ]
    },
    {
     "name": "stdout",
     "output_type": "stream",
     "text": [
      "Fetching data for movie ID tt2347162 from OMDb...\n",
      "Fetching data for movie ID tt0465606 from OMDb...\n"
     ]
    },
    {
     "name": "stderr",
     "output_type": "stream",
     "text": [
      "Fetching movie data:  61%|███████████       | 2206/3591 [06:00<04:01,  5.75it/s]"
     ]
    },
    {
     "name": "stdout",
     "output_type": "stream",
     "text": [
      "Fetching data for movie ID tt1699188 from OMDb...\n",
      "Fetching data for movie ID tt0408236 from OMDb...\n"
     ]
    },
    {
     "name": "stderr",
     "output_type": "stream",
     "text": [
      "Fetching movie data:  61%|███████████       | 2208/3591 [06:01<03:38,  6.34it/s]"
     ]
    },
    {
     "name": "stdout",
     "output_type": "stream",
     "text": [
      "Fetching data for movie ID tt0272048 from OMDb...\n",
      "Fetching data for movie ID tt0375564 from OMDb...\n"
     ]
    },
    {
     "name": "stderr",
     "output_type": "stream",
     "text": [
      "Fetching movie data:  62%|███████████       | 2210/3591 [06:01<04:59,  4.60it/s]"
     ]
    },
    {
     "name": "stdout",
     "output_type": "stream",
     "text": [
      "Fetching data for movie ID tt3356710 from OMDb...\n",
      "Fetching data for movie ID tt1784636 from OMDb...\n"
     ]
    },
    {
     "name": "stderr",
     "output_type": "stream",
     "text": [
      "Fetching movie data:  62%|███████████       | 2212/3591 [06:01<04:00,  5.74it/s]"
     ]
    },
    {
     "name": "stdout",
     "output_type": "stream",
     "text": [
      "Fetching data for movie ID tt1757892 from OMDb...\n",
      "Fetching data for movie ID tt0902300 from OMDb...\n"
     ]
    },
    {
     "name": "stderr",
     "output_type": "stream",
     "text": [
      "Fetching movie data:  62%|███████████       | 2214/3591 [06:02<03:55,  5.84it/s]"
     ]
    },
    {
     "name": "stdout",
     "output_type": "stream",
     "text": [
      "Fetching data for movie ID tt2462604 from OMDb...\n",
      "Fetching data for movie ID tt1124377 from OMDb...\n"
     ]
    },
    {
     "name": "stderr",
     "output_type": "stream",
     "text": [
      "Fetching movie data:  62%|███████████       | 2216/3591 [06:02<03:34,  6.40it/s]"
     ]
    },
    {
     "name": "stdout",
     "output_type": "stream",
     "text": [
      "Fetching data for movie ID tt7601668 from OMDb...\n",
      "Fetching data for movie ID tt0365772 from OMDb...\n"
     ]
    },
    {
     "name": "stderr",
     "output_type": "stream",
     "text": [
      "Fetching movie data:  62%|███████████       | 2218/3591 [06:02<03:16,  6.99it/s]"
     ]
    },
    {
     "name": "stdout",
     "output_type": "stream",
     "text": [
      "Fetching data for movie ID tt0366578 from OMDb...\n",
      "Fetching data for movie ID tt2172137 from OMDb...\n"
     ]
    },
    {
     "name": "stderr",
     "output_type": "stream",
     "text": [
      "Fetching movie data:  62%|███████████▏      | 2220/3591 [06:03<04:00,  5.70it/s]"
     ]
    },
    {
     "name": "stdout",
     "output_type": "stream",
     "text": [
      "Fetching data for movie ID tt2499802 from OMDb...\n",
      "Fetching data for movie ID tt0387937 from OMDb...\n"
     ]
    },
    {
     "name": "stderr",
     "output_type": "stream",
     "text": [
      "Fetching movie data:  62%|███████████▏      | 2222/3591 [06:03<03:39,  6.24it/s]"
     ]
    },
    {
     "name": "stdout",
     "output_type": "stream",
     "text": [
      "Fetching data for movie ID tt1954884 from OMDb...\n",
      "Fetching data for movie ID tt2327453 from OMDb...\n"
     ]
    },
    {
     "name": "stderr",
     "output_type": "stream",
     "text": [
      "Fetching movie data:  62%|███████████▏      | 2224/3591 [06:03<03:36,  6.32it/s]"
     ]
    },
    {
     "name": "stdout",
     "output_type": "stream",
     "text": [
      "Fetching data for movie ID tt0460783 from OMDb...\n",
      "Fetching data for movie ID tt2471660 from OMDb...\n"
     ]
    },
    {
     "name": "stderr",
     "output_type": "stream",
     "text": [
      "Fetching movie data:  62%|███████████▏      | 2226/3591 [06:04<03:43,  6.10it/s]"
     ]
    },
    {
     "name": "stdout",
     "output_type": "stream",
     "text": [
      "Fetching data for movie ID tt2380882 from OMDb...\n",
      "Fetching data for movie ID tt0307225 from OMDb...\n"
     ]
    },
    {
     "name": "stderr",
     "output_type": "stream",
     "text": [
      "Fetching movie data:  62%|███████████▏      | 2228/3591 [06:04<03:47,  5.99it/s]"
     ]
    },
    {
     "name": "stdout",
     "output_type": "stream",
     "text": [
      "Fetching data for movie ID tt0478102 from OMDb...\n",
      "Fetching data for movie ID tt1459027 from OMDb...\n"
     ]
    },
    {
     "name": "stderr",
     "output_type": "stream",
     "text": [
      "Fetching movie data:  62%|███████████▏      | 2230/3591 [06:04<03:49,  5.92it/s]"
     ]
    },
    {
     "name": "stdout",
     "output_type": "stream",
     "text": [
      "Fetching data for movie ID tt1817273 from OMDb...\n",
      "Fetching data for movie ID tt0468553 from OMDb...\n"
     ]
    },
    {
     "name": "stderr",
     "output_type": "stream",
     "text": [
      "Fetching movie data:  62%|███████████▏      | 2232/3591 [06:05<03:47,  5.97it/s]"
     ]
    },
    {
     "name": "stdout",
     "output_type": "stream",
     "text": [
      "Fetching data for movie ID tt2780748 from OMDb...\n",
      "Fetching data for movie ID tt1934487 from OMDb...\n"
     ]
    },
    {
     "name": "stderr",
     "output_type": "stream",
     "text": [
      "Fetching movie data:  62%|███████████▏      | 2234/3591 [06:05<03:30,  6.45it/s]"
     ]
    },
    {
     "name": "stdout",
     "output_type": "stream",
     "text": [
      "Fetching data for movie ID tt1498192 from OMDb...\n",
      "Fetching data for movie ID tt1404048 from OMDb...\n"
     ]
    },
    {
     "name": "stderr",
     "output_type": "stream",
     "text": [
      "Fetching movie data:  62%|███████████▏      | 2236/3591 [06:05<03:25,  6.59it/s]"
     ]
    },
    {
     "name": "stdout",
     "output_type": "stream",
     "text": [
      "Fetching data for movie ID tt5269038 from OMDb...\n",
      "Fetching data for movie ID tt2543418 from OMDb...\n"
     ]
    },
    {
     "name": "stderr",
     "output_type": "stream",
     "text": [
      "Fetching movie data:  62%|███████████▏      | 2238/3591 [06:06<03:37,  6.22it/s]"
     ]
    },
    {
     "name": "stdout",
     "output_type": "stream",
     "text": [
      "Fetching data for movie ID tt1254284 from OMDb...\n",
      "Fetching data for movie ID tt0390311 from OMDb...\n"
     ]
    },
    {
     "name": "stderr",
     "output_type": "stream",
     "text": [
      "Fetching movie data:  62%|███████████▏      | 2240/3591 [06:06<03:40,  6.14it/s]"
     ]
    },
    {
     "name": "stdout",
     "output_type": "stream",
     "text": [
      "Fetching data for movie ID tt2379805 from OMDb...\n",
      "Fetching data for movie ID tt1504680 from OMDb...\n"
     ]
    },
    {
     "name": "stderr",
     "output_type": "stream",
     "text": [
      "Fetching movie data:  62%|███████████▏      | 2242/3591 [06:06<03:14,  6.95it/s]"
     ]
    },
    {
     "name": "stdout",
     "output_type": "stream",
     "text": [
      "Fetching data for movie ID tt2692040 from OMDb...\n",
      "Fetching data for movie ID tt0807849 from OMDb...\n"
     ]
    },
    {
     "name": "stderr",
     "output_type": "stream",
     "text": [
      "Fetching movie data:  62%|███████████▏      | 2244/3591 [06:07<03:25,  6.56it/s]"
     ]
    },
    {
     "name": "stdout",
     "output_type": "stream",
     "text": [
      "Fetching data for movie ID tt0435643 from OMDb...\n",
      "Fetching data for movie ID tt2515580 from OMDb...\n"
     ]
    },
    {
     "name": "stderr",
     "output_type": "stream",
     "text": [
      "Fetching movie data:  63%|███████████▎      | 2246/3591 [06:07<03:29,  6.43it/s]"
     ]
    },
    {
     "name": "stdout",
     "output_type": "stream",
     "text": [
      "Fetching data for movie ID tt2137990 from OMDb...\n",
      "Fetching data for movie ID tt0860378 from OMDb...\n"
     ]
    },
    {
     "name": "stderr",
     "output_type": "stream",
     "text": [
      "Fetching movie data:  63%|███████████▎      | 2248/3591 [06:07<03:29,  6.41it/s]"
     ]
    },
    {
     "name": "stdout",
     "output_type": "stream",
     "text": [
      "Fetching data for movie ID tt0262076 from OMDb...\n",
      "Fetching data for movie ID tt0203009 from OMDb...\n"
     ]
    },
    {
     "name": "stderr",
     "output_type": "stream",
     "text": [
      "Fetching movie data:  63%|███████████▎      | 2250/3591 [06:07<03:06,  7.20it/s]"
     ]
    },
    {
     "name": "stdout",
     "output_type": "stream",
     "text": [
      "Fetching data for movie ID tt2450598 from OMDb...\n",
      "Fetching data for movie ID tt0241355 from OMDb...\n"
     ]
    },
    {
     "name": "stderr",
     "output_type": "stream",
     "text": [
      "Fetching movie data:  63%|███████████▎      | 2252/3591 [06:08<03:04,  7.24it/s]"
     ]
    },
    {
     "name": "stdout",
     "output_type": "stream",
     "text": [
      "Fetching data for movie ID tt0489225 from OMDb...\n",
      "Fetching data for movie ID tt1038688 from OMDb...\n"
     ]
    },
    {
     "name": "stderr",
     "output_type": "stream",
     "text": [
      "Fetching movie data:  63%|███████████▎      | 2254/3591 [06:08<03:01,  7.36it/s]"
     ]
    },
    {
     "name": "stdout",
     "output_type": "stream",
     "text": [
      "Fetching data for movie ID tt2111321 from OMDb...\n",
      "Fetching data for movie ID tt3051894 from OMDb...\n"
     ]
    },
    {
     "name": "stderr",
     "output_type": "stream",
     "text": [
      "Fetching movie data:  63%|███████████▎      | 2256/3591 [06:08<03:01,  7.37it/s]"
     ]
    },
    {
     "name": "stdout",
     "output_type": "stream",
     "text": [
      "Fetching data for movie ID tt1413848 from OMDb...\n",
      "Fetching data for movie ID tt1976608 from OMDb...\n"
     ]
    },
    {
     "name": "stderr",
     "output_type": "stream",
     "text": [
      "Fetching movie data:  63%|███████████▎      | 2258/3591 [06:09<03:28,  6.38it/s]"
     ]
    },
    {
     "name": "stdout",
     "output_type": "stream",
     "text": [
      "Fetching data for movie ID tt0484211 from OMDb...\n",
      "Fetching data for movie ID tt3793700 from OMDb...\n"
     ]
    },
    {
     "name": "stderr",
     "output_type": "stream",
     "text": [
      "Fetching movie data:  63%|███████████▎      | 2259/3591 [06:09<03:46,  5.88it/s]"
     ]
    },
    {
     "name": "stdout",
     "output_type": "stream",
     "text": [
      "Fetching data for movie ID tt0301988 from OMDb...\n"
     ]
    },
    {
     "name": "stderr",
     "output_type": "stream",
     "text": [
      "Fetching movie data:  63%|███████████▎      | 2261/3591 [06:09<03:41,  6.01it/s]"
     ]
    },
    {
     "name": "stdout",
     "output_type": "stream",
     "text": [
      "Fetching data for movie ID tt0776723 from OMDb...\n",
      "Fetching data for movie ID tt0819643 from OMDb...\n"
     ]
    },
    {
     "name": "stderr",
     "output_type": "stream",
     "text": [
      "Fetching movie data:  63%|███████████▎      | 2263/3591 [06:09<03:39,  6.05it/s]"
     ]
    },
    {
     "name": "stdout",
     "output_type": "stream",
     "text": [
      "Fetching data for movie ID tt0795441 from OMDb...\n",
      "Fetching data for movie ID tt2370802 from OMDb...\n"
     ]
    },
    {
     "name": "stderr",
     "output_type": "stream",
     "text": [
      "Fetching movie data:  63%|███████████▎      | 2265/3591 [06:10<03:22,  6.54it/s]"
     ]
    },
    {
     "name": "stdout",
     "output_type": "stream",
     "text": [
      "Fetching data for movie ID tt14715754 from OMDb...\n",
      "Fetching data for movie ID tt0471003 from OMDb...\n"
     ]
    },
    {
     "name": "stderr",
     "output_type": "stream",
     "text": [
      "Fetching movie data:  63%|███████████▎      | 2267/3591 [06:10<03:38,  6.06it/s]"
     ]
    },
    {
     "name": "stdout",
     "output_type": "stream",
     "text": [
      "Fetching data for movie ID tt0340320 from OMDb...\n",
      "Fetching data for movie ID tt3446132 from OMDb...\n"
     ]
    },
    {
     "name": "stderr",
     "output_type": "stream",
     "text": [
      "Fetching movie data:  63%|███████████▎      | 2269/3591 [06:10<03:33,  6.19it/s]"
     ]
    },
    {
     "name": "stdout",
     "output_type": "stream",
     "text": [
      "Fetching data for movie ID tt1444284 from OMDb...\n",
      "Fetching data for movie ID tt0381483 from OMDb...\n"
     ]
    },
    {
     "name": "stderr",
     "output_type": "stream",
     "text": [
      "Fetching movie data:  63%|███████████▍      | 2271/3591 [06:11<03:11,  6.91it/s]"
     ]
    },
    {
     "name": "stdout",
     "output_type": "stream",
     "text": [
      "Fetching data for movie ID tt13938010 from OMDb...\n",
      "Fetching data for movie ID tt2395417 from OMDb...\n"
     ]
    },
    {
     "name": "stderr",
     "output_type": "stream",
     "text": [
      "Fetching movie data:  63%|███████████▍      | 2273/3591 [06:11<03:14,  6.77it/s]"
     ]
    },
    {
     "name": "stdout",
     "output_type": "stream",
     "text": [
      "Fetching data for movie ID tt2215120 from OMDb...\n",
      "Fetching data for movie ID tt0403459 from OMDb...\n"
     ]
    },
    {
     "name": "stderr",
     "output_type": "stream",
     "text": [
      "Fetching movie data:  63%|███████████▍      | 2275/3591 [06:11<02:58,  7.36it/s]"
     ]
    },
    {
     "name": "stdout",
     "output_type": "stream",
     "text": [
      "Fetching data for movie ID tt2170627 from OMDb...\n",
      "Fetching data for movie ID tt2050568 from OMDb...\n"
     ]
    },
    {
     "name": "stderr",
     "output_type": "stream",
     "text": [
      "Fetching movie data:  63%|███████████▍      | 2277/3591 [06:11<02:42,  8.10it/s]"
     ]
    },
    {
     "name": "stdout",
     "output_type": "stream",
     "text": [
      "Fetching data for movie ID tt1148706 from OMDb...\n",
      "Fetching data for movie ID tt2051931 from OMDb...\n"
     ]
    },
    {
     "name": "stderr",
     "output_type": "stream",
     "text": [
      "Fetching movie data:  63%|███████████▍      | 2279/3591 [06:12<03:00,  7.27it/s]"
     ]
    },
    {
     "name": "stdout",
     "output_type": "stream",
     "text": [
      "Fetching data for movie ID tt14252642 from OMDb...\n",
      "Fetching data for movie ID tt1395808 from OMDb...\n"
     ]
    },
    {
     "name": "stderr",
     "output_type": "stream",
     "text": [
      "Fetching movie data:  63%|███████████▍      | 2280/3591 [06:12<03:03,  7.15it/s]"
     ]
    },
    {
     "name": "stdout",
     "output_type": "stream",
     "text": [
      "Fetching data for movie ID tt1756798 from OMDb...\n"
     ]
    },
    {
     "name": "stderr",
     "output_type": "stream",
     "text": [
      "Fetching movie data:  64%|███████████▍      | 2282/3591 [06:12<03:30,  6.21it/s]"
     ]
    },
    {
     "name": "stdout",
     "output_type": "stream",
     "text": [
      "Fetching data for movie ID tt2583448 from OMDb...\n",
      "Fetching data for movie ID tt0912601 from OMDb...\n"
     ]
    },
    {
     "name": "stderr",
     "output_type": "stream",
     "text": [
      "Fetching movie data:  64%|███████████▍      | 2284/3591 [06:13<03:35,  6.06it/s]"
     ]
    },
    {
     "name": "stdout",
     "output_type": "stream",
     "text": [
      "Fetching data for movie ID tt4141906 from OMDb...\n",
      "Fetching data for movie ID tt0844447 from OMDb...\n"
     ]
    },
    {
     "name": "stderr",
     "output_type": "stream",
     "text": [
      "Fetching movie data:  64%|███████████▍      | 2286/3591 [06:13<03:19,  6.54it/s]"
     ]
    },
    {
     "name": "stdout",
     "output_type": "stream",
     "text": [
      "Fetching data for movie ID tt1318821 from OMDb...\n",
      "Fetching data for movie ID tt1524105 from OMDb...\n"
     ]
    },
    {
     "name": "stderr",
     "output_type": "stream",
     "text": [
      "Fetching movie data:  64%|███████████▍      | 2288/3591 [06:13<03:04,  7.06it/s]"
     ]
    },
    {
     "name": "stdout",
     "output_type": "stream",
     "text": [
      "Fetching data for movie ID tt2155373 from OMDb...\n",
      "Fetching data for movie ID tt2658956 from OMDb...\n"
     ]
    },
    {
     "name": "stderr",
     "output_type": "stream",
     "text": [
      "Fetching movie data:  64%|███████████▍      | 2290/3591 [06:13<03:13,  6.73it/s]"
     ]
    },
    {
     "name": "stdout",
     "output_type": "stream",
     "text": [
      "Fetching data for movie ID tt1517259 from OMDb...\n",
      "Fetching data for movie ID tt3350452 from OMDb...\n"
     ]
    },
    {
     "name": "stderr",
     "output_type": "stream",
     "text": [
      "Fetching movie data:  64%|███████████▍      | 2292/3591 [06:14<03:14,  6.67it/s]"
     ]
    },
    {
     "name": "stdout",
     "output_type": "stream",
     "text": [
      "Fetching data for movie ID tt2150476 from OMDb...\n",
      "Fetching data for movie ID tt1673537 from OMDb...\n"
     ]
    },
    {
     "name": "stderr",
     "output_type": "stream",
     "text": [
      "Fetching movie data:  64%|███████████▍      | 2294/3591 [06:14<03:00,  7.20it/s]"
     ]
    },
    {
     "name": "stdout",
     "output_type": "stream",
     "text": [
      "Fetching data for movie ID tt1176728 from OMDb...\n",
      "Fetching data for movie ID tt0240453 from OMDb...\n"
     ]
    },
    {
     "name": "stderr",
     "output_type": "stream",
     "text": [
      "Fetching movie data:  64%|███████████▌      | 2296/3591 [06:14<03:01,  7.14it/s]"
     ]
    },
    {
     "name": "stdout",
     "output_type": "stream",
     "text": [
      "Fetching data for movie ID tt0180073 from OMDb...\n",
      "Fetching data for movie ID tt0321058 from OMDb...\n"
     ]
    },
    {
     "name": "stderr",
     "output_type": "stream",
     "text": [
      "Fetching movie data:  64%|███████████▌      | 2298/3591 [06:15<03:13,  6.67it/s]"
     ]
    },
    {
     "name": "stdout",
     "output_type": "stream",
     "text": [
      "Fetching data for movie ID tt0317219 from OMDb...\n",
      "Fetching data for movie ID tt1588337 from OMDb...\n"
     ]
    },
    {
     "name": "stderr",
     "output_type": "stream",
     "text": [
      "Fetching movie data:  64%|███████████▌      | 2300/3591 [06:15<03:03,  7.03it/s]"
     ]
    },
    {
     "name": "stdout",
     "output_type": "stream",
     "text": [
      "Fetching data for movie ID tt1883251 from OMDb...\n",
      "Fetching data for movie ID tt1686022 from OMDb...\n"
     ]
    },
    {
     "name": "stderr",
     "output_type": "stream",
     "text": [
      "Fetching movie data:  64%|███████████▌      | 2302/3591 [06:15<03:36,  5.96it/s]"
     ]
    },
    {
     "name": "stdout",
     "output_type": "stream",
     "text": [
      "Progress saved after 24900 movies.\n",
      "Fetching data for movie ID tt1754480 from OMDb...\n"
     ]
    },
    {
     "name": "stderr",
     "output_type": "stream",
     "text": [
      "Fetching movie data:  64%|███████████▌      | 2303/3591 [06:15<03:37,  5.93it/s]"
     ]
    },
    {
     "name": "stdout",
     "output_type": "stream",
     "text": [
      "Fetching data for movie ID tt2467442 from OMDb...\n",
      "Fetching data for movie ID tt2408912 from OMDb...\n"
     ]
    },
    {
     "name": "stderr",
     "output_type": "stream",
     "text": [
      "Fetching movie data:  64%|███████████▌      | 2305/3591 [06:16<03:11,  6.71it/s]"
     ]
    },
    {
     "name": "stdout",
     "output_type": "stream",
     "text": [
      "Fetching data for movie ID tt0772886 from OMDb...\n",
      "Fetching data for movie ID tt1119194 from OMDb...\n"
     ]
    },
    {
     "name": "stderr",
     "output_type": "stream",
     "text": [
      "Fetching movie data:  64%|███████████▌      | 2307/3591 [06:16<03:11,  6.72it/s]"
     ]
    },
    {
     "name": "stdout",
     "output_type": "stream",
     "text": [
      "Fetching data for movie ID tt1899241 from OMDb...\n",
      "Fetching data for movie ID tt2949382 from OMDb...\n"
     ]
    },
    {
     "name": "stderr",
     "output_type": "stream",
     "text": [
      "Fetching movie data:  64%|███████████▌      | 2309/3591 [06:16<03:13,  6.64it/s]"
     ]
    },
    {
     "name": "stdout",
     "output_type": "stream",
     "text": [
      "Fetching data for movie ID tt1344315 from OMDb...\n",
      "Fetching data for movie ID tt0246197 from OMDb...\n"
     ]
    },
    {
     "name": "stderr",
     "output_type": "stream",
     "text": [
      "Fetching movie data:  64%|███████████▌      | 2311/3591 [06:17<02:54,  7.33it/s]"
     ]
    },
    {
     "name": "stdout",
     "output_type": "stream",
     "text": [
      "Fetching data for movie ID tt14377188 from OMDb...\n",
      "Fetching data for movie ID tt1829733 from OMDb...\n"
     ]
    },
    {
     "name": "stderr",
     "output_type": "stream",
     "text": [
      "Fetching movie data:  64%|███████████▌      | 2313/3591 [06:17<03:32,  6.01it/s]"
     ]
    },
    {
     "name": "stdout",
     "output_type": "stream",
     "text": [
      "Fetching data for movie ID tt0371321 from OMDb...\n",
      "Fetching data for movie ID tt0977642 from OMDb...\n"
     ]
    },
    {
     "name": "stderr",
     "output_type": "stream",
     "text": [
      "Fetching movie data:  64%|███████████▌      | 2315/3591 [06:17<03:09,  6.74it/s]"
     ]
    },
    {
     "name": "stdout",
     "output_type": "stream",
     "text": [
      "Fetching data for movie ID tt2309094 from OMDb...\n",
      "Fetching data for movie ID tt2023680 from OMDb...\n"
     ]
    },
    {
     "name": "stderr",
     "output_type": "stream",
     "text": [
      "Fetching movie data:  65%|███████████▌      | 2317/3591 [06:18<03:24,  6.24it/s]"
     ]
    },
    {
     "name": "stdout",
     "output_type": "stream",
     "text": [
      "Fetching data for movie ID tt0352557 from OMDb...\n",
      "Fetching data for movie ID tt0283086 from OMDb...\n"
     ]
    },
    {
     "name": "stderr",
     "output_type": "stream",
     "text": [
      "Fetching movie data:  65%|███████████▌      | 2319/3591 [06:18<03:15,  6.50it/s]"
     ]
    },
    {
     "name": "stdout",
     "output_type": "stream",
     "text": [
      "Fetching data for movie ID tt2816858 from OMDb...\n",
      "Fetching data for movie ID tt2902576 from OMDb...\n"
     ]
    },
    {
     "name": "stderr",
     "output_type": "stream",
     "text": [
      "Fetching movie data:  65%|███████████▋      | 2321/3591 [06:18<03:06,  6.79it/s]"
     ]
    },
    {
     "name": "stdout",
     "output_type": "stream",
     "text": [
      "Fetching data for movie ID tt2487198 from OMDb...\n",
      "Fetching data for movie ID tt1281112 from OMDb...\n"
     ]
    },
    {
     "name": "stderr",
     "output_type": "stream",
     "text": [
      "Fetching movie data:  65%|███████████▋      | 2323/3591 [06:18<03:05,  6.82it/s]"
     ]
    },
    {
     "name": "stdout",
     "output_type": "stream",
     "text": [
      "Fetching data for movie ID tt2377938 from OMDb...\n",
      "Fetching data for movie ID tt1173745 from OMDb...\n"
     ]
    },
    {
     "name": "stderr",
     "output_type": "stream",
     "text": [
      "Fetching movie data:  65%|███████████▋      | 2325/3591 [06:19<02:47,  7.58it/s]"
     ]
    },
    {
     "name": "stdout",
     "output_type": "stream",
     "text": [
      "Fetching data for movie ID tt1619810 from OMDb...\n",
      "Fetching data for movie ID tt1721680 from OMDb...\n"
     ]
    },
    {
     "name": "stderr",
     "output_type": "stream",
     "text": [
      "Fetching movie data:  65%|███████████▋      | 2327/3591 [06:19<02:48,  7.48it/s]"
     ]
    },
    {
     "name": "stdout",
     "output_type": "stream",
     "text": [
      "Fetching data for movie ID tt0295876 from OMDb...\n",
      "Fetching data for movie ID tt0267329 from OMDb...\n"
     ]
    },
    {
     "name": "stderr",
     "output_type": "stream",
     "text": [
      "Fetching movie data:  65%|███████████▋      | 2329/3591 [06:19<02:46,  7.56it/s]"
     ]
    },
    {
     "name": "stdout",
     "output_type": "stream",
     "text": [
      "Fetching data for movie ID tt0258885 from OMDb...\n",
      "Fetching data for movie ID tt0487711 from OMDb...\n"
     ]
    },
    {
     "name": "stderr",
     "output_type": "stream",
     "text": [
      "Fetching movie data:  65%|███████████▋      | 2331/3591 [06:20<03:11,  6.57it/s]"
     ]
    },
    {
     "name": "stdout",
     "output_type": "stream",
     "text": [
      "Fetching data for movie ID tt0762130 from OMDb...\n",
      "Fetching data for movie ID tt1263670 from OMDb...\n"
     ]
    },
    {
     "name": "stderr",
     "output_type": "stream",
     "text": [
      "Fetching movie data:  65%|███████████▋      | 2333/3591 [06:20<03:22,  6.20it/s]"
     ]
    },
    {
     "name": "stdout",
     "output_type": "stream",
     "text": [
      "Fetching data for movie ID tt0397313 from OMDb...\n",
      "Fetching data for movie ID tt3881996 from OMDb...\n"
     ]
    },
    {
     "name": "stderr",
     "output_type": "stream",
     "text": [
      "Fetching movie data:  65%|███████████▋      | 2335/3591 [06:20<03:30,  5.97it/s]"
     ]
    },
    {
     "name": "stdout",
     "output_type": "stream",
     "text": [
      "Fetching data for movie ID tt1087862 from OMDb...\n",
      "Fetching data for movie ID tt0232293 from OMDb...\n"
     ]
    },
    {
     "name": "stderr",
     "output_type": "stream",
     "text": [
      "Fetching movie data:  65%|███████████▋      | 2337/3591 [06:20<03:02,  6.89it/s]"
     ]
    },
    {
     "name": "stdout",
     "output_type": "stream",
     "text": [
      "Fetching data for movie ID tt6799442 from OMDb...\n",
      "Fetching data for movie ID tt0473605 from OMDb...\n"
     ]
    },
    {
     "name": "stderr",
     "output_type": "stream",
     "text": [
      "Fetching movie data:  65%|███████████▋      | 2339/3591 [06:21<03:04,  6.80it/s]"
     ]
    },
    {
     "name": "stdout",
     "output_type": "stream",
     "text": [
      "Fetching data for movie ID tt0765479 from OMDb...\n",
      "Fetching data for movie ID tt1885373 from OMDb...\n"
     ]
    },
    {
     "name": "stderr",
     "output_type": "stream",
     "text": [
      "Fetching movie data:  65%|███████████▋      | 2341/3591 [06:21<03:22,  6.17it/s]"
     ]
    },
    {
     "name": "stdout",
     "output_type": "stream",
     "text": [
      "Fetching data for movie ID tt1899294 from OMDb...\n",
      "Fetching data for movie ID tt2514792 from OMDb...\n"
     ]
    },
    {
     "name": "stderr",
     "output_type": "stream",
     "text": [
      "Fetching movie data:  65%|███████████▋      | 2343/3591 [06:21<03:09,  6.60it/s]"
     ]
    },
    {
     "name": "stdout",
     "output_type": "stream",
     "text": [
      "Fetching data for movie ID tt6449070 from OMDb...\n",
      "Fetching data for movie ID tt0862934 from OMDb...\n"
     ]
    },
    {
     "name": "stderr",
     "output_type": "stream",
     "text": [
      "Fetching movie data:  65%|███████████▊      | 2345/3591 [06:22<03:13,  6.44it/s]"
     ]
    },
    {
     "name": "stdout",
     "output_type": "stream",
     "text": [
      "Fetching data for movie ID tt1230386 from OMDb...\n",
      "Fetching data for movie ID tt1612135 from OMDb...\n"
     ]
    },
    {
     "name": "stderr",
     "output_type": "stream",
     "text": [
      "Fetching movie data:  65%|███████████▊      | 2347/3591 [06:22<03:03,  6.78it/s]"
     ]
    },
    {
     "name": "stdout",
     "output_type": "stream",
     "text": [
      "Fetching data for movie ID tt0331621 from OMDb...\n",
      "Fetching data for movie ID tt2382420 from OMDb...\n"
     ]
    },
    {
     "name": "stderr",
     "output_type": "stream",
     "text": [
      "Fetching movie data:  65%|███████████▊      | 2349/3591 [06:22<03:27,  5.98it/s]"
     ]
    },
    {
     "name": "stdout",
     "output_type": "stream",
     "text": [
      "Fetching data for movie ID tt2578574 from OMDb...\n",
      "Fetching data for movie ID tt1852126 from OMDb...\n"
     ]
    },
    {
     "name": "stderr",
     "output_type": "stream",
     "text": [
      "Fetching movie data:  65%|███████████▊      | 2351/3591 [06:23<03:35,  5.77it/s]"
     ]
    },
    {
     "name": "stdout",
     "output_type": "stream",
     "text": [
      "Fetching data for movie ID tt2865568 from OMDb...\n",
      "Fetching data for movie ID tt1387492 from OMDb...\n"
     ]
    },
    {
     "name": "stderr",
     "output_type": "stream",
     "text": [
      "Fetching movie data:  66%|███████████▊      | 2353/3591 [06:23<03:23,  6.08it/s]"
     ]
    },
    {
     "name": "stdout",
     "output_type": "stream",
     "text": [
      "Fetching data for movie ID tt1202167 from OMDb...\n",
      "Fetching data for movie ID tt2815294 from OMDb...\n"
     ]
    },
    {
     "name": "stderr",
     "output_type": "stream",
     "text": [
      "Fetching movie data:  66%|███████████▊      | 2355/3591 [06:23<03:07,  6.59it/s]"
     ]
    },
    {
     "name": "stdout",
     "output_type": "stream",
     "text": [
      "Fetching data for movie ID tt0331370 from OMDb...\n",
      "Fetching data for movie ID tt2149514 from OMDb...\n"
     ]
    },
    {
     "name": "stderr",
     "output_type": "stream",
     "text": [
      "Fetching movie data:  66%|███████████▊      | 2357/3591 [06:24<02:52,  7.17it/s]"
     ]
    },
    {
     "name": "stdout",
     "output_type": "stream",
     "text": [
      "Fetching data for movie ID tt3598200 from OMDb...\n",
      "Fetching data for movie ID tt0378194 from OMDb...\n"
     ]
    },
    {
     "name": "stderr",
     "output_type": "stream",
     "text": [
      "Fetching movie data:  66%|███████████▊      | 2359/3591 [06:24<02:50,  7.24it/s]"
     ]
    },
    {
     "name": "stdout",
     "output_type": "stream",
     "text": [
      "Fetching data for movie ID tt1622555 from OMDb...\n",
      "Fetching data for movie ID tt0783233 from OMDb...\n"
     ]
    },
    {
     "name": "stderr",
     "output_type": "stream",
     "text": [
      "Fetching movie data:  66%|███████████▊      | 2361/3591 [06:24<02:54,  7.07it/s]"
     ]
    },
    {
     "name": "stdout",
     "output_type": "stream",
     "text": [
      "Fetching data for movie ID tt0461742 from OMDb...\n",
      "Fetching data for movie ID tt2438072 from OMDb...\n"
     ]
    },
    {
     "name": "stderr",
     "output_type": "stream",
     "text": [
      "Fetching movie data:  66%|███████████▊      | 2363/3591 [06:24<03:04,  6.67it/s]"
     ]
    },
    {
     "name": "stdout",
     "output_type": "stream",
     "text": [
      "Fetching data for movie ID tt2217238 from OMDb...\n",
      "Fetching data for movie ID tt2511716 from OMDb...\n"
     ]
    },
    {
     "name": "stderr",
     "output_type": "stream",
     "text": [
      "Fetching movie data:  66%|███████████▊      | 2365/3591 [06:25<02:53,  7.07it/s]"
     ]
    },
    {
     "name": "stdout",
     "output_type": "stream",
     "text": [
      "Fetching data for movie ID tt5471288 from OMDb...\n",
      "Fetching data for movie ID tt0437489 from OMDb...\n"
     ]
    },
    {
     "name": "stderr",
     "output_type": "stream",
     "text": [
      "Fetching movie data:  66%|███████████▊      | 2367/3591 [06:25<03:07,  6.53it/s]"
     ]
    },
    {
     "name": "stdout",
     "output_type": "stream",
     "text": [
      "Fetching data for movie ID tt0384625 from OMDb...\n",
      "Fetching data for movie ID tt0281679 from OMDb...\n"
     ]
    },
    {
     "name": "stderr",
     "output_type": "stream",
     "text": [
      "Fetching movie data:  66%|███████████▊      | 2369/3591 [06:25<03:15,  6.26it/s]"
     ]
    },
    {
     "name": "stdout",
     "output_type": "stream",
     "text": [
      "Fetching data for movie ID tt1632705 from OMDb...\n",
      "Fetching data for movie ID tt0447166 from OMDb...\n"
     ]
    },
    {
     "name": "stderr",
     "output_type": "stream",
     "text": [
      "Fetching movie data:  66%|███████████▉      | 2371/3591 [06:26<03:39,  5.57it/s]"
     ]
    },
    {
     "name": "stdout",
     "output_type": "stream",
     "text": [
      "Fetching data for movie ID tt0464071 from OMDb...\n",
      "Fetching data for movie ID tt2666436 from OMDb...\n"
     ]
    },
    {
     "name": "stderr",
     "output_type": "stream",
     "text": [
      "Fetching movie data:  66%|███████████▉      | 2373/3591 [06:26<03:19,  6.11it/s]"
     ]
    },
    {
     "name": "stdout",
     "output_type": "stream",
     "text": [
      "Fetching data for movie ID tt2466604 from OMDb...\n",
      "Fetching data for movie ID tt1451426 from OMDb...\n"
     ]
    },
    {
     "name": "stderr",
     "output_type": "stream",
     "text": [
      "Fetching movie data:  66%|███████████▉      | 2375/3591 [06:26<03:01,  6.72it/s]"
     ]
    },
    {
     "name": "stdout",
     "output_type": "stream",
     "text": [
      "Fetching data for movie ID tt0397355 from OMDb...\n",
      "Fetching data for movie ID tt0483131 from OMDb...\n"
     ]
    },
    {
     "name": "stderr",
     "output_type": "stream",
     "text": [
      "Fetching movie data:  66%|███████████▉      | 2377/3591 [06:27<02:46,  7.29it/s]"
     ]
    },
    {
     "name": "stdout",
     "output_type": "stream",
     "text": [
      "Fetching data for movie ID tt1669789 from OMDb...\n",
      "Fetching data for movie ID tt0777810 from OMDb...\n"
     ]
    },
    {
     "name": "stderr",
     "output_type": "stream",
     "text": [
      "Fetching movie data:  66%|███████████▉      | 2378/3591 [06:27<02:46,  7.27it/s]"
     ]
    },
    {
     "name": "stdout",
     "output_type": "stream",
     "text": [
      "Fetching data for movie ID tt2335554 from OMDb...\n"
     ]
    },
    {
     "name": "stderr",
     "output_type": "stream",
     "text": [
      "Fetching movie data:  66%|███████████▉      | 2380/3591 [06:27<02:58,  6.77it/s]"
     ]
    },
    {
     "name": "stdout",
     "output_type": "stream",
     "text": [
      "Fetching data for movie ID tt1533792 from OMDb...\n",
      "Fetching data for movie ID tt2363413 from OMDb...\n"
     ]
    },
    {
     "name": "stderr",
     "output_type": "stream",
     "text": [
      "Fetching movie data:  66%|███████████▉      | 2381/3591 [06:27<02:52,  7.00it/s]"
     ]
    },
    {
     "name": "stdout",
     "output_type": "stream",
     "text": [
      "Fetching data for movie ID tt1744850 from OMDb...\n"
     ]
    },
    {
     "name": "stderr",
     "output_type": "stream",
     "text": [
      "Fetching movie data:  66%|███████████▉      | 2383/3591 [06:28<03:14,  6.22it/s]"
     ]
    },
    {
     "name": "stdout",
     "output_type": "stream",
     "text": [
      "Fetching data for movie ID tt0816579 from OMDb...\n",
      "Fetching data for movie ID tt4194094 from OMDb...\n"
     ]
    },
    {
     "name": "stderr",
     "output_type": "stream",
     "text": [
      "Fetching movie data:  66%|███████████▉      | 2385/3591 [06:28<02:57,  6.79it/s]"
     ]
    },
    {
     "name": "stdout",
     "output_type": "stream",
     "text": [
      "Fetching data for movie ID tt1314280 from OMDb...\n",
      "Fetching data for movie ID tt2837550 from OMDb...\n"
     ]
    },
    {
     "name": "stderr",
     "output_type": "stream",
     "text": [
      "Fetching movie data:  66%|███████████▉      | 2387/3591 [06:28<02:56,  6.81it/s]"
     ]
    },
    {
     "name": "stdout",
     "output_type": "stream",
     "text": [
      "Fetching data for movie ID tt1305814 from OMDb...\n",
      "Fetching data for movie ID tt4250010 from OMDb...\n"
     ]
    },
    {
     "name": "stderr",
     "output_type": "stream",
     "text": [
      "Fetching movie data:  67%|███████████▉      | 2389/3591 [06:28<03:01,  6.64it/s]"
     ]
    },
    {
     "name": "stdout",
     "output_type": "stream",
     "text": [
      "Fetching data for movie ID tt0326095 from OMDb...\n",
      "Fetching data for movie ID tt2055720 from OMDb...\n"
     ]
    },
    {
     "name": "stderr",
     "output_type": "stream",
     "text": [
      "Fetching movie data:  67%|███████████▉      | 2391/3591 [06:29<03:07,  6.41it/s]"
     ]
    },
    {
     "name": "stdout",
     "output_type": "stream",
     "text": [
      "Fetching data for movie ID tt1767315 from OMDb...\n",
      "Fetching data for movie ID tt0973822 from OMDb...\n"
     ]
    },
    {
     "name": "stderr",
     "output_type": "stream",
     "text": [
      "Fetching movie data:  67%|███████████▉      | 2393/3591 [06:29<02:54,  6.85it/s]"
     ]
    },
    {
     "name": "stdout",
     "output_type": "stream",
     "text": [
      "Fetching data for movie ID tt0409459 from OMDb...\n",
      "Fetching data for movie ID tt1623182 from OMDb...\n"
     ]
    },
    {
     "name": "stderr",
     "output_type": "stream",
     "text": [
      "Fetching movie data:  67%|████████████      | 2395/3591 [06:29<03:02,  6.55it/s]"
     ]
    },
    {
     "name": "stdout",
     "output_type": "stream",
     "text": [
      "Fetching data for movie ID tt1995478 from OMDb...\n",
      "Fetching data for movie ID tt0439849 from OMDb...\n"
     ]
    },
    {
     "name": "stderr",
     "output_type": "stream",
     "text": [
      "Fetching movie data:  67%|████████████      | 2397/3591 [06:30<02:48,  7.09it/s]"
     ]
    },
    {
     "name": "stdout",
     "output_type": "stream",
     "text": [
      "Fetching data for movie ID tt1261422 from OMDb...\n",
      "Fetching data for movie ID tt4879660 from OMDb...\n"
     ]
    },
    {
     "name": "stderr",
     "output_type": "stream",
     "text": [
      "Fetching movie data:  67%|████████████      | 2399/3591 [06:30<02:47,  7.10it/s]"
     ]
    },
    {
     "name": "stdout",
     "output_type": "stream",
     "text": [
      "Fetching data for movie ID tt0366352 from OMDb...\n",
      "Fetching data for movie ID tt2627826 from OMDb...\n"
     ]
    },
    {
     "name": "stderr",
     "output_type": "stream",
     "text": [
      "Fetching movie data:  67%|████████████      | 2400/3591 [06:30<02:58,  6.66it/s]"
     ]
    },
    {
     "name": "stdout",
     "output_type": "stream",
     "text": [
      "Fetching data for movie ID tt4670290 from OMDb...\n"
     ]
    },
    {
     "name": "stderr",
     "output_type": "stream",
     "text": [
      "Fetching movie data:  67%|████████████      | 2402/3591 [06:30<03:11,  6.20it/s]"
     ]
    },
    {
     "name": "stdout",
     "output_type": "stream",
     "text": [
      "Progress saved after 25000 movies.\n",
      "Fetching data for movie ID tt0302991 from OMDb...\n",
      "Fetching data for movie ID tt0389326 from OMDb...\n"
     ]
    },
    {
     "name": "stderr",
     "output_type": "stream",
     "text": [
      "Fetching movie data:  67%|████████████      | 2404/3591 [06:31<02:47,  7.08it/s]"
     ]
    },
    {
     "name": "stdout",
     "output_type": "stream",
     "text": [
      "Fetching data for movie ID tt0438824 from OMDb...\n",
      "Fetching data for movie ID tt0295456 from OMDb...\n"
     ]
    },
    {
     "name": "stderr",
     "output_type": "stream",
     "text": [
      "Fetching movie data:  67%|████████████      | 2406/3591 [06:31<02:38,  7.46it/s]"
     ]
    },
    {
     "name": "stdout",
     "output_type": "stream",
     "text": [
      "Fetching data for movie ID tt3730010 from OMDb...\n",
      "Fetching data for movie ID tt1723121 from OMDb...\n"
     ]
    },
    {
     "name": "stderr",
     "output_type": "stream",
     "text": [
      "Fetching movie data:  67%|████████████      | 2408/3591 [06:31<02:42,  7.30it/s]"
     ]
    },
    {
     "name": "stdout",
     "output_type": "stream",
     "text": [
      "Fetching data for movie ID tt2435994 from OMDb...\n",
      "Fetching data for movie ID tt0354990 from OMDb...\n"
     ]
    },
    {
     "name": "stderr",
     "output_type": "stream",
     "text": [
      "Fetching movie data:  67%|████████████      | 2410/3591 [06:32<02:39,  7.40it/s]"
     ]
    },
    {
     "name": "stdout",
     "output_type": "stream",
     "text": [
      "Fetching data for movie ID tt0416218 from OMDb...\n",
      "Fetching data for movie ID tt0427541 from OMDb...\n"
     ]
    },
    {
     "name": "stderr",
     "output_type": "stream",
     "text": [
      "Fetching movie data:  67%|████████████      | 2412/3591 [06:32<02:57,  6.64it/s]"
     ]
    },
    {
     "name": "stdout",
     "output_type": "stream",
     "text": [
      "Fetching data for movie ID tt2125653 from OMDb...\n",
      "Fetching data for movie ID tt1218505 from OMDb...\n"
     ]
    },
    {
     "name": "stderr",
     "output_type": "stream",
     "text": [
      "Fetching movie data:  67%|████████████      | 2414/3591 [06:32<03:09,  6.20it/s]"
     ]
    },
    {
     "name": "stdout",
     "output_type": "stream",
     "text": [
      "Fetching data for movie ID tt2147361 from OMDb...\n",
      "Fetching data for movie ID tt3919878 from OMDb...\n"
     ]
    },
    {
     "name": "stderr",
     "output_type": "stream",
     "text": [
      "Fetching movie data:  67%|████████████      | 2416/3591 [06:32<02:52,  6.79it/s]"
     ]
    },
    {
     "name": "stdout",
     "output_type": "stream",
     "text": [
      "Fetching data for movie ID tt2593350 from OMDb...\n",
      "Fetching data for movie ID tt2266865 from OMDb...\n"
     ]
    },
    {
     "name": "stderr",
     "output_type": "stream",
     "text": [
      "Fetching movie data:  67%|████████████      | 2418/3591 [06:33<02:52,  6.80it/s]"
     ]
    },
    {
     "name": "stdout",
     "output_type": "stream",
     "text": [
      "Fetching data for movie ID tt1865385 from OMDb...\n",
      "Fetching data for movie ID tt0462439 from OMDb...\n"
     ]
    },
    {
     "name": "stderr",
     "output_type": "stream",
     "text": [
      "Fetching movie data:  67%|████████████▏     | 2420/3591 [06:33<03:00,  6.50it/s]"
     ]
    },
    {
     "name": "stdout",
     "output_type": "stream",
     "text": [
      "Fetching data for movie ID tt1789037 from OMDb...\n",
      "Fetching data for movie ID tt0332669 from OMDb...\n"
     ]
    },
    {
     "name": "stderr",
     "output_type": "stream",
     "text": [
      "Fetching movie data:  67%|████████████▏     | 2422/3591 [06:33<03:00,  6.47it/s]"
     ]
    },
    {
     "name": "stdout",
     "output_type": "stream",
     "text": [
      "Fetching data for movie ID tt1942802 from OMDb...\n",
      "Fetching data for movie ID tt0282917 from OMDb...\n"
     ]
    },
    {
     "name": "stderr",
     "output_type": "stream",
     "text": [
      "Fetching movie data:  68%|████████████▏     | 2424/3591 [06:34<03:26,  5.66it/s]"
     ]
    },
    {
     "name": "stdout",
     "output_type": "stream",
     "text": [
      "Fetching data for movie ID tt1589490 from OMDb...\n",
      "Fetching data for movie ID tt1849107 from OMDb...\n"
     ]
    },
    {
     "name": "stderr",
     "output_type": "stream",
     "text": [
      "Fetching movie data:  68%|████████████▏     | 2426/3591 [06:34<03:10,  6.12it/s]"
     ]
    },
    {
     "name": "stdout",
     "output_type": "stream",
     "text": [
      "Fetching data for movie ID tt1065328 from OMDb...\n",
      "Fetching data for movie ID tt3855904 from OMDb...\n"
     ]
    },
    {
     "name": "stderr",
     "output_type": "stream",
     "text": [
      "Fetching movie data:  68%|████████████▏     | 2428/3591 [06:34<02:58,  6.51it/s]"
     ]
    },
    {
     "name": "stdout",
     "output_type": "stream",
     "text": [
      "Fetching data for movie ID tt1435507 from OMDb...\n",
      "Fetching data for movie ID tt0257289 from OMDb...\n"
     ]
    },
    {
     "name": "stderr",
     "output_type": "stream",
     "text": [
      "Fetching movie data:  68%|████████████▏     | 2430/3591 [06:35<03:31,  5.50it/s]"
     ]
    },
    {
     "name": "stdout",
     "output_type": "stream",
     "text": [
      "Fetching data for movie ID tt4321914 from OMDb...\n",
      "Fetching data for movie ID tt1499964 from OMDb...\n"
     ]
    },
    {
     "name": "stderr",
     "output_type": "stream",
     "text": [
      "Fetching movie data:  68%|████████████▏     | 2432/3591 [06:35<03:02,  6.36it/s]"
     ]
    },
    {
     "name": "stdout",
     "output_type": "stream",
     "text": [
      "Fetching data for movie ID tt1372294 from OMDb...\n",
      "Fetching data for movie ID tt0449972 from OMDb...\n"
     ]
    },
    {
     "name": "stderr",
     "output_type": "stream",
     "text": [
      "Fetching movie data:  68%|████████████▏     | 2434/3591 [06:35<03:07,  6.17it/s]"
     ]
    },
    {
     "name": "stdout",
     "output_type": "stream",
     "text": [
      "Fetching data for movie ID tt1672169 from OMDb...\n",
      "Fetching data for movie ID tt1712050 from OMDb...\n"
     ]
    },
    {
     "name": "stderr",
     "output_type": "stream",
     "text": [
      "Fetching movie data:  68%|████████████▏     | 2436/3591 [06:36<02:50,  6.77it/s]"
     ]
    },
    {
     "name": "stdout",
     "output_type": "stream",
     "text": [
      "Fetching data for movie ID tt0441100 from OMDb...\n",
      "Fetching data for movie ID tt0419781 from OMDb...\n"
     ]
    },
    {
     "name": "stderr",
     "output_type": "stream",
     "text": [
      "Fetching movie data:  68%|████████████▏     | 2438/3591 [06:36<03:00,  6.37it/s]"
     ]
    },
    {
     "name": "stdout",
     "output_type": "stream",
     "text": [
      "Fetching data for movie ID tt1519657 from OMDb...\n",
      "Fetching data for movie ID tt0945404 from OMDb...\n"
     ]
    },
    {
     "name": "stderr",
     "output_type": "stream",
     "text": [
      "Fetching movie data:  68%|████████████▏     | 2440/3591 [06:36<02:46,  6.90it/s]"
     ]
    },
    {
     "name": "stdout",
     "output_type": "stream",
     "text": [
      "Fetching data for movie ID tt2814526 from OMDb...\n",
      "Fetching data for movie ID tt0853128 from OMDb...\n"
     ]
    },
    {
     "name": "stderr",
     "output_type": "stream",
     "text": [
      "Fetching movie data:  68%|████████████▏     | 2442/3591 [06:37<02:45,  6.92it/s]"
     ]
    },
    {
     "name": "stdout",
     "output_type": "stream",
     "text": [
      "Fetching data for movie ID tt1540792 from OMDb...\n",
      "Fetching data for movie ID tt0330713 from OMDb...\n"
     ]
    },
    {
     "name": "stderr",
     "output_type": "stream",
     "text": [
      "Fetching movie data:  68%|████████████▎     | 2444/3591 [06:37<02:45,  6.92it/s]"
     ]
    },
    {
     "name": "stdout",
     "output_type": "stream",
     "text": [
      "Fetching data for movie ID tt0221027 from OMDb...\n",
      "Fetching data for movie ID tt1753437 from OMDb...\n"
     ]
    },
    {
     "name": "stderr",
     "output_type": "stream",
     "text": [
      "Fetching movie data:  68%|████████████▎     | 2446/3591 [06:37<02:39,  7.17it/s]"
     ]
    },
    {
     "name": "stdout",
     "output_type": "stream",
     "text": [
      "Fetching data for movie ID tt1029316 from OMDb...\n",
      "Fetching data for movie ID tt2048910 from OMDb...\n"
     ]
    },
    {
     "name": "stderr",
     "output_type": "stream",
     "text": [
      "Fetching movie data:  68%|████████████▎     | 2448/3591 [06:37<02:21,  8.08it/s]"
     ]
    },
    {
     "name": "stdout",
     "output_type": "stream",
     "text": [
      "Fetching data for movie ID tt0489751 from OMDb...\n",
      "Fetching data for movie ID tt0371560 from OMDb...\n"
     ]
    },
    {
     "name": "stderr",
     "output_type": "stream",
     "text": [
      "Fetching movie data:  68%|████████████▎     | 2450/3591 [06:38<02:47,  6.81it/s]"
     ]
    },
    {
     "name": "stdout",
     "output_type": "stream",
     "text": [
      "Fetching data for movie ID tt1058522 from OMDb...\n",
      "Fetching data for movie ID tt1861331 from OMDb...\n"
     ]
    },
    {
     "name": "stderr",
     "output_type": "stream",
     "text": [
      "Fetching movie data:  68%|████████████▎     | 2452/3591 [06:38<02:44,  6.94it/s]"
     ]
    },
    {
     "name": "stdout",
     "output_type": "stream",
     "text": [
      "Fetching data for movie ID tt2265195 from OMDb...\n",
      "Fetching data for movie ID tt0322635 from OMDb...\n"
     ]
    },
    {
     "name": "stderr",
     "output_type": "stream",
     "text": [
      "Fetching movie data:  68%|████████████▎     | 2454/3591 [06:38<02:42,  7.02it/s]"
     ]
    },
    {
     "name": "stdout",
     "output_type": "stream",
     "text": [
      "Fetching data for movie ID tt0268727 from OMDb...\n",
      "Fetching data for movie ID tt0414347 from OMDb...\n"
     ]
    },
    {
     "name": "stderr",
     "output_type": "stream",
     "text": [
      "Fetching movie data:  68%|████████████▎     | 2456/3591 [06:39<02:47,  6.79it/s]"
     ]
    },
    {
     "name": "stdout",
     "output_type": "stream",
     "text": [
      "Fetching data for movie ID tt1339196 from OMDb...\n",
      "Fetching data for movie ID tt0995728 from OMDb...\n"
     ]
    },
    {
     "name": "stderr",
     "output_type": "stream",
     "text": [
      "Fetching movie data:  68%|████████████▎     | 2458/3591 [06:39<03:02,  6.20it/s]"
     ]
    },
    {
     "name": "stdout",
     "output_type": "stream",
     "text": [
      "Fetching data for movie ID tt1535021 from OMDb...\n",
      "Fetching data for movie ID tt1753562 from OMDb...\n"
     ]
    },
    {
     "name": "stderr",
     "output_type": "stream",
     "text": [
      "Fetching movie data:  69%|████████████▎     | 2460/3591 [06:39<02:54,  6.49it/s]"
     ]
    },
    {
     "name": "stdout",
     "output_type": "stream",
     "text": [
      "Fetching data for movie ID tt2298780 from OMDb...\n",
      "Fetching data for movie ID tt0244504 from OMDb...\n"
     ]
    },
    {
     "name": "stderr",
     "output_type": "stream",
     "text": [
      "Fetching movie data:  69%|████████████▎     | 2462/3591 [06:40<02:44,  6.87it/s]"
     ]
    },
    {
     "name": "stdout",
     "output_type": "stream",
     "text": [
      "Fetching data for movie ID tt2156807 from OMDb...\n",
      "Fetching data for movie ID tt1200820 from OMDb...\n"
     ]
    },
    {
     "name": "stderr",
     "output_type": "stream",
     "text": [
      "Fetching movie data:  69%|████████████▎     | 2464/3591 [06:40<02:58,  6.30it/s]"
     ]
    },
    {
     "name": "stdout",
     "output_type": "stream",
     "text": [
      "Fetching data for movie ID tt0389096 from OMDb...\n",
      "Fetching data for movie ID tt1179947 from OMDb...\n"
     ]
    },
    {
     "name": "stderr",
     "output_type": "stream",
     "text": [
      "Fetching movie data:  69%|████████████▎     | 2466/3591 [06:40<02:54,  6.43it/s]"
     ]
    },
    {
     "name": "stdout",
     "output_type": "stream",
     "text": [
      "Fetching data for movie ID tt2354391 from OMDb...\n",
      "Fetching data for movie ID tt1455000 from OMDb...\n"
     ]
    },
    {
     "name": "stderr",
     "output_type": "stream",
     "text": [
      "Fetching movie data:  69%|████████████▎     | 2468/3591 [06:40<02:44,  6.83it/s]"
     ]
    },
    {
     "name": "stdout",
     "output_type": "stream",
     "text": [
      "Fetching data for movie ID tt0371583 from OMDb...\n",
      "Fetching data for movie ID tt3726156 from OMDb...\n"
     ]
    },
    {
     "name": "stderr",
     "output_type": "stream",
     "text": [
      "Fetching movie data:  69%|████████████▍     | 2470/3591 [06:41<02:44,  6.83it/s]"
     ]
    },
    {
     "name": "stdout",
     "output_type": "stream",
     "text": [
      "Fetching data for movie ID tt1798174 from OMDb...\n",
      "Fetching data for movie ID tt1945041 from OMDb...\n"
     ]
    },
    {
     "name": "stderr",
     "output_type": "stream",
     "text": [
      "Fetching movie data:  69%|████████████▍     | 2472/3591 [06:41<02:54,  6.40it/s]"
     ]
    },
    {
     "name": "stdout",
     "output_type": "stream",
     "text": [
      "Fetching data for movie ID tt1483762 from OMDb...\n",
      "Fetching data for movie ID tt1579950 from OMDb...\n"
     ]
    },
    {
     "name": "stderr",
     "output_type": "stream",
     "text": [
      "Fetching movie data:  69%|████████████▍     | 2474/3591 [06:41<03:02,  6.13it/s]"
     ]
    },
    {
     "name": "stdout",
     "output_type": "stream",
     "text": [
      "Fetching data for movie ID tt4339972 from OMDb...\n",
      "Fetching data for movie ID tt2619098 from OMDb...\n"
     ]
    },
    {
     "name": "stderr",
     "output_type": "stream",
     "text": [
      "Fetching movie data:  69%|████████████▍     | 2476/3591 [06:42<02:56,  6.31it/s]"
     ]
    },
    {
     "name": "stdout",
     "output_type": "stream",
     "text": [
      "Fetching data for movie ID tt3203924 from OMDb...\n",
      "Fetching data for movie ID tt2315588 from OMDb...\n"
     ]
    },
    {
     "name": "stderr",
     "output_type": "stream",
     "text": [
      "Fetching movie data:  69%|████████████▍     | 2478/3591 [06:42<02:36,  7.11it/s]"
     ]
    },
    {
     "name": "stdout",
     "output_type": "stream",
     "text": [
      "Fetching data for movie ID tt21084824 from OMDb...\n",
      "Fetching data for movie ID tt1347314 from OMDb...\n"
     ]
    },
    {
     "name": "stderr",
     "output_type": "stream",
     "text": [
      "Fetching movie data:  69%|████████████▍     | 2480/3591 [06:42<02:52,  6.44it/s]"
     ]
    },
    {
     "name": "stdout",
     "output_type": "stream",
     "text": [
      "Fetching data for movie ID tt1022580 from OMDb...\n",
      "Fetching data for movie ID tt0801335 from OMDb...\n"
     ]
    },
    {
     "name": "stderr",
     "output_type": "stream",
     "text": [
      "Fetching movie data:  69%|████████████▍     | 2482/3591 [06:43<03:00,  6.14it/s]"
     ]
    },
    {
     "name": "stdout",
     "output_type": "stream",
     "text": [
      "Fetching data for movie ID tt1453965 from OMDb...\n",
      "Fetching data for movie ID tt1540851 from OMDb...\n"
     ]
    },
    {
     "name": "stderr",
     "output_type": "stream",
     "text": [
      "Fetching movie data:  69%|████████████▍     | 2484/3591 [06:43<03:01,  6.08it/s]"
     ]
    },
    {
     "name": "stdout",
     "output_type": "stream",
     "text": [
      "Fetching data for movie ID tt2102343 from OMDb...\n",
      "Fetching data for movie ID tt20259142 from OMDb...\n"
     ]
    },
    {
     "name": "stderr",
     "output_type": "stream",
     "text": [
      "Fetching movie data:  69%|████████████▍     | 2486/3591 [06:43<02:58,  6.17it/s]"
     ]
    },
    {
     "name": "stdout",
     "output_type": "stream",
     "text": [
      "Fetching data for movie ID tt14189144 from OMDb...\n",
      "Fetching data for movie ID tt0455828 from OMDb...\n"
     ]
    },
    {
     "name": "stderr",
     "output_type": "stream",
     "text": [
      "Fetching movie data:  69%|████████████▍     | 2488/3591 [06:44<02:52,  6.38it/s]"
     ]
    },
    {
     "name": "stdout",
     "output_type": "stream",
     "text": [
      "Fetching data for movie ID tt1729666 from OMDb...\n",
      "Fetching data for movie ID tt2179243 from OMDb...\n"
     ]
    },
    {
     "name": "stderr",
     "output_type": "stream",
     "text": [
      "Fetching movie data:  69%|████████████▍     | 2489/3591 [06:44<02:59,  6.14it/s]"
     ]
    },
    {
     "name": "stdout",
     "output_type": "stream",
     "text": [
      "Fetching data for movie ID tt2126304 from OMDb...\n"
     ]
    },
    {
     "name": "stderr",
     "output_type": "stream",
     "text": [
      "Fetching movie data:  69%|████████████▍     | 2491/3591 [06:44<03:24,  5.37it/s]"
     ]
    },
    {
     "name": "stdout",
     "output_type": "stream",
     "text": [
      "Fetching data for movie ID tt2340784 from OMDb...\n",
      "Fetching data for movie ID tt1202232 from OMDb...\n"
     ]
    },
    {
     "name": "stderr",
     "output_type": "stream",
     "text": [
      "Fetching movie data:  69%|████████████▍     | 2493/3591 [06:45<02:58,  6.14it/s]"
     ]
    },
    {
     "name": "stdout",
     "output_type": "stream",
     "text": [
      "Fetching data for movie ID tt1241325 from OMDb...\n",
      "Fetching data for movie ID tt1077094 from OMDb...\n"
     ]
    },
    {
     "name": "stderr",
     "output_type": "stream",
     "text": [
      "Fetching movie data:  69%|████████████▌     | 2495/3591 [06:45<02:46,  6.58it/s]"
     ]
    },
    {
     "name": "stdout",
     "output_type": "stream",
     "text": [
      "Fetching data for movie ID tt2431128 from OMDb...\n",
      "Fetching data for movie ID tt3312670 from OMDb...\n"
     ]
    },
    {
     "name": "stderr",
     "output_type": "stream",
     "text": [
      "Fetching movie data:  70%|████████████▌     | 2497/3591 [06:45<02:35,  7.06it/s]"
     ]
    },
    {
     "name": "stdout",
     "output_type": "stream",
     "text": [
      "Fetching data for movie ID tt1615865 from OMDb...\n",
      "Fetching data for movie ID tt0794374 from OMDb...\n"
     ]
    },
    {
     "name": "stderr",
     "output_type": "stream",
     "text": [
      "Fetching movie data:  70%|████████████▌     | 2498/3591 [06:45<02:45,  6.59it/s]"
     ]
    },
    {
     "name": "stdout",
     "output_type": "stream",
     "text": [
      "Fetching data for movie ID tt1325556 from OMDb...\n"
     ]
    },
    {
     "name": "stderr",
     "output_type": "stream",
     "text": [
      "Fetching movie data:  70%|████████████▌     | 2500/3591 [06:46<03:06,  5.86it/s]"
     ]
    },
    {
     "name": "stdout",
     "output_type": "stream",
     "text": [
      "Fetching data for movie ID tt1337064 from OMDb...\n",
      "Fetching data for movie ID tt2087863 from OMDb...\n"
     ]
    },
    {
     "name": "stderr",
     "output_type": "stream",
     "text": [
      "Fetching movie data:  70%|████████████▌     | 2502/3591 [06:46<03:08,  5.78it/s]"
     ]
    },
    {
     "name": "stdout",
     "output_type": "stream",
     "text": [
      "Progress saved after 25100 movies.\n",
      "Fetching data for movie ID tt1830715 from OMDb...\n",
      "Fetching data for movie ID tt1542447 from OMDb...\n"
     ]
    },
    {
     "name": "stderr",
     "output_type": "stream",
     "text": [
      "Fetching movie data:  70%|████████████▌     | 2504/3591 [06:46<02:52,  6.31it/s]"
     ]
    },
    {
     "name": "stdout",
     "output_type": "stream",
     "text": [
      "Fetching data for movie ID tt2345573 from OMDb...\n",
      "Fetching data for movie ID tt2342275 from OMDb...\n"
     ]
    },
    {
     "name": "stderr",
     "output_type": "stream",
     "text": [
      "Fetching movie data:  70%|████████████▌     | 2506/3591 [06:47<02:33,  7.06it/s]"
     ]
    },
    {
     "name": "stdout",
     "output_type": "stream",
     "text": [
      "Fetching data for movie ID tt0422955 from OMDb...\n",
      "Fetching data for movie ID tt0267297 from OMDb...\n"
     ]
    },
    {
     "name": "stderr",
     "output_type": "stream",
     "text": [
      "Fetching movie data:  70%|████████████▌     | 2507/3591 [06:47<02:21,  7.64it/s]"
     ]
    },
    {
     "name": "stdout",
     "output_type": "stream",
     "text": [
      "Fetching data for movie ID tt3062676 from OMDb...\n"
     ]
    },
    {
     "name": "stderr",
     "output_type": "stream",
     "text": [
      "Fetching movie data:  70%|████████████▌     | 2509/3591 [06:47<02:53,  6.22it/s]"
     ]
    },
    {
     "name": "stdout",
     "output_type": "stream",
     "text": [
      "Fetching data for movie ID tt0996982 from OMDb...\n",
      "Fetching data for movie ID tt0406216 from OMDb...\n"
     ]
    },
    {
     "name": "stderr",
     "output_type": "stream",
     "text": [
      "Fetching movie data:  70%|████████████▌     | 2511/3591 [06:47<03:02,  5.92it/s]"
     ]
    },
    {
     "name": "stdout",
     "output_type": "stream",
     "text": [
      "Fetching data for movie ID tt1590089 from OMDb...\n",
      "Fetching data for movie ID tt2319853 from OMDb...\n"
     ]
    },
    {
     "name": "stderr",
     "output_type": "stream",
     "text": [
      "Fetching movie data:  70%|████████████▌     | 2513/3591 [06:48<02:57,  6.09it/s]"
     ]
    },
    {
     "name": "stdout",
     "output_type": "stream",
     "text": [
      "Fetching data for movie ID tt0479872 from OMDb...\n",
      "Fetching data for movie ID tt4363202 from OMDb...\n"
     ]
    },
    {
     "name": "stderr",
     "output_type": "stream",
     "text": [
      "Fetching movie data:  70%|████████████▌     | 2515/3591 [06:48<02:47,  6.41it/s]"
     ]
    },
    {
     "name": "stdout",
     "output_type": "stream",
     "text": [
      "Fetching data for movie ID tt0297259 from OMDb...\n",
      "Fetching data for movie ID tt0815229 from OMDb...\n"
     ]
    },
    {
     "name": "stderr",
     "output_type": "stream",
     "text": [
      "Fetching movie data:  70%|████████████▌     | 2517/3591 [06:48<02:37,  6.80it/s]"
     ]
    },
    {
     "name": "stdout",
     "output_type": "stream",
     "text": [
      "Fetching data for movie ID tt2673724 from OMDb...\n",
      "Fetching data for movie ID tt1789707 from OMDb...\n"
     ]
    },
    {
     "name": "stderr",
     "output_type": "stream",
     "text": [
      "Fetching movie data:  70%|████████████▋     | 2519/3591 [06:49<02:43,  6.54it/s]"
     ]
    },
    {
     "name": "stdout",
     "output_type": "stream",
     "text": [
      "Fetching data for movie ID tt0187838 from OMDb...\n",
      "Fetching data for movie ID tt0286795 from OMDb...\n"
     ]
    },
    {
     "name": "stderr",
     "output_type": "stream",
     "text": [
      "Fetching movie data:  70%|████████████▋     | 2521/3591 [06:49<02:35,  6.87it/s]"
     ]
    },
    {
     "name": "stdout",
     "output_type": "stream",
     "text": [
      "Fetching data for movie ID tt0260991 from OMDb...\n",
      "Fetching data for movie ID tt2249204 from OMDb...\n"
     ]
    },
    {
     "name": "stderr",
     "output_type": "stream",
     "text": [
      "Fetching movie data:  70%|████████████▋     | 2523/3591 [06:49<02:47,  6.37it/s]"
     ]
    },
    {
     "name": "stdout",
     "output_type": "stream",
     "text": [
      "Fetching data for movie ID tt1187043 from OMDb...\n",
      "Fetching data for movie ID tt0848598 from OMDb...\n"
     ]
    },
    {
     "name": "stderr",
     "output_type": "stream",
     "text": [
      "Fetching movie data:  70%|████████████▋     | 2525/3591 [06:50<02:43,  6.52it/s]"
     ]
    },
    {
     "name": "stdout",
     "output_type": "stream",
     "text": [
      "Fetching data for movie ID tt13978476 from OMDb...\n",
      "Fetching data for movie ID tt0770185 from OMDb...\n"
     ]
    },
    {
     "name": "stderr",
     "output_type": "stream",
     "text": [
      "Fetching movie data:  70%|████████████▋     | 2527/3591 [06:50<02:40,  6.64it/s]"
     ]
    },
    {
     "name": "stdout",
     "output_type": "stream",
     "text": [
      "Fetching data for movie ID tt0850356 from OMDb...\n",
      "Fetching data for movie ID tt0419749 from OMDb...\n"
     ]
    },
    {
     "name": "stderr",
     "output_type": "stream",
     "text": [
      "Fetching movie data:  70%|████████████▋     | 2529/3591 [06:50<02:46,  6.39it/s]"
     ]
    },
    {
     "name": "stdout",
     "output_type": "stream",
     "text": [
      "Fetching data for movie ID tt8911302 from OMDb...\n",
      "Fetching data for movie ID tt1686025 from OMDb...\n"
     ]
    },
    {
     "name": "stderr",
     "output_type": "stream",
     "text": [
      "Fetching movie data:  70%|████████████▋     | 2531/3591 [06:51<03:03,  5.79it/s]"
     ]
    },
    {
     "name": "stdout",
     "output_type": "stream",
     "text": [
      "Fetching data for movie ID tt1547032 from OMDb...\n",
      "Fetching data for movie ID tt0768120 from OMDb...\n"
     ]
    },
    {
     "name": "stderr",
     "output_type": "stream",
     "text": [
      "Fetching movie data:  71%|████████████▋     | 2533/3591 [06:51<03:11,  5.51it/s]"
     ]
    },
    {
     "name": "stdout",
     "output_type": "stream",
     "text": [
      "Fetching data for movie ID tt1186366 from OMDb...\n",
      "Fetching data for movie ID tt2713406 from OMDb...\n"
     ]
    },
    {
     "name": "stderr",
     "output_type": "stream",
     "text": [
      "Fetching movie data:  71%|████████████▋     | 2535/3591 [06:51<03:07,  5.64it/s]"
     ]
    },
    {
     "name": "stdout",
     "output_type": "stream",
     "text": [
      "Fetching data for movie ID tt0289176 from OMDb...\n",
      "Fetching data for movie ID tt7516468 from OMDb...\n"
     ]
    },
    {
     "name": "stderr",
     "output_type": "stream",
     "text": [
      "Fetching movie data:  71%|████████████▋     | 2537/3591 [06:52<02:46,  6.33it/s]"
     ]
    },
    {
     "name": "stdout",
     "output_type": "stream",
     "text": [
      "Fetching data for movie ID tt1505145 from OMDb...\n",
      "Fetching data for movie ID tt0359991 from OMDb...\n"
     ]
    },
    {
     "name": "stderr",
     "output_type": "stream",
     "text": [
      "Fetching movie data:  71%|████████████▋     | 2539/3591 [06:52<02:42,  6.47it/s]"
     ]
    },
    {
     "name": "stdout",
     "output_type": "stream",
     "text": [
      "Fetching data for movie ID tt0290322 from OMDb...\n",
      "Fetching data for movie ID tt3314400 from OMDb...\n"
     ]
    },
    {
     "name": "stderr",
     "output_type": "stream",
     "text": [
      "Fetching movie data:  71%|████████████▋     | 2541/3591 [06:52<02:34,  6.79it/s]"
     ]
    },
    {
     "name": "stdout",
     "output_type": "stream",
     "text": [
      "Fetching data for movie ID tt0420332 from OMDb...\n",
      "Fetching data for movie ID tt1658842 from OMDb...\n"
     ]
    },
    {
     "name": "stderr",
     "output_type": "stream",
     "text": [
      "Fetching movie data:  71%|████████████▋     | 2543/3591 [06:52<02:23,  7.30it/s]"
     ]
    },
    {
     "name": "stdout",
     "output_type": "stream",
     "text": [
      "Fetching data for movie ID tt1855593 from OMDb...\n",
      "Fetching data for movie ID tt0455952 from OMDb...\n"
     ]
    },
    {
     "name": "stderr",
     "output_type": "stream",
     "text": [
      "Fetching movie data:  71%|████████████▊     | 2545/3591 [06:53<02:43,  6.40it/s]"
     ]
    },
    {
     "name": "stdout",
     "output_type": "stream",
     "text": [
      "Fetching data for movie ID tt0488868 from OMDb...\n",
      "Fetching data for movie ID tt3603370 from OMDb...\n"
     ]
    },
    {
     "name": "stderr",
     "output_type": "stream",
     "text": [
      "Fetching movie data:  71%|████████████▊     | 2547/3591 [06:53<02:42,  6.42it/s]"
     ]
    },
    {
     "name": "stdout",
     "output_type": "stream",
     "text": [
      "Fetching data for movie ID tt2979362 from OMDb...\n",
      "Fetching data for movie ID tt2593128 from OMDb...\n"
     ]
    },
    {
     "name": "stderr",
     "output_type": "stream",
     "text": [
      "Fetching movie data:  71%|████████████▊     | 2549/3591 [06:53<02:40,  6.49it/s]"
     ]
    },
    {
     "name": "stdout",
     "output_type": "stream",
     "text": [
      "Fetching data for movie ID tt0333376 from OMDb...\n",
      "Fetching data for movie ID tt2799660 from OMDb...\n"
     ]
    },
    {
     "name": "stderr",
     "output_type": "stream",
     "text": [
      "Fetching movie data:  71%|████████████▊     | 2551/3591 [06:54<02:25,  7.14it/s]"
     ]
    },
    {
     "name": "stdout",
     "output_type": "stream",
     "text": [
      "Fetching data for movie ID tt2556840 from OMDb...\n",
      "Fetching data for movie ID tt1408343 from OMDb...\n"
     ]
    },
    {
     "name": "stderr",
     "output_type": "stream",
     "text": [
      "Fetching movie data:  71%|████████████▊     | 2553/3591 [06:54<02:24,  7.20it/s]"
     ]
    },
    {
     "name": "stdout",
     "output_type": "stream",
     "text": [
      "Fetching data for movie ID tt2359002 from OMDb...\n",
      "Fetching data for movie ID tt1355615 from OMDb...\n"
     ]
    },
    {
     "name": "stderr",
     "output_type": "stream",
     "text": [
      "Fetching movie data:  71%|████████████▊     | 2554/3591 [06:54<02:24,  7.16it/s]"
     ]
    },
    {
     "name": "stdout",
     "output_type": "stream",
     "text": [
      "Fetching data for movie ID tt1733562 from OMDb...\n"
     ]
    },
    {
     "name": "stderr",
     "output_type": "stream",
     "text": [
      "Fetching movie data:  71%|████████████▊     | 2556/3591 [06:54<02:50,  6.08it/s]"
     ]
    },
    {
     "name": "stdout",
     "output_type": "stream",
     "text": [
      "Fetching data for movie ID tt0475397 from OMDb...\n",
      "Fetching data for movie ID tt2070695 from OMDb...\n"
     ]
    },
    {
     "name": "stderr",
     "output_type": "stream",
     "text": [
      "Fetching movie data:  71%|████████████▊     | 2558/3591 [06:55<02:31,  6.81it/s]"
     ]
    },
    {
     "name": "stdout",
     "output_type": "stream",
     "text": [
      "Fetching data for movie ID tt1166085 from OMDb...\n",
      "Fetching data for movie ID tt0984125 from OMDb...\n"
     ]
    },
    {
     "name": "stderr",
     "output_type": "stream",
     "text": [
      "Fetching movie data:  71%|████████████▊     | 2560/3591 [06:55<02:46,  6.20it/s]"
     ]
    },
    {
     "name": "stdout",
     "output_type": "stream",
     "text": [
      "Fetching data for movie ID tt2580744 from OMDb...\n",
      "Fetching data for movie ID tt1791616 from OMDb...\n"
     ]
    },
    {
     "name": "stderr",
     "output_type": "stream",
     "text": [
      "Fetching movie data:  71%|████████████▊     | 2562/3591 [06:55<02:27,  6.97it/s]"
     ]
    },
    {
     "name": "stdout",
     "output_type": "stream",
     "text": [
      "Fetching data for movie ID tt1093837 from OMDb...\n",
      "Fetching data for movie ID tt2154685 from OMDb...\n"
     ]
    },
    {
     "name": "stderr",
     "output_type": "stream",
     "text": [
      "Fetching movie data:  71%|████████████▊     | 2564/3591 [06:56<02:18,  7.41it/s]"
     ]
    },
    {
     "name": "stdout",
     "output_type": "stream",
     "text": [
      "Fetching data for movie ID tt0357431 from OMDb...\n",
      "Fetching data for movie ID tt1132578 from OMDb...\n"
     ]
    },
    {
     "name": "stderr",
     "output_type": "stream",
     "text": [
      "Fetching movie data:  71%|████████████▊     | 2566/3591 [06:56<02:49,  6.06it/s]"
     ]
    },
    {
     "name": "stdout",
     "output_type": "stream",
     "text": [
      "Fetching data for movie ID tt1418860 from OMDb...\n"
     ]
    },
    {
     "name": "stderr",
     "output_type": "stream",
     "text": [
      "Fetching movie data:  71%|████████████▊     | 2567/3591 [06:56<02:52,  5.93it/s]"
     ]
    },
    {
     "name": "stdout",
     "output_type": "stream",
     "text": [
      "Fetching data for movie ID tt2130321 from OMDb...\n",
      "Fetching data for movie ID tt2304617 from OMDb...\n"
     ]
    },
    {
     "name": "stderr",
     "output_type": "stream",
     "text": [
      "Fetching movie data:  72%|████████████▉     | 2569/3591 [06:56<02:51,  5.96it/s]"
     ]
    },
    {
     "name": "stdout",
     "output_type": "stream",
     "text": [
      "Fetching data for movie ID tt0910747 from OMDb...\n",
      "Fetching data for movie ID tt21650980 from OMDb...\n"
     ]
    },
    {
     "name": "stderr",
     "output_type": "stream",
     "text": [
      "Fetching movie data:  72%|████████████▉     | 2571/3591 [06:57<02:54,  5.83it/s]"
     ]
    },
    {
     "name": "stdout",
     "output_type": "stream",
     "text": [
      "Fetching data for movie ID tt2165735 from OMDb...\n",
      "Fetching data for movie ID tt0471834 from OMDb...\n"
     ]
    },
    {
     "name": "stderr",
     "output_type": "stream",
     "text": [
      "Fetching movie data:  72%|████████████▉     | 2573/3591 [06:57<02:38,  6.41it/s]"
     ]
    },
    {
     "name": "stdout",
     "output_type": "stream",
     "text": [
      "Fetching data for movie ID tt0484890 from OMDb...\n",
      "Fetching data for movie ID tt2015370 from OMDb...\n"
     ]
    },
    {
     "name": "stderr",
     "output_type": "stream",
     "text": [
      "Fetching movie data:  72%|████████████▉     | 2575/3591 [06:57<02:41,  6.31it/s]"
     ]
    },
    {
     "name": "stdout",
     "output_type": "stream",
     "text": [
      "Fetching data for movie ID tt0254610 from OMDb...\n",
      "Fetching data for movie ID tt1921062 from OMDb...\n"
     ]
    },
    {
     "name": "stderr",
     "output_type": "stream",
     "text": [
      "Fetching movie data:  72%|████████████▉     | 2577/3591 [06:58<02:33,  6.59it/s]"
     ]
    },
    {
     "name": "stdout",
     "output_type": "stream",
     "text": [
      "Fetching data for movie ID tt0456018 from OMDb...\n",
      "Fetching data for movie ID tt0986329 from OMDb...\n"
     ]
    },
    {
     "name": "stderr",
     "output_type": "stream",
     "text": [
      "Fetching movie data:  72%|████████████▉     | 2579/3591 [06:58<02:28,  6.80it/s]"
     ]
    },
    {
     "name": "stdout",
     "output_type": "stream",
     "text": [
      "Fetching data for movie ID tt27103162 from OMDb...\n",
      "Fetching data for movie ID tt2393761 from OMDb...\n"
     ]
    },
    {
     "name": "stderr",
     "output_type": "stream",
     "text": [
      "Fetching movie data:  72%|████████████▉     | 2581/3591 [06:58<02:37,  6.39it/s]"
     ]
    },
    {
     "name": "stdout",
     "output_type": "stream",
     "text": [
      "Fetching data for movie ID tt1612036 from OMDb...\n",
      "Fetching data for movie ID tt0804526 from OMDb...\n"
     ]
    },
    {
     "name": "stderr",
     "output_type": "stream",
     "text": [
      "Fetching movie data:  72%|████████████▉     | 2583/3591 [06:59<02:38,  6.35it/s]"
     ]
    },
    {
     "name": "stdout",
     "output_type": "stream",
     "text": [
      "Fetching data for movie ID tt0964544 from OMDb...\n",
      "Fetching data for movie ID tt1679172 from OMDb...\n"
     ]
    },
    {
     "name": "stderr",
     "output_type": "stream",
     "text": [
      "Fetching movie data:  72%|████████████▉     | 2585/3591 [06:59<02:50,  5.88it/s]"
     ]
    },
    {
     "name": "stdout",
     "output_type": "stream",
     "text": [
      "Fetching data for movie ID tt0329321 from OMDb...\n",
      "Fetching data for movie ID tt0292066 from OMDb...\n"
     ]
    },
    {
     "name": "stderr",
     "output_type": "stream",
     "text": [
      "Fetching movie data:  72%|████████████▉     | 2587/3591 [06:59<02:41,  6.22it/s]"
     ]
    },
    {
     "name": "stdout",
     "output_type": "stream",
     "text": [
      "Fetching data for movie ID tt1361538 from OMDb...\n",
      "Fetching data for movie ID tt2015508 from OMDb...\n"
     ]
    },
    {
     "name": "stderr",
     "output_type": "stream",
     "text": [
      "Fetching movie data:  72%|████████████▉     | 2589/3591 [07:00<02:35,  6.46it/s]"
     ]
    },
    {
     "name": "stdout",
     "output_type": "stream",
     "text": [
      "Fetching data for movie ID tt1224448 from OMDb...\n",
      "Fetching data for movie ID tt1603832 from OMDb...\n"
     ]
    },
    {
     "name": "stderr",
     "output_type": "stream",
     "text": [
      "Fetching movie data:  72%|████████████▉     | 2590/3591 [07:00<02:41,  6.18it/s]"
     ]
    },
    {
     "name": "stdout",
     "output_type": "stream",
     "text": [
      "Fetching data for movie ID tt0304123 from OMDb...\n"
     ]
    },
    {
     "name": "stderr",
     "output_type": "stream",
     "text": [
      "Fetching movie data:  72%|████████████▉     | 2592/3591 [07:00<02:42,  6.14it/s]"
     ]
    },
    {
     "name": "stdout",
     "output_type": "stream",
     "text": [
      "Fetching data for movie ID tt1547913 from OMDb...\n",
      "Fetching data for movie ID tt0464955 from OMDb...\n"
     ]
    },
    {
     "name": "stderr",
     "output_type": "stream",
     "text": [
      "Fetching movie data:  72%|█████████████     | 2594/3591 [07:00<02:30,  6.63it/s]"
     ]
    },
    {
     "name": "stdout",
     "output_type": "stream",
     "text": [
      "Fetching data for movie ID tt14127978 from OMDb...\n",
      "Fetching data for movie ID tt2214815 from OMDb...\n"
     ]
    },
    {
     "name": "stderr",
     "output_type": "stream",
     "text": [
      "Fetching movie data:  72%|█████████████     | 2596/3591 [07:01<02:21,  7.01it/s]"
     ]
    },
    {
     "name": "stdout",
     "output_type": "stream",
     "text": [
      "Fetching data for movie ID tt0489342 from OMDb...\n",
      "Fetching data for movie ID tt1985006 from OMDb...\n"
     ]
    },
    {
     "name": "stderr",
     "output_type": "stream",
     "text": [
      "Fetching movie data:  72%|█████████████     | 2597/3591 [07:01<02:41,  6.16it/s]"
     ]
    },
    {
     "name": "stdout",
     "output_type": "stream",
     "text": [
      "Fetching data for movie ID tt2055586 from OMDb...\n"
     ]
    },
    {
     "name": "stderr",
     "output_type": "stream",
     "text": [
      "Fetching movie data:  72%|█████████████     | 2599/3591 [07:01<02:48,  5.90it/s]"
     ]
    },
    {
     "name": "stdout",
     "output_type": "stream",
     "text": [
      "Fetching data for movie ID tt1361334 from OMDb...\n",
      "Fetching data for movie ID tt3481756 from OMDb...\n"
     ]
    },
    {
     "name": "stderr",
     "output_type": "stream",
     "text": [
      "Fetching movie data:  72%|█████████████     | 2600/3591 [07:01<02:37,  6.29it/s]"
     ]
    },
    {
     "name": "stdout",
     "output_type": "stream",
     "text": [
      "Fetching data for movie ID tt3496044 from OMDb...\n"
     ]
    },
    {
     "name": "stderr",
     "output_type": "stream",
     "text": [
      "Fetching movie data:  72%|█████████████     | 2602/3591 [07:02<02:58,  5.54it/s]"
     ]
    },
    {
     "name": "stdout",
     "output_type": "stream",
     "text": [
      "Progress saved after 25200 movies.\n",
      "Fetching data for movie ID tt1954785 from OMDb...\n",
      "Fetching data for movie ID tt1233334 from OMDb...\n"
     ]
    },
    {
     "name": "stderr",
     "output_type": "stream",
     "text": [
      "Fetching movie data:  73%|█████████████     | 2604/3591 [07:02<02:58,  5.53it/s]"
     ]
    },
    {
     "name": "stdout",
     "output_type": "stream",
     "text": [
      "Fetching data for movie ID tt1977890 from OMDb...\n",
      "Fetching data for movie ID tt2952170 from OMDb...\n"
     ]
    },
    {
     "name": "stderr",
     "output_type": "stream",
     "text": [
      "Fetching movie data:  73%|█████████████     | 2606/3591 [07:02<02:42,  6.06it/s]"
     ]
    },
    {
     "name": "stdout",
     "output_type": "stream",
     "text": [
      "Fetching data for movie ID tt1008015 from OMDb...\n",
      "Fetching data for movie ID tt1466427 from OMDb...\n"
     ]
    },
    {
     "name": "stderr",
     "output_type": "stream",
     "text": [
      "Fetching movie data:  73%|█████████████     | 2608/3591 [07:03<02:37,  6.23it/s]"
     ]
    },
    {
     "name": "stdout",
     "output_type": "stream",
     "text": [
      "Fetching data for movie ID tt1623771 from OMDb...\n",
      "Fetching data for movie ID tt2064940 from OMDb...\n"
     ]
    },
    {
     "name": "stderr",
     "output_type": "stream",
     "text": [
      "Fetching movie data:  73%|█████████████     | 2610/3591 [07:03<02:31,  6.49it/s]"
     ]
    },
    {
     "name": "stdout",
     "output_type": "stream",
     "text": [
      "Fetching data for movie ID tt2130186 from OMDb...\n",
      "Fetching data for movie ID tt0406098 from OMDb...\n"
     ]
    },
    {
     "name": "stderr",
     "output_type": "stream",
     "text": [
      "Fetching movie data:  73%|█████████████     | 2612/3591 [07:03<02:32,  6.43it/s]"
     ]
    },
    {
     "name": "stdout",
     "output_type": "stream",
     "text": [
      "Fetching data for movie ID tt1647478 from OMDb...\n",
      "Fetching data for movie ID tt1651131 from OMDb...\n"
     ]
    },
    {
     "name": "stderr",
     "output_type": "stream",
     "text": [
      "Fetching movie data:  73%|█████████████     | 2614/3591 [07:04<02:30,  6.47it/s]"
     ]
    },
    {
     "name": "stdout",
     "output_type": "stream",
     "text": [
      "Fetching data for movie ID tt0284333 from OMDb...\n",
      "Fetching data for movie ID tt1279462 from OMDb...\n"
     ]
    },
    {
     "name": "stderr",
     "output_type": "stream",
     "text": [
      "Fetching movie data:  73%|█████████████     | 2616/3591 [07:04<02:28,  6.55it/s]"
     ]
    },
    {
     "name": "stdout",
     "output_type": "stream",
     "text": [
      "Fetching data for movie ID tt1554554 from OMDb...\n",
      "Fetching data for movie ID tt2186042 from OMDb...\n"
     ]
    },
    {
     "name": "stderr",
     "output_type": "stream",
     "text": [
      "Fetching movie data:  73%|█████████████     | 2618/3591 [07:04<02:40,  6.08it/s]"
     ]
    },
    {
     "name": "stdout",
     "output_type": "stream",
     "text": [
      "Fetching data for movie ID tt2261519 from OMDb...\n",
      "Fetching data for movie ID tt2007936 from OMDb...\n"
     ]
    },
    {
     "name": "stderr",
     "output_type": "stream",
     "text": [
      "Fetching movie data:  73%|█████████████▏    | 2619/3591 [07:04<02:29,  6.49it/s]"
     ]
    },
    {
     "name": "stdout",
     "output_type": "stream",
     "text": [
      "Fetching data for movie ID tt1267317 from OMDb...\n"
     ]
    },
    {
     "name": "stderr",
     "output_type": "stream",
     "text": [
      "Fetching movie data:  73%|█████████████▏    | 2620/3591 [07:05<02:44,  5.90it/s]"
     ]
    },
    {
     "name": "stdout",
     "output_type": "stream",
     "text": [
      "Fetching data for movie ID tt1881005 from OMDb...\n"
     ]
    },
    {
     "name": "stderr",
     "output_type": "stream",
     "text": [
      "Fetching movie data:  73%|█████████████▏    | 2622/3591 [07:05<02:42,  5.98it/s]"
     ]
    },
    {
     "name": "stdout",
     "output_type": "stream",
     "text": [
      "Fetching data for movie ID tt0335844 from OMDb...\n",
      "Fetching data for movie ID tt7172394 from OMDb...\n"
     ]
    },
    {
     "name": "stderr",
     "output_type": "stream",
     "text": [
      "Fetching movie data:  73%|█████████████▏    | 2624/3591 [07:05<02:36,  6.16it/s]"
     ]
    },
    {
     "name": "stdout",
     "output_type": "stream",
     "text": [
      "Fetching data for movie ID tt2108584 from OMDb...\n",
      "Fetching data for movie ID tt1831688 from OMDb...\n"
     ]
    },
    {
     "name": "stderr",
     "output_type": "stream",
     "text": [
      "Fetching movie data:  73%|█████████████▏    | 2626/3591 [07:06<02:19,  6.90it/s]"
     ]
    },
    {
     "name": "stdout",
     "output_type": "stream",
     "text": [
      "Fetching data for movie ID tt2473526 from OMDb...\n",
      "Fetching data for movie ID tt3466778 from OMDb...\n"
     ]
    },
    {
     "name": "stderr",
     "output_type": "stream",
     "text": [
      "Fetching movie data:  73%|█████████████▏    | 2628/3591 [07:06<02:23,  6.73it/s]"
     ]
    },
    {
     "name": "stdout",
     "output_type": "stream",
     "text": [
      "Fetching data for movie ID tt3733550 from OMDb...\n",
      "Fetching data for movie ID tt0439774 from OMDb...\n"
     ]
    },
    {
     "name": "stderr",
     "output_type": "stream",
     "text": [
      "Fetching movie data:  73%|█████████████▏    | 2630/3591 [07:06<02:30,  6.38it/s]"
     ]
    },
    {
     "name": "stdout",
     "output_type": "stream",
     "text": [
      "Fetching data for movie ID tt0337882 from OMDb...\n",
      "Fetching data for movie ID tt0365468 from OMDb...\n"
     ]
    },
    {
     "name": "stderr",
     "output_type": "stream",
     "text": [
      "Fetching movie data:  73%|█████████████▏    | 2632/3591 [07:06<02:17,  6.98it/s]"
     ]
    },
    {
     "name": "stdout",
     "output_type": "stream",
     "text": [
      "Fetching data for movie ID tt0484492 from OMDb...\n",
      "Fetching data for movie ID tt1327182 from OMDb...\n"
     ]
    },
    {
     "name": "stderr",
     "output_type": "stream",
     "text": [
      "Fetching movie data:  73%|█████████████▏    | 2633/3591 [07:07<02:23,  6.67it/s]"
     ]
    },
    {
     "name": "stdout",
     "output_type": "stream",
     "text": [
      "Fetching data for movie ID tt1773474 from OMDb...\n"
     ]
    },
    {
     "name": "stderr",
     "output_type": "stream",
     "text": [
      "Fetching movie data:  73%|█████████████▏    | 2635/3591 [07:07<03:03,  5.22it/s]"
     ]
    },
    {
     "name": "stdout",
     "output_type": "stream",
     "text": [
      "Fetching data for movie ID tt0311582 from OMDb...\n",
      "Fetching data for movie ID tt0314000 from OMDb...\n"
     ]
    },
    {
     "name": "stderr",
     "output_type": "stream",
     "text": [
      "Fetching movie data:  73%|█████████████▏    | 2637/3591 [07:07<02:27,  6.46it/s]"
     ]
    },
    {
     "name": "stdout",
     "output_type": "stream",
     "text": [
      "Fetching data for movie ID tt1269579 from OMDb...\n",
      "Fetching data for movie ID tt10805588 from OMDb...\n"
     ]
    },
    {
     "name": "stderr",
     "output_type": "stream",
     "text": [
      "Fetching movie data:  73%|█████████████▏    | 2639/3591 [07:08<02:15,  7.04it/s]"
     ]
    },
    {
     "name": "stdout",
     "output_type": "stream",
     "text": [
      "Fetching data for movie ID tt5202788 from OMDb...\n",
      "Fetching data for movie ID tt1331000 from OMDb...\n"
     ]
    },
    {
     "name": "stderr",
     "output_type": "stream",
     "text": [
      "Fetching movie data:  74%|█████████████▏    | 2641/3591 [07:08<02:08,  7.37it/s]"
     ]
    },
    {
     "name": "stdout",
     "output_type": "stream",
     "text": [
      "Fetching data for movie ID tt0482571 from OMDb...\n",
      "Fetching data for movie ID tt0459144 from OMDb...\n"
     ]
    },
    {
     "name": "stderr",
     "output_type": "stream",
     "text": [
      "Fetching movie data:  74%|█████████████▏    | 2643/3591 [07:08<02:19,  6.82it/s]"
     ]
    },
    {
     "name": "stdout",
     "output_type": "stream",
     "text": [
      "Fetching data for movie ID tt3550070 from OMDb...\n",
      "Fetching data for movie ID tt3005776 from OMDb...\n"
     ]
    },
    {
     "name": "stderr",
     "output_type": "stream",
     "text": [
      "Fetching movie data:  74%|█████████████▎    | 2645/3591 [07:08<02:09,  7.28it/s]"
     ]
    },
    {
     "name": "stdout",
     "output_type": "stream",
     "text": [
      "Fetching data for movie ID tt0365570 from OMDb...\n",
      "Fetching data for movie ID tt0990372 from OMDb...\n"
     ]
    },
    {
     "name": "stderr",
     "output_type": "stream",
     "text": [
      "Fetching movie data:  74%|█████████████▎    | 2647/3591 [07:09<02:12,  7.10it/s]"
     ]
    },
    {
     "name": "stdout",
     "output_type": "stream",
     "text": [
      "Fetching data for movie ID tt1772424 from OMDb...\n",
      "Fetching data for movie ID tt2732680 from OMDb...\n"
     ]
    },
    {
     "name": "stderr",
     "output_type": "stream",
     "text": [
      "Fetching movie data:  74%|█████████████▎    | 2649/3591 [07:09<02:11,  7.18it/s]"
     ]
    },
    {
     "name": "stdout",
     "output_type": "stream",
     "text": [
      "Fetching data for movie ID tt1545085 from OMDb...\n",
      "Fetching data for movie ID tt3040098 from OMDb...\n"
     ]
    },
    {
     "name": "stderr",
     "output_type": "stream",
     "text": [
      "Fetching movie data:  74%|█████████████▎    | 2651/3591 [07:09<02:25,  6.45it/s]"
     ]
    },
    {
     "name": "stdout",
     "output_type": "stream",
     "text": [
      "Fetching data for movie ID tt3268004 from OMDb...\n",
      "Fetching data for movie ID tt1677642 from OMDb...\n"
     ]
    },
    {
     "name": "stderr",
     "output_type": "stream",
     "text": [
      "Fetching movie data:  74%|█████████████▎    | 2653/3591 [07:10<02:36,  5.98it/s]"
     ]
    },
    {
     "name": "stdout",
     "output_type": "stream",
     "text": [
      "Fetching data for movie ID tt0970181 from OMDb...\n",
      "Fetching data for movie ID tt2399533 from OMDb...\n"
     ]
    },
    {
     "name": "stderr",
     "output_type": "stream",
     "text": [
      "Fetching movie data:  74%|█████████████▎    | 2655/3591 [07:10<02:33,  6.11it/s]"
     ]
    },
    {
     "name": "stdout",
     "output_type": "stream",
     "text": [
      "Fetching data for movie ID tt2807032 from OMDb...\n",
      "Fetching data for movie ID tt1725124 from OMDb...\n"
     ]
    },
    {
     "name": "stderr",
     "output_type": "stream",
     "text": [
      "Fetching movie data:  74%|█████████████▎    | 2657/3591 [07:10<02:36,  5.97it/s]"
     ]
    },
    {
     "name": "stdout",
     "output_type": "stream",
     "text": [
      "Fetching data for movie ID tt1349455 from OMDb...\n",
      "Fetching data for movie ID tt1135968 from OMDb...\n"
     ]
    },
    {
     "name": "stderr",
     "output_type": "stream",
     "text": [
      "Fetching movie data:  74%|█████████████▎    | 2659/3591 [07:11<02:16,  6.83it/s]"
     ]
    },
    {
     "name": "stdout",
     "output_type": "stream",
     "text": [
      "Fetching data for movie ID tt1493829 from OMDb...\n",
      "Fetching data for movie ID tt2205448 from OMDb...\n"
     ]
    },
    {
     "name": "stderr",
     "output_type": "stream",
     "text": [
      "Fetching movie data:  74%|█████████████▎    | 2661/3591 [07:11<02:19,  6.67it/s]"
     ]
    },
    {
     "name": "stdout",
     "output_type": "stream",
     "text": [
      "Fetching data for movie ID tt2773682 from OMDb...\n",
      "Fetching data for movie ID tt1221143 from OMDb...\n"
     ]
    },
    {
     "name": "stderr",
     "output_type": "stream",
     "text": [
      "Fetching movie data:  74%|█████████████▎    | 2663/3591 [07:11<02:15,  6.83it/s]"
     ]
    },
    {
     "name": "stdout",
     "output_type": "stream",
     "text": [
      "Fetching data for movie ID tt1413259 from OMDb...\n",
      "Fetching data for movie ID tt1342891 from OMDb...\n"
     ]
    },
    {
     "name": "stderr",
     "output_type": "stream",
     "text": [
      "Fetching movie data:  74%|█████████████▎    | 2665/3591 [07:12<02:22,  6.49it/s]"
     ]
    },
    {
     "name": "stdout",
     "output_type": "stream",
     "text": [
      "Fetching data for movie ID tt2243129 from OMDb...\n",
      "Fetching data for movie ID tt0168515 from OMDb...\n"
     ]
    },
    {
     "name": "stderr",
     "output_type": "stream",
     "text": [
      "Fetching movie data:  74%|█████████████▎    | 2666/3591 [07:12<02:17,  6.71it/s]"
     ]
    },
    {
     "name": "stdout",
     "output_type": "stream",
     "text": [
      "Fetching data for movie ID tt0437238 from OMDb...\n"
     ]
    },
    {
     "name": "stderr",
     "output_type": "stream",
     "text": [
      "Fetching movie data:  74%|█████████████▎    | 2668/3591 [07:12<02:24,  6.37it/s]"
     ]
    },
    {
     "name": "stdout",
     "output_type": "stream",
     "text": [
      "Fetching data for movie ID tt2224960 from OMDb...\n",
      "Fetching data for movie ID tt2358592 from OMDb...\n"
     ]
    },
    {
     "name": "stderr",
     "output_type": "stream",
     "text": [
      "Fetching movie data:  74%|█████████████▍    | 2670/3591 [07:12<02:13,  6.90it/s]"
     ]
    },
    {
     "name": "stdout",
     "output_type": "stream",
     "text": [
      "Fetching data for movie ID tt3393362 from OMDb...\n",
      "Fetching data for movie ID tt0470399 from OMDb...\n"
     ]
    },
    {
     "name": "stderr",
     "output_type": "stream",
     "text": [
      "Fetching movie data:  74%|█████████████▍    | 2672/3591 [07:13<02:24,  6.35it/s]"
     ]
    },
    {
     "name": "stdout",
     "output_type": "stream",
     "text": [
      "Fetching data for movie ID tt0327483 from OMDb...\n",
      "Fetching data for movie ID tt1440266 from OMDb...\n"
     ]
    },
    {
     "name": "stderr",
     "output_type": "stream",
     "text": [
      "Fetching movie data:  74%|█████████████▍    | 2674/3591 [07:13<02:29,  6.13it/s]"
     ]
    },
    {
     "name": "stdout",
     "output_type": "stream",
     "text": [
      "Fetching data for movie ID tt0461762 from OMDb...\n",
      "Fetching data for movie ID tt7176012 from OMDb...\n"
     ]
    },
    {
     "name": "stderr",
     "output_type": "stream",
     "text": [
      "Fetching movie data:  75%|█████████████▍    | 2676/3591 [07:13<02:13,  6.85it/s]"
     ]
    },
    {
     "name": "stdout",
     "output_type": "stream",
     "text": [
      "Fetching data for movie ID tt2080410 from OMDb...\n",
      "Fetching data for movie ID tt0393057 from OMDb...\n"
     ]
    },
    {
     "name": "stderr",
     "output_type": "stream",
     "text": [
      "Fetching movie data:  75%|█████████████▍    | 2678/3591 [07:13<02:06,  7.23it/s]"
     ]
    },
    {
     "name": "stdout",
     "output_type": "stream",
     "text": [
      "Fetching data for movie ID tt1754416 from OMDb...\n",
      "Fetching data for movie ID tt0360848 from OMDb...\n"
     ]
    },
    {
     "name": "stderr",
     "output_type": "stream",
     "text": [
      "Fetching movie data:  75%|█████████████▍    | 2680/3591 [07:14<02:15,  6.73it/s]"
     ]
    },
    {
     "name": "stdout",
     "output_type": "stream",
     "text": [
      "Fetching data for movie ID tt1927082 from OMDb...\n",
      "Fetching data for movie ID tt0970406 from OMDb...\n"
     ]
    },
    {
     "name": "stderr",
     "output_type": "stream",
     "text": [
      "Fetching movie data:  75%|█████████████▍    | 2682/3591 [07:14<02:25,  6.26it/s]"
     ]
    },
    {
     "name": "stdout",
     "output_type": "stream",
     "text": [
      "Fetching data for movie ID tt0368913 from OMDb...\n",
      "Fetching data for movie ID tt0478266 from OMDb...\n"
     ]
    },
    {
     "name": "stderr",
     "output_type": "stream",
     "text": [
      "Fetching movie data:  75%|█████████████▍    | 2684/3591 [07:14<02:19,  6.51it/s]"
     ]
    },
    {
     "name": "stdout",
     "output_type": "stream",
     "text": [
      "Fetching data for movie ID tt0981076 from OMDb...\n",
      "Fetching data for movie ID tt0401792 from OMDb...\n"
     ]
    },
    {
     "name": "stderr",
     "output_type": "stream",
     "text": [
      "Fetching movie data:  75%|█████████████▍    | 2686/3591 [07:15<02:10,  6.94it/s]"
     ]
    },
    {
     "name": "stdout",
     "output_type": "stream",
     "text": [
      "Fetching data for movie ID tt6745984 from OMDb...\n",
      "Fetching data for movie ID tt11791798 from OMDb...\n"
     ]
    },
    {
     "name": "stderr",
     "output_type": "stream",
     "text": [
      "Fetching movie data:  75%|█████████████▍    | 2688/3591 [07:15<02:03,  7.30it/s]"
     ]
    },
    {
     "name": "stdout",
     "output_type": "stream",
     "text": [
      "Fetching data for movie ID tt2156288 from OMDb...\n",
      "Fetching data for movie ID tt0322012 from OMDb...\n"
     ]
    },
    {
     "name": "stderr",
     "output_type": "stream",
     "text": [
      "Fetching movie data:  75%|█████████████▍    | 2690/3591 [07:15<02:16,  6.60it/s]"
     ]
    },
    {
     "name": "stdout",
     "output_type": "stream",
     "text": [
      "Fetching data for movie ID tt0920458 from OMDb...\n",
      "Fetching data for movie ID tt1922555 from OMDb...\n"
     ]
    },
    {
     "name": "stderr",
     "output_type": "stream",
     "text": [
      "Fetching movie data:  75%|█████████████▍    | 2692/3591 [07:16<02:06,  7.09it/s]"
     ]
    },
    {
     "name": "stdout",
     "output_type": "stream",
     "text": [
      "Fetching data for movie ID tt0756683 from OMDb...\n",
      "Fetching data for movie ID tt0312687 from OMDb...\n"
     ]
    },
    {
     "name": "stderr",
     "output_type": "stream",
     "text": [
      "Fetching movie data:  75%|█████████████▍    | 2693/3591 [07:16<01:59,  7.48it/s]"
     ]
    },
    {
     "name": "stdout",
     "output_type": "stream",
     "text": [
      "Fetching data for movie ID tt1550901 from OMDb...\n"
     ]
    },
    {
     "name": "stderr",
     "output_type": "stream",
     "text": [
      "Fetching movie data:  75%|█████████████▌    | 2695/3591 [07:16<02:13,  6.69it/s]"
     ]
    },
    {
     "name": "stdout",
     "output_type": "stream",
     "text": [
      "Fetching data for movie ID tt2273361 from OMDb...\n",
      "Fetching data for movie ID tt0862938 from OMDb...\n"
     ]
    },
    {
     "name": "stderr",
     "output_type": "stream",
     "text": [
      "Fetching movie data:  75%|█████████████▌    | 2697/3591 [07:16<02:11,  6.81it/s]"
     ]
    },
    {
     "name": "stdout",
     "output_type": "stream",
     "text": [
      "Fetching data for movie ID tt2304655 from OMDb...\n",
      "Fetching data for movie ID tt0395169 from OMDb...\n"
     ]
    },
    {
     "name": "stderr",
     "output_type": "stream",
     "text": [
      "Fetching movie data:  75%|█████████████▌    | 2699/3591 [07:17<02:14,  6.61it/s]"
     ]
    },
    {
     "name": "stdout",
     "output_type": "stream",
     "text": [
      "Fetching data for movie ID tt0360396 from OMDb...\n",
      "Fetching data for movie ID tt3215516 from OMDb...\n"
     ]
    },
    {
     "name": "stderr",
     "output_type": "stream",
     "text": [
      "Fetching movie data:  75%|█████████████▌    | 2700/3591 [07:17<02:15,  6.60it/s]"
     ]
    },
    {
     "name": "stdout",
     "output_type": "stream",
     "text": [
      "Fetching data for movie ID tt0478166 from OMDb...\n"
     ]
    },
    {
     "name": "stderr",
     "output_type": "stream",
     "text": [
      "Fetching movie data:  75%|█████████████▌    | 2702/3591 [07:17<02:22,  6.22it/s]"
     ]
    },
    {
     "name": "stdout",
     "output_type": "stream",
     "text": [
      "Progress saved after 25300 movies.\n",
      "Fetching data for movie ID tt0356846 from OMDb...\n",
      "Fetching data for movie ID tt0799938 from OMDb...\n"
     ]
    },
    {
     "name": "stderr",
     "output_type": "stream",
     "text": [
      "Fetching movie data:  75%|█████████████▌    | 2704/3591 [07:17<02:07,  6.94it/s]"
     ]
    },
    {
     "name": "stdout",
     "output_type": "stream",
     "text": [
      "Fetching data for movie ID tt0478978 from OMDb...\n",
      "Fetching data for movie ID tt2362214 from OMDb...\n"
     ]
    },
    {
     "name": "stderr",
     "output_type": "stream",
     "text": [
      "Fetching movie data:  75%|█████████████▌    | 2706/3591 [07:18<02:12,  6.69it/s]"
     ]
    },
    {
     "name": "stdout",
     "output_type": "stream",
     "text": [
      "Fetching data for movie ID tt1313046 from OMDb...\n",
      "Fetching data for movie ID tt0249462 from OMDb...\n"
     ]
    },
    {
     "name": "stderr",
     "output_type": "stream",
     "text": [
      "Fetching movie data:  75%|█████████████▌    | 2708/3591 [07:18<02:10,  6.75it/s]"
     ]
    },
    {
     "name": "stdout",
     "output_type": "stream",
     "text": [
      "Fetching data for movie ID tt4966270 from OMDb...\n",
      "Fetching data for movie ID tt0236311 from OMDb...\n"
     ]
    },
    {
     "name": "stderr",
     "output_type": "stream",
     "text": [
      "Fetching movie data:  75%|█████████████▌    | 2710/3591 [07:18<02:06,  6.95it/s]"
     ]
    },
    {
     "name": "stdout",
     "output_type": "stream",
     "text": [
      "Fetching data for movie ID tt2717934 from OMDb...\n",
      "Fetching data for movie ID tt9881364 from OMDb...\n"
     ]
    },
    {
     "name": "stderr",
     "output_type": "stream",
     "text": [
      "Fetching movie data:  76%|█████████████▌    | 2712/3591 [07:19<02:10,  6.73it/s]"
     ]
    },
    {
     "name": "stdout",
     "output_type": "stream",
     "text": [
      "Fetching data for movie ID tt1540744 from OMDb...\n",
      "Fetching data for movie ID tt0391992 from OMDb...\n"
     ]
    },
    {
     "name": "stderr",
     "output_type": "stream",
     "text": [
      "Fetching movie data:  76%|█████████████▌    | 2714/3591 [07:19<02:12,  6.62it/s]"
     ]
    },
    {
     "name": "stdout",
     "output_type": "stream",
     "text": [
      "Fetching data for movie ID tt0246119 from OMDb...\n",
      "Fetching data for movie ID tt3313740 from OMDb...\n"
     ]
    },
    {
     "name": "stderr",
     "output_type": "stream",
     "text": [
      "Fetching movie data:  76%|█████████████▌    | 2716/3591 [07:19<02:05,  6.97it/s]"
     ]
    },
    {
     "name": "stdout",
     "output_type": "stream",
     "text": [
      "Fetching data for movie ID tt0379158 from OMDb...\n",
      "Fetching data for movie ID tt2086938 from OMDb...\n"
     ]
    },
    {
     "name": "stderr",
     "output_type": "stream",
     "text": [
      "Fetching movie data:  76%|█████████████▌    | 2718/3591 [07:19<02:03,  7.05it/s]"
     ]
    },
    {
     "name": "stdout",
     "output_type": "stream",
     "text": [
      "Fetching data for movie ID tt3000458 from OMDb...\n",
      "Fetching data for movie ID tt0357112 from OMDb...\n"
     ]
    },
    {
     "name": "stderr",
     "output_type": "stream",
     "text": [
      "Fetching movie data:  76%|█████████████▋    | 2720/3591 [07:20<02:19,  6.26it/s]"
     ]
    },
    {
     "name": "stdout",
     "output_type": "stream",
     "text": [
      "Fetching data for movie ID tt1470772 from OMDb...\n",
      "Fetching data for movie ID tt1319744 from OMDb...\n"
     ]
    },
    {
     "name": "stderr",
     "output_type": "stream",
     "text": [
      "Fetching movie data:  76%|█████████████▋    | 2722/3591 [07:20<02:07,  6.84it/s]"
     ]
    },
    {
     "name": "stdout",
     "output_type": "stream",
     "text": [
      "Fetching data for movie ID tt0464823 from OMDb...\n",
      "Fetching data for movie ID tt0260414 from OMDb...\n"
     ]
    },
    {
     "name": "stderr",
     "output_type": "stream",
     "text": [
      "Fetching movie data:  76%|█████████████▋    | 2724/3591 [07:20<02:05,  6.92it/s]"
     ]
    },
    {
     "name": "stdout",
     "output_type": "stream",
     "text": [
      "Fetching data for movie ID tt5930924 from OMDb...\n",
      "Fetching data for movie ID tt0375116 from OMDb...\n"
     ]
    },
    {
     "name": "stderr",
     "output_type": "stream",
     "text": [
      "Fetching movie data:  76%|█████████████▋    | 2726/3591 [07:21<02:20,  6.15it/s]"
     ]
    },
    {
     "name": "stdout",
     "output_type": "stream",
     "text": [
      "Fetching data for movie ID tt0384597 from OMDb...\n",
      "Fetching data for movie ID tt1733455 from OMDb...\n"
     ]
    },
    {
     "name": "stderr",
     "output_type": "stream",
     "text": [
      "Fetching movie data:  76%|█████████████▋    | 2728/3591 [07:21<02:30,  5.72it/s]"
     ]
    },
    {
     "name": "stdout",
     "output_type": "stream",
     "text": [
      "Fetching data for movie ID tt1512683 from OMDb...\n",
      "Fetching data for movie ID tt2229407 from OMDb...\n"
     ]
    },
    {
     "name": "stderr",
     "output_type": "stream",
     "text": [
      "Fetching movie data:  76%|█████████████▋    | 2730/3591 [07:21<02:06,  6.80it/s]"
     ]
    },
    {
     "name": "stdout",
     "output_type": "stream",
     "text": [
      "Fetching data for movie ID tt0374231 from OMDb...\n",
      "Fetching data for movie ID tt0466070 from OMDb...\n"
     ]
    },
    {
     "name": "stderr",
     "output_type": "stream",
     "text": [
      "Fetching movie data:  76%|█████████████▋    | 2732/3591 [07:22<02:01,  7.06it/s]"
     ]
    },
    {
     "name": "stdout",
     "output_type": "stream",
     "text": [
      "Fetching data for movie ID tt1710542 from OMDb...\n",
      "Fetching data for movie ID tt1352713 from OMDb...\n"
     ]
    },
    {
     "name": "stderr",
     "output_type": "stream",
     "text": [
      "Fetching movie data:  76%|█████████████▋    | 2734/3591 [07:22<01:58,  7.22it/s]"
     ]
    },
    {
     "name": "stdout",
     "output_type": "stream",
     "text": [
      "Fetching data for movie ID tt2399900 from OMDb...\n",
      "Fetching data for movie ID tt0816595 from OMDb...\n"
     ]
    },
    {
     "name": "stderr",
     "output_type": "stream",
     "text": [
      "Fetching movie data:  76%|█████████████▋    | 2736/3591 [07:22<01:54,  7.44it/s]"
     ]
    },
    {
     "name": "stdout",
     "output_type": "stream",
     "text": [
      "Fetching data for movie ID tt1555923 from OMDb...\n",
      "Fetching data for movie ID tt1568921 from OMDb...\n"
     ]
    },
    {
     "name": "stderr",
     "output_type": "stream",
     "text": [
      "Fetching movie data:  76%|█████████████▋    | 2738/3591 [07:22<02:08,  6.64it/s]"
     ]
    },
    {
     "name": "stdout",
     "output_type": "stream",
     "text": [
      "Fetching data for movie ID tt1524164 from OMDb...\n",
      "Fetching data for movie ID tt1337118 from OMDb...\n"
     ]
    },
    {
     "name": "stderr",
     "output_type": "stream",
     "text": [
      "Fetching movie data:  76%|█████████████▋    | 2739/3591 [07:23<02:04,  6.86it/s]"
     ]
    },
    {
     "name": "stdout",
     "output_type": "stream",
     "text": [
      "Fetching data for movie ID tt0290326 from OMDb...\n"
     ]
    },
    {
     "name": "stderr",
     "output_type": "stream",
     "text": [
      "Fetching movie data:  76%|█████████████▋    | 2741/3591 [07:23<02:17,  6.17it/s]"
     ]
    },
    {
     "name": "stdout",
     "output_type": "stream",
     "text": [
      "Fetching data for movie ID tt2391494 from OMDb...\n",
      "Fetching data for movie ID tt2070882 from OMDb...\n"
     ]
    },
    {
     "name": "stderr",
     "output_type": "stream",
     "text": [
      "Fetching movie data:  76%|█████████████▋    | 2743/3591 [07:23<02:03,  6.85it/s]"
     ]
    },
    {
     "name": "stdout",
     "output_type": "stream",
     "text": [
      "Fetching data for movie ID tt2424822 from OMDb...\n",
      "Fetching data for movie ID tt0429655 from OMDb...\n"
     ]
    },
    {
     "name": "stderr",
     "output_type": "stream",
     "text": [
      "Fetching movie data:  76%|█████████████▊    | 2745/3591 [07:23<02:02,  6.93it/s]"
     ]
    },
    {
     "name": "stdout",
     "output_type": "stream",
     "text": [
      "Fetching data for movie ID tt0988046 from OMDb...\n",
      "Fetching data for movie ID tt1010040 from OMDb...\n"
     ]
    },
    {
     "name": "stderr",
     "output_type": "stream",
     "text": [
      "Fetching movie data:  76%|█████████████▊    | 2747/3591 [07:24<02:09,  6.52it/s]"
     ]
    },
    {
     "name": "stdout",
     "output_type": "stream",
     "text": [
      "Fetching data for movie ID tt1743243 from OMDb...\n",
      "Fetching data for movie ID tt2871482 from OMDb...\n"
     ]
    },
    {
     "name": "stderr",
     "output_type": "stream",
     "text": [
      "Fetching movie data:  77%|█████████████▊    | 2749/3591 [07:24<02:11,  6.42it/s]"
     ]
    },
    {
     "name": "stdout",
     "output_type": "stream",
     "text": [
      "Fetching data for movie ID tt2391492 from OMDb...\n",
      "Fetching data for movie ID tt0488033 from OMDb...\n"
     ]
    },
    {
     "name": "stderr",
     "output_type": "stream",
     "text": [
      "Fetching movie data:  77%|█████████████▊    | 2751/3591 [07:24<02:14,  6.23it/s]"
     ]
    },
    {
     "name": "stdout",
     "output_type": "stream",
     "text": [
      "Fetching data for movie ID tt0806173 from OMDb...\n",
      "Fetching data for movie ID tt1856677 from OMDb...\n"
     ]
    },
    {
     "name": "stderr",
     "output_type": "stream",
     "text": [
      "Fetching movie data:  77%|█████████████▊    | 2753/3591 [07:25<02:12,  6.35it/s]"
     ]
    },
    {
     "name": "stdout",
     "output_type": "stream",
     "text": [
      "Fetching data for movie ID tt1948177 from OMDb...\n",
      "Fetching data for movie ID tt0469947 from OMDb...\n"
     ]
    },
    {
     "name": "stderr",
     "output_type": "stream",
     "text": [
      "Fetching movie data:  77%|█████████████▊    | 2755/3591 [07:25<02:01,  6.89it/s]"
     ]
    },
    {
     "name": "stdout",
     "output_type": "stream",
     "text": [
      "Fetching data for movie ID tt2040553 from OMDb...\n",
      "Fetching data for movie ID tt0842926 from OMDb...\n"
     ]
    },
    {
     "name": "stderr",
     "output_type": "stream",
     "text": [
      "Fetching movie data:  77%|█████████████▊    | 2757/3591 [07:25<02:12,  6.28it/s]"
     ]
    },
    {
     "name": "stdout",
     "output_type": "stream",
     "text": [
      "Fetching data for movie ID tt21048274 from OMDb...\n",
      "Fetching data for movie ID tt1225731 from OMDb...\n"
     ]
    },
    {
     "name": "stderr",
     "output_type": "stream",
     "text": [
      "Fetching movie data:  77%|█████████████▊    | 2759/3591 [07:26<02:07,  6.50it/s]"
     ]
    },
    {
     "name": "stdout",
     "output_type": "stream",
     "text": [
      "Fetching data for movie ID tt2991238 from OMDb...\n",
      "Fetching data for movie ID tt1376165 from OMDb...\n"
     ]
    },
    {
     "name": "stderr",
     "output_type": "stream",
     "text": [
      "Fetching movie data:  77%|█████████████▊    | 2761/3591 [07:26<02:08,  6.48it/s]"
     ]
    },
    {
     "name": "stdout",
     "output_type": "stream",
     "text": [
      "Fetching data for movie ID tt1247696 from OMDb...\n",
      "Fetching data for movie ID tt1548021 from OMDb...\n"
     ]
    },
    {
     "name": "stderr",
     "output_type": "stream",
     "text": [
      "Fetching movie data:  77%|█████████████▊    | 2763/3591 [07:26<02:11,  6.30it/s]"
     ]
    },
    {
     "name": "stdout",
     "output_type": "stream",
     "text": [
      "Fetching data for movie ID tt2549996 from OMDb...\n",
      "Fetching data for movie ID tt1271973 from OMDb...\n"
     ]
    },
    {
     "name": "stderr",
     "output_type": "stream",
     "text": [
      "Fetching movie data:  77%|█████████████▊    | 2765/3591 [07:27<02:02,  6.72it/s]"
     ]
    },
    {
     "name": "stdout",
     "output_type": "stream",
     "text": [
      "Fetching data for movie ID tt1218040 from OMDb...\n",
      "Fetching data for movie ID tt1258190 from OMDb...\n"
     ]
    },
    {
     "name": "stderr",
     "output_type": "stream",
     "text": [
      "Fetching movie data:  77%|█████████████▊    | 2767/3591 [07:27<01:57,  7.03it/s]"
     ]
    },
    {
     "name": "stdout",
     "output_type": "stream",
     "text": [
      "Fetching data for movie ID tt0496374 from OMDb...\n",
      "Fetching data for movie ID tt0406771 from OMDb...\n"
     ]
    },
    {
     "name": "stderr",
     "output_type": "stream",
     "text": [
      "Fetching movie data:  77%|█████████████▉    | 2769/3591 [07:27<01:52,  7.30it/s]"
     ]
    },
    {
     "name": "stdout",
     "output_type": "stream",
     "text": [
      "Fetching data for movie ID tt1587171 from OMDb...\n",
      "Fetching data for movie ID tt2091996 from OMDb...\n"
     ]
    },
    {
     "name": "stderr",
     "output_type": "stream",
     "text": [
      "Fetching movie data:  77%|█████████████▉    | 2771/3591 [07:27<01:49,  7.45it/s]"
     ]
    },
    {
     "name": "stdout",
     "output_type": "stream",
     "text": [
      "Fetching data for movie ID tt4226448 from OMDb...\n",
      "Fetching data for movie ID tt1400339 from OMDb...\n"
     ]
    },
    {
     "name": "stderr",
     "output_type": "stream",
     "text": [
      "Fetching movie data:  77%|█████████████▉    | 2773/3591 [07:28<02:00,  6.79it/s]"
     ]
    },
    {
     "name": "stdout",
     "output_type": "stream",
     "text": [
      "Fetching data for movie ID tt0399546 from OMDb...\n",
      "Fetching data for movie ID tt1956441 from OMDb...\n"
     ]
    },
    {
     "name": "stderr",
     "output_type": "stream",
     "text": [
      "Fetching movie data:  77%|█████████████▉    | 2775/3591 [07:28<02:12,  6.16it/s]"
     ]
    },
    {
     "name": "stdout",
     "output_type": "stream",
     "text": [
      "Fetching data for movie ID tt3205430 from OMDb...\n",
      "Fetching data for movie ID tt1155077 from OMDb...\n"
     ]
    },
    {
     "name": "stderr",
     "output_type": "stream",
     "text": [
      "Fetching movie data:  77%|█████████████▉    | 2777/3591 [07:28<02:00,  6.75it/s]"
     ]
    },
    {
     "name": "stdout",
     "output_type": "stream",
     "text": [
      "Fetching data for movie ID tt1347093 from OMDb...\n",
      "Fetching data for movie ID tt2078602 from OMDb...\n"
     ]
    },
    {
     "name": "stderr",
     "output_type": "stream",
     "text": [
      "Fetching movie data:  77%|█████████████▉    | 2779/3591 [07:29<01:55,  7.05it/s]"
     ]
    },
    {
     "name": "stdout",
     "output_type": "stream",
     "text": [
      "Fetching data for movie ID tt3457450 from OMDb...\n",
      "Fetching data for movie ID tt0496293 from OMDb...\n"
     ]
    },
    {
     "name": "stderr",
     "output_type": "stream",
     "text": [
      "Fetching movie data:  77%|█████████████▉    | 2781/3591 [07:29<01:57,  6.92it/s]"
     ]
    },
    {
     "name": "stdout",
     "output_type": "stream",
     "text": [
      "Fetching data for movie ID tt1978418 from OMDb...\n",
      "Fetching data for movie ID tt2355825 from OMDb...\n"
     ]
    },
    {
     "name": "stderr",
     "output_type": "stream",
     "text": [
      "Fetching movie data:  77%|█████████████▉    | 2783/3591 [07:29<02:16,  5.94it/s]"
     ]
    },
    {
     "name": "stdout",
     "output_type": "stream",
     "text": [
      "Fetching data for movie ID tt2048837 from OMDb...\n",
      "Fetching data for movie ID tt0479143 from OMDb...\n"
     ]
    },
    {
     "name": "stderr",
     "output_type": "stream",
     "text": [
      "Fetching movie data:  78%|█████████████▉    | 2785/3591 [07:29<01:57,  6.85it/s]"
     ]
    },
    {
     "name": "stdout",
     "output_type": "stream",
     "text": [
      "Fetching data for movie ID tt0406549 from OMDb...\n",
      "Fetching data for movie ID tt0432283 from OMDb...\n"
     ]
    },
    {
     "name": "stderr",
     "output_type": "stream",
     "text": [
      "Fetching movie data:  78%|█████████████▉    | 2787/3591 [07:30<01:55,  6.97it/s]"
     ]
    },
    {
     "name": "stdout",
     "output_type": "stream",
     "text": [
      "Fetching data for movie ID tt1613023 from OMDb...\n",
      "Fetching data for movie ID tt0804232 from OMDb...\n"
     ]
    },
    {
     "name": "stderr",
     "output_type": "stream",
     "text": [
      "Fetching movie data:  78%|█████████████▉    | 2789/3591 [07:30<02:09,  6.21it/s]"
     ]
    },
    {
     "name": "stdout",
     "output_type": "stream",
     "text": [
      "Fetching data for movie ID tt0317965 from OMDb...\n",
      "Fetching data for movie ID tt0280136 from OMDb...\n"
     ]
    },
    {
     "name": "stderr",
     "output_type": "stream",
     "text": [
      "Fetching movie data:  78%|█████████████▉    | 2791/3591 [07:30<01:56,  6.84it/s]"
     ]
    },
    {
     "name": "stdout",
     "output_type": "stream",
     "text": [
      "Fetching data for movie ID tt0481269 from OMDb...\n",
      "Fetching data for movie ID tt0829238 from OMDb...\n"
     ]
    },
    {
     "name": "stderr",
     "output_type": "stream",
     "text": [
      "Fetching movie data:  78%|██████████████    | 2793/3591 [07:31<01:58,  6.75it/s]"
     ]
    },
    {
     "name": "stdout",
     "output_type": "stream",
     "text": [
      "Fetching data for movie ID tt2457548 from OMDb...\n",
      "Fetching data for movie ID tt1757771 from OMDb...\n"
     ]
    },
    {
     "name": "stderr",
     "output_type": "stream",
     "text": [
      "Fetching movie data:  78%|██████████████    | 2795/3591 [07:31<01:50,  7.18it/s]"
     ]
    },
    {
     "name": "stdout",
     "output_type": "stream",
     "text": [
      "Fetching data for movie ID tt0772153 from OMDb...\n",
      "Fetching data for movie ID tt3089788 from OMDb...\n"
     ]
    },
    {
     "name": "stderr",
     "output_type": "stream",
     "text": [
      "Fetching movie data:  78%|██████████████    | 2797/3591 [07:31<02:02,  6.46it/s]"
     ]
    },
    {
     "name": "stdout",
     "output_type": "stream",
     "text": [
      "Fetching data for movie ID tt2665186 from OMDb...\n",
      "Fetching data for movie ID tt2234185 from OMDb...\n"
     ]
    },
    {
     "name": "stderr",
     "output_type": "stream",
     "text": [
      "Fetching movie data:  78%|██████████████    | 2799/3591 [07:32<01:57,  6.76it/s]"
     ]
    },
    {
     "name": "stdout",
     "output_type": "stream",
     "text": [
      "Fetching data for movie ID tt1647985 from OMDb...\n",
      "Fetching data for movie ID tt0353244 from OMDb...\n"
     ]
    },
    {
     "name": "stderr",
     "output_type": "stream",
     "text": [
      "Fetching movie data:  78%|██████████████    | 2801/3591 [07:32<02:04,  6.36it/s]"
     ]
    },
    {
     "name": "stdout",
     "output_type": "stream",
     "text": [
      "Fetching data for movie ID tt0494203 from OMDb...\n",
      "Progress saved after 25400 movies.\n",
      "Fetching data for movie ID tt1057892 from OMDb...\n"
     ]
    },
    {
     "name": "stderr",
     "output_type": "stream",
     "text": [
      "Fetching movie data:  78%|██████████████    | 2803/3591 [07:32<01:55,  6.84it/s]"
     ]
    },
    {
     "name": "stdout",
     "output_type": "stream",
     "text": [
      "Fetching data for movie ID tt1836912 from OMDb...\n",
      "Fetching data for movie ID tt4548650 from OMDb...\n"
     ]
    },
    {
     "name": "stderr",
     "output_type": "stream",
     "text": [
      "Fetching movie data:  78%|██████████████    | 2805/3591 [07:32<01:59,  6.56it/s]"
     ]
    },
    {
     "name": "stdout",
     "output_type": "stream",
     "text": [
      "Fetching data for movie ID tt1517578 from OMDb...\n",
      "Fetching data for movie ID tt1015992 from OMDb...\n"
     ]
    },
    {
     "name": "stderr",
     "output_type": "stream",
     "text": [
      "Fetching movie data:  78%|██████████████    | 2807/3591 [07:33<02:05,  6.22it/s]"
     ]
    },
    {
     "name": "stdout",
     "output_type": "stream",
     "text": [
      "Fetching data for movie ID tt1293086 from OMDb...\n",
      "Fetching data for movie ID tt4561448 from OMDb...\n"
     ]
    },
    {
     "name": "stderr",
     "output_type": "stream",
     "text": [
      "Fetching movie data:  78%|██████████████    | 2809/3591 [07:33<02:00,  6.49it/s]"
     ]
    },
    {
     "name": "stdout",
     "output_type": "stream",
     "text": [
      "Fetching data for movie ID tt1905041 from OMDb...\n",
      "Fetching data for movie ID tt1756815 from OMDb...\n"
     ]
    },
    {
     "name": "stderr",
     "output_type": "stream",
     "text": [
      "Fetching movie data:  78%|██████████████    | 2811/3591 [07:33<02:03,  6.30it/s]"
     ]
    },
    {
     "name": "stdout",
     "output_type": "stream",
     "text": [
      "Fetching data for movie ID tt0995720 from OMDb...\n",
      "Fetching data for movie ID tt2244761 from OMDb...\n"
     ]
    },
    {
     "name": "stderr",
     "output_type": "stream",
     "text": [
      "Fetching movie data:  78%|██████████████    | 2813/3591 [07:34<02:00,  6.48it/s]"
     ]
    },
    {
     "name": "stdout",
     "output_type": "stream",
     "text": [
      "Fetching data for movie ID tt1317484 from OMDb...\n",
      "Fetching data for movie ID tt1686850 from OMDb...\n"
     ]
    },
    {
     "name": "stderr",
     "output_type": "stream",
     "text": [
      "Fetching movie data:  78%|██████████████    | 2815/3591 [07:34<01:51,  6.93it/s]"
     ]
    },
    {
     "name": "stdout",
     "output_type": "stream",
     "text": [
      "Fetching data for movie ID tt22006964 from OMDb...\n",
      "Fetching data for movie ID tt2072917 from OMDb...\n"
     ]
    },
    {
     "name": "stderr",
     "output_type": "stream",
     "text": [
      "Fetching movie data:  78%|██████████████    | 2817/3591 [07:34<01:58,  6.53it/s]"
     ]
    },
    {
     "name": "stdout",
     "output_type": "stream",
     "text": [
      "Fetching data for movie ID tt0962715 from OMDb...\n",
      "Fetching data for movie ID tt2224409 from OMDb...\n"
     ]
    },
    {
     "name": "stderr",
     "output_type": "stream",
     "text": [
      "Fetching movie data:  79%|██████████████▏   | 2819/3591 [07:35<01:46,  7.23it/s]"
     ]
    },
    {
     "name": "stdout",
     "output_type": "stream",
     "text": [
      "Fetching data for movie ID tt4813182 from OMDb...\n",
      "Fetching data for movie ID tt0316509 from OMDb...\n"
     ]
    },
    {
     "name": "stderr",
     "output_type": "stream",
     "text": [
      "Fetching movie data:  79%|██████████████▏   | 2821/3591 [07:35<01:51,  6.91it/s]"
     ]
    },
    {
     "name": "stdout",
     "output_type": "stream",
     "text": [
      "Fetching data for movie ID tt0382636 from OMDb...\n",
      "Fetching data for movie ID tt1655442 from OMDb...\n"
     ]
    },
    {
     "name": "stderr",
     "output_type": "stream",
     "text": [
      "Fetching movie data:  79%|██████████████▏   | 2823/3591 [07:35<01:43,  7.44it/s]"
     ]
    },
    {
     "name": "stdout",
     "output_type": "stream",
     "text": [
      "Fetching data for movie ID tt2261727 from OMDb...\n",
      "Fetching data for movie ID tt2143470 from OMDb...\n"
     ]
    },
    {
     "name": "stderr",
     "output_type": "stream",
     "text": [
      "Fetching movie data:  79%|██████████████▏   | 2825/3591 [07:35<01:51,  6.90it/s]"
     ]
    },
    {
     "name": "stdout",
     "output_type": "stream",
     "text": [
      "Fetching data for movie ID tt3372090 from OMDb...\n",
      "Fetching data for movie ID tt4656052 from OMDb...\n"
     ]
    },
    {
     "name": "stderr",
     "output_type": "stream",
     "text": [
      "Fetching movie data:  79%|██████████████▏   | 2827/3591 [07:36<01:58,  6.42it/s]"
     ]
    },
    {
     "name": "stdout",
     "output_type": "stream",
     "text": [
      "Fetching data for movie ID tt1185617 from OMDb...\n",
      "Fetching data for movie ID tt0459516 from OMDb...\n"
     ]
    },
    {
     "name": "stderr",
     "output_type": "stream",
     "text": [
      "Fetching movie data:  79%|██████████████▏   | 2829/3591 [07:36<01:57,  6.49it/s]"
     ]
    },
    {
     "name": "stdout",
     "output_type": "stream",
     "text": [
      "Fetching data for movie ID tt0332617 from OMDb...\n",
      "Fetching data for movie ID tt0969319 from OMDb...\n"
     ]
    },
    {
     "name": "stderr",
     "output_type": "stream",
     "text": [
      "Fetching movie data:  79%|██████████████▏   | 2831/3591 [07:36<01:50,  6.90it/s]"
     ]
    },
    {
     "name": "stdout",
     "output_type": "stream",
     "text": [
      "Fetching data for movie ID tt2592030 from OMDb...\n",
      "Fetching data for movie ID tt1252385 from OMDb...\n"
     ]
    },
    {
     "name": "stderr",
     "output_type": "stream",
     "text": [
      "Fetching movie data:  79%|██████████████▏   | 2833/3591 [07:37<01:52,  6.74it/s]"
     ]
    },
    {
     "name": "stdout",
     "output_type": "stream",
     "text": [
      "Fetching data for movie ID tt1514049 from OMDb...\n",
      "Fetching data for movie ID tt1964837 from OMDb...\n"
     ]
    },
    {
     "name": "stderr",
     "output_type": "stream",
     "text": [
      "Fetching movie data:  79%|██████████████▏   | 2835/3591 [07:37<01:51,  6.81it/s]"
     ]
    },
    {
     "name": "stdout",
     "output_type": "stream",
     "text": [
      "Fetching data for movie ID tt2236214 from OMDb...\n",
      "Fetching data for movie ID tt0841109 from OMDb...\n"
     ]
    },
    {
     "name": "stderr",
     "output_type": "stream",
     "text": [
      "Fetching movie data:  79%|██████████████▏   | 2837/3591 [07:37<01:56,  6.45it/s]"
     ]
    },
    {
     "name": "stdout",
     "output_type": "stream",
     "text": [
      "Fetching data for movie ID tt0375645 from OMDb...\n",
      "Fetching data for movie ID tt6387606 from OMDb...\n"
     ]
    },
    {
     "name": "stderr",
     "output_type": "stream",
     "text": [
      "Fetching movie data:  79%|██████████████▏   | 2839/3591 [07:38<01:53,  6.60it/s]"
     ]
    },
    {
     "name": "stdout",
     "output_type": "stream",
     "text": [
      "Fetching data for movie ID tt0243739 from OMDb...\n",
      "Fetching data for movie ID tt0470386 from OMDb...\n"
     ]
    },
    {
     "name": "stderr",
     "output_type": "stream",
     "text": [
      "Fetching movie data:  79%|██████████████▏   | 2841/3591 [07:38<01:58,  6.34it/s]"
     ]
    },
    {
     "name": "stdout",
     "output_type": "stream",
     "text": [
      "Fetching data for movie ID tt4772786 from OMDb...\n",
      "Fetching data for movie ID tt3282742 from OMDb...\n"
     ]
    },
    {
     "name": "stderr",
     "output_type": "stream",
     "text": [
      "Fetching movie data:  79%|██████████████▎   | 2843/3591 [07:38<01:52,  6.63it/s]"
     ]
    },
    {
     "name": "stdout",
     "output_type": "stream",
     "text": [
      "Fetching data for movie ID tt2188750 from OMDb...\n",
      "Fetching data for movie ID tt1593297 from OMDb...\n"
     ]
    },
    {
     "name": "stderr",
     "output_type": "stream",
     "text": [
      "Fetching movie data:  79%|██████████████▎   | 2845/3591 [07:38<01:46,  7.03it/s]"
     ]
    },
    {
     "name": "stdout",
     "output_type": "stream",
     "text": [
      "Fetching data for movie ID tt2081316 from OMDb...\n",
      "Fetching data for movie ID tt0486096 from OMDb...\n"
     ]
    },
    {
     "name": "stderr",
     "output_type": "stream",
     "text": [
      "Fetching movie data:  79%|██████████████▎   | 2847/3591 [07:39<01:43,  7.19it/s]"
     ]
    },
    {
     "name": "stdout",
     "output_type": "stream",
     "text": [
      "Fetching data for movie ID tt1462530 from OMDb...\n",
      "Fetching data for movie ID tt1735335 from OMDb...\n"
     ]
    },
    {
     "name": "stderr",
     "output_type": "stream",
     "text": [
      "Fetching movie data:  79%|██████████████▎   | 2849/3591 [07:39<01:50,  6.69it/s]"
     ]
    },
    {
     "name": "stdout",
     "output_type": "stream",
     "text": [
      "Fetching data for movie ID tt3006640 from OMDb...\n",
      "Fetching data for movie ID tt0398657 from OMDb...\n"
     ]
    },
    {
     "name": "stderr",
     "output_type": "stream",
     "text": [
      "Fetching movie data:  79%|██████████████▎   | 2851/3591 [07:39<01:37,  7.56it/s]"
     ]
    },
    {
     "name": "stdout",
     "output_type": "stream",
     "text": [
      "Fetching data for movie ID tt1656739 from OMDb...\n",
      "Fetching data for movie ID tt1640699 from OMDb...\n"
     ]
    },
    {
     "name": "stderr",
     "output_type": "stream",
     "text": [
      "Fetching movie data:  79%|██████████████▎   | 2853/3591 [07:40<01:40,  7.31it/s]"
     ]
    },
    {
     "name": "stdout",
     "output_type": "stream",
     "text": [
      "Fetching data for movie ID tt0424261 from OMDb...\n",
      "Fetching data for movie ID tt1355635 from OMDb...\n"
     ]
    },
    {
     "name": "stderr",
     "output_type": "stream",
     "text": [
      "Fetching movie data:  80%|██████████████▎   | 2855/3591 [07:40<01:38,  7.45it/s]"
     ]
    },
    {
     "name": "stdout",
     "output_type": "stream",
     "text": [
      "Fetching data for movie ID tt2304793 from OMDb...\n",
      "Fetching data for movie ID tt0330839 from OMDb...\n"
     ]
    },
    {
     "name": "stderr",
     "output_type": "stream",
     "text": [
      "Fetching movie data:  80%|██████████████▎   | 2857/3591 [07:40<01:44,  7.00it/s]"
     ]
    },
    {
     "name": "stdout",
     "output_type": "stream",
     "text": [
      "Fetching data for movie ID tt0375637 from OMDb...\n",
      "Fetching data for movie ID tt2574306 from OMDb...\n"
     ]
    },
    {
     "name": "stderr",
     "output_type": "stream",
     "text": [
      "Fetching movie data:  80%|██████████████▎   | 2859/3591 [07:40<01:44,  6.99it/s]"
     ]
    },
    {
     "name": "stdout",
     "output_type": "stream",
     "text": [
      "Fetching data for movie ID tt2174033 from OMDb...\n",
      "Fetching data for movie ID tt0972848 from OMDb...\n"
     ]
    },
    {
     "name": "stderr",
     "output_type": "stream",
     "text": [
      "Fetching movie data:  80%|██████████████▎   | 2861/3591 [07:41<01:39,  7.33it/s]"
     ]
    },
    {
     "name": "stdout",
     "output_type": "stream",
     "text": [
      "Fetching data for movie ID tt1593670 from OMDb...\n",
      "Fetching data for movie ID tt0479751 from OMDb...\n"
     ]
    },
    {
     "name": "stderr",
     "output_type": "stream",
     "text": [
      "Fetching movie data:  80%|██████████████▎   | 2863/3591 [07:41<01:45,  6.87it/s]"
     ]
    },
    {
     "name": "stdout",
     "output_type": "stream",
     "text": [
      "Fetching data for movie ID tt0346947 from OMDb...\n",
      "Fetching data for movie ID tt2320840 from OMDb...\n"
     ]
    },
    {
     "name": "stderr",
     "output_type": "stream",
     "text": [
      "Fetching movie data:  80%|██████████████▎   | 2865/3591 [07:41<01:42,  7.08it/s]"
     ]
    },
    {
     "name": "stdout",
     "output_type": "stream",
     "text": [
      "Fetching data for movie ID tt1172995 from OMDb...\n",
      "Fetching data for movie ID tt2403970 from OMDb...\n"
     ]
    },
    {
     "name": "stderr",
     "output_type": "stream",
     "text": [
      "Fetching movie data:  80%|██████████████▎   | 2867/3591 [07:42<01:35,  7.57it/s]"
     ]
    },
    {
     "name": "stdout",
     "output_type": "stream",
     "text": [
      "Fetching data for movie ID tt2506270 from OMDb...\n",
      "Fetching data for movie ID tt2202362 from OMDb...\n"
     ]
    },
    {
     "name": "stderr",
     "output_type": "stream",
     "text": [
      "Fetching movie data:  80%|██████████████▍   | 2869/3591 [07:42<01:37,  7.41it/s]"
     ]
    },
    {
     "name": "stdout",
     "output_type": "stream",
     "text": [
      "Fetching data for movie ID tt0344529 from OMDb...\n",
      "Fetching data for movie ID tt2090573 from OMDb...\n"
     ]
    },
    {
     "name": "stderr",
     "output_type": "stream",
     "text": [
      "Fetching movie data:  80%|██████████████▍   | 2871/3591 [07:42<01:54,  6.27it/s]"
     ]
    },
    {
     "name": "stdout",
     "output_type": "stream",
     "text": [
      "Fetching data for movie ID tt1804604 from OMDb...\n",
      "Fetching data for movie ID tt0359692 from OMDb...\n"
     ]
    },
    {
     "name": "stderr",
     "output_type": "stream",
     "text": [
      "Fetching movie data:  80%|██████████████▍   | 2873/3591 [07:42<01:53,  6.34it/s]"
     ]
    },
    {
     "name": "stdout",
     "output_type": "stream",
     "text": [
      "Fetching data for movie ID tt11554762 from OMDb...\n",
      "Fetching data for movie ID tt5746170 from OMDb...\n"
     ]
    },
    {
     "name": "stderr",
     "output_type": "stream",
     "text": [
      "Fetching movie data:  80%|██████████████▍   | 2875/3591 [07:43<01:50,  6.51it/s]"
     ]
    },
    {
     "name": "stdout",
     "output_type": "stream",
     "text": [
      "Fetching data for movie ID tt1326743 from OMDb...\n",
      "Fetching data for movie ID tt1612093 from OMDb...\n"
     ]
    },
    {
     "name": "stderr",
     "output_type": "stream",
     "text": [
      "Fetching movie data:  80%|██████████████▍   | 2877/3591 [07:43<01:46,  6.69it/s]"
     ]
    },
    {
     "name": "stdout",
     "output_type": "stream",
     "text": [
      "Fetching data for movie ID tt0460766 from OMDb...\n",
      "Fetching data for movie ID tt1002446 from OMDb...\n"
     ]
    },
    {
     "name": "stderr",
     "output_type": "stream",
     "text": [
      "Fetching movie data:  80%|██████████████▍   | 2879/3591 [07:43<01:46,  6.69it/s]"
     ]
    },
    {
     "name": "stdout",
     "output_type": "stream",
     "text": [
      "Fetching data for movie ID tt1753971 from OMDb...\n",
      "Fetching data for movie ID tt3620794 from OMDb...\n"
     ]
    },
    {
     "name": "stderr",
     "output_type": "stream",
     "text": [
      "Fetching movie data:  80%|██████████████▍   | 2881/3591 [07:44<01:44,  6.79it/s]"
     ]
    },
    {
     "name": "stdout",
     "output_type": "stream",
     "text": [
      "Fetching data for movie ID tt1950077 from OMDb...\n",
      "Fetching data for movie ID tt1860276 from OMDb...\n"
     ]
    },
    {
     "name": "stderr",
     "output_type": "stream",
     "text": [
      "Fetching movie data:  80%|██████████████▍   | 2883/3591 [07:44<01:34,  7.50it/s]"
     ]
    },
    {
     "name": "stdout",
     "output_type": "stream",
     "text": [
      "Fetching data for movie ID tt1479309 from OMDb...\n",
      "Fetching data for movie ID tt1286748 from OMDb...\n"
     ]
    },
    {
     "name": "stderr",
     "output_type": "stream",
     "text": [
      "Fetching movie data:  80%|██████████████▍   | 2885/3591 [07:44<01:29,  7.86it/s]"
     ]
    },
    {
     "name": "stdout",
     "output_type": "stream",
     "text": [
      "Fetching data for movie ID tt0843500 from OMDb...\n",
      "Fetching data for movie ID tt1258726 from OMDb...\n"
     ]
    },
    {
     "name": "stderr",
     "output_type": "stream",
     "text": [
      "Fetching movie data:  80%|██████████████▍   | 2887/3591 [07:44<01:36,  7.27it/s]"
     ]
    },
    {
     "name": "stdout",
     "output_type": "stream",
     "text": [
      "Fetching data for movie ID tt2334964 from OMDb...\n",
      "Fetching data for movie ID tt1330181 from OMDb...\n"
     ]
    },
    {
     "name": "stderr",
     "output_type": "stream",
     "text": [
      "Fetching movie data:  80%|██████████████▍   | 2889/3591 [07:45<01:47,  6.52it/s]"
     ]
    },
    {
     "name": "stdout",
     "output_type": "stream",
     "text": [
      "Fetching data for movie ID tt2458968 from OMDb...\n",
      "Fetching data for movie ID tt0453175 from OMDb...\n"
     ]
    },
    {
     "name": "stderr",
     "output_type": "stream",
     "text": [
      "Fetching movie data:  81%|██████████████▍   | 2891/3591 [07:45<01:38,  7.10it/s]"
     ]
    },
    {
     "name": "stdout",
     "output_type": "stream",
     "text": [
      "Fetching data for movie ID tt2099576 from OMDb...\n",
      "Fetching data for movie ID tt1262962 from OMDb...\n"
     ]
    },
    {
     "name": "stderr",
     "output_type": "stream",
     "text": [
      "Fetching movie data:  81%|██████████████▌   | 2893/3591 [07:45<01:33,  7.49it/s]"
     ]
    },
    {
     "name": "stdout",
     "output_type": "stream",
     "text": [
      "Fetching data for movie ID tt0274494 from OMDb...\n",
      "Fetching data for movie ID tt0334075 from OMDb...\n"
     ]
    },
    {
     "name": "stderr",
     "output_type": "stream",
     "text": [
      "Fetching movie data:  81%|██████████████▌   | 2895/3591 [07:46<01:39,  7.01it/s]"
     ]
    },
    {
     "name": "stdout",
     "output_type": "stream",
     "text": [
      "Fetching data for movie ID tt1770770 from OMDb...\n",
      "Fetching data for movie ID tt0948457 from OMDb...\n"
     ]
    },
    {
     "name": "stderr",
     "output_type": "stream",
     "text": [
      "Fetching movie data:  81%|██████████████▌   | 2897/3591 [07:46<02:00,  5.75it/s]"
     ]
    },
    {
     "name": "stdout",
     "output_type": "stream",
     "text": [
      "Fetching data for movie ID tt0433118 from OMDb...\n",
      "Fetching data for movie ID tt0423520 from OMDb...\n"
     ]
    },
    {
     "name": "stderr",
     "output_type": "stream",
     "text": [
      "Fetching movie data:  81%|██████████████▌   | 2899/3591 [07:46<01:42,  6.74it/s]"
     ]
    },
    {
     "name": "stdout",
     "output_type": "stream",
     "text": [
      "Fetching data for movie ID tt2316437 from OMDb...\n",
      "Fetching data for movie ID tt0240912 from OMDb...\n"
     ]
    },
    {
     "name": "stderr",
     "output_type": "stream",
     "text": [
      "Fetching movie data:  81%|██████████████▌   | 2900/3591 [07:46<01:41,  6.79it/s]"
     ]
    },
    {
     "name": "stdout",
     "output_type": "stream",
     "text": [
      "Fetching data for movie ID tt1674046 from OMDb...\n"
     ]
    },
    {
     "name": "stderr",
     "output_type": "stream",
     "text": [
      "Fetching movie data:  81%|██████████████▌   | 2902/3591 [07:47<01:42,  6.73it/s]"
     ]
    },
    {
     "name": "stdout",
     "output_type": "stream",
     "text": [
      "Progress saved after 25500 movies.\n",
      "Fetching data for movie ID tt0970468 from OMDb...\n",
      "Fetching data for movie ID tt2186126 from OMDb...\n"
     ]
    },
    {
     "name": "stderr",
     "output_type": "stream",
     "text": [
      "Fetching movie data:  81%|██████████████▌   | 2904/3591 [07:47<01:41,  6.79it/s]"
     ]
    },
    {
     "name": "stdout",
     "output_type": "stream",
     "text": [
      "Fetching data for movie ID tt0498355 from OMDb...\n",
      "Fetching data for movie ID tt1018667 from OMDb...\n"
     ]
    },
    {
     "name": "stderr",
     "output_type": "stream",
     "text": [
      "Fetching movie data:  81%|██████████████▌   | 2906/3591 [07:47<01:52,  6.08it/s]"
     ]
    },
    {
     "name": "stdout",
     "output_type": "stream",
     "text": [
      "Fetching data for movie ID tt3207282 from OMDb...\n",
      "Fetching data for movie ID tt1345466 from OMDb...\n"
     ]
    },
    {
     "name": "stderr",
     "output_type": "stream",
     "text": [
      "Fetching movie data:  81%|██████████████▌   | 2908/3591 [07:48<01:42,  6.66it/s]"
     ]
    },
    {
     "name": "stdout",
     "output_type": "stream",
     "text": [
      "Fetching data for movie ID tt1072756 from OMDb...\n",
      "Fetching data for movie ID tt1320335 from OMDb...\n"
     ]
    },
    {
     "name": "stderr",
     "output_type": "stream",
     "text": [
      "Fetching movie data:  81%|██████████████▌   | 2910/3591 [07:48<01:48,  6.30it/s]"
     ]
    },
    {
     "name": "stdout",
     "output_type": "stream",
     "text": [
      "Fetching data for movie ID tt2557660 from OMDb...\n",
      "Fetching data for movie ID tt5299042 from OMDb...\n"
     ]
    },
    {
     "name": "stderr",
     "output_type": "stream",
     "text": [
      "Fetching movie data:  81%|██████████████▌   | 2912/3591 [07:48<01:34,  7.18it/s]"
     ]
    },
    {
     "name": "stdout",
     "output_type": "stream",
     "text": [
      "Fetching data for movie ID tt0410321 from OMDb...\n",
      "Fetching data for movie ID tt3182348 from OMDb...\n"
     ]
    },
    {
     "name": "stderr",
     "output_type": "stream",
     "text": [
      "Fetching movie data:  81%|██████████████▌   | 2914/3591 [07:49<01:38,  6.89it/s]"
     ]
    },
    {
     "name": "stdout",
     "output_type": "stream",
     "text": [
      "Fetching data for movie ID tt1842359 from OMDb...\n",
      "Fetching data for movie ID tt0361354 from OMDb...\n"
     ]
    },
    {
     "name": "stderr",
     "output_type": "stream",
     "text": [
      "Fetching movie data:  81%|██████████████▌   | 2916/3591 [07:49<01:35,  7.06it/s]"
     ]
    },
    {
     "name": "stdout",
     "output_type": "stream",
     "text": [
      "Fetching data for movie ID tt1413806 from OMDb...\n",
      "Fetching data for movie ID tt1276419 from OMDb...\n"
     ]
    },
    {
     "name": "stderr",
     "output_type": "stream",
     "text": [
      "Fetching movie data:  81%|██████████████▋   | 2918/3591 [07:49<01:38,  6.81it/s]"
     ]
    },
    {
     "name": "stdout",
     "output_type": "stream",
     "text": [
      "Fetching data for movie ID tt0469685 from OMDb...\n",
      "Fetching data for movie ID tt1942808 from OMDb...\n"
     ]
    },
    {
     "name": "stderr",
     "output_type": "stream",
     "text": [
      "Fetching movie data:  81%|██████████████▋   | 2920/3591 [07:49<01:38,  6.80it/s]"
     ]
    },
    {
     "name": "stdout",
     "output_type": "stream",
     "text": [
      "Fetching data for movie ID tt2245245 from OMDb...\n",
      "Fetching data for movie ID tt0299806 from OMDb...\n"
     ]
    },
    {
     "name": "stderr",
     "output_type": "stream",
     "text": [
      "Fetching movie data:  81%|██████████████▋   | 2922/3591 [07:50<01:34,  7.11it/s]"
     ]
    },
    {
     "name": "stdout",
     "output_type": "stream",
     "text": [
      "Fetching data for movie ID tt0330036 from OMDb...\n",
      "Fetching data for movie ID tt2955162 from OMDb...\n"
     ]
    },
    {
     "name": "stderr",
     "output_type": "stream",
     "text": [
      "Fetching movie data:  81%|██████████████▋   | 2924/3591 [07:50<01:36,  6.94it/s]"
     ]
    },
    {
     "name": "stdout",
     "output_type": "stream",
     "text": [
      "Fetching data for movie ID tt6478412 from OMDb...\n",
      "Fetching data for movie ID tt1006873 from OMDb...\n"
     ]
    },
    {
     "name": "stderr",
     "output_type": "stream",
     "text": [
      "Fetching movie data:  81%|██████████████▋   | 2926/3591 [07:50<01:36,  6.87it/s]"
     ]
    },
    {
     "name": "stdout",
     "output_type": "stream",
     "text": [
      "Fetching data for movie ID tt5989258 from OMDb...\n",
      "Fetching data for movie ID tt0482520 from OMDb...\n"
     ]
    },
    {
     "name": "stderr",
     "output_type": "stream",
     "text": [
      "Fetching movie data:  82%|██████████████▋   | 2928/3591 [07:51<01:45,  6.30it/s]"
     ]
    },
    {
     "name": "stdout",
     "output_type": "stream",
     "text": [
      "Fetching data for movie ID tt1417060 from OMDb...\n",
      "Fetching data for movie ID tt0271641 from OMDb...\n"
     ]
    },
    {
     "name": "stderr",
     "output_type": "stream",
     "text": [
      "Fetching movie data:  82%|██████████████▋   | 2930/3591 [07:51<01:42,  6.48it/s]"
     ]
    },
    {
     "name": "stdout",
     "output_type": "stream",
     "text": [
      "Fetching data for movie ID tt2023420 from OMDb...\n",
      "Fetching data for movie ID tt1663932 from OMDb...\n"
     ]
    },
    {
     "name": "stderr",
     "output_type": "stream",
     "text": [
      "Fetching movie data:  82%|██████████████▋   | 2932/3591 [07:51<01:44,  6.30it/s]"
     ]
    },
    {
     "name": "stdout",
     "output_type": "stream",
     "text": [
      "Fetching data for movie ID tt0266238 from OMDb...\n",
      "Fetching data for movie ID tt1006861 from OMDb...\n"
     ]
    },
    {
     "name": "stderr",
     "output_type": "stream",
     "text": [
      "Fetching movie data:  82%|██████████████▋   | 2934/3591 [07:52<01:32,  7.11it/s]"
     ]
    },
    {
     "name": "stdout",
     "output_type": "stream",
     "text": [
      "Fetching data for movie ID tt2102330 from OMDb...\n",
      "Fetching data for movie ID tt8366496 from OMDb...\n"
     ]
    },
    {
     "name": "stderr",
     "output_type": "stream",
     "text": [
      "Fetching movie data:  82%|██████████████▋   | 2936/3591 [07:52<01:38,  6.66it/s]"
     ]
    },
    {
     "name": "stdout",
     "output_type": "stream",
     "text": [
      "Fetching data for movie ID tt2777886 from OMDb...\n",
      "Fetching data for movie ID tt1587686 from OMDb...\n"
     ]
    },
    {
     "name": "stderr",
     "output_type": "stream",
     "text": [
      "Fetching movie data:  82%|██████████████▋   | 2938/3591 [07:52<01:49,  5.96it/s]"
     ]
    },
    {
     "name": "stdout",
     "output_type": "stream",
     "text": [
      "Fetching data for movie ID tt1262951 from OMDb...\n",
      "Fetching data for movie ID tt0293618 from OMDb...\n"
     ]
    },
    {
     "name": "stderr",
     "output_type": "stream",
     "text": [
      "Fetching movie data:  82%|██████████████▋   | 2940/3591 [07:52<01:39,  6.53it/s]"
     ]
    },
    {
     "name": "stdout",
     "output_type": "stream",
     "text": [
      "Fetching data for movie ID tt0446071 from OMDb...\n",
      "Fetching data for movie ID tt1830843 from OMDb...\n"
     ]
    },
    {
     "name": "stderr",
     "output_type": "stream",
     "text": [
      "Fetching movie data:  82%|██████████████▋   | 2942/3591 [07:53<01:40,  6.48it/s]"
     ]
    },
    {
     "name": "stdout",
     "output_type": "stream",
     "text": [
      "Fetching data for movie ID tt14408398 from OMDb...\n",
      "Fetching data for movie ID tt2025526 from OMDb...\n"
     ]
    },
    {
     "name": "stderr",
     "output_type": "stream",
     "text": [
      "Fetching movie data:  82%|██████████████▊   | 2944/3591 [07:53<01:41,  6.39it/s]"
     ]
    },
    {
     "name": "stdout",
     "output_type": "stream",
     "text": [
      "Fetching data for movie ID tt2290601 from OMDb...\n",
      "Fetching data for movie ID tt14191284 from OMDb...\n"
     ]
    },
    {
     "name": "stderr",
     "output_type": "stream",
     "text": [
      "Fetching movie data:  82%|██████████████▊   | 2946/3591 [07:53<01:35,  6.76it/s]"
     ]
    },
    {
     "name": "stdout",
     "output_type": "stream",
     "text": [
      "Fetching data for movie ID tt0448138 from OMDb...\n",
      "Fetching data for movie ID tt0414865 from OMDb...\n"
     ]
    },
    {
     "name": "stderr",
     "output_type": "stream",
     "text": [
      "Fetching movie data:  82%|██████████████▊   | 2948/3591 [07:54<01:36,  6.67it/s]"
     ]
    },
    {
     "name": "stdout",
     "output_type": "stream",
     "text": [
      "Fetching data for movie ID tt0791314 from OMDb...\n",
      "Fetching data for movie ID tt0886455 from OMDb...\n"
     ]
    },
    {
     "name": "stderr",
     "output_type": "stream",
     "text": [
      "Fetching movie data:  82%|██████████████▊   | 2950/3591 [07:54<01:28,  7.25it/s]"
     ]
    },
    {
     "name": "stdout",
     "output_type": "stream",
     "text": [
      "Fetching data for movie ID tt0301357 from OMDb...\n",
      "Fetching data for movie ID tt1828260 from OMDb...\n"
     ]
    },
    {
     "name": "stderr",
     "output_type": "stream",
     "text": [
      "Fetching movie data:  82%|██████████████▊   | 2952/3591 [07:54<01:26,  7.42it/s]"
     ]
    },
    {
     "name": "stdout",
     "output_type": "stream",
     "text": [
      "Fetching data for movie ID tt7799420 from OMDb...\n",
      "Fetching data for movie ID tt1921117 from OMDb...\n"
     ]
    },
    {
     "name": "stderr",
     "output_type": "stream",
     "text": [
      "Fetching movie data:  82%|██████████████▊   | 2954/3591 [07:54<01:26,  7.40it/s]"
     ]
    },
    {
     "name": "stdout",
     "output_type": "stream",
     "text": [
      "Fetching data for movie ID tt0978759 from OMDb...\n",
      "Fetching data for movie ID tt1419038 from OMDb...\n"
     ]
    },
    {
     "name": "stderr",
     "output_type": "stream",
     "text": [
      "Fetching movie data:  82%|██████████████▊   | 2956/3591 [07:55<01:38,  6.42it/s]"
     ]
    },
    {
     "name": "stdout",
     "output_type": "stream",
     "text": [
      "Fetching data for movie ID tt0333399 from OMDb...\n",
      "Fetching data for movie ID tt1505891 from OMDb...\n"
     ]
    },
    {
     "name": "stderr",
     "output_type": "stream",
     "text": [
      "Fetching movie data:  82%|██████████████▊   | 2958/3591 [07:55<01:28,  7.16it/s]"
     ]
    },
    {
     "name": "stdout",
     "output_type": "stream",
     "text": [
      "Fetching data for movie ID tt3368516 from OMDb...\n",
      "Fetching data for movie ID tt32731442 from OMDb...\n"
     ]
    },
    {
     "name": "stderr",
     "output_type": "stream",
     "text": [
      "Fetching movie data:  82%|██████████████▊   | 2960/3591 [07:55<01:31,  6.91it/s]"
     ]
    },
    {
     "name": "stdout",
     "output_type": "stream",
     "text": [
      "Fetching data for movie ID tt1674093 from OMDb...\n",
      "Fetching data for movie ID tt2251393 from OMDb...\n"
     ]
    },
    {
     "name": "stderr",
     "output_type": "stream",
     "text": [
      "Fetching movie data:  82%|██████████████▊   | 2962/3591 [07:56<01:28,  7.09it/s]"
     ]
    },
    {
     "name": "stdout",
     "output_type": "stream",
     "text": [
      "Fetching data for movie ID tt2546292 from OMDb...\n",
      "Fetching data for movie ID tt1922589 from OMDb...\n"
     ]
    },
    {
     "name": "stderr",
     "output_type": "stream",
     "text": [
      "Fetching movie data:  83%|██████████████▊   | 2963/3591 [07:56<01:25,  7.31it/s]"
     ]
    },
    {
     "name": "stdout",
     "output_type": "stream",
     "text": [
      "Fetching data for movie ID tt0459119 from OMDb...\n"
     ]
    },
    {
     "name": "stderr",
     "output_type": "stream",
     "text": [
      "Fetching movie data:  83%|██████████████▊   | 2965/3591 [07:56<01:42,  6.09it/s]"
     ]
    },
    {
     "name": "stdout",
     "output_type": "stream",
     "text": [
      "Fetching data for movie ID tt2700330 from OMDb...\n",
      "Fetching data for movie ID tt1503766 from OMDb...\n"
     ]
    },
    {
     "name": "stderr",
     "output_type": "stream",
     "text": [
      "Fetching movie data:  83%|██████████████▊   | 2967/3591 [07:56<01:40,  6.22it/s]"
     ]
    },
    {
     "name": "stdout",
     "output_type": "stream",
     "text": [
      "Fetching data for movie ID tt2364773 from OMDb...\n",
      "Fetching data for movie ID tt1462436 from OMDb...\n"
     ]
    },
    {
     "name": "stderr",
     "output_type": "stream",
     "text": [
      "Fetching movie data:  83%|██████████████▉   | 2969/3591 [07:57<01:37,  6.35it/s]"
     ]
    },
    {
     "name": "stdout",
     "output_type": "stream",
     "text": [
      "Fetching data for movie ID tt2566572 from OMDb...\n",
      "Fetching data for movie ID tt0446603 from OMDb...\n"
     ]
    },
    {
     "name": "stderr",
     "output_type": "stream",
     "text": [
      "Fetching movie data:  83%|██████████████▉   | 2971/3591 [07:57<01:30,  6.84it/s]"
     ]
    },
    {
     "name": "stdout",
     "output_type": "stream",
     "text": [
      "Fetching data for movie ID tt0334220 from OMDb...\n",
      "Fetching data for movie ID tt0382988 from OMDb...\n"
     ]
    },
    {
     "name": "stderr",
     "output_type": "stream",
     "text": [
      "Fetching movie data:  83%|██████████████▉   | 2973/3591 [07:57<01:33,  6.62it/s]"
     ]
    },
    {
     "name": "stdout",
     "output_type": "stream",
     "text": [
      "Fetching data for movie ID tt1757905 from OMDb...\n",
      "Fetching data for movie ID tt1220877 from OMDb...\n"
     ]
    },
    {
     "name": "stderr",
     "output_type": "stream",
     "text": [
      "Fetching movie data:  83%|██████████████▉   | 2975/3591 [07:58<01:36,  6.38it/s]"
     ]
    },
    {
     "name": "stdout",
     "output_type": "stream",
     "text": [
      "Fetching data for movie ID tt1321403 from OMDb...\n",
      "Fetching data for movie ID tt0976135 from OMDb...\n"
     ]
    },
    {
     "name": "stderr",
     "output_type": "stream",
     "text": [
      "Fetching movie data:  83%|██████████████▉   | 2977/3591 [07:58<01:34,  6.48it/s]"
     ]
    },
    {
     "name": "stdout",
     "output_type": "stream",
     "text": [
      "Fetching data for movie ID tt0376800 from OMDb...\n",
      "Fetching data for movie ID tt0387429 from OMDb...\n"
     ]
    },
    {
     "name": "stderr",
     "output_type": "stream",
     "text": [
      "Fetching movie data:  83%|██████████████▉   | 2979/3591 [07:58<01:25,  7.14it/s]"
     ]
    },
    {
     "name": "stdout",
     "output_type": "stream",
     "text": [
      "Fetching data for movie ID tt0455413 from OMDb...\n",
      "Fetching data for movie ID tt3343428 from OMDb...\n"
     ]
    },
    {
     "name": "stderr",
     "output_type": "stream",
     "text": [
      "Fetching movie data:  83%|██████████████▉   | 2981/3591 [07:59<01:22,  7.42it/s]"
     ]
    },
    {
     "name": "stdout",
     "output_type": "stream",
     "text": [
      "Fetching data for movie ID tt0451101 from OMDb...\n",
      "Fetching data for movie ID tt2330286 from OMDb...\n"
     ]
    },
    {
     "name": "stderr",
     "output_type": "stream",
     "text": [
      "Fetching movie data:  83%|██████████████▉   | 2983/3591 [07:59<01:27,  6.93it/s]"
     ]
    },
    {
     "name": "stdout",
     "output_type": "stream",
     "text": [
      "Fetching data for movie ID tt3277476 from OMDb...\n",
      "Fetching data for movie ID tt2498308 from OMDb...\n"
     ]
    },
    {
     "name": "stderr",
     "output_type": "stream",
     "text": [
      "Fetching movie data:  83%|██████████████▉   | 2985/3591 [07:59<01:39,  6.10it/s]"
     ]
    },
    {
     "name": "stdout",
     "output_type": "stream",
     "text": [
      "Fetching data for movie ID tt2517772 from OMDb...\n",
      "Fetching data for movie ID tt1709118 from OMDb...\n"
     ]
    },
    {
     "name": "stderr",
     "output_type": "stream",
     "text": [
      "Fetching movie data:  83%|██████████████▉   | 2987/3591 [08:00<01:37,  6.17it/s]"
     ]
    },
    {
     "name": "stdout",
     "output_type": "stream",
     "text": [
      "Fetching data for movie ID tt0405421 from OMDb...\n",
      "Fetching data for movie ID tt2501412 from OMDb...\n"
     ]
    },
    {
     "name": "stderr",
     "output_type": "stream",
     "text": [
      "Fetching movie data:  83%|██████████████▉   | 2989/3591 [08:00<01:39,  6.04it/s]"
     ]
    },
    {
     "name": "stdout",
     "output_type": "stream",
     "text": [
      "Fetching data for movie ID tt1566188 from OMDb...\n",
      "Fetching data for movie ID tt0270397 from OMDb...\n"
     ]
    },
    {
     "name": "stderr",
     "output_type": "stream",
     "text": [
      "Fetching movie data:  83%|██████████████▉   | 2991/3591 [08:00<01:29,  6.70it/s]"
     ]
    },
    {
     "name": "stdout",
     "output_type": "stream",
     "text": [
      "Fetching data for movie ID tt1583724 from OMDb...\n",
      "Fetching data for movie ID tt1806960 from OMDb...\n"
     ]
    },
    {
     "name": "stderr",
     "output_type": "stream",
     "text": [
      "Fetching movie data:  83%|███████████████   | 2993/3591 [08:00<01:36,  6.20it/s]"
     ]
    },
    {
     "name": "stdout",
     "output_type": "stream",
     "text": [
      "Fetching data for movie ID tt0847217 from OMDb...\n",
      "Fetching data for movie ID tt0333847 from OMDb...\n"
     ]
    },
    {
     "name": "stderr",
     "output_type": "stream",
     "text": [
      "Fetching movie data:  83%|███████████████   | 2995/3591 [08:01<01:32,  6.44it/s]"
     ]
    },
    {
     "name": "stdout",
     "output_type": "stream",
     "text": [
      "Fetching data for movie ID tt1339110 from OMDb...\n",
      "Fetching data for movie ID tt0488935 from OMDb...\n"
     ]
    },
    {
     "name": "stderr",
     "output_type": "stream",
     "text": [
      "Fetching movie data:  83%|███████████████   | 2997/3591 [08:01<01:25,  6.97it/s]"
     ]
    },
    {
     "name": "stdout",
     "output_type": "stream",
     "text": [
      "Fetching data for movie ID tt0448097 from OMDb...\n",
      "Fetching data for movie ID tt1344861 from OMDb...\n"
     ]
    },
    {
     "name": "stderr",
     "output_type": "stream",
     "text": [
      "Fetching movie data:  84%|███████████████   | 2999/3591 [08:01<01:34,  6.26it/s]"
     ]
    },
    {
     "name": "stdout",
     "output_type": "stream",
     "text": [
      "Fetching data for movie ID tt2091979 from OMDb...\n",
      "Fetching data for movie ID tt0303787 from OMDb...\n"
     ]
    },
    {
     "name": "stderr",
     "output_type": "stream",
     "text": [
      "Fetching movie data:  84%|███████████████   | 3000/3591 [08:02<01:29,  6.57it/s]"
     ]
    },
    {
     "name": "stdout",
     "output_type": "stream",
     "text": [
      "Fetching data for movie ID tt2115311 from OMDb...\n"
     ]
    },
    {
     "name": "stderr",
     "output_type": "stream",
     "text": [
      "Fetching movie data:  84%|███████████████   | 3002/3591 [08:02<01:33,  6.29it/s]"
     ]
    },
    {
     "name": "stdout",
     "output_type": "stream",
     "text": [
      "Progress saved after 25600 movies.\n",
      "Fetching data for movie ID tt1288380 from OMDb...\n",
      "Fetching data for movie ID tt3397544 from OMDb...\n"
     ]
    },
    {
     "name": "stderr",
     "output_type": "stream",
     "text": [
      "Fetching movie data:  84%|███████████████   | 3004/3591 [08:02<01:39,  5.91it/s]"
     ]
    },
    {
     "name": "stdout",
     "output_type": "stream",
     "text": [
      "Fetching data for movie ID tt0961079 from OMDb...\n",
      "Fetching data for movie ID tt1429092 from OMDb...\n"
     ]
    },
    {
     "name": "stderr",
     "output_type": "stream",
     "text": [
      "Fetching movie data:  84%|███████████████   | 3006/3591 [08:03<01:35,  6.11it/s]"
     ]
    },
    {
     "name": "stdout",
     "output_type": "stream",
     "text": [
      "Fetching data for movie ID tt2206686 from OMDb...\n",
      "Fetching data for movie ID tt1615887 from OMDb...\n"
     ]
    },
    {
     "name": "stderr",
     "output_type": "stream",
     "text": [
      "Fetching movie data:  84%|███████████████   | 3008/3591 [08:03<01:37,  5.97it/s]"
     ]
    },
    {
     "name": "stdout",
     "output_type": "stream",
     "text": [
      "Fetching data for movie ID tt1841598 from OMDb...\n",
      "Fetching data for movie ID tt2069002 from OMDb...\n"
     ]
    },
    {
     "name": "stderr",
     "output_type": "stream",
     "text": [
      "Fetching movie data:  84%|███████████████   | 3010/3591 [08:03<01:29,  6.52it/s]"
     ]
    },
    {
     "name": "stdout",
     "output_type": "stream",
     "text": [
      "Fetching data for movie ID tt1662557 from OMDb...\n",
      "Fetching data for movie ID tt1757939 from OMDb...\n"
     ]
    },
    {
     "name": "stderr",
     "output_type": "stream",
     "text": [
      "Fetching movie data:  84%|███████████████   | 3012/3591 [08:03<01:28,  6.55it/s]"
     ]
    },
    {
     "name": "stdout",
     "output_type": "stream",
     "text": [
      "Fetching data for movie ID tt2205599 from OMDb...\n",
      "Fetching data for movie ID tt1519408 from OMDb...\n"
     ]
    },
    {
     "name": "stderr",
     "output_type": "stream",
     "text": [
      "Fetching movie data:  84%|███████████████   | 3014/3591 [08:04<01:25,  6.75it/s]"
     ]
    },
    {
     "name": "stdout",
     "output_type": "stream",
     "text": [
      "Fetching data for movie ID tt1181927 from OMDb...\n",
      "Fetching data for movie ID tt3323920 from OMDb...\n"
     ]
    },
    {
     "name": "stderr",
     "output_type": "stream",
     "text": [
      "Fetching movie data:  84%|███████████████   | 3016/3591 [08:04<01:34,  6.09it/s]"
     ]
    },
    {
     "name": "stdout",
     "output_type": "stream",
     "text": [
      "Fetching data for movie ID tt1384779 from OMDb...\n",
      "Fetching data for movie ID tt0407108 from OMDb...\n"
     ]
    },
    {
     "name": "stderr",
     "output_type": "stream",
     "text": [
      "Fetching movie data:  84%|███████████████▏  | 3018/3591 [08:04<01:23,  6.84it/s]"
     ]
    },
    {
     "name": "stdout",
     "output_type": "stream",
     "text": [
      "Fetching data for movie ID tt1638353 from OMDb...\n",
      "Fetching data for movie ID tt6573126 from OMDb...\n"
     ]
    },
    {
     "name": "stderr",
     "output_type": "stream",
     "text": [
      "Fetching movie data:  84%|███████████████▏  | 3020/3591 [08:05<01:23,  6.81it/s]"
     ]
    },
    {
     "name": "stdout",
     "output_type": "stream",
     "text": [
      "Fetching data for movie ID tt0252985 from OMDb...\n",
      "Fetching data for movie ID tt0282716 from OMDb...\n"
     ]
    },
    {
     "name": "stderr",
     "output_type": "stream",
     "text": [
      "Fetching movie data:  84%|███████████████▏  | 3022/3591 [08:05<01:22,  6.87it/s]"
     ]
    },
    {
     "name": "stdout",
     "output_type": "stream",
     "text": [
      "Fetching data for movie ID tt0288114 from OMDb...\n",
      "Fetching data for movie ID tt1860306 from OMDb...\n"
     ]
    },
    {
     "name": "stderr",
     "output_type": "stream",
     "text": [
      "Fetching movie data:  84%|███████████████▏  | 3024/3591 [08:05<01:21,  6.97it/s]"
     ]
    },
    {
     "name": "stdout",
     "output_type": "stream",
     "text": [
      "Fetching data for movie ID tt2473624 from OMDb...\n",
      "Fetching data for movie ID tt1112115 from OMDb...\n"
     ]
    },
    {
     "name": "stderr",
     "output_type": "stream",
     "text": [
      "Fetching movie data:  84%|███████████████▏  | 3026/3591 [08:06<01:21,  6.96it/s]"
     ]
    },
    {
     "name": "stdout",
     "output_type": "stream",
     "text": [
      "Fetching data for movie ID tt1462553 from OMDb...\n",
      "Fetching data for movie ID tt2224520 from OMDb...\n"
     ]
    },
    {
     "name": "stderr",
     "output_type": "stream",
     "text": [
      "Fetching movie data:  84%|███████████████▏  | 3028/3591 [08:06<01:26,  6.53it/s]"
     ]
    },
    {
     "name": "stdout",
     "output_type": "stream",
     "text": [
      "Fetching data for movie ID tt0499526 from OMDb...\n",
      "Fetching data for movie ID tt0413015 from OMDb...\n"
     ]
    },
    {
     "name": "stderr",
     "output_type": "stream",
     "text": [
      "Fetching movie data:  84%|███████████████▏  | 3030/3591 [08:06<01:30,  6.20it/s]"
     ]
    },
    {
     "name": "stdout",
     "output_type": "stream",
     "text": [
      "Fetching data for movie ID tt1233606 from OMDb...\n",
      "Fetching data for movie ID tt2256577 from OMDb...\n"
     ]
    },
    {
     "name": "stderr",
     "output_type": "stream",
     "text": [
      "Fetching movie data:  84%|███████████████▏  | 3032/3591 [08:06<01:27,  6.36it/s]"
     ]
    },
    {
     "name": "stdout",
     "output_type": "stream",
     "text": [
      "Fetching data for movie ID tt0877351 from OMDb...\n",
      "Fetching data for movie ID tt1459039 from OMDb...\n"
     ]
    },
    {
     "name": "stderr",
     "output_type": "stream",
     "text": [
      "Fetching movie data:  84%|███████████████▏  | 3034/3591 [08:07<01:32,  6.01it/s]"
     ]
    },
    {
     "name": "stdout",
     "output_type": "stream",
     "text": [
      "Fetching data for movie ID tt0151685 from OMDb...\n",
      "Fetching data for movie ID tt2331027 from OMDb...\n"
     ]
    },
    {
     "name": "stderr",
     "output_type": "stream",
     "text": [
      "Fetching movie data:  85%|███████████████▏  | 3036/3591 [08:07<01:21,  6.81it/s]"
     ]
    },
    {
     "name": "stdout",
     "output_type": "stream",
     "text": [
      "Fetching data for movie ID tt0469935 from OMDb...\n",
      "Fetching data for movie ID tt1512201 from OMDb...\n"
     ]
    },
    {
     "name": "stderr",
     "output_type": "stream",
     "text": [
      "Fetching movie data:  85%|███████████████▏  | 3038/3591 [08:07<01:28,  6.23it/s]"
     ]
    },
    {
     "name": "stdout",
     "output_type": "stream",
     "text": [
      "Fetching data for movie ID tt0449088 from OMDb...\n",
      "Fetching data for movie ID tt0466841 from OMDb...\n"
     ]
    },
    {
     "name": "stderr",
     "output_type": "stream",
     "text": [
      "Fetching movie data:  85%|███████████████▏  | 3040/3591 [08:08<01:23,  6.59it/s]"
     ]
    },
    {
     "name": "stdout",
     "output_type": "stream",
     "text": [
      "Fetching data for movie ID tt0477930 from OMDb...\n",
      "Fetching data for movie ID tt2448028 from OMDb...\n"
     ]
    },
    {
     "name": "stderr",
     "output_type": "stream",
     "text": [
      "Fetching movie data:  85%|███████████████▏  | 3042/3591 [08:08<01:24,  6.51it/s]"
     ]
    },
    {
     "name": "stdout",
     "output_type": "stream",
     "text": [
      "Fetching data for movie ID tt2194627 from OMDb...\n",
      "Fetching data for movie ID tt2088012 from OMDb...\n"
     ]
    },
    {
     "name": "stderr",
     "output_type": "stream",
     "text": [
      "Fetching movie data:  85%|███████████████▎  | 3044/3591 [08:08<01:17,  7.05it/s]"
     ]
    },
    {
     "name": "stdout",
     "output_type": "stream",
     "text": [
      "Fetching data for movie ID tt1322938 from OMDb...\n",
      "Fetching data for movie ID tt1122614 from OMDb...\n"
     ]
    },
    {
     "name": "stderr",
     "output_type": "stream",
     "text": [
      "Fetching movie data:  85%|███████████████▎  | 3046/3591 [08:09<01:17,  7.00it/s]"
     ]
    },
    {
     "name": "stdout",
     "output_type": "stream",
     "text": [
      "Fetching data for movie ID tt0450240 from OMDb...\n",
      "Fetching data for movie ID tt1813337 from OMDb...\n"
     ]
    },
    {
     "name": "stderr",
     "output_type": "stream",
     "text": [
      "Fetching movie data:  85%|███████████████▎  | 3048/3591 [08:09<01:30,  6.02it/s]"
     ]
    },
    {
     "name": "stdout",
     "output_type": "stream",
     "text": [
      "Fetching data for movie ID tt2583084 from OMDb...\n",
      "Fetching data for movie ID tt0826796 from OMDb...\n"
     ]
    },
    {
     "name": "stderr",
     "output_type": "stream",
     "text": [
      "Fetching movie data:  85%|███████████████▎  | 3050/3591 [08:09<01:21,  6.67it/s]"
     ]
    },
    {
     "name": "stdout",
     "output_type": "stream",
     "text": [
      "Fetching data for movie ID tt16605576 from OMDb...\n",
      "Fetching data for movie ID tt7803416 from OMDb...\n"
     ]
    },
    {
     "name": "stderr",
     "output_type": "stream",
     "text": [
      "Fetching movie data:  85%|███████████████▎  | 3052/3591 [08:10<01:14,  7.25it/s]"
     ]
    },
    {
     "name": "stdout",
     "output_type": "stream",
     "text": [
      "Fetching data for movie ID tt1020972 from OMDb...\n",
      "Fetching data for movie ID tt0396269 from OMDb...\n"
     ]
    },
    {
     "name": "stderr",
     "output_type": "stream",
     "text": [
      "Fetching movie data:  85%|███████████████▎  | 3054/3591 [08:10<01:29,  5.99it/s]"
     ]
    },
    {
     "name": "stdout",
     "output_type": "stream",
     "text": [
      "Fetching data for movie ID tt0445590 from OMDb...\n",
      "Fetching data for movie ID tt3290452 from OMDb...\n"
     ]
    },
    {
     "name": "stderr",
     "output_type": "stream",
     "text": [
      "Fetching movie data:  85%|███████████████▎  | 3056/3591 [08:10<01:25,  6.29it/s]"
     ]
    },
    {
     "name": "stdout",
     "output_type": "stream",
     "text": [
      "Fetching data for movie ID tt0439668 from OMDb...\n",
      "Fetching data for movie ID tt1386941 from OMDb...\n"
     ]
    },
    {
     "name": "stderr",
     "output_type": "stream",
     "text": [
      "Fetching movie data:  85%|███████████████▎  | 3058/3591 [08:11<01:25,  6.22it/s]"
     ]
    },
    {
     "name": "stdout",
     "output_type": "stream",
     "text": [
      "Fetching data for movie ID tt1192628 from OMDb...\n",
      "Fetching data for movie ID tt1842372 from OMDb...\n"
     ]
    },
    {
     "name": "stderr",
     "output_type": "stream",
     "text": [
      "Fetching movie data:  85%|███████████████▎  | 3060/3591 [08:11<01:27,  6.09it/s]"
     ]
    },
    {
     "name": "stdout",
     "output_type": "stream",
     "text": [
      "Fetching data for movie ID tt0280079 from OMDb...\n",
      "Fetching data for movie ID tt1301703 from OMDb...\n"
     ]
    },
    {
     "name": "stderr",
     "output_type": "stream",
     "text": [
      "Fetching movie data:  85%|███████████████▎  | 3062/3591 [08:11<01:20,  6.59it/s]"
     ]
    },
    {
     "name": "stdout",
     "output_type": "stream",
     "text": [
      "Fetching data for movie ID tt2091398 from OMDb...\n",
      "Fetching data for movie ID tt3302498 from OMDb...\n"
     ]
    },
    {
     "name": "stderr",
     "output_type": "stream",
     "text": [
      "Fetching movie data:  85%|███████████████▎  | 3064/3591 [08:11<01:14,  7.08it/s]"
     ]
    },
    {
     "name": "stdout",
     "output_type": "stream",
     "text": [
      "Fetching data for movie ID tt1809307 from OMDb...\n",
      "Fetching data for movie ID tt2097254 from OMDb...\n"
     ]
    },
    {
     "name": "stderr",
     "output_type": "stream",
     "text": [
      "Fetching movie data:  85%|███████████████▎  | 3066/3591 [08:12<01:10,  7.43it/s]"
     ]
    },
    {
     "name": "stdout",
     "output_type": "stream",
     "text": [
      "Fetching data for movie ID tt1815837 from OMDb...\n",
      "Fetching data for movie ID tt0453549 from OMDb...\n"
     ]
    },
    {
     "name": "stderr",
     "output_type": "stream",
     "text": [
      "Fetching movie data:  85%|███████████████▍  | 3068/3591 [08:12<01:14,  7.06it/s]"
     ]
    },
    {
     "name": "stdout",
     "output_type": "stream",
     "text": [
      "Fetching data for movie ID tt1770682 from OMDb...\n",
      "Fetching data for movie ID tt1370372 from OMDb...\n"
     ]
    },
    {
     "name": "stderr",
     "output_type": "stream",
     "text": [
      "Fetching movie data:  85%|███████████████▍  | 3070/3591 [08:12<01:12,  7.20it/s]"
     ]
    },
    {
     "name": "stdout",
     "output_type": "stream",
     "text": [
      "Fetching data for movie ID tt4143874 from OMDb...\n",
      "Fetching data for movie ID tt13613252 from OMDb...\n"
     ]
    },
    {
     "name": "stderr",
     "output_type": "stream",
     "text": [
      "Fetching movie data:  86%|███████████████▍  | 3072/3591 [08:13<01:09,  7.47it/s]"
     ]
    },
    {
     "name": "stdout",
     "output_type": "stream",
     "text": [
      "Fetching data for movie ID tt0820074 from OMDb...\n",
      "Fetching data for movie ID tt2700974 from OMDb...\n"
     ]
    },
    {
     "name": "stderr",
     "output_type": "stream",
     "text": [
      "Fetching movie data:  86%|███████████████▍  | 3074/3591 [08:13<01:15,  6.83it/s]"
     ]
    },
    {
     "name": "stdout",
     "output_type": "stream",
     "text": [
      "Fetching data for movie ID tt1217282 from OMDb...\n",
      "Fetching data for movie ID tt0995718 from OMDb...\n"
     ]
    },
    {
     "name": "stderr",
     "output_type": "stream",
     "text": [
      "Fetching movie data:  86%|███████████████▍  | 3076/3591 [08:13<01:12,  7.14it/s]"
     ]
    },
    {
     "name": "stdout",
     "output_type": "stream",
     "text": [
      "Fetching data for movie ID tt1285210 from OMDb...\n",
      "Fetching data for movie ID tt1721677 from OMDb...\n"
     ]
    },
    {
     "name": "stderr",
     "output_type": "stream",
     "text": [
      "Fetching movie data:  86%|███████████████▍  | 3078/3591 [08:13<01:16,  6.74it/s]"
     ]
    },
    {
     "name": "stdout",
     "output_type": "stream",
     "text": [
      "Fetching data for movie ID tt2064713 from OMDb...\n",
      "Fetching data for movie ID tt0291962 from OMDb...\n"
     ]
    },
    {
     "name": "stderr",
     "output_type": "stream",
     "text": [
      "Fetching movie data:  86%|███████████████▍  | 3080/3591 [08:14<01:15,  6.80it/s]"
     ]
    },
    {
     "name": "stdout",
     "output_type": "stream",
     "text": [
      "Fetching data for movie ID tt0889625 from OMDb...\n",
      "Fetching data for movie ID tt1068651 from OMDb...\n"
     ]
    },
    {
     "name": "stderr",
     "output_type": "stream",
     "text": [
      "Fetching movie data:  86%|███████████████▍  | 3082/3591 [08:14<01:11,  7.09it/s]"
     ]
    },
    {
     "name": "stdout",
     "output_type": "stream",
     "text": [
      "Fetching data for movie ID tt1360795 from OMDb...\n",
      "Fetching data for movie ID tt2202361 from OMDb...\n"
     ]
    },
    {
     "name": "stderr",
     "output_type": "stream",
     "text": [
      "Fetching movie data:  86%|███████████████▍  | 3084/3591 [08:14<01:16,  6.66it/s]"
     ]
    },
    {
     "name": "stdout",
     "output_type": "stream",
     "text": [
      "Fetching data for movie ID tt2151811 from OMDb...\n",
      "Fetching data for movie ID tt0439586 from OMDb...\n"
     ]
    },
    {
     "name": "stderr",
     "output_type": "stream",
     "text": [
      "Fetching movie data:  86%|███████████████▍  | 3086/3591 [08:15<01:18,  6.42it/s]"
     ]
    },
    {
     "name": "stdout",
     "output_type": "stream",
     "text": [
      "Fetching data for movie ID tt1124034 from OMDb...\n",
      "Fetching data for movie ID tt1401595 from OMDb...\n"
     ]
    },
    {
     "name": "stderr",
     "output_type": "stream",
     "text": [
      "Fetching movie data:  86%|███████████████▍  | 3088/3591 [08:15<01:18,  6.45it/s]"
     ]
    },
    {
     "name": "stdout",
     "output_type": "stream",
     "text": [
      "Fetching data for movie ID tt0905979 from OMDb...\n",
      "Fetching data for movie ID tt0882757 from OMDb...\n"
     ]
    },
    {
     "name": "stderr",
     "output_type": "stream",
     "text": [
      "Fetching movie data:  86%|███████████████▍  | 3090/3591 [08:15<01:15,  6.65it/s]"
     ]
    },
    {
     "name": "stdout",
     "output_type": "stream",
     "text": [
      "Fetching data for movie ID tt2481246 from OMDb...\n",
      "Fetching data for movie ID tt1946297 from OMDb...\n"
     ]
    },
    {
     "name": "stderr",
     "output_type": "stream",
     "text": [
      "Fetching movie data:  86%|███████████████▍  | 3092/3591 [08:16<01:16,  6.55it/s]"
     ]
    },
    {
     "name": "stdout",
     "output_type": "stream",
     "text": [
      "Fetching data for movie ID tt2136879 from OMDb...\n",
      "Fetching data for movie ID tt1327602 from OMDb...\n"
     ]
    },
    {
     "name": "stderr",
     "output_type": "stream",
     "text": [
      "Fetching movie data:  86%|███████████████▌  | 3094/3591 [08:16<01:18,  6.30it/s]"
     ]
    },
    {
     "name": "stdout",
     "output_type": "stream",
     "text": [
      "Fetching data for movie ID tt2145853 from OMDb...\n",
      "Fetching data for movie ID tt0419515 from OMDb...\n"
     ]
    },
    {
     "name": "stderr",
     "output_type": "stream",
     "text": [
      "Fetching movie data:  86%|███████████████▌  | 3096/3591 [08:16<01:21,  6.08it/s]"
     ]
    },
    {
     "name": "stdout",
     "output_type": "stream",
     "text": [
      "Fetching data for movie ID tt0826090 from OMDb...\n",
      "Fetching data for movie ID tt0309720 from OMDb...\n"
     ]
    },
    {
     "name": "stderr",
     "output_type": "stream",
     "text": [
      "Fetching movie data:  86%|███████████████▌  | 3098/3591 [08:17<01:23,  5.89it/s]"
     ]
    },
    {
     "name": "stdout",
     "output_type": "stream",
     "text": [
      "Fetching data for movie ID tt8229540 from OMDb...\n",
      "Fetching data for movie ID tt2231167 from OMDb...\n"
     ]
    },
    {
     "name": "stderr",
     "output_type": "stream",
     "text": [
      "Fetching movie data:  86%|███████████████▌  | 3100/3591 [08:17<01:14,  6.58it/s]"
     ]
    },
    {
     "name": "stdout",
     "output_type": "stream",
     "text": [
      "Fetching data for movie ID tt1684913 from OMDb...\n",
      "Fetching data for movie ID tt3331372 from OMDb...\n"
     ]
    },
    {
     "name": "stderr",
     "output_type": "stream",
     "text": [
      "Fetching movie data:  86%|███████████████▌  | 3102/3591 [08:17<01:21,  5.98it/s]"
     ]
    },
    {
     "name": "stdout",
     "output_type": "stream",
     "text": [
      "Progress saved after 25700 movies.\n",
      "Fetching data for movie ID tt2772780 from OMDb...\n",
      "Fetching data for movie ID tt1757796 from OMDb...\n"
     ]
    },
    {
     "name": "stderr",
     "output_type": "stream",
     "text": [
      "Fetching movie data:  86%|███████████████▌  | 3104/3591 [08:17<01:14,  6.51it/s]"
     ]
    },
    {
     "name": "stdout",
     "output_type": "stream",
     "text": [
      "Fetching data for movie ID tt2418480 from OMDb...\n",
      "Fetching data for movie ID tt2034122 from OMDb...\n"
     ]
    },
    {
     "name": "stderr",
     "output_type": "stream",
     "text": [
      "Fetching movie data:  86%|███████████████▌  | 3106/3591 [08:18<01:13,  6.62it/s]"
     ]
    },
    {
     "name": "stdout",
     "output_type": "stream",
     "text": [
      "Fetching data for movie ID tt3336654 from OMDb...\n",
      "Fetching data for movie ID tt0280879 from OMDb...\n"
     ]
    },
    {
     "name": "stderr",
     "output_type": "stream",
     "text": [
      "Fetching movie data:  87%|███████████████▌  | 3108/3591 [08:18<01:10,  6.87it/s]"
     ]
    },
    {
     "name": "stdout",
     "output_type": "stream",
     "text": [
      "Fetching data for movie ID tt1326947 from OMDb...\n",
      "Fetching data for movie ID tt2018089 from OMDb...\n"
     ]
    },
    {
     "name": "stderr",
     "output_type": "stream",
     "text": [
      "Fetching movie data:  87%|███████████████▌  | 3110/3591 [08:18<01:16,  6.26it/s]"
     ]
    },
    {
     "name": "stdout",
     "output_type": "stream",
     "text": [
      "Fetching data for movie ID tt1337167 from OMDb...\n",
      "Fetching data for movie ID tt1262865 from OMDb...\n"
     ]
    },
    {
     "name": "stderr",
     "output_type": "stream",
     "text": [
      "Fetching movie data:  87%|███████████████▌  | 3112/3591 [08:19<01:17,  6.16it/s]"
     ]
    },
    {
     "name": "stdout",
     "output_type": "stream",
     "text": [
      "Fetching data for movie ID tt1864549 from OMDb...\n",
      "Fetching data for movie ID tt0907618 from OMDb...\n"
     ]
    },
    {
     "name": "stderr",
     "output_type": "stream",
     "text": [
      "Fetching movie data:  87%|███████████████▌  | 3114/3591 [08:19<01:11,  6.63it/s]"
     ]
    },
    {
     "name": "stdout",
     "output_type": "stream",
     "text": [
      "Fetching data for movie ID tt1242867 from OMDb...\n",
      "Fetching data for movie ID tt0976178 from OMDb...\n"
     ]
    },
    {
     "name": "stderr",
     "output_type": "stream",
     "text": [
      "Fetching movie data:  87%|███████████████▌  | 3116/3591 [08:19<01:06,  7.17it/s]"
     ]
    },
    {
     "name": "stdout",
     "output_type": "stream",
     "text": [
      "Fetching data for movie ID tt3069614 from OMDb...\n",
      "Fetching data for movie ID tt1111776 from OMDb...\n"
     ]
    },
    {
     "name": "stderr",
     "output_type": "stream",
     "text": [
      "Fetching movie data:  87%|███████████████▋  | 3118/3591 [08:20<01:07,  6.99it/s]"
     ]
    },
    {
     "name": "stdout",
     "output_type": "stream",
     "text": [
      "Fetching data for movie ID tt0235737 from OMDb...\n",
      "Fetching data for movie ID tt0383846 from OMDb...\n"
     ]
    },
    {
     "name": "stderr",
     "output_type": "stream",
     "text": [
      "Fetching movie data:  87%|███████████████▋  | 3120/3591 [08:20<01:10,  6.70it/s]"
     ]
    },
    {
     "name": "stdout",
     "output_type": "stream",
     "text": [
      "Fetching data for movie ID tt2292522 from OMDb...\n",
      "Fetching data for movie ID tt0958831 from OMDb...\n"
     ]
    },
    {
     "name": "stderr",
     "output_type": "stream",
     "text": [
      "Fetching movie data:  87%|███████████████▋  | 3122/3591 [08:20<01:06,  7.07it/s]"
     ]
    },
    {
     "name": "stdout",
     "output_type": "stream",
     "text": [
      "Fetching data for movie ID tt0198438 from OMDb...\n",
      "Fetching data for movie ID tt0807705 from OMDb...\n"
     ]
    },
    {
     "name": "stderr",
     "output_type": "stream",
     "text": [
      "Fetching movie data:  87%|███████████████▋  | 3124/3591 [08:20<01:07,  6.94it/s]"
     ]
    },
    {
     "name": "stdout",
     "output_type": "stream",
     "text": [
      "Fetching data for movie ID tt0424273 from OMDb...\n",
      "Fetching data for movie ID tt2545058 from OMDb...\n"
     ]
    },
    {
     "name": "stderr",
     "output_type": "stream",
     "text": [
      "Fetching movie data:  87%|███████████████▋  | 3126/3591 [08:21<01:18,  5.90it/s]"
     ]
    },
    {
     "name": "stdout",
     "output_type": "stream",
     "text": [
      "Fetching data for movie ID tt3196674 from OMDb...\n",
      "Fetching data for movie ID tt1680306 from OMDb...\n"
     ]
    },
    {
     "name": "stderr",
     "output_type": "stream",
     "text": [
      "Fetching movie data:  87%|███████████████▋  | 3128/3591 [08:21<01:17,  5.95it/s]"
     ]
    },
    {
     "name": "stdout",
     "output_type": "stream",
     "text": [
      "Fetching data for movie ID tt1163291 from OMDb...\n",
      "Fetching data for movie ID tt1465495 from OMDb...\n"
     ]
    },
    {
     "name": "stderr",
     "output_type": "stream",
     "text": [
      "Fetching movie data:  87%|███████████████▋  | 3130/3591 [08:21<01:13,  6.26it/s]"
     ]
    },
    {
     "name": "stdout",
     "output_type": "stream",
     "text": [
      "Fetching data for movie ID tt2305378 from OMDb...\n",
      "Fetching data for movie ID tt1233210 from OMDb...\n"
     ]
    },
    {
     "name": "stderr",
     "output_type": "stream",
     "text": [
      "Fetching movie data:  87%|███████████████▋  | 3132/3591 [08:22<01:12,  6.34it/s]"
     ]
    },
    {
     "name": "stdout",
     "output_type": "stream",
     "text": [
      "Fetching data for movie ID tt1280567 from OMDb...\n",
      "Fetching data for movie ID tt0390079 from OMDb...\n"
     ]
    },
    {
     "name": "stderr",
     "output_type": "stream",
     "text": [
      "Fetching movie data:  87%|███████████████▋  | 3134/3591 [08:22<01:15,  6.06it/s]"
     ]
    },
    {
     "name": "stdout",
     "output_type": "stream",
     "text": [
      "Fetching data for movie ID tt1371081 from OMDb...\n",
      "Fetching data for movie ID tt0464120 from OMDb...\n"
     ]
    },
    {
     "name": "stderr",
     "output_type": "stream",
     "text": [
      "Fetching movie data:  87%|███████████████▋  | 3136/3591 [08:22<01:14,  6.14it/s]"
     ]
    },
    {
     "name": "stdout",
     "output_type": "stream",
     "text": [
      "Fetching data for movie ID tt0860454 from OMDb...\n",
      "Fetching data for movie ID tt2692596 from OMDb...\n"
     ]
    },
    {
     "name": "stderr",
     "output_type": "stream",
     "text": [
      "Fetching movie data:  87%|███████████████▋  | 3138/3591 [08:23<01:16,  5.92it/s]"
     ]
    },
    {
     "name": "stdout",
     "output_type": "stream",
     "text": [
      "Fetching data for movie ID tt2843832 from OMDb...\n",
      "Fetching data for movie ID tt1117390 from OMDb...\n"
     ]
    },
    {
     "name": "stderr",
     "output_type": "stream",
     "text": [
      "Fetching movie data:  87%|███████████████▋  | 3140/3591 [08:23<01:06,  6.80it/s]"
     ]
    },
    {
     "name": "stdout",
     "output_type": "stream",
     "text": [
      "Fetching data for movie ID tt1375779 from OMDb...\n",
      "Fetching data for movie ID tt30517220 from OMDb...\n"
     ]
    },
    {
     "name": "stderr",
     "output_type": "stream",
     "text": [
      "Fetching movie data:  87%|███████████████▋  | 3142/3591 [08:23<01:02,  7.13it/s]"
     ]
    },
    {
     "name": "stdout",
     "output_type": "stream",
     "text": [
      "Fetching data for movie ID tt2113806 from OMDb...\n",
      "Fetching data for movie ID tt1439573 from OMDb...\n"
     ]
    },
    {
     "name": "stderr",
     "output_type": "stream",
     "text": [
      "Fetching movie data:  88%|███████████████▊  | 3144/3591 [08:24<01:11,  6.21it/s]"
     ]
    },
    {
     "name": "stdout",
     "output_type": "stream",
     "text": [
      "Fetching data for movie ID tt2455788 from OMDb...\n",
      "Fetching data for movie ID tt0770802 from OMDb...\n"
     ]
    },
    {
     "name": "stderr",
     "output_type": "stream",
     "text": [
      "Fetching movie data:  88%|███████████████▊  | 3146/3591 [08:24<01:09,  6.40it/s]"
     ]
    },
    {
     "name": "stdout",
     "output_type": "stream",
     "text": [
      "Fetching data for movie ID tt0377084 from OMDb...\n",
      "Fetching data for movie ID tt2093284 from OMDb...\n"
     ]
    },
    {
     "name": "stderr",
     "output_type": "stream",
     "text": [
      "Fetching movie data:  88%|███████████████▊  | 3148/3591 [08:24<01:07,  6.54it/s]"
     ]
    },
    {
     "name": "stdout",
     "output_type": "stream",
     "text": [
      "Fetching data for movie ID tt0251777 from OMDb...\n",
      "Fetching data for movie ID tt3225656 from OMDb...\n"
     ]
    },
    {
     "name": "stderr",
     "output_type": "stream",
     "text": [
      "Fetching movie data:  88%|███████████████▊  | 3150/3591 [08:25<01:00,  7.25it/s]"
     ]
    },
    {
     "name": "stdout",
     "output_type": "stream",
     "text": [
      "Fetching data for movie ID tt0983241 from OMDb...\n",
      "Fetching data for movie ID tt2814274 from OMDb...\n"
     ]
    },
    {
     "name": "stderr",
     "output_type": "stream",
     "text": [
      "Fetching movie data:  88%|███████████████▊  | 3152/3591 [08:25<01:00,  7.27it/s]"
     ]
    },
    {
     "name": "stdout",
     "output_type": "stream",
     "text": [
      "Fetching data for movie ID tt0359203 from OMDb...\n",
      "Fetching data for movie ID tt0758438 from OMDb...\n"
     ]
    },
    {
     "name": "stderr",
     "output_type": "stream",
     "text": [
      "Fetching movie data:  88%|███████████████▊  | 3153/3591 [08:25<01:00,  7.27it/s]"
     ]
    },
    {
     "name": "stdout",
     "output_type": "stream",
     "text": [
      "Fetching data for movie ID tt1753666 from OMDb...\n"
     ]
    },
    {
     "name": "stderr",
     "output_type": "stream",
     "text": [
      "Fetching movie data:  88%|███████████████▊  | 3155/3591 [08:25<01:18,  5.53it/s]"
     ]
    },
    {
     "name": "stdout",
     "output_type": "stream",
     "text": [
      "Fetching data for movie ID tt2328694 from OMDb...\n",
      "Fetching data for movie ID tt7025924 from OMDb...\n"
     ]
    },
    {
     "name": "stderr",
     "output_type": "stream",
     "text": [
      "Fetching movie data:  88%|███████████████▊  | 3157/3591 [08:26<01:11,  6.04it/s]"
     ]
    },
    {
     "name": "stdout",
     "output_type": "stream",
     "text": [
      "Fetching data for movie ID tt0267427 from OMDb...\n",
      "Fetching data for movie ID tt0298079 from OMDb...\n"
     ]
    },
    {
     "name": "stderr",
     "output_type": "stream",
     "text": [
      "Fetching movie data:  88%|███████████████▊  | 3159/3591 [08:26<01:06,  6.53it/s]"
     ]
    },
    {
     "name": "stdout",
     "output_type": "stream",
     "text": [
      "Fetching data for movie ID tt1503778 from OMDb...\n",
      "Fetching data for movie ID tt7449306 from OMDb...\n"
     ]
    },
    {
     "name": "stderr",
     "output_type": "stream",
     "text": [
      "Fetching movie data:  88%|███████████████▊  | 3161/3591 [08:26<01:03,  6.76it/s]"
     ]
    },
    {
     "name": "stdout",
     "output_type": "stream",
     "text": [
      "Fetching data for movie ID tt1993421 from OMDb...\n",
      "Fetching data for movie ID tt1669273 from OMDb...\n"
     ]
    },
    {
     "name": "stderr",
     "output_type": "stream",
     "text": [
      "Fetching movie data:  88%|███████████████▊  | 3163/3591 [08:27<01:11,  5.97it/s]"
     ]
    },
    {
     "name": "stdout",
     "output_type": "stream",
     "text": [
      "Fetching data for movie ID tt0820059 from OMDb...\n",
      "Fetching data for movie ID tt1664809 from OMDb...\n"
     ]
    },
    {
     "name": "stderr",
     "output_type": "stream",
     "text": [
      "Fetching movie data:  88%|███████████████▊  | 3165/3591 [08:27<01:05,  6.53it/s]"
     ]
    },
    {
     "name": "stdout",
     "output_type": "stream",
     "text": [
      "Fetching data for movie ID tt1169152 from OMDb...\n",
      "Fetching data for movie ID tt1336980 from OMDb...\n"
     ]
    },
    {
     "name": "stderr",
     "output_type": "stream",
     "text": [
      "Fetching movie data:  88%|███████████████▊  | 3167/3591 [08:27<01:00,  7.03it/s]"
     ]
    },
    {
     "name": "stdout",
     "output_type": "stream",
     "text": [
      "Fetching data for movie ID tt0953483 from OMDb...\n",
      "Fetching data for movie ID tt1856711 from OMDb...\n"
     ]
    },
    {
     "name": "stderr",
     "output_type": "stream",
     "text": [
      "Fetching movie data:  88%|███████████████▉  | 3169/3591 [08:28<01:05,  6.44it/s]"
     ]
    },
    {
     "name": "stdout",
     "output_type": "stream",
     "text": [
      "Fetching data for movie ID tt0327506 from OMDb...\n",
      "Fetching data for movie ID tt3392142 from OMDb...\n"
     ]
    },
    {
     "name": "stderr",
     "output_type": "stream",
     "text": [
      "Fetching movie data:  88%|███████████████▉  | 3171/3591 [08:28<01:03,  6.63it/s]"
     ]
    },
    {
     "name": "stdout",
     "output_type": "stream",
     "text": [
      "Fetching data for movie ID tt3234754 from OMDb...\n",
      "Fetching data for movie ID tt0439480 from OMDb...\n"
     ]
    },
    {
     "name": "stderr",
     "output_type": "stream",
     "text": [
      "Fetching movie data:  88%|███████████████▉  | 3173/3591 [08:28<00:56,  7.41it/s]"
     ]
    },
    {
     "name": "stdout",
     "output_type": "stream",
     "text": [
      "Fetching data for movie ID tt1014772 from OMDb...\n",
      "Fetching data for movie ID tt0975684 from OMDb...\n"
     ]
    },
    {
     "name": "stderr",
     "output_type": "stream",
     "text": [
      "Fetching movie data:  88%|███████████████▉  | 3175/3591 [08:28<00:56,  7.37it/s]"
     ]
    },
    {
     "name": "stdout",
     "output_type": "stream",
     "text": [
      "Fetching data for movie ID tt1764673 from OMDb...\n",
      "Fetching data for movie ID tt0824692 from OMDb...\n"
     ]
    },
    {
     "name": "stderr",
     "output_type": "stream",
     "text": [
      "Fetching movie data:  88%|███████████████▉  | 3177/3591 [08:29<01:02,  6.62it/s]"
     ]
    },
    {
     "name": "stdout",
     "output_type": "stream",
     "text": [
      "Fetching data for movie ID tt0797020 from OMDb...\n",
      "Fetching data for movie ID tt1965239 from OMDb...\n"
     ]
    },
    {
     "name": "stderr",
     "output_type": "stream",
     "text": [
      "Fetching movie data:  89%|███████████████▉  | 3179/3591 [08:29<01:01,  6.69it/s]"
     ]
    },
    {
     "name": "stdout",
     "output_type": "stream",
     "text": [
      "Fetching data for movie ID tt1123927 from OMDb...\n",
      "Fetching data for movie ID tt0349054 from OMDb...\n"
     ]
    },
    {
     "name": "stderr",
     "output_type": "stream",
     "text": [
      "Fetching movie data:  89%|███████████████▉  | 3181/3591 [08:29<01:04,  6.38it/s]"
     ]
    },
    {
     "name": "stdout",
     "output_type": "stream",
     "text": [
      "Fetching data for movie ID tt1326819 from OMDb...\n",
      "Fetching data for movie ID tt2091987 from OMDb...\n"
     ]
    },
    {
     "name": "stderr",
     "output_type": "stream",
     "text": [
      "Fetching movie data:  89%|███████████████▉  | 3183/3591 [08:30<00:58,  6.99it/s]"
     ]
    },
    {
     "name": "stdout",
     "output_type": "stream",
     "text": [
      "Fetching data for movie ID tt2326270 from OMDb...\n",
      "Fetching data for movie ID tt1185371 from OMDb...\n"
     ]
    },
    {
     "name": "stderr",
     "output_type": "stream",
     "text": [
      "Fetching movie data:  89%|███████████████▉  | 3185/3591 [08:30<01:00,  6.67it/s]"
     ]
    },
    {
     "name": "stdout",
     "output_type": "stream",
     "text": [
      "Fetching data for movie ID tt1482899 from OMDb...\n",
      "Fetching data for movie ID tt1559333 from OMDb...\n"
     ]
    },
    {
     "name": "stderr",
     "output_type": "stream",
     "text": [
      "Fetching movie data:  89%|███████████████▉  | 3187/3591 [08:30<01:00,  6.72it/s]"
     ]
    },
    {
     "name": "stdout",
     "output_type": "stream",
     "text": [
      "Fetching data for movie ID tt0492913 from OMDb...\n",
      "Fetching data for movie ID tt0458415 from OMDb...\n"
     ]
    },
    {
     "name": "stderr",
     "output_type": "stream",
     "text": [
      "Fetching movie data:  89%|███████████████▉  | 3189/3591 [08:31<01:06,  6.04it/s]"
     ]
    },
    {
     "name": "stdout",
     "output_type": "stream",
     "text": [
      "Fetching data for movie ID tt0989037 from OMDb...\n",
      "Fetching data for movie ID tt3267674 from OMDb...\n"
     ]
    },
    {
     "name": "stderr",
     "output_type": "stream",
     "text": [
      "Fetching movie data:  89%|███████████████▉  | 3191/3591 [08:31<01:02,  6.41it/s]"
     ]
    },
    {
     "name": "stdout",
     "output_type": "stream",
     "text": [
      "Fetching data for movie ID tt1619598 from OMDb...\n",
      "Fetching data for movie ID tt2093225 from OMDb...\n"
     ]
    },
    {
     "name": "stderr",
     "output_type": "stream",
     "text": [
      "Fetching movie data:  89%|████████████████  | 3193/3591 [08:31<00:59,  6.67it/s]"
     ]
    },
    {
     "name": "stdout",
     "output_type": "stream",
     "text": [
      "Fetching data for movie ID tt2705026 from OMDb...\n",
      "Fetching data for movie ID tt1316034 from OMDb...\n"
     ]
    },
    {
     "name": "stderr",
     "output_type": "stream",
     "text": [
      "Fetching movie data:  89%|████████████████  | 3195/3591 [08:31<01:06,  5.93it/s]"
     ]
    },
    {
     "name": "stdout",
     "output_type": "stream",
     "text": [
      "Fetching data for movie ID tt6443042 from OMDb...\n",
      "Fetching data for movie ID tt2365871 from OMDb...\n"
     ]
    },
    {
     "name": "stderr",
     "output_type": "stream",
     "text": [
      "Fetching movie data:  89%|████████████████  | 3197/3591 [08:32<00:58,  6.73it/s]"
     ]
    },
    {
     "name": "stdout",
     "output_type": "stream",
     "text": [
      "Fetching data for movie ID tt1693809 from OMDb...\n",
      "Fetching data for movie ID tt0332701 from OMDb...\n"
     ]
    },
    {
     "name": "stderr",
     "output_type": "stream",
     "text": [
      "Fetching movie data:  89%|████████████████  | 3199/3591 [08:32<00:59,  6.64it/s]"
     ]
    },
    {
     "name": "stdout",
     "output_type": "stream",
     "text": [
      "Fetching data for movie ID tt2551580 from OMDb...\n",
      "Fetching data for movie ID tt2332847 from OMDb...\n"
     ]
    },
    {
     "name": "stderr",
     "output_type": "stream",
     "text": [
      "Fetching movie data:  89%|████████████████  | 3200/3591 [08:32<00:57,  6.79it/s]"
     ]
    },
    {
     "name": "stdout",
     "output_type": "stream",
     "text": [
      "Fetching data for movie ID tt0819369 from OMDb...\n"
     ]
    },
    {
     "name": "stderr",
     "output_type": "stream",
     "text": [
      "Fetching movie data:  89%|████████████████  | 3202/3591 [08:33<01:04,  6.03it/s]"
     ]
    },
    {
     "name": "stdout",
     "output_type": "stream",
     "text": [
      "Progress saved after 25800 movies.\n",
      "Fetching data for movie ID tt2004258 from OMDb...\n",
      "Fetching data for movie ID tt10478726 from OMDb...\n"
     ]
    },
    {
     "name": "stderr",
     "output_type": "stream",
     "text": [
      "Fetching movie data:  89%|████████████████  | 3204/3591 [08:33<01:00,  6.44it/s]"
     ]
    },
    {
     "name": "stdout",
     "output_type": "stream",
     "text": [
      "Fetching data for movie ID tt0321518 from OMDb...\n",
      "Fetching data for movie ID tt4525982 from OMDb...\n"
     ]
    },
    {
     "name": "stderr",
     "output_type": "stream",
     "text": [
      "Fetching movie data:  89%|████████████████  | 3206/3591 [08:33<01:00,  6.32it/s]"
     ]
    },
    {
     "name": "stdout",
     "output_type": "stream",
     "text": [
      "Fetching data for movie ID tt0383638 from OMDb...\n",
      "Fetching data for movie ID tt1843978 from OMDb...\n"
     ]
    },
    {
     "name": "stderr",
     "output_type": "stream",
     "text": [
      "Fetching movie data:  89%|████████████████  | 3208/3591 [08:33<00:55,  6.84it/s]"
     ]
    },
    {
     "name": "stdout",
     "output_type": "stream",
     "text": [
      "Fetching data for movie ID tt2088883 from OMDb...\n",
      "Fetching data for movie ID tt1796580 from OMDb...\n"
     ]
    },
    {
     "name": "stderr",
     "output_type": "stream",
     "text": [
      "Fetching movie data:  89%|████████████████  | 3210/3591 [08:34<01:02,  6.10it/s]"
     ]
    },
    {
     "name": "stdout",
     "output_type": "stream",
     "text": [
      "Fetching data for movie ID tt3680552 from OMDb...\n",
      "Fetching data for movie ID tt3203910 from OMDb...\n"
     ]
    },
    {
     "name": "stderr",
     "output_type": "stream",
     "text": [
      "Fetching movie data:  89%|████████████████  | 3212/3591 [08:34<00:58,  6.52it/s]"
     ]
    },
    {
     "name": "stdout",
     "output_type": "stream",
     "text": [
      "Fetching data for movie ID tt1023502 from OMDb...\n",
      "Fetching data for movie ID tt3670264 from OMDb...\n"
     ]
    },
    {
     "name": "stderr",
     "output_type": "stream",
     "text": [
      "Fetching movie data:  90%|████████████████  | 3214/3591 [08:34<00:55,  6.77it/s]"
     ]
    },
    {
     "name": "stdout",
     "output_type": "stream",
     "text": [
      "Fetching data for movie ID tt0376651 from OMDb...\n",
      "Fetching data for movie ID tt5444454 from OMDb...\n"
     ]
    },
    {
     "name": "stderr",
     "output_type": "stream",
     "text": [
      "Fetching movie data:  90%|████████████████  | 3216/3591 [08:35<00:51,  7.29it/s]"
     ]
    },
    {
     "name": "stdout",
     "output_type": "stream",
     "text": [
      "Fetching data for movie ID tt2125562 from OMDb...\n",
      "Fetching data for movie ID tt2808046 from OMDb...\n"
     ]
    },
    {
     "name": "stderr",
     "output_type": "stream",
     "text": [
      "Fetching movie data:  90%|████████████████▏ | 3218/3591 [08:35<00:57,  6.50it/s]"
     ]
    },
    {
     "name": "stdout",
     "output_type": "stream",
     "text": [
      "Fetching data for movie ID tt0385921 from OMDb...\n",
      "Fetching data for movie ID tt4318402 from OMDb...\n"
     ]
    },
    {
     "name": "stderr",
     "output_type": "stream",
     "text": [
      "Fetching movie data:  90%|████████████████▏ | 3220/3591 [08:35<00:58,  6.38it/s]"
     ]
    },
    {
     "name": "stdout",
     "output_type": "stream",
     "text": [
      "Fetching data for movie ID tt2075309 from OMDb...\n",
      "Fetching data for movie ID tt5865224 from OMDb...\n"
     ]
    },
    {
     "name": "stderr",
     "output_type": "stream",
     "text": [
      "Fetching movie data:  90%|████████████████▏ | 3222/3591 [08:36<01:01,  5.96it/s]"
     ]
    },
    {
     "name": "stdout",
     "output_type": "stream",
     "text": [
      "Fetching data for movie ID tt1382725 from OMDb...\n",
      "Fetching data for movie ID tt5061816 from OMDb...\n"
     ]
    },
    {
     "name": "stderr",
     "output_type": "stream",
     "text": [
      "Fetching movie data:  90%|████████████████▏ | 3224/3591 [08:36<00:58,  6.31it/s]"
     ]
    },
    {
     "name": "stdout",
     "output_type": "stream",
     "text": [
      "Fetching data for movie ID tt2294475 from OMDb...\n",
      "Fetching data for movie ID tt2783932 from OMDb...\n"
     ]
    },
    {
     "name": "stderr",
     "output_type": "stream",
     "text": [
      "Fetching movie data:  90%|████████████████▏ | 3226/3591 [08:36<00:58,  6.21it/s]"
     ]
    },
    {
     "name": "stdout",
     "output_type": "stream",
     "text": [
      "Fetching data for movie ID tt3061202 from OMDb...\n",
      "Fetching data for movie ID tt2281343 from OMDb...\n"
     ]
    },
    {
     "name": "stderr",
     "output_type": "stream",
     "text": [
      "Fetching movie data:  90%|████████████████▏ | 3228/3591 [08:37<00:56,  6.38it/s]"
     ]
    },
    {
     "name": "stdout",
     "output_type": "stream",
     "text": [
      "Fetching data for movie ID tt3515418 from OMDb...\n",
      "Fetching data for movie ID tt1583955 from OMDb...\n"
     ]
    },
    {
     "name": "stderr",
     "output_type": "stream",
     "text": [
      "Fetching movie data:  90%|████████████████▏ | 3230/3591 [08:37<00:53,  6.80it/s]"
     ]
    },
    {
     "name": "stdout",
     "output_type": "stream",
     "text": [
      "Fetching data for movie ID tt1421366 from OMDb...\n",
      "Fetching data for movie ID tt1002573 from OMDb...\n"
     ]
    },
    {
     "name": "stderr",
     "output_type": "stream",
     "text": [
      "Fetching movie data:  90%|████████████████▏ | 3232/3591 [08:37<00:54,  6.57it/s]"
     ]
    },
    {
     "name": "stdout",
     "output_type": "stream",
     "text": [
      "Fetching data for movie ID tt6834324 from OMDb...\n",
      "Fetching data for movie ID tt1780786 from OMDb...\n"
     ]
    },
    {
     "name": "stderr",
     "output_type": "stream",
     "text": [
      "Fetching movie data:  90%|████████████████▏ | 3234/3591 [08:37<00:54,  6.53it/s]"
     ]
    },
    {
     "name": "stdout",
     "output_type": "stream",
     "text": [
      "Fetching data for movie ID tt1826692 from OMDb...\n",
      "Fetching data for movie ID tt2221611 from OMDb...\n"
     ]
    },
    {
     "name": "stderr",
     "output_type": "stream",
     "text": [
      "Fetching movie data:  90%|████████████████▏ | 3236/3591 [08:38<00:49,  7.16it/s]"
     ]
    },
    {
     "name": "stdout",
     "output_type": "stream",
     "text": [
      "Fetching data for movie ID tt2640840 from OMDb...\n",
      "Fetching data for movie ID tt0381565 from OMDb...\n"
     ]
    },
    {
     "name": "stderr",
     "output_type": "stream",
     "text": [
      "Fetching movie data:  90%|████████████████▏ | 3238/3591 [08:38<00:56,  6.26it/s]"
     ]
    },
    {
     "name": "stdout",
     "output_type": "stream",
     "text": [
      "Fetching data for movie ID tt0344102 from OMDb...\n",
      "Fetching data for movie ID tt2535460 from OMDb...\n"
     ]
    },
    {
     "name": "stderr",
     "output_type": "stream",
     "text": [
      "Fetching movie data:  90%|████████████████▏ | 3240/3591 [08:38<00:57,  6.15it/s]"
     ]
    },
    {
     "name": "stdout",
     "output_type": "stream",
     "text": [
      "Fetching data for movie ID tt0374546 from OMDb...\n",
      "Fetching data for movie ID tt1560962 from OMDb...\n"
     ]
    },
    {
     "name": "stderr",
     "output_type": "stream",
     "text": [
      "Fetching movie data:  90%|████████████████▎ | 3242/3591 [08:39<00:56,  6.17it/s]"
     ]
    },
    {
     "name": "stdout",
     "output_type": "stream",
     "text": [
      "Fetching data for movie ID tt0821971 from OMDb...\n",
      "Fetching data for movie ID tt2387578 from OMDb...\n"
     ]
    },
    {
     "name": "stderr",
     "output_type": "stream",
     "text": [
      "Fetching movie data:  90%|████████████████▎ | 3244/3591 [08:39<00:56,  6.19it/s]"
     ]
    },
    {
     "name": "stdout",
     "output_type": "stream",
     "text": [
      "Fetching data for movie ID tt2573348 from OMDb...\n",
      "Fetching data for movie ID tt0978645 from OMDb...\n"
     ]
    },
    {
     "name": "stderr",
     "output_type": "stream",
     "text": [
      "Fetching movie data:  90%|████████████████▎ | 3246/3591 [08:39<00:52,  6.55it/s]"
     ]
    },
    {
     "name": "stdout",
     "output_type": "stream",
     "text": [
      "Fetching data for movie ID tt0800044 from OMDb...\n",
      "Fetching data for movie ID tt1093904 from OMDb...\n"
     ]
    },
    {
     "name": "stderr",
     "output_type": "stream",
     "text": [
      "Fetching movie data:  90%|████████████████▎ | 3248/3591 [08:40<00:49,  6.93it/s]"
     ]
    },
    {
     "name": "stdout",
     "output_type": "stream",
     "text": [
      "Fetching data for movie ID tt1500130 from OMDb...\n",
      "Fetching data for movie ID tt1249387 from OMDb...\n"
     ]
    },
    {
     "name": "stderr",
     "output_type": "stream",
     "text": [
      "Fetching movie data:  91%|████████████████▎ | 3250/3591 [08:40<00:51,  6.64it/s]"
     ]
    },
    {
     "name": "stdout",
     "output_type": "stream",
     "text": [
      "Fetching data for movie ID tt3579672 from OMDb...\n",
      "Fetching data for movie ID tt1927078 from OMDb...\n"
     ]
    },
    {
     "name": "stderr",
     "output_type": "stream",
     "text": [
      "Fetching movie data:  91%|████████████████▎ | 3252/3591 [08:40<00:51,  6.57it/s]"
     ]
    },
    {
     "name": "stdout",
     "output_type": "stream",
     "text": [
      "Fetching data for movie ID tt3039082 from OMDb...\n",
      "Fetching data for movie ID tt0203019 from OMDb...\n"
     ]
    },
    {
     "name": "stderr",
     "output_type": "stream",
     "text": [
      "Fetching movie data:  91%|████████████████▎ | 3254/3591 [08:41<00:50,  6.61it/s]"
     ]
    },
    {
     "name": "stdout",
     "output_type": "stream",
     "text": [
      "Fetching data for movie ID tt2084953 from OMDb...\n",
      "Fetching data for movie ID tt1320269 from OMDb...\n"
     ]
    },
    {
     "name": "stderr",
     "output_type": "stream",
     "text": [
      "Fetching movie data:  91%|████████████████▎ | 3256/3591 [08:41<00:50,  6.68it/s]"
     ]
    },
    {
     "name": "stdout",
     "output_type": "stream",
     "text": [
      "Fetching data for movie ID tt0285650 from OMDb...\n",
      "Fetching data for movie ID tt1774566 from OMDb...\n"
     ]
    },
    {
     "name": "stderr",
     "output_type": "stream",
     "text": [
      "Fetching movie data:  91%|████████████████▎ | 3258/3591 [08:41<00:49,  6.71it/s]"
     ]
    },
    {
     "name": "stdout",
     "output_type": "stream",
     "text": [
      "Fetching data for movie ID tt2786278 from OMDb...\n",
      "Fetching data for movie ID tt0269934 from OMDb...\n"
     ]
    },
    {
     "name": "stderr",
     "output_type": "stream",
     "text": [
      "Fetching movie data:  91%|████████████████▎ | 3260/3591 [08:41<00:47,  6.94it/s]"
     ]
    },
    {
     "name": "stdout",
     "output_type": "stream",
     "text": [
      "Fetching data for movie ID tt2058651 from OMDb...\n",
      "Fetching data for movie ID tt1939709 from OMDb...\n"
     ]
    },
    {
     "name": "stderr",
     "output_type": "stream",
     "text": [
      "Fetching movie data:  91%|████████████████▎ | 3262/3591 [08:42<00:54,  6.03it/s]"
     ]
    },
    {
     "name": "stdout",
     "output_type": "stream",
     "text": [
      "Fetching data for movie ID tt1837678 from OMDb...\n",
      "Fetching data for movie ID tt10173088 from OMDb...\n"
     ]
    },
    {
     "name": "stderr",
     "output_type": "stream",
     "text": [
      "Fetching movie data:  91%|████████████████▎ | 3264/3591 [08:42<00:54,  5.95it/s]"
     ]
    },
    {
     "name": "stdout",
     "output_type": "stream",
     "text": [
      "Fetching data for movie ID tt1279083 from OMDb...\n",
      "Fetching data for movie ID tt0455740 from OMDb...\n"
     ]
    },
    {
     "name": "stderr",
     "output_type": "stream",
     "text": [
      "Fetching movie data:  91%|████████████████▎ | 3266/3591 [08:42<00:51,  6.36it/s]"
     ]
    },
    {
     "name": "stdout",
     "output_type": "stream",
     "text": [
      "Fetching data for movie ID tt2403001 from OMDb...\n",
      "Fetching data for movie ID tt0215719 from OMDb...\n"
     ]
    },
    {
     "name": "stderr",
     "output_type": "stream",
     "text": [
      "Fetching movie data:  91%|████████████████▍ | 3268/3591 [08:43<00:51,  6.29it/s]"
     ]
    },
    {
     "name": "stdout",
     "output_type": "stream",
     "text": [
      "Fetching data for movie ID tt1208725 from OMDb...\n",
      "Fetching data for movie ID tt1575561 from OMDb...\n"
     ]
    },
    {
     "name": "stderr",
     "output_type": "stream",
     "text": [
      "Fetching movie data:  91%|████████████████▍ | 3270/3591 [08:43<00:49,  6.45it/s]"
     ]
    },
    {
     "name": "stdout",
     "output_type": "stream",
     "text": [
      "Fetching data for movie ID tt0343388 from OMDb...\n",
      "Fetching data for movie ID tt1575669 from OMDb...\n"
     ]
    },
    {
     "name": "stderr",
     "output_type": "stream",
     "text": [
      "Fetching movie data:  91%|████████████████▍ | 3272/3591 [08:43<00:45,  6.98it/s]"
     ]
    },
    {
     "name": "stdout",
     "output_type": "stream",
     "text": [
      "Fetching data for movie ID tt1517579 from OMDb...\n",
      "Fetching data for movie ID tt3778642 from OMDb...\n"
     ]
    },
    {
     "name": "stderr",
     "output_type": "stream",
     "text": [
      "Fetching movie data:  91%|████████████████▍ | 3273/3591 [08:43<00:45,  7.05it/s]"
     ]
    },
    {
     "name": "stdout",
     "output_type": "stream",
     "text": [
      "Fetching data for movie ID tt0827498 from OMDb...\n"
     ]
    },
    {
     "name": "stderr",
     "output_type": "stream",
     "text": [
      "Fetching movie data:  91%|████████████████▍ | 3275/3591 [08:44<00:49,  6.34it/s]"
     ]
    },
    {
     "name": "stdout",
     "output_type": "stream",
     "text": [
      "Fetching data for movie ID tt2139963 from OMDb...\n",
      "Fetching data for movie ID tt0237306 from OMDb...\n"
     ]
    },
    {
     "name": "stderr",
     "output_type": "stream",
     "text": [
      "Fetching movie data:  91%|████████████████▍ | 3276/3591 [08:44<00:50,  6.21it/s]"
     ]
    },
    {
     "name": "stdout",
     "output_type": "stream",
     "text": [
      "Fetching data for movie ID tt1326274 from OMDb...\n"
     ]
    },
    {
     "name": "stderr",
     "output_type": "stream",
     "text": [
      "Fetching movie data:  91%|████████████████▍ | 3278/3591 [08:44<00:54,  5.72it/s]"
     ]
    },
    {
     "name": "stdout",
     "output_type": "stream",
     "text": [
      "Fetching data for movie ID tt0269509 from OMDb...\n",
      "Fetching data for movie ID tt1137467 from OMDb...\n"
     ]
    },
    {
     "name": "stderr",
     "output_type": "stream",
     "text": [
      "Fetching movie data:  91%|████████████████▍ | 3279/3591 [08:45<00:52,  5.98it/s]"
     ]
    },
    {
     "name": "stdout",
     "output_type": "stream",
     "text": [
      "Fetching data for movie ID tt1127869 from OMDb...\n"
     ]
    },
    {
     "name": "stderr",
     "output_type": "stream",
     "text": [
      "Fetching movie data:  91%|████████████████▍ | 3281/3591 [08:45<00:52,  5.96it/s]"
     ]
    },
    {
     "name": "stdout",
     "output_type": "stream",
     "text": [
      "Fetching data for movie ID tt1119199 from OMDb...\n",
      "Fetching data for movie ID tt1352651 from OMDb...\n"
     ]
    },
    {
     "name": "stderr",
     "output_type": "stream",
     "text": [
      "Fetching movie data:  91%|████████████████▍ | 3283/3591 [08:45<00:50,  6.14it/s]"
     ]
    },
    {
     "name": "stdout",
     "output_type": "stream",
     "text": [
      "Fetching data for movie ID tt3984388 from OMDb...\n",
      "Fetching data for movie ID tt1196606 from OMDb...\n"
     ]
    },
    {
     "name": "stderr",
     "output_type": "stream",
     "text": [
      "Fetching movie data:  91%|████████████████▍ | 3285/3591 [08:46<00:49,  6.21it/s]"
     ]
    },
    {
     "name": "stdout",
     "output_type": "stream",
     "text": [
      "Fetching data for movie ID tt1339136 from OMDb...\n",
      "Fetching data for movie ID tt3178822 from OMDb...\n"
     ]
    },
    {
     "name": "stderr",
     "output_type": "stream",
     "text": [
      "Fetching movie data:  92%|████████████████▍ | 3287/3591 [08:46<00:47,  6.46it/s]"
     ]
    },
    {
     "name": "stdout",
     "output_type": "stream",
     "text": [
      "Fetching data for movie ID tt0298550 from OMDb...\n",
      "Fetching data for movie ID tt2065924 from OMDb...\n"
     ]
    },
    {
     "name": "stderr",
     "output_type": "stream",
     "text": [
      "Fetching movie data:  92%|████████████████▍ | 3289/3591 [08:46<00:47,  6.36it/s]"
     ]
    },
    {
     "name": "stdout",
     "output_type": "stream",
     "text": [
      "Fetching data for movie ID tt2498426 from OMDb...\n",
      "Fetching data for movie ID tt0362209 from OMDb...\n"
     ]
    },
    {
     "name": "stderr",
     "output_type": "stream",
     "text": [
      "Fetching movie data:  92%|████████████████▍ | 3291/3591 [08:46<00:48,  6.14it/s]"
     ]
    },
    {
     "name": "stdout",
     "output_type": "stream",
     "text": [
      "Fetching data for movie ID tt1117981 from OMDb...\n",
      "Fetching data for movie ID tt2468774 from OMDb...\n"
     ]
    },
    {
     "name": "stderr",
     "output_type": "stream",
     "text": [
      "Fetching movie data:  92%|████████████████▌ | 3293/3591 [08:47<00:48,  6.09it/s]"
     ]
    },
    {
     "name": "stdout",
     "output_type": "stream",
     "text": [
      "Fetching data for movie ID tt2761534 from OMDb...\n",
      "Fetching data for movie ID tt1628770 from OMDb...\n"
     ]
    },
    {
     "name": "stderr",
     "output_type": "stream",
     "text": [
      "Fetching movie data:  92%|████████████████▌ | 3294/3591 [08:47<00:52,  5.65it/s]"
     ]
    },
    {
     "name": "stdout",
     "output_type": "stream",
     "text": [
      "Fetching data for movie ID tt2111260 from OMDb...\n"
     ]
    },
    {
     "name": "stderr",
     "output_type": "stream",
     "text": [
      "Fetching movie data:  92%|████████████████▌ | 3296/3591 [08:47<00:54,  5.40it/s]"
     ]
    },
    {
     "name": "stdout",
     "output_type": "stream",
     "text": [
      "Fetching data for movie ID tt3265472 from OMDb...\n",
      "Fetching data for movie ID tt0332511 from OMDb...\n"
     ]
    },
    {
     "name": "stderr",
     "output_type": "stream",
     "text": [
      "Fetching movie data:  92%|████████████████▌ | 3298/3591 [08:48<00:51,  5.67it/s]"
     ]
    },
    {
     "name": "stdout",
     "output_type": "stream",
     "text": [
      "Fetching data for movie ID tt0889210 from OMDb...\n",
      "Fetching data for movie ID tt1288562 from OMDb...\n"
     ]
    },
    {
     "name": "stderr",
     "output_type": "stream",
     "text": [
      "Fetching movie data:  92%|████████████████▌ | 3300/3591 [08:48<00:44,  6.48it/s]"
     ]
    },
    {
     "name": "stdout",
     "output_type": "stream",
     "text": [
      "Fetching data for movie ID tt2265381 from OMDb...\n",
      "Fetching data for movie ID tt0396087 from OMDb...\n"
     ]
    },
    {
     "name": "stderr",
     "output_type": "stream",
     "text": [
      "Fetching movie data:  92%|████████████████▌ | 3302/3591 [08:48<00:53,  5.43it/s]"
     ]
    },
    {
     "name": "stdout",
     "output_type": "stream",
     "text": [
      "Progress saved after 25900 movies.\n",
      "Fetching data for movie ID tt1785389 from OMDb...\n",
      "Fetching data for movie ID tt0422386 from OMDb...\n"
     ]
    },
    {
     "name": "stderr",
     "output_type": "stream",
     "text": [
      "Fetching movie data:  92%|████████████████▌ | 3304/3591 [08:49<00:48,  5.97it/s]"
     ]
    },
    {
     "name": "stdout",
     "output_type": "stream",
     "text": [
      "Fetching data for movie ID tt1720047 from OMDb...\n",
      "Fetching data for movie ID tt0810991 from OMDb...\n"
     ]
    },
    {
     "name": "stderr",
     "output_type": "stream",
     "text": [
      "Fetching movie data:  92%|████████████████▌ | 3306/3591 [08:49<00:42,  6.77it/s]"
     ]
    },
    {
     "name": "stdout",
     "output_type": "stream",
     "text": [
      "Fetching data for movie ID tt2569066 from OMDb...\n",
      "Fetching data for movie ID tt1123395 from OMDb...\n"
     ]
    },
    {
     "name": "stderr",
     "output_type": "stream",
     "text": [
      "Fetching movie data:  92%|████████████████▌ | 3308/3591 [08:49<00:44,  6.29it/s]"
     ]
    },
    {
     "name": "stdout",
     "output_type": "stream",
     "text": [
      "Fetching data for movie ID tt1713499 from OMDb...\n",
      "Fetching data for movie ID tt1786756 from OMDb...\n"
     ]
    },
    {
     "name": "stderr",
     "output_type": "stream",
     "text": [
      "Fetching movie data:  92%|████████████████▌ | 3310/3591 [08:50<00:40,  6.86it/s]"
     ]
    },
    {
     "name": "stdout",
     "output_type": "stream",
     "text": [
      "Fetching data for movie ID tt1982690 from OMDb...\n",
      "Fetching data for movie ID tt1608217 from OMDb...\n"
     ]
    },
    {
     "name": "stderr",
     "output_type": "stream",
     "text": [
      "Fetching movie data:  92%|████████████████▌ | 3312/3591 [08:50<00:40,  6.88it/s]"
     ]
    },
    {
     "name": "stdout",
     "output_type": "stream",
     "text": [
      "Fetching data for movie ID tt0765429 from OMDb...\n",
      "Fetching data for movie ID tt2777454 from OMDb...\n"
     ]
    },
    {
     "name": "stderr",
     "output_type": "stream",
     "text": [
      "Fetching movie data:  92%|████████████████▌ | 3314/3591 [08:50<00:41,  6.72it/s]"
     ]
    },
    {
     "name": "stdout",
     "output_type": "stream",
     "text": [
      "Fetching data for movie ID tt1168654 from OMDb...\n",
      "Fetching data for movie ID tt3368378 from OMDb...\n"
     ]
    },
    {
     "name": "stderr",
     "output_type": "stream",
     "text": [
      "Fetching movie data:  92%|████████████████▌ | 3316/3591 [08:51<00:41,  6.60it/s]"
     ]
    },
    {
     "name": "stdout",
     "output_type": "stream",
     "text": [
      "Fetching data for movie ID tt1487861 from OMDb...\n",
      "Fetching data for movie ID tt0884728 from OMDb...\n"
     ]
    },
    {
     "name": "stderr",
     "output_type": "stream",
     "text": [
      "Fetching movie data:  92%|████████████████▋ | 3318/3591 [08:51<00:39,  6.91it/s]"
     ]
    },
    {
     "name": "stdout",
     "output_type": "stream",
     "text": [
      "Fetching data for movie ID tt1287847 from OMDb...\n",
      "Fetching data for movie ID tt1991180 from OMDb...\n"
     ]
    },
    {
     "name": "stderr",
     "output_type": "stream",
     "text": [
      "Fetching movie data:  92%|████████████████▋ | 3320/3591 [08:51<00:38,  6.99it/s]"
     ]
    },
    {
     "name": "stdout",
     "output_type": "stream",
     "text": [
      "Fetching data for movie ID tt0303148 from OMDb...\n",
      "Fetching data for movie ID tt0423325 from OMDb...\n"
     ]
    },
    {
     "name": "stderr",
     "output_type": "stream",
     "text": [
      "Fetching movie data:  93%|████████████████▋ | 3322/3591 [08:51<00:38,  6.95it/s]"
     ]
    },
    {
     "name": "stdout",
     "output_type": "stream",
     "text": [
      "Fetching data for movie ID tt3313734 from OMDb...\n",
      "Fetching data for movie ID tt0784164 from OMDb...\n"
     ]
    },
    {
     "name": "stderr",
     "output_type": "stream",
     "text": [
      "Fetching movie data:  93%|████████████████▋ | 3324/3591 [08:52<00:37,  7.09it/s]"
     ]
    },
    {
     "name": "stdout",
     "output_type": "stream",
     "text": [
      "Fetching data for movie ID tt0372283 from OMDb...\n",
      "Fetching data for movie ID tt0270065 from OMDb...\n"
     ]
    },
    {
     "name": "stderr",
     "output_type": "stream",
     "text": [
      "Fetching movie data:  93%|████████████████▋ | 3326/3591 [08:52<00:41,  6.35it/s]"
     ]
    },
    {
     "name": "stdout",
     "output_type": "stream",
     "text": [
      "Fetching data for movie ID tt0360611 from OMDb...\n",
      "Fetching data for movie ID tt1380096 from OMDb...\n"
     ]
    },
    {
     "name": "stderr",
     "output_type": "stream",
     "text": [
      "Fetching movie data:  93%|████████████████▋ | 3328/3591 [08:52<00:38,  6.75it/s]"
     ]
    },
    {
     "name": "stdout",
     "output_type": "stream",
     "text": [
      "Fetching data for movie ID tt2357788 from OMDb...\n",
      "Fetching data for movie ID tt2286908 from OMDb...\n"
     ]
    },
    {
     "name": "stderr",
     "output_type": "stream",
     "text": [
      "Fetching movie data:  93%|████████████████▋ | 3330/3591 [08:53<00:38,  6.69it/s]"
     ]
    },
    {
     "name": "stdout",
     "output_type": "stream",
     "text": [
      "Fetching data for movie ID tt0313088 from OMDb...\n",
      "Fetching data for movie ID tt0865878 from OMDb...\n"
     ]
    },
    {
     "name": "stderr",
     "output_type": "stream",
     "text": [
      "Fetching movie data:  93%|████████████████▋ | 3332/3591 [08:53<00:40,  6.47it/s]"
     ]
    },
    {
     "name": "stdout",
     "output_type": "stream",
     "text": [
      "Fetching data for movie ID tt0438415 from OMDb...\n",
      "Fetching data for movie ID tt1132182 from OMDb...\n"
     ]
    },
    {
     "name": "stderr",
     "output_type": "stream",
     "text": [
      "Fetching movie data:  93%|████████████████▋ | 3334/3591 [08:53<00:37,  6.82it/s]"
     ]
    },
    {
     "name": "stdout",
     "output_type": "stream",
     "text": [
      "Fetching data for movie ID tt0824309 from OMDb...\n",
      "Fetching data for movie ID tt1827512 from OMDb...\n"
     ]
    },
    {
     "name": "stderr",
     "output_type": "stream",
     "text": [
      "Fetching movie data:  93%|████████████████▋ | 3336/3591 [08:53<00:35,  7.18it/s]"
     ]
    },
    {
     "name": "stdout",
     "output_type": "stream",
     "text": [
      "Fetching data for movie ID tt1814768 from OMDb...\n",
      "Fetching data for movie ID tt0442289 from OMDb...\n"
     ]
    },
    {
     "name": "stderr",
     "output_type": "stream",
     "text": [
      "Fetching movie data:  93%|████████████████▋ | 3338/3591 [08:54<00:35,  7.15it/s]"
     ]
    },
    {
     "name": "stdout",
     "output_type": "stream",
     "text": [
      "Fetching data for movie ID tt2176070 from OMDb...\n",
      "Fetching data for movie ID tt1770715 from OMDb...\n"
     ]
    },
    {
     "name": "stderr",
     "output_type": "stream",
     "text": [
      "Fetching movie data:  93%|████████████████▋ | 3340/3591 [08:54<00:39,  6.34it/s]"
     ]
    },
    {
     "name": "stdout",
     "output_type": "stream",
     "text": [
      "Fetching data for movie ID tt3335556 from OMDb...\n",
      "Fetching data for movie ID tt1489214 from OMDb...\n"
     ]
    },
    {
     "name": "stderr",
     "output_type": "stream",
     "text": [
      "Fetching movie data:  93%|████████████████▊ | 3342/3591 [08:55<00:43,  5.74it/s]"
     ]
    },
    {
     "name": "stdout",
     "output_type": "stream",
     "text": [
      "Fetching data for movie ID tt0352570 from OMDb...\n",
      "Fetching data for movie ID tt1037863 from OMDb...\n"
     ]
    },
    {
     "name": "stderr",
     "output_type": "stream",
     "text": [
      "Fetching movie data:  93%|████████████████▊ | 3344/3591 [08:55<00:36,  6.84it/s]"
     ]
    },
    {
     "name": "stdout",
     "output_type": "stream",
     "text": [
      "Fetching data for movie ID tt2583530 from OMDb...\n",
      "Fetching data for movie ID tt0432383 from OMDb...\n"
     ]
    },
    {
     "name": "stderr",
     "output_type": "stream",
     "text": [
      "Fetching movie data:  93%|████████████████▊ | 3346/3591 [08:55<00:38,  6.34it/s]"
     ]
    },
    {
     "name": "stdout",
     "output_type": "stream",
     "text": [
      "Fetching data for movie ID tt0924260 from OMDb...\n",
      "Fetching data for movie ID tt1918844 from OMDb...\n"
     ]
    },
    {
     "name": "stderr",
     "output_type": "stream",
     "text": [
      "Fetching movie data:  93%|████████████████▊ | 3348/3591 [08:55<00:35,  6.79it/s]"
     ]
    },
    {
     "name": "stdout",
     "output_type": "stream",
     "text": [
      "Fetching data for movie ID tt0813548 from OMDb...\n",
      "Fetching data for movie ID tt1534000 from OMDb...\n"
     ]
    },
    {
     "name": "stderr",
     "output_type": "stream",
     "text": [
      "Fetching movie data:  93%|████████████████▊ | 3350/3591 [08:56<00:35,  6.85it/s]"
     ]
    },
    {
     "name": "stdout",
     "output_type": "stream",
     "text": [
      "Fetching data for movie ID tt1557720 from OMDb...\n",
      "Fetching data for movie ID tt0808145 from OMDb...\n"
     ]
    },
    {
     "name": "stderr",
     "output_type": "stream",
     "text": [
      "Fetching movie data:  93%|████████████████▊ | 3352/3591 [08:56<00:31,  7.49it/s]"
     ]
    },
    {
     "name": "stdout",
     "output_type": "stream",
     "text": [
      "Fetching data for movie ID tt2024519 from OMDb...\n",
      "Fetching data for movie ID tt1704233 from OMDb...\n"
     ]
    },
    {
     "name": "stderr",
     "output_type": "stream",
     "text": [
      "Fetching movie data:  93%|████████████████▊ | 3354/3591 [08:56<00:32,  7.38it/s]"
     ]
    },
    {
     "name": "stdout",
     "output_type": "stream",
     "text": [
      "Fetching data for movie ID tt1225730 from OMDb...\n",
      "Fetching data for movie ID tt1645756 from OMDb...\n"
     ]
    },
    {
     "name": "stderr",
     "output_type": "stream",
     "text": [
      "Fetching movie data:  93%|████████████████▊ | 3356/3591 [08:56<00:35,  6.70it/s]"
     ]
    },
    {
     "name": "stdout",
     "output_type": "stream",
     "text": [
      "Fetching data for movie ID tt2006855 from OMDb...\n",
      "Fetching data for movie ID tt2795132 from OMDb...\n"
     ]
    },
    {
     "name": "stderr",
     "output_type": "stream",
     "text": [
      "Fetching movie data:  94%|████████████████▊ | 3358/3591 [08:57<00:33,  6.88it/s]"
     ]
    },
    {
     "name": "stdout",
     "output_type": "stream",
     "text": [
      "Fetching data for movie ID tt1985100 from OMDb...\n",
      "Fetching data for movie ID tt11147534 from OMDb...\n"
     ]
    },
    {
     "name": "stderr",
     "output_type": "stream",
     "text": [
      "Fetching movie data:  94%|████████████████▊ | 3360/3591 [08:57<00:33,  6.83it/s]"
     ]
    },
    {
     "name": "stdout",
     "output_type": "stream",
     "text": [
      "Fetching data for movie ID tt2035547 from OMDb...\n",
      "Fetching data for movie ID tt1271981 from OMDb...\n"
     ]
    },
    {
     "name": "stderr",
     "output_type": "stream",
     "text": [
      "Fetching movie data:  94%|████████████████▊ | 3362/3591 [08:57<00:32,  7.00it/s]"
     ]
    },
    {
     "name": "stdout",
     "output_type": "stream",
     "text": [
      "Fetching data for movie ID tt0840407 from OMDb...\n",
      "Fetching data for movie ID tt0929760 from OMDb...\n"
     ]
    },
    {
     "name": "stderr",
     "output_type": "stream",
     "text": [
      "Fetching movie data:  94%|████████████████▊ | 3364/3591 [08:58<00:34,  6.66it/s]"
     ]
    },
    {
     "name": "stdout",
     "output_type": "stream",
     "text": [
      "Fetching data for movie ID tt0443658 from OMDb...\n",
      "Fetching data for movie ID tt0384205 from OMDb...\n"
     ]
    },
    {
     "name": "stderr",
     "output_type": "stream",
     "text": [
      "Fetching movie data:  94%|████████████████▊ | 3366/3591 [08:58<00:36,  6.10it/s]"
     ]
    },
    {
     "name": "stdout",
     "output_type": "stream",
     "text": [
      "Fetching data for movie ID tt0454848 from OMDb...\n",
      "Fetching data for movie ID tt0951361 from OMDb...\n"
     ]
    },
    {
     "name": "stderr",
     "output_type": "stream",
     "text": [
      "Fetching movie data:  94%|████████████████▉ | 3368/3591 [08:58<00:34,  6.53it/s]"
     ]
    },
    {
     "name": "stdout",
     "output_type": "stream",
     "text": [
      "Fetching data for movie ID tt8880866 from OMDb...\n",
      "Fetching data for movie ID tt2112189 from OMDb...\n"
     ]
    },
    {
     "name": "stderr",
     "output_type": "stream",
     "text": [
      "Fetching movie data:  94%|████████████████▉ | 3370/3591 [08:59<00:32,  6.80it/s]"
     ]
    },
    {
     "name": "stdout",
     "output_type": "stream",
     "text": [
      "Fetching data for movie ID tt2008513 from OMDb...\n",
      "Fetching data for movie ID tt0332639 from OMDb...\n"
     ]
    },
    {
     "name": "stderr",
     "output_type": "stream",
     "text": [
      "Fetching movie data:  94%|████████████████▉ | 3372/3591 [08:59<00:31,  7.04it/s]"
     ]
    },
    {
     "name": "stdout",
     "output_type": "stream",
     "text": [
      "Fetching data for movie ID tt1098313 from OMDb...\n",
      "Fetching data for movie ID tt1555149 from OMDb...\n"
     ]
    },
    {
     "name": "stderr",
     "output_type": "stream",
     "text": [
      "Fetching movie data:  94%|████████████████▉ | 3374/3591 [08:59<00:32,  6.64it/s]"
     ]
    },
    {
     "name": "stdout",
     "output_type": "stream",
     "text": [
      "Fetching data for movie ID tt1351108 from OMDb...\n",
      "Fetching data for movie ID tt1185600 from OMDb...\n"
     ]
    },
    {
     "name": "stderr",
     "output_type": "stream",
     "text": [
      "Fetching movie data:  94%|████████████████▉ | 3376/3591 [08:59<00:29,  7.39it/s]"
     ]
    },
    {
     "name": "stdout",
     "output_type": "stream",
     "text": [
      "Fetching data for movie ID tt0416251 from OMDb...\n",
      "Fetching data for movie ID tt0321310 from OMDb...\n"
     ]
    },
    {
     "name": "stderr",
     "output_type": "stream",
     "text": [
      "Fetching movie data:  94%|████████████████▉ | 3378/3591 [09:00<00:34,  6.23it/s]"
     ]
    },
    {
     "name": "stdout",
     "output_type": "stream",
     "text": [
      "Fetching data for movie ID tt0992915 from OMDb...\n",
      "Fetching data for movie ID tt5917386 from OMDb...\n"
     ]
    },
    {
     "name": "stderr",
     "output_type": "stream",
     "text": [
      "Fetching movie data:  94%|████████████████▉ | 3380/3591 [09:00<00:30,  6.96it/s]"
     ]
    },
    {
     "name": "stdout",
     "output_type": "stream",
     "text": [
      "Fetching data for movie ID tt0375679 from OMDb...\n",
      "Fetching data for movie ID tt2034092 from OMDb...\n"
     ]
    },
    {
     "name": "stderr",
     "output_type": "stream",
     "text": [
      "Fetching movie data:  94%|████████████████▉ | 3382/3591 [09:00<00:32,  6.49it/s]"
     ]
    },
    {
     "name": "stdout",
     "output_type": "stream",
     "text": [
      "Fetching data for movie ID tt1075636 from OMDb...\n",
      "Fetching data for movie ID tt1756552 from OMDb...\n"
     ]
    },
    {
     "name": "stderr",
     "output_type": "stream",
     "text": [
      "Fetching movie data:  94%|████████████████▉ | 3384/3591 [09:01<00:32,  6.47it/s]"
     ]
    },
    {
     "name": "stdout",
     "output_type": "stream",
     "text": [
      "Fetching data for movie ID tt4963040 from OMDb...\n",
      "Fetching data for movie ID tt1821478 from OMDb...\n"
     ]
    },
    {
     "name": "stderr",
     "output_type": "stream",
     "text": [
      "Fetching movie data:  94%|████████████████▉ | 3386/3591 [09:01<00:31,  6.49it/s]"
     ]
    },
    {
     "name": "stdout",
     "output_type": "stream",
     "text": [
      "Fetching data for movie ID tt3382388 from OMDb...\n",
      "Fetching data for movie ID tt0346154 from OMDb...\n"
     ]
    },
    {
     "name": "stderr",
     "output_type": "stream",
     "text": [
      "Fetching movie data:  94%|████████████████▉ | 3388/3591 [09:01<00:29,  6.93it/s]"
     ]
    },
    {
     "name": "stdout",
     "output_type": "stream",
     "text": [
      "Fetching data for movie ID tt1957889 from OMDb...\n",
      "Fetching data for movie ID tt1666364 from OMDb...\n"
     ]
    },
    {
     "name": "stderr",
     "output_type": "stream",
     "text": [
      "Fetching movie data:  94%|████████████████▉ | 3390/3591 [09:02<00:28,  6.95it/s]"
     ]
    },
    {
     "name": "stdout",
     "output_type": "stream",
     "text": [
      "Fetching data for movie ID tt2145658 from OMDb...\n",
      "Fetching data for movie ID tt3428398 from OMDb...\n"
     ]
    },
    {
     "name": "stderr",
     "output_type": "stream",
     "text": [
      "Fetching movie data:  94%|█████████████████ | 3392/3591 [09:02<00:27,  7.20it/s]"
     ]
    },
    {
     "name": "stdout",
     "output_type": "stream",
     "text": [
      "Fetching data for movie ID tt2924472 from OMDb...\n",
      "Fetching data for movie ID tt1950373 from OMDb...\n"
     ]
    },
    {
     "name": "stderr",
     "output_type": "stream",
     "text": [
      "Fetching movie data:  95%|█████████████████ | 3394/3591 [09:02<00:30,  6.41it/s]"
     ]
    },
    {
     "name": "stdout",
     "output_type": "stream",
     "text": [
      "Fetching data for movie ID tt0267896 from OMDb...\n",
      "Fetching data for movie ID tt2380311 from OMDb...\n"
     ]
    },
    {
     "name": "stderr",
     "output_type": "stream",
     "text": [
      "Fetching movie data:  95%|█████████████████ | 3396/3591 [09:02<00:27,  7.09it/s]"
     ]
    },
    {
     "name": "stdout",
     "output_type": "stream",
     "text": [
      "Fetching data for movie ID tt3214392 from OMDb...\n",
      "Fetching data for movie ID tt3044782 from OMDb...\n"
     ]
    },
    {
     "name": "stderr",
     "output_type": "stream",
     "text": [
      "Fetching movie data:  95%|█████████████████ | 3398/3591 [09:03<00:27,  6.99it/s]"
     ]
    },
    {
     "name": "stdout",
     "output_type": "stream",
     "text": [
      "Fetching data for movie ID tt0839851 from OMDb...\n",
      "Fetching data for movie ID tt1253564 from OMDb...\n"
     ]
    },
    {
     "name": "stderr",
     "output_type": "stream",
     "text": [
      "Fetching movie data:  95%|█████████████████ | 3400/3591 [09:03<00:27,  7.05it/s]"
     ]
    },
    {
     "name": "stdout",
     "output_type": "stream",
     "text": [
      "Fetching data for movie ID tt2354069 from OMDb...\n",
      "Fetching data for movie ID tt1600863 from OMDb...\n"
     ]
    },
    {
     "name": "stderr",
     "output_type": "stream",
     "text": [
      "Fetching movie data:  95%|█████████████████ | 3402/3591 [09:03<00:31,  5.93it/s]"
     ]
    },
    {
     "name": "stdout",
     "output_type": "stream",
     "text": [
      "Progress saved after 26000 movies.\n",
      "Fetching data for movie ID tt2064801 from OMDb...\n",
      "Fetching data for movie ID tt1192865 from OMDb...\n"
     ]
    },
    {
     "name": "stderr",
     "output_type": "stream",
     "text": [
      "Fetching movie data:  95%|█████████████████ | 3404/3591 [09:04<00:27,  6.68it/s]"
     ]
    },
    {
     "name": "stdout",
     "output_type": "stream",
     "text": [
      "Fetching data for movie ID tt0409737 from OMDb...\n",
      "Fetching data for movie ID tt1549829 from OMDb...\n"
     ]
    },
    {
     "name": "stderr",
     "output_type": "stream",
     "text": [
      "Fetching movie data:  95%|█████████████████ | 3406/3591 [09:04<00:30,  6.09it/s]"
     ]
    },
    {
     "name": "stdout",
     "output_type": "stream",
     "text": [
      "Fetching data for movie ID tt0383028 from OMDb...\n",
      "Fetching data for movie ID tt1844002 from OMDb...\n"
     ]
    },
    {
     "name": "stderr",
     "output_type": "stream",
     "text": [
      "Fetching movie data:  95%|█████████████████ | 3408/3591 [09:04<00:30,  5.99it/s]"
     ]
    },
    {
     "name": "stdout",
     "output_type": "stream",
     "text": [
      "Fetching data for movie ID tt1424705 from OMDb...\n",
      "Fetching data for movie ID tt0828451 from OMDb...\n"
     ]
    },
    {
     "name": "stderr",
     "output_type": "stream",
     "text": [
      "Fetching movie data:  95%|█████████████████ | 3410/3591 [09:05<00:25,  7.13it/s]"
     ]
    },
    {
     "name": "stdout",
     "output_type": "stream",
     "text": [
      "Fetching data for movie ID tt0937221 from OMDb...\n",
      "Fetching data for movie ID tt1723128 from OMDb...\n"
     ]
    },
    {
     "name": "stderr",
     "output_type": "stream",
     "text": [
      "Fetching movie data:  95%|█████████████████ | 3412/3591 [09:05<00:24,  7.16it/s]"
     ]
    },
    {
     "name": "stdout",
     "output_type": "stream",
     "text": [
      "Fetching data for movie ID tt2387312 from OMDb...\n",
      "Fetching data for movie ID tt0390808 from OMDb...\n"
     ]
    },
    {
     "name": "stderr",
     "output_type": "stream",
     "text": [
      "Fetching movie data:  95%|█████████████████ | 3414/3591 [09:05<00:27,  6.48it/s]"
     ]
    },
    {
     "name": "stdout",
     "output_type": "stream",
     "text": [
      "Fetching data for movie ID tt1443493 from OMDb...\n",
      "Fetching data for movie ID tt1729650 from OMDb...\n"
     ]
    },
    {
     "name": "stderr",
     "output_type": "stream",
     "text": [
      "Fetching movie data:  95%|█████████████████ | 3416/3591 [09:06<00:29,  5.90it/s]"
     ]
    },
    {
     "name": "stdout",
     "output_type": "stream",
     "text": [
      "Fetching data for movie ID tt0294805 from OMDb...\n",
      "Fetching data for movie ID tt1614989 from OMDb...\n"
     ]
    },
    {
     "name": "stderr",
     "output_type": "stream",
     "text": [
      "Fetching movie data:  95%|█████████████████▏| 3418/3591 [09:06<00:27,  6.32it/s]"
     ]
    },
    {
     "name": "stdout",
     "output_type": "stream",
     "text": [
      "Fetching data for movie ID tt1362297 from OMDb...\n",
      "Fetching data for movie ID tt0279121 from OMDb...\n"
     ]
    },
    {
     "name": "stderr",
     "output_type": "stream",
     "text": [
      "Fetching movie data:  95%|█████████████████▏| 3420/3591 [09:06<00:27,  6.30it/s]"
     ]
    },
    {
     "name": "stdout",
     "output_type": "stream",
     "text": [
      "Fetching data for movie ID tt2259404 from OMDb...\n",
      "Fetching data for movie ID tt1266703 from OMDb...\n"
     ]
    },
    {
     "name": "stderr",
     "output_type": "stream",
     "text": [
      "Fetching movie data:  95%|█████████████████▏| 3422/3591 [09:07<00:25,  6.51it/s]"
     ]
    },
    {
     "name": "stdout",
     "output_type": "stream",
     "text": [
      "Fetching data for movie ID tt0835457 from OMDb...\n",
      "Fetching data for movie ID tt0827502 from OMDb...\n"
     ]
    },
    {
     "name": "stderr",
     "output_type": "stream",
     "text": [
      "Fetching movie data:  95%|█████████████████▏| 3424/3591 [09:07<00:24,  6.75it/s]"
     ]
    },
    {
     "name": "stdout",
     "output_type": "stream",
     "text": [
      "Fetching data for movie ID tt1850984 from OMDb...\n",
      "Fetching data for movie ID tt0936501 from OMDb...\n"
     ]
    },
    {
     "name": "stderr",
     "output_type": "stream",
     "text": [
      "Fetching movie data:  95%|█████████████████▏| 3426/3591 [09:07<00:23,  6.93it/s]"
     ]
    },
    {
     "name": "stdout",
     "output_type": "stream",
     "text": [
      "Fetching data for movie ID tt1950261 from OMDb...\n",
      "Fetching data for movie ID tt1652390 from OMDb...\n"
     ]
    },
    {
     "name": "stderr",
     "output_type": "stream",
     "text": [
      "Fetching movie data:  95%|█████████████████▏| 3428/3591 [09:07<00:23,  6.97it/s]"
     ]
    },
    {
     "name": "stdout",
     "output_type": "stream",
     "text": [
      "Fetching data for movie ID tt3727208 from OMDb...\n",
      "Fetching data for movie ID tt1527742 from OMDb...\n"
     ]
    },
    {
     "name": "stderr",
     "output_type": "stream",
     "text": [
      "Fetching movie data:  96%|█████████████████▏| 3430/3591 [09:08<00:24,  6.59it/s]"
     ]
    },
    {
     "name": "stdout",
     "output_type": "stream",
     "text": [
      "Fetching data for movie ID tt5764142 from OMDb...\n",
      "Fetching data for movie ID tt0369523 from OMDb...\n"
     ]
    },
    {
     "name": "stderr",
     "output_type": "stream",
     "text": [
      "Fetching movie data:  96%|█████████████████▏| 3432/3591 [09:08<00:22,  7.18it/s]"
     ]
    },
    {
     "name": "stdout",
     "output_type": "stream",
     "text": [
      "Fetching data for movie ID tt1824959 from OMDb...\n",
      "Fetching data for movie ID tt3052080 from OMDb...\n"
     ]
    },
    {
     "name": "stderr",
     "output_type": "stream",
     "text": [
      "Fetching movie data:  96%|█████████████████▏| 3434/3591 [09:08<00:23,  6.59it/s]"
     ]
    },
    {
     "name": "stdout",
     "output_type": "stream",
     "text": [
      "Fetching data for movie ID tt1831672 from OMDb...\n",
      "Fetching data for movie ID tt4650490 from OMDb...\n"
     ]
    },
    {
     "name": "stderr",
     "output_type": "stream",
     "text": [
      "Fetching movie data:  96%|█████████████████▏| 3436/3591 [09:09<00:22,  6.99it/s]"
     ]
    },
    {
     "name": "stdout",
     "output_type": "stream",
     "text": [
      "Fetching data for movie ID tt0384590 from OMDb...\n",
      "Fetching data for movie ID tt2231110 from OMDb...\n"
     ]
    },
    {
     "name": "stderr",
     "output_type": "stream",
     "text": [
      "Fetching movie data:  96%|█████████████████▏| 3438/3591 [09:09<00:21,  7.00it/s]"
     ]
    },
    {
     "name": "stdout",
     "output_type": "stream",
     "text": [
      "Fetching data for movie ID tt1537385 from OMDb...\n",
      "Fetching data for movie ID tt3791740 from OMDb...\n"
     ]
    },
    {
     "name": "stderr",
     "output_type": "stream",
     "text": [
      "Fetching movie data:  96%|█████████████████▏| 3440/3591 [09:09<00:22,  6.64it/s]"
     ]
    },
    {
     "name": "stdout",
     "output_type": "stream",
     "text": [
      "Fetching data for movie ID tt0122459 from OMDb...\n",
      "Fetching data for movie ID tt5327104 from OMDb...\n"
     ]
    },
    {
     "name": "stderr",
     "output_type": "stream",
     "text": [
      "Fetching movie data:  96%|█████████████████▎| 3442/3591 [09:09<00:23,  6.36it/s]"
     ]
    },
    {
     "name": "stdout",
     "output_type": "stream",
     "text": [
      "Fetching data for movie ID tt1543222 from OMDb...\n",
      "Fetching data for movie ID tt1642268 from OMDb...\n"
     ]
    },
    {
     "name": "stderr",
     "output_type": "stream",
     "text": [
      "Fetching movie data:  96%|█████████████████▎| 3443/3591 [09:10<00:22,  6.72it/s]"
     ]
    },
    {
     "name": "stdout",
     "output_type": "stream",
     "text": [
      "Fetching data for movie ID tt1151389 from OMDb...\n"
     ]
    },
    {
     "name": "stderr",
     "output_type": "stream",
     "text": [
      "Fetching movie data:  96%|█████████████████▎| 3445/3591 [09:10<00:22,  6.40it/s]"
     ]
    },
    {
     "name": "stdout",
     "output_type": "stream",
     "text": [
      "Fetching data for movie ID tt0759604 from OMDb...\n",
      "Fetching data for movie ID tt0274716 from OMDb...\n"
     ]
    },
    {
     "name": "stderr",
     "output_type": "stream",
     "text": [
      "Fetching movie data:  96%|█████████████████▎| 3447/3591 [09:10<00:23,  6.06it/s]"
     ]
    },
    {
     "name": "stdout",
     "output_type": "stream",
     "text": [
      "Fetching data for movie ID tt0401488 from OMDb...\n",
      "Fetching data for movie ID tt4696686 from OMDb...\n"
     ]
    },
    {
     "name": "stderr",
     "output_type": "stream",
     "text": [
      "Fetching movie data:  96%|█████████████████▎| 3449/3591 [09:11<00:24,  5.85it/s]"
     ]
    },
    {
     "name": "stdout",
     "output_type": "stream",
     "text": [
      "Fetching data for movie ID tt0419294 from OMDb...\n",
      "Fetching data for movie ID tt0381860 from OMDb...\n"
     ]
    },
    {
     "name": "stderr",
     "output_type": "stream",
     "text": [
      "Fetching movie data:  96%|█████████████████▎| 3451/3591 [09:11<00:22,  6.23it/s]"
     ]
    },
    {
     "name": "stdout",
     "output_type": "stream",
     "text": [
      "Fetching data for movie ID tt0312729 from OMDb...\n",
      "Fetching data for movie ID tt0408777 from OMDb...\n"
     ]
    },
    {
     "name": "stderr",
     "output_type": "stream",
     "text": [
      "Fetching movie data:  96%|█████████████████▎| 3453/3591 [09:11<00:23,  5.83it/s]"
     ]
    },
    {
     "name": "stdout",
     "output_type": "stream",
     "text": [
      "Fetching data for movie ID tt2087919 from OMDb...\n",
      "Fetching data for movie ID tt3467314 from OMDb...\n"
     ]
    },
    {
     "name": "stderr",
     "output_type": "stream",
     "text": [
      "Fetching movie data:  96%|█████████████████▎| 3455/3591 [09:12<00:21,  6.31it/s]"
     ]
    },
    {
     "name": "stdout",
     "output_type": "stream",
     "text": [
      "Fetching data for movie ID tt0405343 from OMDb...\n",
      "Fetching data for movie ID tt1045626 from OMDb...\n"
     ]
    },
    {
     "name": "stderr",
     "output_type": "stream",
     "text": [
      "Fetching movie data:  96%|█████████████████▎| 3457/3591 [09:12<00:19,  6.83it/s]"
     ]
    },
    {
     "name": "stdout",
     "output_type": "stream",
     "text": [
      "Fetching data for movie ID tt0304808 from OMDb...\n",
      "Fetching data for movie ID tt1323594 from OMDb...\n"
     ]
    },
    {
     "name": "stderr",
     "output_type": "stream",
     "text": [
      "Fetching movie data:  96%|█████████████████▎| 3459/3591 [09:12<00:17,  7.57it/s]"
     ]
    },
    {
     "name": "stdout",
     "output_type": "stream",
     "text": [
      "Fetching data for movie ID tt3318756 from OMDb...\n",
      "Fetching data for movie ID tt0362751 from OMDb...\n"
     ]
    },
    {
     "name": "stderr",
     "output_type": "stream",
     "text": [
      "Fetching movie data:  96%|█████████████████▎| 3461/3591 [09:12<00:18,  6.96it/s]"
     ]
    },
    {
     "name": "stdout",
     "output_type": "stream",
     "text": [
      "Fetching data for movie ID tt1285241 from OMDb...\n",
      "Fetching data for movie ID tt2099541 from OMDb...\n"
     ]
    },
    {
     "name": "stderr",
     "output_type": "stream",
     "text": [
      "Fetching movie data:  96%|█████████████████▎| 3463/3591 [09:13<00:17,  7.38it/s]"
     ]
    },
    {
     "name": "stdout",
     "output_type": "stream",
     "text": [
      "Fetching data for movie ID tt2930988 from OMDb...\n",
      "Fetching data for movie ID tt0287014 from OMDb...\n"
     ]
    },
    {
     "name": "stderr",
     "output_type": "stream",
     "text": [
      "Fetching movie data:  96%|█████████████████▎| 3465/3591 [09:13<00:17,  7.15it/s]"
     ]
    },
    {
     "name": "stdout",
     "output_type": "stream",
     "text": [
      "Fetching data for movie ID tt0214275 from OMDb...\n",
      "Fetching data for movie ID tt1764618 from OMDb...\n"
     ]
    },
    {
     "name": "stderr",
     "output_type": "stream",
     "text": [
      "Fetching movie data:  97%|█████████████████▍| 3467/3591 [09:13<00:16,  7.36it/s]"
     ]
    },
    {
     "name": "stdout",
     "output_type": "stream",
     "text": [
      "Fetching data for movie ID tt3149286 from OMDb...\n",
      "Fetching data for movie ID tt0445975 from OMDb...\n"
     ]
    },
    {
     "name": "stderr",
     "output_type": "stream",
     "text": [
      "Fetching movie data:  97%|█████████████████▍| 3469/3591 [09:14<00:18,  6.69it/s]"
     ]
    },
    {
     "name": "stdout",
     "output_type": "stream",
     "text": [
      "Fetching data for movie ID tt0388854 from OMDb...\n",
      "Fetching data for movie ID tt0344910 from OMDb...\n"
     ]
    },
    {
     "name": "stderr",
     "output_type": "stream",
     "text": [
      "Fetching movie data:  97%|█████████████████▍| 3471/3591 [09:14<00:19,  6.02it/s]"
     ]
    },
    {
     "name": "stdout",
     "output_type": "stream",
     "text": [
      "Fetching data for movie ID tt0398663 from OMDb...\n",
      "Fetching data for movie ID tt2823840 from OMDb...\n"
     ]
    },
    {
     "name": "stderr",
     "output_type": "stream",
     "text": [
      "Fetching movie data:  97%|█████████████████▍| 3473/3591 [09:14<00:17,  6.67it/s]"
     ]
    },
    {
     "name": "stdout",
     "output_type": "stream",
     "text": [
      "Fetching data for movie ID tt2345683 from OMDb...\n",
      "Fetching data for movie ID tt0863121 from OMDb...\n"
     ]
    },
    {
     "name": "stderr",
     "output_type": "stream",
     "text": [
      "Fetching movie data:  97%|█████████████████▍| 3474/3591 [09:14<00:19,  5.93it/s]"
     ]
    },
    {
     "name": "stdout",
     "output_type": "stream",
     "text": [
      "Fetching data for movie ID tt0434409 from OMDb...\n"
     ]
    },
    {
     "name": "stderr",
     "output_type": "stream",
     "text": [
      "Fetching movie data:  97%|█████████████████▍| 3476/3591 [09:15<00:20,  5.48it/s]"
     ]
    },
    {
     "name": "stdout",
     "output_type": "stream",
     "text": [
      "Fetching data for movie ID tt0383020 from OMDb...\n",
      "Fetching data for movie ID tt1601184 from OMDb...\n"
     ]
    },
    {
     "name": "stderr",
     "output_type": "stream",
     "text": [
      "Fetching movie data:  97%|█████████████████▍| 3478/3591 [09:15<00:20,  5.46it/s]"
     ]
    },
    {
     "name": "stdout",
     "output_type": "stream",
     "text": [
      "Fetching data for movie ID tt1295064 from OMDb...\n",
      "Fetching data for movie ID tt1241227 from OMDb...\n"
     ]
    },
    {
     "name": "stderr",
     "output_type": "stream",
     "text": [
      "Fetching movie data:  97%|█████████████████▍| 3480/3591 [09:16<00:18,  5.86it/s]"
     ]
    },
    {
     "name": "stdout",
     "output_type": "stream",
     "text": [
      "Fetching data for movie ID tt2447034 from OMDb...\n",
      "Fetching data for movie ID tt3344712 from OMDb...\n"
     ]
    },
    {
     "name": "stderr",
     "output_type": "stream",
     "text": [
      "Fetching movie data:  97%|█████████████████▍| 3482/3591 [09:16<00:18,  5.77it/s]"
     ]
    },
    {
     "name": "stdout",
     "output_type": "stream",
     "text": [
      "Fetching data for movie ID tt0235327 from OMDb...\n",
      "Fetching data for movie ID tt0305716 from OMDb...\n"
     ]
    },
    {
     "name": "stderr",
     "output_type": "stream",
     "text": [
      "Fetching movie data:  97%|█████████████████▍| 3484/3591 [09:16<00:17,  6.26it/s]"
     ]
    },
    {
     "name": "stdout",
     "output_type": "stream",
     "text": [
      "Fetching data for movie ID tt3585224 from OMDb...\n",
      "Fetching data for movie ID tt1279327 from OMDb...\n"
     ]
    },
    {
     "name": "stderr",
     "output_type": "stream",
     "text": [
      "Fetching movie data:  97%|█████████████████▍| 3486/3591 [09:17<00:16,  6.19it/s]"
     ]
    },
    {
     "name": "stdout",
     "output_type": "stream",
     "text": [
      "Fetching data for movie ID tt3531862 from OMDb...\n",
      "Fetching data for movie ID tt4116398 from OMDb...\n"
     ]
    },
    {
     "name": "stderr",
     "output_type": "stream",
     "text": [
      "Fetching movie data:  97%|█████████████████▍| 3488/3591 [09:17<00:16,  6.24it/s]"
     ]
    },
    {
     "name": "stdout",
     "output_type": "stream",
     "text": [
      "Fetching data for movie ID tt0783713 from OMDb...\n",
      "Fetching data for movie ID tt0382857 from OMDb...\n"
     ]
    },
    {
     "name": "stderr",
     "output_type": "stream",
     "text": [
      "Fetching movie data:  97%|█████████████████▍| 3490/3591 [09:17<00:15,  6.68it/s]"
     ]
    },
    {
     "name": "stdout",
     "output_type": "stream",
     "text": [
      "Fetching data for movie ID tt1465494 from OMDb...\n",
      "Fetching data for movie ID tt1348997 from OMDb...\n"
     ]
    },
    {
     "name": "stderr",
     "output_type": "stream",
     "text": [
      "Fetching movie data:  97%|█████████████████▍| 3491/3591 [09:17<00:14,  6.97it/s]"
     ]
    },
    {
     "name": "stdout",
     "output_type": "stream",
     "text": [
      "Fetching data for movie ID tt1686852 from OMDb...\n"
     ]
    },
    {
     "name": "stderr",
     "output_type": "stream",
     "text": [
      "Fetching movie data:  97%|█████████████████▌| 3493/3591 [09:18<00:16,  5.94it/s]"
     ]
    },
    {
     "name": "stdout",
     "output_type": "stream",
     "text": [
      "Fetching data for movie ID tt11608100 from OMDb...\n",
      "Fetching data for movie ID tt13914002 from OMDb...\n"
     ]
    },
    {
     "name": "stderr",
     "output_type": "stream",
     "text": [
      "Fetching movie data:  97%|█████████████████▌| 3495/3591 [09:18<00:15,  6.20it/s]"
     ]
    },
    {
     "name": "stdout",
     "output_type": "stream",
     "text": [
      "Fetching data for movie ID tt2293003 from OMDb...\n",
      "Fetching data for movie ID tt1170358 from OMDb...\n"
     ]
    },
    {
     "name": "stderr",
     "output_type": "stream",
     "text": [
      "Fetching movie data:  97%|█████████████████▌| 3497/3591 [09:18<00:16,  5.75it/s]"
     ]
    },
    {
     "name": "stdout",
     "output_type": "stream",
     "text": [
      "Fetching data for movie ID tt1326726 from OMDb...\n",
      "Fetching data for movie ID tt1413538 from OMDb...\n"
     ]
    },
    {
     "name": "stderr",
     "output_type": "stream",
     "text": [
      "Fetching movie data:  97%|█████████████████▌| 3499/3591 [09:19<00:15,  6.11it/s]"
     ]
    },
    {
     "name": "stdout",
     "output_type": "stream",
     "text": [
      "Fetching data for movie ID tt0415482 from OMDb...\n",
      "Fetching data for movie ID tt0144449 from OMDb...\n"
     ]
    },
    {
     "name": "stderr",
     "output_type": "stream",
     "text": [
      "Fetching movie data:  97%|█████████████████▌| 3500/3591 [09:19<00:15,  5.75it/s]"
     ]
    },
    {
     "name": "stdout",
     "output_type": "stream",
     "text": [
      "Fetching data for movie ID tt2175607 from OMDb...\n"
     ]
    },
    {
     "name": "stderr",
     "output_type": "stream",
     "text": [
      "Fetching movie data:  98%|█████████████████▌| 3502/3591 [09:19<00:14,  5.93it/s]"
     ]
    },
    {
     "name": "stdout",
     "output_type": "stream",
     "text": [
      "Progress saved after 26100 movies.\n",
      "Fetching data for movie ID tt0886692 from OMDb...\n",
      "Fetching data for movie ID tt0996964 from OMDb...\n"
     ]
    },
    {
     "name": "stderr",
     "output_type": "stream",
     "text": [
      "Fetching movie data:  98%|█████████████████▌| 3504/3591 [09:20<00:13,  6.47it/s]"
     ]
    },
    {
     "name": "stdout",
     "output_type": "stream",
     "text": [
      "Fetching data for movie ID tt3187770 from OMDb...\n",
      "Fetching data for movie ID tt6718460 from OMDb...\n"
     ]
    },
    {
     "name": "stderr",
     "output_type": "stream",
     "text": [
      "Fetching movie data:  98%|█████████████████▌| 3506/3591 [09:20<00:12,  6.97it/s]"
     ]
    },
    {
     "name": "stdout",
     "output_type": "stream",
     "text": [
      "Fetching data for movie ID tt0373469 from OMDb...\n",
      "Fetching data for movie ID tt8188888 from OMDb...\n"
     ]
    },
    {
     "name": "stderr",
     "output_type": "stream",
     "text": [
      "Fetching movie data:  98%|█████████████████▌| 3508/3591 [09:20<00:11,  7.14it/s]"
     ]
    },
    {
     "name": "stdout",
     "output_type": "stream",
     "text": [
      "Fetching data for movie ID tt1276394 from OMDb...\n",
      "Fetching data for movie ID tt2309208 from OMDb...\n"
     ]
    },
    {
     "name": "stderr",
     "output_type": "stream",
     "text": [
      "Fetching movie data:  98%|█████████████████▌| 3510/3591 [09:20<00:10,  7.43it/s]"
     ]
    },
    {
     "name": "stdout",
     "output_type": "stream",
     "text": [
      "Fetching data for movie ID tt1849834 from OMDb...\n",
      "Fetching data for movie ID tt4953630 from OMDb...\n"
     ]
    },
    {
     "name": "stderr",
     "output_type": "stream",
     "text": [
      "Fetching movie data:  98%|█████████████████▌| 3512/3591 [09:21<00:11,  6.90it/s]"
     ]
    },
    {
     "name": "stdout",
     "output_type": "stream",
     "text": [
      "Fetching data for movie ID tt0762127 from OMDb...\n",
      "Fetching data for movie ID tt0896692 from OMDb...\n"
     ]
    },
    {
     "name": "stderr",
     "output_type": "stream",
     "text": [
      "Fetching movie data:  98%|█████████████████▌| 3514/3591 [09:21<00:11,  6.62it/s]"
     ]
    },
    {
     "name": "stdout",
     "output_type": "stream",
     "text": [
      "Fetching data for movie ID tt13982174 from OMDb...\n",
      "Fetching data for movie ID tt14106898 from OMDb...\n"
     ]
    },
    {
     "name": "stderr",
     "output_type": "stream",
     "text": [
      "Fetching movie data:  98%|█████████████████▌| 3516/3591 [09:21<00:11,  6.48it/s]"
     ]
    },
    {
     "name": "stdout",
     "output_type": "stream",
     "text": [
      "Fetching data for movie ID tt1657461 from OMDb...\n",
      "Fetching data for movie ID tt1790644 from OMDb...\n"
     ]
    },
    {
     "name": "stderr",
     "output_type": "stream",
     "text": [
      "Fetching movie data:  98%|█████████████████▋| 3518/3591 [09:21<00:10,  6.93it/s]"
     ]
    },
    {
     "name": "stdout",
     "output_type": "stream",
     "text": [
      "Fetching data for movie ID tt1789708 from OMDb...\n",
      "Fetching data for movie ID tt1270490 from OMDb...\n"
     ]
    },
    {
     "name": "stderr",
     "output_type": "stream",
     "text": [
      "Fetching movie data:  98%|█████████████████▋| 3520/3591 [09:22<00:10,  6.76it/s]"
     ]
    },
    {
     "name": "stdout",
     "output_type": "stream",
     "text": [
      "Fetching data for movie ID tt0478261 from OMDb...\n",
      "Fetching data for movie ID tt0810008 from OMDb...\n"
     ]
    },
    {
     "name": "stderr",
     "output_type": "stream",
     "text": [
      "Fetching movie data:  98%|█████████████████▋| 3522/3591 [09:22<00:11,  6.24it/s]"
     ]
    },
    {
     "name": "stdout",
     "output_type": "stream",
     "text": [
      "Fetching data for movie ID tt1242864 from OMDb...\n",
      "Fetching data for movie ID tt2499834 from OMDb...\n"
     ]
    },
    {
     "name": "stderr",
     "output_type": "stream",
     "text": [
      "Fetching movie data:  98%|█████████████████▋| 3524/3591 [09:22<00:09,  6.73it/s]"
     ]
    },
    {
     "name": "stdout",
     "output_type": "stream",
     "text": [
      "Fetching data for movie ID tt1989425 from OMDb...\n",
      "Fetching data for movie ID tt1133944 from OMDb...\n"
     ]
    },
    {
     "name": "stderr",
     "output_type": "stream",
     "text": [
      "Fetching movie data:  98%|█████████████████▋| 3526/3591 [09:23<00:10,  6.21it/s]"
     ]
    },
    {
     "name": "stdout",
     "output_type": "stream",
     "text": [
      "Fetching data for movie ID tt0379033 from OMDb...\n",
      "Fetching data for movie ID tt3919130 from OMDb...\n"
     ]
    },
    {
     "name": "stderr",
     "output_type": "stream",
     "text": [
      "Fetching movie data:  98%|█████████████████▋| 3528/3591 [09:23<00:09,  6.31it/s]"
     ]
    },
    {
     "name": "stdout",
     "output_type": "stream",
     "text": [
      "Fetching data for movie ID tt3384742 from OMDb...\n",
      "Fetching data for movie ID tt1399538 from OMDb...\n"
     ]
    },
    {
     "name": "stderr",
     "output_type": "stream",
     "text": [
      "Fetching movie data:  98%|█████████████████▋| 3530/3591 [09:23<00:10,  5.80it/s]"
     ]
    },
    {
     "name": "stdout",
     "output_type": "stream",
     "text": [
      "Fetching data for movie ID tt1415251 from OMDb...\n",
      "Fetching data for movie ID tt1198126 from OMDb...\n"
     ]
    },
    {
     "name": "stderr",
     "output_type": "stream",
     "text": [
      "Fetching movie data:  98%|█████████████████▋| 3532/3591 [09:24<00:10,  5.76it/s]"
     ]
    },
    {
     "name": "stdout",
     "output_type": "stream",
     "text": [
      "Fetching data for movie ID tt1202562 from OMDb...\n",
      "Fetching data for movie ID tt2393324 from OMDb...\n"
     ]
    },
    {
     "name": "stderr",
     "output_type": "stream",
     "text": [
      "Fetching movie data:  98%|█████████████████▋| 3533/3591 [09:24<00:09,  6.39it/s]"
     ]
    },
    {
     "name": "stdout",
     "output_type": "stream",
     "text": [
      "Fetching data for movie ID tt0872224 from OMDb...\n"
     ]
    },
    {
     "name": "stderr",
     "output_type": "stream",
     "text": [
      "Fetching movie data:  98%|█████████████████▋| 3535/3591 [09:24<00:09,  5.82it/s]"
     ]
    },
    {
     "name": "stdout",
     "output_type": "stream",
     "text": [
      "Fetching data for movie ID tt0763333 from OMDb...\n",
      "Fetching data for movie ID tt2707252 from OMDb...\n"
     ]
    },
    {
     "name": "stderr",
     "output_type": "stream",
     "text": [
      "Fetching movie data:  98%|█████████████████▋| 3537/3591 [09:25<00:08,  6.26it/s]"
     ]
    },
    {
     "name": "stdout",
     "output_type": "stream",
     "text": [
      "Fetching data for movie ID tt2770022 from OMDb...\n",
      "Fetching data for movie ID tt1545098 from OMDb...\n"
     ]
    },
    {
     "name": "stderr",
     "output_type": "stream",
     "text": [
      "Fetching movie data:  99%|█████████████████▋| 3539/3591 [09:25<00:08,  6.08it/s]"
     ]
    },
    {
     "name": "stdout",
     "output_type": "stream",
     "text": [
      "Fetching data for movie ID tt0969345 from OMDb...\n",
      "Fetching data for movie ID tt0286498 from OMDb...\n"
     ]
    },
    {
     "name": "stderr",
     "output_type": "stream",
     "text": [
      "Fetching movie data:  99%|█████████████████▋| 3541/3591 [09:25<00:07,  6.44it/s]"
     ]
    },
    {
     "name": "stdout",
     "output_type": "stream",
     "text": [
      "Fetching data for movie ID tt1668191 from OMDb...\n",
      "Fetching data for movie ID tt2446130 from OMDb...\n"
     ]
    },
    {
     "name": "stderr",
     "output_type": "stream",
     "text": [
      "Fetching movie data:  99%|█████████████████▊| 3543/3591 [09:26<00:07,  6.64it/s]"
     ]
    },
    {
     "name": "stdout",
     "output_type": "stream",
     "text": [
      "Fetching data for movie ID tt1838456 from OMDb...\n",
      "Fetching data for movie ID tt1330989 from OMDb...\n"
     ]
    },
    {
     "name": "stderr",
     "output_type": "stream",
     "text": [
      "Fetching movie data:  99%|█████████████████▊| 3545/3591 [09:26<00:06,  6.81it/s]"
     ]
    },
    {
     "name": "stdout",
     "output_type": "stream",
     "text": [
      "Fetching data for movie ID tt3688022 from OMDb...\n",
      "Fetching data for movie ID tt1534474 from OMDb...\n"
     ]
    },
    {
     "name": "stderr",
     "output_type": "stream",
     "text": [
      "Fetching movie data:  99%|█████████████████▊| 3547/3591 [09:26<00:06,  7.29it/s]"
     ]
    },
    {
     "name": "stdout",
     "output_type": "stream",
     "text": [
      "Fetching data for movie ID tt3408668 from OMDb...\n",
      "Fetching data for movie ID tt11865296 from OMDb...\n"
     ]
    },
    {
     "name": "stderr",
     "output_type": "stream",
     "text": [
      "Fetching movie data:  99%|█████████████████▊| 3549/3591 [09:26<00:05,  7.32it/s]"
     ]
    },
    {
     "name": "stdout",
     "output_type": "stream",
     "text": [
      "Fetching data for movie ID tt0368017 from OMDb...\n",
      "Fetching data for movie ID tt0379556 from OMDb...\n"
     ]
    },
    {
     "name": "stderr",
     "output_type": "stream",
     "text": [
      "Fetching movie data:  99%|█████████████████▊| 3551/3591 [09:27<00:05,  7.07it/s]"
     ]
    },
    {
     "name": "stdout",
     "output_type": "stream",
     "text": [
      "Fetching data for movie ID tt2229976 from OMDb...\n",
      "Fetching data for movie ID tt5612402 from OMDb...\n"
     ]
    },
    {
     "name": "stderr",
     "output_type": "stream",
     "text": [
      "Fetching movie data:  99%|█████████████████▊| 3553/3591 [09:27<00:05,  6.66it/s]"
     ]
    },
    {
     "name": "stdout",
     "output_type": "stream",
     "text": [
      "Fetching data for movie ID tt2935962 from OMDb...\n",
      "Fetching data for movie ID tt0948440 from OMDb...\n"
     ]
    },
    {
     "name": "stderr",
     "output_type": "stream",
     "text": [
      "Fetching movie data:  99%|█████████████████▊| 3555/3591 [09:27<00:05,  6.91it/s]"
     ]
    },
    {
     "name": "stdout",
     "output_type": "stream",
     "text": [
      "Fetching data for movie ID tt1869345 from OMDb...\n",
      "Fetching data for movie ID tt14254484 from OMDb...\n"
     ]
    },
    {
     "name": "stderr",
     "output_type": "stream",
     "text": [
      "Fetching movie data:  99%|█████████████████▊| 3557/3591 [09:28<00:04,  7.19it/s]"
     ]
    },
    {
     "name": "stdout",
     "output_type": "stream",
     "text": [
      "Fetching data for movie ID tt0473492 from OMDb...\n",
      "Fetching data for movie ID tt0809349 from OMDb...\n"
     ]
    },
    {
     "name": "stderr",
     "output_type": "stream",
     "text": [
      "Fetching movie data:  99%|█████████████████▊| 3559/3591 [09:28<00:05,  6.28it/s]"
     ]
    },
    {
     "name": "stdout",
     "output_type": "stream",
     "text": [
      "Fetching data for movie ID tt0455459 from OMDb...\n",
      "Fetching data for movie ID tt1550481 from OMDb...\n"
     ]
    },
    {
     "name": "stderr",
     "output_type": "stream",
     "text": [
      "Fetching movie data:  99%|█████████████████▊| 3561/3591 [09:28<00:04,  6.86it/s]"
     ]
    },
    {
     "name": "stdout",
     "output_type": "stream",
     "text": [
      "Fetching data for movie ID tt1347347 from OMDb...\n",
      "Fetching data for movie ID tt0829482 from OMDb...\n"
     ]
    },
    {
     "name": "stderr",
     "output_type": "stream",
     "text": [
      "Fetching movie data:  99%|█████████████████▊| 3563/3591 [09:28<00:04,  6.74it/s]"
     ]
    },
    {
     "name": "stdout",
     "output_type": "stream",
     "text": [
      "Fetching data for movie ID tt1846739 from OMDb...\n",
      "Fetching data for movie ID tt1466069 from OMDb...\n"
     ]
    },
    {
     "name": "stderr",
     "output_type": "stream",
     "text": [
      "Fetching movie data:  99%|█████████████████▊| 3565/3591 [09:29<00:03,  6.61it/s]"
     ]
    },
    {
     "name": "stdout",
     "output_type": "stream",
     "text": [
      "Fetching data for movie ID tt2006213 from OMDb...\n",
      "Fetching data for movie ID tt29341882 from OMDb...\n"
     ]
    },
    {
     "name": "stderr",
     "output_type": "stream",
     "text": [
      "Fetching movie data:  99%|█████████████████▉| 3567/3591 [09:29<00:03,  7.18it/s]"
     ]
    },
    {
     "name": "stdout",
     "output_type": "stream",
     "text": [
      "Fetching data for movie ID tt2526462 from OMDb...\n",
      "Fetching data for movie ID tt0979907 from OMDb...\n"
     ]
    },
    {
     "name": "stderr",
     "output_type": "stream",
     "text": [
      "Fetching movie data:  99%|█████████████████▉| 3569/3591 [09:29<00:03,  6.07it/s]"
     ]
    },
    {
     "name": "stdout",
     "output_type": "stream",
     "text": [
      "Fetching data for movie ID tt1399011 from OMDb...\n",
      "Fetching data for movie ID tt1266731 from OMDb...\n"
     ]
    },
    {
     "name": "stderr",
     "output_type": "stream",
     "text": [
      "Fetching movie data:  99%|█████████████████▉| 3571/3591 [09:30<00:03,  5.70it/s]"
     ]
    },
    {
     "name": "stdout",
     "output_type": "stream",
     "text": [
      "Fetching data for movie ID tt2099700 from OMDb...\n",
      "Fetching data for movie ID tt1654754 from OMDb...\n"
     ]
    },
    {
     "name": "stderr",
     "output_type": "stream",
     "text": [
      "Fetching movie data:  99%|█████████████████▉| 3573/3591 [09:30<00:02,  6.12it/s]"
     ]
    },
    {
     "name": "stdout",
     "output_type": "stream",
     "text": [
      "Fetching data for movie ID tt1656195 from OMDb...\n",
      "Fetching data for movie ID tt2526514 from OMDb...\n"
     ]
    },
    {
     "name": "stderr",
     "output_type": "stream",
     "text": [
      "Fetching movie data: 100%|█████████████████▉| 3575/3591 [09:30<00:02,  6.38it/s]"
     ]
    },
    {
     "name": "stdout",
     "output_type": "stream",
     "text": [
      "Fetching data for movie ID tt1151002 from OMDb...\n",
      "Fetching data for movie ID tt0844661 from OMDb...\n"
     ]
    },
    {
     "name": "stderr",
     "output_type": "stream",
     "text": [
      "Fetching movie data: 100%|█████████████████▉| 3577/3591 [09:31<00:02,  6.77it/s]"
     ]
    },
    {
     "name": "stdout",
     "output_type": "stream",
     "text": [
      "Fetching data for movie ID tt0407887 from OMDb...\n",
      "Fetching data for movie ID tt0484037 from OMDb...\n"
     ]
    },
    {
     "name": "stderr",
     "output_type": "stream",
     "text": [
      "Fetching movie data: 100%|█████████████████▉| 3579/3591 [09:31<00:01,  7.06it/s]"
     ]
    },
    {
     "name": "stdout",
     "output_type": "stream",
     "text": [
      "Fetching data for movie ID tt1639863 from OMDb...\n",
      "Fetching data for movie ID tt0462263 from OMDb...\n"
     ]
    },
    {
     "name": "stderr",
     "output_type": "stream",
     "text": [
      "Fetching movie data: 100%|█████████████████▉| 3581/3591 [09:31<00:01,  7.26it/s]"
     ]
    },
    {
     "name": "stdout",
     "output_type": "stream",
     "text": [
      "Fetching data for movie ID tt0762133 from OMDb...\n",
      "Fetching data for movie ID tt1967632 from OMDb...\n"
     ]
    },
    {
     "name": "stderr",
     "output_type": "stream",
     "text": [
      "Fetching movie data: 100%|█████████████████▉| 3583/3591 [09:31<00:01,  7.63it/s]"
     ]
    },
    {
     "name": "stdout",
     "output_type": "stream",
     "text": [
      "Fetching data for movie ID tt2611518 from OMDb...\n",
      "Fetching data for movie ID tt1777034 from OMDb...\n"
     ]
    },
    {
     "name": "stderr",
     "output_type": "stream",
     "text": [
      "Fetching movie data: 100%|█████████████████▉| 3585/3591 [09:32<00:00,  7.17it/s]"
     ]
    },
    {
     "name": "stdout",
     "output_type": "stream",
     "text": [
      "Fetching data for movie ID tt1620487 from OMDb...\n",
      "Fetching data for movie ID tt0969357 from OMDb...\n"
     ]
    },
    {
     "name": "stderr",
     "output_type": "stream",
     "text": [
      "Fetching movie data: 100%|█████████████████▉| 3587/3591 [09:32<00:00,  6.93it/s]"
     ]
    },
    {
     "name": "stdout",
     "output_type": "stream",
     "text": [
      "Fetching data for movie ID tt1584781 from OMDb...\n",
      "Fetching data for movie ID tt0805604 from OMDb...\n"
     ]
    },
    {
     "name": "stderr",
     "output_type": "stream",
     "text": [
      "Fetching movie data: 100%|█████████████████▉| 3589/3591 [09:32<00:00,  6.18it/s]"
     ]
    },
    {
     "name": "stdout",
     "output_type": "stream",
     "text": [
      "Fetching data for movie ID tt1291523 from OMDb...\n",
      "Fetching data for movie ID tt1224134 from OMDb...\n"
     ]
    },
    {
     "name": "stderr",
     "output_type": "stream",
     "text": [
      "Fetching movie data: 100%|██████████████████| 3591/3591 [09:33<00:00,  6.26it/s]\n"
     ]
    },
    {
     "name": "stdout",
     "output_type": "stream",
     "text": [
      "Fetching data for movie ID tt3112556 from OMDb...\n",
      "Final dataset saved!\n"
     ]
    }
   ],
   "source": [
    "save_path = \"movie_data.pkl\"\n",
    "movie_df = fetch_movie_data_from_omdb(movie_ids, omdb_key, save_path)\n",
    "\n",
    "movie_df.to_csv(\"filtered_movies.csv\", index=False)"
   ]
  },
  {
   "cell_type": "code",
   "execution_count": 41,
   "id": "ed5411e0-5400-482d-b00d-1d7dfb28d5b2",
   "metadata": {},
   "outputs": [],
   "source": [
    "with open(save_path, \"rb\") as f:\n",
    "    movie_data_list = pickle.load(f)\n",
    "\n",
    "# Convert to DataFrame\n",
    "movie_df = pd.DataFrame(movie_data_list)\n",
    "movie_df.to_csv(\"filtered_movies.csv\", index=False)"
   ]
  },
  {
   "cell_type": "code",
   "execution_count": 54,
   "id": "2e4bf799-e181-4e8f-be62-3ad91df17283",
   "metadata": {},
   "outputs": [
    {
     "data": {
      "text/html": [
       "<div>\n",
       "<style scoped>\n",
       "    .dataframe tbody tr th:only-of-type {\n",
       "        vertical-align: middle;\n",
       "    }\n",
       "\n",
       "    .dataframe tbody tr th {\n",
       "        vertical-align: top;\n",
       "    }\n",
       "\n",
       "    .dataframe thead th {\n",
       "        text-align: right;\n",
       "    }\n",
       "</style>\n",
       "<table border=\"1\" class=\"dataframe\">\n",
       "  <thead>\n",
       "    <tr style=\"text-align: right;\">\n",
       "      <th></th>\n",
       "      <th>tconst</th>\n",
       "      <th>title</th>\n",
       "      <th>year</th>\n",
       "      <th>genre</th>\n",
       "      <th>director</th>\n",
       "      <th>actors</th>\n",
       "      <th>plot</th>\n",
       "      <th>country</th>\n",
       "      <th>awards</th>\n",
       "      <th>poster</th>\n",
       "      <th>rating</th>\n",
       "      <th>metascore</th>\n",
       "      <th>votes</th>\n",
       "      <th>type</th>\n",
       "    </tr>\n",
       "  </thead>\n",
       "  <tbody>\n",
       "    <tr>\n",
       "      <th>0</th>\n",
       "      <td>tt0406933</td>\n",
       "      <td>Life After War</td>\n",
       "      <td>2003</td>\n",
       "      <td>Documentary</td>\n",
       "      <td>Brian Knappenberger</td>\n",
       "      <td>N/A</td>\n",
       "      <td>N/A</td>\n",
       "      <td>USA</td>\n",
       "      <td>N/A</td>\n",
       "      <td>N/A</td>\n",
       "      <td>6.8</td>\n",
       "      <td>6.8</td>\n",
       "      <td>N/A</td>\n",
       "      <td>movie</td>\n",
       "    </tr>\n",
       "    <tr>\n",
       "      <th>1</th>\n",
       "      <td>tt0334482</td>\n",
       "      <td>Thenkasipattanam</td>\n",
       "      <td>2000</td>\n",
       "      <td>Comedy, Romance</td>\n",
       "      <td>Meccartin, Raffi</td>\n",
       "      <td>Suresh Gopi, Lal, Dileep</td>\n",
       "      <td>Kannan is in love with his childhood friend Me...</td>\n",
       "      <td>India</td>\n",
       "      <td>N/A</td>\n",
       "      <td>https://m.media-amazon.com/images/M/MV5BNDUzNz...</td>\n",
       "      <td>7.6</td>\n",
       "      <td>7.6</td>\n",
       "      <td>N/A</td>\n",
       "      <td>movie</td>\n",
       "    </tr>\n",
       "    <tr>\n",
       "      <th>2</th>\n",
       "      <td>tt2010896</td>\n",
       "      <td>As I Die Slowly</td>\n",
       "      <td>2011</td>\n",
       "      <td>Drama</td>\n",
       "      <td>Michael Wayne Thomas, Marcus Damone Henry</td>\n",
       "      <td>Michael Wayne Thomas, Michelle Hays, Ash Davit...</td>\n",
       "      <td>What happens when a man who has it all, become...</td>\n",
       "      <td>USA</td>\n",
       "      <td>N/A</td>\n",
       "      <td>https://m.media-amazon.com/images/M/MV5BMjM2MT...</td>\n",
       "      <td>N/A</td>\n",
       "      <td>N/A</td>\n",
       "      <td>N/A</td>\n",
       "      <td>movie</td>\n",
       "    </tr>\n",
       "    <tr>\n",
       "      <th>3</th>\n",
       "      <td>tt0405086</td>\n",
       "      <td>The Lady from Sockholm</td>\n",
       "      <td>2005</td>\n",
       "      <td>Comedy, Mystery, Crime</td>\n",
       "      <td>Evan Lieberman, Eddy Von Mueller</td>\n",
       "      <td>Chris Clabo, Eric Goins, Melanie Parker</td>\n",
       "      <td>A sock puppet detective unravels a case involv...</td>\n",
       "      <td>United States</td>\n",
       "      <td>N/A</td>\n",
       "      <td>https://m.media-amazon.com/images/M/MV5BMTMxNz...</td>\n",
       "      <td>7.6</td>\n",
       "      <td>7.6</td>\n",
       "      <td>N/A</td>\n",
       "      <td>movie</td>\n",
       "    </tr>\n",
       "    <tr>\n",
       "      <th>4</th>\n",
       "      <td>tt0382033</td>\n",
       "      <td>First Person</td>\n",
       "      <td>2003</td>\n",
       "      <td>Drama, Thriller</td>\n",
       "      <td>Richard D'Angelo</td>\n",
       "      <td>Keenan Henson, Carey Macaleer, Gregor Xythe</td>\n",
       "      <td>Edward is our host for the documentary on the ...</td>\n",
       "      <td>United States</td>\n",
       "      <td>2 wins</td>\n",
       "      <td>N/A</td>\n",
       "      <td>7.2</td>\n",
       "      <td>7.2</td>\n",
       "      <td>N/A</td>\n",
       "      <td>movie</td>\n",
       "    </tr>\n",
       "  </tbody>\n",
       "</table>\n",
       "</div>"
      ],
      "text/plain": [
       "      tconst                   title  year                   genre  \\\n",
       "0  tt0406933          Life After War  2003             Documentary   \n",
       "1  tt0334482        Thenkasipattanam  2000         Comedy, Romance   \n",
       "2  tt2010896         As I Die Slowly  2011                   Drama   \n",
       "3  tt0405086  The Lady from Sockholm  2005  Comedy, Mystery, Crime   \n",
       "4  tt0382033            First Person  2003         Drama, Thriller   \n",
       "\n",
       "                                    director  \\\n",
       "0                        Brian Knappenberger   \n",
       "1                           Meccartin, Raffi   \n",
       "2  Michael Wayne Thomas, Marcus Damone Henry   \n",
       "3           Evan Lieberman, Eddy Von Mueller   \n",
       "4                           Richard D'Angelo   \n",
       "\n",
       "                                              actors  \\\n",
       "0                                                N/A   \n",
       "1                           Suresh Gopi, Lal, Dileep   \n",
       "2  Michael Wayne Thomas, Michelle Hays, Ash Davit...   \n",
       "3            Chris Clabo, Eric Goins, Melanie Parker   \n",
       "4        Keenan Henson, Carey Macaleer, Gregor Xythe   \n",
       "\n",
       "                                                plot        country  awards  \\\n",
       "0                                                N/A            USA     N/A   \n",
       "1  Kannan is in love with his childhood friend Me...          India     N/A   \n",
       "2  What happens when a man who has it all, become...            USA     N/A   \n",
       "3  A sock puppet detective unravels a case involv...  United States     N/A   \n",
       "4  Edward is our host for the documentary on the ...  United States  2 wins   \n",
       "\n",
       "                                              poster rating metascore votes  \\\n",
       "0                                                N/A    6.8       6.8   N/A   \n",
       "1  https://m.media-amazon.com/images/M/MV5BNDUzNz...    7.6       7.6   N/A   \n",
       "2  https://m.media-amazon.com/images/M/MV5BMjM2MT...    N/A       N/A   N/A   \n",
       "3  https://m.media-amazon.com/images/M/MV5BMTMxNz...    7.6       7.6   N/A   \n",
       "4                                                N/A    7.2       7.2   N/A   \n",
       "\n",
       "    type  \n",
       "0  movie  \n",
       "1  movie  \n",
       "2  movie  \n",
       "3  movie  \n",
       "4  movie  "
      ]
     },
     "execution_count": 54,
     "metadata": {},
     "output_type": "execute_result"
    }
   ],
   "source": [
    "movie_df = movie_df.rename(columns={'imdb_id' : 'tconst'})\n",
    "movie_df.head()"
   ]
  },
  {
   "cell_type": "markdown",
   "id": "c9aad4f8-dc8d-4a88-ae24-b8c894fc5877",
   "metadata": {},
   "source": [
    "### **1.4 Concatenate the two datasets**"
   ]
  },
  {
   "cell_type": "code",
   "execution_count": 56,
   "id": "1df3cab1-bb0b-403c-a2ab-ee74c9edebc8",
   "metadata": {},
   "outputs": [],
   "source": [
    "# Concatenate the dataframes\n",
    "df_combined = pd.concat([df, movie_df], ignore_index=True)\n",
    "\n",
    "# Remove duplicates based on 'tconst' (assuming 'tconst' is a unique identifier)\n",
    "df_combined = df_combined.drop_duplicates(subset=\"tconst\", keep=\"first\")\n",
    "\n",
    "# Reset index\n",
    "df_combined.reset_index(drop=True, inplace=True)"
   ]
  },
  {
   "cell_type": "code",
   "execution_count": 60,
   "id": "f62dcba2-36d3-4f29-a165-ad7590643b4d",
   "metadata": {},
   "outputs": [],
   "source": [
    "df_combined.to_csv(\"filtered_movies.csv\", index=False)"
   ]
  },
  {
   "cell_type": "code",
   "execution_count": null,
   "id": "c22ecddf-4578-4056-a1b5-26d807006435",
   "metadata": {},
   "outputs": [],
   "source": [
    "posters = df['poster'].to_list()"
   ]
  },
  {
   "cell_type": "code",
   "execution_count": null,
   "id": "2ff1ab3c-aaa2-4b9f-884f-bcf20e0f8c5e",
   "metadata": {},
   "outputs": [],
   "source": [
    "# for i, url in enumerate(posters):\n",
    "#     data = requests.get(url).content \n",
    "#     # print(df['tconst'][i])\n",
    "#     # print(i)\n",
    "#     f = open('Data/' + df['tconst'][i] + '.jpg','wb') \n",
    "#     f.write(data) \n",
    "#     f.close()"
   ]
  }
 ],
 "metadata": {
  "kernelspec": {
   "display_name": "Python [conda env:base] *",
   "language": "python",
   "name": "conda-base-py"
  },
  "language_info": {
   "codemirror_mode": {
    "name": "ipython",
    "version": 3
   },
   "file_extension": ".py",
   "mimetype": "text/x-python",
   "name": "python",
   "nbconvert_exporter": "python",
   "pygments_lexer": "ipython3",
   "version": "3.12.2"
  }
 },
 "nbformat": 4,
 "nbformat_minor": 5
}
