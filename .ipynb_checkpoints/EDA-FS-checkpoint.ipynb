{
 "cells": [
  {
   "cell_type": "markdown",
   "id": "233f6abb-015b-47a2-8dc3-98dad5c90808",
   "metadata": {},
   "source": [
    "# **Exploratory Data Analysis**\n",
    "\n",
    "## **Project Rationale**\n",
    "\n",
    "**Introduction**\n",
    "In today’s multimedia-driven world, film posters serve not only as advertisements but also as visual representations of a movie’s theme and genre. Identifying a film’s genre based solely on its poster imagery has practical applications, such as automated indexing on streaming platforms and improving user recommendations.\n",
    "\n",
    "Our team is undertaking this project to deepen our understanding of practical image classification in real-world scenarios. By applying techniques —ranging from traditional feature extraction methods to modern deep learning approaches—we aim to build a robust classification pipeline capable of handling a challenging multi-genre task.\n",
    "\n",
    "**Dataset**\n",
    "The dataset was compiled using the [OMDB API](https://www.omdbapi.com) to query movies across these genres. Each record provides a URL to a movie poster image and associated metadata (e.g., title, release date, genre). \n",
    "\n",
    "## **This Notebook**\n",
    "In this notebook we will perfom Exploratory Data Analysis to\n",
    "- Handle missing values\n",
    "- Clean the image dataset by removing non-poster images\n",
    "- Cluster movie genres into five thematic macro-groups"
   ]
  },
  {
   "cell_type": "markdown",
   "id": "1fb4e715-883f-4fcc-b4f6-dcbf9f0c4e83",
   "metadata": {},
   "source": [
    "### **1.1 Import necessary libaries**"
   ]
  },
  {
   "cell_type": "code",
   "execution_count": 1,
   "id": "cf9609a6-ff4b-44bc-ac36-307804390327",
   "metadata": {},
   "outputs": [],
   "source": [
    "import os\n",
    "import pandas as pd\n",
    "import numpy as np\n",
    "import requests\n",
    "from PIL import Image, UnidentifiedImageError\n",
    "import matplotlib.pyplot as plt\n",
    "import seaborn as sns\n",
    "import random\n",
    "from tensorflow.keras.preprocessing.image import ImageDataGenerator, array_to_img, img_to_array, load_img"
   ]
  },
  {
   "cell_type": "markdown",
   "id": "819e2af6-8c15-46ab-a1df-bdbf624a33a7",
   "metadata": {},
   "source": [
    "### **1.2 Load the movie dataset**"
   ]
  },
  {
   "cell_type": "code",
   "execution_count": 3,
   "id": "2a066f49-33d1-4b90-9bfc-81b11c3f732d",
   "metadata": {},
   "outputs": [],
   "source": [
    "df = pd.read_csv('movies_dataset_final.csv')"
   ]
  },
  {
   "cell_type": "code",
   "execution_count": 5,
   "id": "2d49ffe3-a19f-427a-8147-e5ae1417bc83",
   "metadata": {},
   "outputs": [
    {
     "data": {
      "text/html": [
       "<div>\n",
       "<style scoped>\n",
       "    .dataframe tbody tr th:only-of-type {\n",
       "        vertical-align: middle;\n",
       "    }\n",
       "\n",
       "    .dataframe tbody tr th {\n",
       "        vertical-align: top;\n",
       "    }\n",
       "\n",
       "    .dataframe thead th {\n",
       "        text-align: right;\n",
       "    }\n",
       "</style>\n",
       "<table border=\"1\" class=\"dataframe\">\n",
       "  <thead>\n",
       "    <tr style=\"text-align: right;\">\n",
       "      <th></th>\n",
       "      <th>Unnamed: 0</th>\n",
       "      <th>tconst</th>\n",
       "      <th>title</th>\n",
       "      <th>year</th>\n",
       "      <th>genre</th>\n",
       "      <th>director</th>\n",
       "      <th>actors</th>\n",
       "      <th>plot</th>\n",
       "      <th>country</th>\n",
       "      <th>awards</th>\n",
       "      <th>poster</th>\n",
       "      <th>rating</th>\n",
       "      <th>votes</th>\n",
       "      <th>type</th>\n",
       "    </tr>\n",
       "  </thead>\n",
       "  <tbody>\n",
       "    <tr>\n",
       "      <th>0</th>\n",
       "      <td>1</td>\n",
       "      <td>tt3608918</td>\n",
       "      <td>Azzurrina</td>\n",
       "      <td>2023</td>\n",
       "      <td>Horror</td>\n",
       "      <td>Giacomo Franciosa</td>\n",
       "      <td>Tatiana Luter, Paolo Stella, Gianfranco Terrin</td>\n",
       "      <td>The tale of Guendalina was passed down verball...</td>\n",
       "      <td>Italy</td>\n",
       "      <td>0 awards and 0 nominees</td>\n",
       "      <td>https://m.media-amazon.com/images/M/MV5BOWQ5MG...</td>\n",
       "      <td>9.0</td>\n",
       "      <td>10</td>\n",
       "      <td>movie</td>\n",
       "    </tr>\n",
       "    <tr>\n",
       "      <th>1</th>\n",
       "      <td>2</td>\n",
       "      <td>tt15908496</td>\n",
       "      <td>Dear Jackie</td>\n",
       "      <td>2021</td>\n",
       "      <td>Documentary</td>\n",
       "      <td>Henri Pardo</td>\n",
       "      <td>Ronald Jones, Ivan Livingstone, Majiza Philips</td>\n",
       "      <td>Dear Jackie paints a picture of the Black comm...</td>\n",
       "      <td>Canada</td>\n",
       "      <td>0 awards and 0 nominees</td>\n",
       "      <td>https://m.media-amazon.com/images/M/MV5BNDIwYz...</td>\n",
       "      <td>7.5</td>\n",
       "      <td>16</td>\n",
       "      <td>movie</td>\n",
       "    </tr>\n",
       "    <tr>\n",
       "      <th>2</th>\n",
       "      <td>3</td>\n",
       "      <td>tt28378602</td>\n",
       "      <td>Zena s gumenim rukavicama</td>\n",
       "      <td>2023</td>\n",
       "      <td>Drama</td>\n",
       "      <td>Mario Sulina</td>\n",
       "      <td>Areta Curkovic, Sandra Loncaric, Miro Cabraja</td>\n",
       "      <td>The film was inspired by the great strike of e...</td>\n",
       "      <td>Croatia</td>\n",
       "      <td>0 awards and 0 nominees</td>\n",
       "      <td>https://m.media-amazon.com/images/M/MV5BODE4NG...</td>\n",
       "      <td>7.1</td>\n",
       "      <td>36</td>\n",
       "      <td>movie</td>\n",
       "    </tr>\n",
       "    <tr>\n",
       "      <th>3</th>\n",
       "      <td>4</td>\n",
       "      <td>tt27129223</td>\n",
       "      <td>Fast Shark II: Faster Shark</td>\n",
       "      <td>2023</td>\n",
       "      <td>Comedy, Sci-Fi</td>\n",
       "      <td>Chloe Pelletier</td>\n",
       "      <td>Grace Barrington, John Bradshaw, Josefa Calero</td>\n",
       "      <td>A fast shark that has grown even faster contin...</td>\n",
       "      <td>United States</td>\n",
       "      <td>0 awards and 0 nominees</td>\n",
       "      <td>https://m.media-amazon.com/images/M/MV5BYWY0NT...</td>\n",
       "      <td>7.7</td>\n",
       "      <td>79</td>\n",
       "      <td>movie</td>\n",
       "    </tr>\n",
       "    <tr>\n",
       "      <th>4</th>\n",
       "      <td>5</td>\n",
       "      <td>tt15173938</td>\n",
       "      <td>Shooting Guard</td>\n",
       "      <td>2022</td>\n",
       "      <td>Thriller</td>\n",
       "      <td>Luke Ostermiller</td>\n",
       "      <td>Agapi Petra, Myles Juniel, Exzinia Scott</td>\n",
       "      <td>In an effort to save his mom from being evicte...</td>\n",
       "      <td>United States</td>\n",
       "      <td>0 awards and 0 nominees</td>\n",
       "      <td>https://m.media-amazon.com/images/M/MV5BN2FjZD...</td>\n",
       "      <td>8.2</td>\n",
       "      <td>7</td>\n",
       "      <td>movie</td>\n",
       "    </tr>\n",
       "  </tbody>\n",
       "</table>\n",
       "</div>"
      ],
      "text/plain": [
       "   Unnamed: 0      tconst                        title  year           genre  \\\n",
       "0           1   tt3608918                    Azzurrina  2023          Horror   \n",
       "1           2  tt15908496                  Dear Jackie  2021     Documentary   \n",
       "2           3  tt28378602    Zena s gumenim rukavicama  2023           Drama   \n",
       "3           4  tt27129223  Fast Shark II: Faster Shark  2023  Comedy, Sci-Fi   \n",
       "4           5  tt15173938               Shooting Guard  2022        Thriller   \n",
       "\n",
       "            director                                          actors  \\\n",
       "0  Giacomo Franciosa  Tatiana Luter, Paolo Stella, Gianfranco Terrin   \n",
       "1        Henri Pardo  Ronald Jones, Ivan Livingstone, Majiza Philips   \n",
       "2       Mario Sulina   Areta Curkovic, Sandra Loncaric, Miro Cabraja   \n",
       "3    Chloe Pelletier  Grace Barrington, John Bradshaw, Josefa Calero   \n",
       "4   Luke Ostermiller        Agapi Petra, Myles Juniel, Exzinia Scott   \n",
       "\n",
       "                                                plot        country  \\\n",
       "0  The tale of Guendalina was passed down verball...          Italy   \n",
       "1  Dear Jackie paints a picture of the Black comm...         Canada   \n",
       "2  The film was inspired by the great strike of e...        Croatia   \n",
       "3  A fast shark that has grown even faster contin...  United States   \n",
       "4  In an effort to save his mom from being evicte...  United States   \n",
       "\n",
       "                    awards                                             poster  \\\n",
       "0  0 awards and 0 nominees  https://m.media-amazon.com/images/M/MV5BOWQ5MG...   \n",
       "1  0 awards and 0 nominees  https://m.media-amazon.com/images/M/MV5BNDIwYz...   \n",
       "2  0 awards and 0 nominees  https://m.media-amazon.com/images/M/MV5BODE4NG...   \n",
       "3  0 awards and 0 nominees  https://m.media-amazon.com/images/M/MV5BYWY0NT...   \n",
       "4  0 awards and 0 nominees  https://m.media-amazon.com/images/M/MV5BN2FjZD...   \n",
       "\n",
       "   rating  votes   type  \n",
       "0     9.0     10  movie  \n",
       "1     7.5     16  movie  \n",
       "2     7.1     36  movie  \n",
       "3     7.7     79  movie  \n",
       "4     8.2      7  movie  "
      ]
     },
     "execution_count": 5,
     "metadata": {},
     "output_type": "execute_result"
    }
   ],
   "source": [
    "df.head()"
   ]
  },
  {
   "cell_type": "code",
   "execution_count": 11,
   "id": "afd52e0b-d5eb-403b-9b4a-fbfeaa47a7ae",
   "metadata": {},
   "outputs": [],
   "source": [
    "# Drop the \"Unnamed: 0\" column\n",
    "df = df.drop(\"Unnamed: 0\", axis=1)"
   ]
  },
  {
   "cell_type": "markdown",
   "id": "a0501dd7-6a92-4d88-8b91-113242b577b3",
   "metadata": {},
   "source": [
    "### **2. Handling missing values**"
   ]
  },
  {
   "cell_type": "code",
   "execution_count": 14,
   "id": "7e68159e-d03d-4504-a988-3a138b77678d",
   "metadata": {},
   "outputs": [
    {
     "data": {
      "text/plain": [
       "tconst        0\n",
       "title         1\n",
       "year          0\n",
       "genre         0\n",
       "director    260\n",
       "actors        0\n",
       "plot        279\n",
       "country       0\n",
       "awards        0\n",
       "poster      942\n",
       "rating        0\n",
       "votes         0\n",
       "type          0\n",
       "dtype: int64"
      ]
     },
     "execution_count": 14,
     "metadata": {},
     "output_type": "execute_result"
    }
   ],
   "source": [
    "df.isnull().sum()"
   ]
  },
  {
   "cell_type": "markdown",
   "id": "8fef3e5d-f053-43a7-81ce-c4c3cf4f5ed5",
   "metadata": {},
   "source": [
    "The dataset contains **942 missing values** in the **“poster” feature**. This means that the image dataset does not include posters for these movies, as they were not downloaded during the data collection phase. Therefore, these rows will be deleted."
   ]
  },
  {
   "cell_type": "code",
   "execution_count": 16,
   "id": "bb26c4ff-a2c8-415d-be67-d55129129a23",
   "metadata": {},
   "outputs": [],
   "source": [
    "df = df.dropna(subset=['poster'])"
   ]
  },
  {
   "cell_type": "code",
   "execution_count": 18,
   "id": "614acdbe-d740-4225-9924-1b42836fbb34",
   "metadata": {},
   "outputs": [
    {
     "data": {
      "text/plain": [
       "tconst        0\n",
       "title         1\n",
       "year          0\n",
       "genre         0\n",
       "director    235\n",
       "actors        0\n",
       "plot        252\n",
       "country       0\n",
       "awards        0\n",
       "poster        0\n",
       "rating        0\n",
       "votes         0\n",
       "type          0\n",
       "dtype: int64"
      ]
     },
     "execution_count": 18,
     "metadata": {},
     "output_type": "execute_result"
    }
   ],
   "source": [
    "df.isnull().sum()"
   ]
  },
  {
   "cell_type": "markdown",
   "id": "ec5ea167-f401-4817-bd1d-e760464ecfbc",
   "metadata": {},
   "source": [
    "For now, we won't handle the missing values in the other features."
   ]
  },
  {
   "cell_type": "markdown",
   "id": "24cb8c4b-7e07-4477-b328-8ad80d70f01b",
   "metadata": {},
   "source": [
    "### **3. Removing non-poster images**"
   ]
  },
  {
   "cell_type": "markdown",
   "id": "24a85b46-1f22-48c8-b39a-e591a2a96a1e",
   "metadata": {},
   "source": [
    "We observe that **real movie posters** typically have a **height-to-width (h/w) ratio of around 1.5.** As a first step, we create a histogram of poster shape ratios to understand their distribution."
   ]
  },
  {
   "cell_type": "code",
   "execution_count": 25,
   "id": "da08f0a2-13b9-4c0f-a3ec-fdf7edcb01e0",
   "metadata": {},
   "outputs": [],
   "source": [
    "# Empty list for storing poster shape ratios\n",
    "ratios = []\n",
    "\n",
    "# Iterate over each movie ID in the 'tconst' column of the DataFrame\n",
    "for id in df['tconst']:\n",
    "    try: \n",
    "        # Construct the image file path based on the movie ID\n",
    "        image_path = 'Data/' + id + '.jpg'\n",
    "\n",
    "        # Open the image file\n",
    "        image = Image.open(image_path)\n",
    "\n",
    "        # Convert the image into a NumPy array\n",
    "        image_array = np.array(image)\n",
    "\n",
    "        # Compute the shape ratio (height/width) of the image\n",
    "        shape_ratio = image_array.shape[0] / image_array.shape[1]\n",
    "\n",
    "        # Append the computed ratio to the list\n",
    "        ratios.append(shape_ratio)\n",
    "\n",
    "        # Add a \"shape\" column to the DataFrame\n",
    "        df.loc[df[\"tconst\"] == movie_id, \"shape\"] = shape_ratio\n",
    "\n",
    "    # Handle the case where the image file is missing\n",
    "    except FileNotFoundError:\n",
    "        # Remove the row corresponding to the missing poster from the DataFrame\n",
    "        df = df[df[\"tconst\"] != id]\n",
    "\n",
    "    # Handle cases where the image file is corrupted or not a valid image\n",
    "    except UnidentifiedImageError:\n",
    "        # Remove the row corresponding to the invalid poster from the DataFrame\n",
    "        df = df[df[\"tconst\"] != id]\n",
    "\n",
    "        # Delete the corrupted or unrecognized image file from the directory\n",
    "        os.remove(image_path)"
   ]
  },
  {
   "cell_type": "code",
   "execution_count": 29,
   "id": "95b9aa83-e962-4cea-b194-87a5389c2c72",
   "metadata": {},
   "outputs": [
    {
     "data": {
      "image/png": "[encoded data removed]",
      "text/plain": [
       "<Figure size 800x500 with 1 Axes>"
      ]
     },
     "metadata": {},
     "output_type": "display_data"
    }
   ],
   "source": [
    "# Create a new figure with a specified size (width=8 inches, height=5 inches)\n",
    "plt.figure(figsize=(8, 5))\n",
    "\n",
    "# Plot a histogram of the 'ratios' list\n",
    "# - bins=20: Divides the range into 20 bins for better granularity\n",
    "# - range=(0, 2): Limits the x-axis values from 0 to 2\n",
    "# - edgecolor='black': Adds black borders to bars for better visibility\n",
    "# - alpha=0.7: Sets transparency level to make bars slightly see-through\n",
    "plt.hist(ratios, bins=30, range=(0, 2), edgecolor='black', alpha=0.7)\n",
    "\n",
    "# Add labels and title to the histogram\n",
    "plt.xlabel(\"Ratio Values\")  # Label for the x-axis\n",
    "plt.ylabel(\"Frequency\")      # Label for the y-axis\n",
    "plt.title(\"Histogram of Ratios\")  # Title of the plot\n",
    "\n",
    "# Display the histogram\n",
    "plt.show()"
   ]
  },
  {
   "cell_type": "code",
   "execution_count": null,
   "id": "2a6251cc-74fd-40b8-9f30-ee5a51ea9246",
   "metadata": {},
   "outputs": [],
   "source": []
  }
 ],
 "metadata": {
  "kernelspec": {
   "display_name": "Python [conda env:base] *",
   "language": "python",
   "name": "conda-base-py"
  },
  "language_info": {
   "codemirror_mode": {
    "name": "ipython",
    "version": 3
   },
   "file_extension": ".py",
   "mimetype": "text/x-python",
   "name": "python",
   "nbconvert_exporter": "python",
   "pygments_lexer": "ipython3",
   "version": "3.12.2"
  }
 },
 "nbformat": 4,
 "nbformat_minor": 5
}
