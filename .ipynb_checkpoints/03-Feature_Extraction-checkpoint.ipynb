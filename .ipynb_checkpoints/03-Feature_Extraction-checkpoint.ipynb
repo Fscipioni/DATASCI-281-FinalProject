{
 "cells": [
  {
   "cell_type": "markdown",
   "id": "4eacdd7f-5460-42e4-96c1-f4774f079808",
   "metadata": {},
   "source": [
    "# **Feature extraction**\n",
    "\n",
    "## **This Notebook**\n",
    "In this notebook we will perfom feature extraction\n",
    "- HOG"
   ]
  },
  {
   "cell_type": "markdown",
   "id": "e9f5ac5a-b0b2-48b6-8fb5-80d77a974b63",
   "metadata": {},
   "source": [
    "### **1.1 Import necessary libaries**"
   ]
  },
  {
   "cell_type": "code",
   "execution_count": 2,
   "id": "04c3afb4-4049-4252-9a5a-d8fd7a6ba3c5",
   "metadata": {},
   "outputs": [],
   "source": [
    "import os\n",
    "import pandas as pd\n",
    "import numpy as np\n",
    "import matplotlib.pyplot as plt\n",
    "import seaborn as sns\n",
    "import random\n",
    "import cv2\n",
    "from skimage.feature import hog\n",
    "from skimage import data, exposure\n",
    "from PIL import Image"
   ]
  },
  {
   "cell_type": "markdown",
   "id": "886fc895-9d2c-4c20-bd33-2b0d9b9863e4",
   "metadata": {},
   "source": [
    "### **1.2 Load the dataset**"
   ]
  },
  {
   "cell_type": "code",
   "execution_count": 4,
   "id": "37059f1b-8215-468c-b496-ce3ae588406a",
   "metadata": {},
   "outputs": [],
   "source": [
    "df = pd.read_csv('movie_df_clean.csv')"
   ]
  },
  {
   "cell_type": "code",
   "execution_count": 6,
   "id": "f9090e56-850c-4473-b3bc-78af01fdee54",
   "metadata": {},
   "outputs": [],
   "source": [
    "histograms = []\n",
    "histograms_summary = []\n",
    "\n",
    "for i, id in enumerate(df['tconst']):\n",
    "\n",
    "    image_path = 'Data/WithText/' + id + '.jpg'\n",
    "    im = Image.open(image_path)\n",
    "    \n",
    "    # Convert image to HSV\n",
    "    image = np.array(im.convert(\"RGB\"))\n",
    "    image = cv2.cvtColor(image, cv2.COLOR_RGB2HSV)\n",
    "    im.close()\n",
    "    \n",
    "    # Compute HSV histogram\n",
    "    hist = cv2.calcHist([image], [0, 1, 2], None, (32, 32, 32), [0, 180, 0, 256, 0, 256])\n",
    "    hist = hist / np.sum(hist)\n",
    "    \n",
    "    hue_channel = np.sum(hist, axis=(1, 2))\n",
    "    saturation_channel = np.sum(hist, axis=(0, 2))\n",
    "    value_channel = np.sum(hist, axis=(0, 1))\n",
    "    \n",
    "    histograms.append(np.concatenate((hue_channel, saturation_channel, value_channel)))\n",
    "    \n",
    "    # Compute moments for each channel (H, S, V)\n",
    "    moments = []\n",
    "    for i in range(3):  # H, S, V channels\n",
    "        channel = image[:, :, i]\n",
    "        moments.append(np.mean(channel))\n",
    "        moments.append(np.std(channel))\n",
    "        moments.append(np.mean((channel - np.mean(channel))**3)) \n",
    "   \n",
    "    histograms_summary.append(np.array(moments))\n",
    "    "
   ]
  },
  {
   "cell_type": "code",
   "execution_count": null,
   "id": "1e82fee3-9675-4f22-99d1-4209c5c5a1e1",
   "metadata": {},
   "outputs": [],
   "source": []
  }
 ],
 "metadata": {
  "kernelspec": {
   "display_name": "Python [conda env:base] *",
   "language": "python",
   "name": "conda-base-py"
  },
  "language_info": {
   "codemirror_mode": {
    "name": "ipython",
    "version": 3
   },
   "file_extension": ".py",
   "mimetype": "text/x-python",
   "name": "python",
   "nbconvert_exporter": "python",
   "pygments_lexer": "ipython3",
   "version": "3.12.2"
  }
 },
 "nbformat": 4,
 "nbformat_minor": 5
}
