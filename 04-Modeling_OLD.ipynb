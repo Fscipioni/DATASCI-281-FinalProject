{
 "cells": [
  {
   "cell_type": "markdown",
   "id": "1ffccfdd-5599-432d-adc5-3f01af8b0762",
   "metadata": {},
   "source": [
    "# Modeling"
   ]
  },
  {
   "cell_type": "code",
   "execution_count": 5,
   "id": "c1b39833-c1d3-4f5f-a87b-9f9109d67b09",
   "metadata": {},
   "outputs": [],
   "source": [
    "# !pip install git+https://github.com/openai/CLIP.git"
   ]
  },
  {
   "cell_type": "code",
   "execution_count": 32,
   "id": "42b3e05b-9b19-4751-b979-2821393555fb",
   "metadata": {},
   "outputs": [],
   "source": [
    "# --- System and Utility ---\n",
    "import os\n",
    "import re\n",
    "import pickle\n",
    "import ast\n",
    "\n",
    "# --- Data Handling ---\n",
    "import pandas as pd\n",
    "import numpy as np\n",
    "\n",
    "# --- Visualization ---\n",
    "import matplotlib.pyplot as plt\n",
    "import seaborn as sns\n",
    "\n",
    "# --- Image Processing ---\n",
    "import cv2\n",
    "from PIL import Image, UnidentifiedImageError\n",
    "from tensorflow.keras.preprocessing.image import load_img, img_to_array\n",
    "\n",
    "# --- Machine Learning: Scikit-learn ---\n",
    "from sklearn.model_selection import (\n",
    "    train_test_split, GridSearchCV, StratifiedKFold\n",
    ")\n",
    "from sklearn.pipeline import Pipeline\n",
    "from sklearn.preprocessing import StandardScaler, LabelEncoder\n",
    "from sklearn.linear_model import LogisticRegression\n",
    "from sklearn.svm import SVC\n",
    "from sklearn.decomposition import PCA\n",
    "from sklearn.manifold import TSNE\n",
    "from sklearn.metrics import (\n",
    "    accuracy_score, classification_report, confusion_matrix\n",
    ")\n",
    "\n",
    "# --- Deep Learning: TensorFlow / Keras ---\n",
    "import tensorflow as tf\n",
    "from tensorflow.keras import layers, models, optimizers\n",
    "\n",
    "# --- Deep Learning: PyTorch and CLIP ---\n",
    "import torch\n",
    "import clip\n",
    "\n",
    "# --- Model Wrapping and Caching ---\n",
    "from scikeras.wrappers import KerasClassifier\n",
    "from joblib import Memory\n",
    "\n",
    "from imblearn.over_sampling import SMOTE"
   ]
  },
  {
   "cell_type": "markdown",
   "id": "7ee70a1c-b926-47fc-bf4f-2280eabfe3c7",
   "metadata": {},
   "source": [
    "# Richard Load the features"
   ]
  },
  {
   "cell_type": "markdown",
   "id": "875edfe0-366f-4e37-a456-245f7028d065",
   "metadata": {},
   "source": [
    "PCA + t-SNE of individual features"
   ]
  },
  {
   "cell_type": "code",
   "execution_count": 14,
   "id": "98391d88-36f6-4eb1-968e-8b05182030ad",
   "metadata": {},
   "outputs": [],
   "source": [
    "hsv_df = pd.read_pickle(\"Features/classic_hsv_features_named.pkl\")\n",
    "hsv_df = pd.DataFrame(hsv_df)\n",
    "\n",
    "features_df = hsv_df['features'].apply(pd.Series)\n",
    "\n",
    "hsv_feature = pd.concat([hsv_df.drop(columns=['features']), features_df], axis=1)\n",
    "hsv_feature['labels'] = hsv_feature['labels'].apply(lambda x: str(x[0]) if isinstance(x, (list, np.ndarray)) else str(x))\n",
    "\n",
    "label_encoder = LabelEncoder()\n",
    "encoded_labels = label_encoder.fit_transform(hsv_feature['labels'])"
   ]
  },
  {
   "cell_type": "code",
   "execution_count": 16,
   "id": "a5a4daae-7a72-470c-ad92-83e0f19ca5c8",
   "metadata": {},
   "outputs": [
    {
     "data": {
      "text/plain": [
       "array([7, 2, 5, ..., 3, 5, 9])"
      ]
     },
     "execution_count": 16,
     "metadata": {},
     "output_type": "execute_result"
    }
   ],
   "source": [
    "encoded_labels"
   ]
  },
  {
   "cell_type": "code",
   "execution_count": 42,
   "id": "5b98f829-cd3b-47e0-ac6d-53de27c7eab9",
   "metadata": {},
   "outputs": [],
   "source": [
    "# HSV Features\n",
    "hsv_pca = pd.read_pickle(\"Features/hsv_pca.pkl\")\n",
    "\n",
    "# HOG Features\n",
    "hog_pca = pd.read_pickle(\"Features/hog_pca.pkl\")\n",
    "\n",
    "# ResNet Features\n",
    "resnet_pca = pd.read_pickle(\"Features/resnet_pca.pkl\")\n",
    "\n",
    "# ViT Features\n",
    "vit_pca = pd.read_pickle(\"Features/vit_pca.pkl\")"
   ]
  },
  {
   "cell_type": "markdown",
   "id": "e823e630-c9b0-4ebe-b96e-e56879b3b4f0",
   "metadata": {},
   "source": [
    "PCA + t-SNE combined features:\n",
    "\n",
    "- HOG + HSV\n",
    "- ResNet50 + HOG\n",
    "- ViT + HSV\n",
    "- ResNet50 + ViT (deep + deep)"
   ]
  },
  {
   "cell_type": "code",
   "execution_count": 44,
   "id": "ac2d8093-22d9-46fb-9708-583b4a49efe1",
   "metadata": {},
   "outputs": [],
   "source": [
    "# HOG + HSV Fetures\n",
    "hsv_hog_pca = pd.read_pickle(\"Features/hsv_hog_pca.pkl\")\n",
    "\n",
    "# ResNet50 + HOG Features\n",
    "resnet_hog_pca = pd.read_pickle(\"Features/resnet_pca.pkl\")\n",
    "\n",
    "# ViT + HSV Features\n",
    "vit_hsv_pca = pd.read_pickle(\"Features/vit_hsv_pca.pkl\")\n",
    "\n",
    "# ResNet50 + ViT (deep + deep) Features \n",
    "resnet_vit_pca = pd.read_pickle(\"Features/resnet_vit_pca.pkl\")"
   ]
  },
  {
   "cell_type": "markdown",
   "id": "144bffc3-ab36-47f2-8f24-1a21ffbca86e",
   "metadata": {},
   "source": [
    "Baseline model"
   ]
  },
  {
   "cell_type": "code",
   "execution_count": 33,
   "id": "2f3295e9-65de-445f-9152-478e00bfb53d",
   "metadata": {},
   "outputs": [],
   "source": [
    "def plot_confusion_matrix(cm, title, labels):\n",
    "    \"\"\"\n",
    "    Plots a confusion matrix using seaborn.\n",
    "\n",
    "    Parameters:\n",
    "      cm (ndarray): The confusion matrix.\n",
    "      title (str): Plot title.\n",
    "      labels (array-like): List/array of label names for the x and y axes.\n",
    "    \"\"\"\n",
    "    plt.figure(figsize=(8, 6))\n",
    "    sns.heatmap(cm, annot=True, fmt='d', cmap='Blues', \n",
    "                xticklabels=labels, yticklabels=labels)\n",
    "    plt.title(title, fontsize=16)\n",
    "    plt.xlabel(\"Predicted Label\", fontsize=14)\n",
    "    plt.ylabel(\"True Label\", fontsize=14)\n",
    "    plt.tight_layout()\n",
    "    plt.show()\n"
   ]
  },
  {
   "cell_type": "code",
   "execution_count": 34,
   "id": "3ad77fd0-d509-435f-ae73-fc3045cb14d7",
   "metadata": {},
   "outputs": [],
   "source": [
    "def svm_baseline(features, labels):\n",
    "\n",
    "    X = features   \n",
    "    y = labels     \n",
    "    \n",
    "    # Split the data with stratification to preserve the imbalanced distribution\n",
    "    X_train, X_test, y_train, y_test = train_test_split(\n",
    "        X, y, stratify=y, test_size=0.2, random_state=42\n",
    "    )\n",
    "    \n",
    "    svm_pipeline = Pipeline([\n",
    "    ('scaler', StandardScaler()),\n",
    "    ('pca', PCA(n_components=0.95)),  # keep enough components to retain 95% variance\n",
    "    ('svm', SVC(kernel='rbf', class_weight='balanced', random_state=42))\n",
    "    ])\n",
    "    \n",
    "    # Train the SVM pipeline\n",
    "    svm_pipeline.fit(X_train, y_train)\n",
    "    \n",
    "    # Predict using the SVM model\n",
    "    y_pred = svm_pipeline.predict(X_test)\n",
    "    return y_test, y_pred"
   ]
  },
  {
   "cell_type": "code",
   "execution_count": 35,
   "id": "eda7973e-0245-4cbf-be95-aac14079be5d",
   "metadata": {},
   "outputs": [],
   "source": [
    "def logreg_baseline(features, labels):\n",
    "    X = features   \n",
    "    y = labels     \n",
    "    \n",
    "    # Split the data with stratification to preserve the imbalanced distribution\n",
    "    X_train, X_test, y_train, y_test = train_test_split(\n",
    "        X, y, stratify=y, test_size=0.2, random_state=42\n",
    "    )\n",
    "\n",
    "    logreg_pipeline = Pipeline([\n",
    "    ('scaler', StandardScaler()),\n",
    "    ('pca', PCA(n_components=0.95)),\n",
    "    ('logreg', LogisticRegression(\n",
    "        multi_class='multinomial', \n",
    "        solver='lbfgs', \n",
    "        class_weight='balanced', \n",
    "        random_state=42,\n",
    "        max_iter=500\n",
    "    ))\n",
    "    ])\n",
    "    \n",
    "    # Train the Logistic Regression pipeline\n",
    "    logreg_pipeline.fit(X_train, y_train)\n",
    "    \n",
    "    # Predict using Logistic Regression model\n",
    "    return logreg_pipeline.predict(X_test)"
   ]
  },
  {
   "cell_type": "code",
   "execution_count": 36,
   "id": "a409e277-d7ce-419e-84c5-2cbd43ff444e",
   "metadata": {},
   "outputs": [],
   "source": [
    "def model_report(y_test, y_pred, classifier=\"SVM\", features=\"ResNet50 + HOG\"):\n",
    "    \n",
    "    print(f\"=== {classifier} Classification Report for {features} features ===\")\n",
    "    print(classification_report(y_test, y_pred))\n",
    "    \n",
    "    print(f\"=== {classifier} Confusion Matrix for {features} features ===\")\n",
    "    print(confusion_matrix(y_test, y_pred))"
   ]
  },
  {
   "cell_type": "code",
   "execution_count": 37,
   "id": "0c4d852a-df08-4c26-a64d-1371cbde6794",
   "metadata": {},
   "outputs": [
    {
     "data": {
      "text/plain": [
       "labels\n",
       "Drama                   10803\n",
       "Comedy/Romance           4920\n",
       "Historical/Biography     3371\n",
       "Suspense                 2533\n",
       "Action/Adventure         2334\n",
       "Music/Musical            1747\n",
       "War/Crime                1371\n",
       "Sport/News                836\n",
       "Sci-Fi/Fantasy            730\n",
       "Western/Family            620\n",
       "Name: count, dtype: int64"
      ]
     },
     "execution_count": 37,
     "metadata": {},
     "output_type": "execute_result"
    }
   ],
   "source": [
    "hog_df.labels.value_counts()"
   ]
  },
  {
   "cell_type": "code",
   "execution_count": 39,
   "id": "7598c0e2-b829-4e5c-b6ec-f5c80c635034",
   "metadata": {},
   "outputs": [],
   "source": [
    "# ==========  ResNet50 + HOG ========== #\n",
    "# y_test_hsv, hsv_y_pres_svm = svm_baseline(resnet_hog_features, encoded_labels)"
   ]
  },
  {
   "cell_type": "code",
   "execution_count": 40,
   "id": "0c1f402b-47f8-4c31-855e-d74fe1104a53",
   "metadata": {},
   "outputs": [],
   "source": [
    "# model_report(y_test_hsv, hsv_y_pres_svm, classifier=\"SVM\", features=\"ResNet50 + HOG\")"
   ]
  },
  {
   "cell_type": "code",
   "execution_count": 41,
   "id": "a4426f3a-3759-4dbd-8755-f6c327dc5e55",
   "metadata": {},
   "outputs": [],
   "source": [
    "# hsv_y_pres_logres = logreg_baseline(resnet_hog_features, encoded_labels)"
   ]
  },
  {
   "cell_type": "code",
   "execution_count": 42,
   "id": "178ec9bf-c56e-474c-9c64-54a693e0362c",
   "metadata": {},
   "outputs": [],
   "source": [
    "# model_report(y_test_hsv, hsv_y_pres_logres, classifier=\"Logistic Regression\", features=\"ResNet50 + HOG\")"
   ]
  },
  {
   "cell_type": "markdown",
   "id": "3e95531b-6cc0-43e3-a787-af36549ceeeb",
   "metadata": {},
   "source": [
    "**Models: SVM**"
   ]
  },
  {
   "cell_type": "code",
   "execution_count": 38,
   "id": "808cd0ef-3bd4-4c34-9d65-f5e897fea7be",
   "metadata": {},
   "outputs": [],
   "source": [
    "# Prepare the different feature combinations.\n",
    "features_dict = {\n",
    "    \"HSV\": hsv_pca,\n",
    "    \"HOG\": hog_pca,\n",
    "    \"ResNet50\": resnet_pca,\n",
    "    \"ViT\": vit_pca,\n",
    "    \"HOG+HSV\": hsv_hog_pca,\n",
    "    \"ResNet50+HOG\": resnet_hog_pca,\n",
    "    \"ViT+HSV\": vit_hsv_pca,\n",
    "    \"ResNet50+ViT\": resnet_vit_pca\n",
    "}"
   ]
  },
  {
   "cell_type": "code",
   "execution_count": 45,
   "id": "8b103763-1917-4e12-b888-d7688a33b024",
   "metadata": {},
   "outputs": [],
   "source": [
    "# # Variables to track the best performing model\n",
    "# best_model = None\n",
    "# best_score = -np.inf\n",
    "# best_combination = None\n",
    "# best_cv_score = -np.inf\n",
    "# best_params = None\n",
    "\n",
    "# # To record results for all combinations\n",
    "# results = []"
   ]
  },
  {
   "cell_type": "code",
   "execution_count": 46,
   "id": "2f92a428-136f-48bf-9cfa-d4b0c4bc7113",
   "metadata": {},
   "outputs": [],
   "source": [
    "# # Hyperparameter grid for SVC: two grids for linear and RBF kernels.\n",
    "# param_grid = [\n",
    "#     {'svm__kernel': ['linear'], 'svm__C': [0.1, 1, 10, 100]},\n",
    "#     {'svm__kernel': ['rbf'],    'svm__C': [0.1, 1, 10], 'svm__gamma': [1e-3, 1e-4]}\n",
    "# ]"
   ]
  },
  {
   "cell_type": "code",
   "execution_count": 47,
   "id": "65d74766-07bd-4658-83a6-8e957b86e419",
   "metadata": {},
   "outputs": [],
   "source": [
    "# # Stratified 5-fold for GridSearchCV\n",
    "# cv = StratifiedKFold(n_splits=5, shuffle=True, random_state=42)\n"
   ]
  },
  {
   "cell_type": "code",
   "execution_count": 48,
   "id": "473115c4-7744-49a6-9a98-de57ca8b0b83",
   "metadata": {},
   "outputs": [],
   "source": [
    "# # Loop over each feature combination:\n",
    "# for combo_name, X_features in features_dict.items():\n",
    "#     print(f\"\\nProcessing feature combination: {combo_name}\")\n",
    "    \n",
    "#     # Set X to the current combination and y to labels\n",
    "#     X = X_features\n",
    "#     y = encoded_labels\n",
    "    \n",
    "#     # Split the data with stratification (80% train, 20% validation)\n",
    "#     X_train, X_val, y_train, y_val = train_test_split(\n",
    "#         X, y, stratify=y, test_size=0.2, random_state=42)\n",
    "\n",
    "#     memory = Memory(location='./cache', verbose=0)\n",
    "    \n",
    "#     # Build a pipeline: scaling, PCA (retain 95% variance), then SVM.\n",
    "#     pipeline = Pipeline([\n",
    "#         ('scaler', StandardScaler()),\n",
    "#         ('pca', PCA(n_components=0.95)),  # can also be an int if you wish\n",
    "#         ('svm', SVC(class_weight='balanced', random_state=42))\n",
    "#     ], memory=memory)\n",
    "    \n",
    "#     # Perform GridSearchCV to tune the SVM parameters\n",
    "#     grid_search = GridSearchCV(pipeline, param_grid, cv=cv, n_jobs=-1, scoring='accuracy')\n",
    "#     grid_search.fit(X_train, y_train)\n",
    "    \n",
    "#     # Get best cross-validation score and best parameters for the current combination\n",
    "#     current_cv_score = grid_search.best_score_\n",
    "#     print(f\"  Best CV Score: {current_cv_score:.4f}\")\n",
    "#     print(f\"  Best Parameters: {grid_search.best_params_}\")\n",
    "    \n",
    "#     # Evaluate the best estimator on the validation set\n",
    "#     val_score = grid_search.score(X_val, y_val)\n",
    "#     print(f\"  Validation Score: {val_score:.4f}\")\n",
    "    \n",
    "#     # Record results\n",
    "#     results.append({\n",
    "#         'combination': combo_name,\n",
    "#         'best_cv_score': current_cv_score,\n",
    "#         'validation_score': val_score,\n",
    "#         'best_params': grid_search.best_params_,\n",
    "#         'best_estimator': grid_search.best_estimator_\n",
    "#     })\n",
    "    \n",
    "#     # Update the best model if this combination performed best on validation\n",
    "#     if val_score > best_score:\n",
    "#         best_score = val_score\n",
    "#         best_cv_score = current_cv_score\n",
    "#         best_combination = combo_name\n",
    "#         best_model = grid_search.best_estimator_\n",
    "#         best_params = grid_search.best_params_\n",
    "\n",
    "\n"
   ]
  },
  {
   "cell_type": "code",
   "execution_count": 49,
   "id": "3465b044-42b2-4e30-b27f-34026d90a293",
   "metadata": {},
   "outputs": [],
   "source": [
    "# # Print a summary of results for all combinations\n",
    "# print(\"\\n===== Summary of Feature Combination Results =====\")\n",
    "# for r in results:\n",
    "#     print(f\"Combination: {r['combination']:15s} | Best CV Score: {r['best_cv_score']:.4f} | \"\n",
    "#           f\"Validation Score: {r['validation_score']:.4f} | Params: {r['best_params']}\")\n",
    "    \n",
    "# print(\"\\n===== Best SVM Model Overall =====\")\n",
    "# print(f\"Best Combination: {best_combination}\")\n",
    "# print(f\"Validation Score: {best_score:.4f}\")\n",
    "# print(f\"Best CV Score: {best_cv_score:.4f}\")\n",
    "# print(f\"Best Parameters: {best_params}\")\n",
    "\n",
    "# # Save the best model and its details to a pickle file.\n",
    "# best_model_details = {\n",
    "#     'combination': best_combination,\n",
    "#     'best_cv_score': best_cv_score,\n",
    "#     'validation_score': best_score,\n",
    "#     'best_params': best_params,\n",
    "#     'best_estimator': best_model\n",
    "# }"
   ]
  },
  {
   "cell_type": "code",
   "execution_count": 50,
   "id": "5b3e77f9-fc36-4757-9929-6241c444bd93",
   "metadata": {},
   "outputs": [],
   "source": [
    "# with open(\"best_svm_model.pkl\", \"wb\") as f:\n",
    "#     pickle.dump(best_model_details, f)\n",
    "\n",
    "# print(\"\\nBest SVM model details saved to 'best_svm_model.pkl'\")"
   ]
  },
  {
   "cell_type": "code",
   "execution_count": 51,
   "id": "020e927d-1047-44f4-afdf-47a84dfc3ab4",
   "metadata": {},
   "outputs": [],
   "source": [
    "# # Open the pickle file in read-binary mode\n",
    "# with open(\"Features/best_svm_model.pkl\", \"rb\") as f:\n",
    "#     best_model_details_svm = pickle.load(f)\n",
    "\n",
    "# # Extract the best estimator from the loaded dictionary\n",
    "# best_model_svm = best_model_details['best_estimator']\n",
    "\n",
    "# # (Optional) Print some details about the loaded model\n",
    "# print(\"Loaded model based on feature combination:\", best_model_details_svm['combination'])\n",
    "# print(\"Validation Score:\", best_model_details_svm['validation_score'])"
   ]
  },
  {
   "cell_type": "markdown",
   "id": "253d53ac-0f3a-4270-ae2b-8df7d356bc0a",
   "metadata": {},
   "source": [
    "# **RICHARD RUN THIS:**\n",
    "**Models: Logistic Regression**"
   ]
  },
  {
   "cell_type": "code",
   "execution_count": 24,
   "id": "850a5604-74a4-4613-8483-85ef05d7d900",
   "metadata": {},
   "outputs": [],
   "source": [
    "# Variables to track the best performing logistic regression model\n",
    "best_model = None\n",
    "best_score = -np.inf\n",
    "best_combination = None\n",
    "best_cv_score = -np.inf\n",
    "best_params = None\n",
    "\n",
    "# List to record results from all feature combinations\n",
    "results = []"
   ]
  },
  {
   "cell_type": "code",
   "execution_count": 26,
   "id": "64d59e07-2310-4e62-a301-e9396942f360",
   "metadata": {},
   "outputs": [],
   "source": [
    "# Define hyperparameter grid for Logistic Regression.\n",
    "# We tune the inverse regularization parameter \"C\". (Higher C means lower regularization.)\n",
    "param_grid = {\n",
    "    'logreg__C': [0.01, 0.1, 1, 10, 100]\n",
    "}\n",
    "\n",
    "# Use a stratified 5-fold cross-validation\n",
    "cv = StratifiedKFold(n_splits=5, shuffle=True, random_state=42)"
   ]
  },
  {
   "cell_type": "code",
   "execution_count": 46,
   "id": "f40fda6d-0870-463a-a15c-b492224dd449",
   "metadata": {},
   "outputs": [
    {
     "name": "stdout",
     "output_type": "stream",
     "text": [
      "\n",
      "Processing feature combination: HSV\n"
     ]
    },
    {
     "ename": "TypeError",
     "evalue": "Singleton array array(PCA(n_components=0.95), dtype=object) cannot be considered a valid collection.",
     "output_type": "error",
     "traceback": [
      "\u001b[0;31m---------------------------------------------------------------------------\u001b[0m",
      "\u001b[0;31mTypeError\u001b[0m                                 Traceback (most recent call last)",
      "Cell \u001b[0;32mIn[46], line 10\u001b[0m\n\u001b[1;32m      7\u001b[0m y \u001b[38;5;241m=\u001b[39m encoded_labels\n\u001b[1;32m      9\u001b[0m \u001b[38;5;66;03m# Split the data into training and validation sets (80/20 split) using stratification\u001b[39;00m\n\u001b[0;32m---> 10\u001b[0m X_train, X_val, y_train, y_val \u001b[38;5;241m=\u001b[39m \u001b[43mtrain_test_split\u001b[49m\u001b[43m(\u001b[49m\n\u001b[1;32m     11\u001b[0m \u001b[43m    \u001b[49m\u001b[43mX\u001b[49m\u001b[43m,\u001b[49m\u001b[43m \u001b[49m\u001b[43my\u001b[49m\u001b[43m,\u001b[49m\u001b[43m \u001b[49m\u001b[43mstratify\u001b[49m\u001b[38;5;241;43m=\u001b[39;49m\u001b[43my\u001b[49m\u001b[43m,\u001b[49m\u001b[43m \u001b[49m\u001b[43mtest_size\u001b[49m\u001b[38;5;241;43m=\u001b[39;49m\u001b[38;5;241;43m0.2\u001b[39;49m\u001b[43m,\u001b[49m\u001b[43m \u001b[49m\u001b[43mrandom_state\u001b[49m\u001b[38;5;241;43m=\u001b[39;49m\u001b[38;5;241;43m42\u001b[39;49m\n\u001b[1;32m     12\u001b[0m \u001b[43m\u001b[49m\u001b[43m)\u001b[49m\n\u001b[1;32m     14\u001b[0m smote \u001b[38;5;241m=\u001b[39m SMOTE(random_state\u001b[38;5;241m=\u001b[39m\u001b[38;5;241m42\u001b[39m)\n\u001b[1;32m     15\u001b[0m X_train_bal, y_train_bal \u001b[38;5;241m=\u001b[39m smote\u001b[38;5;241m.\u001b[39mfit_resample(X_train, y_train)\n",
      "File \u001b[0;32m/opt/miniconda3/lib/python3.12/site-packages/sklearn/utils/_param_validation.py:213\u001b[0m, in \u001b[0;36mvalidate_params.<locals>.decorator.<locals>.wrapper\u001b[0;34m(*args, **kwargs)\u001b[0m\n\u001b[1;32m    207\u001b[0m \u001b[38;5;28;01mtry\u001b[39;00m:\n\u001b[1;32m    208\u001b[0m     \u001b[38;5;28;01mwith\u001b[39;00m config_context(\n\u001b[1;32m    209\u001b[0m         skip_parameter_validation\u001b[38;5;241m=\u001b[39m(\n\u001b[1;32m    210\u001b[0m             prefer_skip_nested_validation \u001b[38;5;129;01mor\u001b[39;00m global_skip_validation\n\u001b[1;32m    211\u001b[0m         )\n\u001b[1;32m    212\u001b[0m     ):\n\u001b[0;32m--> 213\u001b[0m         \u001b[38;5;28;01mreturn\u001b[39;00m \u001b[43mfunc\u001b[49m\u001b[43m(\u001b[49m\u001b[38;5;241;43m*\u001b[39;49m\u001b[43margs\u001b[49m\u001b[43m,\u001b[49m\u001b[43m \u001b[49m\u001b[38;5;241;43m*\u001b[39;49m\u001b[38;5;241;43m*\u001b[39;49m\u001b[43mkwargs\u001b[49m\u001b[43m)\u001b[49m\n\u001b[1;32m    214\u001b[0m \u001b[38;5;28;01mexcept\u001b[39;00m InvalidParameterError \u001b[38;5;28;01mas\u001b[39;00m e:\n\u001b[1;32m    215\u001b[0m     \u001b[38;5;66;03m# When the function is just a wrapper around an estimator, we allow\u001b[39;00m\n\u001b[1;32m    216\u001b[0m     \u001b[38;5;66;03m# the function to delegate validation to the estimator, but we replace\u001b[39;00m\n\u001b[1;32m    217\u001b[0m     \u001b[38;5;66;03m# the name of the estimator by the name of the function in the error\u001b[39;00m\n\u001b[1;32m    218\u001b[0m     \u001b[38;5;66;03m# message to avoid confusion.\u001b[39;00m\n\u001b[1;32m    219\u001b[0m     msg \u001b[38;5;241m=\u001b[39m re\u001b[38;5;241m.\u001b[39msub(\n\u001b[1;32m    220\u001b[0m         \u001b[38;5;124mr\u001b[39m\u001b[38;5;124m\"\u001b[39m\u001b[38;5;124mparameter of \u001b[39m\u001b[38;5;124m\\\u001b[39m\u001b[38;5;124mw+ must be\u001b[39m\u001b[38;5;124m\"\u001b[39m,\n\u001b[1;32m    221\u001b[0m         \u001b[38;5;124mf\u001b[39m\u001b[38;5;124m\"\u001b[39m\u001b[38;5;124mparameter of \u001b[39m\u001b[38;5;132;01m{\u001b[39;00mfunc\u001b[38;5;241m.\u001b[39m\u001b[38;5;18m__qualname__\u001b[39m\u001b[38;5;132;01m}\u001b[39;00m\u001b[38;5;124m must be\u001b[39m\u001b[38;5;124m\"\u001b[39m,\n\u001b[1;32m    222\u001b[0m         \u001b[38;5;28mstr\u001b[39m(e),\n\u001b[1;32m    223\u001b[0m     )\n",
      "File \u001b[0;32m/opt/miniconda3/lib/python3.12/site-packages/sklearn/model_selection/_split.py:2657\u001b[0m, in \u001b[0;36mtrain_test_split\u001b[0;34m(test_size, train_size, random_state, shuffle, stratify, *arrays)\u001b[0m\n\u001b[1;32m   2654\u001b[0m \u001b[38;5;28;01mif\u001b[39;00m n_arrays \u001b[38;5;241m==\u001b[39m \u001b[38;5;241m0\u001b[39m:\n\u001b[1;32m   2655\u001b[0m     \u001b[38;5;28;01mraise\u001b[39;00m \u001b[38;5;167;01mValueError\u001b[39;00m(\u001b[38;5;124m\"\u001b[39m\u001b[38;5;124mAt least one array required as input\u001b[39m\u001b[38;5;124m\"\u001b[39m)\n\u001b[0;32m-> 2657\u001b[0m arrays \u001b[38;5;241m=\u001b[39m \u001b[43mindexable\u001b[49m\u001b[43m(\u001b[49m\u001b[38;5;241;43m*\u001b[39;49m\u001b[43marrays\u001b[49m\u001b[43m)\u001b[49m\n\u001b[1;32m   2659\u001b[0m n_samples \u001b[38;5;241m=\u001b[39m _num_samples(arrays[\u001b[38;5;241m0\u001b[39m])\n\u001b[1;32m   2660\u001b[0m n_train, n_test \u001b[38;5;241m=\u001b[39m _validate_shuffle_split(\n\u001b[1;32m   2661\u001b[0m     n_samples, test_size, train_size, default_test_size\u001b[38;5;241m=\u001b[39m\u001b[38;5;241m0.25\u001b[39m\n\u001b[1;32m   2662\u001b[0m )\n",
      "File \u001b[0;32m/opt/miniconda3/lib/python3.12/site-packages/sklearn/utils/validation.py:514\u001b[0m, in \u001b[0;36mindexable\u001b[0;34m(*iterables)\u001b[0m\n\u001b[1;32m    484\u001b[0m \u001b[38;5;250m\u001b[39m\u001b[38;5;124;03m\"\"\"Make arrays indexable for cross-validation.\u001b[39;00m\n\u001b[1;32m    485\u001b[0m \n\u001b[1;32m    486\u001b[0m \u001b[38;5;124;03mChecks consistent length, passes through None, and ensures that everything\u001b[39;00m\n\u001b[0;32m   (...)\u001b[0m\n\u001b[1;32m    510\u001b[0m \u001b[38;5;124;03m[[1, 2, 3], array([2, 3, 4]), None, <3x1 sparse matrix ...>]\u001b[39;00m\n\u001b[1;32m    511\u001b[0m \u001b[38;5;124;03m\"\"\"\u001b[39;00m\n\u001b[1;32m    513\u001b[0m result \u001b[38;5;241m=\u001b[39m [_make_indexable(X) \u001b[38;5;28;01mfor\u001b[39;00m X \u001b[38;5;129;01min\u001b[39;00m iterables]\n\u001b[0;32m--> 514\u001b[0m \u001b[43mcheck_consistent_length\u001b[49m\u001b[43m(\u001b[49m\u001b[38;5;241;43m*\u001b[39;49m\u001b[43mresult\u001b[49m\u001b[43m)\u001b[49m\n\u001b[1;32m    515\u001b[0m \u001b[38;5;28;01mreturn\u001b[39;00m result\n",
      "File \u001b[0;32m/opt/miniconda3/lib/python3.12/site-packages/sklearn/utils/validation.py:454\u001b[0m, in \u001b[0;36mcheck_consistent_length\u001b[0;34m(*arrays)\u001b[0m\n\u001b[1;32m    436\u001b[0m \u001b[38;5;28;01mdef\u001b[39;00m \u001b[38;5;21mcheck_consistent_length\u001b[39m(\u001b[38;5;241m*\u001b[39marrays):\n\u001b[1;32m    437\u001b[0m \u001b[38;5;250m    \u001b[39m\u001b[38;5;124;03m\"\"\"Check that all arrays have consistent first dimensions.\u001b[39;00m\n\u001b[1;32m    438\u001b[0m \n\u001b[1;32m    439\u001b[0m \u001b[38;5;124;03m    Checks whether all objects in arrays have the same shape or length.\u001b[39;00m\n\u001b[0;32m   (...)\u001b[0m\n\u001b[1;32m    451\u001b[0m \u001b[38;5;124;03m    >>> check_consistent_length(a, b)\u001b[39;00m\n\u001b[1;32m    452\u001b[0m \u001b[38;5;124;03m    \"\"\"\u001b[39;00m\n\u001b[0;32m--> 454\u001b[0m     lengths \u001b[38;5;241m=\u001b[39m [\u001b[43m_num_samples\u001b[49m\u001b[43m(\u001b[49m\u001b[43mX\u001b[49m\u001b[43m)\u001b[49m \u001b[38;5;28;01mfor\u001b[39;00m X \u001b[38;5;129;01min\u001b[39;00m arrays \u001b[38;5;28;01mif\u001b[39;00m X \u001b[38;5;129;01mis\u001b[39;00m \u001b[38;5;129;01mnot\u001b[39;00m \u001b[38;5;28;01mNone\u001b[39;00m]\n\u001b[1;32m    455\u001b[0m     uniques \u001b[38;5;241m=\u001b[39m np\u001b[38;5;241m.\u001b[39munique(lengths)\n\u001b[1;32m    456\u001b[0m     \u001b[38;5;28;01mif\u001b[39;00m \u001b[38;5;28mlen\u001b[39m(uniques) \u001b[38;5;241m>\u001b[39m \u001b[38;5;241m1\u001b[39m:\n",
      "File \u001b[0;32m/opt/miniconda3/lib/python3.12/site-packages/sklearn/utils/validation.py:382\u001b[0m, in \u001b[0;36m_num_samples\u001b[0;34m(x)\u001b[0m\n\u001b[1;32m    380\u001b[0m \u001b[38;5;28;01mif\u001b[39;00m \u001b[38;5;28mhasattr\u001b[39m(x, \u001b[38;5;124m\"\u001b[39m\u001b[38;5;124mshape\u001b[39m\u001b[38;5;124m\"\u001b[39m) \u001b[38;5;129;01mand\u001b[39;00m x\u001b[38;5;241m.\u001b[39mshape \u001b[38;5;129;01mis\u001b[39;00m \u001b[38;5;129;01mnot\u001b[39;00m \u001b[38;5;28;01mNone\u001b[39;00m:\n\u001b[1;32m    381\u001b[0m     \u001b[38;5;28;01mif\u001b[39;00m \u001b[38;5;28mlen\u001b[39m(x\u001b[38;5;241m.\u001b[39mshape) \u001b[38;5;241m==\u001b[39m \u001b[38;5;241m0\u001b[39m:\n\u001b[0;32m--> 382\u001b[0m         \u001b[38;5;28;01mraise\u001b[39;00m \u001b[38;5;167;01mTypeError\u001b[39;00m(\n\u001b[1;32m    383\u001b[0m             \u001b[38;5;124m\"\u001b[39m\u001b[38;5;124mSingleton array \u001b[39m\u001b[38;5;132;01m%r\u001b[39;00m\u001b[38;5;124m cannot be considered a valid collection.\u001b[39m\u001b[38;5;124m\"\u001b[39m \u001b[38;5;241m%\u001b[39m x\n\u001b[1;32m    384\u001b[0m         )\n\u001b[1;32m    385\u001b[0m     \u001b[38;5;66;03m# Check that shape is returning an integer or default to len\u001b[39;00m\n\u001b[1;32m    386\u001b[0m     \u001b[38;5;66;03m# Dask dataframes may not return numeric shape[0] value\u001b[39;00m\n\u001b[1;32m    387\u001b[0m     \u001b[38;5;28;01mif\u001b[39;00m \u001b[38;5;28misinstance\u001b[39m(x\u001b[38;5;241m.\u001b[39mshape[\u001b[38;5;241m0\u001b[39m], numbers\u001b[38;5;241m.\u001b[39mIntegral):\n",
      "\u001b[0;31mTypeError\u001b[0m: Singleton array array(PCA(n_components=0.95), dtype=object) cannot be considered a valid collection."
     ]
    }
   ],
   "source": [
    "# Iterate over each feature combination\n",
    "for combo_name, X_features in features_dict.items():\n",
    "    print(f\"\\nProcessing feature combination: {combo_name}\")\n",
    "    \n",
    "    # Use current feature matrix (X) and common labels (y)\n",
    "    X = X_features\n",
    "    y = encoded_labels\n",
    "    \n",
    "    # Split the data into training and validation sets (80/20 split) using stratification\n",
    "    X_train, X_val, y_train, y_val = train_test_split(\n",
    "        X, y, stratify=y, test_size=0.2, random_state=42\n",
    "    )\n",
    "\n",
    "    smote = SMOTE(random_state=42)\n",
    "    X_train_bal, y_train_bal = smote.fit_resample(X_train, y_train)\n",
    "    \n",
    "    # Build the pipeline: scaling -> PCA -> Logistic Regression\n",
    "    # LogisticRegression is set to use multinomial loss, lbfgs solver, and balanced class weights.\n",
    "    pipeline = Pipeline([\n",
    "        # ('scaler', StandardScaler()),\n",
    "        # ('pca', PCA(n_components=0.95)),\n",
    "        ('logreg', LogisticRegression(\n",
    "            multi_class='multinomial', \n",
    "            solver='lbfgs', \n",
    "            class_weight='balanced', \n",
    "            random_state=42, \n",
    "            max_iter=500\n",
    "        ))\n",
    "    ])\n",
    "    \n",
    "    # Set up GridSearchCV on the pipeline using the defined hyperparameter grid.\n",
    "    grid_search = GridSearchCV(\n",
    "        pipeline, \n",
    "        param_grid, \n",
    "        cv=cv, \n",
    "        n_jobs=-1, \n",
    "        scoring='accuracy'\n",
    "    )\n",
    "    \n",
    "    # Run hyperparameter tuning\n",
    "    grid_search.fit(X_train, y_train)\n",
    "    \n",
    "    # Get best cross-validation score and parameters\n",
    "    current_cv_score = grid_search.best_score_\n",
    "    print(f\"  Best CV Score: {current_cv_score:.4f}\")\n",
    "    print(f\"  Best Parameters: {grid_search.best_params_}\")\n",
    "    \n",
    "    # Evaluate the best estimator on the held-out validation set\n",
    "    val_score = grid_search.score(X_val, y_val)\n",
    "    print(f\"  Validation Score: {val_score:.4f}\")\n",
    "    \n",
    "    # Record all results in a list\n",
    "    results.append({\n",
    "        'combination': combo_name,\n",
    "        'best_cv_score': current_cv_score,\n",
    "        'validation_score': val_score,\n",
    "        'best_params': grid_search.best_params_,\n",
    "        'best_estimator': grid_search.best_estimator_\n",
    "    })\n",
    "    \n",
    "    # Update the best model if the current validation score is higher than the best so far\n",
    "    if val_score > best_score:\n",
    "        best_score = val_score\n",
    "        best_cv_score = current_cv_score\n",
    "        best_combination = combo_name\n",
    "        best_model = grid_search.best_estimator_\n",
    "        best_params = grid_search.best_params_"
   ]
  },
  {
   "cell_type": "code",
   "execution_count": 56,
   "id": "6c014ceb-8687-4cce-9d82-1b931e5ea224",
   "metadata": {},
   "outputs": [],
   "source": [
    "# Print a summary of all feature combination results\n",
    "print(\"\\n===== Summary of Feature Combination Results =====\")\n",
    "for r in results:\n",
    "    print(f\"Combination: {r['combination']:15s} | Best CV Score: {r['best_cv_score']:.4f} | \"\n",
    "          f\"Validation Score: {r['validation_score']:.4f} | Params: {r['best_params']}\")\n",
    "\n",
    "print(\"\\n===== Best Logistic Regression Model Overall =====\")\n",
    "print(f\"Best Combination: {best_combination}\")\n",
    "print(f\"Validation Score: {best_score:.4f}\")\n",
    "print(f\"Best CV Score: {best_cv_score:.4f}\")\n",
    "print(f\"Best Parameters: {best_params}\")"
   ]
  },
  {
   "cell_type": "code",
   "execution_count": 57,
   "id": "91ed3daf-2541-41df-bd76-84f88df63aa1",
   "metadata": {},
   "outputs": [],
   "source": [
    "# Save the best logistic regression model and details to a pickle file.\n",
    "best_model_details = {\n",
    "    'combination': best_combination,\n",
    "    'best_cv_score': best_cv_score,\n",
    "    'validation_score': best_score,\n",
    "    'best_params': best_params,\n",
    "    'best_estimator': best_model\n",
    "}\n",
    "\n",
    "with open(\"best_logreg_model.pkl\", \"wb\") as f:\n",
    "    pickle.dump(best_model_details, f)\n",
    "\n",
    "print(\"\\nBest Logistic Regression model details saved to 'best_logreg_model.pkl'\")"
   ]
  },
  {
   "cell_type": "code",
   "execution_count": 58,
   "id": "cbca71ed-1e9e-4bc0-bbd6-31444bcd0d4c",
   "metadata": {},
   "outputs": [
    {
     "name": "stdout",
     "output_type": "stream",
     "text": [
      "Loaded model based on feature combination: ResNet50+ViT\n",
      "Validation Score: 0.2631129335383564\n"
     ]
    },
    {
     "name": "stderr",
     "output_type": "stream",
     "text": [
      "/opt/miniconda3/lib/python3.12/site-packages/sklearn/base.py:376: InconsistentVersionWarning: Trying to unpickle estimator StandardScaler from version 1.6.1 when using version 1.4.2. This might lead to breaking code or invalid results. Use at your own risk. For more info please refer to:\n",
      "https://scikit-learn.org/stable/model_persistence.html#security-maintainability-limitations\n",
      "  warnings.warn(\n",
      "/opt/miniconda3/lib/python3.12/site-packages/sklearn/base.py:376: InconsistentVersionWarning: Trying to unpickle estimator PCA from version 1.6.1 when using version 1.4.2. This might lead to breaking code or invalid results. Use at your own risk. For more info please refer to:\n",
      "https://scikit-learn.org/stable/model_persistence.html#security-maintainability-limitations\n",
      "  warnings.warn(\n",
      "/opt/miniconda3/lib/python3.12/site-packages/sklearn/base.py:376: InconsistentVersionWarning: Trying to unpickle estimator LogisticRegression from version 1.6.1 when using version 1.4.2. This might lead to breaking code or invalid results. Use at your own risk. For more info please refer to:\n",
      "https://scikit-learn.org/stable/model_persistence.html#security-maintainability-limitations\n",
      "  warnings.warn(\n",
      "/opt/miniconda3/lib/python3.12/site-packages/sklearn/base.py:376: InconsistentVersionWarning: Trying to unpickle estimator Pipeline from version 1.6.1 when using version 1.4.2. This might lead to breaking code or invalid results. Use at your own risk. For more info please refer to:\n",
      "https://scikit-learn.org/stable/model_persistence.html#security-maintainability-limitations\n",
      "  warnings.warn(\n"
     ]
    }
   ],
   "source": [
    "# Open the pickle file in read-binary mode\n",
    "with open(\"Features/best_logreg_model.pkl\", \"rb\") as f:\n",
    "    best_model_details_logreg = pickle.load(f)\n",
    "\n",
    "# Extract the best estimator from the loaded dictionary\n",
    "best_model_logreg = best_model_details_logreg['best_estimator']\n",
    "\n",
    "# (Optional) Print some details about the loaded model\n",
    "print(\"Loaded model based on feature combination:\", best_model_details_logreg['combination'])\n",
    "print(\"Validation Score:\", best_model_details_logreg['validation_score'])"
   ]
  },
  {
   "cell_type": "markdown",
   "id": "78b9ab95-5359-4677-8626-5ea569a9b72c",
   "metadata": {},
   "source": [
    "**Modeling: Advanced Model using CLIP for Zero-shot Movie Poster Genre Classification**"
   ]
  },
  {
   "cell_type": "code",
   "execution_count": 60,
   "id": "dfd00c92-548a-4271-bdfe-915a56386923",
   "metadata": {},
   "outputs": [
    {
     "name": "stdout",
     "output_type": "stream",
     "text": [
      "Using device: mps\n"
     ]
    }
   ],
   "source": [
    "# Check device: use GPU if available.\n",
    "if torch.backends.mps.is_available():\n",
    "    device = torch.device(\"mps\")\n",
    "elif torch.cuda.is_available():\n",
    "    device = torch.device(\"cuda\")\n",
    "else:\n",
    "    device = torch.device(\"cpu\")\n",
    "\n",
    "print(\"Using device:\", device)\n"
   ]
  },
  {
   "cell_type": "code",
   "execution_count": 61,
   "id": "c679c50f-aac3-493b-b85d-030ab9100a5b",
   "metadata": {},
   "outputs": [
    {
     "name": "stdout",
     "output_type": "stream",
     "text": [
      "Unique genres: ['Action/Adventure', 'Comedy/Romance', 'Drama', 'Historical/Biography', 'Music/Musical', 'Sci-Fi/Fantasy', 'Sport/News', 'Suspense', 'War/Crime', 'Western/Family']\n"
     ]
    }
   ],
   "source": [
    "# # Load the CLIP model and preprocessing pipeline.\n",
    "# # Here we use the \"ViT-B/32\" variant.\n",
    "# model, preprocess = clip.load(\"ViT-B/32\", device=device)\n",
    "\n",
    "# # Load movie information from CSV.\n",
    "# df = pd.read_csv(\"movie_df_clean.csv\")\n",
    "\n",
    "# # The ground-truth label is in the 'reduced_genre' column.\n",
    "# # Create a sorted list of the unique genres (this will serve as the classes).\n",
    "# unique_genres = sorted(df['reduced_genre'].unique())\n",
    "# print(\"Unique genres:\", unique_genres)\n",
    "\n",
    "# # Create text prompts for zero-shot classification.\n",
    "# # For each genre, we generate a prompt that describes a movie poster.\n",
    "# text_prompts = [f\"a movie poster for a {genre} film\" for genre in unique_genres]\n",
    "\n",
    "# # Tokenize the text prompts (this converts them into tensors compatible with CLIP).\n",
    "# text_inputs = clip.tokenize(text_prompts).to(device)\n",
    "\n",
    "# # Prepare lists to store predictions and ground truth labels.\n",
    "# predicted_labels = []\n",
    "# true_labels = []\n",
    "\n",
    "# # Directory containing the movie poster images.\n",
    "# images_dir = os.path.join(\"Data\", \"WithText\")"
   ]
  },
  {
   "cell_type": "code",
   "execution_count": 62,
   "id": "2217b8d9-4c37-47dd-b05f-1ebf55756349",
   "metadata": {},
   "outputs": [],
   "source": [
    "# # Iterate over each row in the CSV.\n",
    "# for index, row in df.iterrows():\n",
    "#     tconst = row['tconst']\n",
    "#     true_label = row['reduced_genre']\n",
    "    \n",
    "#     # Build the image file path (assumes images are named e.g., \"tt3608918.jpg\")\n",
    "#     image_filename = f\"{tconst}.jpg\"\n",
    "#     image_path = os.path.join(images_dir, image_filename)\n",
    "    \n",
    "#     # If the image file does not exist, skip this row (or you might choose to handle differently)\n",
    "#     if not os.path.exists(image_path):\n",
    "#         print(f\"Image {image_path} not found. Skipping...\")\n",
    "#         continue\n",
    "    \n",
    "#     # Load and preprocess the image.\n",
    "#     image = Image.open(image_path).convert(\"RGB\")\n",
    "#     image_input = preprocess(image).unsqueeze(0).to(device)\n",
    "    \n",
    "#     # Use CLIP to compute features for the image and compare with text prompts.\n",
    "#     with torch.no_grad():\n",
    "#         # Encode image and text features\n",
    "#         image_features = model.encode_image(image_input)\n",
    "#         text_features = model.encode_text(text_inputs)\n",
    "        \n",
    "#         # Normalize feature vectors.\n",
    "#         image_features = image_features / image_features.norm(dim=-1, keepdim=True)\n",
    "#         text_features = text_features / text_features.norm(dim=-1, keepdim=True)\n",
    "        \n",
    "#         # Compute cosine similarity between image and each text prompt.\n",
    "#         # The result is a vector of similarity scores.\n",
    "#         logits = (image_features @ text_features.T).squeeze(0)\n",
    "#         probs = logits.softmax(dim=0).cpu().numpy()\n",
    "    \n",
    "#     # The predicted genre is the one with the highest probability.\n",
    "#     pred_index = np.argmax(probs)\n",
    "#     pred_label = unique_genres[pred_index]\n",
    "    \n",
    "#     predicted_labels.append(pred_label)\n",
    "#     true_labels.append(true_label)"
   ]
  },
  {
   "cell_type": "code",
   "execution_count": 63,
   "id": "f1d9a494-defa-4c33-ab49-9d12d2841240",
   "metadata": {},
   "outputs": [],
   "source": [
    "# # Save the final CLIP model\n",
    "# torch.save(model.state_dict(), \"best_clip_finetuned_model.pth\")"
   ]
  },
  {
   "cell_type": "code",
   "execution_count": 64,
   "id": "8a8ff789-3ee0-4e73-ab7d-a11d4216873d",
   "metadata": {},
   "outputs": [],
   "source": [
    "# # Saving predictions:\n",
    "# with open(\"predictions.pkl\", \"wb\") as f:\n",
    "#     pickle.dump((true_labels, predicted_labels), f)\n",
    "\n",
    "# Later, to load:\n",
    "with open(\"predictions.pkl\", \"rb\") as f:\n",
    "    true_labels, predicted_labels = pickle.load(f)"
   ]
  },
  {
   "cell_type": "code",
   "execution_count": 65,
   "id": "20c6f1fe-0389-4ec9-88f9-add6e6242ce6",
   "metadata": {},
   "outputs": [],
   "source": [
    "# Reinitialize the CLIP model architecture (must be the same as what you used)\n",
    "model, preprocess = clip.load(\"ViT-B/32\", device=device)\n",
    "# Load the saved weights\n",
    "model.load_state_dict(torch.load(\"best_clip_finetuned_model.pth\"))\n",
    "model.to(device)"
   ]
  },
  {
   "cell_type": "code",
   "execution_count": 66,
   "id": "5eb28cbd-f4b2-4e5f-b202-1ad90f157348",
   "metadata": {},
   "outputs": [
    {
     "name": "stdout",
     "output_type": "stream",
     "text": [
      "\n",
      "=== Classification Report ===\n",
      "                      precision    recall  f1-score   support\n",
      "\n",
      "    Action/Adventure       0.35      0.17      0.23      2334\n",
      "      Comedy/Romance       0.52      0.13      0.21      4920\n",
      "               Drama       0.55      0.37      0.44     10803\n",
      "Historical/Biography       0.32      0.30      0.31      3371\n",
      "       Music/Musical       0.15      0.66      0.25      1747\n",
      "      Sci-Fi/Fantasy       0.25      0.14      0.18       730\n",
      "          Sport/News       0.23      0.59      0.34       836\n",
      "            Suspense       0.24      0.38      0.30      2533\n",
      "           War/Crime       0.19      0.24      0.21      1371\n",
      "      Western/Family       0.12      0.11      0.11       620\n",
      "\n",
      "            accuracy                           0.31     29265\n",
      "           macro avg       0.29      0.31      0.26     29265\n",
      "        weighted avg       0.41      0.31      0.32     29265\n",
      "\n",
      "=== Confusion Matrix ===\n",
      "[[ 390   28  422  178  621   51  263  198  108   75]\n",
      " [  97  653 1353  388 1423   24  248  552  119   63]\n",
      " [ 183  411 4022  967 2340   79  480 1542  610  169]\n",
      " [  58   35  459 1011  864   47  320  216  312   49]\n",
      " [  23   28  147  183 1158   21   57   58   49   23]\n",
      " [  73   18  113   50  199  103   57   84   14   19]\n",
      " [  35    5   43   44  107   14  496   29   48   15]\n",
      " [ 158   35  378  139  511   54   85  968  160   45]\n",
      " [  75   14  215  157  177    8   73  306  328   18]\n",
      " [  10   19  195   51  172    4   35   57   11   66]]\n"
     ]
    }
   ],
   "source": [
    "# Evaluate the zero-shot classification performance.\n",
    "print(\"\\n=== Classification Report ===\")\n",
    "print(classification_report(true_labels, predicted_labels))\n",
    "\n",
    "# Compute and print the confusion matrix.\n",
    "cm = confusion_matrix(true_labels, predicted_labels, labels=unique_genres)\n",
    "print(\"=== Confusion Matrix ===\")\n",
    "print(cm)"
   ]
  },
  {
   "cell_type": "code",
   "execution_count": 67,
   "id": "ac0549fc-d448-437f-9b75-995b1500e1d3",
   "metadata": {},
   "outputs": [
    {
     "data": {
      "image/png": "[encoded data removed]",
      "text/plain": [
       "<Figure size 1000x800 with 2 Axes>"
      ]
     },
     "metadata": {},
     "output_type": "display_data"
    }
   ],
   "source": [
    "\n",
    "# Plot the confusion matrix for better visualization.\n",
    "plt.figure(figsize=(10, 8))\n",
    "sns.heatmap(cm, annot=True, fmt='d', cmap='Blues', xticklabels=unique_genres, yticklabels=unique_genres)\n",
    "plt.xlabel(\"Predicted Genre\", fontsize=12)\n",
    "plt.ylabel(\"True Genre\", fontsize=12)\n",
    "plt.title(\"Confusion Matrix for CLIP Zero-Shot Genre Classification\", fontsize=14)\n",
    "plt.tight_layout()\n",
    "plt.show()"
   ]
  },
  {
   "cell_type": "code",
   "execution_count": 68,
   "id": "86fa4f2f-14c4-4dab-a193-46f123c4f42f",
   "metadata": {},
   "outputs": [
    {
     "name": "stdout",
     "output_type": "stream",
     "text": [
      "Accuracy Score: 31.42%\n"
     ]
    }
   ],
   "source": [
    "accuracy_CLIP = accuracy_score(true_labels, predicted_labels)\n",
    "print(\"Accuracy Score: {:.2%}\".format(accuracy_CLIP))"
   ]
  },
  {
   "cell_type": "markdown",
   "id": "136c346b-f14a-4cb8-99b9-28a15f3326fb",
   "metadata": {},
   "source": [
    "**CNN (Resnet 50) with Dense Layer**"
   ]
  },
  {
   "cell_type": "code",
   "execution_count": 60,
   "id": "11e420d8-68ce-4a9c-b7ff-0af605db81d7",
   "metadata": {},
   "outputs": [],
   "source": [
    "# Set a random seed for reproducibility.\n",
    "tf.random.set_seed(42)\n",
    "np.random.seed(42)\n",
    "\n",
    "# Define target size for the network (width, height)\n",
    "TARGET_SIZE = (224, 224)"
   ]
  },
  {
   "cell_type": "code",
   "execution_count": 62,
   "id": "fe7e7bd4-ec57-4a97-b2ea-35b2a523bd2b",
   "metadata": {},
   "outputs": [],
   "source": [
    "# Step 2: Define a function to resize an image while preserving aspect ratio and pad it to the target size.\n",
    "def resize_with_padding(image, target_size):\n",
    "    \"\"\"\n",
    "    Resize a PIL Image while keeping its aspect ratio and pad it to the target size.\n",
    "    \n",
    "    Parameters:\n",
    "        image (PIL.Image): The input image.\n",
    "        target_size (tuple): Desired (width, height) output size.\n",
    "        \n",
    "    Returns:\n",
    "        new_image (PIL.Image): Image resized and padded to the target size.\n",
    "    \"\"\"\n",
    "    target_width, target_height = target_size\n",
    "    original_width, original_height = image.size\n",
    "    \n",
    "    # Calculate scale factor while preserving aspect ratio.\n",
    "    scale = min(target_width / original_width, target_height / original_height)\n",
    "    new_width = int(original_width * scale)\n",
    "    new_height = int(original_height * scale)\n",
    "    \n",
    "    # Use Image.Resampling.LANCZOS for high-quality downsampling.\n",
    "    resized_image = image.resize((new_width, new_height), resample=Image.Resampling.LANCZOS)\n",
    "    \n",
    "    # Create a new image with a black background and paste the resized image centered.\n",
    "    new_image = Image.new(\"RGB\", (target_width, target_height))\n",
    "    paste_x = (target_width - new_width) // 2\n",
    "    paste_y = (target_height - new_height) // 2\n",
    "    new_image.paste(resized_image, (paste_x, paste_y))\n",
    "    \n",
    "    return new_image"
   ]
  },
  {
   "cell_type": "code",
   "execution_count": 64,
   "id": "68d1e41e-d5ce-462c-963e-5a8bc46f1bb7",
   "metadata": {},
   "outputs": [],
   "source": [
    "# Step 3: Define a function to load and preprocess an image from disk.\n",
    "def load_and_preprocess_image(tconst, target_size=TARGET_SIZE):\n",
    "    \"\"\"\n",
    "    Load an image from a given tconst (movie id), resize it using padding,\n",
    "    and convert it to an array.\n",
    "    \n",
    "    Parameters:\n",
    "        tconst (str): IMDb identifier of the movie (used for filename).\n",
    "        target_size (tuple): Desired image output size as (width, height).\n",
    "    \n",
    "    Returns:\n",
    "        img_array (numpy.ndarray): Processed image array.\n",
    "    \"\"\"\n",
    "    images_dir = os.path.join(\"Data\", \"WithText\")\n",
    "    image_path = os.path.join(images_dir, f\"{tconst}.jpg\")\n",
    "    if not os.path.exists(image_path):\n",
    "        return None\n",
    "    # Open the image using PIL.\n",
    "    image = Image.open(image_path).convert(\"RGB\")\n",
    "    # Resize with padding.\n",
    "    image = resize_with_padding(image, target_size)\n",
    "    # Convert to array.\n",
    "    img_array = img_to_array(image)\n",
    "    # Optionally, you could scale pixel values here (e.g., divide by 255.0) but we let the model's preprocess layer do that.\n",
    "    return img_array"
   ]
  },
  {
   "cell_type": "code",
   "execution_count": 66,
   "id": "734ce691-6dae-43a9-8866-7c427a7b401b",
   "metadata": {},
   "outputs": [],
   "source": [
    "# Step 4: Load the CSV with movie data and build labels.\n",
    "df = pd.read_csv(\"movie_df_clean.csv\")\n",
    "# We use the 'reduced_genre' column as the label.\n",
    "unique_genres = sorted(df['reduced_genre'].unique())\n",
    "genre_to_index = {genre: i for i, genre in enumerate(unique_genres)}\n",
    "df['label'] = df['reduced_genre'].map(genre_to_index)"
   ]
  },
  {
   "cell_type": "code",
   "execution_count": 68,
   "id": "e5fac32b-408f-45b9-8dd6-79ea4c57f63b",
   "metadata": {},
   "outputs": [
    {
     "name": "stdout",
     "output_type": "stream",
     "text": [
      "Loaded images shape: (29265, 224, 224, 3)\n",
      "Labels shape: (29265,)\n",
      "Unique genres: ['Action/Adventure', 'Comedy/Romance', 'Drama', 'Historical/Biography', 'Music/Musical', 'Sci-Fi/Fantasy', 'Sport/News', 'Suspense', 'War/Crime', 'Western/Family']\n"
     ]
    }
   ],
   "source": [
    "# Step 5: Load images and their labels.\n",
    "image_list = []\n",
    "label_list = []\n",
    "tconst_list = []\n",
    "\n",
    "for idx, row in df.iterrows():\n",
    "    tconst = row['tconst']\n",
    "    img_array = load_and_preprocess_image(tconst)\n",
    "    if img_array is None:\n",
    "        print(f\"Image for {tconst} not found. Skipping...\")\n",
    "        continue\n",
    "    image_list.append(img_array)\n",
    "    label_list.append(row['label'])\n",
    "    tconst_list.append(tconst)\n",
    "\n",
    "# Convert lists to numpy arrays.\n",
    "X = np.array(image_list)  # Shape: (n_samples, height, width, 3)\n",
    "y = np.array(label_list)\n",
    "\n",
    "print(\"Loaded images shape:\", X.shape)\n",
    "print(\"Labels shape:\", y.shape)\n",
    "print(\"Unique genres:\", unique_genres)"
   ]
  },
  {
   "cell_type": "code",
   "execution_count": 69,
   "id": "6e55bf22-7c0e-439b-bbb5-81f4ad58a750",
   "metadata": {},
   "outputs": [
    {
     "name": "stdout",
     "output_type": "stream",
     "text": [
      "Training set: (23412, 224, 224, 3) (23412,)\n",
      "Validation set: (5853, 224, 224, 3) (5853,)\n"
     ]
    }
   ],
   "source": [
    "# Step 6: Split the dataset into training and validation sets (stratified).\n",
    "X_train, X_val, y_train, y_val = train_test_split(\n",
    "    X, y, stratify=y, test_size=0.2, random_state=42\n",
    ")\n",
    "print(\"Training set:\", X_train.shape, y_train.shape)\n",
    "print(\"Validation set:\", X_val.shape, y_val.shape)\n"
   ]
  },
  {
   "cell_type": "code",
   "execution_count": 70,
   "id": "6526ceaf-b9c1-4e9f-96be-209ceecfce77",
   "metadata": {},
   "outputs": [],
   "source": [
    "# Step 7: Build a model-building function using a ResNet50 base.\n",
    "num_classes = len(unique_genres)\n",
    "\n",
    "def build_model(dropout_rate=0.5, dense_units=256, learning_rate=1e-3, trainable_base=False):\n",
    "    \"\"\"\n",
    "    Build a CNN model using a pre-trained ResNet50 with a custom dense classification head.\n",
    "    \n",
    "    Hyperparameters:\n",
    "        dropout_rate (float): Rate of dropout for the dense classifier.\n",
    "        dense_units (int): Number of units in the dense layer.\n",
    "        learning_rate (float): Learning rate for the optimizer.\n",
    "        trainable_base (bool): Whether to fine-tune the ResNet50 base.\n",
    "    \n",
    "    Returns:\n",
    "        model (tf.keras.Model): Compiled Keras model.\n",
    "    \"\"\"\n",
    "    # Define the input shape based on the target size.\n",
    "    inputs = tf.keras.Input(shape=(TARGET_SIZE[1], TARGET_SIZE[0], 3))  # (height, width, channels)\n",
    "    \n",
    "    # Preprocess inputs using ResNet50 preprocessing.\n",
    "    # Note: The tf.keras.applications.resnet.preprocess_input function expects input pixels in range 0-255.\n",
    "    x = tf.keras.applications.resnet.preprocess_input(inputs)\n",
    "    \n",
    "    # Load the ResNet50 base (exclude the top classification layer).\n",
    "    base_model = tf.keras.applications.ResNet50(\n",
    "        weights='imagenet',\n",
    "        include_top=False,\n",
    "        input_tensor=x\n",
    "    )\n",
    "    base_model.trainable = trainable_base  # Optionally fine-tune the base.\n",
    "    \n",
    "    # Global Average Pooling to convert feature maps to a single vector.\n",
    "    x = layers.GlobalAveragePooling2D()(base_model.output)\n",
    "    # Add a fully-connected layer (dense layer) with dropout.\n",
    "    x = layers.Dense(dense_units, activation='relu')(x)\n",
    "    x = layers.Dropout(dropout_rate)(x)\n",
    "    # Final classification layer.\n",
    "    outputs = layers.Dense(num_classes, activation='softmax')(x)\n",
    "    \n",
    "    model = models.Model(inputs, outputs)\n",
    "    \n",
    "    # Compile the model.\n",
    "    model.compile(\n",
    "        optimizer=optimizers.Adam(learning_rate=learning_rate),\n",
    "        loss='sparse_categorical_crossentropy',\n",
    "        metrics=['accuracy']\n",
    "    )\n",
    "    \n",
    "    return model"
   ]
  },
  {
   "cell_type": "code",
   "execution_count": 72,
   "id": "89c51c91-edcd-4239-a028-c5d7dd45134b",
   "metadata": {},
   "outputs": [],
   "source": [
    "# Step 8: Wrap the model with scikeras' KerasClassifier for hyperparameter tuning.\n",
    "keras_clf = KerasClassifier(\n",
    "    model=build_model,\n",
    "    epochs=5,            # Adjust number of epochs as needed.\n",
    "    batch_size=32,\n",
    "    verbose=1,\n",
    "    # These parameters will be tuned:\n",
    "    dropout_rate=0.5,\n",
    "    dense_units=256,\n",
    "    learning_rate=1e-3,\n",
    "    trainable_base=False,\n",
    "    random_state=42\n",
    ")\n",
    "\n",
    "# Define hyperparameter grid.\n",
    "param_grid = {\n",
    "    'dropout_rate': [0.3, 0.5],\n",
    "    'dense_units': [256, 512],\n",
    "    'learning_rate': [1e-3, 1e-4],\n",
    "    'trainable_base': [False, True],\n",
    "}\n",
    "\n",
    "# Use stratified K-Fold cross-validation.\n",
    "cv = StratifiedKFold(n_splits=3, shuffle=True, random_state=42)\n",
    "\n",
    "# Create GridSearchCV object.\n",
    "grid = GridSearchCV(estimator=keras_clf, param_grid=param_grid, cv=cv, n_jobs=-1, scoring='accuracy')\n"
   ]
  },
  {
   "cell_type": "code",
   "execution_count": null,
   "id": "cc5c88e5-7f46-4b80-9030-de3aa983945b",
   "metadata": {},
   "outputs": [
    {
     "name": "stdout",
     "output_type": "stream",
     "text": [
      "Starting hyperparameter tuning...\n"
     ]
    }
   ],
   "source": [
    "# Step 9: Run hyperparameter tuning.\n",
    "print(\"Starting hyperparameter tuning...\")\n",
    "grid_result = grid.fit(X_train, y_train)\n",
    "\n",
    "print(\"\\nBest cross-validation score: {:.4f}\".format(grid_result.best_score_))\n",
    "print(\"Best hyperparameters:\", grid_result.best_params_)\n"
   ]
  },
  {
   "cell_type": "code",
   "execution_count": null,
   "id": "c5277e6b-06cd-4a89-b58b-d0cd94345598",
   "metadata": {},
   "outputs": [],
   "source": [
    "# Step 10: Evaluate the best estimator on the validation set.\n",
    "val_accuracy = grid_result.score(X_val, y_val)\n",
    "print(\"Validation accuracy: {:.2%}\".format(val_accuracy))"
   ]
  },
  {
   "cell_type": "code",
   "execution_count": null,
   "id": "3b54404d-bfd5-487f-a070-8ea978cd9d03",
   "metadata": {},
   "outputs": [],
   "source": [
    "# Step 11: Save the best model.\n",
    "# The best model (a scikeras wrapper) holds the Keras model in .model attribute.\n",
    "best_model = grid_result.best_estimator_.model\n",
    "best_model.save(\"best_resnet50_model.h5\")\n",
    "print(\"Best CNN (ResNet50 + Dense) model saved to 'best_resnet50_model.h5'\")"
   ]
  }
 ],
 "metadata": {
  "kernelspec": {
   "display_name": "Python [conda env:base] *",
   "language": "python",
   "name": "conda-base-py"
  },
  "language_info": {
   "codemirror_mode": {
    "name": "ipython",
    "version": 3
   },
   "file_extension": ".py",
   "mimetype": "text/x-python",
   "name": "python",
   "nbconvert_exporter": "python",
   "pygments_lexer": "ipython3",
   "version": "3.12.2"
  }
 },
 "nbformat": 4,
 "nbformat_minor": 5
}
